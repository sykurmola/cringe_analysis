{
 "cells": [
  {
   "cell_type": "code",
   "execution_count": 1,
   "id": "d6fa81ee",
   "metadata": {},
   "outputs": [],
   "source": [
    "import pandas as pd\n",
    "import numpy as np"
   ]
  },
  {
   "cell_type": "code",
   "execution_count": 2,
   "id": "584b4acd",
   "metadata": {},
   "outputs": [
    {
     "data": {
      "text/html": [
       "<div>\n",
       "<style scoped>\n",
       "    .dataframe tbody tr th:only-of-type {\n",
       "        vertical-align: middle;\n",
       "    }\n",
       "\n",
       "    .dataframe tbody tr th {\n",
       "        vertical-align: top;\n",
       "    }\n",
       "\n",
       "    .dataframe thead th {\n",
       "        text-align: right;\n",
       "    }\n",
       "</style>\n",
       "<table border=\"1\" class=\"dataframe\">\n",
       "  <thead>\n",
       "    <tr style=\"text-align: right;\">\n",
       "      <th></th>\n",
       "      <th>client</th>\n",
       "      <th>month</th>\n",
       "      <th>category</th>\n",
       "      <th>device</th>\n",
       "      <th>place</th>\n",
       "      <th>bannertype</th>\n",
       "      <th>querytype (search only)</th>\n",
       "      <th>targetingtype</th>\n",
       "      <th>shows</th>\n",
       "      <th>clicks</th>\n",
       "      <th>cost</th>\n",
       "      <th>conversions</th>\n",
       "    </tr>\n",
       "  </thead>\n",
       "  <tbody>\n",
       "    <tr>\n",
       "      <th>0</th>\n",
       "      <td>Псилон</td>\n",
       "      <td>4/1/2021</td>\n",
       "      <td>РАСЧЕТНО-КАССОВОЕ ОБСЛУЖИВАНИЕ</td>\n",
       "      <td>Desktop</td>\n",
       "      <td>Networks</td>\n",
       "      <td>cpc_video</td>\n",
       "      <td>none</td>\n",
       "      <td>Phrase</td>\n",
       "      <td>0</td>\n",
       "      <td>0</td>\n",
       "      <td>0</td>\n",
       "      <td>0</td>\n",
       "    </tr>\n",
       "    <tr>\n",
       "      <th>1</th>\n",
       "      <td>Псилон</td>\n",
       "      <td>4/1/2021</td>\n",
       "      <td>РАСЧЕТНО-КАССОВОЕ ОБСЛУЖИВАНИЕ</td>\n",
       "      <td>Desktop</td>\n",
       "      <td>Networks</td>\n",
       "      <td>cpc_video</td>\n",
       "      <td>none</td>\n",
       "      <td>Retargeting</td>\n",
       "      <td>5949</td>\n",
       "      <td>41</td>\n",
       "      <td>1666,844364</td>\n",
       "      <td>0</td>\n",
       "    </tr>\n",
       "    <tr>\n",
       "      <th>2</th>\n",
       "      <td>Псилон</td>\n",
       "      <td>4/1/2021</td>\n",
       "      <td>РАСЧЕТНО-КАССОВОЕ ОБСЛУЖИВАНИЕ</td>\n",
       "      <td>Mobile</td>\n",
       "      <td>Networks</td>\n",
       "      <td>cpc_video</td>\n",
       "      <td>none</td>\n",
       "      <td>Retargeting</td>\n",
       "      <td>191</td>\n",
       "      <td>6</td>\n",
       "      <td>40,64191525</td>\n",
       "      <td>0</td>\n",
       "    </tr>\n",
       "    <tr>\n",
       "      <th>3</th>\n",
       "      <td>Гамма</td>\n",
       "      <td>4/1/2021</td>\n",
       "      <td>РАСЧЕТНО-КАССОВОЕ ОБСЛУЖИВАНИЕ</td>\n",
       "      <td>Desktop</td>\n",
       "      <td>Networks</td>\n",
       "      <td>image_ad</td>\n",
       "      <td>none</td>\n",
       "      <td>Retargeting</td>\n",
       "      <td>227</td>\n",
       "      <td>1</td>\n",
       "      <td>45,74740678</td>\n",
       "      <td>0</td>\n",
       "    </tr>\n",
       "    <tr>\n",
       "      <th>4</th>\n",
       "      <td>Гамма</td>\n",
       "      <td>4/1/2021</td>\n",
       "      <td>РАСЧЕТНО-КАССОВОЕ ОБСЛУЖИВАНИЕ</td>\n",
       "      <td>Mobile</td>\n",
       "      <td>Networks</td>\n",
       "      <td>image_ad</td>\n",
       "      <td>none</td>\n",
       "      <td>Retargeting</td>\n",
       "      <td>18</td>\n",
       "      <td>0</td>\n",
       "      <td>0</td>\n",
       "      <td>0</td>\n",
       "    </tr>\n",
       "  </tbody>\n",
       "</table>\n",
       "</div>"
      ],
      "text/plain": [
       "   client     month                        category   device     place  \\\n",
       "0  Псилон  4/1/2021  РАСЧЕТНО-КАССОВОЕ ОБСЛУЖИВАНИЕ  Desktop  Networks   \n",
       "1  Псилон  4/1/2021  РАСЧЕТНО-КАССОВОЕ ОБСЛУЖИВАНИЕ  Desktop  Networks   \n",
       "2  Псилон  4/1/2021  РАСЧЕТНО-КАССОВОЕ ОБСЛУЖИВАНИЕ   Mobile  Networks   \n",
       "3   Гамма  4/1/2021  РАСЧЕТНО-КАССОВОЕ ОБСЛУЖИВАНИЕ  Desktop  Networks   \n",
       "4   Гамма  4/1/2021  РАСЧЕТНО-КАССОВОЕ ОБСЛУЖИВАНИЕ   Mobile  Networks   \n",
       "\n",
       "  bannertype querytype (search only) targetingtype  shows  clicks  \\\n",
       "0  cpc_video                    none        Phrase      0       0   \n",
       "1  cpc_video                    none   Retargeting   5949      41   \n",
       "2  cpc_video                    none   Retargeting    191       6   \n",
       "3   image_ad                    none   Retargeting    227       1   \n",
       "4   image_ad                    none   Retargeting     18       0   \n",
       "\n",
       "          cost  conversions  \n",
       "0            0            0  \n",
       "1  1666,844364            0  \n",
       "2  40,64191525            0  \n",
       "3  45,74740678            0  \n",
       "4            0            0  "
      ]
     },
     "execution_count": 2,
     "metadata": {},
     "output_type": "execute_result"
    }
   ],
   "source": [
    "data = pd.read_csv('Новая таблица - data.csv')\n",
    "data.columns = data.columns.str.lower()\n",
    "data.head()"
   ]
  },
  {
   "cell_type": "code",
   "execution_count": 3,
   "id": "03d921c1",
   "metadata": {},
   "outputs": [
    {
     "name": "stdout",
     "output_type": "stream",
     "text": [
      "<class 'pandas.core.frame.DataFrame'>\n",
      "RangeIndex: 10478 entries, 0 to 10477\n",
      "Data columns (total 12 columns):\n",
      " #   Column                   Non-Null Count  Dtype \n",
      "---  ------                   --------------  ----- \n",
      " 0   client                   10478 non-null  object\n",
      " 1   month                    10478 non-null  object\n",
      " 2   category                 10478 non-null  object\n",
      " 3   device                   10478 non-null  object\n",
      " 4   place                    10478 non-null  object\n",
      " 5   bannertype               10478 non-null  object\n",
      " 6   querytype (search only)  10478 non-null  object\n",
      " 7   targetingtype            10478 non-null  object\n",
      " 8   shows                    10478 non-null  int64 \n",
      " 9   clicks                   10478 non-null  int64 \n",
      " 10  cost                     10478 non-null  object\n",
      " 11  conversions              10478 non-null  int64 \n",
      "dtypes: int64(3), object(9)\n",
      "memory usage: 982.4+ KB\n"
     ]
    }
   ],
   "source": [
    "data.info()"
   ]
  },
  {
   "cell_type": "code",
   "execution_count": 12,
   "id": "09474a96",
   "metadata": {},
   "outputs": [
    {
     "data": {
      "text/html": [
       "<div>\n",
       "<style scoped>\n",
       "    .dataframe tbody tr th:only-of-type {\n",
       "        vertical-align: middle;\n",
       "    }\n",
       "\n",
       "    .dataframe tbody tr th {\n",
       "        vertical-align: top;\n",
       "    }\n",
       "\n",
       "    .dataframe thead th {\n",
       "        text-align: right;\n",
       "    }\n",
       "</style>\n",
       "<table border=\"1\" class=\"dataframe\">\n",
       "  <thead>\n",
       "    <tr style=\"text-align: right;\">\n",
       "      <th></th>\n",
       "      <th>client</th>\n",
       "      <th>month</th>\n",
       "      <th>category</th>\n",
       "      <th>device</th>\n",
       "      <th>place</th>\n",
       "      <th>bannertype</th>\n",
       "      <th>querytype (search only)</th>\n",
       "      <th>targetingtype</th>\n",
       "      <th>shows</th>\n",
       "      <th>clicks</th>\n",
       "      <th>cost</th>\n",
       "      <th>conversions</th>\n",
       "      <th>cr</th>\n",
       "      <th>crc</th>\n",
       "    </tr>\n",
       "  </thead>\n",
       "  <tbody>\n",
       "  </tbody>\n",
       "</table>\n",
       "</div>"
      ],
      "text/plain": [
       "Empty DataFrame\n",
       "Columns: [client, month, category, device, place, bannertype, querytype (search only), targetingtype, shows, clicks, cost, conversions, cr, crc]\n",
       "Index: []"
      ]
     },
     "execution_count": 12,
     "metadata": {},
     "output_type": "execute_result"
    }
   ],
   "source": [
    "data[data.duplicated(keep=False)]"
   ]
  },
  {
   "cell_type": "code",
   "execution_count": null,
   "id": "1dc4c22e",
   "metadata": {},
   "outputs": [],
   "source": []
  },
  {
   "cell_type": "markdown",
   "id": "9c67e264",
   "metadata": {},
   "source": [
    "Рекламодатель Сигма жалуется на постоянный рост CPA по своим рекламным кампаниям в последние 4 месяца (с июня по сент 2022). Ваша задача проанализировать его размещение с целью:\n",
    "1) Выяснить причину растущего CPA\n",
    "2) Дать рекомендации по снижению и стабилизации CPA до целевого значения (380 руб)\n",
    "\n",
    "Стоимость обращения (cost per action, CPA) показывает, сколько стоит целевой визит посетителя. CPA — отношение рекламного бюджета к количеству обращений. (затраты на рекламу/количество целевых действий). В этом случае количество целевых действий (визитов) лежит в столбце Conversion. Также известна взаимосвязь CR и CPA. Коэффициент конверсии (CR) — отношение количества целевых визитов к общему количеству визитов, которое, видимо, равное количеству кликов. Чем выше CR, тем дешевле стоит заказ/обращение. "
   ]
  },
  {
   "cell_type": "markdown",
   "id": "33e769df",
   "metadata": {},
   "source": [
    "Оставим только данные за интересующий рекламодателя период:"
   ]
  },
  {
   "cell_type": "code",
   "execution_count": 5,
   "id": "56acc49d",
   "metadata": {},
   "outputs": [],
   "source": [
    "data['month'] = pd.to_datetime(data['month'], format=\"%m/%d/%Y\")\n",
    "data = data[(data['month']>'2022-05-01') & (data['month']<'2022-09-01')]"
   ]
  },
  {
   "cell_type": "markdown",
   "id": "f589d19f",
   "metadata": {},
   "source": [
    "Рассчитаем текущий CPA:"
   ]
  },
  {
   "cell_type": "code",
   "execution_count": 6,
   "id": "b2813a20",
   "metadata": {},
   "outputs": [
    {
     "data": {
      "text/plain": [
       "588.7552274521587"
      ]
     },
     "execution_count": 6,
     "metadata": {},
     "output_type": "execute_result"
    }
   ],
   "source": [
    "data['cost'] = data['cost'].str.replace(',','.')\n",
    "data['cost'] = data['cost'].astype(np.float64)\n",
    "a = data['cost'].sum()\n",
    "b = data['conversions'].sum()\n",
    "cpa = a/b\n",
    "cpa"
   ]
  },
  {
   "cell_type": "code",
   "execution_count": 8,
   "id": "8e9670f8",
   "metadata": {},
   "outputs": [
    {
     "name": "stdout",
     "output_type": "stream",
     "text": [
      "Текущий CPA больше целевого на 54.93558617162071 %\n"
     ]
    }
   ],
   "source": [
    "cpa_goal = 380\n",
    "print(\"Текущий CPA больше целевого на\", cpa/cpa_goal*100-100, \"%\")"
   ]
  },
  {
   "cell_type": "code",
   "execution_count": null,
   "id": "4f83023b",
   "metadata": {},
   "outputs": [],
   "source": [
    "Рассчитаем CR и CRC:"
   ]
  },
  {
   "cell_type": "code",
   "execution_count": 15,
   "id": "041df31a",
   "metadata": {},
   "outputs": [],
   "source": [
    "data['cr'] = data['conversions']/data['clicks']\n",
    "data['cpc'] = data['cost']/data['clicks']"
   ]
  },
  {
   "cell_type": "code",
   "execution_count": 13,
   "id": "89e62e9a",
   "metadata": {},
   "outputs": [
    {
     "data": {
      "text/html": [
       "<div>\n",
       "<style scoped>\n",
       "    .dataframe tbody tr th:only-of-type {\n",
       "        vertical-align: middle;\n",
       "    }\n",
       "\n",
       "    .dataframe tbody tr th {\n",
       "        vertical-align: top;\n",
       "    }\n",
       "\n",
       "    .dataframe thead th {\n",
       "        text-align: right;\n",
       "    }\n",
       "</style>\n",
       "<table border=\"1\" class=\"dataframe\">\n",
       "  <thead>\n",
       "    <tr style=\"text-align: right;\">\n",
       "      <th></th>\n",
       "      <th>client</th>\n",
       "      <th>month</th>\n",
       "      <th>category</th>\n",
       "      <th>device</th>\n",
       "      <th>place</th>\n",
       "      <th>bannertype</th>\n",
       "      <th>querytype (search only)</th>\n",
       "      <th>targetingtype</th>\n",
       "      <th>shows</th>\n",
       "      <th>clicks</th>\n",
       "      <th>cost</th>\n",
       "      <th>conversions</th>\n",
       "      <th>cr</th>\n",
       "      <th>crc</th>\n",
       "    </tr>\n",
       "  </thead>\n",
       "  <tbody>\n",
       "    <tr>\n",
       "      <th>6141</th>\n",
       "      <td>Псилон</td>\n",
       "      <td>2022-08-01</td>\n",
       "      <td>КРЕДИТНЫЕ КАРТЫ</td>\n",
       "      <td>Mobile</td>\n",
       "      <td>Networks</td>\n",
       "      <td>text</td>\n",
       "      <td>none</td>\n",
       "      <td>Phrase</td>\n",
       "      <td>334921472</td>\n",
       "      <td>2237376</td>\n",
       "      <td>39766179.12</td>\n",
       "      <td>47259</td>\n",
       "      <td>0.021123</td>\n",
       "      <td>17.773579</td>\n",
       "    </tr>\n",
       "  </tbody>\n",
       "</table>\n",
       "</div>"
      ],
      "text/plain": [
       "      client      month         category  device     place bannertype  \\\n",
       "6141  Псилон 2022-08-01  КРЕДИТНЫЕ КАРТЫ  Mobile  Networks       text   \n",
       "\n",
       "     querytype (search only) targetingtype      shows   clicks         cost  \\\n",
       "6141                    none        Phrase  334921472  2237376  39766179.12   \n",
       "\n",
       "      conversions        cr        crc  \n",
       "6141        47259  0.021123  17.773579  "
      ]
     },
     "execution_count": 13,
     "metadata": {},
     "output_type": "execute_result"
    }
   ],
   "source": [
    "data[data['cost']==data['cost'].max()]"
   ]
  },
  {
   "cell_type": "code",
   "execution_count": 16,
   "id": "aee457a7",
   "metadata": {},
   "outputs": [
    {
     "data": {
      "text/html": [
       "<div>\n",
       "<style scoped>\n",
       "    .dataframe tbody tr th:only-of-type {\n",
       "        vertical-align: middle;\n",
       "    }\n",
       "\n",
       "    .dataframe tbody tr th {\n",
       "        vertical-align: top;\n",
       "    }\n",
       "\n",
       "    .dataframe thead th {\n",
       "        text-align: right;\n",
       "    }\n",
       "</style>\n",
       "<table border=\"1\" class=\"dataframe\">\n",
       "  <thead>\n",
       "    <tr style=\"text-align: right;\">\n",
       "      <th></th>\n",
       "      <th>client</th>\n",
       "      <th>month</th>\n",
       "      <th>category</th>\n",
       "      <th>device</th>\n",
       "      <th>place</th>\n",
       "      <th>bannertype</th>\n",
       "      <th>querytype (search only)</th>\n",
       "      <th>targetingtype</th>\n",
       "      <th>shows</th>\n",
       "      <th>clicks</th>\n",
       "      <th>cost</th>\n",
       "      <th>conversions</th>\n",
       "      <th>cr</th>\n",
       "      <th>crc</th>\n",
       "      <th>cpc</th>\n",
       "    </tr>\n",
       "  </thead>\n",
       "  <tbody>\n",
       "    <tr>\n",
       "      <th>1674</th>\n",
       "      <td>Омега</td>\n",
       "      <td>2022-08-01</td>\n",
       "      <td>РАСЧЕТНО-КАССОВОЕ ОБСЛУЖИВАНИЕ</td>\n",
       "      <td>Desktop</td>\n",
       "      <td>Search</td>\n",
       "      <td>mcbanner</td>\n",
       "      <td>Other</td>\n",
       "      <td>Phrase</td>\n",
       "      <td>8482</td>\n",
       "      <td>3</td>\n",
       "      <td>3589.07189</td>\n",
       "      <td>0</td>\n",
       "      <td>0.0</td>\n",
       "      <td>1196.357297</td>\n",
       "      <td>1196.357297</td>\n",
       "    </tr>\n",
       "  </tbody>\n",
       "</table>\n",
       "</div>"
      ],
      "text/plain": [
       "     client      month                        category   device   place  \\\n",
       "1674  Омега 2022-08-01  РАСЧЕТНО-КАССОВОЕ ОБСЛУЖИВАНИЕ  Desktop  Search   \n",
       "\n",
       "     bannertype querytype (search only) targetingtype  shows  clicks  \\\n",
       "1674   mcbanner                   Other        Phrase   8482       3   \n",
       "\n",
       "            cost  conversions   cr          crc          cpc  \n",
       "1674  3589.07189            0  0.0  1196.357297  1196.357297  "
      ]
     },
     "execution_count": 16,
     "metadata": {},
     "output_type": "execute_result"
    }
   ],
   "source": [
    "data[data['cpc']==data['cpc'].max()]"
   ]
  },
  {
   "cell_type": "code",
   "execution_count": 17,
   "id": "6e350bb9",
   "metadata": {},
   "outputs": [
    {
     "data": {
      "text/plain": [
       "array(['cpc_video', 'image_ad', 'mcbanner', 'text', 'cpm_banner',\n",
       "       'dynamic'], dtype=object)"
      ]
     },
     "execution_count": 17,
     "metadata": {},
     "output_type": "execute_result"
    }
   ],
   "source": [
    "data['bannertype'].unique()"
   ]
  },
  {
   "cell_type": "code",
   "execution_count": 22,
   "id": "4b71da35",
   "metadata": {},
   "outputs": [
    {
     "data": {
      "text/html": [
       "<div>\n",
       "<style scoped>\n",
       "    .dataframe tbody tr th:only-of-type {\n",
       "        vertical-align: middle;\n",
       "    }\n",
       "\n",
       "    .dataframe tbody tr th {\n",
       "        vertical-align: top;\n",
       "    }\n",
       "\n",
       "    .dataframe thead th {\n",
       "        text-align: right;\n",
       "    }\n",
       "</style>\n",
       "<table border=\"1\" class=\"dataframe\">\n",
       "  <thead>\n",
       "    <tr style=\"text-align: right;\">\n",
       "      <th></th>\n",
       "      <th>client</th>\n",
       "      <th>month</th>\n",
       "      <th>category</th>\n",
       "      <th>device</th>\n",
       "      <th>place</th>\n",
       "      <th>bannertype</th>\n",
       "      <th>querytype (search only)</th>\n",
       "      <th>targetingtype</th>\n",
       "      <th>shows</th>\n",
       "      <th>clicks</th>\n",
       "      <th>cost</th>\n",
       "      <th>conversions</th>\n",
       "      <th>cr</th>\n",
       "      <th>crc</th>\n",
       "      <th>cpc</th>\n",
       "    </tr>\n",
       "  </thead>\n",
       "  <tbody>\n",
       "    <tr>\n",
       "      <th>1674</th>\n",
       "      <td>Омега</td>\n",
       "      <td>2022-08-01</td>\n",
       "      <td>РАСЧЕТНО-КАССОВОЕ ОБСЛУЖИВАНИЕ</td>\n",
       "      <td>Desktop</td>\n",
       "      <td>Search</td>\n",
       "      <td>mcbanner</td>\n",
       "      <td>Other</td>\n",
       "      <td>Phrase</td>\n",
       "      <td>8482</td>\n",
       "      <td>3</td>\n",
       "      <td>3589.071890</td>\n",
       "      <td>0</td>\n",
       "      <td>0.0</td>\n",
       "      <td>1196.357297</td>\n",
       "      <td>1196.357297</td>\n",
       "    </tr>\n",
       "    <tr>\n",
       "      <th>1670</th>\n",
       "      <td>Сигма</td>\n",
       "      <td>2022-08-01</td>\n",
       "      <td>РАСЧЕТНО-КАССОВОЕ ОБСЛУЖИВАНИЕ</td>\n",
       "      <td>Mobile</td>\n",
       "      <td>Search</td>\n",
       "      <td>mcbanner</td>\n",
       "      <td>Competitor</td>\n",
       "      <td>Phrase</td>\n",
       "      <td>86</td>\n",
       "      <td>1</td>\n",
       "      <td>879.608212</td>\n",
       "      <td>0</td>\n",
       "      <td>0.0</td>\n",
       "      <td>879.608212</td>\n",
       "      <td>879.608212</td>\n",
       "    </tr>\n",
       "    <tr>\n",
       "      <th>1678</th>\n",
       "      <td>Псилон</td>\n",
       "      <td>2022-08-01</td>\n",
       "      <td>РАСЧЕТНО-КАССОВОЕ ОБСЛУЖИВАНИЕ</td>\n",
       "      <td>Desktop</td>\n",
       "      <td>Search</td>\n",
       "      <td>mcbanner</td>\n",
       "      <td>Competitor</td>\n",
       "      <td>Phrase</td>\n",
       "      <td>4583</td>\n",
       "      <td>3</td>\n",
       "      <td>2606.679508</td>\n",
       "      <td>0</td>\n",
       "      <td>0.0</td>\n",
       "      <td>868.893169</td>\n",
       "      <td>868.893169</td>\n",
       "    </tr>\n",
       "    <tr>\n",
       "      <th>1668</th>\n",
       "      <td>Сигма</td>\n",
       "      <td>2022-08-01</td>\n",
       "      <td>РАСЧЕТНО-КАССОВОЕ ОБСЛУЖИВАНИЕ</td>\n",
       "      <td>Desktop</td>\n",
       "      <td>Search</td>\n",
       "      <td>mcbanner</td>\n",
       "      <td>Other</td>\n",
       "      <td>Phrase</td>\n",
       "      <td>36932</td>\n",
       "      <td>58</td>\n",
       "      <td>47824.885250</td>\n",
       "      <td>0</td>\n",
       "      <td>0.0</td>\n",
       "      <td>824.566987</td>\n",
       "      <td>824.566987</td>\n",
       "    </tr>\n",
       "    <tr>\n",
       "      <th>1673</th>\n",
       "      <td>Омега</td>\n",
       "      <td>2022-08-01</td>\n",
       "      <td>РАСЧЕТНО-КАССОВОЕ ОБСЛУЖИВАНИЕ</td>\n",
       "      <td>Desktop</td>\n",
       "      <td>Search</td>\n",
       "      <td>mcbanner</td>\n",
       "      <td>Competitor</td>\n",
       "      <td>Phrase</td>\n",
       "      <td>2967</td>\n",
       "      <td>3</td>\n",
       "      <td>2125.106415</td>\n",
       "      <td>0</td>\n",
       "      <td>0.0</td>\n",
       "      <td>708.368805</td>\n",
       "      <td>708.368805</td>\n",
       "    </tr>\n",
       "  </tbody>\n",
       "</table>\n",
       "</div>"
      ],
      "text/plain": [
       "      client      month                        category   device   place  \\\n",
       "1674   Омега 2022-08-01  РАСЧЕТНО-КАССОВОЕ ОБСЛУЖИВАНИЕ  Desktop  Search   \n",
       "1670   Сигма 2022-08-01  РАСЧЕТНО-КАССОВОЕ ОБСЛУЖИВАНИЕ   Mobile  Search   \n",
       "1678  Псилон 2022-08-01  РАСЧЕТНО-КАССОВОЕ ОБСЛУЖИВАНИЕ  Desktop  Search   \n",
       "1668   Сигма 2022-08-01  РАСЧЕТНО-КАССОВОЕ ОБСЛУЖИВАНИЕ  Desktop  Search   \n",
       "1673   Омега 2022-08-01  РАСЧЕТНО-КАССОВОЕ ОБСЛУЖИВАНИЕ  Desktop  Search   \n",
       "\n",
       "     bannertype querytype (search only) targetingtype  shows  clicks  \\\n",
       "1674   mcbanner                   Other        Phrase   8482       3   \n",
       "1670   mcbanner              Competitor        Phrase     86       1   \n",
       "1678   mcbanner              Competitor        Phrase   4583       3   \n",
       "1668   mcbanner                   Other        Phrase  36932      58   \n",
       "1673   mcbanner              Competitor        Phrase   2967       3   \n",
       "\n",
       "              cost  conversions   cr          crc          cpc  \n",
       "1674   3589.071890            0  0.0  1196.357297  1196.357297  \n",
       "1670    879.608212            0  0.0   879.608212   879.608212  \n",
       "1678   2606.679508            0  0.0   868.893169   868.893169  \n",
       "1668  47824.885250            0  0.0   824.566987   824.566987  \n",
       "1673   2125.106415            0  0.0   708.368805   708.368805  "
      ]
     },
     "execution_count": 22,
     "metadata": {},
     "output_type": "execute_result"
    }
   ],
   "source": [
    "data[data['cr']==data['cr'].min()].sort_values(by='cpc', ascending=False).head()"
   ]
  },
  {
   "cell_type": "markdown",
   "id": "0e70b5ff",
   "metadata": {},
   "source": [
    "Предварительно можно выдвинуть гипотезу, что есть проблема с ключевыми фразами для таргетинга, тогда нужно добавлять минус-фразы и дополнить ключевые фразы запросами с высоким CTR."
   ]
  },
  {
   "cell_type": "markdown",
   "id": "f99406b3",
   "metadata": {},
   "source": [
    "А больше я не успею))) Но здесь можно сделать групировку и построить графики, посмотреть CR и CPC отдельно по типу таргетинга, типу баннера, устройству, ещё посмотреть динамику по месяцам."
   ]
  }
 ],
 "metadata": {
  "kernelspec": {
   "display_name": "Python 3 (ipykernel)",
   "language": "python",
   "name": "python3"
  },
  "language_info": {
   "codemirror_mode": {
    "name": "ipython",
    "version": 3
   },
   "file_extension": ".py",
   "mimetype": "text/x-python",
   "name": "python",
   "nbconvert_exporter": "python",
   "pygments_lexer": "ipython3",
   "version": "3.10.9"
  }
 },
 "nbformat": 4,
 "nbformat_minor": 5
}
