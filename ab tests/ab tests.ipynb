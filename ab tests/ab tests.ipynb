{
 "cells": [
  {
   "cell_type": "markdown",
   "metadata": {},
   "source": [
    "<div style=\"background:#e5e5e5; color:#000; padding:10px\">\n",
    "\n",
    "Привет!\\\n",
    "    Пришел первоначальный проект без моих комментариев и исправлений.\n",
    "</div> "
   ]
  },
  {
   "cell_type": "markdown",
   "metadata": {},
   "source": [
    "Добрый день! Почему проект вернули без комментариев, это же первая итерация? Это не ошибка?"
   ]
  },
  {
   "cell_type": "markdown",
   "metadata": {},
   "source": [
    "# Проверка гипотез для увеличения выручки интернет-магазина"
   ]
  },
  {
   "cell_type": "markdown",
   "metadata": {},
   "source": [
    "Имеются данные о гипотезах по увеличению выручки и файлы с результатами A/B-теста (данные о пользователях и заказах). \n",
    "\n",
    "Цели: \n",
    "\n",
    "- выяснить, какие гипотезы нужно проверить в первую очередь\n",
    "- принять решение по результатам A/B-теста (нужно продолжать тест или зафиксировать отстутствие различий/победу одной из групп)\n",
    "\n",
    "Задачи:\n",
    "\n",
    "- приоритизировать гипотезы, используя фреймворки ICE и RICE\n",
    "- проанализировать результаты A/B теста"
   ]
  },
  {
   "cell_type": "markdown",
   "metadata": {},
   "source": [
    "## Приоритизация гипотез"
   ]
  },
  {
   "cell_type": "code",
   "execution_count": 1,
   "metadata": {},
   "outputs": [],
   "source": [
    "import pandas as pd"
   ]
  },
  {
   "cell_type": "code",
   "execution_count": 2,
   "metadata": {},
   "outputs": [
    {
     "data": {
      "text/html": [
       "<div>\n",
       "<style scoped>\n",
       "    .dataframe tbody tr th:only-of-type {\n",
       "        vertical-align: middle;\n",
       "    }\n",
       "\n",
       "    .dataframe tbody tr th {\n",
       "        vertical-align: top;\n",
       "    }\n",
       "\n",
       "    .dataframe thead th {\n",
       "        text-align: right;\n",
       "    }\n",
       "</style>\n",
       "<table border=\"1\" class=\"dataframe\">\n",
       "  <thead>\n",
       "    <tr style=\"text-align: right;\">\n",
       "      <th></th>\n",
       "      <th>hypothesis</th>\n",
       "      <th>reach</th>\n",
       "      <th>impact</th>\n",
       "      <th>confidence</th>\n",
       "      <th>efforts</th>\n",
       "    </tr>\n",
       "  </thead>\n",
       "  <tbody>\n",
       "    <tr>\n",
       "      <th>0</th>\n",
       "      <td>Добавить два новых канала привлечения трафика,...</td>\n",
       "      <td>3</td>\n",
       "      <td>10</td>\n",
       "      <td>8</td>\n",
       "      <td>6</td>\n",
       "    </tr>\n",
       "    <tr>\n",
       "      <th>1</th>\n",
       "      <td>Запустить собственную службу доставки, что сок...</td>\n",
       "      <td>2</td>\n",
       "      <td>5</td>\n",
       "      <td>4</td>\n",
       "      <td>10</td>\n",
       "    </tr>\n",
       "    <tr>\n",
       "      <th>2</th>\n",
       "      <td>Добавить блоки рекомендаций товаров на сайт ин...</td>\n",
       "      <td>8</td>\n",
       "      <td>3</td>\n",
       "      <td>7</td>\n",
       "      <td>3</td>\n",
       "    </tr>\n",
       "    <tr>\n",
       "      <th>3</th>\n",
       "      <td>Изменить структура категорий, что увеличит кон...</td>\n",
       "      <td>8</td>\n",
       "      <td>3</td>\n",
       "      <td>3</td>\n",
       "      <td>8</td>\n",
       "    </tr>\n",
       "    <tr>\n",
       "      <th>4</th>\n",
       "      <td>Изменить цвет фона главной страницы, чтобы уве...</td>\n",
       "      <td>3</td>\n",
       "      <td>1</td>\n",
       "      <td>1</td>\n",
       "      <td>1</td>\n",
       "    </tr>\n",
       "  </tbody>\n",
       "</table>\n",
       "</div>"
      ],
      "text/plain": [
       "                                          hypothesis  reach  impact  \\\n",
       "0  Добавить два новых канала привлечения трафика,...      3      10   \n",
       "1  Запустить собственную службу доставки, что сок...      2       5   \n",
       "2  Добавить блоки рекомендаций товаров на сайт ин...      8       3   \n",
       "3  Изменить структура категорий, что увеличит кон...      8       3   \n",
       "4  Изменить цвет фона главной страницы, чтобы уве...      3       1   \n",
       "\n",
       "   confidence  efforts  \n",
       "0           8        6  \n",
       "1           4       10  \n",
       "2           7        3  \n",
       "3           3        8  \n",
       "4           1        1  "
      ]
     },
     "execution_count": 2,
     "metadata": {},
     "output_type": "execute_result"
    }
   ],
   "source": [
    "hyps = pd.read_csv('/datasets/hypothesis.csv', sep=',')\n",
    "hyps.columns = hyps.columns.str.lower()\n",
    "hyps.head()"
   ]
  },
  {
   "cell_type": "markdown",
   "metadata": {},
   "source": [
    "<div class=\"alert alert-warning\">\n",
    "    \n",
    "  <b>Комментарий ревьюера</b>\n",
    "    \n",
    "  ⚠️ Лучше разделить на ячейки загрузку модулей и загрузку данных, это соответствует РЕР8, а также избавит от невынужденных проблем, если нужно будет подгрузить библиотеку, а в результате произойдет перезапись датасета.\n",
    "\n",
    "</div>"
   ]
  },
  {
   "cell_type": "code",
   "execution_count": 3,
   "metadata": {},
   "outputs": [
    {
     "data": {
      "text/html": [
       "<div>\n",
       "<style scoped>\n",
       "    .dataframe tbody tr th:only-of-type {\n",
       "        vertical-align: middle;\n",
       "    }\n",
       "\n",
       "    .dataframe tbody tr th {\n",
       "        vertical-align: top;\n",
       "    }\n",
       "\n",
       "    .dataframe thead th {\n",
       "        text-align: right;\n",
       "    }\n",
       "</style>\n",
       "<table border=\"1\" class=\"dataframe\">\n",
       "  <thead>\n",
       "    <tr style=\"text-align: right;\">\n",
       "      <th></th>\n",
       "      <th>hypothesis</th>\n",
       "      <th>ICE</th>\n",
       "    </tr>\n",
       "  </thead>\n",
       "  <tbody>\n",
       "    <tr>\n",
       "      <th>8</th>\n",
       "      <td>Запустить акцию, дающую скидку на товар в день рождения</td>\n",
       "      <td>16.200000</td>\n",
       "    </tr>\n",
       "    <tr>\n",
       "      <th>0</th>\n",
       "      <td>Добавить два новых канала привлечения трафика, что позволит привлекать на 30% больше пользователей</td>\n",
       "      <td>13.333333</td>\n",
       "    </tr>\n",
       "    <tr>\n",
       "      <th>7</th>\n",
       "      <td>Добавить форму подписки на все основные страницы, чтобы собрать базу клиентов для email-рассылок</td>\n",
       "      <td>11.200000</td>\n",
       "    </tr>\n",
       "    <tr>\n",
       "      <th>6</th>\n",
       "      <td>Показать на главной странице баннеры с актуальными акциями и распродажами, чтобы увеличить конверсию</td>\n",
       "      <td>8.000000</td>\n",
       "    </tr>\n",
       "    <tr>\n",
       "      <th>2</th>\n",
       "      <td>Добавить блоки рекомендаций товаров на сайт интернет магазина, чтобы повысить конверсию и средний чек заказа</td>\n",
       "      <td>7.000000</td>\n",
       "    </tr>\n",
       "    <tr>\n",
       "      <th>1</th>\n",
       "      <td>Запустить собственную службу доставки, что сократит срок доставки заказов</td>\n",
       "      <td>2.000000</td>\n",
       "    </tr>\n",
       "    <tr>\n",
       "      <th>5</th>\n",
       "      <td>Добавить страницу отзывов клиентов о магазине, что позволит увеличить количество заказов</td>\n",
       "      <td>1.333333</td>\n",
       "    </tr>\n",
       "    <tr>\n",
       "      <th>3</th>\n",
       "      <td>Изменить структура категорий, что увеличит конверсию, т.к. пользователи быстрее найдут нужный товар</td>\n",
       "      <td>1.125000</td>\n",
       "    </tr>\n",
       "    <tr>\n",
       "      <th>4</th>\n",
       "      <td>Изменить цвет фона главной страницы, чтобы увеличить вовлеченность пользователей</td>\n",
       "      <td>1.000000</td>\n",
       "    </tr>\n",
       "  </tbody>\n",
       "</table>\n",
       "</div>"
      ],
      "text/plain": [
       "                                                                                                     hypothesis  \\\n",
       "8                                                       Запустить акцию, дающую скидку на товар в день рождения   \n",
       "0            Добавить два новых канала привлечения трафика, что позволит привлекать на 30% больше пользователей   \n",
       "7              Добавить форму подписки на все основные страницы, чтобы собрать базу клиентов для email-рассылок   \n",
       "6          Показать на главной странице баннеры с актуальными акциями и распродажами, чтобы увеличить конверсию   \n",
       "2  Добавить блоки рекомендаций товаров на сайт интернет магазина, чтобы повысить конверсию и средний чек заказа   \n",
       "1                                     Запустить собственную службу доставки, что сократит срок доставки заказов   \n",
       "5                      Добавить страницу отзывов клиентов о магазине, что позволит увеличить количество заказов   \n",
       "3           Изменить структура категорий, что увеличит конверсию, т.к. пользователи быстрее найдут нужный товар   \n",
       "4                              Изменить цвет фона главной страницы, чтобы увеличить вовлеченность пользователей   \n",
       "\n",
       "         ICE  \n",
       "8  16.200000  \n",
       "0  13.333333  \n",
       "7  11.200000  \n",
       "6   8.000000  \n",
       "2   7.000000  \n",
       "1   2.000000  \n",
       "5   1.333333  \n",
       "3   1.125000  \n",
       "4   1.000000  "
      ]
     },
     "metadata": {},
     "output_type": "display_data"
    }
   ],
   "source": [
    "hyps['ICE'] = (hyps['impact']*hyps['confidence'])/hyps['efforts']\n",
    "\n",
    "pd.options.display.max_colwidth = 400\n",
    "display(hyps[['hypothesis', 'ICE']].sort_values(by='ICE', ascending=False))"
   ]
  },
  {
   "cell_type": "markdown",
   "metadata": {},
   "source": [
    "По ICE наиболее перспективные гипотезы - 9, 1, 8, и 7. "
   ]
  },
  {
   "cell_type": "code",
   "execution_count": 4,
   "metadata": {},
   "outputs": [
    {
     "data": {
      "text/html": [
       "<div>\n",
       "<style scoped>\n",
       "    .dataframe tbody tr th:only-of-type {\n",
       "        vertical-align: middle;\n",
       "    }\n",
       "\n",
       "    .dataframe tbody tr th {\n",
       "        vertical-align: top;\n",
       "    }\n",
       "\n",
       "    .dataframe thead th {\n",
       "        text-align: right;\n",
       "    }\n",
       "</style>\n",
       "<table border=\"1\" class=\"dataframe\">\n",
       "  <thead>\n",
       "    <tr style=\"text-align: right;\">\n",
       "      <th></th>\n",
       "      <th>hypothesis</th>\n",
       "      <th>RICE</th>\n",
       "    </tr>\n",
       "  </thead>\n",
       "  <tbody>\n",
       "    <tr>\n",
       "      <th>7</th>\n",
       "      <td>Добавить форму подписки на все основные страницы, чтобы собрать базу клиентов для email-рассылок</td>\n",
       "      <td>112.0</td>\n",
       "    </tr>\n",
       "    <tr>\n",
       "      <th>2</th>\n",
       "      <td>Добавить блоки рекомендаций товаров на сайт интернет магазина, чтобы повысить конверсию и средний чек заказа</td>\n",
       "      <td>56.0</td>\n",
       "    </tr>\n",
       "    <tr>\n",
       "      <th>0</th>\n",
       "      <td>Добавить два новых канала привлечения трафика, что позволит привлекать на 30% больше пользователей</td>\n",
       "      <td>40.0</td>\n",
       "    </tr>\n",
       "    <tr>\n",
       "      <th>6</th>\n",
       "      <td>Показать на главной странице баннеры с актуальными акциями и распродажами, чтобы увеличить конверсию</td>\n",
       "      <td>40.0</td>\n",
       "    </tr>\n",
       "    <tr>\n",
       "      <th>8</th>\n",
       "      <td>Запустить акцию, дающую скидку на товар в день рождения</td>\n",
       "      <td>16.2</td>\n",
       "    </tr>\n",
       "    <tr>\n",
       "      <th>3</th>\n",
       "      <td>Изменить структура категорий, что увеличит конверсию, т.к. пользователи быстрее найдут нужный товар</td>\n",
       "      <td>9.0</td>\n",
       "    </tr>\n",
       "    <tr>\n",
       "      <th>1</th>\n",
       "      <td>Запустить собственную службу доставки, что сократит срок доставки заказов</td>\n",
       "      <td>4.0</td>\n",
       "    </tr>\n",
       "    <tr>\n",
       "      <th>5</th>\n",
       "      <td>Добавить страницу отзывов клиентов о магазине, что позволит увеличить количество заказов</td>\n",
       "      <td>4.0</td>\n",
       "    </tr>\n",
       "    <tr>\n",
       "      <th>4</th>\n",
       "      <td>Изменить цвет фона главной страницы, чтобы увеличить вовлеченность пользователей</td>\n",
       "      <td>3.0</td>\n",
       "    </tr>\n",
       "  </tbody>\n",
       "</table>\n",
       "</div>"
      ],
      "text/plain": [
       "                                                                                                     hypothesis  \\\n",
       "7              Добавить форму подписки на все основные страницы, чтобы собрать базу клиентов для email-рассылок   \n",
       "2  Добавить блоки рекомендаций товаров на сайт интернет магазина, чтобы повысить конверсию и средний чек заказа   \n",
       "0            Добавить два новых канала привлечения трафика, что позволит привлекать на 30% больше пользователей   \n",
       "6          Показать на главной странице баннеры с актуальными акциями и распродажами, чтобы увеличить конверсию   \n",
       "8                                                       Запустить акцию, дающую скидку на товар в день рождения   \n",
       "3           Изменить структура категорий, что увеличит конверсию, т.к. пользователи быстрее найдут нужный товар   \n",
       "1                                     Запустить собственную службу доставки, что сократит срок доставки заказов   \n",
       "5                      Добавить страницу отзывов клиентов о магазине, что позволит увеличить количество заказов   \n",
       "4                              Изменить цвет фона главной страницы, чтобы увеличить вовлеченность пользователей   \n",
       "\n",
       "    RICE  \n",
       "7  112.0  \n",
       "2   56.0  \n",
       "0   40.0  \n",
       "6   40.0  \n",
       "8   16.2  \n",
       "3    9.0  \n",
       "1    4.0  \n",
       "5    4.0  \n",
       "4    3.0  "
      ]
     },
     "metadata": {},
     "output_type": "display_data"
    }
   ],
   "source": [
    "hyps['RICE'] = (hyps['reach']*hyps['impact']*hyps['confidence'])/hyps['efforts']\n",
    "\n",
    "display(hyps[['hypothesis', 'RICE']].sort_values(by='RICE', ascending=False))"
   ]
  },
  {
   "cell_type": "markdown",
   "metadata": {},
   "source": [
    "Фреймворки отличаются друг от друга тем, что в RICE учитывается охват - скольких пользователей затронет изменение, которое предпоагается внести. Поэтому по RICE наиболее приоритетными оказались гипотезы 8, 3, 1 и 7. Так произошло, потому что у 3 гипотезы большой показатель reach, а на первом месте оказалась 8 гипотеза, у которой наибольший охват. "
   ]
  },
  {
   "cell_type": "markdown",
   "metadata": {},
   "source": [
    "Вывод: с помощью фреймворков выявлены 5 наиболее приоритетных гипотез. Я бы в первую очередь проверила 8 гипотезу, т.к. она  находится в топе обоих рейтингов и у неё большой охват, потом можно обратить внимание на остальные 4 и выбирать в зависимости от того, что важнее - сила или охват."
   ]
  },
  {
   "cell_type": "markdown",
   "metadata": {},
   "source": [
    "## Анализ A/B-теста"
   ]
  },
  {
   "cell_type": "code",
   "execution_count": 5,
   "metadata": {},
   "outputs": [],
   "source": [
    "import datetime as dt\n",
    "import numpy as np\n",
    "import matplotlib.pyplot as plt\n",
    "from pandas.plotting import register_matplotlib_converters\n",
    "import warnings\n",
    "# конвертеры, которые позволяют использовать типы pandas в matplotlib  \n",
    "register_matplotlib_converters()"
   ]
  },
  {
   "cell_type": "code",
   "execution_count": 6,
   "metadata": {},
   "outputs": [],
   "source": [
    "orders_raw = pd.read_csv('/datasets/orders.csv', sep=',')\n",
    "visitors = pd.read_csv('/datasets/visitors.csv', sep=',')"
   ]
  },
  {
   "cell_type": "code",
   "execution_count": 7,
   "metadata": {},
   "outputs": [
    {
     "data": {
      "text/html": [
       "<div>\n",
       "<style scoped>\n",
       "    .dataframe tbody tr th:only-of-type {\n",
       "        vertical-align: middle;\n",
       "    }\n",
       "\n",
       "    .dataframe tbody tr th {\n",
       "        vertical-align: top;\n",
       "    }\n",
       "\n",
       "    .dataframe thead th {\n",
       "        text-align: right;\n",
       "    }\n",
       "</style>\n",
       "<table border=\"1\" class=\"dataframe\">\n",
       "  <thead>\n",
       "    <tr style=\"text-align: right;\">\n",
       "      <th></th>\n",
       "      <th>transactionId</th>\n",
       "      <th>visitorId</th>\n",
       "      <th>date</th>\n",
       "      <th>revenue</th>\n",
       "      <th>group</th>\n",
       "    </tr>\n",
       "  </thead>\n",
       "  <tbody>\n",
       "    <tr>\n",
       "      <th>0</th>\n",
       "      <td>3667963787</td>\n",
       "      <td>3312258926</td>\n",
       "      <td>2019-08-15</td>\n",
       "      <td>1650</td>\n",
       "      <td>B</td>\n",
       "    </tr>\n",
       "    <tr>\n",
       "      <th>1</th>\n",
       "      <td>2804400009</td>\n",
       "      <td>3642806036</td>\n",
       "      <td>2019-08-15</td>\n",
       "      <td>730</td>\n",
       "      <td>B</td>\n",
       "    </tr>\n",
       "    <tr>\n",
       "      <th>2</th>\n",
       "      <td>2961555356</td>\n",
       "      <td>4069496402</td>\n",
       "      <td>2019-08-15</td>\n",
       "      <td>400</td>\n",
       "      <td>A</td>\n",
       "    </tr>\n",
       "    <tr>\n",
       "      <th>3</th>\n",
       "      <td>3797467345</td>\n",
       "      <td>1196621759</td>\n",
       "      <td>2019-08-15</td>\n",
       "      <td>9759</td>\n",
       "      <td>B</td>\n",
       "    </tr>\n",
       "    <tr>\n",
       "      <th>4</th>\n",
       "      <td>2282983706</td>\n",
       "      <td>2322279887</td>\n",
       "      <td>2019-08-15</td>\n",
       "      <td>2308</td>\n",
       "      <td>B</td>\n",
       "    </tr>\n",
       "  </tbody>\n",
       "</table>\n",
       "</div>"
      ],
      "text/plain": [
       "   transactionId   visitorId        date  revenue group\n",
       "0     3667963787  3312258926  2019-08-15     1650     B\n",
       "1     2804400009  3642806036  2019-08-15      730     B\n",
       "2     2961555356  4069496402  2019-08-15      400     A\n",
       "3     3797467345  1196621759  2019-08-15     9759     B\n",
       "4     2282983706  2322279887  2019-08-15     2308     B"
      ]
     },
     "metadata": {},
     "output_type": "display_data"
    },
    {
     "name": "stdout",
     "output_type": "stream",
     "text": [
      "<class 'pandas.core.frame.DataFrame'>\n",
      "RangeIndex: 1197 entries, 0 to 1196\n",
      "Data columns (total 5 columns):\n",
      " #   Column         Non-Null Count  Dtype \n",
      "---  ------         --------------  ----- \n",
      " 0   transactionId  1197 non-null   int64 \n",
      " 1   visitorId      1197 non-null   int64 \n",
      " 2   date           1197 non-null   object\n",
      " 3   revenue        1197 non-null   int64 \n",
      " 4   group          1197 non-null   object\n",
      "dtypes: int64(3), object(2)\n",
      "memory usage: 46.9+ KB\n",
      "transactionId    557\n",
      "visitorId        557\n",
      "date             557\n",
      "revenue          557\n",
      "group            557\n",
      "dtype: int64\n",
      "transactionId    640\n",
      "visitorId        640\n",
      "date             640\n",
      "revenue          640\n",
      "group            640\n",
      "dtype: int64\n"
     ]
    }
   ],
   "source": [
    "display(orders_raw.head())\n",
    "orders_raw.duplicated().sum()\n",
    "orders_raw.info()\n",
    "\n",
    "print(orders_raw[orders_raw['group']=='A'].count())\n",
    "print(orders_raw[orders_raw['group']=='B'].count())"
   ]
  },
  {
   "cell_type": "code",
   "execution_count": 8,
   "metadata": {},
   "outputs": [
    {
     "name": "stdout",
     "output_type": "stream",
     "text": [
      "<class 'pandas.core.frame.DataFrame'>\n",
      "Int64Index: 1016 entries, 0 to 1015\n",
      "Data columns (total 5 columns):\n",
      " #   Column         Non-Null Count  Dtype \n",
      "---  ------         --------------  ----- \n",
      " 0   visitorId      1016 non-null   int64 \n",
      " 1   transactionId  1016 non-null   int64 \n",
      " 2   date           1016 non-null   object\n",
      " 3   revenue        1016 non-null   int64 \n",
      " 4   group          1016 non-null   object\n",
      "dtypes: int64(3), object(2)\n",
      "memory usage: 47.6+ KB\n"
     ]
    }
   ],
   "source": [
    "#удалим пользователей, которые вошли в обе группы\n",
    "\n",
    "groups = orders_raw.groupby('visitorId')['group'].nunique().reset_index()\n",
    "groups = groups.query('group == 246')\n",
    "orders = groups.merge(orders_raw, how='left', on='user_id')\n",
    "\n",
    "orders = orders.rename(columns={'group_y': 'group'}) \n",
    "orders = orders.drop(columns=['group_x'])\n",
    "orders.info()"
   ]
  },
  {
   "cell_type": "code",
   "execution_count": 9,
   "metadata": {},
   "outputs": [
    {
     "data": {
      "text/html": [
       "<div>\n",
       "<style scoped>\n",
       "    .dataframe tbody tr th:only-of-type {\n",
       "        vertical-align: middle;\n",
       "    }\n",
       "\n",
       "    .dataframe tbody tr th {\n",
       "        vertical-align: top;\n",
       "    }\n",
       "\n",
       "    .dataframe thead th {\n",
       "        text-align: right;\n",
       "    }\n",
       "</style>\n",
       "<table border=\"1\" class=\"dataframe\">\n",
       "  <thead>\n",
       "    <tr style=\"text-align: right;\">\n",
       "      <th></th>\n",
       "      <th>date</th>\n",
       "      <th>group</th>\n",
       "      <th>visitors</th>\n",
       "    </tr>\n",
       "  </thead>\n",
       "  <tbody>\n",
       "    <tr>\n",
       "      <th>0</th>\n",
       "      <td>2019-08-01</td>\n",
       "      <td>A</td>\n",
       "      <td>719</td>\n",
       "    </tr>\n",
       "    <tr>\n",
       "      <th>1</th>\n",
       "      <td>2019-08-02</td>\n",
       "      <td>A</td>\n",
       "      <td>619</td>\n",
       "    </tr>\n",
       "    <tr>\n",
       "      <th>2</th>\n",
       "      <td>2019-08-03</td>\n",
       "      <td>A</td>\n",
       "      <td>507</td>\n",
       "    </tr>\n",
       "    <tr>\n",
       "      <th>3</th>\n",
       "      <td>2019-08-04</td>\n",
       "      <td>A</td>\n",
       "      <td>717</td>\n",
       "    </tr>\n",
       "    <tr>\n",
       "      <th>4</th>\n",
       "      <td>2019-08-05</td>\n",
       "      <td>A</td>\n",
       "      <td>756</td>\n",
       "    </tr>\n",
       "  </tbody>\n",
       "</table>\n",
       "</div>"
      ],
      "text/plain": [
       "         date group  visitors\n",
       "0  2019-08-01     A       719\n",
       "1  2019-08-02     A       619\n",
       "2  2019-08-03     A       507\n",
       "3  2019-08-04     A       717\n",
       "4  2019-08-05     A       756"
      ]
     },
     "metadata": {},
     "output_type": "display_data"
    },
    {
     "name": "stdout",
     "output_type": "stream",
     "text": [
      "<class 'pandas.core.frame.DataFrame'>\n",
      "RangeIndex: 62 entries, 0 to 61\n",
      "Data columns (total 3 columns):\n",
      " #   Column    Non-Null Count  Dtype \n",
      "---  ------    --------------  ----- \n",
      " 0   date      62 non-null     object\n",
      " 1   group     62 non-null     object\n",
      " 2   visitors  62 non-null     int64 \n",
      "dtypes: int64(1), object(2)\n",
      "memory usage: 1.6+ KB\n"
     ]
    }
   ],
   "source": [
    "display(visitors.head())\n",
    "visitors.duplicated().sum()\n",
    "visitors.info()"
   ]
  },
  {
   "cell_type": "markdown",
   "metadata": {},
   "source": [
    "Кумулятивная выручка по группам"
   ]
  },
  {
   "cell_type": "code",
   "execution_count": 10,
   "metadata": {},
   "outputs": [
    {
     "data": {
      "image/png": "[encoded data removed]",
      "text/plain": [
       "<Figure size 792x432 with 1 Axes>"
      ]
     },
     "metadata": {
      "needs_background": "light"
     },
     "output_type": "display_data"
    }
   ],
   "source": [
    "orders['date'] = orders['date'].map(\n",
    "    lambda x: dt.datetime.strptime(x, '%Y-%m-%d')\n",
    ")\n",
    "\n",
    "visitors['date'] = visitors['date'].map(\n",
    "    lambda x: dt.datetime.strptime(x, '%Y-%m-%d')\n",
    ")\n",
    "\n",
    "datesGroups = orders[['date', 'group']].drop_duplicates()\n",
    "\n",
    "ordersAggregated = datesGroups.apply(\n",
    "    lambda x: orders[\n",
    "        np.logical_and(\n",
    "            orders['date'] <= x['date'], orders['group'] == x['group']\n",
    "        )\n",
    "    ].agg(\n",
    "        {\n",
    "            'date': 'max',\n",
    "            'group': 'max',\n",
    "            'transactionId': 'nunique',\n",
    "            'visitorId': 'nunique',\n",
    "            'revenue': 'sum',\n",
    "        }\n",
    "    ),\n",
    "    axis=1,\n",
    ").sort_values(by=['date', 'group'])\n",
    "\n",
    "visitorsAggregated = datesGroups.apply(\n",
    "    lambda x: visitors[\n",
    "        np.logical_and(\n",
    "            visitors['date'] <= x['date'], visitors['group'] == x['group']\n",
    "        )\n",
    "    ].agg({'date': 'max', 'group': 'max', 'visitors': 'sum'}),\n",
    "    axis=1,\n",
    ").sort_values(by=['date', 'group'])\n",
    "\n",
    "cumulativeData = ordersAggregated.merge(\n",
    "    visitorsAggregated, left_on=['date', 'group'], right_on=['date', 'group']\n",
    ")\n",
    "cumulativeData.columns = [\n",
    "    'date',\n",
    "    'group',\n",
    "    'orders',\n",
    "    'buyers',\n",
    "    'revenue',\n",
    "    'visitors',\n",
    "]\n",
    "\n",
    "cumulativeRevenueA = cumulativeData[cumulativeData['group']=='A'][['date','revenue', 'orders']]\n",
    "\n",
    "# датафрейм с кумулятивным количеством заказов и кумулятивной выручкой по дням в группе B\n",
    "cumulativeRevenueB = cumulativeData[cumulativeData['group']=='B'][['date','revenue', 'orders']]\n",
    "\n",
    "plt.figure(figsize=(11,6))\n",
    "\n",
    "# Строим график выручки группы А\n",
    "plt.plot(cumulativeRevenueA['date'], cumulativeRevenueA['revenue'], label='A')\n",
    "\n",
    "# Строим график выручки группы B\n",
    "plt.plot(cumulativeRevenueB['date'], cumulativeRevenueB['revenue'], label='B')\n",
    "\n",
    "plt.legend() \n",
    "plt.title('Кумулятивная выручка по группам')\n",
    "plt.xlabel(\"Дата\") \n",
    "plt.ylabel(\"Выручка\")\n",
    "plt.show()"
   ]
  },
  {
   "cell_type": "markdown",
   "metadata": {},
   "source": [
    "Выручка увеличивается во время всего теста, для группы A - равномерно, для группы B в одной точке есть резкий рост - это может говорить о резком увеличении числа заказов или о наличии выбросов - очень дорогих заказов."
   ]
  },
  {
   "cell_type": "markdown",
   "metadata": {},
   "source": [
    "Кумулятивный средний чек по группам"
   ]
  },
  {
   "cell_type": "code",
   "execution_count": 11,
   "metadata": {},
   "outputs": [
    {
     "data": {
      "image/png": "[encoded data removed]",
      "text/plain": [
       "<Figure size 792x432 with 1 Axes>"
      ]
     },
     "metadata": {
      "needs_background": "light"
     },
     "output_type": "display_data"
    }
   ],
   "source": [
    "cumulativeRevenueA = cumulativeData[cumulativeData['group'] == 'A'][\n",
    "    ['date', 'revenue', 'orders']\n",
    "]\n",
    "cumulativeRevenueB = cumulativeData[cumulativeData['group'] == 'B'][\n",
    "    ['date', 'revenue', 'orders']\n",
    "]\n",
    "\n",
    "plt.figure(figsize=(11,6))\n",
    "\n",
    "plt.plot(cumulativeRevenueA['date'], cumulativeRevenueA['revenue']/cumulativeRevenueA['orders'], label='A')\n",
    "plt.plot(cumulativeRevenueB['date'], cumulativeRevenueB['revenue']/cumulativeRevenueB['orders'], label='B')\n",
    "plt.legend() \n",
    "plt.title('Кумулятивный средний чек по группам')\n",
    "plt.xlabel(\"Дата\") \n",
    "plt.ylabel(\"Средний чек\")\n",
    "plt.show()"
   ]
  },
  {
   "cell_type": "markdown",
   "metadata": {},
   "source": [
    "Средний чек для группы B резко увеличивается приблизительной в той же точке, что и на графике кумулятивной выручки, это подтверждает предположение о том, что в группу попали очень крупные заказы. Для группы A средний чек сначала падал, потом увеличивался и сейчас почти стабилизировался"
   ]
  },
  {
   "cell_type": "markdown",
   "metadata": {},
   "source": [
    "Относительное изменение кумулятивного среднего чека группы B к группе A"
   ]
  },
  {
   "cell_type": "code",
   "execution_count": 12,
   "metadata": {},
   "outputs": [
    {
     "data": {
      "image/png": "[encoded data removed]",
      "text/plain": [
       "<Figure size 792x432 with 1 Axes>"
      ]
     },
     "metadata": {
      "needs_background": "light"
     },
     "output_type": "display_data"
    }
   ],
   "source": [
    "mergedCumulativeRevenue = cumulativeRevenueA.merge(cumulativeRevenueB, left_on='date', right_on='date', how='left', suffixes=['A', 'B'])\n",
    "\n",
    "plt.figure(figsize=(11,6))\n",
    "\n",
    "# cтроим отношение средних чеков\n",
    "plt.plot(mergedCumulativeRevenue['date'], (mergedCumulativeRevenue['revenueB']/mergedCumulativeRevenue['ordersB'])/(mergedCumulativeRevenue['revenueA']/mergedCumulativeRevenue['ordersA'])-1)\n",
    "\n",
    "# добавляем ось X\n",
    "plt.axhline(y=0, color='black', linestyle='--') \n",
    "plt.title('Относительное изменение кумулятивного среднего чека группы B к группе A')\n",
    "plt.show()"
   ]
  },
  {
   "cell_type": "markdown",
   "metadata": {},
   "source": [
    "График различия между группами резко скачет в нескольких точках - это говорит о том, что в данных есть выбросы."
   ]
  },
  {
   "cell_type": "markdown",
   "metadata": {},
   "source": [
    "Кумулятивная конверсия по группам"
   ]
  },
  {
   "cell_type": "code",
   "execution_count": 13,
   "metadata": {},
   "outputs": [
    {
     "data": {
      "text/plain": [
       "(18109.0, 18140.0, 0.0, 0.05)"
      ]
     },
     "execution_count": 13,
     "metadata": {},
     "output_type": "execute_result"
    },
    {
     "data": {
      "image/png": "[encoded data removed]",
      "text/plain": [
       "<Figure size 792x432 with 1 Axes>"
      ]
     },
     "metadata": {
      "needs_background": "light"
     },
     "output_type": "display_data"
    }
   ],
   "source": [
    "cumulativeData['conversion'] = cumulativeData['orders']/cumulativeData['visitors']\n",
    "\n",
    "# отделяем данные по группе A\n",
    "cumulativeDataA = cumulativeData[cumulativeData['group']=='A']\n",
    "\n",
    "# отделяем данные по группе B\n",
    "cumulativeDataB = cumulativeData[cumulativeData['group']=='B']\n",
    "\n",
    "# строим графики\n",
    "plt.figure(figsize=(11,6))\n",
    "plt.plot(cumulativeDataA['date'], cumulativeDataA['conversion'], label='A')\n",
    "plt.plot(cumulativeDataB['date'], cumulativeDataB['conversion'], label='B')\n",
    "plt.title('Кумулятивная конверсия по группам')\n",
    "plt.xlabel(\"Дата\") \n",
    "plt.ylabel(\"Конверсия\")\n",
    "plt.legend()\n",
    "\n",
    "# задаем масштаб осей\n",
    "plt.axis([dt.datetime(2019, 8, 1), dt.datetime(2019, 9, 1), 0, 0.05])"
   ]
  },
  {
   "cell_type": "markdown",
   "metadata": {},
   "source": [
    "Группы колебались около одного значения, но затем конверсия группы B вырвалась вперёд, а конверсия группы A просела, и обе конверсии зафиксировались."
   ]
  },
  {
   "cell_type": "markdown",
   "metadata": {},
   "source": [
    "Относительное изменение кумулятивной конверсии группы B к группе A"
   ]
  },
  {
   "cell_type": "code",
   "execution_count": 14,
   "metadata": {},
   "outputs": [
    {
     "data": {
      "image/png": "[encoded data removed]",
      "text/plain": [
       "<Figure size 792x432 with 1 Axes>"
      ]
     },
     "metadata": {
      "needs_background": "light"
     },
     "output_type": "display_data"
    }
   ],
   "source": [
    "mergedCumulativeConversions = cumulativeDataA[['date','conversion']].merge(cumulativeDataB[['date','conversion']], left_on='date', right_on='date', how='left', suffixes=['A', 'B'])\n",
    "\n",
    "\n",
    "plt.figure(figsize=(11,6))\n",
    "plt.plot(mergedCumulativeConversions['date'], mergedCumulativeConversions['conversionB']/mergedCumulativeConversions['conversionA']-1, label=\"Относительный прирост конверсии группы B относительно группы A\")\n",
    "plt.legend()\n",
    "\n",
    "\n",
    "plt.axhline(y=0, color='black', linestyle='--')\n",
    "plt.axhline(y=0.2, color='grey', linestyle='--')\n",
    "plt.axis([\"2019-08-01\", '2019-09-01', -0.5, 0.5])\n",
    "plt.show()"
   ]
  },
  {
   "cell_type": "markdown",
   "metadata": {},
   "source": [
    "Какое-то время конверсия группы B была даже ниже, чем у группы A, но потом резко увеличилась."
   ]
  },
  {
   "cell_type": "markdown",
   "metadata": {},
   "source": [
    "График количества заказов по пользователям"
   ]
  },
  {
   "cell_type": "code",
   "execution_count": 15,
   "metadata": {
    "scrolled": true
   },
   "outputs": [
    {
     "data": {
      "image/png": "[encoded data removed]",
      "text/plain": [
       "<Figure size 432x288 with 1 Axes>"
      ]
     },
     "metadata": {
      "needs_background": "light"
     },
     "output_type": "display_data"
    }
   ],
   "source": [
    "ordersByUsers = (\n",
    "    orders.groupby('visitorId', as_index=False)\n",
    "    .agg({'transactionId': 'nunique'})\n",
    ")\n",
    "ordersByUsers.columns = ['visitorId', 'orders']\n",
    "\n",
    "x_values = pd.Series(range(0, len(ordersByUsers)))\n",
    "\n",
    "plt.scatter(x_values, ordersByUsers['orders']) \n",
    "plt.title('Количество заказов по пользователям')\n",
    "plt.xlabel(\"Число пользователей\") \n",
    "plt.ylabel(\"Заказы\")\n",
    "plt.show()"
   ]
  },
  {
   "cell_type": "markdown",
   "metadata": {},
   "source": [
    "Большинство пользователей сделало только один заказ, остальные по два заказа."
   ]
  },
  {
   "cell_type": "markdown",
   "metadata": {},
   "source": [
    "Граница для определения аномальных пользователей"
   ]
  },
  {
   "cell_type": "code",
   "execution_count": 16,
   "metadata": {},
   "outputs": [
    {
     "name": "stdout",
     "output_type": "stream",
     "text": [
      "[1. 2.]\n"
     ]
    }
   ],
   "source": [
    "print(np.percentile(ordersByUsers['orders'], [95, 99]))"
   ]
  },
  {
   "cell_type": "markdown",
   "metadata": {},
   "source": [
    "Больше двух заказов совершило не более 1% пользователей. Примем за аномальных тех пользователей, которые совершили более двух заказов."
   ]
  },
  {
   "cell_type": "markdown",
   "metadata": {},
   "source": [
    "График стоимостей заказов"
   ]
  },
  {
   "cell_type": "code",
   "execution_count": 17,
   "metadata": {},
   "outputs": [
    {
     "data": {
      "image/png": "[encoded data removed]",
      "text/plain": [
       "<Figure size 432x288 with 1 Axes>"
      ]
     },
     "metadata": {
      "needs_background": "light"
     },
     "output_type": "display_data"
    }
   ],
   "source": [
    "x_values = pd.Series(range(0,len(orders['revenue'])))\n",
    "plt.scatter(x_values, orders['revenue']) \n",
    "\n",
    "plt.title('Стоимость заказов по пользователям')\n",
    "plt.xlabel(\"Число пользователей\") \n",
    "plt.ylabel(\"Стоимость\")\n",
    "plt.show()"
   ]
  },
  {
   "cell_type": "markdown",
   "metadata": {},
   "source": [
    "Есть два очень дорогих заказа. По графику можно выбрать границу аномально дорогих заказов на уровне 200 000 рублей."
   ]
  },
  {
   "cell_type": "markdown",
   "metadata": {},
   "source": [
    "Граница для определения аномальных заказов"
   ]
  },
  {
   "cell_type": "code",
   "execution_count": 18,
   "metadata": {},
   "outputs": [
    {
     "name": "stdout",
     "output_type": "stream",
     "text": [
      "[26785. 53904.]\n"
     ]
    }
   ],
   "source": [
    "print(np.percentile(orders['revenue'], [95, 99])) "
   ]
  },
  {
   "cell_type": "markdown",
   "metadata": {},
   "source": [
    "Не более 5% заказов дороже 26785 рублей и не более 1% дороже 53904 рублей. Примем за аномальных тех пользователей, кто совершил заказ на сумму свыше 50 000 рублей.    "
   ]
  },
  {
   "cell_type": "markdown",
   "metadata": {},
   "source": [
    "Статистическая значимость различий в конверсии между группами по «сырым» данным"
   ]
  },
  {
   "cell_type": "markdown",
   "metadata": {},
   "source": [
    "Сформулируем нулевую и альтернативную гипотезы:\n",
    "\n",
    "    H0 - между группами нет статистически значимых различий в конверсии\n",
    "    H1 - такие различия в конверсии между группами есть."
   ]
  },
  {
   "cell_type": "code",
   "execution_count": 19,
   "metadata": {},
   "outputs": [],
   "source": [
    "import scipy.stats as stats"
   ]
  },
  {
   "cell_type": "code",
   "execution_count": 20,
   "metadata": {},
   "outputs": [
    {
     "name": "stdout",
     "output_type": "stream",
     "text": [
      "0.01102\n"
     ]
    }
   ],
   "source": [
    "visitorsADaily = visitors[visitors['group'] == 'A'][['date', 'visitors']]\n",
    "visitorsADaily.columns = ['date', 'visitorsPerDateA']\n",
    "\n",
    "visitorsACummulative = visitorsADaily.apply(\n",
    "    lambda x: visitorsADaily[visitorsADaily['date'] <= x['date']].agg(\n",
    "        {'date': 'max', 'visitorsPerDateA': 'sum'}\n",
    "    ),\n",
    "    axis=1,\n",
    ")\n",
    "visitorsACummulative.columns = ['date', 'visitorsCummulativeA']\n",
    "\n",
    "visitorsBDaily = visitors[visitors['group'] == 'B'][['date', 'visitors']]\n",
    "visitorsBDaily.columns = ['date', 'visitorsPerDateB']\n",
    "\n",
    "visitorsBCummulative = visitorsBDaily.apply(\n",
    "    lambda x: visitorsBDaily[visitorsBDaily['date'] <= x['date']].agg(\n",
    "        {'date': 'max', 'visitorsPerDateB': 'sum'}\n",
    "    ),\n",
    "    axis=1,\n",
    ")\n",
    "visitorsBCummulative.columns = ['date', 'visitorsCummulativeB']\n",
    "\n",
    "ordersADaily = (\n",
    "    orders[orders['group'] == 'A'][['date', 'transactionId', 'visitorId', 'revenue']]\n",
    "    .groupby('date', as_index=False)\n",
    "    .agg({'transactionId': pd.Series.nunique, 'revenue': 'sum'})\n",
    ")\n",
    "ordersADaily.columns = ['date', 'ordersPerDateA', 'revenuePerDateA']\n",
    "\n",
    "ordersACummulative = ordersADaily.apply(\n",
    "    lambda x: ordersADaily[ordersADaily['date'] <= x['date']].agg(\n",
    "        {'date': 'max', 'ordersPerDateA': 'sum', 'revenuePerDateA': 'sum'}\n",
    "    ),\n",
    "    axis=1,\n",
    ").sort_values(by=['date'])\n",
    "ordersACummulative.columns = [\n",
    "    'date',\n",
    "    'ordersCummulativeA',\n",
    "    'revenueCummulativeA',\n",
    "]\n",
    "\n",
    "ordersBDaily = (\n",
    "    orders[orders['group'] == 'B'][['date', 'transactionId', 'visitorId', 'revenue']]\n",
    "    .groupby('date', as_index=False)\n",
    "    .agg({'transactionId': pd.Series.nunique, 'revenue': 'sum'})\n",
    ")\n",
    "ordersBDaily.columns = ['date', 'ordersPerDateB', 'revenuePerDateB']\n",
    "\n",
    "ordersBCummulative = ordersBDaily.apply(\n",
    "    lambda x: ordersBDaily[ordersBDaily['date'] <= x['date']].agg(\n",
    "        {'date': 'max', 'ordersPerDateB': 'sum', 'revenuePerDateB': 'sum'}\n",
    "    ),\n",
    "    axis=1,\n",
    ").sort_values(by=['date'])\n",
    "ordersBCummulative.columns = [\n",
    "    'date',\n",
    "    'ordersCummulativeB',\n",
    "    'revenueCummulativeB',\n",
    "]\n",
    "\n",
    "data = (\n",
    "    ordersADaily.merge(\n",
    "        ordersBDaily, left_on='date', right_on='date', how='left'\n",
    "    )\n",
    "    .merge(ordersACummulative, left_on='date', right_on='date', how='left')\n",
    "    .merge(ordersBCummulative, left_on='date', right_on='date', how='left')\n",
    "    .merge(visitorsADaily, left_on='date', right_on='date', how='left')\n",
    "    .merge(visitorsBDaily, left_on='date', right_on='date', how='left')\n",
    "    .merge(visitorsACummulative, left_on='date', right_on='date', how='left')\n",
    "    .merge(visitorsBCummulative, left_on='date', right_on='date', how='left')\n",
    ")\n",
    "\n",
    "ordersByUsersA = (\n",
    "    orders[orders['group'] == 'A']\n",
    "    .groupby('visitorId', as_index=False)\n",
    "    .agg({'transactionId': pd.Series.nunique})\n",
    ")\n",
    "ordersByUsersA.columns = ['visitorId', 'orders']\n",
    "\n",
    "ordersByUsersB = (\n",
    "    orders[orders['group'] == 'B']\n",
    "    .groupby('visitorId', as_index=False)\n",
    "    .agg({'transactionId': pd.Series.nunique})\n",
    ")\n",
    "ordersByUsersB.columns = ['visitorId', 'orders']\n",
    "\n",
    "sampleA = pd.concat(\n",
    "    [\n",
    "        ordersByUsersA['orders'],\n",
    "        pd.Series(\n",
    "            0,\n",
    "            index=np.arange(\n",
    "                data['visitorsPerDateA'].sum() - len(ordersByUsersA['orders'])\n",
    "            ),\n",
    "            name='orders',\n",
    "        ),\n",
    "    ],\n",
    "    axis=0,\n",
    ")\n",
    "\n",
    "sampleB = pd.concat(\n",
    "    [\n",
    "        ordersByUsersB['orders'],\n",
    "        pd.Series(\n",
    "            0,\n",
    "            index=np.arange(\n",
    "                data['visitorsPerDateB'].sum() - len(ordersByUsersB['orders'])\n",
    "            ),\n",
    "            name='orders',\n",
    "        ),\n",
    "    ],\n",
    "    axis=0,\n",
    ")\n",
    "\n",
    "print(\"{0:.5f}\".format(stats.mannwhitneyu(sampleA, sampleB)[1]))"
   ]
  },
  {
   "cell_type": "markdown",
   "metadata": {},
   "source": [
    "P-value меньше 0.05, значит, по сырым данным отвергаем нулевую гипотезу о том, что статистически значимых различий в конверсии между группами нет."
   ]
  },
  {
   "cell_type": "markdown",
   "metadata": {},
   "source": [
    "Статистическая значимость различий в среднем чеке заказа между группами по «сырым» данным"
   ]
  },
  {
   "cell_type": "markdown",
   "metadata": {},
   "source": [
    "Сформулируем нулевую и альтернативную гипотезы:\n",
    "\n",
    "    H0 - между группами нет статистически значимых различий в среднем чеке\n",
    "    H1 - такие различия в среднем чеке между группами есть."
   ]
  },
  {
   "cell_type": "code",
   "execution_count": 21,
   "metadata": {},
   "outputs": [
    {
     "name": "stdout",
     "output_type": "stream",
     "text": [
      "0.829\n"
     ]
    }
   ],
   "source": [
    "print('{0:.3f}'.format(stats.mannwhitneyu(orders[orders['group']=='A']['revenue'], orders[orders['group']=='B']['revenue'])[1]))"
   ]
  },
  {
   "cell_type": "markdown",
   "metadata": {},
   "source": [
    "P-value больше 0.05. Значит, нулевую гипотезу о том, что статистически значимых различий в среднем чеке между группами нет, не отвергаем."
   ]
  },
  {
   "cell_type": "markdown",
   "metadata": {},
   "source": [
    "Статистическая значимость различий в конверсии между группами по «очищенным» данным (после фильтрации проверяем те же самые гипотезы)"
   ]
  },
  {
   "cell_type": "code",
   "execution_count": 22,
   "metadata": {},
   "outputs": [
    {
     "name": "stdout",
     "output_type": "stream",
     "text": [
      "0.00561\n",
      "0.198\n"
     ]
    }
   ],
   "source": [
    "usersWithManyOrders = pd.concat(\n",
    "    [\n",
    "        ordersByUsersA[ordersByUsersA['orders'] > 2]['visitorId'],\n",
    "        ordersByUsersB[ordersByUsersB['orders'] > 2]['visitorId'],\n",
    "    ],\n",
    "    axis=0,\n",
    ")\n",
    "usersWithExpensiveOrders = orders[orders['revenue'] > 50000]['visitorId']\n",
    "abnormalUsers = (\n",
    "    pd.concat([usersWithManyOrders, usersWithExpensiveOrders], axis=0)\n",
    "    .drop_duplicates()\n",
    "    .sort_values()\n",
    ")\n",
    "\n",
    "sampleAFiltered = pd.concat(\n",
    "    [\n",
    "        ordersByUsersA[\n",
    "            np.logical_not(ordersByUsersA['visitorId'].isin(abnormalUsers))\n",
    "        ]['orders'],\n",
    "        pd.Series(\n",
    "            0,\n",
    "            index=np.arange(\n",
    "                data['visitorsPerDateA'].sum() - len(ordersByUsersA['orders'])\n",
    "            ),\n",
    "            name='orders',\n",
    "        ),\n",
    "    ],\n",
    "    axis=0,\n",
    ")\n",
    "\n",
    "sampleBFiltered = pd.concat(\n",
    "    [\n",
    "        ordersByUsersB[\n",
    "            np.logical_not(ordersByUsersB['visitorId'].isin(abnormalUsers))\n",
    "        ]['orders'],\n",
    "        pd.Series(\n",
    "            0,\n",
    "            index=np.arange(\n",
    "                data['visitorsPerDateB'].sum() - len(ordersByUsersB['orders'])\n",
    "            ),\n",
    "            name='orders',\n",
    "        ),\n",
    "    ],\n",
    "    axis=0,\n",
    ")\n",
    "\n",
    "print('{0:.5f}'.format(stats.mannwhitneyu(sampleAFiltered, sampleBFiltered)[1]))\n",
    "print('{0:.3f}'.format(sampleBFiltered.mean()/sampleAFiltered.mean()-1))"
   ]
  },
  {
   "cell_type": "markdown",
   "metadata": {},
   "source": [
    "По очищенным данным также отвергаем нулевую гипотезу о равенстве конверсии, конверсия группы B выше почти на 20%."
   ]
  },
  {
   "cell_type": "markdown",
   "metadata": {},
   "source": [
    "Статистическая значимость различий в среднем чеке между группами по «очищенным» данным"
   ]
  },
  {
   "cell_type": "code",
   "execution_count": 23,
   "metadata": {},
   "outputs": [
    {
     "name": "stdout",
     "output_type": "stream",
     "text": [
      "0.939\n",
      "0.011\n"
     ]
    }
   ],
   "source": [
    "print(\n",
    "    '{0:.3f}'.format(\n",
    "        stats.mannwhitneyu(\n",
    "            orders[\n",
    "                np.logical_and(\n",
    "                    orders['group'] == 'A',\n",
    "                    np.logical_not(orders['visitorId'].isin(abnormalUsers)),\n",
    "                )\n",
    "            ]['revenue'],\n",
    "            orders[\n",
    "                np.logical_and(\n",
    "                    orders['group'] == 'B',\n",
    "                    np.logical_not(orders['visitorId'].isin(abnormalUsers)),\n",
    "                )\n",
    "            ]['revenue'],\n",
    "        )[1]\n",
    "    )\n",
    ")\n",
    "\n",
    "print(\n",
    "    \"{0:.3f}\".format(\n",
    "        orders[\n",
    "            np.logical_and(\n",
    "                orders['group'] == 'B',\n",
    "                np.logical_not(orders['visitorId'].isin(abnormalUsers)),\n",
    "            )\n",
    "        ]['revenue'].mean()\n",
    "        / orders[\n",
    "            np.logical_and(\n",
    "                orders['group'] == 'A',\n",
    "                np.logical_not(orders['visitorId'].isin(abnormalUsers)),\n",
    "            )\n",
    "        ]['revenue'].mean()\n",
    "        - 1\n",
    "    )\n",
    ") "
   ]
  },
  {
   "cell_type": "markdown",
   "metadata": {},
   "source": [
    "Значение p-value после удаления аномальных пользователей стало меньше, но всё ещё больше 0.05, значит, статистически значимых различий в среднем чеке между группами нет, и средний чек группы B на 1% больше."
   ]
  },
  {
   "cell_type": "markdown",
   "metadata": {},
   "source": [
    "Выводы:\n",
    "\n",
    "- статистически значимое различие в конверсии между группами есть и по сырым данным, и после применения фильтрации\n",
    "- конверсия группы B выше, чем группы A\n",
    "- во второй половине эксперимента обе конверсии стабилизировались\n",
    "- тест не выявил статистически значимых различий в среднем чеке между группами, но и по этому показателю группа B немного опережает группу A\n",
    "- тест следует остановить и признать успешным, т.к. по одному показателю сегмент B значительно лучше сегмента A, а по второму различий практически нет. "
   ]
  }
 ],
 "metadata": {
  "ExecuteTimeLog": [
   {
    "duration": 432,
    "start_time": "2022-07-13T16:23:57.428Z"
   },
   {
    "duration": 80,
    "start_time": "2022-07-13T16:26:28.630Z"
   },
   {
    "duration": 17,
    "start_time": "2022-07-13T16:28:45.505Z"
   },
   {
    "duration": 16,
    "start_time": "2022-07-13T16:29:06.106Z"
   },
   {
    "duration": 25,
    "start_time": "2022-07-13T16:29:12.750Z"
   },
   {
    "duration": 10,
    "start_time": "2022-07-13T16:29:59.449Z"
   },
   {
    "duration": 13,
    "start_time": "2022-07-13T16:30:57.876Z"
   },
   {
    "duration": 14,
    "start_time": "2022-07-13T16:44:10.653Z"
   },
   {
    "duration": 11,
    "start_time": "2022-07-13T16:44:14.455Z"
   },
   {
    "duration": 8,
    "start_time": "2022-07-13T17:31:28.899Z"
   },
   {
    "duration": 90,
    "start_time": "2022-07-13T17:31:34.362Z"
   },
   {
    "duration": 8,
    "start_time": "2022-07-13T17:31:37.721Z"
   },
   {
    "duration": 6,
    "start_time": "2022-07-13T17:31:48.230Z"
   },
   {
    "duration": 205,
    "start_time": "2022-07-13T17:35:06.874Z"
   },
   {
    "duration": 392,
    "start_time": "2022-07-13T17:35:29.281Z"
   },
   {
    "duration": 222,
    "start_time": "2022-07-13T17:35:32.605Z"
   },
   {
    "duration": 35,
    "start_time": "2022-07-13T17:35:50.879Z"
   },
   {
    "duration": 206,
    "start_time": "2022-07-13T17:35:53.932Z"
   },
   {
    "duration": 259,
    "start_time": "2022-07-13T17:36:37.485Z"
   },
   {
    "duration": 340,
    "start_time": "2022-07-13T17:38:34.847Z"
   },
   {
    "duration": 33,
    "start_time": "2022-07-13T17:40:41.119Z"
   },
   {
    "duration": 323,
    "start_time": "2022-07-13T17:40:44.936Z"
   },
   {
    "duration": 602,
    "start_time": "2022-07-13T17:41:12.808Z"
   },
   {
    "duration": 174,
    "start_time": "2022-07-13T17:45:29.766Z"
   },
   {
    "duration": 63,
    "start_time": "2022-07-13T17:50:01.401Z"
   },
   {
    "duration": 399,
    "start_time": "2022-07-13T17:51:31.577Z"
   },
   {
    "duration": 257,
    "start_time": "2022-07-13T17:56:46.682Z"
   },
   {
    "duration": 245,
    "start_time": "2022-07-13T17:57:46.710Z"
   },
   {
    "duration": 221,
    "start_time": "2022-07-13T17:58:12.981Z"
   },
   {
    "duration": 175,
    "start_time": "2022-07-13T17:58:23.986Z"
   },
   {
    "duration": 340,
    "start_time": "2022-07-13T18:07:01.561Z"
   },
   {
    "duration": 126,
    "start_time": "2022-07-13T18:13:51.798Z"
   },
   {
    "duration": 158,
    "start_time": "2022-07-13T18:14:15.411Z"
   },
   {
    "duration": 156,
    "start_time": "2022-07-13T18:16:31.349Z"
   },
   {
    "duration": 4,
    "start_time": "2022-07-13T18:21:28.596Z"
   },
   {
    "duration": 138,
    "start_time": "2022-07-13T18:25:21.755Z"
   },
   {
    "duration": 102,
    "start_time": "2022-07-13T18:25:43.187Z"
   },
   {
    "duration": 139,
    "start_time": "2022-07-13T18:26:52.084Z"
   },
   {
    "duration": 4,
    "start_time": "2022-07-13T18:30:29.749Z"
   },
   {
    "duration": 138,
    "start_time": "2022-07-13T18:40:44.501Z"
   },
   {
    "duration": 178,
    "start_time": "2022-07-13T18:44:17.459Z"
   },
   {
    "duration": 170,
    "start_time": "2022-07-13T18:44:56.209Z"
   },
   {
    "duration": 102,
    "start_time": "2022-07-13T18:45:21.232Z"
   },
   {
    "duration": 275,
    "start_time": "2022-07-13T18:46:56.115Z"
   },
   {
    "duration": 386,
    "start_time": "2022-07-13T18:47:23.689Z"
   },
   {
    "duration": 213,
    "start_time": "2022-07-13T18:47:25.709Z"
   },
   {
    "duration": 184,
    "start_time": "2022-07-13T19:54:20.650Z"
   },
   {
    "duration": 58,
    "start_time": "2022-07-14T08:35:31.032Z"
   },
   {
    "duration": 510,
    "start_time": "2022-07-14T08:36:38.543Z"
   },
   {
    "duration": 9,
    "start_time": "2022-07-14T08:36:39.055Z"
   },
   {
    "duration": 7,
    "start_time": "2022-07-14T08:36:39.066Z"
   },
   {
    "duration": 383,
    "start_time": "2022-07-14T08:36:39.075Z"
   },
   {
    "duration": 135,
    "start_time": "2022-07-14T08:36:39.460Z"
   },
   {
    "duration": 10,
    "start_time": "2022-07-14T08:36:39.596Z"
   },
   {
    "duration": 10,
    "start_time": "2022-07-14T08:36:39.608Z"
   },
   {
    "duration": 512,
    "start_time": "2022-07-14T08:36:39.619Z"
   },
   {
    "duration": 179,
    "start_time": "2022-07-14T08:36:40.133Z"
   },
   {
    "duration": 390,
    "start_time": "2022-07-14T08:36:40.315Z"
   },
   {
    "duration": 176,
    "start_time": "2022-07-14T08:36:40.707Z"
   },
   {
    "duration": 269,
    "start_time": "2022-07-14T08:36:40.884Z"
   },
   {
    "duration": 131,
    "start_time": "2022-07-14T08:36:41.154Z"
   },
   {
    "duration": 4,
    "start_time": "2022-07-14T08:36:41.287Z"
   },
   {
    "duration": 152,
    "start_time": "2022-07-14T08:36:41.294Z"
   },
   {
    "duration": 4,
    "start_time": "2022-07-14T08:36:41.447Z"
   },
   {
    "duration": 416,
    "start_time": "2022-07-14T08:36:41.464Z"
   },
   {
    "duration": 270,
    "start_time": "2022-07-14T08:36:41.882Z"
   },
   {
    "duration": 0,
    "start_time": "2022-07-14T08:36:42.154Z"
   },
   {
    "duration": 0,
    "start_time": "2022-07-14T08:36:42.155Z"
   },
   {
    "duration": 234,
    "start_time": "2022-07-14T08:39:10.088Z"
   },
   {
    "duration": 413,
    "start_time": "2022-07-14T08:40:02.616Z"
   },
   {
    "duration": 10,
    "start_time": "2022-07-14T08:43:14.184Z"
   },
   {
    "duration": 335,
    "start_time": "2022-07-14T08:43:18.507Z"
   },
   {
    "duration": 10,
    "start_time": "2022-07-14T08:43:21.186Z"
   },
   {
    "duration": 34,
    "start_time": "2022-07-14T08:47:26.600Z"
   },
   {
    "duration": 43,
    "start_time": "2022-07-14T08:50:21.787Z"
   },
   {
    "duration": 41,
    "start_time": "2022-07-14T08:50:52.532Z"
   },
   {
    "duration": 9,
    "start_time": "2022-07-14T08:52:49.855Z"
   },
   {
    "duration": 451,
    "start_time": "2022-07-15T08:15:48.766Z"
   },
   {
    "duration": 11,
    "start_time": "2022-07-15T08:15:49.219Z"
   },
   {
    "duration": 42,
    "start_time": "2022-07-15T08:15:49.232Z"
   },
   {
    "duration": 300,
    "start_time": "2022-07-15T08:15:49.277Z"
   },
   {
    "duration": 53,
    "start_time": "2022-07-15T08:15:49.578Z"
   },
   {
    "duration": 9,
    "start_time": "2022-07-15T08:15:49.633Z"
   },
   {
    "duration": 22,
    "start_time": "2022-07-15T08:15:49.644Z"
   },
   {
    "duration": 590,
    "start_time": "2022-07-15T08:15:49.668Z"
   },
   {
    "duration": 193,
    "start_time": "2022-07-15T08:15:50.260Z"
   },
   {
    "duration": 278,
    "start_time": "2022-07-15T08:15:50.455Z"
   },
   {
    "duration": 252,
    "start_time": "2022-07-15T08:15:50.734Z"
   },
   {
    "duration": 335,
    "start_time": "2022-07-15T08:15:50.988Z"
   },
   {
    "duration": 129,
    "start_time": "2022-07-15T08:15:51.325Z"
   },
   {
    "duration": 4,
    "start_time": "2022-07-15T08:15:51.456Z"
   },
   {
    "duration": 170,
    "start_time": "2022-07-15T08:15:51.462Z"
   },
   {
    "duration": 4,
    "start_time": "2022-07-15T08:15:51.634Z"
   },
   {
    "duration": 404,
    "start_time": "2022-07-15T08:15:51.640Z"
   },
   {
    "duration": 346,
    "start_time": "2022-07-15T08:15:52.046Z"
   },
   {
    "duration": 8,
    "start_time": "2022-07-15T08:15:52.393Z"
   },
   {
    "duration": 42,
    "start_time": "2022-07-15T08:15:52.402Z"
   },
   {
    "duration": 22,
    "start_time": "2022-07-15T08:15:52.445Z"
   },
   {
    "duration": 442,
    "start_time": "2022-07-17T06:33:44.474Z"
   },
   {
    "duration": 9,
    "start_time": "2022-07-17T06:33:44.918Z"
   },
   {
    "duration": 12,
    "start_time": "2022-07-17T06:33:44.928Z"
   },
   {
    "duration": 242,
    "start_time": "2022-07-17T06:33:44.941Z"
   },
   {
    "duration": 134,
    "start_time": "2022-07-17T06:33:45.185Z"
   },
   {
    "duration": 8,
    "start_time": "2022-07-17T06:33:45.320Z"
   },
   {
    "duration": 10,
    "start_time": "2022-07-17T06:33:45.329Z"
   },
   {
    "duration": 512,
    "start_time": "2022-07-17T06:33:45.340Z"
   },
   {
    "duration": 187,
    "start_time": "2022-07-17T06:33:45.853Z"
   },
   {
    "duration": 247,
    "start_time": "2022-07-17T06:33:46.042Z"
   },
   {
    "duration": 214,
    "start_time": "2022-07-17T06:33:46.291Z"
   },
   {
    "duration": 296,
    "start_time": "2022-07-17T06:33:46.509Z"
   },
   {
    "duration": 119,
    "start_time": "2022-07-17T06:33:46.806Z"
   },
   {
    "duration": 4,
    "start_time": "2022-07-17T06:33:46.927Z"
   },
   {
    "duration": 134,
    "start_time": "2022-07-17T06:33:46.932Z"
   },
   {
    "duration": 4,
    "start_time": "2022-07-17T06:33:47.067Z"
   },
   {
    "duration": 422,
    "start_time": "2022-07-17T06:33:47.072Z"
   },
   {
    "duration": 362,
    "start_time": "2022-07-17T06:33:47.496Z"
   },
   {
    "duration": 7,
    "start_time": "2022-07-17T06:33:47.860Z"
   },
   {
    "duration": 43,
    "start_time": "2022-07-17T06:33:47.869Z"
   },
   {
    "duration": 9,
    "start_time": "2022-07-17T06:33:47.913Z"
   },
   {
    "duration": 72,
    "start_time": "2022-07-17T09:05:12.374Z"
   },
   {
    "duration": 438,
    "start_time": "2022-07-17T09:05:15.145Z"
   },
   {
    "duration": 73,
    "start_time": "2022-07-17T09:05:20.119Z"
   },
   {
    "duration": 77,
    "start_time": "2022-07-17T09:06:37.979Z"
   },
   {
    "duration": 18,
    "start_time": "2022-07-17T09:09:32.615Z"
   },
   {
    "duration": 28,
    "start_time": "2022-07-17T09:10:41.148Z"
   },
   {
    "duration": 414,
    "start_time": "2022-07-17T09:10:47.825Z"
   },
   {
    "duration": 160,
    "start_time": "2022-07-17T09:10:49.617Z"
   },
   {
    "duration": 19,
    "start_time": "2022-07-17T09:10:50.988Z"
   },
   {
    "duration": 9,
    "start_time": "2022-07-17T09:12:54.323Z"
   },
   {
    "duration": 8,
    "start_time": "2022-07-17T09:13:00.781Z"
   },
   {
    "duration": 7,
    "start_time": "2022-07-17T09:14:40.584Z"
   },
   {
    "duration": 6,
    "start_time": "2022-07-17T09:15:06.226Z"
   },
   {
    "duration": 11,
    "start_time": "2022-07-17T09:16:09.385Z"
   },
   {
    "duration": 12,
    "start_time": "2022-07-17T09:16:19.137Z"
   },
   {
    "duration": 4,
    "start_time": "2022-07-17T09:21:00.881Z"
   },
   {
    "duration": 7,
    "start_time": "2022-07-17T09:21:08.817Z"
   },
   {
    "duration": 7,
    "start_time": "2022-07-17T09:21:20.888Z"
   },
   {
    "duration": 11,
    "start_time": "2022-07-17T09:23:23.211Z"
   },
   {
    "duration": 256,
    "start_time": "2022-07-17T09:24:03.499Z"
   },
   {
    "duration": 12,
    "start_time": "2022-07-17T09:24:13.016Z"
   },
   {
    "duration": 7,
    "start_time": "2022-07-17T09:26:28.183Z"
   },
   {
    "duration": 17,
    "start_time": "2022-07-17T09:27:11.673Z"
   },
   {
    "duration": 10,
    "start_time": "2022-07-17T09:34:25.933Z"
   },
   {
    "duration": 7,
    "start_time": "2022-07-17T09:34:41.595Z"
   },
   {
    "duration": 4,
    "start_time": "2022-07-17T09:40:59.285Z"
   },
   {
    "duration": 6,
    "start_time": "2022-07-17T09:41:32.564Z"
   },
   {
    "duration": 10,
    "start_time": "2022-07-17T09:41:52.762Z"
   },
   {
    "duration": 10,
    "start_time": "2022-07-17T09:42:14.896Z"
   },
   {
    "duration": 16,
    "start_time": "2022-07-17T09:42:32.611Z"
   },
   {
    "duration": 19,
    "start_time": "2022-07-17T09:43:10.061Z"
   },
   {
    "duration": 30,
    "start_time": "2022-07-17T09:43:44.187Z"
   },
   {
    "duration": 25,
    "start_time": "2022-07-17T09:44:22.240Z"
   },
   {
    "duration": 509,
    "start_time": "2022-07-17T09:45:22.376Z"
   },
   {
    "duration": 250,
    "start_time": "2022-07-17T09:51:35.411Z"
   },
   {
    "duration": 241,
    "start_time": "2022-07-17T09:52:02.665Z"
   },
   {
    "duration": 422,
    "start_time": "2022-07-17T09:52:16.188Z"
   },
   {
    "duration": 37,
    "start_time": "2022-07-17T09:52:16.612Z"
   },
   {
    "duration": 10,
    "start_time": "2022-07-17T09:52:16.651Z"
   },
   {
    "duration": 9,
    "start_time": "2022-07-17T09:52:16.663Z"
   },
   {
    "duration": 217,
    "start_time": "2022-07-17T09:52:16.673Z"
   },
   {
    "duration": 50,
    "start_time": "2022-07-17T09:52:16.892Z"
   },
   {
    "duration": 12,
    "start_time": "2022-07-17T09:52:16.944Z"
   },
   {
    "duration": 23,
    "start_time": "2022-07-17T09:52:16.957Z"
   },
   {
    "duration": 9,
    "start_time": "2022-07-17T09:52:16.982Z"
   },
   {
    "duration": 543,
    "start_time": "2022-07-17T09:52:16.993Z"
   },
   {
    "duration": 183,
    "start_time": "2022-07-17T09:52:17.538Z"
   },
   {
    "duration": 283,
    "start_time": "2022-07-17T09:52:17.722Z"
   },
   {
    "duration": 220,
    "start_time": "2022-07-17T09:52:18.006Z"
   },
   {
    "duration": 292,
    "start_time": "2022-07-17T09:52:18.228Z"
   },
   {
    "duration": 132,
    "start_time": "2022-07-17T09:52:18.521Z"
   },
   {
    "duration": 4,
    "start_time": "2022-07-17T09:52:18.654Z"
   },
   {
    "duration": 152,
    "start_time": "2022-07-17T09:52:18.660Z"
   },
   {
    "duration": 4,
    "start_time": "2022-07-17T09:52:18.814Z"
   },
   {
    "duration": 433,
    "start_time": "2022-07-17T09:52:18.820Z"
   },
   {
    "duration": 378,
    "start_time": "2022-07-17T09:52:19.255Z"
   },
   {
    "duration": 8,
    "start_time": "2022-07-17T09:52:19.635Z"
   },
   {
    "duration": 30,
    "start_time": "2022-07-17T09:52:19.645Z"
   },
   {
    "duration": 27,
    "start_time": "2022-07-17T09:52:19.677Z"
   },
   {
    "duration": 309,
    "start_time": "2022-07-17T09:52:51.386Z"
   },
   {
    "duration": 387,
    "start_time": "2022-07-17T09:53:32.957Z"
   },
   {
    "duration": 243,
    "start_time": "2022-07-17T09:53:34.254Z"
   },
   {
    "duration": 248,
    "start_time": "2022-07-17T09:53:38.295Z"
   },
   {
    "duration": 343,
    "start_time": "2022-07-17T09:53:39.464Z"
   },
   {
    "duration": 393,
    "start_time": "2022-07-17T09:53:50.921Z"
   },
   {
    "duration": 37,
    "start_time": "2022-07-17T09:53:51.318Z"
   },
   {
    "duration": 11,
    "start_time": "2022-07-17T09:53:51.357Z"
   },
   {
    "duration": 12,
    "start_time": "2022-07-17T09:53:51.369Z"
   },
   {
    "duration": 252,
    "start_time": "2022-07-17T09:53:51.383Z"
   },
   {
    "duration": 53,
    "start_time": "2022-07-17T09:53:51.637Z"
   },
   {
    "duration": 25,
    "start_time": "2022-07-17T09:53:51.691Z"
   },
   {
    "duration": 34,
    "start_time": "2022-07-17T09:53:51.718Z"
   },
   {
    "duration": 11,
    "start_time": "2022-07-17T09:53:51.761Z"
   },
   {
    "duration": 610,
    "start_time": "2022-07-17T09:53:51.774Z"
   },
   {
    "duration": 0,
    "start_time": "2022-07-17T09:53:52.385Z"
   },
   {
    "duration": 0,
    "start_time": "2022-07-17T09:53:52.387Z"
   },
   {
    "duration": 0,
    "start_time": "2022-07-17T09:53:52.388Z"
   },
   {
    "duration": 0,
    "start_time": "2022-07-17T09:53:52.401Z"
   },
   {
    "duration": 0,
    "start_time": "2022-07-17T09:53:52.402Z"
   },
   {
    "duration": 0,
    "start_time": "2022-07-17T09:53:52.403Z"
   },
   {
    "duration": 0,
    "start_time": "2022-07-17T09:53:52.405Z"
   },
   {
    "duration": 0,
    "start_time": "2022-07-17T09:53:52.406Z"
   },
   {
    "duration": 0,
    "start_time": "2022-07-17T09:53:52.407Z"
   },
   {
    "duration": 0,
    "start_time": "2022-07-17T09:53:52.411Z"
   },
   {
    "duration": 0,
    "start_time": "2022-07-17T09:53:52.412Z"
   },
   {
    "duration": 0,
    "start_time": "2022-07-17T09:53:52.415Z"
   },
   {
    "duration": 0,
    "start_time": "2022-07-17T09:53:52.418Z"
   },
   {
    "duration": 394,
    "start_time": "2022-07-17T09:56:11.171Z"
   },
   {
    "duration": 45,
    "start_time": "2022-07-17T09:56:11.567Z"
   },
   {
    "duration": 15,
    "start_time": "2022-07-17T09:56:11.618Z"
   },
   {
    "duration": 12,
    "start_time": "2022-07-17T09:56:11.636Z"
   },
   {
    "duration": 237,
    "start_time": "2022-07-17T09:56:11.649Z"
   },
   {
    "duration": 53,
    "start_time": "2022-07-17T09:56:11.888Z"
   },
   {
    "duration": 12,
    "start_time": "2022-07-17T09:56:11.943Z"
   },
   {
    "duration": 22,
    "start_time": "2022-07-17T09:56:11.956Z"
   },
   {
    "duration": 9,
    "start_time": "2022-07-17T09:56:11.979Z"
   },
   {
    "duration": 635,
    "start_time": "2022-07-17T09:56:11.990Z"
   },
   {
    "duration": 193,
    "start_time": "2022-07-17T09:56:12.627Z"
   },
   {
    "duration": 286,
    "start_time": "2022-07-17T09:56:12.822Z"
   },
   {
    "duration": 234,
    "start_time": "2022-07-17T09:56:13.109Z"
   },
   {
    "duration": 271,
    "start_time": "2022-07-17T09:56:13.345Z"
   },
   {
    "duration": 124,
    "start_time": "2022-07-17T09:56:13.618Z"
   },
   {
    "duration": 4,
    "start_time": "2022-07-17T09:56:13.744Z"
   },
   {
    "duration": 156,
    "start_time": "2022-07-17T09:56:13.750Z"
   },
   {
    "duration": 8,
    "start_time": "2022-07-17T09:56:13.912Z"
   },
   {
    "duration": 475,
    "start_time": "2022-07-17T09:56:13.922Z"
   },
   {
    "duration": 359,
    "start_time": "2022-07-17T09:56:14.399Z"
   },
   {
    "duration": 9,
    "start_time": "2022-07-17T09:56:14.760Z"
   },
   {
    "duration": 54,
    "start_time": "2022-07-17T09:56:14.770Z"
   },
   {
    "duration": 13,
    "start_time": "2022-07-17T09:56:14.826Z"
   },
   {
    "duration": 341,
    "start_time": "2022-07-17T09:56:49.729Z"
   },
   {
    "duration": 378,
    "start_time": "2022-07-17T09:57:02.765Z"
   },
   {
    "duration": 37,
    "start_time": "2022-07-17T09:57:03.145Z"
   },
   {
    "duration": 12,
    "start_time": "2022-07-17T09:57:03.183Z"
   },
   {
    "duration": 27,
    "start_time": "2022-07-17T09:57:03.197Z"
   },
   {
    "duration": 926,
    "start_time": "2022-07-17T09:57:03.226Z"
   },
   {
    "duration": 75,
    "start_time": "2022-07-17T09:57:04.154Z"
   },
   {
    "duration": 15,
    "start_time": "2022-07-17T09:57:04.230Z"
   },
   {
    "duration": 44,
    "start_time": "2022-07-17T09:57:04.246Z"
   },
   {
    "duration": 29,
    "start_time": "2022-07-17T09:57:04.293Z"
   },
   {
    "duration": 613,
    "start_time": "2022-07-17T09:57:04.325Z"
   },
   {
    "duration": 201,
    "start_time": "2022-07-17T09:57:04.940Z"
   },
   {
    "duration": 284,
    "start_time": "2022-07-17T09:57:05.142Z"
   },
   {
    "duration": 263,
    "start_time": "2022-07-17T09:57:05.428Z"
   },
   {
    "duration": 300,
    "start_time": "2022-07-17T09:57:05.693Z"
   },
   {
    "duration": 130,
    "start_time": "2022-07-17T09:57:05.994Z"
   },
   {
    "duration": 4,
    "start_time": "2022-07-17T09:57:06.126Z"
   },
   {
    "duration": 140,
    "start_time": "2022-07-17T09:57:06.131Z"
   },
   {
    "duration": 4,
    "start_time": "2022-07-17T09:57:06.273Z"
   },
   {
    "duration": 415,
    "start_time": "2022-07-17T09:57:06.279Z"
   },
   {
    "duration": 385,
    "start_time": "2022-07-17T09:57:06.696Z"
   },
   {
    "duration": 23,
    "start_time": "2022-07-17T09:57:07.083Z"
   },
   {
    "duration": 32,
    "start_time": "2022-07-17T09:57:07.108Z"
   },
   {
    "duration": 9,
    "start_time": "2022-07-17T09:57:07.141Z"
   },
   {
    "duration": 389,
    "start_time": "2022-07-17T09:57:27.923Z"
   },
   {
    "duration": 39,
    "start_time": "2022-07-17T09:57:28.315Z"
   },
   {
    "duration": 12,
    "start_time": "2022-07-17T09:57:28.355Z"
   },
   {
    "duration": 14,
    "start_time": "2022-07-17T09:57:28.369Z"
   },
   {
    "duration": 252,
    "start_time": "2022-07-17T09:57:28.385Z"
   },
   {
    "duration": 50,
    "start_time": "2022-07-17T09:57:28.639Z"
   },
   {
    "duration": 20,
    "start_time": "2022-07-17T09:57:28.691Z"
   },
   {
    "duration": 35,
    "start_time": "2022-07-17T09:57:28.714Z"
   },
   {
    "duration": 10,
    "start_time": "2022-07-17T09:57:28.750Z"
   },
   {
    "duration": 569,
    "start_time": "2022-07-17T09:57:28.762Z"
   },
   {
    "duration": 198,
    "start_time": "2022-07-17T09:57:29.332Z"
   },
   {
    "duration": 290,
    "start_time": "2022-07-17T09:57:29.531Z"
   },
   {
    "duration": 231,
    "start_time": "2022-07-17T09:57:29.823Z"
   },
   {
    "duration": 277,
    "start_time": "2022-07-17T09:57:30.056Z"
   },
   {
    "duration": 147,
    "start_time": "2022-07-17T09:57:30.335Z"
   },
   {
    "duration": 4,
    "start_time": "2022-07-17T09:57:30.485Z"
   },
   {
    "duration": 161,
    "start_time": "2022-07-17T09:57:30.500Z"
   },
   {
    "duration": 4,
    "start_time": "2022-07-17T09:57:30.663Z"
   },
   {
    "duration": 435,
    "start_time": "2022-07-17T09:57:30.669Z"
   },
   {
    "duration": 364,
    "start_time": "2022-07-17T09:57:31.107Z"
   },
   {
    "duration": 8,
    "start_time": "2022-07-17T09:57:31.472Z"
   },
   {
    "duration": 53,
    "start_time": "2022-07-17T09:57:31.482Z"
   },
   {
    "duration": 11,
    "start_time": "2022-07-17T09:57:31.537Z"
   },
   {
    "duration": 398,
    "start_time": "2022-07-17T09:59:11.996Z"
   },
   {
    "duration": 41,
    "start_time": "2022-07-17T09:59:12.396Z"
   },
   {
    "duration": 12,
    "start_time": "2022-07-17T09:59:12.438Z"
   },
   {
    "duration": 11,
    "start_time": "2022-07-17T09:59:12.452Z"
   },
   {
    "duration": 234,
    "start_time": "2022-07-17T09:59:12.465Z"
   },
   {
    "duration": 55,
    "start_time": "2022-07-17T09:59:12.700Z"
   },
   {
    "duration": 11,
    "start_time": "2022-07-17T09:59:12.756Z"
   },
   {
    "duration": 22,
    "start_time": "2022-07-17T09:59:12.769Z"
   },
   {
    "duration": 10,
    "start_time": "2022-07-17T09:59:12.792Z"
   },
   {
    "duration": 539,
    "start_time": "2022-07-17T09:59:12.805Z"
   },
   {
    "duration": 205,
    "start_time": "2022-07-17T09:59:13.346Z"
   },
   {
    "duration": 278,
    "start_time": "2022-07-17T09:59:13.553Z"
   },
   {
    "duration": 278,
    "start_time": "2022-07-17T09:59:13.834Z"
   },
   {
    "duration": 296,
    "start_time": "2022-07-17T09:59:14.114Z"
   },
   {
    "duration": 129,
    "start_time": "2022-07-17T09:59:14.412Z"
   },
   {
    "duration": 5,
    "start_time": "2022-07-17T09:59:14.543Z"
   },
   {
    "duration": 180,
    "start_time": "2022-07-17T09:59:14.550Z"
   },
   {
    "duration": 4,
    "start_time": "2022-07-17T09:59:14.732Z"
   },
   {
    "duration": 360,
    "start_time": "2022-07-17T09:59:14.737Z"
   },
   {
    "duration": 442,
    "start_time": "2022-07-17T09:59:15.101Z"
   },
   {
    "duration": 9,
    "start_time": "2022-07-17T09:59:15.545Z"
   },
   {
    "duration": 63,
    "start_time": "2022-07-17T09:59:15.556Z"
   },
   {
    "duration": 12,
    "start_time": "2022-07-17T09:59:15.622Z"
   },
   {
    "duration": 303,
    "start_time": "2022-07-17T10:00:16.715Z"
   },
   {
    "duration": 269,
    "start_time": "2022-07-17T10:00:42.485Z"
   },
   {
    "duration": 205,
    "start_time": "2022-07-17T10:02:13.723Z"
   },
   {
    "duration": 329,
    "start_time": "2022-07-17T10:03:27.687Z"
   },
   {
    "duration": 286,
    "start_time": "2022-07-17T10:03:40.259Z"
   },
   {
    "duration": 133,
    "start_time": "2022-07-17T10:03:55.365Z"
   },
   {
    "duration": 133,
    "start_time": "2022-07-17T10:04:39.362Z"
   },
   {
    "duration": 115,
    "start_time": "2022-07-17T10:04:57.721Z"
   },
   {
    "duration": 154,
    "start_time": "2022-07-17T10:05:29.484Z"
   },
   {
    "duration": 139,
    "start_time": "2022-07-17T10:05:46.878Z"
   },
   {
    "duration": 340,
    "start_time": "2022-07-17T10:06:45.887Z"
   },
   {
    "duration": 321,
    "start_time": "2022-07-17T10:07:55.230Z"
   },
   {
    "duration": 313,
    "start_time": "2022-07-17T10:08:07.368Z"
   },
   {
    "duration": 308,
    "start_time": "2022-07-17T10:09:21.261Z"
   },
   {
    "duration": 339,
    "start_time": "2022-07-17T10:09:58.283Z"
   },
   {
    "duration": 16,
    "start_time": "2022-07-17T10:18:55.613Z"
   },
   {
    "duration": 17,
    "start_time": "2022-07-17T10:19:15.921Z"
   },
   {
    "duration": 49,
    "start_time": "2022-07-18T16:50:00.776Z"
   },
   {
    "duration": 433,
    "start_time": "2022-07-18T16:50:09.718Z"
   },
   {
    "duration": 80,
    "start_time": "2022-07-18T16:50:10.153Z"
   },
   {
    "duration": 14,
    "start_time": "2022-07-18T16:50:10.235Z"
   },
   {
    "duration": 9,
    "start_time": "2022-07-18T16:50:10.251Z"
   },
   {
    "duration": 433,
    "start_time": "2022-07-18T16:50:10.262Z"
   },
   {
    "duration": 116,
    "start_time": "2022-07-18T16:50:10.697Z"
   },
   {
    "duration": 19,
    "start_time": "2022-07-18T16:50:10.815Z"
   },
   {
    "duration": 23,
    "start_time": "2022-07-18T16:50:10.835Z"
   },
   {
    "duration": 8,
    "start_time": "2022-07-18T16:50:10.860Z"
   },
   {
    "duration": 50,
    "start_time": "2022-07-18T16:50:10.871Z"
   },
   {
    "duration": 632,
    "start_time": "2022-07-18T16:50:10.922Z"
   },
   {
    "duration": 226,
    "start_time": "2022-07-18T16:50:11.556Z"
   },
   {
    "duration": 506,
    "start_time": "2022-07-18T16:50:11.784Z"
   },
   {
    "duration": 237,
    "start_time": "2022-07-18T16:50:12.292Z"
   },
   {
    "duration": 302,
    "start_time": "2022-07-18T16:50:12.531Z"
   },
   {
    "duration": 140,
    "start_time": "2022-07-18T16:50:12.835Z"
   },
   {
    "duration": 4,
    "start_time": "2022-07-18T16:50:12.977Z"
   },
   {
    "duration": 165,
    "start_time": "2022-07-18T16:50:12.982Z"
   },
   {
    "duration": 5,
    "start_time": "2022-07-18T16:50:13.148Z"
   },
   {
    "duration": 456,
    "start_time": "2022-07-18T16:50:13.154Z"
   },
   {
    "duration": 459,
    "start_time": "2022-07-18T16:50:13.612Z"
   },
   {
    "duration": 8,
    "start_time": "2022-07-18T16:50:14.073Z"
   },
   {
    "duration": 50,
    "start_time": "2022-07-18T16:50:14.083Z"
   },
   {
    "duration": 11,
    "start_time": "2022-07-18T16:50:14.135Z"
   },
   {
    "duration": 7,
    "start_time": "2022-07-18T16:51:47.441Z"
   },
   {
    "duration": 101,
    "start_time": "2022-07-18T16:51:53.939Z"
   },
   {
    "duration": 10,
    "start_time": "2022-07-18T16:52:00.366Z"
   },
   {
    "duration": 9,
    "start_time": "2022-07-18T16:52:11.302Z"
   },
   {
    "duration": 8,
    "start_time": "2022-07-18T16:52:49.991Z"
   },
   {
    "duration": 7,
    "start_time": "2022-07-18T16:53:01.577Z"
   },
   {
    "duration": 8,
    "start_time": "2022-07-18T16:53:08.924Z"
   },
   {
    "duration": 7,
    "start_time": "2022-07-18T16:58:41.155Z"
   },
   {
    "duration": 11,
    "start_time": "2022-07-18T16:58:53.261Z"
   },
   {
    "duration": 17,
    "start_time": "2022-07-18T16:59:07.218Z"
   },
   {
    "duration": 11,
    "start_time": "2022-07-18T17:00:04.852Z"
   },
   {
    "duration": 342,
    "start_time": "2022-07-18T17:01:07.293Z"
   },
   {
    "duration": 432,
    "start_time": "2022-07-18T17:01:19.314Z"
   },
   {
    "duration": 37,
    "start_time": "2022-07-18T17:01:19.749Z"
   },
   {
    "duration": 13,
    "start_time": "2022-07-18T17:01:19.788Z"
   },
   {
    "duration": 9,
    "start_time": "2022-07-18T17:01:19.803Z"
   },
   {
    "duration": 265,
    "start_time": "2022-07-18T17:01:19.814Z"
   },
   {
    "duration": 48,
    "start_time": "2022-07-18T17:01:20.080Z"
   },
   {
    "duration": 19,
    "start_time": "2022-07-18T17:01:20.130Z"
   },
   {
    "duration": 11,
    "start_time": "2022-07-18T17:01:20.151Z"
   },
   {
    "duration": 27,
    "start_time": "2022-07-18T17:01:20.163Z"
   },
   {
    "duration": 611,
    "start_time": "2022-07-18T17:01:20.193Z"
   },
   {
    "duration": 226,
    "start_time": "2022-07-18T17:01:20.806Z"
   },
   {
    "duration": 324,
    "start_time": "2022-07-18T17:01:21.034Z"
   },
   {
    "duration": 286,
    "start_time": "2022-07-18T17:01:21.360Z"
   },
   {
    "duration": 339,
    "start_time": "2022-07-18T17:01:21.648Z"
   },
   {
    "duration": 163,
    "start_time": "2022-07-18T17:01:21.990Z"
   },
   {
    "duration": 4,
    "start_time": "2022-07-18T17:01:22.155Z"
   },
   {
    "duration": 157,
    "start_time": "2022-07-18T17:01:22.161Z"
   },
   {
    "duration": 4,
    "start_time": "2022-07-18T17:01:22.320Z"
   },
   {
    "duration": 410,
    "start_time": "2022-07-18T17:01:22.325Z"
   },
   {
    "duration": 407,
    "start_time": "2022-07-18T17:01:22.737Z"
   },
   {
    "duration": 8,
    "start_time": "2022-07-18T17:01:23.145Z"
   },
   {
    "duration": 35,
    "start_time": "2022-07-18T17:01:23.155Z"
   },
   {
    "duration": 28,
    "start_time": "2022-07-18T17:01:23.191Z"
   },
   {
    "duration": 18,
    "start_time": "2022-07-18T17:06:50.907Z"
   },
   {
    "duration": 34,
    "start_time": "2022-07-18T17:09:02.733Z"
   },
   {
    "duration": 10,
    "start_time": "2022-07-18T17:09:10.906Z"
   },
   {
    "duration": 5,
    "start_time": "2022-07-18T17:10:00.204Z"
   },
   {
    "duration": 11,
    "start_time": "2022-07-18T17:17:18.957Z"
   },
   {
    "duration": 35,
    "start_time": "2022-07-18T17:25:06.487Z"
   },
   {
    "duration": 13,
    "start_time": "2022-07-18T17:25:42.254Z"
   },
   {
    "duration": 24,
    "start_time": "2022-07-18T17:27:43.845Z"
   },
   {
    "duration": 25,
    "start_time": "2022-07-18T17:28:31.646Z"
   },
   {
    "duration": 21,
    "start_time": "2022-07-18T17:29:11.861Z"
   },
   {
    "duration": 58,
    "start_time": "2022-07-18T17:29:19.178Z"
   },
   {
    "duration": 23,
    "start_time": "2022-07-18T17:29:21.621Z"
   },
   {
    "duration": 26,
    "start_time": "2022-07-18T17:29:27.337Z"
   },
   {
    "duration": 18,
    "start_time": "2022-07-18T17:40:17.505Z"
   },
   {
    "duration": 432,
    "start_time": "2022-07-19T11:32:38.311Z"
   },
   {
    "duration": 40,
    "start_time": "2022-07-19T11:32:38.745Z"
   },
   {
    "duration": 16,
    "start_time": "2022-07-19T11:32:38.786Z"
   },
   {
    "duration": 11,
    "start_time": "2022-07-19T11:32:38.805Z"
   },
   {
    "duration": 305,
    "start_time": "2022-07-19T11:32:38.818Z"
   },
   {
    "duration": 52,
    "start_time": "2022-07-19T11:32:39.125Z"
   },
   {
    "duration": 24,
    "start_time": "2022-07-19T11:32:39.179Z"
   },
   {
    "duration": 15,
    "start_time": "2022-07-19T11:32:39.204Z"
   },
   {
    "duration": 15,
    "start_time": "2022-07-19T11:32:39.221Z"
   },
   {
    "duration": 615,
    "start_time": "2022-07-19T11:32:39.238Z"
   },
   {
    "duration": 238,
    "start_time": "2022-07-19T11:32:39.855Z"
   },
   {
    "duration": 355,
    "start_time": "2022-07-19T11:32:40.095Z"
   },
   {
    "duration": 280,
    "start_time": "2022-07-19T11:32:40.452Z"
   },
   {
    "duration": 325,
    "start_time": "2022-07-19T11:32:40.734Z"
   },
   {
    "duration": 155,
    "start_time": "2022-07-19T11:32:41.062Z"
   },
   {
    "duration": 4,
    "start_time": "2022-07-19T11:32:41.219Z"
   },
   {
    "duration": 175,
    "start_time": "2022-07-19T11:32:41.226Z"
   },
   {
    "duration": 5,
    "start_time": "2022-07-19T11:32:41.403Z"
   },
   {
    "duration": 422,
    "start_time": "2022-07-19T11:32:41.410Z"
   },
   {
    "duration": 417,
    "start_time": "2022-07-19T11:32:41.834Z"
   },
   {
    "duration": 8,
    "start_time": "2022-07-19T11:32:42.253Z"
   },
   {
    "duration": 33,
    "start_time": "2022-07-19T11:32:42.262Z"
   },
   {
    "duration": 13,
    "start_time": "2022-07-19T11:32:42.297Z"
   },
   {
    "duration": 12,
    "start_time": "2022-07-19T11:34:29.035Z"
   },
   {
    "duration": 9,
    "start_time": "2022-07-19T11:35:17.282Z"
   },
   {
    "duration": 62,
    "start_time": "2022-07-19T12:51:18.978Z"
   },
   {
    "duration": 884,
    "start_time": "2022-07-19T12:51:24.842Z"
   },
   {
    "duration": 33,
    "start_time": "2022-07-19T12:51:26.292Z"
   },
   {
    "duration": 401,
    "start_time": "2022-07-19T12:51:41.701Z"
   },
   {
    "duration": 108,
    "start_time": "2022-07-19T12:51:42.104Z"
   },
   {
    "duration": 12,
    "start_time": "2022-07-19T12:51:42.213Z"
   },
   {
    "duration": 66,
    "start_time": "2022-07-19T12:51:42.227Z"
   },
   {
    "duration": 247,
    "start_time": "2022-07-19T12:51:42.295Z"
   },
   {
    "duration": 176,
    "start_time": "2022-07-19T12:51:42.544Z"
   },
   {
    "duration": 23,
    "start_time": "2022-07-19T12:51:42.721Z"
   },
   {
    "duration": 15,
    "start_time": "2022-07-19T12:51:42.751Z"
   },
   {
    "duration": 36,
    "start_time": "2022-07-19T12:51:42.768Z"
   },
   {
    "duration": 613,
    "start_time": "2022-07-19T12:51:42.806Z"
   },
   {
    "duration": 338,
    "start_time": "2022-07-19T12:51:43.421Z"
   },
   {
    "duration": 523,
    "start_time": "2022-07-19T12:51:43.760Z"
   },
   {
    "duration": 700,
    "start_time": "2022-07-19T12:51:44.284Z"
   },
   {
    "duration": 569,
    "start_time": "2022-07-19T12:51:44.988Z"
   },
   {
    "duration": 390,
    "start_time": "2022-07-19T12:51:45.560Z"
   },
   {
    "duration": 7,
    "start_time": "2022-07-19T12:51:45.952Z"
   },
   {
    "duration": 211,
    "start_time": "2022-07-19T12:51:45.960Z"
   },
   {
    "duration": 9,
    "start_time": "2022-07-19T12:51:46.179Z"
   },
   {
    "duration": 439,
    "start_time": "2022-07-19T12:51:46.190Z"
   },
   {
    "duration": 393,
    "start_time": "2022-07-19T12:51:46.631Z"
   },
   {
    "duration": 8,
    "start_time": "2022-07-19T12:51:47.026Z"
   },
   {
    "duration": 56,
    "start_time": "2022-07-19T12:51:47.035Z"
   },
   {
    "duration": 14,
    "start_time": "2022-07-19T12:51:47.092Z"
   },
   {
    "duration": 9,
    "start_time": "2022-07-19T12:52:44.280Z"
   },
   {
    "duration": 403,
    "start_time": "2022-07-19T12:53:52.932Z"
   },
   {
    "duration": 58,
    "start_time": "2022-07-19T12:53:53.337Z"
   },
   {
    "duration": 10,
    "start_time": "2022-07-19T12:53:53.397Z"
   },
   {
    "duration": 19,
    "start_time": "2022-07-19T12:53:53.409Z"
   },
   {
    "duration": 284,
    "start_time": "2022-07-19T12:53:53.430Z"
   },
   {
    "duration": 74,
    "start_time": "2022-07-19T12:53:53.715Z"
   },
   {
    "duration": 22,
    "start_time": "2022-07-19T12:53:53.791Z"
   },
   {
    "duration": 6,
    "start_time": "2022-07-19T12:53:53.814Z"
   },
   {
    "duration": 43,
    "start_time": "2022-07-19T12:53:53.822Z"
   },
   {
    "duration": 461,
    "start_time": "2022-07-19T12:53:53.868Z"
   },
   {
    "duration": 0,
    "start_time": "2022-07-19T12:53:54.331Z"
   },
   {
    "duration": 0,
    "start_time": "2022-07-19T12:53:54.332Z"
   },
   {
    "duration": 0,
    "start_time": "2022-07-19T12:53:54.334Z"
   },
   {
    "duration": 0,
    "start_time": "2022-07-19T12:53:54.334Z"
   },
   {
    "duration": 0,
    "start_time": "2022-07-19T12:53:54.336Z"
   },
   {
    "duration": 0,
    "start_time": "2022-07-19T12:53:54.337Z"
   },
   {
    "duration": 0,
    "start_time": "2022-07-19T12:53:54.339Z"
   },
   {
    "duration": 0,
    "start_time": "2022-07-19T12:53:54.340Z"
   },
   {
    "duration": 0,
    "start_time": "2022-07-19T12:53:54.341Z"
   },
   {
    "duration": 0,
    "start_time": "2022-07-19T12:53:54.342Z"
   },
   {
    "duration": 0,
    "start_time": "2022-07-19T12:53:54.343Z"
   },
   {
    "duration": 0,
    "start_time": "2022-07-19T12:53:54.344Z"
   },
   {
    "duration": 0,
    "start_time": "2022-07-19T12:53:54.346Z"
   },
   {
    "duration": 8,
    "start_time": "2022-07-19T12:55:44.726Z"
   },
   {
    "duration": 416,
    "start_time": "2022-07-19T12:55:53.397Z"
   },
   {
    "duration": 39,
    "start_time": "2022-07-19T12:55:53.815Z"
   },
   {
    "duration": 16,
    "start_time": "2022-07-19T12:55:53.856Z"
   },
   {
    "duration": 22,
    "start_time": "2022-07-19T12:55:53.875Z"
   },
   {
    "duration": 289,
    "start_time": "2022-07-19T12:55:53.898Z"
   },
   {
    "duration": 49,
    "start_time": "2022-07-19T12:55:54.189Z"
   },
   {
    "duration": 36,
    "start_time": "2022-07-19T12:55:54.240Z"
   },
   {
    "duration": 15,
    "start_time": "2022-07-19T12:55:54.281Z"
   },
   {
    "duration": 25,
    "start_time": "2022-07-19T12:55:54.297Z"
   },
   {
    "duration": 664,
    "start_time": "2022-07-19T12:55:54.326Z"
   },
   {
    "duration": 219,
    "start_time": "2022-07-19T12:55:54.992Z"
   },
   {
    "duration": 468,
    "start_time": "2022-07-19T12:55:55.213Z"
   },
   {
    "duration": 682,
    "start_time": "2022-07-19T12:55:55.686Z"
   },
   {
    "duration": 582,
    "start_time": "2022-07-19T12:55:56.371Z"
   },
   {
    "duration": 315,
    "start_time": "2022-07-19T12:55:56.954Z"
   },
   {
    "duration": 9,
    "start_time": "2022-07-19T12:55:57.275Z"
   },
   {
    "duration": 404,
    "start_time": "2022-07-19T12:55:57.286Z"
   },
   {
    "duration": 58,
    "start_time": "2022-07-19T12:55:57.693Z"
   },
   {
    "duration": 406,
    "start_time": "2022-07-19T12:55:57.756Z"
   },
   {
    "duration": 374,
    "start_time": "2022-07-19T12:55:58.164Z"
   },
   {
    "duration": 13,
    "start_time": "2022-07-19T12:55:58.546Z"
   },
   {
    "duration": 48,
    "start_time": "2022-07-19T12:55:58.561Z"
   },
   {
    "duration": 12,
    "start_time": "2022-07-19T12:55:58.611Z"
   },
   {
    "duration": 134,
    "start_time": "2022-07-19T13:01:23.719Z"
   },
   {
    "duration": 405,
    "start_time": "2022-07-19T13:01:33.406Z"
   },
   {
    "duration": 45,
    "start_time": "2022-07-19T13:01:33.813Z"
   },
   {
    "duration": 14,
    "start_time": "2022-07-19T13:01:33.863Z"
   },
   {
    "duration": 39,
    "start_time": "2022-07-19T13:01:33.880Z"
   },
   {
    "duration": 369,
    "start_time": "2022-07-19T13:01:33.922Z"
   },
   {
    "duration": 49,
    "start_time": "2022-07-19T13:01:34.293Z"
   },
   {
    "duration": 31,
    "start_time": "2022-07-19T13:01:34.344Z"
   },
   {
    "duration": 98,
    "start_time": "2022-07-19T13:01:34.377Z"
   },
   {
    "duration": 0,
    "start_time": "2022-07-19T13:01:34.477Z"
   },
   {
    "duration": 0,
    "start_time": "2022-07-19T13:01:34.479Z"
   },
   {
    "duration": 0,
    "start_time": "2022-07-19T13:01:34.481Z"
   },
   {
    "duration": 0,
    "start_time": "2022-07-19T13:01:34.482Z"
   },
   {
    "duration": 0,
    "start_time": "2022-07-19T13:01:34.484Z"
   },
   {
    "duration": 0,
    "start_time": "2022-07-19T13:01:34.485Z"
   },
   {
    "duration": 0,
    "start_time": "2022-07-19T13:01:34.486Z"
   },
   {
    "duration": 0,
    "start_time": "2022-07-19T13:01:34.487Z"
   },
   {
    "duration": 0,
    "start_time": "2022-07-19T13:01:34.488Z"
   },
   {
    "duration": 0,
    "start_time": "2022-07-19T13:01:34.490Z"
   },
   {
    "duration": 0,
    "start_time": "2022-07-19T13:01:34.491Z"
   },
   {
    "duration": 0,
    "start_time": "2022-07-19T13:01:34.492Z"
   },
   {
    "duration": 0,
    "start_time": "2022-07-19T13:01:34.493Z"
   },
   {
    "duration": 0,
    "start_time": "2022-07-19T13:01:34.494Z"
   },
   {
    "duration": 0,
    "start_time": "2022-07-19T13:01:34.495Z"
   },
   {
    "duration": 16,
    "start_time": "2022-07-19T13:03:07.163Z"
   },
   {
    "duration": 19,
    "start_time": "2022-07-19T13:06:31.861Z"
   },
   {
    "duration": 24,
    "start_time": "2022-07-19T13:06:41.273Z"
   },
   {
    "duration": 28,
    "start_time": "2022-07-19T13:07:56.864Z"
   },
   {
    "duration": 33,
    "start_time": "2022-07-19T13:08:15.332Z"
   },
   {
    "duration": 17,
    "start_time": "2022-07-19T13:10:34.707Z"
   },
   {
    "duration": 389,
    "start_time": "2022-07-19T13:10:52.905Z"
   },
   {
    "duration": 37,
    "start_time": "2022-07-19T13:10:53.296Z"
   },
   {
    "duration": 16,
    "start_time": "2022-07-19T13:10:53.334Z"
   },
   {
    "duration": 13,
    "start_time": "2022-07-19T13:10:53.352Z"
   },
   {
    "duration": 277,
    "start_time": "2022-07-19T13:10:53.367Z"
   },
   {
    "duration": 70,
    "start_time": "2022-07-19T13:10:53.646Z"
   },
   {
    "duration": 23,
    "start_time": "2022-07-19T13:10:53.718Z"
   },
   {
    "duration": 36,
    "start_time": "2022-07-19T13:10:53.743Z"
   },
   {
    "duration": 15,
    "start_time": "2022-07-19T13:10:53.781Z"
   },
   {
    "duration": 642,
    "start_time": "2022-07-19T13:10:53.798Z"
   },
   {
    "duration": 244,
    "start_time": "2022-07-19T13:10:54.442Z"
   },
   {
    "duration": 296,
    "start_time": "2022-07-19T13:10:54.687Z"
   },
   {
    "duration": 289,
    "start_time": "2022-07-19T13:10:54.985Z"
   },
   {
    "duration": 335,
    "start_time": "2022-07-19T13:10:55.276Z"
   },
   {
    "duration": 173,
    "start_time": "2022-07-19T13:10:55.613Z"
   },
   {
    "duration": 5,
    "start_time": "2022-07-19T13:10:55.788Z"
   },
   {
    "duration": 180,
    "start_time": "2022-07-19T13:10:55.795Z"
   },
   {
    "duration": 4,
    "start_time": "2022-07-19T13:10:55.978Z"
   },
   {
    "duration": 670,
    "start_time": "2022-07-19T13:10:55.983Z"
   },
   {
    "duration": 827,
    "start_time": "2022-07-19T13:10:56.668Z"
   },
   {
    "duration": 13,
    "start_time": "2022-07-19T13:10:57.546Z"
   },
   {
    "duration": 104,
    "start_time": "2022-07-19T13:10:57.562Z"
   },
   {
    "duration": 17,
    "start_time": "2022-07-19T13:10:57.668Z"
   },
   {
    "duration": 4,
    "start_time": "2022-07-19T13:11:31.103Z"
   },
   {
    "duration": 4,
    "start_time": "2022-07-19T13:11:32.395Z"
   },
   {
    "duration": 30,
    "start_time": "2022-07-19T13:13:16.600Z"
   },
   {
    "duration": 19,
    "start_time": "2022-07-19T13:13:35.037Z"
   },
   {
    "duration": 21,
    "start_time": "2022-07-19T13:15:11.592Z"
   },
   {
    "duration": 443,
    "start_time": "2022-07-20T08:12:24.167Z"
   },
   {
    "duration": 96,
    "start_time": "2022-07-20T08:12:24.612Z"
   },
   {
    "duration": 13,
    "start_time": "2022-07-20T08:12:24.710Z"
   },
   {
    "duration": 13,
    "start_time": "2022-07-20T08:12:24.725Z"
   },
   {
    "duration": 455,
    "start_time": "2022-07-20T08:12:24.740Z"
   },
   {
    "duration": 121,
    "start_time": "2022-07-20T08:12:25.197Z"
   },
   {
    "duration": 27,
    "start_time": "2022-07-20T08:12:25.320Z"
   },
   {
    "duration": 21,
    "start_time": "2022-07-20T08:12:25.350Z"
   },
   {
    "duration": 37,
    "start_time": "2022-07-20T08:12:25.374Z"
   },
   {
    "duration": 628,
    "start_time": "2022-07-20T08:12:25.415Z"
   },
   {
    "duration": 243,
    "start_time": "2022-07-20T08:12:26.045Z"
   },
   {
    "duration": 435,
    "start_time": "2022-07-20T08:12:26.289Z"
   },
   {
    "duration": 228,
    "start_time": "2022-07-20T08:12:26.726Z"
   },
   {
    "duration": 295,
    "start_time": "2022-07-20T08:12:26.956Z"
   },
   {
    "duration": 170,
    "start_time": "2022-07-20T08:12:27.253Z"
   },
   {
    "duration": 5,
    "start_time": "2022-07-20T08:12:27.425Z"
   },
   {
    "duration": 165,
    "start_time": "2022-07-20T08:12:27.432Z"
   },
   {
    "duration": 11,
    "start_time": "2022-07-20T08:12:27.599Z"
   },
   {
    "duration": 435,
    "start_time": "2022-07-20T08:12:27.612Z"
   },
   {
    "duration": 468,
    "start_time": "2022-07-20T08:12:28.049Z"
   },
   {
    "duration": 9,
    "start_time": "2022-07-20T08:12:28.519Z"
   },
   {
    "duration": 40,
    "start_time": "2022-07-20T08:12:28.529Z"
   },
   {
    "duration": 15,
    "start_time": "2022-07-20T08:12:28.571Z"
   }
  ],
  "kernelspec": {
   "display_name": "Python 3 (ipykernel)",
   "language": "python",
   "name": "python3"
  },
  "language_info": {
   "codemirror_mode": {
    "name": "ipython",
    "version": 3
   },
   "file_extension": ".py",
   "mimetype": "text/x-python",
   "name": "python",
   "nbconvert_exporter": "python",
   "pygments_lexer": "ipython3",
   "version": "3.9.5"
  },
  "toc": {
   "base_numbering": 1,
   "nav_menu": {},
   "number_sections": true,
   "sideBar": true,
   "skip_h1_title": true,
   "title_cell": "Table of Contents",
   "title_sidebar": "Contents",
   "toc_cell": false,
   "toc_position": {},
   "toc_section_display": true,
   "toc_window_display": true
  }
 },
 "nbformat": 4,
 "nbformat_minor": 2
}
