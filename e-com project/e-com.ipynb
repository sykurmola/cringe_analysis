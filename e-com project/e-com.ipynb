{
 "cells": [
  {
   "cell_type": "markdown",
   "id": "e57bdc13",
   "metadata": {},
   "source": [
    "# E-commerce - Выявление профилей потребления"
   ]
  },
  {
   "cell_type": "markdown",
   "id": "af25cf2b",
   "metadata": {},
   "source": [
    "Ссылка на презентацию: https://drive.google.com/file/d/1wi4YLcGtXS4ALnrMr5H-Abu51DbnhNeQ/view?usp=sharing"
   ]
  },
  {
   "cell_type": "markdown",
   "id": "7125397f",
   "metadata": {},
   "source": [
    "Задача: \n",
    "    \n",
    "Сегментировать покупателей по профилю потребления \n",
    "\n",
    "Датасет содержит информацию о транзакциях интернет-магазина товаров для дома и быта (дата заказа, индентификатор покупателя, идентификатор заказа, наименование, количество и цена товара). На основе истории покупок нужно по каким-то признакам сегментировать покупателей - сегментация должна помочь сформировать для них персонализированные предложения."
   ]
  },
  {
   "cell_type": "code",
   "execution_count": 1,
   "id": "44166c4a",
   "metadata": {},
   "outputs": [],
   "source": [
    "import pandas as pd \n",
    "import matplotlib.pyplot as plt\n",
    "import seaborn as sns\n",
    "from sklearn import model_selection, preprocessing\n",
    "\n",
    "import re\n",
    "\n",
    "from scipy import stats as st\n",
    "from scipy.stats import ttest_ind  \n",
    "\n",
    "import sys\n",
    "import numpy as np\n",
    "np.set_printoptions(threshold=sys.maxsize)\n",
    "\n",
    "from io import BytesIO\n",
    "import requests\n",
    "\n",
    "import warnings\n",
    "warnings.filterwarnings(\"ignore\")"
   ]
  },
  {
   "cell_type": "markdown",
   "id": "6cd2aa57",
   "metadata": {},
   "source": [
    "### Загрузка данных, изучение общей информации и предобработка"
   ]
  },
  {
   "cell_type": "code",
   "execution_count": 2,
   "id": "def440ed",
   "metadata": {},
   "outputs": [
    {
     "data": {
      "text/html": [
       "<div>\n",
       "<style scoped>\n",
       "    .dataframe tbody tr th:only-of-type {\n",
       "        vertical-align: middle;\n",
       "    }\n",
       "\n",
       "    .dataframe tbody tr th {\n",
       "        vertical-align: top;\n",
       "    }\n",
       "\n",
       "    .dataframe thead th {\n",
       "        text-align: right;\n",
       "    }\n",
       "</style>\n",
       "<table border=\"1\" class=\"dataframe\">\n",
       "  <thead>\n",
       "    <tr style=\"text-align: right;\">\n",
       "      <th></th>\n",
       "      <th>date</th>\n",
       "      <th>customer_id</th>\n",
       "      <th>order_id</th>\n",
       "      <th>product</th>\n",
       "      <th>quantity</th>\n",
       "      <th>price</th>\n",
       "    </tr>\n",
       "  </thead>\n",
       "  <tbody>\n",
       "    <tr>\n",
       "      <th>0</th>\n",
       "      <td>2018100100</td>\n",
       "      <td>ee47d746-6d2f-4d3c-9622-c31412542920</td>\n",
       "      <td>68477</td>\n",
       "      <td>Комнатное растение в горшке Алое Вера, d12, h30</td>\n",
       "      <td>1</td>\n",
       "      <td>142</td>\n",
       "    </tr>\n",
       "    <tr>\n",
       "      <th>1</th>\n",
       "      <td>2018100100</td>\n",
       "      <td>ee47d746-6d2f-4d3c-9622-c31412542920</td>\n",
       "      <td>68477</td>\n",
       "      <td>Комнатное растение в горшке Кофе Арабика, d12,...</td>\n",
       "      <td>1</td>\n",
       "      <td>194</td>\n",
       "    </tr>\n",
       "    <tr>\n",
       "      <th>2</th>\n",
       "      <td>2018100100</td>\n",
       "      <td>ee47d746-6d2f-4d3c-9622-c31412542920</td>\n",
       "      <td>68477</td>\n",
       "      <td>Радермахера d-12 см h-20 см</td>\n",
       "      <td>1</td>\n",
       "      <td>112</td>\n",
       "    </tr>\n",
       "    <tr>\n",
       "      <th>3</th>\n",
       "      <td>2018100100</td>\n",
       "      <td>ee47d746-6d2f-4d3c-9622-c31412542920</td>\n",
       "      <td>68477</td>\n",
       "      <td>Хризолидокарпус Лутесценс d-9 см</td>\n",
       "      <td>1</td>\n",
       "      <td>179</td>\n",
       "    </tr>\n",
       "    <tr>\n",
       "      <th>4</th>\n",
       "      <td>2018100100</td>\n",
       "      <td>ee47d746-6d2f-4d3c-9622-c31412542920</td>\n",
       "      <td>68477</td>\n",
       "      <td>Циперус Зумула d-12 см h-25 см</td>\n",
       "      <td>1</td>\n",
       "      <td>112</td>\n",
       "    </tr>\n",
       "  </tbody>\n",
       "</table>\n",
       "</div>"
      ],
      "text/plain": [
       "         date                           customer_id  order_id  \\\n",
       "0  2018100100  ee47d746-6d2f-4d3c-9622-c31412542920     68477   \n",
       "1  2018100100  ee47d746-6d2f-4d3c-9622-c31412542920     68477   \n",
       "2  2018100100  ee47d746-6d2f-4d3c-9622-c31412542920     68477   \n",
       "3  2018100100  ee47d746-6d2f-4d3c-9622-c31412542920     68477   \n",
       "4  2018100100  ee47d746-6d2f-4d3c-9622-c31412542920     68477   \n",
       "\n",
       "                                             product  quantity  price  \n",
       "0    Комнатное растение в горшке Алое Вера, d12, h30         1    142  \n",
       "1  Комнатное растение в горшке Кофе Арабика, d12,...         1    194  \n",
       "2                        Радермахера d-12 см h-20 см         1    112  \n",
       "3                   Хризолидокарпус Лутесценс d-9 см         1    179  \n",
       "4                     Циперус Зумула d-12 см h-25 см         1    112  "
      ]
     },
     "execution_count": 2,
     "metadata": {},
     "output_type": "execute_result"
    }
   ],
   "source": [
    "spreadsheet_id = '1_IYJQNU4NJhQ4UKhgsTz9VtoiPSoStkGsMFr5o2Pl4U'\n",
    "file_name = 'https://docs.google.com/spreadsheets/d/{}/export?format=csv'.format(spreadsheet_id)\n",
    "r = requests.get(file_name)\n",
    "df = pd.read_csv(BytesIO(r.content))\n",
    "\n",
    "df.head()"
   ]
  },
  {
   "cell_type": "code",
   "execution_count": 3,
   "id": "b21aa319",
   "metadata": {},
   "outputs": [],
   "source": [
    "df['product'] = df['product'].str.lower()"
   ]
  },
  {
   "cell_type": "code",
   "execution_count": 4,
   "id": "6db0a29e",
   "metadata": {},
   "outputs": [
    {
     "name": "stdout",
     "output_type": "stream",
     "text": [
      "<class 'pandas.core.frame.DataFrame'>\n",
      "RangeIndex: 6737 entries, 0 to 6736\n",
      "Data columns (total 6 columns):\n",
      " #   Column       Non-Null Count  Dtype \n",
      "---  ------       --------------  ----- \n",
      " 0   date         6737 non-null   int64 \n",
      " 1   customer_id  6737 non-null   object\n",
      " 2   order_id     6737 non-null   int64 \n",
      " 3   product      6737 non-null   object\n",
      " 4   quantity     6737 non-null   int64 \n",
      " 5   price        6737 non-null   int64 \n",
      "dtypes: int64(4), object(2)\n",
      "memory usage: 315.9+ KB\n"
     ]
    }
   ],
   "source": [
    "df.info()"
   ]
  },
  {
   "cell_type": "code",
   "execution_count": 5,
   "id": "a4ea72f9",
   "metadata": {},
   "outputs": [
    {
     "data": {
      "text/plain": [
       "date           datetime64[ns]\n",
       "customer_id            object\n",
       "order_id                int64\n",
       "product                object\n",
       "quantity                int64\n",
       "price                   int64\n",
       "dtype: object"
      ]
     },
     "execution_count": 5,
     "metadata": {},
     "output_type": "execute_result"
    }
   ],
   "source": [
    "df['date'] = pd.to_datetime(df['date'], format='%Y%m%d%H')\n",
    "df.dtypes"
   ]
  },
  {
   "cell_type": "code",
   "execution_count": 6,
   "id": "bb2f637f",
   "metadata": {},
   "outputs": [
    {
     "data": {
      "text/html": [
       "<div>\n",
       "<style scoped>\n",
       "    .dataframe tbody tr th:only-of-type {\n",
       "        vertical-align: middle;\n",
       "    }\n",
       "\n",
       "    .dataframe tbody tr th {\n",
       "        vertical-align: top;\n",
       "    }\n",
       "\n",
       "    .dataframe thead th {\n",
       "        text-align: right;\n",
       "    }\n",
       "</style>\n",
       "<table border=\"1\" class=\"dataframe\">\n",
       "  <thead>\n",
       "    <tr style=\"text-align: right;\">\n",
       "      <th></th>\n",
       "      <th>date</th>\n",
       "      <th>customer_id</th>\n",
       "      <th>order_id</th>\n",
       "      <th>product</th>\n",
       "      <th>quantity</th>\n",
       "      <th>price</th>\n",
       "    </tr>\n",
       "  </thead>\n",
       "  <tbody>\n",
       "    <tr>\n",
       "      <th>0</th>\n",
       "      <td>2018-10-01</td>\n",
       "      <td>ee47d746-6d2f-4d3c-9622-c31412542920</td>\n",
       "      <td>68477</td>\n",
       "      <td>комнатное растение в горшке алое вера, d12, h30</td>\n",
       "      <td>1</td>\n",
       "      <td>142</td>\n",
       "    </tr>\n",
       "    <tr>\n",
       "      <th>1</th>\n",
       "      <td>2018-10-01</td>\n",
       "      <td>ee47d746-6d2f-4d3c-9622-c31412542920</td>\n",
       "      <td>68477</td>\n",
       "      <td>комнатное растение в горшке кофе арабика, d12,...</td>\n",
       "      <td>1</td>\n",
       "      <td>194</td>\n",
       "    </tr>\n",
       "    <tr>\n",
       "      <th>2</th>\n",
       "      <td>2018-10-01</td>\n",
       "      <td>ee47d746-6d2f-4d3c-9622-c31412542920</td>\n",
       "      <td>68477</td>\n",
       "      <td>радермахера d-12 см h-20 см</td>\n",
       "      <td>1</td>\n",
       "      <td>112</td>\n",
       "    </tr>\n",
       "    <tr>\n",
       "      <th>3</th>\n",
       "      <td>2018-10-01</td>\n",
       "      <td>ee47d746-6d2f-4d3c-9622-c31412542920</td>\n",
       "      <td>68477</td>\n",
       "      <td>хризолидокарпус лутесценс d-9 см</td>\n",
       "      <td>1</td>\n",
       "      <td>179</td>\n",
       "    </tr>\n",
       "    <tr>\n",
       "      <th>4</th>\n",
       "      <td>2018-10-01</td>\n",
       "      <td>ee47d746-6d2f-4d3c-9622-c31412542920</td>\n",
       "      <td>68477</td>\n",
       "      <td>циперус зумула d-12 см h-25 см</td>\n",
       "      <td>1</td>\n",
       "      <td>112</td>\n",
       "    </tr>\n",
       "  </tbody>\n",
       "</table>\n",
       "</div>"
      ],
      "text/plain": [
       "        date                           customer_id  order_id  \\\n",
       "0 2018-10-01  ee47d746-6d2f-4d3c-9622-c31412542920     68477   \n",
       "1 2018-10-01  ee47d746-6d2f-4d3c-9622-c31412542920     68477   \n",
       "2 2018-10-01  ee47d746-6d2f-4d3c-9622-c31412542920     68477   \n",
       "3 2018-10-01  ee47d746-6d2f-4d3c-9622-c31412542920     68477   \n",
       "4 2018-10-01  ee47d746-6d2f-4d3c-9622-c31412542920     68477   \n",
       "\n",
       "                                             product  quantity  price  \n",
       "0    комнатное растение в горшке алое вера, d12, h30         1    142  \n",
       "1  комнатное растение в горшке кофе арабика, d12,...         1    194  \n",
       "2                        радермахера d-12 см h-20 см         1    112  \n",
       "3                   хризолидокарпус лутесценс d-9 см         1    179  \n",
       "4                     циперус зумула d-12 см h-25 см         1    112  "
      ]
     },
     "execution_count": 6,
     "metadata": {},
     "output_type": "execute_result"
    }
   ],
   "source": [
    "df.head()"
   ]
  },
  {
   "cell_type": "code",
   "execution_count": 7,
   "id": "946f6112",
   "metadata": {},
   "outputs": [],
   "source": [
    "#на всякий случай добавим отдельные столбцы с временем и днём недели, которые могут пригодиться для сегментации\n",
    "df['hour'] = df['date'].dt.hour\n",
    "df['weekday'] = df['date'].dt.dayofweek"
   ]
  },
  {
   "cell_type": "code",
   "execution_count": 8,
   "id": "19af87ac",
   "metadata": {},
   "outputs": [
    {
     "data": {
      "text/plain": [
       "0"
      ]
     },
     "execution_count": 8,
     "metadata": {},
     "output_type": "execute_result"
    }
   ],
   "source": [
    "df.duplicated().sum()"
   ]
  },
  {
   "cell_type": "markdown",
   "id": "e05854cb",
   "metadata": {},
   "source": [
    "Пропуски и явные дубликаты в данных отсутствуют, но было обнаружено несколько дублирующихся заказов, которые отличаются только по id заказа, а id клиента, время и состав заказа идентичны. Попробуем найти соответствующие строки."
   ]
  },
  {
   "cell_type": "code",
   "execution_count": 9,
   "id": "cc1b5916",
   "metadata": {},
   "outputs": [
    {
     "data": {
      "text/html": [
       "<div>\n",
       "<style scoped>\n",
       "    .dataframe tbody tr th:only-of-type {\n",
       "        vertical-align: middle;\n",
       "    }\n",
       "\n",
       "    .dataframe tbody tr th {\n",
       "        vertical-align: top;\n",
       "    }\n",
       "\n",
       "    .dataframe thead th {\n",
       "        text-align: right;\n",
       "    }\n",
       "</style>\n",
       "<table border=\"1\" class=\"dataframe\">\n",
       "  <thead>\n",
       "    <tr style=\"text-align: right;\">\n",
       "      <th></th>\n",
       "      <th>date</th>\n",
       "      <th>customer_id</th>\n",
       "      <th>order_id</th>\n",
       "      <th>product</th>\n",
       "      <th>quantity</th>\n",
       "      <th>price</th>\n",
       "      <th>hour</th>\n",
       "      <th>weekday</th>\n",
       "    </tr>\n",
       "  </thead>\n",
       "  <tbody>\n",
       "    <tr>\n",
       "      <th>1055</th>\n",
       "      <td>2018-12-02 15:00:00</td>\n",
       "      <td>036118cf-c198-48fa-ba15-6d841482a56d</td>\n",
       "      <td>69175</td>\n",
       "      <td>салатник воларэ блэк 16 см g9403 luminarc</td>\n",
       "      <td>6</td>\n",
       "      <td>97</td>\n",
       "      <td>15</td>\n",
       "      <td>6</td>\n",
       "    </tr>\n",
       "    <tr>\n",
       "      <th>1056</th>\n",
       "      <td>2018-12-02 15:00:00</td>\n",
       "      <td>036118cf-c198-48fa-ba15-6d841482a56d</td>\n",
       "      <td>69175</td>\n",
       "      <td>тарелка суповая воларэ блэк 23 см g9402 luminarc</td>\n",
       "      <td>3</td>\n",
       "      <td>127</td>\n",
       "      <td>15</td>\n",
       "      <td>6</td>\n",
       "    </tr>\n",
       "    <tr>\n",
       "      <th>1057</th>\n",
       "      <td>2018-12-02 15:00:00</td>\n",
       "      <td>036118cf-c198-48fa-ba15-6d841482a56d</td>\n",
       "      <td>69176</td>\n",
       "      <td>салатник воларэ блэк 16 см g9403 luminarc</td>\n",
       "      <td>6</td>\n",
       "      <td>97</td>\n",
       "      <td>15</td>\n",
       "      <td>6</td>\n",
       "    </tr>\n",
       "    <tr>\n",
       "      <th>1058</th>\n",
       "      <td>2018-12-02 15:00:00</td>\n",
       "      <td>036118cf-c198-48fa-ba15-6d841482a56d</td>\n",
       "      <td>69176</td>\n",
       "      <td>тарелка суповая воларэ блэк 23 см g9402 luminarc</td>\n",
       "      <td>3</td>\n",
       "      <td>127</td>\n",
       "      <td>15</td>\n",
       "      <td>6</td>\n",
       "    </tr>\n",
       "    <tr>\n",
       "      <th>1105</th>\n",
       "      <td>2018-12-04 19:00:00</td>\n",
       "      <td>b2da4ddc-71b5-499b-9806-d59c7a7e6cf5</td>\n",
       "      <td>69207</td>\n",
       "      <td>чайник электрический василиса т33-2000 нержаве...</td>\n",
       "      <td>1</td>\n",
       "      <td>749</td>\n",
       "      <td>19</td>\n",
       "      <td>1</td>\n",
       "    </tr>\n",
       "    <tr>\n",
       "      <th>1106</th>\n",
       "      <td>2018-12-04 19:00:00</td>\n",
       "      <td>b2da4ddc-71b5-499b-9806-d59c7a7e6cf5</td>\n",
       "      <td>69208</td>\n",
       "      <td>чайник электрический василиса т33-2000 нержаве...</td>\n",
       "      <td>1</td>\n",
       "      <td>749</td>\n",
       "      <td>19</td>\n",
       "      <td>1</td>\n",
       "    </tr>\n",
       "    <tr>\n",
       "      <th>1486</th>\n",
       "      <td>2019-01-12 11:00:00</td>\n",
       "      <td>364754b9-56fd-49b5-b6fb-d1fca7ca82f9</td>\n",
       "      <td>69795</td>\n",
       "      <td>гладильная доска ника lora fashion hlf 123х46 см</td>\n",
       "      <td>1</td>\n",
       "      <td>1912</td>\n",
       "      <td>11</td>\n",
       "      <td>5</td>\n",
       "    </tr>\n",
       "    <tr>\n",
       "      <th>1487</th>\n",
       "      <td>2019-01-12 11:00:00</td>\n",
       "      <td>364754b9-56fd-49b5-b6fb-d1fca7ca82f9</td>\n",
       "      <td>69796</td>\n",
       "      <td>гладильная доска ника lora fashion hlf 123х46 см</td>\n",
       "      <td>1</td>\n",
       "      <td>1912</td>\n",
       "      <td>11</td>\n",
       "      <td>5</td>\n",
       "    </tr>\n",
       "    <tr>\n",
       "      <th>1526</th>\n",
       "      <td>2019-01-16 15:00:00</td>\n",
       "      <td>fb2f95f0-1f30-4e6a-a75c-92d1e2d341e3</td>\n",
       "      <td>69850</td>\n",
       "      <td>сушилка для белья на батарею, сб5-45, ника</td>\n",
       "      <td>1</td>\n",
       "      <td>134</td>\n",
       "      <td>15</td>\n",
       "      <td>2</td>\n",
       "    </tr>\n",
       "    <tr>\n",
       "      <th>1527</th>\n",
       "      <td>2019-01-16 15:00:00</td>\n",
       "      <td>fb2f95f0-1f30-4e6a-a75c-92d1e2d341e3</td>\n",
       "      <td>69851</td>\n",
       "      <td>сушилка для белья на батарею, сб5-45, ника</td>\n",
       "      <td>1</td>\n",
       "      <td>134</td>\n",
       "      <td>15</td>\n",
       "      <td>2</td>\n",
       "    </tr>\n",
       "    <tr>\n",
       "      <th>1966</th>\n",
       "      <td>2019-02-23 12:00:00</td>\n",
       "      <td>c859b501-2ee9-4eea-a7c7-acedc3a8e1d0</td>\n",
       "      <td>70415</td>\n",
       "      <td>штанга для ванной г-образная, угловая 80х170 с...</td>\n",
       "      <td>1</td>\n",
       "      <td>974</td>\n",
       "      <td>12</td>\n",
       "      <td>5</td>\n",
       "    </tr>\n",
       "    <tr>\n",
       "      <th>1967</th>\n",
       "      <td>2019-02-23 12:00:00</td>\n",
       "      <td>c859b501-2ee9-4eea-a7c7-acedc3a8e1d0</td>\n",
       "      <td>70416</td>\n",
       "      <td>штанга для ванной г-образная, угловая 80х170 с...</td>\n",
       "      <td>1</td>\n",
       "      <td>974</td>\n",
       "      <td>12</td>\n",
       "      <td>5</td>\n",
       "    </tr>\n",
       "    <tr>\n",
       "      <th>2889</th>\n",
       "      <td>2019-04-16 15:00:00</td>\n",
       "      <td>7aefdb9a-5d54-411f-8bc2-91f454b6c7d9</td>\n",
       "      <td>71170</td>\n",
       "      <td>щетка для мытья окон 2 в 1 с телескопической р...</td>\n",
       "      <td>1</td>\n",
       "      <td>1424</td>\n",
       "      <td>15</td>\n",
       "      <td>1</td>\n",
       "    </tr>\n",
       "    <tr>\n",
       "      <th>2890</th>\n",
       "      <td>2019-04-16 15:00:00</td>\n",
       "      <td>7aefdb9a-5d54-411f-8bc2-91f454b6c7d9</td>\n",
       "      <td>71171</td>\n",
       "      <td>щетка для мытья окон 2 в 1 с телескопической р...</td>\n",
       "      <td>1</td>\n",
       "      <td>1424</td>\n",
       "      <td>15</td>\n",
       "      <td>1</td>\n",
       "    </tr>\n",
       "    <tr>\n",
       "      <th>2983</th>\n",
       "      <td>2019-04-20 19:00:00</td>\n",
       "      <td>a87bf506-19fd-4980-93f1-dcc4ecd6d578</td>\n",
       "      <td>71217</td>\n",
       "      <td>тряпкодержатель с металлическим креплением (г)...</td>\n",
       "      <td>1</td>\n",
       "      <td>119</td>\n",
       "      <td>19</td>\n",
       "      <td>5</td>\n",
       "    </tr>\n",
       "    <tr>\n",
       "      <th>2984</th>\n",
       "      <td>2019-04-20 19:00:00</td>\n",
       "      <td>a87bf506-19fd-4980-93f1-dcc4ecd6d578</td>\n",
       "      <td>71218</td>\n",
       "      <td>тряпкодержатель с металлическим креплением (г)...</td>\n",
       "      <td>1</td>\n",
       "      <td>119</td>\n",
       "      <td>19</td>\n",
       "      <td>5</td>\n",
       "    </tr>\n",
       "    <tr>\n",
       "      <th>3014</th>\n",
       "      <td>2019-04-22 10:00:00</td>\n",
       "      <td>d62fee07-7017-4fbf-a2f4-e951340f129d</td>\n",
       "      <td>71233</td>\n",
       "      <td>сушилка для белья напольная ника сб3б 10 м белая</td>\n",
       "      <td>1</td>\n",
       "      <td>569</td>\n",
       "      <td>10</td>\n",
       "      <td>0</td>\n",
       "    </tr>\n",
       "    <tr>\n",
       "      <th>3015</th>\n",
       "      <td>2019-04-22 10:00:00</td>\n",
       "      <td>d62fee07-7017-4fbf-a2f4-e951340f129d</td>\n",
       "      <td>71234</td>\n",
       "      <td>сушилка для белья напольная ника сб3б 10 м белая</td>\n",
       "      <td>1</td>\n",
       "      <td>569</td>\n",
       "      <td>10</td>\n",
       "      <td>0</td>\n",
       "    </tr>\n",
       "    <tr>\n",
       "      <th>3180</th>\n",
       "      <td>2019-04-26 11:00:00</td>\n",
       "      <td>beb2ddb4-aea4-4128-94c9-f88eb71c6a05</td>\n",
       "      <td>71287</td>\n",
       "      <td>ведро для ягод полимербыт 2 л 4311001</td>\n",
       "      <td>8</td>\n",
       "      <td>59</td>\n",
       "      <td>11</td>\n",
       "      <td>4</td>\n",
       "    </tr>\n",
       "    <tr>\n",
       "      <th>3181</th>\n",
       "      <td>2019-04-26 11:00:00</td>\n",
       "      <td>beb2ddb4-aea4-4128-94c9-f88eb71c6a05</td>\n",
       "      <td>71288</td>\n",
       "      <td>ведро для ягод полимербыт 2 л 4311001</td>\n",
       "      <td>8</td>\n",
       "      <td>59</td>\n",
       "      <td>11</td>\n",
       "      <td>4</td>\n",
       "    </tr>\n",
       "    <tr>\n",
       "      <th>3192</th>\n",
       "      <td>2019-04-26 22:00:00</td>\n",
       "      <td>3518a0d5-7634-45e9-a810-d4e228abe5d9</td>\n",
       "      <td>71301</td>\n",
       "      <td>сумка-тележка 2-х колесная gimi argo синяя</td>\n",
       "      <td>1</td>\n",
       "      <td>1087</td>\n",
       "      <td>22</td>\n",
       "      <td>4</td>\n",
       "    </tr>\n",
       "    <tr>\n",
       "      <th>3193</th>\n",
       "      <td>2019-04-26 22:00:00</td>\n",
       "      <td>3518a0d5-7634-45e9-a810-d4e228abe5d9</td>\n",
       "      <td>71302</td>\n",
       "      <td>сумка-тележка 2-х колесная gimi argo синяя</td>\n",
       "      <td>1</td>\n",
       "      <td>1087</td>\n",
       "      <td>22</td>\n",
       "      <td>4</td>\n",
       "    </tr>\n",
       "    <tr>\n",
       "      <th>3340</th>\n",
       "      <td>2019-04-30 19:00:00</td>\n",
       "      <td>877ea53d-c6c8-479c-959b-22bdeba2a743</td>\n",
       "      <td>71329</td>\n",
       "      <td>карниз для ванной комнаты виолет раздвижной 28...</td>\n",
       "      <td>1</td>\n",
       "      <td>224</td>\n",
       "      <td>19</td>\n",
       "      <td>1</td>\n",
       "    </tr>\n",
       "    <tr>\n",
       "      <th>3341</th>\n",
       "      <td>2019-04-30 19:00:00</td>\n",
       "      <td>877ea53d-c6c8-479c-959b-22bdeba2a743</td>\n",
       "      <td>71330</td>\n",
       "      <td>карниз для ванной комнаты виолет раздвижной 28...</td>\n",
       "      <td>1</td>\n",
       "      <td>224</td>\n",
       "      <td>19</td>\n",
       "      <td>1</td>\n",
       "    </tr>\n",
       "    <tr>\n",
       "      <th>5831</th>\n",
       "      <td>2019-07-11 06:00:00</td>\n",
       "      <td>f30fea52-f096-4d36-b7eb-33f9f42c291d</td>\n",
       "      <td>71938</td>\n",
       "      <td>чехол для гладильной доски zalger 520109 130х4...</td>\n",
       "      <td>1</td>\n",
       "      <td>239</td>\n",
       "      <td>6</td>\n",
       "      <td>3</td>\n",
       "    </tr>\n",
       "    <tr>\n",
       "      <th>5832</th>\n",
       "      <td>2019-07-11 06:00:00</td>\n",
       "      <td>f30fea52-f096-4d36-b7eb-33f9f42c291d</td>\n",
       "      <td>71939</td>\n",
       "      <td>чехол для гладильной доски zalger 520109 130х4...</td>\n",
       "      <td>1</td>\n",
       "      <td>239</td>\n",
       "      <td>6</td>\n",
       "      <td>3</td>\n",
       "    </tr>\n",
       "    <tr>\n",
       "      <th>6128</th>\n",
       "      <td>2019-08-18 10:00:00</td>\n",
       "      <td>540072bd-cc85-43b5-a6d6-0a8720499e65</td>\n",
       "      <td>72329</td>\n",
       "      <td>стремянка colombo factotum 4 ступени алюминий ...</td>\n",
       "      <td>1</td>\n",
       "      <td>3449</td>\n",
       "      <td>10</td>\n",
       "      <td>6</td>\n",
       "    </tr>\n",
       "    <tr>\n",
       "      <th>6129</th>\n",
       "      <td>2019-08-18 10:00:00</td>\n",
       "      <td>540072bd-cc85-43b5-a6d6-0a8720499e65</td>\n",
       "      <td>72330</td>\n",
       "      <td>стремянка colombo factotum 4 ступени алюминий ...</td>\n",
       "      <td>1</td>\n",
       "      <td>3449</td>\n",
       "      <td>10</td>\n",
       "      <td>6</td>\n",
       "    </tr>\n",
       "    <tr>\n",
       "      <th>6178</th>\n",
       "      <td>2019-08-25 11:00:00</td>\n",
       "      <td>d02429ab-22e0-4ff2-9465-3082befde444</td>\n",
       "      <td>72399</td>\n",
       "      <td>сумка-тележка 2-х колесная gimi argo синяя</td>\n",
       "      <td>1</td>\n",
       "      <td>1087</td>\n",
       "      <td>11</td>\n",
       "      <td>6</td>\n",
       "    </tr>\n",
       "    <tr>\n",
       "      <th>6179</th>\n",
       "      <td>2019-08-25 11:00:00</td>\n",
       "      <td>d02429ab-22e0-4ff2-9465-3082befde444</td>\n",
       "      <td>72400</td>\n",
       "      <td>сумка-тележка 2-х колесная gimi argo синяя</td>\n",
       "      <td>1</td>\n",
       "      <td>1087</td>\n",
       "      <td>11</td>\n",
       "      <td>6</td>\n",
       "    </tr>\n",
       "    <tr>\n",
       "      <th>6239</th>\n",
       "      <td>2019-09-03 08:00:00</td>\n",
       "      <td>74d76434-2242-4b23-ab92-7fd87d87a802</td>\n",
       "      <td>72096</td>\n",
       "      <td>циперус зумула d-12 см h-25 см</td>\n",
       "      <td>10</td>\n",
       "      <td>106</td>\n",
       "      <td>8</td>\n",
       "      <td>1</td>\n",
       "    </tr>\n",
       "    <tr>\n",
       "      <th>6240</th>\n",
       "      <td>2019-09-03 08:00:00</td>\n",
       "      <td>74d76434-2242-4b23-ab92-7fd87d87a802</td>\n",
       "      <td>72485</td>\n",
       "      <td>циперус зумула d-12 см h-25 см</td>\n",
       "      <td>10</td>\n",
       "      <td>106</td>\n",
       "      <td>8</td>\n",
       "      <td>1</td>\n",
       "    </tr>\n",
       "    <tr>\n",
       "      <th>6502</th>\n",
       "      <td>2019-10-03 13:00:00</td>\n",
       "      <td>7abce1cc-bc8c-4362-b61a-0cbb4822ed29</td>\n",
       "      <td>72843</td>\n",
       "      <td>сумка-тележка хозяйственная rolser jet joy син...</td>\n",
       "      <td>1</td>\n",
       "      <td>3975</td>\n",
       "      <td>13</td>\n",
       "      <td>3</td>\n",
       "    </tr>\n",
       "    <tr>\n",
       "      <th>6503</th>\n",
       "      <td>2019-10-03 13:00:00</td>\n",
       "      <td>7abce1cc-bc8c-4362-b61a-0cbb4822ed29</td>\n",
       "      <td>72844</td>\n",
       "      <td>сумка-тележка хозяйственная rolser jet joy син...</td>\n",
       "      <td>1</td>\n",
       "      <td>3975</td>\n",
       "      <td>13</td>\n",
       "      <td>3</td>\n",
       "    </tr>\n",
       "    <tr>\n",
       "      <th>6568</th>\n",
       "      <td>2019-10-10 14:00:00</td>\n",
       "      <td>5e03e707-a70c-4d8f-b8bb-d0e53f2613ba</td>\n",
       "      <td>72918</td>\n",
       "      <td>эвкалипт гунни d-14 см h-70 см</td>\n",
       "      <td>1</td>\n",
       "      <td>524</td>\n",
       "      <td>14</td>\n",
       "      <td>3</td>\n",
       "    </tr>\n",
       "    <tr>\n",
       "      <th>6569</th>\n",
       "      <td>2019-10-10 14:00:00</td>\n",
       "      <td>5e03e707-a70c-4d8f-b8bb-d0e53f2613ba</td>\n",
       "      <td>72919</td>\n",
       "      <td>эвкалипт гунни d-14 см h-70 см</td>\n",
       "      <td>1</td>\n",
       "      <td>524</td>\n",
       "      <td>14</td>\n",
       "      <td>3</td>\n",
       "    </tr>\n",
       "  </tbody>\n",
       "</table>\n",
       "</div>"
      ],
      "text/plain": [
       "                    date                           customer_id  order_id  \\\n",
       "1055 2018-12-02 15:00:00  036118cf-c198-48fa-ba15-6d841482a56d     69175   \n",
       "1056 2018-12-02 15:00:00  036118cf-c198-48fa-ba15-6d841482a56d     69175   \n",
       "1057 2018-12-02 15:00:00  036118cf-c198-48fa-ba15-6d841482a56d     69176   \n",
       "1058 2018-12-02 15:00:00  036118cf-c198-48fa-ba15-6d841482a56d     69176   \n",
       "1105 2018-12-04 19:00:00  b2da4ddc-71b5-499b-9806-d59c7a7e6cf5     69207   \n",
       "1106 2018-12-04 19:00:00  b2da4ddc-71b5-499b-9806-d59c7a7e6cf5     69208   \n",
       "1486 2019-01-12 11:00:00  364754b9-56fd-49b5-b6fb-d1fca7ca82f9     69795   \n",
       "1487 2019-01-12 11:00:00  364754b9-56fd-49b5-b6fb-d1fca7ca82f9     69796   \n",
       "1526 2019-01-16 15:00:00  fb2f95f0-1f30-4e6a-a75c-92d1e2d341e3     69850   \n",
       "1527 2019-01-16 15:00:00  fb2f95f0-1f30-4e6a-a75c-92d1e2d341e3     69851   \n",
       "1966 2019-02-23 12:00:00  c859b501-2ee9-4eea-a7c7-acedc3a8e1d0     70415   \n",
       "1967 2019-02-23 12:00:00  c859b501-2ee9-4eea-a7c7-acedc3a8e1d0     70416   \n",
       "2889 2019-04-16 15:00:00  7aefdb9a-5d54-411f-8bc2-91f454b6c7d9     71170   \n",
       "2890 2019-04-16 15:00:00  7aefdb9a-5d54-411f-8bc2-91f454b6c7d9     71171   \n",
       "2983 2019-04-20 19:00:00  a87bf506-19fd-4980-93f1-dcc4ecd6d578     71217   \n",
       "2984 2019-04-20 19:00:00  a87bf506-19fd-4980-93f1-dcc4ecd6d578     71218   \n",
       "3014 2019-04-22 10:00:00  d62fee07-7017-4fbf-a2f4-e951340f129d     71233   \n",
       "3015 2019-04-22 10:00:00  d62fee07-7017-4fbf-a2f4-e951340f129d     71234   \n",
       "3180 2019-04-26 11:00:00  beb2ddb4-aea4-4128-94c9-f88eb71c6a05     71287   \n",
       "3181 2019-04-26 11:00:00  beb2ddb4-aea4-4128-94c9-f88eb71c6a05     71288   \n",
       "3192 2019-04-26 22:00:00  3518a0d5-7634-45e9-a810-d4e228abe5d9     71301   \n",
       "3193 2019-04-26 22:00:00  3518a0d5-7634-45e9-a810-d4e228abe5d9     71302   \n",
       "3340 2019-04-30 19:00:00  877ea53d-c6c8-479c-959b-22bdeba2a743     71329   \n",
       "3341 2019-04-30 19:00:00  877ea53d-c6c8-479c-959b-22bdeba2a743     71330   \n",
       "5831 2019-07-11 06:00:00  f30fea52-f096-4d36-b7eb-33f9f42c291d     71938   \n",
       "5832 2019-07-11 06:00:00  f30fea52-f096-4d36-b7eb-33f9f42c291d     71939   \n",
       "6128 2019-08-18 10:00:00  540072bd-cc85-43b5-a6d6-0a8720499e65     72329   \n",
       "6129 2019-08-18 10:00:00  540072bd-cc85-43b5-a6d6-0a8720499e65     72330   \n",
       "6178 2019-08-25 11:00:00  d02429ab-22e0-4ff2-9465-3082befde444     72399   \n",
       "6179 2019-08-25 11:00:00  d02429ab-22e0-4ff2-9465-3082befde444     72400   \n",
       "6239 2019-09-03 08:00:00  74d76434-2242-4b23-ab92-7fd87d87a802     72096   \n",
       "6240 2019-09-03 08:00:00  74d76434-2242-4b23-ab92-7fd87d87a802     72485   \n",
       "6502 2019-10-03 13:00:00  7abce1cc-bc8c-4362-b61a-0cbb4822ed29     72843   \n",
       "6503 2019-10-03 13:00:00  7abce1cc-bc8c-4362-b61a-0cbb4822ed29     72844   \n",
       "6568 2019-10-10 14:00:00  5e03e707-a70c-4d8f-b8bb-d0e53f2613ba     72918   \n",
       "6569 2019-10-10 14:00:00  5e03e707-a70c-4d8f-b8bb-d0e53f2613ba     72919   \n",
       "\n",
       "                                                product  quantity  price  \\\n",
       "1055          салатник воларэ блэк 16 см g9403 luminarc         6     97   \n",
       "1056   тарелка суповая воларэ блэк 23 см g9402 luminarc         3    127   \n",
       "1057          салатник воларэ блэк 16 см g9403 luminarc         6     97   \n",
       "1058   тарелка суповая воларэ блэк 23 см g9402 luminarc         3    127   \n",
       "1105  чайник электрический василиса т33-2000 нержаве...         1    749   \n",
       "1106  чайник электрический василиса т33-2000 нержаве...         1    749   \n",
       "1486   гладильная доска ника lora fashion hlf 123х46 см         1   1912   \n",
       "1487   гладильная доска ника lora fashion hlf 123х46 см         1   1912   \n",
       "1526         сушилка для белья на батарею, сб5-45, ника         1    134   \n",
       "1527         сушилка для белья на батарею, сб5-45, ника         1    134   \n",
       "1966  штанга для ванной г-образная, угловая 80х170 с...         1    974   \n",
       "1967  штанга для ванной г-образная, угловая 80х170 с...         1    974   \n",
       "2889  щетка для мытья окон 2 в 1 с телескопической р...         1   1424   \n",
       "2890  щетка для мытья окон 2 в 1 с телескопической р...         1   1424   \n",
       "2983  тряпкодержатель с металлическим креплением (г)...         1    119   \n",
       "2984  тряпкодержатель с металлическим креплением (г)...         1    119   \n",
       "3014   сушилка для белья напольная ника сб3б 10 м белая         1    569   \n",
       "3015   сушилка для белья напольная ника сб3б 10 м белая         1    569   \n",
       "3180              ведро для ягод полимербыт 2 л 4311001         8     59   \n",
       "3181              ведро для ягод полимербыт 2 л 4311001         8     59   \n",
       "3192         сумка-тележка 2-х колесная gimi argo синяя         1   1087   \n",
       "3193         сумка-тележка 2-х колесная gimi argo синяя         1   1087   \n",
       "3340  карниз для ванной комнаты виолет раздвижной 28...         1    224   \n",
       "3341  карниз для ванной комнаты виолет раздвижной 28...         1    224   \n",
       "5831  чехол для гладильной доски zalger 520109 130х4...         1    239   \n",
       "5832  чехол для гладильной доски zalger 520109 130х4...         1    239   \n",
       "6128  стремянка colombo factotum 4 ступени алюминий ...         1   3449   \n",
       "6129  стремянка colombo factotum 4 ступени алюминий ...         1   3449   \n",
       "6178         сумка-тележка 2-х колесная gimi argo синяя         1   1087   \n",
       "6179         сумка-тележка 2-х колесная gimi argo синяя         1   1087   \n",
       "6239                     циперус зумула d-12 см h-25 см        10    106   \n",
       "6240                     циперус зумула d-12 см h-25 см        10    106   \n",
       "6502  сумка-тележка хозяйственная rolser jet joy син...         1   3975   \n",
       "6503  сумка-тележка хозяйственная rolser jet joy син...         1   3975   \n",
       "6568                     эвкалипт гунни d-14 см h-70 см         1    524   \n",
       "6569                     эвкалипт гунни d-14 см h-70 см         1    524   \n",
       "\n",
       "      hour  weekday  \n",
       "1055    15        6  \n",
       "1056    15        6  \n",
       "1057    15        6  \n",
       "1058    15        6  \n",
       "1105    19        1  \n",
       "1106    19        1  \n",
       "1486    11        5  \n",
       "1487    11        5  \n",
       "1526    15        2  \n",
       "1527    15        2  \n",
       "1966    12        5  \n",
       "1967    12        5  \n",
       "2889    15        1  \n",
       "2890    15        1  \n",
       "2983    19        5  \n",
       "2984    19        5  \n",
       "3014    10        0  \n",
       "3015    10        0  \n",
       "3180    11        4  \n",
       "3181    11        4  \n",
       "3192    22        4  \n",
       "3193    22        4  \n",
       "3340    19        1  \n",
       "3341    19        1  \n",
       "5831     6        3  \n",
       "5832     6        3  \n",
       "6128    10        6  \n",
       "6129    10        6  \n",
       "6178    11        6  \n",
       "6179    11        6  \n",
       "6239     8        1  \n",
       "6240     8        1  \n",
       "6502    13        3  \n",
       "6503    13        3  \n",
       "6568    14        3  \n",
       "6569    14        3  "
      ]
     },
     "execution_count": 9,
     "metadata": {},
     "output_type": "execute_result"
    }
   ],
   "source": [
    "df[df.duplicated(keep=False, subset=['customer_id', 'date', 'quantity', 'product', 'price'])]"
   ]
  },
  {
   "cell_type": "code",
   "execution_count": 10,
   "id": "49f076fc",
   "metadata": {},
   "outputs": [
    {
     "data": {
      "text/plain": [
       "(6719, 8)"
      ]
     },
     "execution_count": 10,
     "metadata": {},
     "output_type": "execute_result"
    }
   ],
   "source": [
    "data = df.drop_duplicates(subset=['customer_id', 'date', 'quantity', 'product', 'price'], keep='first')\n",
    "data.shape"
   ]
  },
  {
   "cell_type": "code",
   "execution_count": 11,
   "id": "3f79abae",
   "metadata": {},
   "outputs": [
    {
     "name": "stdout",
     "output_type": "stream",
     "text": [
      "Доля дублирующихся заказов от всего датасета 0.9973281876206026\n"
     ]
    }
   ],
   "source": [
    "print('Доля дублирующихся заказов от всего датасета', data.shape[0]/df.shape[0])"
   ]
  },
  {
   "cell_type": "markdown",
   "id": "d9275eaf",
   "metadata": {},
   "source": [
    "Таких заказов немного, меньше 1%, в принципе, это могут быть и реальные заказы, например, человек купил ведро и тут же вернулся за ещё одним, но можно их и отбросить. "
   ]
  },
  {
   "cell_type": "code",
   "execution_count": 12,
   "id": "0c945b01",
   "metadata": {},
   "outputs": [
    {
     "data": {
      "text/html": [
       "<div>\n",
       "<style scoped>\n",
       "    .dataframe tbody tr th:only-of-type {\n",
       "        vertical-align: middle;\n",
       "    }\n",
       "\n",
       "    .dataframe tbody tr th {\n",
       "        vertical-align: top;\n",
       "    }\n",
       "\n",
       "    .dataframe thead th {\n",
       "        text-align: right;\n",
       "    }\n",
       "</style>\n",
       "<table border=\"1\" class=\"dataframe\">\n",
       "  <thead>\n",
       "    <tr style=\"text-align: right;\">\n",
       "      <th></th>\n",
       "      <th>date</th>\n",
       "      <th>customer_id</th>\n",
       "      <th>order_id</th>\n",
       "      <th>product</th>\n",
       "      <th>quantity</th>\n",
       "      <th>price</th>\n",
       "      <th>hour</th>\n",
       "      <th>weekday</th>\n",
       "    </tr>\n",
       "  </thead>\n",
       "  <tbody>\n",
       "    <tr>\n",
       "      <th>58</th>\n",
       "      <td>2018-10-02 18:00:00</td>\n",
       "      <td>b731df05-98fa-4610-8496-716ec530a02c</td>\n",
       "      <td>68474</td>\n",
       "      <td>доска гладильная eurogold professional 130х48 ...</td>\n",
       "      <td>1</td>\n",
       "      <td>3299</td>\n",
       "      <td>18</td>\n",
       "      <td>1</td>\n",
       "    </tr>\n",
       "    <tr>\n",
       "      <th>59</th>\n",
       "      <td>2018-10-02 19:00:00</td>\n",
       "      <td>b731df05-98fa-4610-8496-716ec530a02c</td>\n",
       "      <td>68474</td>\n",
       "      <td>доска гладильная eurogold professional 130х48 ...</td>\n",
       "      <td>1</td>\n",
       "      <td>3299</td>\n",
       "      <td>19</td>\n",
       "      <td>1</td>\n",
       "    </tr>\n",
       "    <tr>\n",
       "      <th>60</th>\n",
       "      <td>2018-10-02 20:00:00</td>\n",
       "      <td>b731df05-98fa-4610-8496-716ec530a02c</td>\n",
       "      <td>68474</td>\n",
       "      <td>доска гладильная eurogold professional 130х48 ...</td>\n",
       "      <td>1</td>\n",
       "      <td>3299</td>\n",
       "      <td>20</td>\n",
       "      <td>1</td>\n",
       "    </tr>\n",
       "    <tr>\n",
       "      <th>63</th>\n",
       "      <td>2018-10-03 04:00:00</td>\n",
       "      <td>b731df05-98fa-4610-8496-716ec530a02c</td>\n",
       "      <td>68474</td>\n",
       "      <td>доска гладильная eurogold professional 130х48 ...</td>\n",
       "      <td>1</td>\n",
       "      <td>3299</td>\n",
       "      <td>4</td>\n",
       "      <td>2</td>\n",
       "    </tr>\n",
       "    <tr>\n",
       "      <th>94</th>\n",
       "      <td>2018-10-04 13:00:00</td>\n",
       "      <td>32de7df8-8d4f-4c84-a7b9-c41d00dd83ba</td>\n",
       "      <td>68522</td>\n",
       "      <td>эвкалипт гунни d-17 см h-60 см</td>\n",
       "      <td>1</td>\n",
       "      <td>1409</td>\n",
       "      <td>13</td>\n",
       "      <td>3</td>\n",
       "    </tr>\n",
       "    <tr>\n",
       "      <th>...</th>\n",
       "      <td>...</td>\n",
       "      <td>...</td>\n",
       "      <td>...</td>\n",
       "      <td>...</td>\n",
       "      <td>...</td>\n",
       "      <td>...</td>\n",
       "      <td>...</td>\n",
       "      <td>...</td>\n",
       "    </tr>\n",
       "    <tr>\n",
       "      <th>6706</th>\n",
       "      <td>2019-10-28 10:00:00</td>\n",
       "      <td>57cc80a2-2610-4eef-9457-e7c3bf0c72f0</td>\n",
       "      <td>70960</td>\n",
       "      <td>сумка-тележка 2-х колесная gimi argo красная</td>\n",
       "      <td>1</td>\n",
       "      <td>1087</td>\n",
       "      <td>10</td>\n",
       "      <td>0</td>\n",
       "    </tr>\n",
       "    <tr>\n",
       "      <th>6711</th>\n",
       "      <td>2019-10-28 21:00:00</td>\n",
       "      <td>cb65d08a-dae7-4890-aef0-bb9f79055e02</td>\n",
       "      <td>73108</td>\n",
       "      <td>мирт d-9 см h-15 см</td>\n",
       "      <td>1</td>\n",
       "      <td>134</td>\n",
       "      <td>21</td>\n",
       "      <td>0</td>\n",
       "    </tr>\n",
       "    <tr>\n",
       "      <th>6728</th>\n",
       "      <td>2019-10-31 00:00:00</td>\n",
       "      <td>ffaeab76-3a8d-49ee-860f-17273b2fc8a2</td>\n",
       "      <td>73136</td>\n",
       "      <td>таз пластмассовый со стиральной доской (иж), 1...</td>\n",
       "      <td>1</td>\n",
       "      <td>397</td>\n",
       "      <td>0</td>\n",
       "      <td>3</td>\n",
       "    </tr>\n",
       "    <tr>\n",
       "      <th>6729</th>\n",
       "      <td>2019-10-31 02:00:00</td>\n",
       "      <td>ffaeab76-3a8d-49ee-860f-17273b2fc8a2</td>\n",
       "      <td>73136</td>\n",
       "      <td>таз пластмассовый со стиральной доской (иж), 1...</td>\n",
       "      <td>1</td>\n",
       "      <td>397</td>\n",
       "      <td>2</td>\n",
       "      <td>3</td>\n",
       "    </tr>\n",
       "    <tr>\n",
       "      <th>6736</th>\n",
       "      <td>2019-10-31 16:00:00</td>\n",
       "      <td>344aa778-e436-419e-a9c6-9b8f37b7c1df</td>\n",
       "      <td>73137</td>\n",
       "      <td>сумка-тележка 2-х колесная gimi argo синяя</td>\n",
       "      <td>1</td>\n",
       "      <td>1087</td>\n",
       "      <td>16</td>\n",
       "      <td>3</td>\n",
       "    </tr>\n",
       "  </tbody>\n",
       "</table>\n",
       "<p>1864 rows × 8 columns</p>\n",
       "</div>"
      ],
      "text/plain": [
       "                    date                           customer_id  order_id  \\\n",
       "58   2018-10-02 18:00:00  b731df05-98fa-4610-8496-716ec530a02c     68474   \n",
       "59   2018-10-02 19:00:00  b731df05-98fa-4610-8496-716ec530a02c     68474   \n",
       "60   2018-10-02 20:00:00  b731df05-98fa-4610-8496-716ec530a02c     68474   \n",
       "63   2018-10-03 04:00:00  b731df05-98fa-4610-8496-716ec530a02c     68474   \n",
       "94   2018-10-04 13:00:00  32de7df8-8d4f-4c84-a7b9-c41d00dd83ba     68522   \n",
       "...                  ...                                   ...       ...   \n",
       "6706 2019-10-28 10:00:00  57cc80a2-2610-4eef-9457-e7c3bf0c72f0     70960   \n",
       "6711 2019-10-28 21:00:00  cb65d08a-dae7-4890-aef0-bb9f79055e02     73108   \n",
       "6728 2019-10-31 00:00:00  ffaeab76-3a8d-49ee-860f-17273b2fc8a2     73136   \n",
       "6729 2019-10-31 02:00:00  ffaeab76-3a8d-49ee-860f-17273b2fc8a2     73136   \n",
       "6736 2019-10-31 16:00:00  344aa778-e436-419e-a9c6-9b8f37b7c1df     73137   \n",
       "\n",
       "                                                product  quantity  price  \\\n",
       "58    доска гладильная eurogold professional 130х48 ...         1   3299   \n",
       "59    доска гладильная eurogold professional 130х48 ...         1   3299   \n",
       "60    доска гладильная eurogold professional 130х48 ...         1   3299   \n",
       "63    доска гладильная eurogold professional 130х48 ...         1   3299   \n",
       "94                       эвкалипт гунни d-17 см h-60 см         1   1409   \n",
       "...                                                 ...       ...    ...   \n",
       "6706       сумка-тележка 2-х колесная gimi argo красная         1   1087   \n",
       "6711                                мирт d-9 см h-15 см         1    134   \n",
       "6728  таз пластмассовый со стиральной доской (иж), 1...         1    397   \n",
       "6729  таз пластмассовый со стиральной доской (иж), 1...         1    397   \n",
       "6736         сумка-тележка 2-х колесная gimi argo синяя         1   1087   \n",
       "\n",
       "      hour  weekday  \n",
       "58      18        1  \n",
       "59      19        1  \n",
       "60      20        1  \n",
       "63       4        2  \n",
       "94      13        3  \n",
       "...    ...      ...  \n",
       "6706    10        0  \n",
       "6711    21        0  \n",
       "6728     0        3  \n",
       "6729     2        3  \n",
       "6736    16        3  \n",
       "\n",
       "[1864 rows x 8 columns]"
      ]
     },
     "execution_count": 12,
     "metadata": {},
     "output_type": "execute_result"
    }
   ],
   "source": [
    "data[data.duplicated(subset=['customer_id', 'order_id', 'quantity', 'product', 'price'], keep='first')]"
   ]
  },
  {
   "cell_type": "code",
   "execution_count": 13,
   "id": "b400e2b6",
   "metadata": {},
   "outputs": [
    {
     "data": {
      "text/plain": [
       "0.27742223545170414"
      ]
     },
     "execution_count": 13,
     "metadata": {},
     "output_type": "execute_result"
    }
   ],
   "source": [
    "data.duplicated(subset=['customer_id', 'order_id', 'quantity', 'product', 'price'], keep='first').sum()/data.shape[0]"
   ]
  },
  {
   "cell_type": "code",
   "execution_count": 14,
   "id": "d8657656",
   "metadata": {},
   "outputs": [
    {
     "name": "stdout",
     "output_type": "stream",
     "text": [
      "Количество строк в очищенном датасете 4350\n",
      "Количество заказов в очищенном датасете 2533\n"
     ]
    }
   ],
   "source": [
    "data = data.drop_duplicates(subset=['customer_id', 'order_id', 'quantity', 'product', 'price'], keep=False)\n",
    "print(\"Количество строк в очищенном датасете\", data.shape[0])\n",
    "\n",
    "order_count = data.groupby('order_id')\n",
    "print(\"Количество заказов в очищенном датасете\", len(order_count))"
   ]
  },
  {
   "cell_type": "markdown",
   "id": "c8fa7683",
   "metadata": {},
   "source": [
    "Но есть также абсолютно идентичные заказы, которые отличаются только датой и временем, например, сделаны с разницей в несколько часов, и это больше четверти строк от всего датасета. Можно предположить, что неправильно реализована система записи данных о заказах. Эти данные сохраним в исходном датасете, но для анализа удалим, чтобы они не искажали результат."
   ]
  },
  {
   "cell_type": "markdown",
   "id": "3e5f5552",
   "metadata": {},
   "source": [
    "Для того чтобы выполнить сегментацию клиентов, полезно будет разбить товары на категории. Создадим словарь для категоризации товаров и функцию, которая будет присваивать каждому товару категорию по ключевым словам, а оставшиеся товары войдут в категорию \"растения и кашпо\" (среди наименований товаров в датасете много названий растений, которые сложно было бы вручную вносить в словарь)."
   ]
  },
  {
   "cell_type": "code",
   "execution_count": 15,
   "id": "0dc3363e",
   "metadata": {},
   "outputs": [],
   "source": [
    "category_dict = {\n",
    "  \"товары для ремонта\": [\".*сверло.*\", \".*циркуль.*\", \".*ручка.*\", \".*напильник.*\", \".*вентиляц.*\", \".*пробк.*электрич.*\", \".*шпингалет.*\", \".*уголок.*\", \".*зажигалка.*\", \".*лоток.*\", \".*завертка.*\", \".*строител.*\", \".*шнур.*\", \".*веревка.*\", \".*шпагат.*\", \".*фиксатор.*\", \".*кольца.*\", \".*инструмент.*\", \".*ручка-скоба.*\", \".*полиров.*\", \".*линейка.*\", \".*сварка.*\", \".*стяжка.*\", \".*угольник.*\", \".*бобин.*\", \".*стремян.*\", \".*петл.*\", \".*крепеж.*\", \".*фал капрон.*\", \".*карниз.*\", ], \n",
    "  \"декор\":   [\".*подставк.*\", \".*\\\\bваза.*\"\".*декор.*\", \".*муляж.*\", \".*искусств.*\", \".*фоторамк.*\", \".*картина.*\"],\n",
    "  \"ковры и напольные покрытия\": [\".*ковр.*\", \".*ковёр.*\", \".*ковер.*\"],  \n",
    "  \"кухня и бытовая техника\": [\".*штопор.*\", \".*соковыжималка.*\", \".*сахарница.\", \".*половник.*\", \".*терка.*\", \".*соковарка.*\", \".*сотейник.*\", \".*набор посуд.*\", \".*орехоколка.*\", \".*дуршлаг.*\", \".*стол.*приб.*\", \".*для чеснока.*\", \".*кексов.*\", \".*газ.*плит.*\", \".*картофелемялка.*\", \".*кондитер.*\", \".*бокал.*\", \".*мантоварка.*\", \".*\\\\bфен.*\", \".*лопатк.*\", \".*терка.*\", \".*рыбочистка.*\", \".*утюг.*\", \".*масленка.*\", \".*котел.*\", \".*кружек.*\", \".*кипятил.*\", \".*яйц.*\", \".*яиц.*\", \".*отделитель кост.*\", \".*тортница.*\", \".*раздел.*\", \".*термос.*\", \".*миксер.*\", \".*пылесос.*\", \".*свч.*\", \".*блюд.*\", \".*салфет.*\", \".*овощ.*\", \".*жиров.*\", \".*кухон.*\", \".*против.*\", \".*чай.*\", \".*тарел.*\", \".*.*вилк.*\", \".*ложк.*\", \".*нож.*\", \".*кружк.*\", \".*фужер.*\", \".*кувшин.*\", \".*толкушка.*\", \".*весы.*\", \n",
    "                             \".*просеивать.*\", \".*кастр.*\", \".*хлеб.*\", \".*салатн.*\", \".*сковород.*\", \".*выпеч.*\", \".*скалка.*\", \".*стакан.*\", \".*венчик.*\", \".*сито.*\", \".*светильник.*\"], \n",
    "  \"ванная\": [\".*полотенец.*\", \".*халат.*\", \".*влажн.*\", \".*зубн.*\", \".*таз.*\", \".*туалет.*\", \".*мыл.*\", \".*ерш.*\", \".*ёрш.*\", \".*ванн.*\", \".*вантуз.*\", ],\n",
    "  \"балкон и сад\": [\".*корыто.*\", \".*миска.*\", \".*ковш.*\", \".*кашпо.*\", '.*набор сверел.*', \".*уличный.*\", \".*почтовый.*\", \".*бидон.*\"],\n",
    "  \"стирка и уборка\": [\".*антижир.*\", \".*насадка-моп.*\", \".*совок.*\", \".*глажен.*\", \".*скребок.*\", \".*отбеливат.*\", \".*стирк.*\", \".*кондиционер.*\", \".*посудомоеч.*\", \".*средство.*\", \".*губк.*\", \".*чистящий.*\", \".*перчатки\", \".*мыть.*\", \".*мойка.*\", \".*полотенц.*\",\".*сушил.*\", \".*подрукавник.*\", \".*чехол.*гладил.*\", \".*доска гладил.*\", \".*гладил.*\", \".*прищеп.*\", \".*контейн.*\", \".*швабр.*\", \".*веник.*\", \".*ведр.*\", \".*щетк.*\", \".*тряпк.*\"],\n",
    "  \"текстиль для дома\": [\".*подушк.*\", \".*постель.*\", \".*наматрацник.*\", \".*хлопков.*\", \".*наволочка.*\", \".*подголовник.*\", \".*наматрасник.*\", \".*ткан.*\", \".*текстил.*\", \".*плед.*\", \".*одеял.*\", \".*скатерт.*\", \".*коврик.*\", \".*простын.*\", \".*покрывало.*\"],\n",
    "  \"хранение и порядок\": [\".*\\\\bбак.*\", \".*комод.*\", \".*ролик.*\", \".*\\\\bкофр.*\", \".*совком.*\", \".*короб.*\", \".*детский пуф.*\", \".*урна.*\", \".*хранен.*\", \".*полк.*\", \".*сумк.*\", \".*банка.*\", \".*вешал.*\", \".*корзин.*\", \".*крюч.*\", \".*щетк.*\", \".*чехол.*\", \".*тележ.*\", \".*плечик.*\", \".*обув.*\", ]\n",
    "} "
   ]
  },
  {
   "cell_type": "code",
   "execution_count": 16,
   "id": "1bbc728d",
   "metadata": {},
   "outputs": [],
   "source": [
    "data['product_category'] = ''\n",
    "\n",
    "# функция определения категории\n",
    "def categorize(row):\n",
    "    for key, value in category_dict.items():\n",
    "        for pattern in value:\n",
    "            if re.match(pattern, row[\"product\"]):\n",
    "                return key\n",
    "            \n",
    "    return \"растения и семена\"\n",
    "                \n",
    "     \n",
    "data[\"product_category\"] = data.apply(categorize, axis=1)"
   ]
  },
  {
   "cell_type": "markdown",
   "id": "4051ec6c",
   "metadata": {},
   "source": [
    "<div class=\"alert alert-danger\">\n",
    "<s><b>😔 Необходимо исправить:</b> Зачем ты импортируешь библиотеки, которые уже были импортированы? </s>\n",
    "</div>"
   ]
  },
  {
   "cell_type": "code",
   "execution_count": 17,
   "id": "d7df0700",
   "metadata": {},
   "outputs": [
    {
     "data": {
      "text/plain": [
       "array(['комнатное растение в горшке алое вера, d12, h30',\n",
       "       'комнатное растение в горшке кофе арабика, d12, h25',\n",
       "       'радермахера d-12 см h-20 см', 'хризолидокарпус лутесценс d-9 см',\n",
       "       'циперус зумула d-12 см h-25 см', 'шеффлера лузеана d-9 см',\n",
       "       'юкка нитчатая d-12 см h-25-35 см',\n",
       "       'многолетнее растение тимьян-чабрец розовый объем 0,5 л',\n",
       "       'рассада зелени для кухни базилик тонус, кассета по 6шт',\n",
       "       'рассада зелени для кухни мелиссы в горшке диам. 9 см',\n",
       "       'герань домашняя (пеларгония зональная) цветущая d12, h25-30, коралловая, полумахровая',\n",
       "       'пеларгония зональная диам. 12 см малиновая с красным полумахровая',\n",
       "       'пеларгония зональная диам. 12 см сиренево-красная простая',\n",
       "       'пеларгония зональная диам. 12 см сиреневый полумахровый',\n",
       "       'пеларгония зональная диам. 12 см сиреневый простая',\n",
       "       'суккулент микс d-5 см', 'эхеверия перл фон нюрнберг d-7 см',\n",
       "       'герань домашняя (пеларгония зональная) цветущая , d12, h25-30, красная, махровая',\n",
       "       'герань домашняя (пеларгония зональная) цветущая d12, h25-30, лососевая, махровая',\n",
       "       'адиантум лиза d-12 см',\n",
       "       'герань домашняя (пеларгония зональная) цветущая d12, h25-30, белая, махровая',\n",
       "       'пеларгония зональная диам. 12 см темнорозовая полумахровая',\n",
       "       'кампанула махровая двухцветная d-10 см',\n",
       "       'пеларгония душистая d-13 см',\n",
       "       'пеларгония зональная диам. 12 см красная махровая',\n",
       "       'пеларгония зональная диам. 12 см ярко красная махровая',\n",
       "       'пеларгония зональная махровая белая',\n",
       "       'герань домашняя (пеларгония зональная) цветущая d12, h25-30, малиновая с красным, полумахровая',\n",
       "       'декоративная композиция искуственных цветов букет роз три цветка, цвет в ассортименте 85 см',\n",
       "       'герань домашняя (пеларгония зональная) цветущая d12, h25-30, малиновая, махровая',\n",
       "       'калатея микс d-12 см', 'нолина в цветной керамике d-7 см',\n",
       "       'хлорофитум d-13 см', 'цикламен d-13 см',\n",
       "       'пеларгония зональная диам. 12 см розовая полумахровая',\n",
       "       'пеларгония зональная диам. 12 см розовая с малиновым полумахровая',\n",
       "       'пеларгония зональная диам. 12 см розово-малиновая простая',\n",
       "       'пеларгония зональная махровая лососевая', 'глоксиния d-13 см',\n",
       "       'азалия индика биколор d-12 см', 'гортензия микс d-12 см',\n",
       "       'хризантема космо микс d-12 см',\n",
       "       'герань домашняя (пеларгония зональная) цветущая d12, h25-30, розовая с малиновым, полумахровая',\n",
       "       'герань домашняя (пеларгония зональная) цветущая d12, h25-30, розовая, махровая',\n",
       "       'герань домашняя (пеларгония зональная) цветущая d12, h25-30, розово-красная, полумахровая',\n",
       "       'герань домашняя (пеларгония зональная) цветущая d12, h25-30, розово-малиновая, простая',\n",
       "       'герань домашняя (пеларгония зональная) цветущая d12, h25-30, сиренево-красная, простая',\n",
       "       'герань домашняя (пеларгония зональная) цветущая d12, h25-30, сиреневый, простая',\n",
       "       'герань домашняя (пеларгония зональная) цветущая d12, h25-30, темнорозовая, полумахровая',\n",
       "       'герань домашняя (пеларгония зональная) цветущая d12, h25-30, ярко красная, махровая',\n",
       "       'мирт d-20 см h-25 см',\n",
       "       'цветущее комнатное растение хризантема диаметр горшка 18 см',\n",
       "       'герань домашняя (пеларгония зональная) цветущая d12, h25-30, белая, полумахровая',\n",
       "       'кориандр в кассете 6 шт',\n",
       "       'рассада зелени для кухни базилик арарат, кассета по 6шт',\n",
       "       'рассада зелени для кухни петрушка универсал, кассета по 6шт',\n",
       "       'рассада зелени для кухни шалфея в горшке диам. 9 см',\n",
       "       'герань домашняя (пеларгония зональная) цветущая d12, h25-30, малиново розовая, простая',\n",
       "       'иссоп лекарственный d-9 см', 'сантолина d-9 см',\n",
       "       'аспарагус d-12 см h-30 см',\n",
       "       'пеларгония зональная диам. 12 см лососевая махровая',\n",
       "       'антуриум андрианум блэк d-12 см',\n",
       "       'комнатное растение в горшке аспарагус мейера, d12, h30',\n",
       "       'молодило микс d-9 см', 'фиалка d-11 см', 'гербера d-13 см',\n",
       "       'душица обыкновенная d-9 см', 'мелисса лекарственная d-9 см',\n",
       "       'роза кордана красная мерседес d-10 см',\n",
       "       'роза кордана красная d-10 см', 'фиалка карнавал d-12 см',\n",
       "       'хризантема белая кристалл d-15 см',\n",
       "       'хризантема красная тобаго d-15 см',\n",
       "       'пеларгония зональная диам. 12 см малиново-красная простая',\n",
       "       'пеларгония зональная диам. 12 см белая махровая',\n",
       "       'пеларгония зональная диам. 12 см коралловая полумахровая',\n",
       "       'пеларгония розоцветная ред розебуд молодые растения',\n",
       "       'рассада зелени для кухни лаванды в горшке диам. 9 см',\n",
       "       'рассада зелени для кухни розмарина в горшке диам. 9 см',\n",
       "       'рассада зелени для кухни тимьяна в горшке диам. 9 см',\n",
       "       'бегония ампельная, диам. 12 см',\n",
       "       'рассада пеларгония (герань) зональная блу айз mix смесь объем 0,5 л',\n",
       "       'хризантема корейская смесь окрасок объем 0,75 л',\n",
       "       'розмарин d-12 см',\n",
       "       'герань домашняя (пеларгония зональная) цветущая , d12, h25-30, лососевая, полумахровая',\n",
       "       'антуриум андрианум ванилла d-12 см',\n",
       "       'альбука спиралис фризл-сизл d-12 см',\n",
       "       'бальзамин новогвинейский d-13 см', 'бегония клубневая d-13 см',\n",
       "       'крассула овата d-10 см', 'артемизия (полынь горькая) d-9 см',\n",
       "       'пеларгония зональная махровая микс d-12 см',\n",
       "       'герань домашняя (пеларгония зональная) цветущая d12, h25-30, красно-розовая, простая',\n",
       "       'фиалка микс d-9 см', 'бензин для зажигалок, 1205214',\n",
       "       'лаванда d-9 см', 'мята d-9 см', 'каланхое каландива белое d-7 см',\n",
       "       'примула акаулис микс d-10 см',\n",
       "       'пеларгония зональная диам. 12 см белая полумахровая',\n",
       "       'дендробиум санок полар файр 1 ствол d-12 см',\n",
       "       'герань домашняя (пеларгония зональная) цветущая d12, h25-30, красная, простая',\n",
       "       'калоцефалус брауни крашеный осенний микс d-10 см',\n",
       "       'каллуна гарден герлс трехцветная d-12 см h-27 см',\n",
       "       'капсикум сальса оранжевый d-10 см', 'мимоза стыдливая d-9 см',\n",
       "       'соланум d-10 см', 'пеларгония зональная простая цвет фуксии',\n",
       "       'рассада зелени для кухни мелиссы в кассете по 6 шт',\n",
       "       'герань домашняя (пеларгония зональная) цветущая d12, h25-30, ярко розовая, полумахровая',\n",
       "       'пеларгония d-13 см с топпером на день учителя в подарочной упаковке',\n",
       "       'роза патио белая d-12 см h-30', 'роза патио красная d-12 см h-30',\n",
       "       'роза патио оранжевая d-12 см h-30',\n",
       "       'бархатцы веселая полянка 0,3 г 4660010777505',\n",
       "       'космея очаровашка 0,05 г 4660010779578',\n",
       "       'морковь детская сладость 2 г 4660010775921',\n",
       "       'настурция драгоценность вишнево-розовая 1 г 4660010773316',\n",
       "       'огурец засолочный 0,3 г 4660010776102',\n",
       "       'пеларгония зональная розоцветная ред розебад',\n",
       "       'петуния каскад смесь махровая 10 шт 4660010772784',\n",
       "       'герань домашняя (пеларгония зональная) цветущая d12, h25-30, красная, полумахровая',\n",
       "       'алиссум (лобулярия) снежные одежды 0,2 г 4650091480302',\n",
       "       'гвоздика турецкая роковая страсть 0,05 г 4660010773231',\n",
       "       'годеция рембранд 0,1 г 4650091480128',\n",
       "       'календула пинк сюрпрайз 0,5 г 4650091480203',\n",
       "       'капуста декоративная смесь 0,1 г 4650091480234',\n",
       "       'кореопсис толл 0,1 г 4650091480258',\n",
       "       'космея клюквенный клик 0,1 г 4660010770421',\n",
       "       'космея кэнди страйп 0,3 г 4650091480272',\n",
       "       'лапчатка огненное пламя 0,02 г 4650091480616',\n",
       "       'пеларгония зональная диам. 12 см розовая махровая',\n",
       "       'пеларгония зональная диам. 12 см розово-красная полумахровая',\n",
       "       'флокс друммонда смесь 0,1 г 4650091480401',\n",
       "       'цинерария серебряная пыль 0,1 г 4660010770797',\n",
       "       'эшшольция карминный король 0,5 г 4660010770193',\n",
       "       'диффенбахия d-12 см с топпером на день учителя в подарочной упаковке',\n",
       "       'бальзамин новогвинейский d-13 см цвет фуксии',\n",
       "       'фаленопсис королевский голубой 1 ствол d-12 см',\n",
       "       'подсолнечник низкорослый d-13 см',\n",
       "       'пуансетия d-12 см с топпером на день учителя в подарочной упаковке',\n",
       "       'гиностемма укорененный черенок 1 шт',\n",
       "       'ель канадская коника ртк 303 горшок 9 л нидерланды',\n",
       "       'кипарисовик лавсона элвуди ртк 106 горшок 9 л нидерланды',\n",
       "       'аптения d-10 см h-10 см', 'антуриум андрианум фиорино d-15 см',\n",
       "       'роза палас белая d-17 см h-50 см h-20',\n",
       "       'новогоднее дерево ель сербская d-21 см h-60 см',\n",
       "       'новогоднее дерево ель канадская коника в красном ведерке 3 л h-40 см',\n",
       "       'пеларгония грандифлора махровая микс d-12 см',\n",
       "       'роза мини розовая d-7 см h-10',\n",
       "       'пуансеттия d-12 см красная с розовым', 'пуансеттия d-12 см белая',\n",
       "       'новогоднее дерево ель сербская d-27 см h-200 см',\n",
       "       'цветущее комнатное растение бегония элатиор, цвет в ассортименте',\n",
       "       'крассула d-17 см h-40 см', 'пуансеттия d-15 см розовая',\n",
       "       'пуансеттия d-15 см красная',\n",
       "       'скиммия японская рубелла d-19 см h-40 см',\n",
       "       'аспарагус спренжери d-12 см', 'розмарин d-9 см',\n",
       "       'роза кордана белая d-10 см h-20', 'пуансеттия d-12 см красная',\n",
       "       'декоративная композиция искуственных цветов букет подсолнухов 115 см три бутона',\n",
       "       'пеларгония зональная диам. 12 см красный махровый',\n",
       "       'пеларгония зональная розоцветная маргарита лососевая 5-7 листов',\n",
       "       'фиттония скелетон d-9 см',\n",
       "       'роза кустовая ред лейс 60 см кения плантация waridi limited 10 штук в упаковке',\n",
       "       'тимьян d-9 см', 'бульонница luminarc мистигри 500 мл j8770',\n",
       "       'алоэ вера d-12 см h-25 см',\n",
       "       'пеларгония зональная диам. 12 см красно-розовая простая',\n",
       "       'пеларгония зональная диам. 12 см малиновая махровая',\n",
       "       'комнатное растение в горшке сциндапсус зеленый подвесной горшок, d15-16, h30',\n",
       "       'роза одноголовая родос 70 см кения плантация subati flowers limited 10 штук в упаковке',\n",
       "       'аптения d-12 см h-15 см', 'спатифиллум шопен d-12 см',\n",
       "       'фикус каучуконосный эластика абиджан d-12 см h-30 см',\n",
       "       'фиалка d-9 см белая махровая',\n",
       "       'азалия индика фиолетовая d-10 см h-20',\n",
       "       'просеиватель для муки d27см., rsb',\n",
       "       'пеларгония toscana angeleyes amarillo burgundy укорененный черенок',\n",
       "       'пеларгония toscana angeleyes amarillo rosato укорененный черенок',\n",
       "       'пеларгония розебудная emma укорененный черенок',\n",
       "       'пеларгония розебудная mary укорененный черенок',\n",
       "       'пеларгония розебудная prins nikolai укорененный черенок',\n",
       "       'пеларгония розебудная queen ingrid укорененный черенок',\n",
       "       'пеларгония розебудная red pandora укорененный черенок',\n",
       "       'пеларгония toscana angeleyes bicolor укорененный черенок',\n",
       "       'кодонанта укорененный черенок 1 шт',\n",
       "       'пеларгония зональная махровая белая взрослое растение',\n",
       "       'пеларгония розебудная margaretha укорененный черенок',\n",
       "       'антуриум андрианум пикассо голубой d-15 см',\n",
       "       'гербера комнатная желто-оранжевая d-12 см',\n",
       "       'эвкалипт гунни d-17 см h-60 см', 'цикламен, цвет в ассортименте',\n",
       "       'фаленопсис люкс микс 1 ствол d-12 см',\n",
       "       'цикламен d-12 см h-20 цвет в ассортименте',\n",
       "       'гимнокалициум микс d-5 см',\n",
       "       'примула желтая с оранжевым в горшке d-10 см',\n",
       "       'калатея кроката d-15 см', 'кофе арабика d-9 см',\n",
       "       'пеларгония зональная диам. 12 см розовая рябая полумахровая',\n",
       "       'антуриум тропик найт нидерланды 1 штука в упаковке',\n",
       "       'эхинокактус грузони d-5 см',\n",
       "       'бальзамин новогвинейский d-13 см ярко красный',\n",
       "       'пеларгония зональная простая цвет фуксии взрослое растение',\n",
       "       'фиалка d-9 см малиновая простая',\n",
       "       'рассада зелени для кухни душица-орегано розовый объем 0,5 л',\n",
       "       'рассада зелени для кухни мята морокан диам. 9 см',\n",
       "       'рассада зелени для кухни мята эппл минт диам. 9 см',\n",
       "       'рассада зелени для кухни розмарин блю лагун диам. 9 см',\n",
       "       'рассада зелени для кухни тимьян вульгарис компактус диам. 9 см',\n",
       "       'рассада зелени для кухни тимьян-чабрец розовый объем 0,5 л',\n",
       "       'рассада пряной травы кофе арабика в горшке d-9 см',\n",
       "       'пеларгония зональная диам. 12 см малиново розовая простая',\n",
       "       'пеларгония зональная диам. 12 см ярко розовая махровая',\n",
       "       'фиалка химера d-12 см',\n",
       "       'крокусы pickwick голубой в горшке d-21 см 19 луковиц',\n",
       "       'спатифиллум d-7 см',\n",
       "       'пеларгония зональная ринго вайт d-7 см h-10 см укорененный черенок',\n",
       "       'гипсофила аврора 80 см израиль 25 штук в упаковке',\n",
       "       'пеларгония зональная мультиблум скарлет ай d-7 см h-10 см укорененный черенок',\n",
       "       'подарочный набор на 8 марта тюльпаны розовые 5 луковиц d-12 см в подарочной упаковке с открыткой',\n",
       "       'декоративная композиция искуственных цветов букет роз три цветка, цвет в ассортименте 105 см',\n",
       "       'подарочный набор на 8 марта пеларгония красная d-12 см в подарочной упаковке с открыткой',\n",
       "       'примула комнатная d9 см цвет в ассортименте',\n",
       "       'дендробиум фиолетовый россия 10 штук в упаковке',\n",
       "       'калибрахоа ампельная, диам. 12 см',\n",
       "       'роза садовая парковая в горшке голден селебрейшен',\n",
       "       'эпипремнум ауреум d-12 см',\n",
       "       'фаленопсис желтый в розовую полоску d-12 см',\n",
       "       'мирт d-9 см h-15 см', 'примула комнатная d9 см малиновая',\n",
       "       'пуансеттия в горшке d12 см белая с красным',\n",
       "       'пуансеттия в горшке d23 см розовая',\n",
       "       'рассада зелени для кухни сальвия оффициналис иктерина диам. 9 см',\n",
       "       'рассада огурца сорт изящный, кассета по 6шт',\n",
       "       'рассада огурца сорт родничок, кассета по 6шт',\n",
       "       'рассада томата (помидор) моравское чудо №54 сорт индетерминантный раннеспелый красный',\n",
       "       'рассада томата (помидор) сорт колибри №42',\n",
       "       'цикламен комнатный d15 см h20 см малиновый',\n",
       "       'подарочный набор на 8 марта гиацинты розовые 3 луковицы d-12 см в подарочной упаковке с открыткой',\n",
       "       'хризантема кустовая стреса 70 см нидерланды 5 штук в упаковке',\n",
       "       'фиалка d-9 см белая с розовой каймой',\n",
       "       'аквилегия обыкновенная барлоу микс объем 1 л',\n",
       "       'базилик смесь зеленого и фиолетового 0,4 г 4660010775433',\n",
       "       'горох амброзия 10,0 г 4660010772616',\n",
       "       'земляника барон солемахер 0,04 г 4660010775556',\n",
       "       'незабудка смесь 0,1 г 4650091480340',\n",
       "       'рассада зелени для кухни тимьян дюн валей диам. 9 см',\n",
       "       'рассада зелени для кухни тимьян сильвер кинг диам. 9 см',\n",
       "       'седум почвопокровный смесь окрасок объем 1 л',\n",
       "       'томат балконное чудо 0,1 г 4660010772531',\n",
       "       'укроп обильнолистный 3,0 г 4660010772562',\n",
       "       'нефролепис бостон d-12 см',\n",
       "       'роза одноголовая свит юник 70 см эквадор плантация ecuatorian 25 штук в упаковке',\n",
       "       'калла крупноцветковая желтая', 'декабрист в горшке d12 белый',\n",
       "       'декабрист в горшке d12 красный',\n",
       "       'рассада томата (помидор) монгольский карлик №53 сорт детерминантный раннеспелый красный',\n",
       "       'дендробиум яблоневый россия 10 штук в упаковке',\n",
       "       'тюльпан louvre (лувр) бахромчатый 25 шт',\n",
       "       'подарочный набор на 8 марта пеларгония белая d-12 см в подарочной упаковке с открыткой',\n",
       "       'мята перечная тач tachi d-7 см h-10 см мандариновая мята укорененный черенок',\n",
       "       'азалия индика розовая d-12 см h-20',\n",
       "       'гиацинт blue pearl голубой в горшке d-12 см 3 луковицы',\n",
       "       'вербена рассада однолетних цветов в кассете по 6 шт',\n",
       "       'однолетнее растение петуния махровая в кассете 4 шт, россия',\n",
       "       'однолетнее растение петуния простая в кассете по 4 шт, россия',\n",
       "       'однолетнее растение табак душистый в кассете по 4 шт, россия',\n",
       "       'петуния гибридная ампельная, диам. 12 см',\n",
       "       'петуния махровая рассада однолетних цветов в кассете по 6 шт',\n",
       "       'цикламен d-12 см h-20 см белый с малиновой серединой',\n",
       "       'роза мини желтая d-7 см h-10',\n",
       "       'ранункулус клуни ханои 45 см нидерланды 10 штук в упаковке',\n",
       "       'рассада томата (помидор) сорт золотое руно, кассета по 6шт',\n",
       "       'рассада томата (помидор) сорт любимец подмосковья, кассета по 6шт',\n",
       "       'рассада томата (помидор) сорт розовый фламинго, кассета по 6шт',\n",
       "       'рассада томата (помидор) сорт челнок, кассета по 6шт',\n",
       "       'рассада томата (помидор) сорт черный шоколад, кассета по 6шт',\n",
       "       'гвоздика стандартная белая 60 см колумбия плантация geoflora s.a.s. 25 штук в упаковке',\n",
       "       'пеларгония angeleyes orange укорененный черенок',\n",
       "       'цикламен комнатный d15 см h20 см розовый с белым',\n",
       "       'роза мини оранжевая d-7 см h-10',\n",
       "       'антуриум андрианум многоцветковый красный d-12 см',\n",
       "       'газания рассада однолетних цветов в кассете по 10 шт',\n",
       "       'овсянница сизая серый объем 1 л',\n",
       "       'георгина черная красавица 5 шт 4650091480579',\n",
       "       'календула бронзовая красавица 10 шт 4650091480746',\n",
       "       'космея лимонад 10 шт 4650091480500',\n",
       "       'космея попсокс белая 10 шт 4650091480562',\n",
       "       'космея попсокс розовая 10 шт 4650091480555',\n",
       "       'космея снежный клик 0,1 г 4660010770414',\n",
       "       'смолевка звездный взрыв 0,02 г 4650091480630',\n",
       "       'цинния ацтек бургунди биколор 10 шт 4650091480739',\n",
       "       'цинния хаага олд мехико 0,5 г 4650091480456',\n",
       "       'базилик зеленый тонус d-7 см', 'базилик пурпурные звезды d-7 см',\n",
       "       'лаванда торх d-7 см', 'лавр в горшке 7 см',\n",
       "       'мята колосистая almira d-7 см', 'мята колосистая crispa d-7 см',\n",
       "       'мята aura d-7 см',\n",
       "       'рассада зелени для кухни кориандр в кассете 6 шт',\n",
       "       'рассада зелени для кухни лаванда прованc диам. 9 см',\n",
       "       'рассада зелени для кухни мята икс пиперита цитрата эа де кологн диам. 9 см',\n",
       "       'рассада зелени для кухни пастернак в кассете 6 шт',\n",
       "       'рассада зелени для кухни тимьян прострэйт диам. 9 см',\n",
       "       'рассада зелени для кухни тимьян цитриодорус диам. 9 см',\n",
       "       'тимьян крымский d-7 см',\n",
       "       'виола рассада однолетних цветов в кассете по 10 шт',\n",
       "       'газания рассада однолетних цветов в кассете по 6 шт',\n",
       "       'калибрахоа aloha double purple сиреневая махровая объем 0,5 л',\n",
       "       'калибрахоа aloha kona pineaple желто-красная объем 0,5 л',\n",
       "       'калибрахоа aloha tiki neon малиновая объем 0,5 л',\n",
       "       'калибрахоа bloomtastic blossom розово-сиреневая объем 0,5 л',\n",
       "       'калибрахоа mini famous double red красная махровая объем 0,5 л',\n",
       "       'калибрахоа rave violet сиреневая звезда объем 0,5 л',\n",
       "       'калибрахоа sweet bells double golden желтая махровая объем 0,5 л',\n",
       "       'львиный зев рассада однолетних цветов в кассете по 6 шт',\n",
       "       'петуния surprice yellow желтая с прожилками объем 0,5 л',\n",
       "       'петуния sweetunia black satin черная объем 0,5 л',\n",
       "       'рассада томата (помидор) баскью блю №7 сорт детерминантный среднеспелый синий',\n",
       "       'рассада томата (помидор) сорт зефир в шоколаде, горшок диам 12',\n",
       "       'гвоздика стандартная новия 70 см колумбия плантация turflor s.a.s 25 штук в упаковке',\n",
       "       'фиалка d-9 см синяя с белым рифленая',\n",
       "       'рассада томата (помидор) иоген № 77 сорт детерминантный среднеспелый красный',\n",
       "       'рассада томата (помидор) шаймет криг № 117 сорт детерминантный раннеспелый красный',\n",
       "       'рассада томата (помидор) эфемер № 121 сорт детерминантный раннеспелый красный',\n",
       "       'афеляндра скуарроса дания d-12 см',\n",
       "       'бегония вечноцветущая рассада однолетних цветов в кассете по 10 шт',\n",
       "       'виола рассада однолетних цветов в кассете по 6 шт',\n",
       "       'петуния гибридная ампельная, диам. 21 см',\n",
       "       'петуния махровая рассада однолетних цветов в горшке диам. 12 см',\n",
       "       'лаванда в горшке d-15 см', 'виола рогатая сиреневый объем 0,5 л',\n",
       "       'лилейник высокорослый смесь окрасок объем 1 л',\n",
       "       'папоротник страусник зеленый объем 1 л',\n",
       "       'петуния махровая рассада однолетних цветов в кассете по 10 шт',\n",
       "       'платикодон махровый синий объем 0,5 л',\n",
       "       'энотера миссурийская золотая желтый объем 1 л',\n",
       "       'рассада зелени для кухни мелисса лимонная зеленый объем 0,75 л',\n",
       "       'рассада пряной травы лавр в горшке 9 см',\n",
       "       'рассада пряной травы эвкалипт сильвердроп в горшке d-9 см',\n",
       "       'рассада капусты белокачанная поздняя лидер, кассета по 10шт',\n",
       "       'рассада перца болгарского сладкого красное чудо, горшок диам 12',\n",
       "       'рассада томата (помидор) джессика № 50 сорт индетерминантный раннеспелый красный',\n",
       "       'рассада томата (помидор) сладкий касади №76 сорт индетерминантный среднеспелый оранжевый',\n",
       "       'рассада томата (помидор) сорт аделина, горшок диам 12',\n",
       "       'рассада томата (помидор) сорт де барао золотой',\n",
       "       'рассада томата (помидор) сорт хурма, горшок диам 12',\n",
       "       'рассада томата (помидор) суперэкзотик № 109 сорт индетерминантный среднеспелый черный',\n",
       "       'рассада тыквы сорт мускаде горшок 9х9 см p-9',\n",
       "       'гвоздика садовая рассада однолетних цветов в горшке диам. 12 см',\n",
       "       'петуния простая рассада однолетних цветов в кассете по 10 шт',\n",
       "       'петуния изи вейв рассада однолетних цветов в горшке диам. 12 см',\n",
       "       'рассада огурец нежинский ячейки по 6 шт е6',\n",
       "       'вербена микс wicked wich смесь окрасок объем 0,5 л',\n",
       "       'пеларгония плющелистная tornado микс объем 0,5 л',\n",
       "       'пеларгония розебудная rosebud red d-7 см',\n",
       "       'петуния surfinia doble lilac светло-сиреневая махровая объем 0,5 л',\n",
       "       'петуния surfinia doble white белая махровая объем 0,5 л',\n",
       "       'фуксия blue angel синяя с белым чашелистом объем 0,5 л',\n",
       "       'фуксия dark eyes синяя с красным чашелистом объем 0,5 л',\n",
       "       'фуксия swingtime белая с красным чашелистом объем 0,5 л',\n",
       "       'цитрофортунелла кумкват штамбовая d-21 см h-75 см',\n",
       "       'пеперомия d-12 см h-20 см',\n",
       "       'гортензия метельчатая great star грейт стар в горшке 3,5 л',\n",
       "       'дыня млада р-9', 'дыня симпатия р-9',\n",
       "       'рассада арбуза сорт огонек горшок 9х9 см p-9',\n",
       "       'рассада арбуза сорт сибирские огни, горшок 9*9см',\n",
       "       'рассада арбуза сорт шуга бэби горшок 9х9 см p-9',\n",
       "       'рассада дыни сорт алтайская, горшок 9*9см',\n",
       "       'рассада дыни сорт дина горшок 9х9 см p-9',\n",
       "       'рассада дыни сорт казачка, горшок 9*9см',\n",
       "       'рассада дыни сорт колхозница горшок 9х9 см p-9',\n",
       "       'рассада клубники вима рина кассета 6 шт e6 ремонтантная',\n",
       "       'рассада клубники зенга зенгана в кассете по e6',\n",
       "       'циния рассада однолетних цветов в кассете по 6 шт',\n",
       "       'синнингия (глоксиния) фиолетовая d-12 см h-20', 'гардения d-9 см',\n",
       "       'бальзамин валера рассада однолетних цветов в кассете по 10 шт',\n",
       "       'рассада капусты белокачанная сорт июньская кассета 6 шт e6',\n",
       "       'рассада капусты белокачанная средняя сорт белорусская кассета 10 шт e10',\n",
       "       'рассада тыквы сорт дачная горшок 9х9 см p-9',\n",
       "       'томата (помидор) баскью блю №7 сорт детерминантный среднеспелый синий',\n",
       "       'томата (помидор) дрова №27 сорт детерминантный среднеспелый красный',\n",
       "       'томата (помидор) канестрино №1 №89 сорт индетерминантный среднеспелый красный',\n",
       "       'томата (помидор) сорт бычье сердце №14',\n",
       "       'земляника садовая хоней d-9 см p9',\n",
       "       'календула суприм 0,5 г 4650091480227',\n",
       "       'колокольчик персиколистный белый объем 0,5 л',\n",
       "       'рассада капусты белокачанная поздняя сорт колобок кассета 10 шт e10',\n",
       "       'рассада капусты белокачанная сорт сибирячка кассета 6 шт e6',\n",
       "       'рассада капусты белокачанная сорт фаворит кассета 6 шт e6',\n",
       "       'рассада капусты белокачанная сорт экспресс кассета 6 шт e6',\n",
       "       'томата (помидор) ильди №35 сорт детерминантный раннеспелый желтый',\n",
       "       'томата (помидор) моравское чудо №54 сорт индетерминантный раннеспелый красный',\n",
       "       'цинния коралловая красавица 0,2 г 4660010773323',\n",
       "       'цинния оранжевый король 0,5 г 4660010770520',\n",
       "       'дендробиум санок анна грин 1 ствол d-12 см',\n",
       "       'базилик застольный 0,3 г 4660010775419',\n",
       "       'лобелия ампельная, диам. 12 см',\n",
       "       'настурция лунный свет 1 г 4660010779660',\n",
       "       'настурция орхидное пламя 5 шт 4650091480692',\n",
       "       'пеларгония плющелистная ампельная, диам. 21 см',\n",
       "       'табак душистый рассада однолетних цветов в кассете по 6 шт',\n",
       "       'рассада зелени для кухни душица обыкновенная хуторянка диам. 12-13 см',\n",
       "       'рассада зелени для кухни душица обыкновенная хуторянка диам. 9 см',\n",
       "       'рассада зелени для кухни розмарин оффициналис тускан блю диам. 9 см',\n",
       "       'рассада зелени для кухни сальвия максима диам. 12-13 см',\n",
       "       'рассада зелени для кухни сальвия оффициналис триколор диам. 12-13 см',\n",
       "       'рассада зелени для кухни сантолина хамаекипарисус диам. 9 см',\n",
       "       'рассада зелени для кухни сельдерей корневой силач, кассета по 10шт',\n",
       "       'рассада зелени для кухни тимьян сильвер квин диам. 9 см',\n",
       "       'рассада зелени для кухни цимбопогон (лемонграсс) диам. 19 см',\n",
       "       'девичий виноград пятилисточковый p9 h-20 см крым',\n",
       "       'бегония клубневая рассада однолетних цветов в горшке диам. 12 см',\n",
       "       'декабрист в горшке d12 цвет фуксии',\n",
       "       'томата (помидор) индиго роуз №36 сорт детерминантный среднеспелый синий',\n",
       "       'томата (помидор) исуповский №37 сорт индетерминантный среднеспелый красный',\n",
       "       'томата (помидор) казацкий №38 сорт детерминантный среднеспелый красный',\n",
       "       'томата (помидор) легенда тарасенко № 91 сорт индетерминантный среднеспелый красный',\n",
       "       'томата (помидор) минусинские № 94 сорт индетерминантный среднеспелый розовый',\n",
       "       'томата (помидор) этуаль №85 сорт детерминантный среднеспелый розовый',\n",
       "       'томата (помидор) юсуповский узбекский №86 сорт индетерминантный позднеспелый красный',\n",
       "       'рассада арбуза сорт астраханский, горшок 9*9см',\n",
       "       'рассада арбуза сорт продюсер, горшок 9*9см',\n",
       "       'рассада тыквы сорт витаминная, горшок 9*9см',\n",
       "       'рассада тыквы сорт улыбка, горшок 9*9см',\n",
       "       'томата (помидор) джалпа №25 сорт детерминантный среднеспелый красный',\n",
       "       'томата (помидор) колоновидный № 90 сорт детерминантный среднеспелый красный',\n",
       "       'томата (помидор) монгольский карлик №53 сорт детерминантный раннеспелый красный',\n",
       "       'рассада капусты белокачанная сорт валентина кассета 6 шт e6',\n",
       "       'рассада капусты белокачанная средняя подарок, кассета по 10шт',\n",
       "       'рассада капусты белокачанная средняя сорт надежда кассета 10 шт e10',\n",
       "       'рассада капусты краснокачанная сорт победа кассета 10 шт e10',\n",
       "       'рассада капусты цветная гудмен, кассета по 10шт',\n",
       "       'рассада капусты цветная дачница, кассета по 10шт',\n",
       "       'петуния крупноцветковая сиреневая с жилками в кассете 10 штук',\n",
       "       'петуния orange morn оранжевая объем 0,5 л',\n",
       "       'петуния sanguna patio blue morn фиолетово-белая объем 0,5 л',\n",
       "       'петуния surfinia table dark red красная объем 0,5 л',\n",
       "       'цикламен комнатный d13 см h20', 'вербена ампельная, диам. 12 см',\n",
       "       'лобелия регатта regatta микс объем 0,5 л',\n",
       "       'однолетнее растение астра в кассете по 4 шт, россия',\n",
       "       'пеларгония плющелистная ампельная, диам. 12 см',\n",
       "       'петуния pegasus qeen of hearts красные сердца на желтом фоне объем 0,5 л',\n",
       "       'петуния surprise white белая объем 0,5 л',\n",
       "       'томата (помидор) \"золотая канарейка\" №32 сорт индетерминантный среднеспелый желтый',\n",
       "       'томата (помидор) амурский тигр № 8 сорт детерминантный раннеспелый красный',\n",
       "       'томата (помидор) арбузный №5 сорт индетерминантный среднеспелый красный',\n",
       "       'томата (помидор) болгарска хала №9 сорт индетерминантный среднеспелый розовый',\n",
       "       'томата (помидор) большая желтая зебра №10 сорт индетерминантный среднеспелый желтый',\n",
       "       'томата (помидор) большой оранжевый полосатый № 28 сорт индетерминантный среднеспелый оранжевый',\n",
       "       'томата (помидор) большой оранжевый №11 сорт индетерминантный среднеспелый оранжевый',\n",
       "       'томата (помидор) гигант кубы №18 сорт индетерминантный среднеспелый черный',\n",
       "       'томата (помидор) голубика №22 сорт индетерминантный среднеспелый синий',\n",
       "       'томата (помидор) к 25-56 № 78 сорт детерминантный среднеспелый черный',\n",
       "       'томата (помидор) король красоты №46 сорт индетерминантный среднеспелый оранжевый',\n",
       "       'томата (помидор) медовая капля №51 сорт индетерминантный среднеспелый желтый',\n",
       "       'томата (помидор) мохнатый кейт №55 сорт детерминантный среднеспелый синий',\n",
       "       'томата (помидор) мэризол мэджик № 95 сорт индетерминантный среднеспелый оранжевый',\n",
       "       'томата (помидор) оранжевый банан № 60 сорт индетерминантный среднеспелый оранжевый',\n",
       "       'томата (помидор) оранжевый русский № 97 сорт индетерминантный среднеспелый оранжевый',\n",
       "       'томата (помидор) перцевидный полосатый №62 сорт детерминантный среднеспелый красный',\n",
       "       'томата (помидор) поцелуй герани №66 сорт детерминантный раннеспелый красный',\n",
       "       'томата (помидор) синий солнечный свет № 106 сорт индетерминантный среднеспелый синий',\n",
       "       'томата (помидор) танцы со смурфиками № 111 сорт индетерминантный раннеспелый черный',\n",
       "       'томата (помидор) темная галактика №79 сорт детерминантный среднеспелый черный',\n",
       "       'томата (помидор) черниченский черри № 116 сорт индетерминантный позднеспелый черный',\n",
       "       'томата (помидор) шалун № 118 сорт индетерминантный раннеспелый розовый',\n",
       "       'эвкалипт сильвердроп d-7 см',\n",
       "       'вербена крупноцветковая white белая объем 0,5 л',\n",
       "       'вербена red красная объем 0,5 л',\n",
       "       'калибрахоа mini famous double blue фиолетовая махровая объем 0,5 л',\n",
       "       'петуния surprise magenta halo малиново-белая объем 0,5 л',\n",
       "       'декоративная композиция искуственных цветов букет пионов три цветка, цвет в ассортименте 80 см',\n",
       "       'пиретрум робинсон красный объем 1 л',\n",
       "       'рассада зелени для кухни лаванда блю райдер диам. 9 см',\n",
       "       'рассада клубники зенга зенгана горшок 9х9 см p9',\n",
       "       'томата (помидор) абрикос №1 сорт индетерминантный среднеспелый красный',\n",
       "       'томата (помидор) абрикосовый брендивайн №2 сорт индетерминантный среднеспелый оранжевый',\n",
       "       'томата (помидор) абруццо № 3 сорт индетерминантный среднеспелый красный',\n",
       "       'томата (помидор) большой полосатый кабан №12 сорт индетерминантный среднеспелый красный',\n",
       "       'томата (помидор) вернисаж черный №17 сорт индетерминантный раннеспелый черный',\n",
       "       'томата (помидор) голубой ручей №23 сорт индетерминантный среднеспелый синий',\n",
       "       'томата (помидор) графити № 40 сорт индетерминантный раннеспелый красный',\n",
       "       'томата (помидор) грейпфрут № 43 сорт индетерминантный среднеспелый оранжевый',\n",
       "       'томата (помидор) земляника оранжевая №31 сорт индетерминантный среднеспелый оранжевый',\n",
       "       'томата (помидор) красный пушистый кабан №47 сорт детерминантный среднеспелый красный',\n",
       "       'томата (помидор) кумато №49 сорт детерминантный среднеспелый черный',\n",
       "       'томата (помидор) медовый № 93 сорт индетерминантный позднеспелый розовый',\n",
       "       'томата (помидор) оранжевый с фиолетовыми пятнами № 98 сорт индетерминантный среднеспелый оранжевый',\n",
       "       'томата (помидор) полосатый шоколад №65 сорт индетерминантный среднеспелый черный',\n",
       "       'томата (помидор) примари колорз №67 сорт детерминантный среднеспелый черный',\n",
       "       'томата (помидор) роджеро № 104 сорт индетерминантный среднеспелый красный',\n",
       "       'томата (помидор) розовый мохнатый кабан № 105 сорт индетерминантный среднеспелый розовый',\n",
       "       'томата (помидор) синий тигр №75 сорт индетерминантный среднеспелый синий',\n",
       "       'томата (помидор) сладкий касади №76 сорт индетерминантный среднеспелый оранжевый',\n",
       "       'томата (помидор) спящая леди № 108 сорт детерминантный среднеспелый черный',\n",
       "       'томата (помидор) улыбка розы № 113 сорт детерминантный раннеспелый синий',\n",
       "       'томата (помидор) фейерверк № 114 сорт индетерминантный среднеспелый красный',\n",
       "       'томата (помидор) шахерезада №84 сорт детерминантный среднеспелый красный',\n",
       "       'томата (помидор) ширли сердцевидный № 119 сорт индетерминантный среднеспелый розовый',\n",
       "       'томата (помидор) южный вечер № 120 сорт детерминантный среднеспелый черный',\n",
       "       'флокс метельчатый сорт мари, диаметр горшка 10см.',\n",
       "       'флокс метельчатый сорт москвичка, диаметр горшка 10см.',\n",
       "       'рассада дыни сорт эфиопка горшок 9х9 см p-9',\n",
       "       'рассада капусты белокачанная сорт слава кассета 6 шт e6',\n",
       "       'рассада капусты белокачанная сорт универс кассета 6 шт e6',\n",
       "       'алиссум рассада однолетних цветов в кассете по 6 шт',\n",
       "       'лобелия рассада однолетних цветов в кассете по 6 шт',\n",
       "       'однолетнее растение алиссум в кассете по 4 шт, россия',\n",
       "       'однолетнее растение виола в кассете по 4 шт, россия',\n",
       "       'однолетнее растение тагетис мелкоцветковый в кассете по 4 шт, россия',\n",
       "       'однолетнее растение циния в кассете 4 шт, россия',\n",
       "       'петуния potunia plus purple бургунди с прожилками объем 0,5 л',\n",
       "       'петуния surfinia blue sky небесно-голубой объем 0,5 л',\n",
       "       'петуния surfinia crazy pink розовая с прожилкой объем 0,5 л',\n",
       "       'петуния sweetunia miss marvelous винно-белая звезда объем 0,5 л',\n",
       "       'рассада зелени для кухни мяты в горшке диам. 9 см',\n",
       "       'рассада остеоспермум крупноцветковый lavender сиреневый объем 0,5 л',\n",
       "       'рассада остеоспермум крупноцветковый purple малиновый объем 0,5 л',\n",
       "       'рассада остеоспермум крупноцветковый white белый объем 0,5 л',\n",
       "       'тагетис крупноцветковый рассада однолетних цветов в кассете по 6 шт',\n",
       "       'муррайя d-9 см', 'вербена ампельная, диам. 21 см',\n",
       "       'однолетнее растение лобелия в кассете по 4 шт, россия',\n",
       "       'петуния простая рассада однолетних цветов в кассете по 6 шт',\n",
       "       'петуния рассада смесь цветов 5-6 листов глория махровая розовая',\n",
       "       'калла крупноцветковая малиновая',\n",
       "       'декабрист в горшке d12 белый с розовой каймой',\n",
       "       'декабрист в горшке d12 малиновый',\n",
       "       'кореопсис золотой маяк желтый объем 1 л',\n",
       "       'портулак рассада однолетних цветов в кассете по 6 шт',\n",
       "       'примула комнатная акаулис белая d10 см',\n",
       "       'примула комнатная акаулис красная d10 см',\n",
       "       'примула комнатная d9 см красная',\n",
       "       'примула комнатная d9 см цвет фуксии',\n",
       "       'цикламен комнатный d15 см h20 см белый',\n",
       "       'цикламен комнатный d15 см h20 см белый с малиновой серединой',\n",
       "       'цикламен комнатный d15 см h20 см красный',\n",
       "       'астра рассада однолетних цветов в кассете по 10 шт',\n",
       "       'аргирантерум рассада однолетних цветов в горшке диам. 12 см',\n",
       "       'левкой рассада однолетних цветов в горшке диам. 12 см',\n",
       "       'калибрахоа aloha kona dark red красная объем 0,5 л',\n",
       "       'петуния свитуния sweetunia johnny flame малиновая с темной сердцевиной объем 0,5 л',\n",
       "       'петуния baby doll розовая с белыми брызгами объем 0,5 л',\n",
       "       'петуния bordeaux сиреневая с прожилками объем 0,5 л',\n",
       "       'петуния crazytunia pulse желтая звезда объем 0,5 л',\n",
       "       'петуния potunia plus strawberry ice красно-розовая с прожилками объем 0,5 л',\n",
       "       'петуния sky night фиолетовая с белыми брызгами объем 0,5 л',\n",
       "       'петуния surprise purple sky фиолетовая с прожилками объем 0,5 л',\n",
       "       'петуния sweetunia rose gem розовая с прожилками объем 0,5 л',\n",
       "       'вероника колосковая микс объем 1 л',\n",
       "       'целозия гребенчатая рассада однолетних цветов в кассете по 10 шт',\n",
       "       'рассада зелени для кухни базилик шалун, кассета по 6шт',\n",
       "       'рассада зелени для кухни тимьян вариегэйтид диам. 9 см',\n",
       "       'бегония клубневая красная в горшке d-12',\n",
       "       'бегония клубневая оранжевая в горшке d-12',\n",
       "       'однолетнее растение бегония вечноцветущая в кассете по 4 шт, россия',\n",
       "       'однолетнее растение вербена в кассете по 4 шт, россия',\n",
       "       'однолетнее растение портулак в кассете по 4 шт, россия',\n",
       "       'капуста белокочанная июньская в кассете 4 штуки раннеспелая',\n",
       "       'томата (помидор) шаймет криг №117 сорт детерминантный раннеспелый красный',\n",
       "       'флокс метельчатый сорт незабудка, диаметр горшка 10см.',\n",
       "       'однолетнее растение газания в кассете по 4 шт, россия',\n",
       "       'примула комнатная акаулис синяя d10 см',\n",
       "       'примула комнатная d9 см розовая',\n",
       "       'примула комнатная d9 см фиолетовая',\n",
       "       'примула рассада однолетних цветов в кассете по 10 шт',\n",
       "       'рассада зелени для кухни мангольд в кассете 6 шт',\n",
       "       'пеларгония зональная диам. 12 см красная полумахровая',\n",
       "       'пеларгония зональная диам. 12 см лососевая полумахровая',\n",
       "       'вербена fuhcsia ярко-розовая объем 0,5 л',\n",
       "       'маттиола ночная фиалка 0,5 г 4660010770506',\n",
       "       'капуста брокколи фортуна в кассете 6 штук',\n",
       "       'капуста брокколи фортуна в кассете 6 штук среднеспелая',\n",
       "       'рассада капусты белокачанная сорт московская поздняя кассета 6 шт e6',\n",
       "       'рассада капусты цветная сорт сноуболл кассета 6 шт e6',\n",
       "       'кориандр стимул раннеспелый в кассете 4 штуки',\n",
       "       'рассада зелени для кухни петрушка кучерявец, кассета по 6шт',\n",
       "       'рассада зелени для кухни розмарин барбекю диам. 9 см',\n",
       "       'рассада зелени для кухни сельдерей листовой бодрость, кассета по 10шт',\n",
       "       'рассада кабачка сорт зебра кассета 6 шт e6',\n",
       "       'рассада капусты краснокачанная сорт победа кассета 6 шт e6',\n",
       "       'бегония вечноцветущая рассада однолетних цветов в кассете по 6 шт',\n",
       "       'сальвия рассада однолетних цветов в кассете по 6 шт',\n",
       "       'лук порей победитель в кассете 6 штук среднеспелый',\n",
       "       'рассада зелени для кухни петрушка корневая сахарная, кассета по 6шт',\n",
       "       'рассада капусты белокачанная сорт амтаман кассета 6 шт e6',\n",
       "       'рассада капусты белокачанная сорт грибовский кассета 6 шт e6',\n",
       "       'петуния ампельная белая в горшке p9',\n",
       "       'петуния ампельная красная в горшке p9',\n",
       "       'петуния ампельная синий в горшке p9',\n",
       "       'петуния рассада смесь цветов 5-6 листов бургунди малиновая',\n",
       "       'петуния рассада смесь цветов 5-6 листов розовая махровая',\n",
       "       'петуния рассада смесь цветов 8-10 листов красная',\n",
       "       'рассада зелени для кухни мята спэйниш диам. 9 см',\n",
       "       'астра рассада однолетних цветов в кассете по 6 шт',\n",
       "       'однолетнее растение целозия метельчатая в кассете 4 шт, россия',\n",
       "       'целозия гребенчатая рассада однолетних цветов в кассете по 6 шт',\n",
       "       'джункус пенсил грасс d-12 см',\n",
       "       'томата (помидор) арбузик №4 сорт индетерминантный раннеспелый красный',\n",
       "       'томата (помидор) бандед амазон № 20 сорт индетерминантный раннеспелый розовый',\n",
       "       'рассада кабачка сорт белогор кассета 6 шт e6',\n",
       "       'рассада капусты белокачанная средняя реванш, кассета по 10шт',\n",
       "       'рассада капусты кольраби сорт виолетта кассета 6 шт e6',\n",
       "       'рассада капусты кольраби сорт гулливер кассета 6 шт e6',\n",
       "       'рассада капусты цветная сорт гарантия кассета 6 шт e6',\n",
       "       'рассада огурца сорт герман, кассета по 6шт',\n",
       "       'рассада огурца сорт персей, кассета по 6шт',\n",
       "       'рассада тыквы сорт амазонка, горшок 9*9см',\n",
       "       'рассада тыквы сорт жемчужина горшок 9х9 см p-9',\n",
       "       'рассада тыквы сорт лечебная, горшок 9*9см',\n",
       "       'рассада тыквы сорт россиянка, горшок 9*9см',\n",
       "       'рассада патиссона сорт нло белый, кассета по 6шт',\n",
       "       'рассада патиссона сорт нло оранжевый, кассета по 6шт',\n",
       "       'драцена фрагранс компакта d-12 см',\n",
       "       'рассада зелени для кухни розмарин найфа диам. 9 см',\n",
       "       'рассада зелени для кухни шпинат в кассете 6 шт',\n",
       "       'однолетнее растение львиный зев в кассете по 4 шт, россия',\n",
       "       'арбуз волгоградец р-9',\n",
       "       'рассада капусты кольраби гулливер, кассета по 10шт',\n",
       "       'рассада капусты кольраби мадонна, кассета по 10шт',\n",
       "       'рассада огурец фараон ячейки по 6 шт е6',\n",
       "       'рассада огурца сорт каролина кассета 6 шт e6',\n",
       "       'томата (помидор) аргентинская сливка №6 сорт индетерминантный среднеспелый красный',\n",
       "       'рассада в кассете огурец атос 10 шт',\n",
       "       'рассада огурца сорт есаул, кассета по 6шт',\n",
       "       'рассада огурца сорт конни, кассета по 6шт',\n",
       "       'рассада огурца сорт магнат, кассета по 6шт',\n",
       "       'рассада огурца сорт форсаж, кассета по 6шт',\n",
       "       'рассада зелени для кухни зверобой продырявленный оптимист диам. 9 см',\n",
       "       'рассада зелени для кухни лаванда эдельвейс диам. 9 см',\n",
       "       'рассада зелени для кухни мята хиларис свит лемон диам. 9 см',\n",
       "       'однолетнее растение сальвия в кассете по 4 шт, россия',\n",
       "       'фуксия ампельная, диам. 12 см', 'фатсия японская d-12 см',\n",
       "       'котовник блю мун синий объем 1 л',\n",
       "       'рассада огурца сорт арамис, кассета по 6шт',\n",
       "       'рассада огурца сорт атос, кассета по 6шт',\n",
       "       'рассада огурца сорт портос, кассета по 6шт',\n",
       "       'томата (помидор) полосатый смайлик № 100 сорт детерминантный раннеспелый красный',\n",
       "       'томата (помидор) ракета № 102 сорт детерминантный среднеспелый красный',\n",
       "       'рассада кабачка сорт аэронавт, кассета по 6шт',\n",
       "       'рассада кабачка сорт горный, кассета по 6шт',\n",
       "       'рассада кабачка сорт сосновский, кассета по 6шт',\n",
       "       'рассада кабачок сорт скворушка ячейки 6 шт е6',\n",
       "       'мята перечная шоколадная chocolate d-7 см h-10 см укорененный черенок',\n",
       "       'рассада капусты белокачанная ранняя сорт малахит кассета 10 шт e10',\n",
       "       'капуста цветная альфа в кассете 4 штуки раннеспелая',\n",
       "       'капуста цветная дачница в кассете 4 штуки среднеспелая',\n",
       "       'огурец алтай пчелоопыляемый в кассете 4 штуки раннеспелый',\n",
       "       'огурец аристократ f1 пчелоопыляемый в кассете 4 штуки раннеспелый',\n",
       "       'огурец багратион f1 пчелоопыляемый в кассете 4 штуки раннеспелый',\n",
       "       'огурец боярский f1 пчелоопыляемый в кассете 4 штуки раннеспелый',\n",
       "       'томат государь в кассете 6 штук среднеспелый детерминантный',\n",
       "       'томат детерминантный грандесса в кассете 6 штук раннеспелый',\n",
       "       'томат детерминантный медовый в кассете 6 штук среднеспелый',\n",
       "       'томат детерминантный сердолик в кассете 6 штук раннеспелый',\n",
       "       'пеларгония зональная диам. 12 см розово-красная простая',\n",
       "       'рассада капусты белокачанная сорт подарок кассета 6 шт e6',\n",
       "       'рассада капусты кольраби сорт венская белая кассета 6 шт e6',\n",
       "       'рассада капусты цветная сорт дачница кассета 6 шт e6',\n",
       "       'рассада кабачка сорт якорь, кассета по 6шт',\n",
       "       'рассада огурца сорт даша, кассета по 6шт',\n",
       "       'роза одноголовая тоффи 70 см эквадор плантация greenrose 25 штук в упаковке',\n",
       "       'петуния ампельная розовая в горшке p9',\n",
       "       'азалия индика биколор d-12 см h-20',\n",
       "       'гайлардия крупноцветковая желто-красный объем 0,75 л',\n",
       "       'монарда гибридная бергамо красный объем 1 л',\n",
       "       'нивянник (ромашка) крупноцветковый белый объем 1 л',\n",
       "       'рассада кабачка сорт золотинка кассета 6 шт e6',\n",
       "       'рудбекия тайгер голд золотой объем 0,75 л',\n",
       "       'рассада зелени для кухни иссоп лекарственный аккорд диам. 12-13 см',\n",
       "       'рассада зелени для кухни иссоп лекарственный аккорд диам. 9 см',\n",
       "       'рассада зелени для кухни мелисса лекарственная кадриль диам. 9 см',\n",
       "       'рассада зелени для кухни мята вариегата диам. 9 см',\n",
       "       'рассада зелени для кухни мяты в кассете по 6 шт',\n",
       "       'рассада зелени для кухни ориганум ауреум голд диам. 9 см',\n",
       "       'рассада зелени для кухни ориганум ауреум компактум диам. 9 см',\n",
       "       'рассада зелени для кухни розмарина в кассете по 6 шт',\n",
       "       'рассада зелени для кухни сальвия максима диам. 9 см',\n",
       "       'рассада зелени для кухни сальвия оффициналис триколор диам. 9 см',\n",
       "       'рассада зелени для кухни тимьяна в кассете по 6 шт',\n",
       "       'рассада зелени для кухни шалфея в кассете по 6 шт',\n",
       "       'лапчатка травянистая желтый объем 0,5 л',\n",
       "       'седум (очиток) видный красный объем 1 л',\n",
       "       'бегония элатиор, цвет в ассортименте',\n",
       "       'осина обыкновенная, высота 25-50 см',\n",
       "       'осина обыкновенная, высота 50-100 см',\n",
       "       'молодило в горшке d-12 см',\n",
       "       'рассада огурец кристина ячейки по 6 шт е6',\n",
       "       'рассада патиссона сорт диск, кассета по 6шт',\n",
       "       'тагетис крупноцветковый рассада однолетних цветов в кассете по 10 шт',\n",
       "       'сциндапсус в ассортименте d-7 см h-10 см укорененный черенок',\n",
       "       'пеларгония тюльпановидная emma', 'пряные травы микс d-15 см',\n",
       "       'аквилегия махровая тауэр смесь окрасок объем 1 л',\n",
       "       'алиссум скальный желтый объем 1 л',\n",
       "       'астра альпийская микс объем 1 л',\n",
       "       'бузульник пржевальского кленолистный желтый объем 1 л',\n",
       "       'вербейник монетчатый желты',\n",
       "       'камнеломка арендса флорал карпет розовый объем 1 л',\n",
       "       'роза садовая парковая в горшке дипп ватер',\n",
       "       'роза садовая парковая в горшке эден роуз',\n",
       "       'роза садовая плетистая в горшке шванензее',\n",
       "       'роза садовая спрей в горшке мими эден',\n",
       "       'солидаго желтый объем 1 л',\n",
       "       'физостегия вергинская белый объем 0,5 л',\n",
       "       'ясколка войлочная белая объем 0,5 л',\n",
       "       'гардения d-9 см укорененный черенок',\n",
       "       'капуста брюссельская сапфир в кассете 6 штук позднеспелая',\n",
       "       'патиссон зонтик раннеспелый d-7 см',\n",
       "       'патиссон нло белый раннеспелый d-7 см',\n",
       "       'мята махито japanosche mojito minze d-7 см h-10 см укорененный черенок',\n",
       "       'фатсия d-17 см h-50 см',\n",
       "       'цинерания рассада однолетних цветов в кассете по 6 шт',\n",
       "       'петуния surprise marine синяя объем 0,5 л',\n",
       "       'петуния рассада смесь цветов 5-6 листов фиолетовая с белым ободком',\n",
       "       'лавр нобилис d-10 см',\n",
       "       'рассада зелени для кухни мята бэррис энд крим диам. 9 см',\n",
       "       'рассада зелени для кухни мята икс пиперита цитрата грэйпфрут диам. 9 см',\n",
       "       'рассада зелени для кухни мята пиперита строуберри диам. 9 см',\n",
       "       'лантана d-13 см',\n",
       "       'вербена рассада однолетних цветов в кассете по 10 шт',\n",
       "       'лаватера монт блан 0,3 г 4660010778588',\n",
       "       'роза садовая спрей в горшке лидия вайт',\n",
       "       'роза садовая спрей в горшке солнечная девочка',\n",
       "       'анемона белый объем 0,5 л',\n",
       "       'лен небесная лазурь голубой объем 0,5 л',\n",
       "       'буддлея вейера в горшке d-12',\n",
       "       'валериана лекарственная кардиола в кассете 4 штуки',\n",
       "       'змееголовник молдавский горыныч в кассете 4 штуки среднеспелый',\n",
       "       'капуста кольраби венская белая 1350 в кассете 4 штуки скороспелая',\n",
       "       'капуста цветная гарантия в кассете 4 штуки скороспелая',\n",
       "       'капуста цветная марвел 4 сеазонс в кассете 4 штуки раннеспелая',\n",
       "       'капуста цветная мовир 74 в кассете 4 штуки скороспелая',\n",
       "       'любисток удалец в кассете 6 штук', 'монарда в горшке d-12 см',\n",
       "       'петрушка корневая сахарная в кассете 4 штуки скороспелая',\n",
       "       'петрушка листовая итальянский гигант в кассете 4 штуки среднеспелая',\n",
       "       'петрушка листовая обыкновенная листовая в кассете 4 штуки скороспелая',\n",
       "       'петрушка листовая универсал в кассете 4 штуки среднеспелая',\n",
       "       'сельдерей листовой нежный среднеспелый в кассете 4 штуки',\n",
       "       'табак бордовый в кассете 10 штук',\n",
       "       'табак курительный юбилейный новый 142 в кассете 6 штук среднеспелый',\n",
       "       'фуксия e4 в кассете 4 штуки цвет в ассортименте',\n",
       "       'цинерария серебряная в кассете 10 штук',\n",
       "       'ваза маскарад 24 см g5541 luminarc франция',\n",
       "       'хамедорея d-12 см h-25-35 см', 'эхеверия микс d-5 см',\n",
       "       'лантана в горшке d-12',\n",
       "       'зверобой продырявленный оптимист d- 12-13 см',\n",
       "       'цикламен розовый d-12 см h-20',\n",
       "       'роза садовая почвопокровная в горшке ред вельвет',\n",
       "       'роза садовая спрей в горшке блэк джэк',\n",
       "       'роза садовая спрей в горшке румба',\n",
       "       'мединилла магнифика d-17 см h-60 см',\n",
       "       'импатиенс нью гвинея микс d-12 см',\n",
       "       'клен ложноплатановый леопольди в горшке 3,5 л',\n",
       "       'бальзамин новогвинейский d-13 см белый с розовым цвет фуксии с белыми вкраплениями',\n",
       "       'замиокулькас d-15 см h-30 см', 'каланхое каландива желтое d-7 см',\n",
       "       'колокольчик карпатский белый объем 0,5 л',\n",
       "       'колокольчик карпатский голубой объем 0,5 л',\n",
       "       'антуриум андрианум розовый d-12 см',\n",
       "       'флокс метельчатый сорт морской петух новый сорт, диаметр горшка 10см.',\n",
       "       'флокс метельчатый сорт полина, диаметр горшка 10см.',\n",
       "       'флокс метельчатый сорт чурленис, диаметр горшка 10см.',\n",
       "       'комнатное растение в горшке плектрантус подвесной горшок, d16, h30',\n",
       "       'роза садовая парковая в горшке чиппендейл',\n",
       "       'розмарин в горшке d-15 см', 'чабер bolero d-7 см',\n",
       "       'амариллис red lion темно-красный в горшке d-12 см 1 луковица',\n",
       "       'тимьян в горшке d-15 см',\n",
       "       'бальзамин новогвинейский d-13 см лососевый',\n",
       "       'колеус рассада однолетних цветов в кассете по 6 шт',\n",
       "       'бальзамин новогвинейский d-13 см белый',\n",
       "       'цикламен d-12 см h-20 см белый', 'кофе арабика d-7 см',\n",
       "       'диффенбахия камилла d-12 см',\n",
       "       'флокс метельчатый сорт гжель, диаметр горшка 10см.',\n",
       "       'флокс метельчатый сорт дракон, диаметр горшка 10см.',\n",
       "       'флокс метельчатый сорт земляничное суфле, диаметр горшка 10см.',\n",
       "       'флокс метельчатый сорт катенька-катюша, диаметр горшка 10см.',\n",
       "       'петрушка итальянский гигант 2 г 4660010776553',\n",
       "       'салат рукола дикая оливетта 0,3 г 4660010776898',\n",
       "       'салат рукола сицилия 1 г 4660010772852',\n",
       "       'бальзамин новогвинейский d-13 см розовый',\n",
       "       'эхеверия лила чина d-10 см',\n",
       "       'шеффлера голд капелла d-12 см h-25 см',\n",
       "       'пеларгония зональная диам. 12 см ярко розовая полумахровая',\n",
       "       'роза садовая парковая в горшке августа луиза',\n",
       "       'флокс метельчатый сорт вальс, диаметр горшка 10см.',\n",
       "       'флокс метельчатый сорт татьяна, диаметр горшка 10см.',\n",
       "       'зверобой продырявленный d-9 см', 'хризантема сиреневая d-18 см',\n",
       "       'пеларгония розебудная apple blossom укорененный черенок',\n",
       "       'пуансеттия d-23 см красная', 'пуансеттия d-23 см белая',\n",
       "       'фуксия прямостоячая белая с красными лепестками в горшке p9',\n",
       "       'фуксия прямостоячая белая с розовыми лепестками в горшке p9',\n",
       "       'фуксия bella rosella малиновая с белым чашелистом объем 0,5 л',\n",
       "       'эвкалипт гунни d-14 см h-70 см',\n",
       "       'пахира акватика мультистем d-17 см h-45 см',\n",
       "       'эхинокактус грузони красный d-10 см',\n",
       "       'зверобой продырявленный оптимист d- 9 см',\n",
       "       'комнатное растение пуансеттия d10',\n",
       "       'комнатное растение в горшке традесканция красная с белым подвесной горшок , d16, h30',\n",
       "       'пеларгония зональная махровая микс d-9 см',\n",
       "       'эвкалипт сильвердроп d-7 см h-30 см', 'лавр d-9 см',\n",
       "       'каланхое каландива малиновое d-7 см', 'литопс микс d-5 см'],\n",
       "      dtype=object)"
      ]
     },
     "execution_count": 17,
     "metadata": {},
     "output_type": "execute_result"
    }
   ],
   "source": [
    "# проверим, не попали ли лишние товары в категорию \"растения и семена\"\n",
    "\n",
    "data[data['product_category']=='растения и семена']['product'].unique()"
   ]
  },
  {
   "cell_type": "code",
   "execution_count": 18,
   "id": "6b5482b0",
   "metadata": {},
   "outputs": [],
   "source": [
    "# добавим столбцы с итоговой стоимостью и суммой каждого заказа\n",
    "\n",
    "data['total_price'] = data['quantity']*data['price']\n",
    "\n",
    "checks = pd.pivot_table(data, index=['order_id'], values='total_price', aggfunc=np.sum).reset_index()\n",
    "checks = checks.rename(columns={'total_price': 'total'})\n",
    "\n",
    "data = data.merge(checks, on='order_id', how='left')\n",
    "\n",
    "# и сохраним данные для последующей работы\n",
    "\n",
    "data.to_csv(\"ecom_data.csv\")\n",
    "data = data.rename(columns={'total_x': 'total'})"
   ]
  },
  {
   "cell_type": "markdown",
   "id": "e590f001",
   "metadata": {},
   "source": [
    "### EDA"
   ]
  },
  {
   "cell_type": "code",
   "execution_count": 19,
   "id": "70c3acf2",
   "metadata": {},
   "outputs": [
    {
     "data": {
      "text/html": [
       "<div>\n",
       "<style scoped>\n",
       "    .dataframe tbody tr th:only-of-type {\n",
       "        vertical-align: middle;\n",
       "    }\n",
       "\n",
       "    .dataframe tbody tr th {\n",
       "        vertical-align: top;\n",
       "    }\n",
       "\n",
       "    .dataframe thead th {\n",
       "        text-align: right;\n",
       "    }\n",
       "</style>\n",
       "<table border=\"1\" class=\"dataframe\">\n",
       "  <thead>\n",
       "    <tr style=\"text-align: right;\">\n",
       "      <th></th>\n",
       "      <th>order_id</th>\n",
       "      <th>quantity</th>\n",
       "      <th>price</th>\n",
       "      <th>hour</th>\n",
       "      <th>weekday</th>\n",
       "      <th>total_price</th>\n",
       "      <th>total</th>\n",
       "    </tr>\n",
       "  </thead>\n",
       "  <tbody>\n",
       "    <tr>\n",
       "      <th>count</th>\n",
       "      <td>4350.000000</td>\n",
       "      <td>4350.000000</td>\n",
       "      <td>4350.000000</td>\n",
       "      <td>4350.000000</td>\n",
       "      <td>4350.000000</td>\n",
       "      <td>4350.000000</td>\n",
       "      <td>4350.000000</td>\n",
       "    </tr>\n",
       "    <tr>\n",
       "      <th>mean</th>\n",
       "      <td>48684.866437</td>\n",
       "      <td>2.842299</td>\n",
       "      <td>521.315402</td>\n",
       "      <td>13.772644</td>\n",
       "      <td>2.608966</td>\n",
       "      <td>877.248276</td>\n",
       "      <td>1624.548506</td>\n",
       "    </tr>\n",
       "    <tr>\n",
       "      <th>std</th>\n",
       "      <td>27232.393062</td>\n",
       "      <td>18.299467</td>\n",
       "      <td>960.832738</td>\n",
       "      <td>4.767825</td>\n",
       "      <td>1.963442</td>\n",
       "      <td>10373.899089</td>\n",
       "      <td>10451.481169</td>\n",
       "    </tr>\n",
       "    <tr>\n",
       "      <th>min</th>\n",
       "      <td>12624.000000</td>\n",
       "      <td>1.000000</td>\n",
       "      <td>9.000000</td>\n",
       "      <td>0.000000</td>\n",
       "      <td>0.000000</td>\n",
       "      <td>9.000000</td>\n",
       "      <td>14.000000</td>\n",
       "    </tr>\n",
       "    <tr>\n",
       "      <th>25%</th>\n",
       "      <td>14777.250000</td>\n",
       "      <td>1.000000</td>\n",
       "      <td>97.000000</td>\n",
       "      <td>10.000000</td>\n",
       "      <td>1.000000</td>\n",
       "      <td>120.000000</td>\n",
       "      <td>464.000000</td>\n",
       "    </tr>\n",
       "    <tr>\n",
       "      <th>50%</th>\n",
       "      <td>68902.500000</td>\n",
       "      <td>1.000000</td>\n",
       "      <td>150.000000</td>\n",
       "      <td>14.000000</td>\n",
       "      <td>2.000000</td>\n",
       "      <td>194.000000</td>\n",
       "      <td>974.000000</td>\n",
       "    </tr>\n",
       "    <tr>\n",
       "      <th>75%</th>\n",
       "      <td>70820.500000</td>\n",
       "      <td>1.000000</td>\n",
       "      <td>515.000000</td>\n",
       "      <td>17.000000</td>\n",
       "      <td>4.000000</td>\n",
       "      <td>734.000000</td>\n",
       "      <td>1874.000000</td>\n",
       "    </tr>\n",
       "    <tr>\n",
       "      <th>max</th>\n",
       "      <td>73164.000000</td>\n",
       "      <td>1000.000000</td>\n",
       "      <td>14917.000000</td>\n",
       "      <td>23.000000</td>\n",
       "      <td>6.000000</td>\n",
       "      <td>675000.000000</td>\n",
       "      <td>675000.000000</td>\n",
       "    </tr>\n",
       "  </tbody>\n",
       "</table>\n",
       "</div>"
      ],
      "text/plain": [
       "           order_id     quantity         price         hour      weekday  \\\n",
       "count   4350.000000  4350.000000   4350.000000  4350.000000  4350.000000   \n",
       "mean   48684.866437     2.842299    521.315402    13.772644     2.608966   \n",
       "std    27232.393062    18.299467    960.832738     4.767825     1.963442   \n",
       "min    12624.000000     1.000000      9.000000     0.000000     0.000000   \n",
       "25%    14777.250000     1.000000     97.000000    10.000000     1.000000   \n",
       "50%    68902.500000     1.000000    150.000000    14.000000     2.000000   \n",
       "75%    70820.500000     1.000000    515.000000    17.000000     4.000000   \n",
       "max    73164.000000  1000.000000  14917.000000    23.000000     6.000000   \n",
       "\n",
       "         total_price          total  \n",
       "count    4350.000000    4350.000000  \n",
       "mean      877.248276    1624.548506  \n",
       "std     10373.899089   10451.481169  \n",
       "min         9.000000      14.000000  \n",
       "25%       120.000000     464.000000  \n",
       "50%       194.000000     974.000000  \n",
       "75%       734.000000    1874.000000  \n",
       "max    675000.000000  675000.000000  "
      ]
     },
     "execution_count": 19,
     "metadata": {},
     "output_type": "execute_result"
    }
   ],
   "source": [
    "data.describe()"
   ]
  },
  {
   "cell_type": "markdown",
   "id": "fb411ff9",
   "metadata": {},
   "source": [
    "Попробуем определить, где проходит граница \"нормального\" числа заказов."
   ]
  },
  {
   "cell_type": "code",
   "execution_count": 20,
   "id": "9099b37e",
   "metadata": {},
   "outputs": [
    {
     "data": {
      "text/plain": [
       "array([   1,   10,   96,   15,    6,   11,    2,    4,    3,    5,   37,\n",
       "         64,   25,   50,   30,   17,    8,    7,  170,   16,  140,   27,\n",
       "         20,    9,   12,   13,   24,  100,  200,   57,   40,   45,   29,\n",
       "         23,   43,  150,   14,   31,   59,   60,   18,   26,  300,   70,\n",
       "        334, 1000,   80,   65])"
      ]
     },
     "execution_count": 20,
     "metadata": {},
     "output_type": "execute_result"
    }
   ],
   "source": [
    "data['quantity'].unique()"
   ]
  },
  {
   "cell_type": "code",
   "execution_count": 40,
   "id": "4ce565c3",
   "metadata": {},
   "outputs": [
    {
     "name": "stdout",
     "output_type": "stream",
     "text": [
      "                    date                           customer_id  order_id  \\\n",
      "3441 2019-06-18 15:00:00  312e9a3e-5fca-43ff-a6a1-892d2b2d5ba6     71743   \n",
      "\n",
      "                                                product  quantity  price  \\\n",
      "3441  вантуз с деревянной ручкой d14 см красный, bur...      1000    675   \n",
      "\n",
      "      hour  weekday product_category  total_price   total fav_category  \n",
      "3441    15        1           ванная       675000  675000       ванная  \n",
      "                    date                           customer_id  order_id  \\\n",
      "3441 2019-06-18 15:00:00  312e9a3e-5fca-43ff-a6a1-892d2b2d5ba6     71743   \n",
      "\n",
      "                                                product  quantity  price  \\\n",
      "3441  вантуз с деревянной ручкой d14 см красный, bur...      1000    675   \n",
      "\n",
      "      hour  weekday product_category  total_price   total fav_category  \n",
      "3441    15        1           ванная       675000  675000       ванная  \n"
     ]
    }
   ],
   "source": [
    "print(data.query('quantity==1000'))\n",
    "print(data[data['order_id']==71743])\n",
    "data = data.drop(3441)"
   ]
  },
  {
   "cell_type": "markdown",
   "id": "cd6e8a2c",
   "metadata": {},
   "source": [
    "Этот заказ может быть и реальным, но в любом случае он аномальный и будет сильно смещать результаты анализа, поэтому лучше его удалить."
   ]
  },
  {
   "cell_type": "code",
   "execution_count": 42,
   "id": "26948914",
   "metadata": {},
   "outputs": [
    {
     "data": {
      "image/png": "[encoded data removed]",
      "text/plain": [
       "<Figure size 1080x720 with 2 Axes>"
      ]
     },
     "metadata": {},
     "output_type": "display_data"
    }
   ],
   "source": [
    "rows = 1\n",
    "cols = 2\n",
    "fig, axes = plt.subplots(rows, cols)\n",
    "column_list = ['quantity', 'price']\n",
    "ylims = [10, 15000]\n",
    "count = 0\n",
    "for c in range(cols):\n",
    "    ax = data.boxplot(column=column_list[count], ax=axes[c], fontsize=10)\n",
    "    ax.set_ylim([0, ylims[count]])\n",
    "    count += 1"
   ]
  },
  {
   "cell_type": "code",
   "execution_count": 41,
   "id": "cd27c673",
   "metadata": {},
   "outputs": [
    {
     "name": "stdout",
     "output_type": "stream",
     "text": [
      "                    date                           customer_id  order_id  \\\n",
      "3755 2019-07-29 17:00:00  0d87f4ae-465a-4fac-81e6-5d629761783e     72139   \n",
      "\n",
      "                                                product  quantity  price  \\\n",
      "3755  сушилка уличная leifheit 85210 linomatic v 400...         1  14917   \n",
      "\n",
      "      hour  weekday product_category  total_price  total     fav_category  \n",
      "3755    17        0  стирка и уборка        14917  14917  стирка и уборка  \n"
     ]
    }
   ],
   "source": [
    "print(data[data['price']==data['price'].max()])\n",
    "data = data.drop(3755)"
   ]
  },
  {
   "cell_type": "markdown",
   "id": "0b2ab666",
   "metadata": {},
   "source": [
    "Заказ с аномально дорогим товаром лучше удалить по той же причине."
   ]
  },
  {
   "cell_type": "code",
   "execution_count": 43,
   "id": "6e6e98e0",
   "metadata": {},
   "outputs": [
    {
     "name": "stdout",
     "output_type": "stream",
     "text": [
      "7.0\n",
      "11.0\n",
      "30.0\n"
     ]
    }
   ],
   "source": [
    "print(np.percentile(data['quantity'], 95))\n",
    "print(np.percentile(data['quantity'], 97))\n",
    "print(np.percentile(data['quantity'], 99))"
   ]
  },
  {
   "cell_type": "markdown",
   "id": "4525d7b4",
   "metadata": {},
   "source": [
    "Клиентов, у которых больше 30 единиц товара одного наименования, лучше рассматривать как оптовых."
   ]
  },
  {
   "cell_type": "code",
   "execution_count": 44,
   "id": "b4916132",
   "metadata": {},
   "outputs": [
    {
     "data": {
      "text/html": [
       "<div>\n",
       "<style scoped>\n",
       "    .dataframe tbody tr th:only-of-type {\n",
       "        vertical-align: middle;\n",
       "    }\n",
       "\n",
       "    .dataframe tbody tr th {\n",
       "        vertical-align: top;\n",
       "    }\n",
       "\n",
       "    .dataframe thead th {\n",
       "        text-align: right;\n",
       "    }\n",
       "</style>\n",
       "<table border=\"1\" class=\"dataframe\">\n",
       "  <thead>\n",
       "    <tr style=\"text-align: right;\">\n",
       "      <th></th>\n",
       "      <th>product_category</th>\n",
       "      <th>quantity</th>\n",
       "    </tr>\n",
       "  </thead>\n",
       "  <tbody>\n",
       "    <tr>\n",
       "      <th>5</th>\n",
       "      <td>растения и семена</td>\n",
       "      <td>3321</td>\n",
       "    </tr>\n",
       "    <tr>\n",
       "      <th>2</th>\n",
       "      <td>декор</td>\n",
       "      <td>2369</td>\n",
       "    </tr>\n",
       "    <tr>\n",
       "      <th>9</th>\n",
       "      <td>хранение и порядок</td>\n",
       "      <td>1668</td>\n",
       "    </tr>\n",
       "    <tr>\n",
       "      <th>4</th>\n",
       "      <td>кухня и бытовая техника</td>\n",
       "      <td>1160</td>\n",
       "    </tr>\n",
       "    <tr>\n",
       "      <th>8</th>\n",
       "      <td>товары для ремонта</td>\n",
       "      <td>1022</td>\n",
       "    </tr>\n",
       "    <tr>\n",
       "      <th>6</th>\n",
       "      <td>стирка и уборка</td>\n",
       "      <td>883</td>\n",
       "    </tr>\n",
       "    <tr>\n",
       "      <th>1</th>\n",
       "      <td>ванная</td>\n",
       "      <td>448</td>\n",
       "    </tr>\n",
       "    <tr>\n",
       "      <th>3</th>\n",
       "      <td>ковры и напольные покрытия</td>\n",
       "      <td>189</td>\n",
       "    </tr>\n",
       "    <tr>\n",
       "      <th>7</th>\n",
       "      <td>текстиль для дома</td>\n",
       "      <td>170</td>\n",
       "    </tr>\n",
       "    <tr>\n",
       "      <th>0</th>\n",
       "      <td>балкон и сад</td>\n",
       "      <td>131</td>\n",
       "    </tr>\n",
       "  </tbody>\n",
       "</table>\n",
       "</div>"
      ],
      "text/plain": [
       "             product_category  quantity\n",
       "5           растения и семена      3321\n",
       "2                       декор      2369\n",
       "9          хранение и порядок      1668\n",
       "4     кухня и бытовая техника      1160\n",
       "8          товары для ремонта      1022\n",
       "6             стирка и уборка       883\n",
       "1                      ванная       448\n",
       "3  ковры и напольные покрытия       189\n",
       "7           текстиль для дома       170\n",
       "0                балкон и сад       131"
      ]
     },
     "execution_count": 44,
     "metadata": {},
     "output_type": "execute_result"
    }
   ],
   "source": [
    "category_quantity = data.groupby('product_category')['quantity'].sum().reset_index().sort_values(by='quantity', ascending=False)\n",
    "category_quantity"
   ]
  },
  {
   "cell_type": "code",
   "execution_count": 45,
   "id": "e8733127",
   "metadata": {},
   "outputs": [
    {
     "data": {
      "image/png": "[encoded data removed]",
      "text/plain": [
       "<Figure size 504x360 with 1 Axes>"
      ]
     },
     "metadata": {},
     "output_type": "display_data"
    }
   ],
   "source": [
    "#график, который показывает, сколько раз категория встречалась в заказах\n",
    "\n",
    "fig = plt.figure(figsize=(7, 5))\n",
    "ax = fig.add_axes([0,0,1,1])\n",
    "\n",
    "ax.bar(category_quantity['product_category'], category_quantity['quantity'])\n",
    "plt.xticks(rotation=270)\n",
    "plt.rcParams.update({'font.size': 10})\n",
    "plt.show()"
   ]
  },
  {
   "cell_type": "code",
   "execution_count": 46,
   "id": "fdddcfa6",
   "metadata": {},
   "outputs": [
    {
     "data": {
      "text/html": [
       "<div>\n",
       "<style scoped>\n",
       "    .dataframe tbody tr th:only-of-type {\n",
       "        vertical-align: middle;\n",
       "    }\n",
       "\n",
       "    .dataframe tbody tr th {\n",
       "        vertical-align: top;\n",
       "    }\n",
       "\n",
       "    .dataframe thead th {\n",
       "        text-align: right;\n",
       "    }\n",
       "</style>\n",
       "<table border=\"1\" class=\"dataframe\">\n",
       "  <thead>\n",
       "    <tr style=\"text-align: right;\">\n",
       "      <th></th>\n",
       "      <th>product_category</th>\n",
       "      <th>total_price</th>\n",
       "    </tr>\n",
       "  </thead>\n",
       "  <tbody>\n",
       "    <tr>\n",
       "      <th>9</th>\n",
       "      <td>хранение и порядок</td>\n",
       "      <td>969920</td>\n",
       "    </tr>\n",
       "    <tr>\n",
       "      <th>6</th>\n",
       "      <td>стирка и уборка</td>\n",
       "      <td>644813</td>\n",
       "    </tr>\n",
       "    <tr>\n",
       "      <th>5</th>\n",
       "      <td>растения и семена</td>\n",
       "      <td>433420</td>\n",
       "    </tr>\n",
       "    <tr>\n",
       "      <th>4</th>\n",
       "      <td>кухня и бытовая техника</td>\n",
       "      <td>260639</td>\n",
       "    </tr>\n",
       "    <tr>\n",
       "      <th>7</th>\n",
       "      <td>текстиль для дома</td>\n",
       "      <td>195976</td>\n",
       "    </tr>\n",
       "    <tr>\n",
       "      <th>8</th>\n",
       "      <td>товары для ремонта</td>\n",
       "      <td>179325</td>\n",
       "    </tr>\n",
       "    <tr>\n",
       "      <th>1</th>\n",
       "      <td>ванная</td>\n",
       "      <td>157900</td>\n",
       "    </tr>\n",
       "    <tr>\n",
       "      <th>3</th>\n",
       "      <td>ковры и напольные покрытия</td>\n",
       "      <td>127992</td>\n",
       "    </tr>\n",
       "    <tr>\n",
       "      <th>2</th>\n",
       "      <td>декор</td>\n",
       "      <td>121460</td>\n",
       "    </tr>\n",
       "    <tr>\n",
       "      <th>0</th>\n",
       "      <td>балкон и сад</td>\n",
       "      <td>32682</td>\n",
       "    </tr>\n",
       "  </tbody>\n",
       "</table>\n",
       "</div>"
      ],
      "text/plain": [
       "             product_category  total_price\n",
       "9          хранение и порядок       969920\n",
       "6             стирка и уборка       644813\n",
       "5           растения и семена       433420\n",
       "4     кухня и бытовая техника       260639\n",
       "7           текстиль для дома       195976\n",
       "8          товары для ремонта       179325\n",
       "1                      ванная       157900\n",
       "3  ковры и напольные покрытия       127992\n",
       "2                       декор       121460\n",
       "0                балкон и сад        32682"
      ]
     },
     "execution_count": 46,
     "metadata": {},
     "output_type": "execute_result"
    }
   ],
   "source": [
    "#помотрим, какие категории принесли больше всего выручки\n",
    "category_price = data.groupby('product_category')['total_price'].sum().reset_index().sort_values(by='total_price', ascending=False)\n",
    "category_price"
   ]
  },
  {
   "cell_type": "code",
   "execution_count": 47,
   "id": "b5b5c997",
   "metadata": {},
   "outputs": [
    {
     "data": {
      "image/png": "[encoded data removed]",
      "text/plain": [
       "<Figure size 504x360 with 1 Axes>"
      ]
     },
     "metadata": {},
     "output_type": "display_data"
    }
   ],
   "source": [
    "#scatter plot для зависимости цены от категории \n",
    "\n",
    "fig = plt.figure(figsize=(7, 5))\n",
    "plt.scatter(data['product_category'], data['price'])\n",
    "plt.xticks(rotation=270)\n",
    "plt.show()"
   ]
  },
  {
   "cell_type": "code",
   "execution_count": 48,
   "id": "c2e4c9e3",
   "metadata": {},
   "outputs": [
    {
     "data": {
      "image/png": "[encoded data removed]",
      "text/plain": [
       "<Figure size 1080x720 with 1 Axes>"
      ]
     },
     "metadata": {},
     "output_type": "display_data"
    }
   ],
   "source": [
    "#stacked bar plot по дням недели и количеству товаров по категориям\n",
    "# Put data in long format in a dataframe.\n",
    "table = pd.DataFrame({\n",
    "    'category': data['product_category'],\n",
    "    'weekday': data['weekday'],\n",
    "    'quantity': data['quantity']\n",
    "})\n",
    "\n",
    "# One liner to create a stacked bar chart.\n",
    "ax = sns.histplot(table, x='weekday', hue='category', weights='quantity',\n",
    "             multiple='stack', palette='tab20c', shrink=0.8)\n",
    "ax.set_ylabel('quantity')\n",
    "sns.set(rc={'figure.figsize':(15,10)})\n",
    "# Fix the legend so it's not on top of the bars.\n",
    "legend = ax.get_legend()\n",
    "legend.set_bbox_to_anchor((1, 1))"
   ]
  },
  {
   "cell_type": "markdown",
   "id": "c1336d18",
   "metadata": {},
   "source": [
    "В разные дни недели отличается количество купленных товаров как в общем, так и по категориям. Больше всего покупок совершено в понедельник, в этот день покупают больше всего товаров из категории \"растения и семена\". \"Растения и семена\" покупают больше в будние, чем в выходные. Во вторник купили больше всего товаров категории \"хранение и порядок\". Вообще в выходные покупали меньше, чем в будние дни. Можно заметить ещё, например, что по субботам не покупали товары из категории \"балкон и сад\", может быть, те, кому они нужны, в этот день уже в саду.  "
   ]
  },
  {
   "cell_type": "markdown",
   "id": "8a8dc844",
   "metadata": {},
   "source": [
    "### Сегментация покупателей на основе истории их покупок"
   ]
  },
  {
   "cell_type": "markdown",
   "id": "3a9c9141",
   "metadata": {},
   "source": [
    "Теперь мы можем сегментировать покупателей, проще всего это сделать по наиболее часто встречающейся в их заказах категории товаров."
   ]
  },
  {
   "cell_type": "code",
   "execution_count": 49,
   "id": "5c6c61d4",
   "metadata": {},
   "outputs": [],
   "source": [
    "category_data = pd.pivot_table(data,\n",
    "               index=\"customer_id\", columns= \"product_category\",\n",
    "               values=\"quantity\",\n",
    "               aggfunc=sum,\n",
    "               fill_value=0).reset_index()\n",
    "\n",
    "category_data.dtypes\n",
    "\n",
    "category_data['любимая категория'] = category_data[['балкон и сад', 'ванная', 'декор', 'ковры и напольные покрытия', 'кухня и бытовая техника', \n",
    "                                                    'растения и семена', 'стирка и уборка', 'текстиль для дома', 'товары для ремонта',\n",
    "                                                    'хранение и порядок']].apply(lambda s, n: pd.Series(s.nlargest(n).index), axis=1, n=1)"
   ]
  },
  {
   "cell_type": "code",
   "execution_count": 50,
   "id": "7478c74d",
   "metadata": {
    "scrolled": true
   },
   "outputs": [
    {
     "data": {
      "text/html": [
       "<div>\n",
       "<style scoped>\n",
       "    .dataframe tbody tr th:only-of-type {\n",
       "        vertical-align: middle;\n",
       "    }\n",
       "\n",
       "    .dataframe tbody tr th {\n",
       "        vertical-align: top;\n",
       "    }\n",
       "\n",
       "    .dataframe thead th {\n",
       "        text-align: right;\n",
       "    }\n",
       "</style>\n",
       "<table border=\"1\" class=\"dataframe\">\n",
       "  <thead>\n",
       "    <tr style=\"text-align: right;\">\n",
       "      <th></th>\n",
       "      <th>любимая категория</th>\n",
       "      <th>customer_id</th>\n",
       "    </tr>\n",
       "  </thead>\n",
       "  <tbody>\n",
       "    <tr>\n",
       "      <th>5</th>\n",
       "      <td>растения и семена</td>\n",
       "      <td>591</td>\n",
       "    </tr>\n",
       "    <tr>\n",
       "      <th>6</th>\n",
       "      <td>стирка и уборка</td>\n",
       "      <td>413</td>\n",
       "    </tr>\n",
       "    <tr>\n",
       "      <th>9</th>\n",
       "      <td>хранение и порядок</td>\n",
       "      <td>409</td>\n",
       "    </tr>\n",
       "    <tr>\n",
       "      <th>4</th>\n",
       "      <td>кухня и бытовая техника</td>\n",
       "      <td>227</td>\n",
       "    </tr>\n",
       "    <tr>\n",
       "      <th>2</th>\n",
       "      <td>декор</td>\n",
       "      <td>176</td>\n",
       "    </tr>\n",
       "    <tr>\n",
       "      <th>1</th>\n",
       "      <td>ванная</td>\n",
       "      <td>153</td>\n",
       "    </tr>\n",
       "    <tr>\n",
       "      <th>8</th>\n",
       "      <td>товары для ремонта</td>\n",
       "      <td>112</td>\n",
       "    </tr>\n",
       "    <tr>\n",
       "      <th>3</th>\n",
       "      <td>ковры и напольные покрытия</td>\n",
       "      <td>86</td>\n",
       "    </tr>\n",
       "    <tr>\n",
       "      <th>7</th>\n",
       "      <td>текстиль для дома</td>\n",
       "      <td>46</td>\n",
       "    </tr>\n",
       "    <tr>\n",
       "      <th>0</th>\n",
       "      <td>балкон и сад</td>\n",
       "      <td>16</td>\n",
       "    </tr>\n",
       "  </tbody>\n",
       "</table>\n",
       "</div>"
      ],
      "text/plain": [
       "            любимая категория  customer_id\n",
       "5           растения и семена          591\n",
       "6             стирка и уборка          413\n",
       "9          хранение и порядок          409\n",
       "4     кухня и бытовая техника          227\n",
       "2                       декор          176\n",
       "1                      ванная          153\n",
       "8          товары для ремонта          112\n",
       "3  ковры и напольные покрытия           86\n",
       "7           текстиль для дома           46\n",
       "0                балкон и сад           16"
      ]
     },
     "execution_count": 50,
     "metadata": {},
     "output_type": "execute_result"
    }
   ],
   "source": [
    "top_category_df = category_data[['customer_id', 'любимая категория']]\n",
    "new_data = top_category_df.groupby('любимая категория')['customer_id'].count().reset_index().sort_values('customer_id', ascending=False)\n",
    "new_data"
   ]
  },
  {
   "cell_type": "code",
   "execution_count": 51,
   "id": "02b289e5",
   "metadata": {},
   "outputs": [
    {
     "data": {
      "image/png": "[encoded data removed]",
      "text/plain": [
       "<Figure size 1080x720 with 1 Axes>"
      ]
     },
     "metadata": {},
     "output_type": "display_data"
    }
   ],
   "source": [
    "#отобразим результаты на pie chart\n",
    "\n",
    "df = new_data['customer_id']\n",
    "labels = new_data['любимая категория']\n",
    "colors = sns.color_palette('pastel')\n",
    "plt.pie(df, labels=labels,colors = colors, autopct = '%0.0f%%')\n",
    "plt.show()"
   ]
  },
  {
   "cell_type": "markdown",
   "id": "41e15748",
   "metadata": {},
   "source": [
    "Посмотрим, как изменится картина, если учитывать разделение на обычных покупателей и оптовых. "
   ]
  },
  {
   "cell_type": "code",
   "execution_count": 64,
   "id": "b06d3ca7",
   "metadata": {},
   "outputs": [
    {
     "data": {
      "text/html": [
       "<div>\n",
       "<style scoped>\n",
       "    .dataframe tbody tr th:only-of-type {\n",
       "        vertical-align: middle;\n",
       "    }\n",
       "\n",
       "    .dataframe tbody tr th {\n",
       "        vertical-align: top;\n",
       "    }\n",
       "\n",
       "    .dataframe thead th {\n",
       "        text-align: right;\n",
       "    }\n",
       "</style>\n",
       "<table border=\"1\" class=\"dataframe\">\n",
       "  <thead>\n",
       "    <tr style=\"text-align: right;\">\n",
       "      <th></th>\n",
       "      <th>любимая категория</th>\n",
       "      <th>customer_id</th>\n",
       "    </tr>\n",
       "  </thead>\n",
       "  <tbody>\n",
       "    <tr>\n",
       "      <th>5</th>\n",
       "      <td>растения и семена</td>\n",
       "      <td>589</td>\n",
       "    </tr>\n",
       "    <tr>\n",
       "      <th>6</th>\n",
       "      <td>стирка и уборка</td>\n",
       "      <td>412</td>\n",
       "    </tr>\n",
       "    <tr>\n",
       "      <th>9</th>\n",
       "      <td>хранение и порядок</td>\n",
       "      <td>400</td>\n",
       "    </tr>\n",
       "    <tr>\n",
       "      <th>4</th>\n",
       "      <td>кухня и бытовая техника</td>\n",
       "      <td>222</td>\n",
       "    </tr>\n",
       "    <tr>\n",
       "      <th>2</th>\n",
       "      <td>декор</td>\n",
       "      <td>159</td>\n",
       "    </tr>\n",
       "    <tr>\n",
       "      <th>1</th>\n",
       "      <td>ванная</td>\n",
       "      <td>152</td>\n",
       "    </tr>\n",
       "    <tr>\n",
       "      <th>8</th>\n",
       "      <td>товары для ремонта</td>\n",
       "      <td>104</td>\n",
       "    </tr>\n",
       "    <tr>\n",
       "      <th>3</th>\n",
       "      <td>ковры и напольные покрытия</td>\n",
       "      <td>86</td>\n",
       "    </tr>\n",
       "    <tr>\n",
       "      <th>7</th>\n",
       "      <td>текстиль для дома</td>\n",
       "      <td>47</td>\n",
       "    </tr>\n",
       "    <tr>\n",
       "      <th>0</th>\n",
       "      <td>балкон и сад</td>\n",
       "      <td>15</td>\n",
       "    </tr>\n",
       "  </tbody>\n",
       "</table>\n",
       "</div>"
      ],
      "text/plain": [
       "            любимая категория  customer_id\n",
       "5           растения и семена          589\n",
       "6             стирка и уборка          412\n",
       "9          хранение и порядок          400\n",
       "4     кухня и бытовая техника          222\n",
       "2                       декор          159\n",
       "1                      ванная          152\n",
       "8          товары для ремонта          104\n",
       "3  ковры и напольные покрытия           86\n",
       "7           текстиль для дома           47\n",
       "0                балкон и сад           15"
      ]
     },
     "execution_count": 64,
     "metadata": {},
     "output_type": "execute_result"
    }
   ],
   "source": [
    "category_data_retail = pd.pivot_table(data[data['quantity']<30],\n",
    "               index=\"customer_id\", columns= \"product_category\",\n",
    "               values=\"quantity\",\n",
    "               aggfunc=sum,\n",
    "               fill_value=0).reset_index()\n",
    "\n",
    "category_data_retail['любимая категория'] = category_data_retail[['балкон и сад', 'ванная', 'декор', 'ковры и напольные покрытия', 'кухня и бытовая техника', \n",
    "                                                    'растения и семена', 'стирка и уборка', 'текстиль для дома', 'товары для ремонта',\n",
    "                                                    'хранение и порядок']].apply(lambda s, n: pd.Series(s.nlargest(n).index), axis=1, n=1)\n",
    "\n",
    "top_category_retail = category_data_retail[['customer_id', 'любимая категория']]\n",
    "retail_data = top_category_retail.groupby('любимая категория')['customer_id'].count().reset_index().sort_values('customer_id', ascending=False)\n",
    "retail_data"
   ]
  },
  {
   "cell_type": "code",
   "execution_count": 66,
   "id": "dd77f597",
   "metadata": {},
   "outputs": [
    {
     "data": {
      "text/html": [
       "<div>\n",
       "<style scoped>\n",
       "    .dataframe tbody tr th:only-of-type {\n",
       "        vertical-align: middle;\n",
       "    }\n",
       "\n",
       "    .dataframe tbody tr th {\n",
       "        vertical-align: top;\n",
       "    }\n",
       "\n",
       "    .dataframe thead th {\n",
       "        text-align: right;\n",
       "    }\n",
       "</style>\n",
       "<table border=\"1\" class=\"dataframe\">\n",
       "  <thead>\n",
       "    <tr style=\"text-align: right;\">\n",
       "      <th></th>\n",
       "      <th>любимая категория</th>\n",
       "      <th>customer_id</th>\n",
       "    </tr>\n",
       "  </thead>\n",
       "  <tbody>\n",
       "    <tr>\n",
       "      <th>2</th>\n",
       "      <td>декор</td>\n",
       "      <td>18</td>\n",
       "    </tr>\n",
       "    <tr>\n",
       "      <th>6</th>\n",
       "      <td>товары для ремонта</td>\n",
       "      <td>9</td>\n",
       "    </tr>\n",
       "    <tr>\n",
       "      <th>7</th>\n",
       "      <td>хранение и порядок</td>\n",
       "      <td>9</td>\n",
       "    </tr>\n",
       "    <tr>\n",
       "      <th>3</th>\n",
       "      <td>кухня и бытовая техника</td>\n",
       "      <td>7</td>\n",
       "    </tr>\n",
       "    <tr>\n",
       "      <th>4</th>\n",
       "      <td>растения и семена</td>\n",
       "      <td>2</td>\n",
       "    </tr>\n",
       "    <tr>\n",
       "      <th>5</th>\n",
       "      <td>стирка и уборка</td>\n",
       "      <td>2</td>\n",
       "    </tr>\n",
       "    <tr>\n",
       "      <th>0</th>\n",
       "      <td>балкон и сад</td>\n",
       "      <td>1</td>\n",
       "    </tr>\n",
       "    <tr>\n",
       "      <th>1</th>\n",
       "      <td>ванная</td>\n",
       "      <td>1</td>\n",
       "    </tr>\n",
       "  </tbody>\n",
       "</table>\n",
       "</div>"
      ],
      "text/plain": [
       "         любимая категория  customer_id\n",
       "2                    декор           18\n",
       "6       товары для ремонта            9\n",
       "7       хранение и порядок            9\n",
       "3  кухня и бытовая техника            7\n",
       "4        растения и семена            2\n",
       "5          стирка и уборка            2\n",
       "0             балкон и сад            1\n",
       "1                   ванная            1"
      ]
     },
     "execution_count": 66,
     "metadata": {},
     "output_type": "execute_result"
    }
   ],
   "source": [
    "category_data_wholesale = pd.pivot_table(data[data['quantity']>=30],\n",
    "               index=\"customer_id\", columns= \"product_category\",\n",
    "               values=\"quantity\",\n",
    "               aggfunc=sum,\n",
    "               fill_value=0).reset_index()\n",
    "\n",
    "category_data_wholesale['любимая категория'] = category_data_wholesale[['балкон и сад', 'ванная', 'декор', 'кухня и бытовая техника', \n",
    "                                                    'растения и семена', 'стирка и уборка', 'товары для ремонта',\n",
    "                                                    'хранение и порядок']].apply(lambda s, n: pd.Series(s.nlargest(n).index), axis=1, n=1)\n",
    "\n",
    "top_category_wholesale = category_data_wholesale[['customer_id', 'любимая категория']]\n",
    "wholesale_data = top_category_wholesale.groupby('любимая категория')['customer_id'].count().reset_index().sort_values('customer_id', ascending=False)\n",
    "wholesale_data"
   ]
  },
  {
   "cell_type": "markdown",
   "id": "dace382d",
   "metadata": {},
   "source": [
    "Оптом закупают в основном декор и товары для ремонта."
   ]
  },
  {
   "cell_type": "markdown",
   "id": "abe7bde9",
   "metadata": {},
   "source": [
    "### Формулировка и проверка статистических гипотез"
   ]
  },
  {
   "cell_type": "code",
   "execution_count": 52,
   "id": "a3b21ee2",
   "metadata": {},
   "outputs": [
    {
     "data": {
      "text/html": [
       "<div>\n",
       "<style scoped>\n",
       "    .dataframe tbody tr th:only-of-type {\n",
       "        vertical-align: middle;\n",
       "    }\n",
       "\n",
       "    .dataframe tbody tr th {\n",
       "        vertical-align: top;\n",
       "    }\n",
       "\n",
       "    .dataframe thead th {\n",
       "        text-align: right;\n",
       "    }\n",
       "</style>\n",
       "<table border=\"1\" class=\"dataframe\">\n",
       "  <thead>\n",
       "    <tr style=\"text-align: right;\">\n",
       "      <th></th>\n",
       "      <th>product_category</th>\n",
       "      <th>price</th>\n",
       "    </tr>\n",
       "  </thead>\n",
       "  <tbody>\n",
       "    <tr>\n",
       "      <th>9</th>\n",
       "      <td>хранение и порядок</td>\n",
       "      <td>1464.779468</td>\n",
       "    </tr>\n",
       "    <tr>\n",
       "      <th>7</th>\n",
       "      <td>текстиль для дома</td>\n",
       "      <td>1257.750000</td>\n",
       "    </tr>\n",
       "    <tr>\n",
       "      <th>6</th>\n",
       "      <td>стирка и уборка</td>\n",
       "      <td>1081.743295</td>\n",
       "    </tr>\n",
       "    <tr>\n",
       "      <th>8</th>\n",
       "      <td>товары для ремонта</td>\n",
       "      <td>922.092857</td>\n",
       "    </tr>\n",
       "    <tr>\n",
       "      <th>3</th>\n",
       "      <td>ковры и напольные покрытия</td>\n",
       "      <td>901.157407</td>\n",
       "    </tr>\n",
       "    <tr>\n",
       "      <th>1</th>\n",
       "      <td>ванная</td>\n",
       "      <td>575.985075</td>\n",
       "    </tr>\n",
       "    <tr>\n",
       "      <th>0</th>\n",
       "      <td>балкон и сад</td>\n",
       "      <td>518.705882</td>\n",
       "    </tr>\n",
       "    <tr>\n",
       "      <th>4</th>\n",
       "      <td>кухня и бытовая техника</td>\n",
       "      <td>413.434783</td>\n",
       "    </tr>\n",
       "    <tr>\n",
       "      <th>5</th>\n",
       "      <td>растения и семена</td>\n",
       "      <td>144.408116</td>\n",
       "    </tr>\n",
       "    <tr>\n",
       "      <th>2</th>\n",
       "      <td>декор</td>\n",
       "      <td>103.240602</td>\n",
       "    </tr>\n",
       "  </tbody>\n",
       "</table>\n",
       "</div>"
      ],
      "text/plain": [
       "             product_category        price\n",
       "9          хранение и порядок  1464.779468\n",
       "7           текстиль для дома  1257.750000\n",
       "6             стирка и уборка  1081.743295\n",
       "8          товары для ремонта   922.092857\n",
       "3  ковры и напольные покрытия   901.157407\n",
       "1                      ванная   575.985075\n",
       "0                балкон и сад   518.705882\n",
       "4     кухня и бытовая техника   413.434783\n",
       "5           растения и семена   144.408116\n",
       "2                       декор   103.240602"
      ]
     },
     "execution_count": 52,
     "metadata": {},
     "output_type": "execute_result"
    }
   ],
   "source": [
    "data.groupby('product_category')['price'].mean().reset_index().sort_values(by='price', ascending=False)"
   ]
  },
  {
   "cell_type": "markdown",
   "id": "14f97b0e",
   "metadata": {},
   "source": [
    "Ранее мы выяснили, что больше всего выручки принесла категория \"Хранение и порядок\", а самая популярная категория у покупателей - \"Растения и семена\". Проверим гипотезу о том, что между разными сегментами покупателей - теми, кто чаще выбирает товары категории \"Хранение и порядок\" и теми, кто чаще покупает из категории \"Растения и семена\" имеется статистически значимая разница в средних чеках (так мы узнаем, с чем связана разница в суммарной выручке, со средним чеком или например с частотой совершения покупок). \n",
    "Сформулируем нулевую и альтернативную гипотезы:\n",
    "\n",
    "    H0 - между группами нет статистически значимых различий в среднем чеке\n",
    "    H1 - средний чек у группы, которая покупает \"Растения и семена\", ниже."
   ]
  },
  {
   "cell_type": "code",
   "execution_count": 53,
   "id": "9b532feb",
   "metadata": {},
   "outputs": [
    {
     "data": {
      "text/plain": [
       "<AxesSubplot:xlabel='total', ylabel='Density'>"
      ]
     },
     "execution_count": 53,
     "metadata": {},
     "output_type": "execute_result"
    },
    {
     "data": {
      "image/png": "[encoded data removed]",
      "text/plain": [
       "<Figure size 1080x720 with 1 Axes>"
      ]
     },
     "metadata": {},
     "output_type": "display_data"
    }
   ],
   "source": [
    "data = data.merge(top_category_df, on='customer_id', how='left')\n",
    "data = data.rename(columns={'любимая категория': 'fav_category'})\n",
    "test_data = data.query(\"fav_category=='растения и семена' | fav_category=='хранение и порядок'\")\n",
    "\n",
    "\n",
    "# разделение на группы\n",
    "plant = test_data.query(\"fav_category=='растения и семена'\")\n",
    "tidy = test_data.query(\"fav_category=='хранение и порядок'\") \n",
    "\n",
    "plant_lovers = plant.pivot_table(index='customer_id', values='total', aggfunc='sum').reset_index()\n",
    "\n",
    "tidy_enjoyers = tidy.pivot_table(index='customer_id', values='total', aggfunc='sum').reset_index()\n",
    "\n",
    "#проверка нормальности распределения\n",
    "sns.distplot(plant_lovers['total'])\n",
    "sns.distplot(tidy_enjoyers['total'])"
   ]
  },
  {
   "cell_type": "code",
   "execution_count": 54,
   "id": "7c74212e",
   "metadata": {},
   "outputs": [
    {
     "data": {
      "image/png": "[encoded data removed]",
      "text/plain": [
       "<Figure size 864x576 with 2 Axes>"
      ]
     },
     "metadata": {},
     "output_type": "display_data"
    }
   ],
   "source": [
    "from scipy import stats as st\n",
    "\n",
    "plt.figure(figsize=(12,8))\n",
    "plt.subplot(2,2,1)\n",
    "st.probplot(plant_lovers['total'], dist=\"norm\", plot=plt)\n",
    "plt.subplot(2,2,2)\n",
    "st.probplot(tidy_enjoyers['total'], dist=\"norm\", plot=plt)\n",
    "plt.show()"
   ]
  },
  {
   "cell_type": "code",
   "execution_count": 60,
   "id": "49cd4ff6",
   "metadata": {},
   "outputs": [
    {
     "name": "stdout",
     "output_type": "stream",
     "text": [
      "p-значение:  5.025063727975845e-12\n",
      "Отвергаем нулевую гипотезу\n"
     ]
    }
   ],
   "source": [
    "# т.к. совкупности распределены не нормально, применим непараметрический (односторонний) тест\n",
    "\n",
    "alpha = 0.05\n",
    "    \n",
    "results = st.mannwhitneyu(plant_lovers['total'], tidy_enjoyers['total'], alternative='less')\n",
    "print('p-значение: ', results.pvalue)\n",
    "\n",
    "if (results.pvalue < alpha):\n",
    "    print(\"Отвергаем нулевую гипотезу\")\n",
    "else:\n",
    "    print(\"Не получилось отвергнуть нулевую гипотезу\")      "
   ]
  },
  {
   "cell_type": "markdown",
   "id": "dc0da486",
   "metadata": {},
   "source": [
    "По результатам теста при заданном уровне альфа есть основания отвергнуть нулевую гипотезу, значит, средний чек у тех, кто больше всего покупает \"растения и семена\", выше. \n",
    "\n",
    "Также мы видели, что в разные дни недели покупают разное количество товаров. Наибольшее количество покупок совершают во вторник, наименьшее - в субботу. Проверим, отличается ли средний чек в выходные и будние дни.\n",
    "Сформулируем нулевую и альтернативную гипотезы:\n",
    "\n",
    "    H0 - между группами нет статистически значимых различий в среднем чеке\n",
    "    H1 - средний чек в заказах, сделанных в будние дни, ниже. \n",
    "  "
   ]
  },
  {
   "cell_type": "code",
   "execution_count": 55,
   "id": "d47c47ab",
   "metadata": {},
   "outputs": [
    {
     "data": {
      "text/plain": [
       "<AxesSubplot:xlabel='total', ylabel='Density'>"
      ]
     },
     "execution_count": 55,
     "metadata": {},
     "output_type": "execute_result"
    },
    {
     "data": {
      "image/png": "[encoded data removed]",
      "text/plain": [
       "<Figure size 1080x720 with 1 Axes>"
      ]
     },
     "metadata": {},
     "output_type": "display_data"
    }
   ],
   "source": [
    "# разделение на группы\n",
    "week = data.query(\"0<=weekday<=4\")\n",
    "end = data.query(\"5<=weekday<=6\")\n",
    "\n",
    "week_orders = week.pivot_table(index='order_id', values='total', aggfunc='sum').reset_index()\n",
    "\n",
    "end_orders = end.pivot_table(index='order_id', values='total', aggfunc='sum').reset_index()\n",
    "\n",
    "#проверка нормальности распределения\n",
    "sns.distplot(week_orders['total'])\n",
    "sns.distplot(end_orders['total'])"
   ]
  },
  {
   "cell_type": "code",
   "execution_count": 56,
   "id": "0bc94f35",
   "metadata": {},
   "outputs": [
    {
     "data": {
      "image/png": "[encoded data removed]",
      "text/plain": [
       "<Figure size 864x576 with 2 Axes>"
      ]
     },
     "metadata": {},
     "output_type": "display_data"
    }
   ],
   "source": [
    "plt.figure(figsize=(12,8))\n",
    "plt.subplot(2,2,1)\n",
    "st.probplot(week_orders['total'], dist=\"norm\", plot=plt)\n",
    "plt.subplot(2,2,2)\n",
    "st.probplot(end_orders['total'], dist=\"norm\", plot=plt)\n",
    "plt.show()"
   ]
  },
  {
   "cell_type": "code",
   "execution_count": 58,
   "id": "fe1f193e",
   "metadata": {},
   "outputs": [
    {
     "name": "stdout",
     "output_type": "stream",
     "text": [
      "p-значение:  0.9364511004844345\n",
      "Не получилось отвергнуть нулевую гипотезу\n"
     ]
    }
   ],
   "source": [
    "# проводим непараметрическй односторонний тест\n",
    "\n",
    "results = st.mannwhitneyu(week_orders['total'], end_orders['total'], alternative='less')\n",
    "print('p-значение: ', results.pvalue)\n",
    "\n",
    "if (results.pvalue < alpha):\n",
    "    print(\"Отвергаем нулевую гипотезу\")\n",
    "else:\n",
    "    print(\"Не получилось отвергнуть нулевую гипотезу\")    "
   ]
  },
  {
   "cell_type": "markdown",
   "id": "31a525b7",
   "metadata": {},
   "source": [
    "По результатам теста при заданном уровне альфа нет оснований отвергать нулевую гипотезу, средний чек в будние ниже, чем в выходные."
   ]
  },
  {
   "cell_type": "markdown",
   "id": "9e635a09",
   "metadata": {},
   "source": [
    "<div class=\"alert alert-success\">\n",
    "<b>👍 Успех:</b> Гипотезы сформулированы и проверены\n",
    "</div>"
   ]
  },
  {
   "cell_type": "markdown",
   "id": "6a6121a0",
   "metadata": {},
   "source": [
    "### Выводы, рекомендации"
   ]
  },
  {
   "cell_type": "markdown",
   "id": "f3c26a09",
   "metadata": {},
   "source": [
    "На этапе преодработки в данных не было обнаружено аномалий, данные полные, без выбросов, был удалены некоторые строки, которые предположительно были дубликатами, но они составили меньше 1% от всего датасета. Также добавленно несколько новых признаков - день недели, в который совершена покупка, сумма заказа и категория продукта (каждому продукту присвоена одна из 10 категорий с помощью словаря с регулярными выражениями). \n",
    "\n",
    "В ходе EDA обнаружилось, что среднее количество товаров одного наименования в заказе - 2-3 штуки, а больше 30 единиц одного товара встречается только в 1% всех записей, поэтому покупателей, у которых встречается более 30 товаров одного нааименования, лучше рассматривать как оптовых и продумать для них отдельную маркетинговую стратегию. Чаще всего в заказах встречалась категория \"растения и семена\", реже всего - \"балкон и сад\" и \"текстиль для дома\". При этом больше всего выручки принесли категории \"хранение и порядок\" и \"стирка и уборка\", а \"растения и семена\" только на третьем месте. Анализ количества покупок по дням недели показал, что в будние покупают больше, чем в выходные, и в выходные практически не покупают товары для сада.\n",
    "\n",
    "Выполнена сегментация клиентов на основе того, какая категория чаще всего встречалась в их заказах. В соответствии с этим можно сформировать персонализированные предложения, например, посмотреть, какой самый популярный товар в каждой категории и предлагать его тем, у кого эта категория на определена как любимая, или предлагать товары из смежных категорий. У розничных покупателей чаще всего оказывалась любимой категория \"растения и семена\", а у оптовых - \"декор\". \n",
    "\n",
    "Было сформулировано две гипотезы: 1. средний чек у тех, кто чаще всего покупает товары категории \"растения и семена\", ниже, чем у тех, кто покупает товары категории \"хранение и порядок\", 2. средний чек в заказах, сделанных в будние дни, ниже, чем в заказах, сделанных в выходные. Для проверки гипотез выполено разбиение в первом случае пользователей, а во втором - заказов на группы и проверка распределения на нормальность. Т.к. распределение оказалось не нормальным, в обоих случаях проведён непараметрический односторонний тест. При уровне значимости a = .05 гипотеза о равенстве средних чеков в первом случае была отвергнута, средний чек у тех, кто покупат \"растения и семена\", оказался выше, а вторая гипотеза подтвердилась. "
   ]
  }
 ],
 "metadata": {
  "ExecuteTimeLog": [
   {
    "duration": 12,
    "start_time": "2022-10-07T20:47:24.389Z"
   },
   {
    "duration": 41,
    "start_time": "2022-10-07T20:47:31.317Z"
   },
   {
    "duration": 1508,
    "start_time": "2022-10-07T20:49:13.960Z"
   },
   {
    "duration": 1443,
    "start_time": "2022-10-07T20:49:15.470Z"
   },
   {
    "duration": 8,
    "start_time": "2022-10-07T20:49:16.915Z"
   },
   {
    "duration": 17,
    "start_time": "2022-10-07T20:49:16.926Z"
   },
   {
    "duration": 15,
    "start_time": "2022-10-07T20:49:16.945Z"
   },
   {
    "duration": 8,
    "start_time": "2022-10-07T20:49:16.962Z"
   },
   {
    "duration": 6,
    "start_time": "2022-10-07T20:49:16.971Z"
   },
   {
    "duration": 14,
    "start_time": "2022-10-07T20:49:16.979Z"
   },
   {
    "duration": 18,
    "start_time": "2022-10-07T20:49:16.994Z"
   },
   {
    "duration": 9,
    "start_time": "2022-10-07T20:49:17.035Z"
   },
   {
    "duration": 3,
    "start_time": "2022-10-07T20:49:17.045Z"
   },
   {
    "duration": 15,
    "start_time": "2022-10-07T20:49:17.050Z"
   },
   {
    "duration": 7,
    "start_time": "2022-10-07T20:49:17.067Z"
   },
   {
    "duration": 3348,
    "start_time": "2022-10-07T20:49:17.075Z"
   },
   {
    "duration": 33,
    "start_time": "2022-10-07T20:49:20.424Z"
   },
   {
    "duration": 109,
    "start_time": "2022-10-07T20:49:20.458Z"
   },
   {
    "duration": 0,
    "start_time": "2022-10-07T20:49:20.569Z"
   },
   {
    "duration": 0,
    "start_time": "2022-10-07T20:49:20.570Z"
   },
   {
    "duration": 0,
    "start_time": "2022-10-07T20:49:20.572Z"
   },
   {
    "duration": 0,
    "start_time": "2022-10-07T20:49:20.573Z"
   },
   {
    "duration": 0,
    "start_time": "2022-10-07T20:49:20.574Z"
   },
   {
    "duration": 0,
    "start_time": "2022-10-07T20:49:20.575Z"
   },
   {
    "duration": 0,
    "start_time": "2022-10-07T20:49:20.576Z"
   },
   {
    "duration": 0,
    "start_time": "2022-10-07T20:49:20.578Z"
   },
   {
    "duration": 0,
    "start_time": "2022-10-07T20:49:20.579Z"
   },
   {
    "duration": 0,
    "start_time": "2022-10-07T20:49:20.580Z"
   },
   {
    "duration": 0,
    "start_time": "2022-10-07T20:49:20.581Z"
   },
   {
    "duration": 0,
    "start_time": "2022-10-07T20:49:20.582Z"
   },
   {
    "duration": 0,
    "start_time": "2022-10-07T20:49:20.583Z"
   },
   {
    "duration": 0,
    "start_time": "2022-10-07T20:49:20.584Z"
   },
   {
    "duration": 0,
    "start_time": "2022-10-07T20:49:20.585Z"
   },
   {
    "duration": 0,
    "start_time": "2022-10-07T20:49:20.586Z"
   },
   {
    "duration": 0,
    "start_time": "2022-10-07T20:49:20.587Z"
   },
   {
    "duration": 0,
    "start_time": "2022-10-07T20:49:20.588Z"
   },
   {
    "duration": 0,
    "start_time": "2022-10-07T20:49:20.589Z"
   },
   {
    "duration": 0,
    "start_time": "2022-10-07T20:49:20.590Z"
   },
   {
    "duration": 0,
    "start_time": "2022-10-07T20:49:20.591Z"
   },
   {
    "duration": 8,
    "start_time": "2022-10-07T20:56:20.311Z"
   },
   {
    "duration": 13,
    "start_time": "2022-10-07T20:56:25.672Z"
   },
   {
    "duration": 7,
    "start_time": "2022-10-07T20:57:03.659Z"
   },
   {
    "duration": 3489,
    "start_time": "2022-10-07T20:57:07.453Z"
   },
   {
    "duration": 13,
    "start_time": "2022-10-07T20:57:11.258Z"
   },
   {
    "duration": 7,
    "start_time": "2022-10-07T20:59:54.397Z"
   },
   {
    "duration": 11,
    "start_time": "2022-10-07T21:00:16.002Z"
   },
   {
    "duration": 4,
    "start_time": "2022-10-07T21:00:29.861Z"
   },
   {
    "duration": 25,
    "start_time": "2022-10-07T21:01:27.387Z"
   },
   {
    "duration": 1384,
    "start_time": "2022-10-07T21:08:56.745Z"
   },
   {
    "duration": 0,
    "start_time": "2022-10-07T21:08:58.131Z"
   },
   {
    "duration": 0,
    "start_time": "2022-10-07T21:08:58.133Z"
   },
   {
    "duration": 0,
    "start_time": "2022-10-07T21:08:58.134Z"
   },
   {
    "duration": 0,
    "start_time": "2022-10-07T21:08:58.135Z"
   },
   {
    "duration": 0,
    "start_time": "2022-10-07T21:08:58.136Z"
   },
   {
    "duration": 0,
    "start_time": "2022-10-07T21:08:58.137Z"
   },
   {
    "duration": 0,
    "start_time": "2022-10-07T21:08:58.138Z"
   },
   {
    "duration": 0,
    "start_time": "2022-10-07T21:08:58.139Z"
   },
   {
    "duration": 0,
    "start_time": "2022-10-07T21:08:58.139Z"
   },
   {
    "duration": 0,
    "start_time": "2022-10-07T21:08:58.141Z"
   },
   {
    "duration": 0,
    "start_time": "2022-10-07T21:08:58.141Z"
   },
   {
    "duration": 0,
    "start_time": "2022-10-07T21:08:58.142Z"
   },
   {
    "duration": 0,
    "start_time": "2022-10-07T21:08:58.143Z"
   },
   {
    "duration": 0,
    "start_time": "2022-10-07T21:08:58.144Z"
   },
   {
    "duration": 0,
    "start_time": "2022-10-07T21:08:58.146Z"
   },
   {
    "duration": 0,
    "start_time": "2022-10-07T21:08:58.146Z"
   },
   {
    "duration": 0,
    "start_time": "2022-10-07T21:08:58.147Z"
   },
   {
    "duration": 0,
    "start_time": "2022-10-07T21:08:58.148Z"
   },
   {
    "duration": 0,
    "start_time": "2022-10-07T21:08:58.149Z"
   },
   {
    "duration": 0,
    "start_time": "2022-10-07T21:08:58.150Z"
   },
   {
    "duration": 0,
    "start_time": "2022-10-07T21:08:58.151Z"
   },
   {
    "duration": 0,
    "start_time": "2022-10-07T21:08:58.152Z"
   },
   {
    "duration": 0,
    "start_time": "2022-10-07T21:08:58.153Z"
   },
   {
    "duration": 0,
    "start_time": "2022-10-07T21:08:58.154Z"
   },
   {
    "duration": 0,
    "start_time": "2022-10-07T21:08:58.155Z"
   },
   {
    "duration": 0,
    "start_time": "2022-10-07T21:08:58.157Z"
   },
   {
    "duration": 0,
    "start_time": "2022-10-07T21:08:58.158Z"
   },
   {
    "duration": 0,
    "start_time": "2022-10-07T21:08:58.159Z"
   },
   {
    "duration": 0,
    "start_time": "2022-10-07T21:08:58.160Z"
   },
   {
    "duration": 0,
    "start_time": "2022-10-07T21:08:58.160Z"
   },
   {
    "duration": 0,
    "start_time": "2022-10-07T21:08:58.162Z"
   },
   {
    "duration": 0,
    "start_time": "2022-10-07T21:08:58.163Z"
   },
   {
    "duration": 0,
    "start_time": "2022-10-07T21:08:58.167Z"
   },
   {
    "duration": 0,
    "start_time": "2022-10-07T21:08:58.168Z"
   },
   {
    "duration": 0,
    "start_time": "2022-10-07T21:08:58.169Z"
   },
   {
    "duration": 0,
    "start_time": "2022-10-07T21:08:58.170Z"
   },
   {
    "duration": 47,
    "start_time": "2022-10-07T21:09:29.983Z"
   },
   {
    "duration": 1277,
    "start_time": "2022-10-07T21:09:41.280Z"
   },
   {
    "duration": 1574,
    "start_time": "2022-10-07T21:09:42.559Z"
   },
   {
    "duration": 8,
    "start_time": "2022-10-07T21:09:44.135Z"
   },
   {
    "duration": 13,
    "start_time": "2022-10-07T21:09:44.145Z"
   },
   {
    "duration": 15,
    "start_time": "2022-10-07T21:09:44.160Z"
   },
   {
    "duration": 9,
    "start_time": "2022-10-07T21:09:44.177Z"
   },
   {
    "duration": 12,
    "start_time": "2022-10-07T21:09:44.188Z"
   },
   {
    "duration": 11,
    "start_time": "2022-10-07T21:09:44.201Z"
   },
   {
    "duration": 35,
    "start_time": "2022-10-07T21:09:44.213Z"
   },
   {
    "duration": 9,
    "start_time": "2022-10-07T21:09:44.251Z"
   },
   {
    "duration": 4,
    "start_time": "2022-10-07T21:09:44.261Z"
   },
   {
    "duration": 10,
    "start_time": "2022-10-07T21:09:44.267Z"
   },
   {
    "duration": 10,
    "start_time": "2022-10-07T21:09:44.278Z"
   },
   {
    "duration": 3581,
    "start_time": "2022-10-07T21:09:44.290Z"
   },
   {
    "duration": 41,
    "start_time": "2022-10-07T21:09:47.872Z"
   },
   {
    "duration": 206,
    "start_time": "2022-10-07T21:09:47.915Z"
   },
   {
    "duration": 30,
    "start_time": "2022-10-07T21:09:48.123Z"
   },
   {
    "duration": 54,
    "start_time": "2022-10-07T21:09:48.154Z"
   },
   {
    "duration": 0,
    "start_time": "2022-10-07T21:09:48.210Z"
   },
   {
    "duration": 0,
    "start_time": "2022-10-07T21:09:48.211Z"
   },
   {
    "duration": 0,
    "start_time": "2022-10-07T21:09:48.212Z"
   },
   {
    "duration": 0,
    "start_time": "2022-10-07T21:09:48.214Z"
   },
   {
    "duration": 0,
    "start_time": "2022-10-07T21:09:48.215Z"
   },
   {
    "duration": 0,
    "start_time": "2022-10-07T21:09:48.216Z"
   },
   {
    "duration": 0,
    "start_time": "2022-10-07T21:09:48.217Z"
   },
   {
    "duration": 0,
    "start_time": "2022-10-07T21:09:48.218Z"
   },
   {
    "duration": 0,
    "start_time": "2022-10-07T21:09:48.219Z"
   },
   {
    "duration": 0,
    "start_time": "2022-10-07T21:09:48.220Z"
   },
   {
    "duration": 0,
    "start_time": "2022-10-07T21:09:48.222Z"
   },
   {
    "duration": 0,
    "start_time": "2022-10-07T21:09:48.223Z"
   },
   {
    "duration": 0,
    "start_time": "2022-10-07T21:09:48.224Z"
   },
   {
    "duration": 0,
    "start_time": "2022-10-07T21:09:48.225Z"
   },
   {
    "duration": 0,
    "start_time": "2022-10-07T21:09:48.226Z"
   },
   {
    "duration": 0,
    "start_time": "2022-10-07T21:09:48.227Z"
   },
   {
    "duration": 0,
    "start_time": "2022-10-07T21:09:48.228Z"
   },
   {
    "duration": 0,
    "start_time": "2022-10-07T21:09:48.229Z"
   },
   {
    "duration": 0,
    "start_time": "2022-10-07T21:09:48.230Z"
   },
   {
    "duration": 54,
    "start_time": "2022-10-08T06:27:20.529Z"
   },
   {
    "duration": 1551,
    "start_time": "2022-10-08T06:27:28.319Z"
   },
   {
    "duration": 1527,
    "start_time": "2022-10-08T06:27:29.871Z"
   },
   {
    "duration": 8,
    "start_time": "2022-10-08T06:27:31.401Z"
   },
   {
    "duration": 28,
    "start_time": "2022-10-08T06:27:31.412Z"
   },
   {
    "duration": 24,
    "start_time": "2022-10-08T06:27:31.442Z"
   },
   {
    "duration": 15,
    "start_time": "2022-10-08T06:27:31.469Z"
   },
   {
    "duration": 19,
    "start_time": "2022-10-08T06:27:31.486Z"
   },
   {
    "duration": 27,
    "start_time": "2022-10-08T06:27:31.506Z"
   },
   {
    "duration": 28,
    "start_time": "2022-10-08T06:27:31.534Z"
   },
   {
    "duration": 11,
    "start_time": "2022-10-08T06:27:31.565Z"
   },
   {
    "duration": 23,
    "start_time": "2022-10-08T06:27:31.577Z"
   },
   {
    "duration": 29,
    "start_time": "2022-10-08T06:27:31.602Z"
   },
   {
    "duration": 12,
    "start_time": "2022-10-08T06:27:31.633Z"
   },
   {
    "duration": 11,
    "start_time": "2022-10-08T06:27:31.647Z"
   },
   {
    "duration": 3678,
    "start_time": "2022-10-08T06:27:31.660Z"
   },
   {
    "duration": 44,
    "start_time": "2022-10-08T06:27:35.340Z"
   },
   {
    "duration": 197,
    "start_time": "2022-10-08T06:27:35.387Z"
   },
   {
    "duration": 31,
    "start_time": "2022-10-08T06:27:35.586Z"
   },
   {
    "duration": 73,
    "start_time": "2022-10-08T06:27:35.618Z"
   },
   {
    "duration": 0,
    "start_time": "2022-10-08T06:27:35.693Z"
   },
   {
    "duration": 0,
    "start_time": "2022-10-08T06:27:35.694Z"
   },
   {
    "duration": 0,
    "start_time": "2022-10-08T06:27:35.696Z"
   },
   {
    "duration": 0,
    "start_time": "2022-10-08T06:27:35.697Z"
   },
   {
    "duration": 0,
    "start_time": "2022-10-08T06:27:35.699Z"
   },
   {
    "duration": 0,
    "start_time": "2022-10-08T06:27:35.699Z"
   },
   {
    "duration": 0,
    "start_time": "2022-10-08T06:27:35.701Z"
   },
   {
    "duration": 0,
    "start_time": "2022-10-08T06:27:35.702Z"
   },
   {
    "duration": 0,
    "start_time": "2022-10-08T06:27:35.702Z"
   },
   {
    "duration": 0,
    "start_time": "2022-10-08T06:27:35.703Z"
   },
   {
    "duration": 0,
    "start_time": "2022-10-08T06:27:35.704Z"
   },
   {
    "duration": 0,
    "start_time": "2022-10-08T06:27:35.706Z"
   },
   {
    "duration": 0,
    "start_time": "2022-10-08T06:27:35.707Z"
   },
   {
    "duration": 0,
    "start_time": "2022-10-08T06:27:35.708Z"
   },
   {
    "duration": 0,
    "start_time": "2022-10-08T06:27:35.709Z"
   },
   {
    "duration": 0,
    "start_time": "2022-10-08T06:27:35.710Z"
   },
   {
    "duration": 0,
    "start_time": "2022-10-08T06:27:35.711Z"
   },
   {
    "duration": 0,
    "start_time": "2022-10-08T06:27:35.712Z"
   },
   {
    "duration": 0,
    "start_time": "2022-10-08T06:27:35.713Z"
   },
   {
    "duration": 1335,
    "start_time": "2022-10-08T06:45:36.042Z"
   },
   {
    "duration": 1581,
    "start_time": "2022-10-08T06:45:37.379Z"
   },
   {
    "duration": 9,
    "start_time": "2022-10-08T06:45:38.961Z"
   },
   {
    "duration": 16,
    "start_time": "2022-10-08T06:45:38.972Z"
   },
   {
    "duration": 14,
    "start_time": "2022-10-08T06:45:38.991Z"
   },
   {
    "duration": 9,
    "start_time": "2022-10-08T06:45:39.006Z"
   },
   {
    "duration": 7,
    "start_time": "2022-10-08T06:45:39.017Z"
   },
   {
    "duration": 12,
    "start_time": "2022-10-08T06:45:39.026Z"
   },
   {
    "duration": 19,
    "start_time": "2022-10-08T06:45:39.039Z"
   },
   {
    "duration": 36,
    "start_time": "2022-10-08T06:45:39.059Z"
   },
   {
    "duration": 3,
    "start_time": "2022-10-08T06:45:39.097Z"
   },
   {
    "duration": 21,
    "start_time": "2022-10-08T06:45:39.101Z"
   },
   {
    "duration": 8,
    "start_time": "2022-10-08T06:45:39.124Z"
   },
   {
    "duration": 7,
    "start_time": "2022-10-08T06:45:39.135Z"
   },
   {
    "duration": 8,
    "start_time": "2022-10-08T06:45:39.144Z"
   },
   {
    "duration": 2460,
    "start_time": "2022-10-08T06:45:39.154Z"
   },
   {
    "duration": 32,
    "start_time": "2022-10-08T06:45:41.616Z"
   },
   {
    "duration": 172,
    "start_time": "2022-10-08T06:45:41.650Z"
   },
   {
    "duration": 28,
    "start_time": "2022-10-08T06:45:41.824Z"
   },
   {
    "duration": 80,
    "start_time": "2022-10-08T06:45:41.853Z"
   },
   {
    "duration": 0,
    "start_time": "2022-10-08T06:45:41.935Z"
   },
   {
    "duration": 0,
    "start_time": "2022-10-08T06:45:41.935Z"
   },
   {
    "duration": 1,
    "start_time": "2022-10-08T06:45:41.936Z"
   },
   {
    "duration": 0,
    "start_time": "2022-10-08T06:45:41.938Z"
   },
   {
    "duration": 0,
    "start_time": "2022-10-08T06:45:41.939Z"
   },
   {
    "duration": 0,
    "start_time": "2022-10-08T06:45:41.940Z"
   },
   {
    "duration": 0,
    "start_time": "2022-10-08T06:45:41.941Z"
   },
   {
    "duration": 0,
    "start_time": "2022-10-08T06:45:41.942Z"
   },
   {
    "duration": 0,
    "start_time": "2022-10-08T06:45:41.943Z"
   },
   {
    "duration": 0,
    "start_time": "2022-10-08T06:45:41.945Z"
   },
   {
    "duration": 0,
    "start_time": "2022-10-08T06:45:41.946Z"
   },
   {
    "duration": 0,
    "start_time": "2022-10-08T06:45:41.948Z"
   },
   {
    "duration": 0,
    "start_time": "2022-10-08T06:45:41.949Z"
   },
   {
    "duration": 0,
    "start_time": "2022-10-08T06:45:41.950Z"
   },
   {
    "duration": 0,
    "start_time": "2022-10-08T06:45:41.952Z"
   },
   {
    "duration": 0,
    "start_time": "2022-10-08T06:45:41.953Z"
   },
   {
    "duration": 0,
    "start_time": "2022-10-08T06:45:41.954Z"
   },
   {
    "duration": 0,
    "start_time": "2022-10-08T06:45:41.956Z"
   },
   {
    "duration": 0,
    "start_time": "2022-10-08T06:45:41.957Z"
   },
   {
    "duration": 10,
    "start_time": "2022-10-08T06:46:25.973Z"
   },
   {
    "duration": 10,
    "start_time": "2022-10-08T06:47:27.798Z"
   },
   {
    "duration": 79,
    "start_time": "2022-10-08T06:47:40.292Z"
   },
   {
    "duration": 15,
    "start_time": "2022-10-08T06:48:19.853Z"
   },
   {
    "duration": 12,
    "start_time": "2022-10-08T06:48:50.087Z"
   },
   {
    "duration": 30,
    "start_time": "2022-10-08T06:49:16.500Z"
   },
   {
    "duration": 26,
    "start_time": "2022-10-08T06:49:34.392Z"
   },
   {
    "duration": 33,
    "start_time": "2022-10-08T06:50:36.512Z"
   },
   {
    "duration": 10,
    "start_time": "2022-10-08T06:58:13.331Z"
   },
   {
    "duration": 13,
    "start_time": "2022-10-08T06:59:00.711Z"
   },
   {
    "duration": 4,
    "start_time": "2022-10-08T06:59:26.733Z"
   },
   {
    "duration": 28,
    "start_time": "2022-10-08T07:02:08.509Z"
   },
   {
    "duration": 21,
    "start_time": "2022-10-08T07:03:15.980Z"
   },
   {
    "duration": 20,
    "start_time": "2022-10-08T07:03:27.044Z"
   },
   {
    "duration": 15,
    "start_time": "2022-10-08T07:03:50.524Z"
   },
   {
    "duration": 272,
    "start_time": "2022-10-08T07:03:57.941Z"
   },
   {
    "duration": 7,
    "start_time": "2022-10-08T07:04:47.267Z"
   },
   {
    "duration": 1426,
    "start_time": "2022-10-08T07:05:39.440Z"
   },
   {
    "duration": 1750,
    "start_time": "2022-10-08T07:05:40.868Z"
   },
   {
    "duration": 9,
    "start_time": "2022-10-08T07:05:42.620Z"
   },
   {
    "duration": 16,
    "start_time": "2022-10-08T07:05:42.632Z"
   },
   {
    "duration": 16,
    "start_time": "2022-10-08T07:05:42.649Z"
   },
   {
    "duration": 34,
    "start_time": "2022-10-08T07:05:42.667Z"
   },
   {
    "duration": 12,
    "start_time": "2022-10-08T07:05:42.703Z"
   },
   {
    "duration": 12,
    "start_time": "2022-10-08T07:05:42.716Z"
   },
   {
    "duration": 18,
    "start_time": "2022-10-08T07:05:42.730Z"
   },
   {
    "duration": 9,
    "start_time": "2022-10-08T07:05:42.751Z"
   },
   {
    "duration": 3,
    "start_time": "2022-10-08T07:05:42.762Z"
   },
   {
    "duration": 47,
    "start_time": "2022-10-08T07:05:42.767Z"
   },
   {
    "duration": 12,
    "start_time": "2022-10-08T07:05:42.817Z"
   },
   {
    "duration": 65,
    "start_time": "2022-10-08T07:05:42.831Z"
   },
   {
    "duration": 9,
    "start_time": "2022-10-08T07:05:42.898Z"
   },
   {
    "duration": 2398,
    "start_time": "2022-10-08T07:05:42.909Z"
   },
   {
    "duration": 44,
    "start_time": "2022-10-08T07:05:45.309Z"
   },
   {
    "duration": 144,
    "start_time": "2022-10-08T07:05:45.354Z"
   },
   {
    "duration": 29,
    "start_time": "2022-10-08T07:05:45.500Z"
   },
   {
    "duration": 4,
    "start_time": "2022-10-08T07:05:45.531Z"
   },
   {
    "duration": 21,
    "start_time": "2022-10-08T07:05:45.537Z"
   },
   {
    "duration": 206,
    "start_time": "2022-10-08T07:05:45.559Z"
   },
   {
    "duration": 5,
    "start_time": "2022-10-08T07:05:45.767Z"
   },
   {
    "duration": 24,
    "start_time": "2022-10-08T07:05:45.774Z"
   },
   {
    "duration": 169,
    "start_time": "2022-10-08T07:05:45.800Z"
   },
   {
    "duration": 11,
    "start_time": "2022-10-08T07:05:45.971Z"
   },
   {
    "duration": 227,
    "start_time": "2022-10-08T07:05:45.994Z"
   },
   {
    "duration": 536,
    "start_time": "2022-10-08T07:05:46.224Z"
   },
   {
    "duration": 751,
    "start_time": "2022-10-08T07:05:46.761Z"
   },
   {
    "duration": 12,
    "start_time": "2022-10-08T07:05:47.514Z"
   },
   {
    "duration": 188,
    "start_time": "2022-10-08T07:05:47.528Z"
   },
   {
    "duration": 15,
    "start_time": "2022-10-08T07:05:47.718Z"
   },
   {
    "duration": 382,
    "start_time": "2022-10-08T07:05:47.734Z"
   },
   {
    "duration": 357,
    "start_time": "2022-10-08T07:05:48.117Z"
   },
   {
    "duration": 8,
    "start_time": "2022-10-08T07:05:48.475Z"
   },
   {
    "duration": 359,
    "start_time": "2022-10-08T07:05:48.495Z"
   },
   {
    "duration": 289,
    "start_time": "2022-10-08T07:05:48.856Z"
   },
   {
    "duration": 6,
    "start_time": "2022-10-08T07:05:49.146Z"
   },
   {
    "duration": 8,
    "start_time": "2022-10-08T07:08:46.224Z"
   },
   {
    "duration": 9,
    "start_time": "2022-10-08T07:09:49.926Z"
   },
   {
    "duration": 6,
    "start_time": "2022-10-08T07:10:30.108Z"
   },
   {
    "duration": 171,
    "start_time": "2022-10-08T07:13:39.386Z"
   },
   {
    "duration": 11,
    "start_time": "2022-10-08T07:13:51.677Z"
   },
   {
    "duration": 411,
    "start_time": "2022-10-08T07:15:50.491Z"
   },
   {
    "duration": 326,
    "start_time": "2022-10-08T07:16:08.969Z"
   },
   {
    "duration": 1397,
    "start_time": "2022-10-08T07:16:21.526Z"
   },
   {
    "duration": 1729,
    "start_time": "2022-10-08T07:16:22.924Z"
   },
   {
    "duration": 9,
    "start_time": "2022-10-08T07:16:24.654Z"
   },
   {
    "duration": 14,
    "start_time": "2022-10-08T07:16:24.664Z"
   },
   {
    "duration": 15,
    "start_time": "2022-10-08T07:16:24.679Z"
   },
   {
    "duration": 8,
    "start_time": "2022-10-08T07:16:24.696Z"
   },
   {
    "duration": 7,
    "start_time": "2022-10-08T07:16:24.706Z"
   },
   {
    "duration": 14,
    "start_time": "2022-10-08T07:16:24.715Z"
   },
   {
    "duration": 19,
    "start_time": "2022-10-08T07:16:24.731Z"
   },
   {
    "duration": 10,
    "start_time": "2022-10-08T07:16:24.751Z"
   },
   {
    "duration": 4,
    "start_time": "2022-10-08T07:16:24.762Z"
   },
   {
    "duration": 20,
    "start_time": "2022-10-08T07:16:24.795Z"
   },
   {
    "duration": 8,
    "start_time": "2022-10-08T07:16:24.817Z"
   },
   {
    "duration": 500,
    "start_time": "2022-10-08T07:16:24.828Z"
   },
   {
    "duration": 0,
    "start_time": "2022-10-08T07:16:25.330Z"
   },
   {
    "duration": 0,
    "start_time": "2022-10-08T07:16:25.331Z"
   },
   {
    "duration": 0,
    "start_time": "2022-10-08T07:16:25.332Z"
   },
   {
    "duration": 0,
    "start_time": "2022-10-08T07:16:25.333Z"
   },
   {
    "duration": 0,
    "start_time": "2022-10-08T07:16:25.335Z"
   },
   {
    "duration": 0,
    "start_time": "2022-10-08T07:16:25.336Z"
   },
   {
    "duration": 0,
    "start_time": "2022-10-08T07:16:25.337Z"
   },
   {
    "duration": 0,
    "start_time": "2022-10-08T07:16:25.337Z"
   },
   {
    "duration": 0,
    "start_time": "2022-10-08T07:16:25.338Z"
   },
   {
    "duration": 0,
    "start_time": "2022-10-08T07:16:25.339Z"
   },
   {
    "duration": 0,
    "start_time": "2022-10-08T07:16:25.340Z"
   },
   {
    "duration": 0,
    "start_time": "2022-10-08T07:16:25.341Z"
   },
   {
    "duration": 0,
    "start_time": "2022-10-08T07:16:25.342Z"
   },
   {
    "duration": 0,
    "start_time": "2022-10-08T07:16:25.343Z"
   },
   {
    "duration": 0,
    "start_time": "2022-10-08T07:16:25.344Z"
   },
   {
    "duration": 0,
    "start_time": "2022-10-08T07:16:25.345Z"
   },
   {
    "duration": 0,
    "start_time": "2022-10-08T07:16:25.346Z"
   },
   {
    "duration": 0,
    "start_time": "2022-10-08T07:16:25.347Z"
   },
   {
    "duration": 0,
    "start_time": "2022-10-08T07:16:25.348Z"
   },
   {
    "duration": 0,
    "start_time": "2022-10-08T07:16:25.349Z"
   },
   {
    "duration": 0,
    "start_time": "2022-10-08T07:16:25.350Z"
   },
   {
    "duration": 0,
    "start_time": "2022-10-08T07:16:25.350Z"
   },
   {
    "duration": 0,
    "start_time": "2022-10-08T07:16:25.352Z"
   },
   {
    "duration": 0,
    "start_time": "2022-10-08T07:16:25.353Z"
   },
   {
    "duration": 0,
    "start_time": "2022-10-08T07:16:25.354Z"
   },
   {
    "duration": 26,
    "start_time": "2022-10-08T07:16:39.359Z"
   },
   {
    "duration": 7,
    "start_time": "2022-10-08T07:16:53.278Z"
   },
   {
    "duration": 2176,
    "start_time": "2022-10-08T07:16:57.035Z"
   },
   {
    "duration": 39,
    "start_time": "2022-10-08T07:17:04.029Z"
   },
   {
    "duration": 153,
    "start_time": "2022-10-08T07:17:32.067Z"
   },
   {
    "duration": 74,
    "start_time": "2022-10-08T07:19:05.907Z"
   },
   {
    "duration": 3,
    "start_time": "2022-10-08T07:20:36.438Z"
   },
   {
    "duration": 1373,
    "start_time": "2022-10-08T07:21:34.489Z"
   },
   {
    "duration": 1556,
    "start_time": "2022-10-08T07:21:35.865Z"
   },
   {
    "duration": 8,
    "start_time": "2022-10-08T07:21:37.423Z"
   },
   {
    "duration": 13,
    "start_time": "2022-10-08T07:21:37.433Z"
   },
   {
    "duration": 13,
    "start_time": "2022-10-08T07:21:37.448Z"
   },
   {
    "duration": 9,
    "start_time": "2022-10-08T07:21:37.463Z"
   },
   {
    "duration": 6,
    "start_time": "2022-10-08T07:21:37.495Z"
   },
   {
    "duration": 13,
    "start_time": "2022-10-08T07:21:37.503Z"
   },
   {
    "duration": 18,
    "start_time": "2022-10-08T07:21:37.517Z"
   },
   {
    "duration": 10,
    "start_time": "2022-10-08T07:21:37.537Z"
   },
   {
    "duration": 4,
    "start_time": "2022-10-08T07:21:37.548Z"
   },
   {
    "duration": 50,
    "start_time": "2022-10-08T07:21:37.554Z"
   },
   {
    "duration": 8,
    "start_time": "2022-10-08T07:21:37.606Z"
   },
   {
    "duration": 22,
    "start_time": "2022-10-08T07:21:37.616Z"
   },
   {
    "duration": 7,
    "start_time": "2022-10-08T07:21:37.640Z"
   },
   {
    "duration": 2183,
    "start_time": "2022-10-08T07:21:37.648Z"
   },
   {
    "duration": 36,
    "start_time": "2022-10-08T07:21:39.832Z"
   },
   {
    "duration": 156,
    "start_time": "2022-10-08T07:21:39.870Z"
   },
   {
    "duration": 28,
    "start_time": "2022-10-08T07:21:40.028Z"
   },
   {
    "duration": 4,
    "start_time": "2022-10-08T07:21:40.058Z"
   },
   {
    "duration": 21,
    "start_time": "2022-10-08T07:21:40.064Z"
   },
   {
    "duration": 175,
    "start_time": "2022-10-08T07:21:40.086Z"
   },
   {
    "duration": 10,
    "start_time": "2022-10-08T07:21:40.262Z"
   },
   {
    "duration": 7,
    "start_time": "2022-10-08T07:21:40.273Z"
   },
   {
    "duration": 11,
    "start_time": "2022-10-08T07:21:40.295Z"
   },
   {
    "duration": 173,
    "start_time": "2022-10-08T07:21:40.308Z"
   },
   {
    "duration": 17,
    "start_time": "2022-10-08T07:21:40.483Z"
   },
   {
    "duration": 222,
    "start_time": "2022-10-08T07:21:40.503Z"
   },
   {
    "duration": 452,
    "start_time": "2022-10-08T07:21:40.726Z"
   },
   {
    "duration": 723,
    "start_time": "2022-10-08T07:21:41.180Z"
   },
   {
    "duration": 13,
    "start_time": "2022-10-08T07:21:41.905Z"
   },
   {
    "duration": 191,
    "start_time": "2022-10-08T07:21:41.920Z"
   },
   {
    "duration": 12,
    "start_time": "2022-10-08T07:21:42.113Z"
   },
   {
    "duration": 393,
    "start_time": "2022-10-08T07:21:42.127Z"
   },
   {
    "duration": 398,
    "start_time": "2022-10-08T07:21:42.522Z"
   },
   {
    "duration": 9,
    "start_time": "2022-10-08T07:21:42.922Z"
   },
   {
    "duration": 396,
    "start_time": "2022-10-08T07:21:42.933Z"
   },
   {
    "duration": 300,
    "start_time": "2022-10-08T07:21:43.330Z"
   },
   {
    "duration": 6,
    "start_time": "2022-10-08T07:21:43.632Z"
   },
   {
    "duration": 15,
    "start_time": "2022-10-08T07:22:49.901Z"
   },
   {
    "duration": 10,
    "start_time": "2022-10-08T07:23:12.785Z"
   },
   {
    "duration": 230,
    "start_time": "2022-10-08T07:23:17.577Z"
   },
   {
    "duration": 6,
    "start_time": "2022-10-08T07:23:34.251Z"
   },
   {
    "duration": 10,
    "start_time": "2022-10-08T07:23:52.606Z"
   },
   {
    "duration": 166,
    "start_time": "2022-10-08T07:23:58.678Z"
   },
   {
    "duration": 10,
    "start_time": "2022-10-08T07:24:08.050Z"
   },
   {
    "duration": 176,
    "start_time": "2022-10-08T07:24:14.211Z"
   },
   {
    "duration": 484,
    "start_time": "2022-10-08T07:24:21.670Z"
   },
   {
    "duration": 730,
    "start_time": "2022-10-08T07:34:53.391Z"
   },
   {
    "duration": 12,
    "start_time": "2022-10-08T07:34:56.982Z"
   },
   {
    "duration": 171,
    "start_time": "2022-10-08T07:35:10.125Z"
   },
   {
    "duration": 11,
    "start_time": "2022-10-08T07:37:48.875Z"
   },
   {
    "duration": 374,
    "start_time": "2022-10-08T07:37:59.915Z"
   },
   {
    "duration": 258,
    "start_time": "2022-10-08T07:38:31.276Z"
   },
   {
    "duration": 335,
    "start_time": "2022-10-08T07:38:56.886Z"
   },
   {
    "duration": 276,
    "start_time": "2022-10-08T07:39:03.042Z"
   },
   {
    "duration": 7,
    "start_time": "2022-10-08T07:43:18.706Z"
   },
   {
    "duration": 7,
    "start_time": "2022-10-08T07:43:26.337Z"
   },
   {
    "duration": 6,
    "start_time": "2022-10-08T07:46:19.512Z"
   },
   {
    "duration": 7,
    "start_time": "2022-10-08T07:53:07.112Z"
   },
   {
    "duration": 773,
    "start_time": "2022-10-08T08:00:01.486Z"
   },
   {
    "duration": 603,
    "start_time": "2022-10-08T08:00:59.988Z"
   },
   {
    "duration": 131,
    "start_time": "2022-10-08T08:01:37.948Z"
   },
   {
    "duration": 766,
    "start_time": "2022-10-08T08:02:11.030Z"
   },
   {
    "duration": 127,
    "start_time": "2022-10-08T08:03:44.329Z"
   },
   {
    "duration": 46,
    "start_time": "2022-10-08T08:04:21.002Z"
   }
  ],
  "kernelspec": {
   "display_name": "Python 3 (ipykernel)",
   "language": "python",
   "name": "python3"
  },
  "language_info": {
   "codemirror_mode": {
    "name": "ipython",
    "version": 3
   },
   "file_extension": ".py",
   "mimetype": "text/x-python",
   "name": "python",
   "nbconvert_exporter": "python",
   "pygments_lexer": "ipython3",
   "version": "3.9.5"
  },
  "toc": {
   "base_numbering": 1,
   "nav_menu": {},
   "number_sections": true,
   "sideBar": true,
   "skip_h1_title": true,
   "title_cell": "Table of Contents",
   "title_sidebar": "Contents",
   "toc_cell": false,
   "toc_position": {},
   "toc_section_display": true,
   "toc_window_display": false
  }
 },
 "nbformat": 4,
 "nbformat_minor": 5
}
