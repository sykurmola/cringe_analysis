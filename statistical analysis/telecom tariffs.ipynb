{
 "cells": [
  {
   "cell_type": "markdown",
   "metadata": {},
   "source": [
    "Цель исследования - понять, какой тариф приносит больше денег. Нужно проверить две гипотезы: что средняя выручка пользователей тарифов «Ультра» и «Смарт» различаются; средняя выручка пользователей из Москвы отличается от выручки пользователей из других регионов. "
   ]
  },
  {
   "cell_type": "markdown",
   "metadata": {},
   "source": [
    "Ход исследования:\n",
    "    перед проверкой гипотез нужно провести обзор данных, предобработка и исправление критичных ошибок, если такие будут обнаружены. Понадобится также провести некоторые расчёты, например, расчёт выручки, и проанализировать поведение клиентов на основе выборки. Затем нужно будет описать распределение, и после этого проверить гипотезы. "
   ]
  },
  {
   "cell_type": "code",
   "execution_count": 1,
   "metadata": {},
   "outputs": [],
   "source": [
    "import pandas as pd\n",
    "import numpy as np\n",
    "from scipy import stats as st\n",
    "import seaborn as sns\n",
    "from matplotlib import pyplot as plt\n",
    "import math\n",
    "import warnings\n",
    "warnings.filterwarnings('ignore')"
   ]
  },
  {
   "cell_type": "markdown",
   "metadata": {},
   "source": [
    "## Загрузка данных"
   ]
  },
  {
   "cell_type": "code",
   "execution_count": 2,
   "metadata": {},
   "outputs": [],
   "source": [
    "calls = pd.read_csv('/datasets/calls.csv')\n",
    "internet = pd.read_csv('/datasets/internet.csv', index_col=0)\n",
    "messages = pd.read_csv('/datasets/messages.csv')\n",
    "tariffs = pd.read_csv('/datasets/tariffs.csv')\n",
    "users = pd.read_csv('/datasets/users.csv')"
   ]
  },
  {
   "cell_type": "markdown",
   "metadata": {},
   "source": [
    "## Предобработка данных"
   ]
  },
  {
   "cell_type": "markdown",
   "metadata": {},
   "source": [
    "### Датафрейм internet"
   ]
  },
  {
   "cell_type": "code",
   "execution_count": 3,
   "metadata": {},
   "outputs": [
    {
     "data": {
      "text/html": [
       "<div>\n",
       "<style scoped>\n",
       "    .dataframe tbody tr th:only-of-type {\n",
       "        vertical-align: middle;\n",
       "    }\n",
       "\n",
       "    .dataframe tbody tr th {\n",
       "        vertical-align: top;\n",
       "    }\n",
       "\n",
       "    .dataframe thead th {\n",
       "        text-align: right;\n",
       "    }\n",
       "</style>\n",
       "<table border=\"1\" class=\"dataframe\">\n",
       "  <thead>\n",
       "    <tr style=\"text-align: right;\">\n",
       "      <th></th>\n",
       "      <th>id</th>\n",
       "      <th>mb_used</th>\n",
       "      <th>session_date</th>\n",
       "      <th>user_id</th>\n",
       "    </tr>\n",
       "  </thead>\n",
       "  <tbody>\n",
       "    <tr>\n",
       "      <th>0</th>\n",
       "      <td>1000_0</td>\n",
       "      <td>112.95</td>\n",
       "      <td>2018-11-25</td>\n",
       "      <td>1000</td>\n",
       "    </tr>\n",
       "    <tr>\n",
       "      <th>1</th>\n",
       "      <td>1000_1</td>\n",
       "      <td>1052.81</td>\n",
       "      <td>2018-09-07</td>\n",
       "      <td>1000</td>\n",
       "    </tr>\n",
       "    <tr>\n",
       "      <th>2</th>\n",
       "      <td>1000_2</td>\n",
       "      <td>1197.26</td>\n",
       "      <td>2018-06-25</td>\n",
       "      <td>1000</td>\n",
       "    </tr>\n",
       "    <tr>\n",
       "      <th>3</th>\n",
       "      <td>1000_3</td>\n",
       "      <td>550.27</td>\n",
       "      <td>2018-08-22</td>\n",
       "      <td>1000</td>\n",
       "    </tr>\n",
       "    <tr>\n",
       "      <th>4</th>\n",
       "      <td>1000_4</td>\n",
       "      <td>302.56</td>\n",
       "      <td>2018-09-24</td>\n",
       "      <td>1000</td>\n",
       "    </tr>\n",
       "  </tbody>\n",
       "</table>\n",
       "</div>"
      ],
      "text/plain": [
       "       id  mb_used session_date  user_id\n",
       "0  1000_0   112.95   2018-11-25     1000\n",
       "1  1000_1  1052.81   2018-09-07     1000\n",
       "2  1000_2  1197.26   2018-06-25     1000\n",
       "3  1000_3   550.27   2018-08-22     1000\n",
       "4  1000_4   302.56   2018-09-24     1000"
      ]
     },
     "execution_count": 3,
     "metadata": {},
     "output_type": "execute_result"
    }
   ],
   "source": [
    "internet.head()"
   ]
  },
  {
   "cell_type": "code",
   "execution_count": 4,
   "metadata": {},
   "outputs": [
    {
     "name": "stdout",
     "output_type": "stream",
     "text": [
      "<class 'pandas.core.frame.DataFrame'>\n",
      "Int64Index: 149396 entries, 0 to 149395\n",
      "Data columns (total 4 columns):\n",
      " #   Column        Non-Null Count   Dtype  \n",
      "---  ------        --------------   -----  \n",
      " 0   id            149396 non-null  object \n",
      " 1   mb_used       149396 non-null  float64\n",
      " 2   session_date  149396 non-null  object \n",
      " 3   user_id       149396 non-null  int64  \n",
      "dtypes: float64(1), int64(1), object(2)\n",
      "memory usage: 5.7+ MB\n"
     ]
    }
   ],
   "source": [
    "internet.info()"
   ]
  },
  {
   "cell_type": "code",
   "execution_count": 5,
   "metadata": {},
   "outputs": [
    {
     "data": {
      "text/plain": [
       "0"
      ]
     },
     "execution_count": 5,
     "metadata": {},
     "output_type": "execute_result"
    }
   ],
   "source": [
    "internet.duplicated(subset=None, keep='first').sum()"
   ]
  },
  {
   "cell_type": "code",
   "execution_count": 6,
   "metadata": {},
   "outputs": [
    {
     "data": {
      "text/plain": [
       "id               object\n",
       "mb_used         float64\n",
       "session_date     object\n",
       "user_id           int64\n",
       "dtype: object"
      ]
     },
     "execution_count": 6,
     "metadata": {},
     "output_type": "execute_result"
    }
   ],
   "source": [
    "internet.dtypes"
   ]
  },
  {
   "cell_type": "code",
   "execution_count": 7,
   "metadata": {},
   "outputs": [],
   "source": [
    "internet['month'] = internet['session_date'].astype('datetime64[M]')"
   ]
  },
  {
   "cell_type": "code",
   "execution_count": 8,
   "metadata": {},
   "outputs": [
    {
     "data": {
      "text/html": [
       "<div>\n",
       "<style scoped>\n",
       "    .dataframe tbody tr th:only-of-type {\n",
       "        vertical-align: middle;\n",
       "    }\n",
       "\n",
       "    .dataframe tbody tr th {\n",
       "        vertical-align: top;\n",
       "    }\n",
       "\n",
       "    .dataframe thead th {\n",
       "        text-align: right;\n",
       "    }\n",
       "</style>\n",
       "<table border=\"1\" class=\"dataframe\">\n",
       "  <thead>\n",
       "    <tr style=\"text-align: right;\">\n",
       "      <th></th>\n",
       "      <th>user_id</th>\n",
       "      <th>month</th>\n",
       "      <th>mb_used</th>\n",
       "    </tr>\n",
       "  </thead>\n",
       "  <tbody>\n",
       "    <tr>\n",
       "      <th>0</th>\n",
       "      <td>1000</td>\n",
       "      <td>2018-05-01</td>\n",
       "      <td>2253.49</td>\n",
       "    </tr>\n",
       "    <tr>\n",
       "      <th>1</th>\n",
       "      <td>1000</td>\n",
       "      <td>2018-06-01</td>\n",
       "      <td>23233.77</td>\n",
       "    </tr>\n",
       "    <tr>\n",
       "      <th>2</th>\n",
       "      <td>1000</td>\n",
       "      <td>2018-07-01</td>\n",
       "      <td>14003.64</td>\n",
       "    </tr>\n",
       "    <tr>\n",
       "      <th>3</th>\n",
       "      <td>1000</td>\n",
       "      <td>2018-08-01</td>\n",
       "      <td>14055.93</td>\n",
       "    </tr>\n",
       "    <tr>\n",
       "      <th>4</th>\n",
       "      <td>1000</td>\n",
       "      <td>2018-09-01</td>\n",
       "      <td>14568.91</td>\n",
       "    </tr>\n",
       "  </tbody>\n",
       "</table>\n",
       "</div>"
      ],
      "text/plain": [
       "   user_id      month   mb_used\n",
       "0     1000 2018-05-01   2253.49\n",
       "1     1000 2018-06-01  23233.77\n",
       "2     1000 2018-07-01  14003.64\n",
       "3     1000 2018-08-01  14055.93\n",
       "4     1000 2018-09-01  14568.91"
      ]
     },
     "execution_count": 8,
     "metadata": {},
     "output_type": "execute_result"
    }
   ],
   "source": [
    "internet = internet.pivot_table(index=['user_id', 'month'], values='mb_used', aggfunc='sum').reset_index()\n",
    "\n",
    "    \n",
    "internet.head()    "
   ]
  },
  {
   "cell_type": "code",
   "execution_count": 9,
   "metadata": {},
   "outputs": [
    {
     "data": {
      "text/html": [
       "<div>\n",
       "<style scoped>\n",
       "    .dataframe tbody tr th:only-of-type {\n",
       "        vertical-align: middle;\n",
       "    }\n",
       "\n",
       "    .dataframe tbody tr th {\n",
       "        vertical-align: top;\n",
       "    }\n",
       "\n",
       "    .dataframe thead th {\n",
       "        text-align: right;\n",
       "    }\n",
       "</style>\n",
       "<table border=\"1\" class=\"dataframe\">\n",
       "  <thead>\n",
       "    <tr style=\"text-align: right;\">\n",
       "      <th></th>\n",
       "      <th>user_id</th>\n",
       "      <th>month</th>\n",
       "      <th>gb_used</th>\n",
       "    </tr>\n",
       "  </thead>\n",
       "  <tbody>\n",
       "    <tr>\n",
       "      <th>0</th>\n",
       "      <td>1000</td>\n",
       "      <td>2018-05-01</td>\n",
       "      <td>3.0</td>\n",
       "    </tr>\n",
       "    <tr>\n",
       "      <th>1</th>\n",
       "      <td>1000</td>\n",
       "      <td>2018-06-01</td>\n",
       "      <td>23.0</td>\n",
       "    </tr>\n",
       "    <tr>\n",
       "      <th>2</th>\n",
       "      <td>1000</td>\n",
       "      <td>2018-07-01</td>\n",
       "      <td>14.0</td>\n",
       "    </tr>\n",
       "    <tr>\n",
       "      <th>3</th>\n",
       "      <td>1000</td>\n",
       "      <td>2018-08-01</td>\n",
       "      <td>14.0</td>\n",
       "    </tr>\n",
       "    <tr>\n",
       "      <th>4</th>\n",
       "      <td>1000</td>\n",
       "      <td>2018-09-01</td>\n",
       "      <td>15.0</td>\n",
       "    </tr>\n",
       "  </tbody>\n",
       "</table>\n",
       "</div>"
      ],
      "text/plain": [
       "   user_id      month  gb_used\n",
       "0     1000 2018-05-01      3.0\n",
       "1     1000 2018-06-01     23.0\n",
       "2     1000 2018-07-01     14.0\n",
       "3     1000 2018-08-01     14.0\n",
       "4     1000 2018-09-01     15.0"
      ]
     },
     "execution_count": 9,
     "metadata": {},
     "output_type": "execute_result"
    }
   ],
   "source": [
    "#округление мб до гб\n",
    "internet['gb_used'] = internet['mb_used']/1024\n",
    "\n",
    "internet['gb_used'] = np.ceil(internet['gb_used'])\n",
    "\n",
    "internet.drop(columns=['mb_used'], axis=1, inplace = True) \n",
    "internet.head()"
   ]
  },
  {
   "cell_type": "markdown",
   "metadata": {},
   "source": [
    "### Датафрейм calls"
   ]
  },
  {
   "cell_type": "code",
   "execution_count": 10,
   "metadata": {},
   "outputs": [
    {
     "name": "stdout",
     "output_type": "stream",
     "text": [
      "<class 'pandas.core.frame.DataFrame'>\n",
      "RangeIndex: 202607 entries, 0 to 202606\n",
      "Data columns (total 4 columns):\n",
      " #   Column     Non-Null Count   Dtype  \n",
      "---  ------     --------------   -----  \n",
      " 0   id         202607 non-null  object \n",
      " 1   call_date  202607 non-null  object \n",
      " 2   duration   202607 non-null  float64\n",
      " 3   user_id    202607 non-null  int64  \n",
      "dtypes: float64(1), int64(1), object(2)\n",
      "memory usage: 6.2+ MB\n"
     ]
    }
   ],
   "source": [
    "calls.info()"
   ]
  },
  {
   "cell_type": "code",
   "execution_count": 11,
   "metadata": {},
   "outputs": [
    {
     "data": {
      "text/plain": [
       "0"
      ]
     },
     "execution_count": 11,
     "metadata": {},
     "output_type": "execute_result"
    }
   ],
   "source": [
    "calls.duplicated(subset=None, keep='first').sum()"
   ]
  },
  {
   "cell_type": "code",
   "execution_count": 12,
   "metadata": {},
   "outputs": [
    {
     "data": {
      "text/html": [
       "<div>\n",
       "<style scoped>\n",
       "    .dataframe tbody tr th:only-of-type {\n",
       "        vertical-align: middle;\n",
       "    }\n",
       "\n",
       "    .dataframe tbody tr th {\n",
       "        vertical-align: top;\n",
       "    }\n",
       "\n",
       "    .dataframe thead th {\n",
       "        text-align: right;\n",
       "    }\n",
       "</style>\n",
       "<table border=\"1\" class=\"dataframe\">\n",
       "  <thead>\n",
       "    <tr style=\"text-align: right;\">\n",
       "      <th></th>\n",
       "      <th>id</th>\n",
       "      <th>call_date</th>\n",
       "      <th>duration</th>\n",
       "      <th>user_id</th>\n",
       "      <th>month</th>\n",
       "    </tr>\n",
       "  </thead>\n",
       "  <tbody>\n",
       "    <tr>\n",
       "      <th>0</th>\n",
       "      <td>1000_0</td>\n",
       "      <td>2018-07-25</td>\n",
       "      <td>0.0</td>\n",
       "      <td>1000</td>\n",
       "      <td>2018-07-01</td>\n",
       "    </tr>\n",
       "    <tr>\n",
       "      <th>1</th>\n",
       "      <td>1000_1</td>\n",
       "      <td>2018-08-17</td>\n",
       "      <td>0.0</td>\n",
       "      <td>1000</td>\n",
       "      <td>2018-08-01</td>\n",
       "    </tr>\n",
       "    <tr>\n",
       "      <th>2</th>\n",
       "      <td>1000_2</td>\n",
       "      <td>2018-06-11</td>\n",
       "      <td>3.0</td>\n",
       "      <td>1000</td>\n",
       "      <td>2018-06-01</td>\n",
       "    </tr>\n",
       "    <tr>\n",
       "      <th>3</th>\n",
       "      <td>1000_3</td>\n",
       "      <td>2018-09-21</td>\n",
       "      <td>14.0</td>\n",
       "      <td>1000</td>\n",
       "      <td>2018-09-01</td>\n",
       "    </tr>\n",
       "    <tr>\n",
       "      <th>4</th>\n",
       "      <td>1000_4</td>\n",
       "      <td>2018-12-15</td>\n",
       "      <td>6.0</td>\n",
       "      <td>1000</td>\n",
       "      <td>2018-12-01</td>\n",
       "    </tr>\n",
       "  </tbody>\n",
       "</table>\n",
       "</div>"
      ],
      "text/plain": [
       "       id   call_date  duration  user_id      month\n",
       "0  1000_0  2018-07-25       0.0     1000 2018-07-01\n",
       "1  1000_1  2018-08-17       0.0     1000 2018-08-01\n",
       "2  1000_2  2018-06-11       3.0     1000 2018-06-01\n",
       "3  1000_3  2018-09-21      14.0     1000 2018-09-01\n",
       "4  1000_4  2018-12-15       6.0     1000 2018-12-01"
      ]
     },
     "execution_count": 12,
     "metadata": {},
     "output_type": "execute_result"
    }
   ],
   "source": [
    "calls['month'] = calls['call_date'].astype('datetime64[M]')\n",
    "\n",
    "#округление продолжительности разговора\n",
    "calls['duration'] = np.ceil(calls['duration'])\n",
    "\n",
    "calls.head()    "
   ]
  },
  {
   "cell_type": "code",
   "execution_count": 13,
   "metadata": {
    "scrolled": true
   },
   "outputs": [
    {
     "data": {
      "text/html": [
       "<div>\n",
       "<style scoped>\n",
       "    .dataframe tbody tr th:only-of-type {\n",
       "        vertical-align: middle;\n",
       "    }\n",
       "\n",
       "    .dataframe tbody tr th {\n",
       "        vertical-align: top;\n",
       "    }\n",
       "\n",
       "    .dataframe thead th {\n",
       "        text-align: right;\n",
       "    }\n",
       "</style>\n",
       "<table border=\"1\" class=\"dataframe\">\n",
       "  <thead>\n",
       "    <tr style=\"text-align: right;\">\n",
       "      <th></th>\n",
       "      <th>user_id</th>\n",
       "      <th>month</th>\n",
       "      <th>duration</th>\n",
       "    </tr>\n",
       "  </thead>\n",
       "  <tbody>\n",
       "    <tr>\n",
       "      <th>0</th>\n",
       "      <td>1000</td>\n",
       "      <td>2018-05-01</td>\n",
       "      <td>159.0</td>\n",
       "    </tr>\n",
       "    <tr>\n",
       "      <th>1</th>\n",
       "      <td>1000</td>\n",
       "      <td>2018-06-01</td>\n",
       "      <td>172.0</td>\n",
       "    </tr>\n",
       "    <tr>\n",
       "      <th>2</th>\n",
       "      <td>1000</td>\n",
       "      <td>2018-07-01</td>\n",
       "      <td>340.0</td>\n",
       "    </tr>\n",
       "    <tr>\n",
       "      <th>3</th>\n",
       "      <td>1000</td>\n",
       "      <td>2018-08-01</td>\n",
       "      <td>408.0</td>\n",
       "    </tr>\n",
       "    <tr>\n",
       "      <th>4</th>\n",
       "      <td>1000</td>\n",
       "      <td>2018-09-01</td>\n",
       "      <td>466.0</td>\n",
       "    </tr>\n",
       "  </tbody>\n",
       "</table>\n",
       "</div>"
      ],
      "text/plain": [
       "   user_id      month  duration\n",
       "0     1000 2018-05-01     159.0\n",
       "1     1000 2018-06-01     172.0\n",
       "2     1000 2018-07-01     340.0\n",
       "3     1000 2018-08-01     408.0\n",
       "4     1000 2018-09-01     466.0"
      ]
     },
     "execution_count": 13,
     "metadata": {},
     "output_type": "execute_result"
    }
   ],
   "source": [
    "calls = calls.pivot_table(index=['user_id', 'month'], values='duration', aggfunc='sum').reset_index()\n",
    "calls.head()"
   ]
  },
  {
   "cell_type": "markdown",
   "metadata": {},
   "source": [
    "### Датафрейм messages"
   ]
  },
  {
   "cell_type": "code",
   "execution_count": 14,
   "metadata": {},
   "outputs": [
    {
     "name": "stdout",
     "output_type": "stream",
     "text": [
      "<class 'pandas.core.frame.DataFrame'>\n",
      "RangeIndex: 123036 entries, 0 to 123035\n",
      "Data columns (total 3 columns):\n",
      " #   Column        Non-Null Count   Dtype \n",
      "---  ------        --------------   ----- \n",
      " 0   id            123036 non-null  object\n",
      " 1   message_date  123036 non-null  object\n",
      " 2   user_id       123036 non-null  int64 \n",
      "dtypes: int64(1), object(2)\n",
      "memory usage: 2.8+ MB\n"
     ]
    }
   ],
   "source": [
    "messages.info()"
   ]
  },
  {
   "cell_type": "code",
   "execution_count": 15,
   "metadata": {},
   "outputs": [
    {
     "data": {
      "text/plain": [
       "0"
      ]
     },
     "execution_count": 15,
     "metadata": {},
     "output_type": "execute_result"
    }
   ],
   "source": [
    "messages.duplicated(subset=None, keep='first').sum()"
   ]
  },
  {
   "cell_type": "code",
   "execution_count": 16,
   "metadata": {},
   "outputs": [
    {
     "data": {
      "text/html": [
       "<div>\n",
       "<style scoped>\n",
       "    .dataframe tbody tr th:only-of-type {\n",
       "        vertical-align: middle;\n",
       "    }\n",
       "\n",
       "    .dataframe tbody tr th {\n",
       "        vertical-align: top;\n",
       "    }\n",
       "\n",
       "    .dataframe thead th {\n",
       "        text-align: right;\n",
       "    }\n",
       "</style>\n",
       "<table border=\"1\" class=\"dataframe\">\n",
       "  <thead>\n",
       "    <tr style=\"text-align: right;\">\n",
       "      <th></th>\n",
       "      <th>user_id</th>\n",
       "      <th>month</th>\n",
       "      <th>id</th>\n",
       "    </tr>\n",
       "  </thead>\n",
       "  <tbody>\n",
       "    <tr>\n",
       "      <th>0</th>\n",
       "      <td>1000</td>\n",
       "      <td>2018-05-01</td>\n",
       "      <td>22</td>\n",
       "    </tr>\n",
       "    <tr>\n",
       "      <th>1</th>\n",
       "      <td>1000</td>\n",
       "      <td>2018-06-01</td>\n",
       "      <td>60</td>\n",
       "    </tr>\n",
       "    <tr>\n",
       "      <th>2</th>\n",
       "      <td>1000</td>\n",
       "      <td>2018-07-01</td>\n",
       "      <td>75</td>\n",
       "    </tr>\n",
       "    <tr>\n",
       "      <th>3</th>\n",
       "      <td>1000</td>\n",
       "      <td>2018-08-01</td>\n",
       "      <td>81</td>\n",
       "    </tr>\n",
       "    <tr>\n",
       "      <th>4</th>\n",
       "      <td>1000</td>\n",
       "      <td>2018-09-01</td>\n",
       "      <td>57</td>\n",
       "    </tr>\n",
       "  </tbody>\n",
       "</table>\n",
       "</div>"
      ],
      "text/plain": [
       "   user_id      month  id\n",
       "0     1000 2018-05-01  22\n",
       "1     1000 2018-06-01  60\n",
       "2     1000 2018-07-01  75\n",
       "3     1000 2018-08-01  81\n",
       "4     1000 2018-09-01  57"
      ]
     },
     "execution_count": 16,
     "metadata": {},
     "output_type": "execute_result"
    }
   ],
   "source": [
    "messages['month'] = messages['message_date'].astype('datetime64[M]')\n",
    "messages = messages.pivot_table(index=['user_id', 'month'], values='id', aggfunc='count').reset_index()\n",
    "messages.head()"
   ]
  },
  {
   "cell_type": "markdown",
   "metadata": {},
   "source": [
    "### Датафрейм users"
   ]
  },
  {
   "cell_type": "code",
   "execution_count": 17,
   "metadata": {},
   "outputs": [
    {
     "name": "stdout",
     "output_type": "stream",
     "text": [
      "<class 'pandas.core.frame.DataFrame'>\n",
      "RangeIndex: 500 entries, 0 to 499\n",
      "Data columns (total 8 columns):\n",
      " #   Column      Non-Null Count  Dtype \n",
      "---  ------      --------------  ----- \n",
      " 0   user_id     500 non-null    int64 \n",
      " 1   age         500 non-null    int64 \n",
      " 2   churn_date  38 non-null     object\n",
      " 3   city        500 non-null    object\n",
      " 4   first_name  500 non-null    object\n",
      " 5   last_name   500 non-null    object\n",
      " 6   reg_date    500 non-null    object\n",
      " 7   tariff      500 non-null    object\n",
      "dtypes: int64(2), object(6)\n",
      "memory usage: 31.4+ KB\n"
     ]
    },
    {
     "data": {
      "text/plain": [
       "array(['ultra', 'smart'], dtype=object)"
      ]
     },
     "execution_count": 17,
     "metadata": {},
     "output_type": "execute_result"
    }
   ],
   "source": [
    "users.info()\n",
    "users.duplicated(subset=None, keep='first').sum()\n",
    "users['tariff'].unique()"
   ]
  },
  {
   "cell_type": "code",
   "execution_count": 18,
   "metadata": {},
   "outputs": [
    {
     "data": {
      "text/html": [
       "<div>\n",
       "<style scoped>\n",
       "    .dataframe tbody tr th:only-of-type {\n",
       "        vertical-align: middle;\n",
       "    }\n",
       "\n",
       "    .dataframe tbody tr th {\n",
       "        vertical-align: top;\n",
       "    }\n",
       "\n",
       "    .dataframe thead th {\n",
       "        text-align: right;\n",
       "    }\n",
       "</style>\n",
       "<table border=\"1\" class=\"dataframe\">\n",
       "  <thead>\n",
       "    <tr style=\"text-align: right;\">\n",
       "      <th></th>\n",
       "      <th>user_id</th>\n",
       "      <th>tariff</th>\n",
       "    </tr>\n",
       "  </thead>\n",
       "  <tbody>\n",
       "    <tr>\n",
       "      <th>0</th>\n",
       "      <td>1000</td>\n",
       "      <td>ultra</td>\n",
       "    </tr>\n",
       "    <tr>\n",
       "      <th>1</th>\n",
       "      <td>1001</td>\n",
       "      <td>smart</td>\n",
       "    </tr>\n",
       "    <tr>\n",
       "      <th>2</th>\n",
       "      <td>1002</td>\n",
       "      <td>smart</td>\n",
       "    </tr>\n",
       "    <tr>\n",
       "      <th>3</th>\n",
       "      <td>1003</td>\n",
       "      <td>ultra</td>\n",
       "    </tr>\n",
       "    <tr>\n",
       "      <th>4</th>\n",
       "      <td>1004</td>\n",
       "      <td>ultra</td>\n",
       "    </tr>\n",
       "  </tbody>\n",
       "</table>\n",
       "</div>"
      ],
      "text/plain": [
       "   user_id tariff\n",
       "0     1000  ultra\n",
       "1     1001  smart\n",
       "2     1002  smart\n",
       "3     1003  ultra\n",
       "4     1004  ultra"
      ]
     },
     "execution_count": 18,
     "metadata": {},
     "output_type": "execute_result"
    }
   ],
   "source": [
    "#выделим в отдельную таблицу информацию о тарифе каждого клиента\n",
    "tarif = users[['user_id', 'tariff']]\n",
    "tarif.head()"
   ]
  },
  {
   "cell_type": "markdown",
   "metadata": {},
   "source": [
    "### Датафрейм tariffs"
   ]
  },
  {
   "cell_type": "code",
   "execution_count": 19,
   "metadata": {},
   "outputs": [
    {
     "name": "stdout",
     "output_type": "stream",
     "text": [
      "<class 'pandas.core.frame.DataFrame'>\n",
      "RangeIndex: 2 entries, 0 to 1\n",
      "Data columns (total 8 columns):\n",
      " #   Column                 Non-Null Count  Dtype \n",
      "---  ------                 --------------  ----- \n",
      " 0   messages_included      2 non-null      int64 \n",
      " 1   mb_per_month_included  2 non-null      int64 \n",
      " 2   minutes_included       2 non-null      int64 \n",
      " 3   rub_monthly_fee        2 non-null      int64 \n",
      " 4   rub_per_gb             2 non-null      int64 \n",
      " 5   rub_per_message        2 non-null      int64 \n",
      " 6   rub_per_minute         2 non-null      int64 \n",
      " 7   tariff                 2 non-null      object\n",
      "dtypes: int64(7), object(1)\n",
      "memory usage: 256.0+ bytes\n"
     ]
    },
    {
     "data": {
      "text/html": [
       "<div>\n",
       "<style scoped>\n",
       "    .dataframe tbody tr th:only-of-type {\n",
       "        vertical-align: middle;\n",
       "    }\n",
       "\n",
       "    .dataframe tbody tr th {\n",
       "        vertical-align: top;\n",
       "    }\n",
       "\n",
       "    .dataframe thead th {\n",
       "        text-align: right;\n",
       "    }\n",
       "</style>\n",
       "<table border=\"1\" class=\"dataframe\">\n",
       "  <thead>\n",
       "    <tr style=\"text-align: right;\">\n",
       "      <th></th>\n",
       "      <th>messages_included</th>\n",
       "      <th>minutes_included</th>\n",
       "      <th>rub_monthly_fee</th>\n",
       "      <th>rub_per_gb</th>\n",
       "      <th>rub_per_message</th>\n",
       "      <th>rub_per_minute</th>\n",
       "      <th>tariff</th>\n",
       "      <th>gb_included</th>\n",
       "    </tr>\n",
       "  </thead>\n",
       "  <tbody>\n",
       "    <tr>\n",
       "      <th>0</th>\n",
       "      <td>50</td>\n",
       "      <td>500</td>\n",
       "      <td>550</td>\n",
       "      <td>200</td>\n",
       "      <td>3</td>\n",
       "      <td>3</td>\n",
       "      <td>smart</td>\n",
       "      <td>15.0</td>\n",
       "    </tr>\n",
       "    <tr>\n",
       "      <th>1</th>\n",
       "      <td>1000</td>\n",
       "      <td>3000</td>\n",
       "      <td>1950</td>\n",
       "      <td>150</td>\n",
       "      <td>1</td>\n",
       "      <td>1</td>\n",
       "      <td>ultra</td>\n",
       "      <td>30.0</td>\n",
       "    </tr>\n",
       "  </tbody>\n",
       "</table>\n",
       "</div>"
      ],
      "text/plain": [
       "   messages_included  minutes_included  rub_monthly_fee  rub_per_gb  \\\n",
       "0                 50               500              550         200   \n",
       "1               1000              3000             1950         150   \n",
       "\n",
       "   rub_per_message  rub_per_minute tariff  gb_included  \n",
       "0                3               3  smart         15.0  \n",
       "1                1               1  ultra         30.0  "
      ]
     },
     "execution_count": 19,
     "metadata": {},
     "output_type": "execute_result"
    }
   ],
   "source": [
    "tariffs.duplicated(subset=None, keep='first').sum()\n",
    "tariffs = tariffs.rename(columns={\"tariff_name\": \"tariff\"})\n",
    "\n",
    "tariffs.info()\n",
    "tariffs['gb_included'] = tariffs['mb_per_month_included']/1024\n",
    "tariffs = tariffs.drop(columns='mb_per_month_included')\n",
    "tariffs.head()"
   ]
  },
  {
   "cell_type": "markdown",
   "metadata": {},
   "source": [
    "Вывод: пропусков в исходных данных не обнаружилось, но т.к. в таблицах с данными по интернет-трафику, звонкам и сообщениям количество строк разное, при их соединении появятся нулевые значения."
   ]
  },
  {
   "cell_type": "markdown",
   "metadata": {},
   "source": [
    "### Объединение таблиц"
   ]
  },
  {
   "cell_type": "code",
   "execution_count": 20,
   "metadata": {},
   "outputs": [
    {
     "data": {
      "text/html": [
       "<div>\n",
       "<style scoped>\n",
       "    .dataframe tbody tr th:only-of-type {\n",
       "        vertical-align: middle;\n",
       "    }\n",
       "\n",
       "    .dataframe tbody tr th {\n",
       "        vertical-align: top;\n",
       "    }\n",
       "\n",
       "    .dataframe thead th {\n",
       "        text-align: right;\n",
       "    }\n",
       "</style>\n",
       "<table border=\"1\" class=\"dataframe\">\n",
       "  <thead>\n",
       "    <tr style=\"text-align: right;\">\n",
       "      <th></th>\n",
       "      <th>user_id</th>\n",
       "      <th>month</th>\n",
       "      <th>gb_used</th>\n",
       "      <th>duration</th>\n",
       "      <th>id</th>\n",
       "      <th>tariff</th>\n",
       "    </tr>\n",
       "  </thead>\n",
       "  <tbody>\n",
       "    <tr>\n",
       "      <th>0</th>\n",
       "      <td>1000</td>\n",
       "      <td>2018-05-01</td>\n",
       "      <td>3.0</td>\n",
       "      <td>159.0</td>\n",
       "      <td>22.0</td>\n",
       "      <td>ultra</td>\n",
       "    </tr>\n",
       "    <tr>\n",
       "      <th>1</th>\n",
       "      <td>1000</td>\n",
       "      <td>2018-06-01</td>\n",
       "      <td>23.0</td>\n",
       "      <td>172.0</td>\n",
       "      <td>60.0</td>\n",
       "      <td>ultra</td>\n",
       "    </tr>\n",
       "    <tr>\n",
       "      <th>2</th>\n",
       "      <td>1000</td>\n",
       "      <td>2018-07-01</td>\n",
       "      <td>14.0</td>\n",
       "      <td>340.0</td>\n",
       "      <td>75.0</td>\n",
       "      <td>ultra</td>\n",
       "    </tr>\n",
       "    <tr>\n",
       "      <th>3</th>\n",
       "      <td>1000</td>\n",
       "      <td>2018-08-01</td>\n",
       "      <td>14.0</td>\n",
       "      <td>408.0</td>\n",
       "      <td>81.0</td>\n",
       "      <td>ultra</td>\n",
       "    </tr>\n",
       "    <tr>\n",
       "      <th>4</th>\n",
       "      <td>1000</td>\n",
       "      <td>2018-09-01</td>\n",
       "      <td>15.0</td>\n",
       "      <td>466.0</td>\n",
       "      <td>57.0</td>\n",
       "      <td>ultra</td>\n",
       "    </tr>\n",
       "  </tbody>\n",
       "</table>\n",
       "</div>"
      ],
      "text/plain": [
       "   user_id      month  gb_used  duration    id tariff\n",
       "0     1000 2018-05-01      3.0     159.0  22.0  ultra\n",
       "1     1000 2018-06-01     23.0     172.0  60.0  ultra\n",
       "2     1000 2018-07-01     14.0     340.0  75.0  ultra\n",
       "3     1000 2018-08-01     14.0     408.0  81.0  ultra\n",
       "4     1000 2018-09-01     15.0     466.0  57.0  ultra"
      ]
     },
     "metadata": {},
     "output_type": "display_data"
    }
   ],
   "source": [
    "df = internet.merge(calls, on=['user_id', 'month'], how='outer')\n",
    "df = df.merge(messages, on = ['user_id', 'month'], how='outer')\n",
    "df = df.merge(tarif, on='user_id', how='outer')\n",
    "\n",
    "display(df.head())\n",
    "df = df.rename(columns={\"duration\": \"minutes\", \"id\": \"messages\"})"
   ]
  },
  {
   "cell_type": "code",
   "execution_count": 21,
   "metadata": {},
   "outputs": [
    {
     "data": {
      "text/plain": [
       "500"
      ]
     },
     "execution_count": 21,
     "metadata": {},
     "output_type": "execute_result"
    }
   ],
   "source": [
    "users['user_id'].nunique()"
   ]
  },
  {
   "cell_type": "code",
   "execution_count": 22,
   "metadata": {},
   "outputs": [
    {
     "data": {
      "text/plain": [
       "500"
      ]
     },
     "execution_count": 22,
     "metadata": {},
     "output_type": "execute_result"
    }
   ],
   "source": [
    "df['user_id'].nunique()"
   ]
  },
  {
   "cell_type": "code",
   "execution_count": 23,
   "metadata": {},
   "outputs": [
    {
     "name": "stdout",
     "output_type": "stream",
     "text": [
      "<class 'pandas.core.frame.DataFrame'>\n",
      "Int64Index: 3216 entries, 0 to 3215\n",
      "Data columns (total 6 columns):\n",
      " #   Column    Non-Null Count  Dtype         \n",
      "---  ------    --------------  -----         \n",
      " 0   user_id   3216 non-null   int64         \n",
      " 1   month     3214 non-null   datetime64[ns]\n",
      " 2   gb_used   3203 non-null   float64       \n",
      " 3   minutes   3174 non-null   float64       \n",
      " 4   messages  2717 non-null   float64       \n",
      " 5   tariff    3216 non-null   object        \n",
      "dtypes: datetime64[ns](1), float64(3), int64(1), object(1)\n",
      "memory usage: 175.9+ KB\n"
     ]
    }
   ],
   "source": [
    "df.info()"
   ]
  },
  {
   "cell_type": "markdown",
   "metadata": {},
   "source": [
    "Подтвердился вывод из предыдущего этапа: появились нулевые значения, т.к. не все клиенты пользовались одновременно интеренетом, звонками и сообщениями. "
   ]
  },
  {
   "cell_type": "code",
   "execution_count": 24,
   "metadata": {},
   "outputs": [],
   "source": [
    "df['month'].isnull()\n",
    "df.tail(2)\n",
    "#можно сразу отбросить этих двух пользователей, т.к. о них нет вообще никакой информации\n",
    "df.drop(index=[3214, 3215], inplace=True)"
   ]
  },
  {
   "cell_type": "code",
   "execution_count": 25,
   "metadata": {},
   "outputs": [],
   "source": [
    "#в остальных случаях пропуски можно заменить на ноль\n",
    "df.fillna(0, inplace=True)"
   ]
  },
  {
   "cell_type": "markdown",
   "metadata": {},
   "source": [
    "### Расчёт выручки"
   ]
  },
  {
   "cell_type": "markdown",
   "metadata": {},
   "source": [
    "Считаем помесячную выручку с каждого пользователя (вычтите бесплатный лимит из суммарного количества звонков, сообщений и интернет-трафика; остаток умножьте на значение из тарифного плана; прибавьте абонентскую плату, соответствующую тарифному плану)."
   ]
  },
  {
   "cell_type": "code",
   "execution_count": 26,
   "metadata": {
    "scrolled": true
   },
   "outputs": [
    {
     "data": {
      "text/html": [
       "<div>\n",
       "<style scoped>\n",
       "    .dataframe tbody tr th:only-of-type {\n",
       "        vertical-align: middle;\n",
       "    }\n",
       "\n",
       "    .dataframe tbody tr th {\n",
       "        vertical-align: top;\n",
       "    }\n",
       "\n",
       "    .dataframe thead th {\n",
       "        text-align: right;\n",
       "    }\n",
       "</style>\n",
       "<table border=\"1\" class=\"dataframe\">\n",
       "  <thead>\n",
       "    <tr style=\"text-align: right;\">\n",
       "      <th></th>\n",
       "      <th>user_id</th>\n",
       "      <th>month</th>\n",
       "      <th>gb_used</th>\n",
       "      <th>minutes</th>\n",
       "      <th>messages</th>\n",
       "      <th>tariff</th>\n",
       "      <th>income</th>\n",
       "      <th>messages_included</th>\n",
       "      <th>minutes_included</th>\n",
       "      <th>rub_monthly_fee</th>\n",
       "      <th>rub_per_gb</th>\n",
       "      <th>rub_per_message</th>\n",
       "      <th>rub_per_minute</th>\n",
       "      <th>gb_included</th>\n",
       "    </tr>\n",
       "  </thead>\n",
       "  <tbody>\n",
       "    <tr>\n",
       "      <th>0</th>\n",
       "      <td>1000</td>\n",
       "      <td>2018-05-01</td>\n",
       "      <td>3.0</td>\n",
       "      <td>159.0</td>\n",
       "      <td>22.0</td>\n",
       "      <td>ultra</td>\n",
       "      <td>1950</td>\n",
       "      <td>1000</td>\n",
       "      <td>3000</td>\n",
       "      <td>1950</td>\n",
       "      <td>150</td>\n",
       "      <td>1</td>\n",
       "      <td>1</td>\n",
       "      <td>30.0</td>\n",
       "    </tr>\n",
       "    <tr>\n",
       "      <th>1</th>\n",
       "      <td>1000</td>\n",
       "      <td>2018-06-01</td>\n",
       "      <td>23.0</td>\n",
       "      <td>172.0</td>\n",
       "      <td>60.0</td>\n",
       "      <td>ultra</td>\n",
       "      <td>1950</td>\n",
       "      <td>1000</td>\n",
       "      <td>3000</td>\n",
       "      <td>1950</td>\n",
       "      <td>150</td>\n",
       "      <td>1</td>\n",
       "      <td>1</td>\n",
       "      <td>30.0</td>\n",
       "    </tr>\n",
       "    <tr>\n",
       "      <th>2</th>\n",
       "      <td>1000</td>\n",
       "      <td>2018-07-01</td>\n",
       "      <td>14.0</td>\n",
       "      <td>340.0</td>\n",
       "      <td>75.0</td>\n",
       "      <td>ultra</td>\n",
       "      <td>1950</td>\n",
       "      <td>1000</td>\n",
       "      <td>3000</td>\n",
       "      <td>1950</td>\n",
       "      <td>150</td>\n",
       "      <td>1</td>\n",
       "      <td>1</td>\n",
       "      <td>30.0</td>\n",
       "    </tr>\n",
       "    <tr>\n",
       "      <th>3</th>\n",
       "      <td>1000</td>\n",
       "      <td>2018-08-01</td>\n",
       "      <td>14.0</td>\n",
       "      <td>408.0</td>\n",
       "      <td>81.0</td>\n",
       "      <td>ultra</td>\n",
       "      <td>1950</td>\n",
       "      <td>1000</td>\n",
       "      <td>3000</td>\n",
       "      <td>1950</td>\n",
       "      <td>150</td>\n",
       "      <td>1</td>\n",
       "      <td>1</td>\n",
       "      <td>30.0</td>\n",
       "    </tr>\n",
       "    <tr>\n",
       "      <th>4</th>\n",
       "      <td>1000</td>\n",
       "      <td>2018-09-01</td>\n",
       "      <td>15.0</td>\n",
       "      <td>466.0</td>\n",
       "      <td>57.0</td>\n",
       "      <td>ultra</td>\n",
       "      <td>1950</td>\n",
       "      <td>1000</td>\n",
       "      <td>3000</td>\n",
       "      <td>1950</td>\n",
       "      <td>150</td>\n",
       "      <td>1</td>\n",
       "      <td>1</td>\n",
       "      <td>30.0</td>\n",
       "    </tr>\n",
       "  </tbody>\n",
       "</table>\n",
       "</div>"
      ],
      "text/plain": [
       "   user_id      month  gb_used  minutes  messages tariff  income  \\\n",
       "0     1000 2018-05-01      3.0    159.0      22.0  ultra    1950   \n",
       "1     1000 2018-06-01     23.0    172.0      60.0  ultra    1950   \n",
       "2     1000 2018-07-01     14.0    340.0      75.0  ultra    1950   \n",
       "3     1000 2018-08-01     14.0    408.0      81.0  ultra    1950   \n",
       "4     1000 2018-09-01     15.0    466.0      57.0  ultra    1950   \n",
       "\n",
       "   messages_included  minutes_included  rub_monthly_fee  rub_per_gb  \\\n",
       "0               1000              3000             1950         150   \n",
       "1               1000              3000             1950         150   \n",
       "2               1000              3000             1950         150   \n",
       "3               1000              3000             1950         150   \n",
       "4               1000              3000             1950         150   \n",
       "\n",
       "   rub_per_message  rub_per_minute  gb_included  \n",
       "0                1               1         30.0  \n",
       "1                1               1         30.0  \n",
       "2                1               1         30.0  \n",
       "3                1               1         30.0  \n",
       "4                1               1         30.0  "
      ]
     },
     "execution_count": 26,
     "metadata": {},
     "output_type": "execute_result"
    }
   ],
   "source": [
    "#разделим пользователей по тарифу\n",
    "df1 = df.query('tariff==\"ultra\"')\n",
    "sub_fee = 1950               \n",
    "df1 = df1.assign(income=sub_fee)\n",
    "\n",
    "df1 = df1.merge(tariffs, on='tariff')\n",
    "df1.head()"
   ]
  },
  {
   "cell_type": "code",
   "execution_count": 27,
   "metadata": {},
   "outputs": [
    {
     "name": "stdout",
     "output_type": "stream",
     "text": [
      "<class 'pandas.core.frame.DataFrame'>\n",
      "Int64Index: 985 entries, 0 to 984\n",
      "Data columns (total 14 columns):\n",
      " #   Column             Non-Null Count  Dtype         \n",
      "---  ------             --------------  -----         \n",
      " 0   user_id            985 non-null    int64         \n",
      " 1   month              985 non-null    datetime64[ns]\n",
      " 2   gb_used            985 non-null    float64       \n",
      " 3   minutes            985 non-null    float64       \n",
      " 4   messages           985 non-null    float64       \n",
      " 5   tariff             985 non-null    object        \n",
      " 6   income             985 non-null    int64         \n",
      " 7   messages_included  985 non-null    int64         \n",
      " 8   minutes_included   985 non-null    int64         \n",
      " 9   rub_monthly_fee    985 non-null    int64         \n",
      " 10  rub_per_gb         985 non-null    int64         \n",
      " 11  rub_per_message    985 non-null    int64         \n",
      " 12  rub_per_minute     985 non-null    int64         \n",
      " 13  gb_included        985 non-null    float64       \n",
      "dtypes: datetime64[ns](1), float64(4), int64(8), object(1)\n",
      "memory usage: 115.4+ KB\n"
     ]
    }
   ],
   "source": [
    "df1.info()\n",
    "df1['income'] = df1['income'].astype('float')"
   ]
  },
  {
   "cell_type": "code",
   "execution_count": 28,
   "metadata": {},
   "outputs": [
    {
     "data": {
      "text/html": [
       "<div>\n",
       "<style scoped>\n",
       "    .dataframe tbody tr th:only-of-type {\n",
       "        vertical-align: middle;\n",
       "    }\n",
       "\n",
       "    .dataframe tbody tr th {\n",
       "        vertical-align: top;\n",
       "    }\n",
       "\n",
       "    .dataframe thead th {\n",
       "        text-align: right;\n",
       "    }\n",
       "</style>\n",
       "<table border=\"1\" class=\"dataframe\">\n",
       "  <thead>\n",
       "    <tr style=\"text-align: right;\">\n",
       "      <th></th>\n",
       "      <th>user_id</th>\n",
       "      <th>month</th>\n",
       "      <th>gb_used</th>\n",
       "      <th>minutes</th>\n",
       "      <th>messages</th>\n",
       "      <th>tariff</th>\n",
       "      <th>income</th>\n",
       "      <th>messages_included</th>\n",
       "      <th>minutes_included</th>\n",
       "      <th>rub_monthly_fee</th>\n",
       "      <th>rub_per_gb</th>\n",
       "      <th>rub_per_message</th>\n",
       "      <th>rub_per_minute</th>\n",
       "      <th>gb_included</th>\n",
       "    </tr>\n",
       "  </thead>\n",
       "  <tbody>\n",
       "    <tr>\n",
       "      <th>0</th>\n",
       "      <td>1000</td>\n",
       "      <td>2018-05-01</td>\n",
       "      <td>3.0</td>\n",
       "      <td>159.0</td>\n",
       "      <td>22.0</td>\n",
       "      <td>ultra</td>\n",
       "      <td>1950.0</td>\n",
       "      <td>1000</td>\n",
       "      <td>3000</td>\n",
       "      <td>1950</td>\n",
       "      <td>150</td>\n",
       "      <td>1</td>\n",
       "      <td>1</td>\n",
       "      <td>30.0</td>\n",
       "    </tr>\n",
       "    <tr>\n",
       "      <th>1</th>\n",
       "      <td>1000</td>\n",
       "      <td>2018-06-01</td>\n",
       "      <td>23.0</td>\n",
       "      <td>172.0</td>\n",
       "      <td>60.0</td>\n",
       "      <td>ultra</td>\n",
       "      <td>3580.0</td>\n",
       "      <td>1000</td>\n",
       "      <td>3000</td>\n",
       "      <td>1950</td>\n",
       "      <td>150</td>\n",
       "      <td>1</td>\n",
       "      <td>1</td>\n",
       "      <td>30.0</td>\n",
       "    </tr>\n",
       "    <tr>\n",
       "      <th>2</th>\n",
       "      <td>1000</td>\n",
       "      <td>2018-07-01</td>\n",
       "      <td>14.0</td>\n",
       "      <td>340.0</td>\n",
       "      <td>75.0</td>\n",
       "      <td>ultra</td>\n",
       "      <td>2025.0</td>\n",
       "      <td>1000</td>\n",
       "      <td>3000</td>\n",
       "      <td>1950</td>\n",
       "      <td>150</td>\n",
       "      <td>1</td>\n",
       "      <td>1</td>\n",
       "      <td>30.0</td>\n",
       "    </tr>\n",
       "    <tr>\n",
       "      <th>3</th>\n",
       "      <td>1000</td>\n",
       "      <td>2018-08-01</td>\n",
       "      <td>14.0</td>\n",
       "      <td>408.0</td>\n",
       "      <td>81.0</td>\n",
       "      <td>ultra</td>\n",
       "      <td>2043.0</td>\n",
       "      <td>1000</td>\n",
       "      <td>3000</td>\n",
       "      <td>1950</td>\n",
       "      <td>150</td>\n",
       "      <td>1</td>\n",
       "      <td>1</td>\n",
       "      <td>30.0</td>\n",
       "    </tr>\n",
       "    <tr>\n",
       "      <th>4</th>\n",
       "      <td>1000</td>\n",
       "      <td>2018-09-01</td>\n",
       "      <td>15.0</td>\n",
       "      <td>466.0</td>\n",
       "      <td>57.0</td>\n",
       "      <td>ultra</td>\n",
       "      <td>1971.0</td>\n",
       "      <td>1000</td>\n",
       "      <td>3000</td>\n",
       "      <td>1950</td>\n",
       "      <td>150</td>\n",
       "      <td>1</td>\n",
       "      <td>1</td>\n",
       "      <td>30.0</td>\n",
       "    </tr>\n",
       "  </tbody>\n",
       "</table>\n",
       "</div>"
      ],
      "text/plain": [
       "   user_id      month  gb_used  minutes  messages tariff  income  \\\n",
       "0     1000 2018-05-01      3.0    159.0      22.0  ultra  1950.0   \n",
       "1     1000 2018-06-01     23.0    172.0      60.0  ultra  3580.0   \n",
       "2     1000 2018-07-01     14.0    340.0      75.0  ultra  2025.0   \n",
       "3     1000 2018-08-01     14.0    408.0      81.0  ultra  2043.0   \n",
       "4     1000 2018-09-01     15.0    466.0      57.0  ultra  1971.0   \n",
       "\n",
       "   messages_included  minutes_included  rub_monthly_fee  rub_per_gb  \\\n",
       "0               1000              3000             1950         150   \n",
       "1               1000              3000             1950         150   \n",
       "2               1000              3000             1950         150   \n",
       "3               1000              3000             1950         150   \n",
       "4               1000              3000             1950         150   \n",
       "\n",
       "   rub_per_message  rub_per_minute  gb_included  \n",
       "0                1               1         30.0  \n",
       "1                1               1         30.0  \n",
       "2                1               1         30.0  \n",
       "3                1               1         30.0  \n",
       "4                1               1         30.0  "
      ]
     },
     "execution_count": 28,
     "metadata": {},
     "output_type": "execute_result"
    }
   ],
   "source": [
    "free_minutes = 500\n",
    "free_gb = 15\n",
    "free_sms = 50\n",
    "extra_min = 3\n",
    "extra_gb = 200\n",
    "extra_sms = 3           \n",
    "\n",
    "\n",
    "\n",
    "for a in df1.index:\n",
    "    min = df1.at[a, 'minutes']\n",
    "    df1.at[a, 'income'] = df1.at[a, 'income'] if min <= free_minutes else df1.at[a, 'income'] + (min-free_minutes)*extra_min      \n",
    "\n",
    "for b in df1.index:\n",
    "    gb = df1.at[b, 'gb_used']\n",
    "    df1.at[b, 'income'] = df1.at[b, 'income'] if gb <= free_gb else df1.at[b, 'income'] + (gb-free_gb)*extra_gb\n",
    "    \n",
    "for c in df1.index:\n",
    "    sms = df1.at[c, 'messages']\n",
    "    df1.at[c, 'income'] = df1.at[c, 'income'] if sms <= free_sms else df1.at[c, 'income'] + (sms-free_sms)*extra_sms\n",
    "    \n",
    "df1.head()"
   ]
  },
  {
   "cell_type": "code",
   "execution_count": 29,
   "metadata": {},
   "outputs": [
    {
     "data": {
      "text/html": [
       "<div>\n",
       "<style scoped>\n",
       "    .dataframe tbody tr th:only-of-type {\n",
       "        vertical-align: middle;\n",
       "    }\n",
       "\n",
       "    .dataframe tbody tr th {\n",
       "        vertical-align: top;\n",
       "    }\n",
       "\n",
       "    .dataframe thead th {\n",
       "        text-align: right;\n",
       "    }\n",
       "</style>\n",
       "<table border=\"1\" class=\"dataframe\">\n",
       "  <thead>\n",
       "    <tr style=\"text-align: right;\">\n",
       "      <th></th>\n",
       "      <th>user_id</th>\n",
       "      <th>month</th>\n",
       "      <th>gb_used</th>\n",
       "      <th>minutes</th>\n",
       "      <th>messages</th>\n",
       "      <th>tariff</th>\n",
       "      <th>income</th>\n",
       "    </tr>\n",
       "  </thead>\n",
       "  <tbody>\n",
       "    <tr>\n",
       "      <th>8</th>\n",
       "      <td>1001</td>\n",
       "      <td>2018-11-01</td>\n",
       "      <td>18.0</td>\n",
       "      <td>430.0</td>\n",
       "      <td>0.0</td>\n",
       "      <td>smart</td>\n",
       "      <td>550</td>\n",
       "    </tr>\n",
       "    <tr>\n",
       "      <th>9</th>\n",
       "      <td>1001</td>\n",
       "      <td>2018-12-01</td>\n",
       "      <td>14.0</td>\n",
       "      <td>414.0</td>\n",
       "      <td>0.0</td>\n",
       "      <td>smart</td>\n",
       "      <td>550</td>\n",
       "    </tr>\n",
       "    <tr>\n",
       "      <th>10</th>\n",
       "      <td>1002</td>\n",
       "      <td>2018-06-01</td>\n",
       "      <td>11.0</td>\n",
       "      <td>117.0</td>\n",
       "      <td>4.0</td>\n",
       "      <td>smart</td>\n",
       "      <td>550</td>\n",
       "    </tr>\n",
       "    <tr>\n",
       "      <th>11</th>\n",
       "      <td>1002</td>\n",
       "      <td>2018-07-01</td>\n",
       "      <td>18.0</td>\n",
       "      <td>214.0</td>\n",
       "      <td>11.0</td>\n",
       "      <td>smart</td>\n",
       "      <td>550</td>\n",
       "    </tr>\n",
       "    <tr>\n",
       "      <th>12</th>\n",
       "      <td>1002</td>\n",
       "      <td>2018-08-01</td>\n",
       "      <td>20.0</td>\n",
       "      <td>289.0</td>\n",
       "      <td>13.0</td>\n",
       "      <td>smart</td>\n",
       "      <td>550</td>\n",
       "    </tr>\n",
       "  </tbody>\n",
       "</table>\n",
       "</div>"
      ],
      "text/plain": [
       "    user_id      month  gb_used  minutes  messages tariff  income\n",
       "8      1001 2018-11-01     18.0    430.0       0.0  smart     550\n",
       "9      1001 2018-12-01     14.0    414.0       0.0  smart     550\n",
       "10     1002 2018-06-01     11.0    117.0       4.0  smart     550\n",
       "11     1002 2018-07-01     18.0    214.0      11.0  smart     550\n",
       "12     1002 2018-08-01     20.0    289.0      13.0  smart     550"
      ]
     },
     "execution_count": 29,
     "metadata": {},
     "output_type": "execute_result"
    }
   ],
   "source": [
    "df2 = df.query('tariff==\"smart\"')\n",
    "sub_fee = 550               \n",
    "df2 = df2.assign(income=sub_fee)\n",
    "df2.head()"
   ]
  },
  {
   "cell_type": "code",
   "execution_count": 30,
   "metadata": {},
   "outputs": [
    {
     "name": "stdout",
     "output_type": "stream",
     "text": [
      "<class 'pandas.core.frame.DataFrame'>\n",
      "Int64Index: 2229 entries, 8 to 3205\n",
      "Data columns (total 7 columns):\n",
      " #   Column    Non-Null Count  Dtype         \n",
      "---  ------    --------------  -----         \n",
      " 0   user_id   2229 non-null   int64         \n",
      " 1   month     2229 non-null   datetime64[ns]\n",
      " 2   gb_used   2229 non-null   float64       \n",
      " 3   minutes   2229 non-null   float64       \n",
      " 4   messages  2229 non-null   float64       \n",
      " 5   tariff    2229 non-null   object        \n",
      " 6   income    2229 non-null   int64         \n",
      "dtypes: datetime64[ns](1), float64(3), int64(2), object(1)\n",
      "memory usage: 139.3+ KB\n"
     ]
    }
   ],
   "source": [
    "df2.info()\n",
    "df2['income'] = df2['income'].astype('float')"
   ]
  },
  {
   "cell_type": "code",
   "execution_count": 31,
   "metadata": {
    "scrolled": false
   },
   "outputs": [
    {
     "data": {
      "text/html": [
       "<div>\n",
       "<style scoped>\n",
       "    .dataframe tbody tr th:only-of-type {\n",
       "        vertical-align: middle;\n",
       "    }\n",
       "\n",
       "    .dataframe tbody tr th {\n",
       "        vertical-align: top;\n",
       "    }\n",
       "\n",
       "    .dataframe thead th {\n",
       "        text-align: right;\n",
       "    }\n",
       "</style>\n",
       "<table border=\"1\" class=\"dataframe\">\n",
       "  <thead>\n",
       "    <tr style=\"text-align: right;\">\n",
       "      <th></th>\n",
       "      <th>user_id</th>\n",
       "      <th>month</th>\n",
       "      <th>gb_used</th>\n",
       "      <th>minutes</th>\n",
       "      <th>messages</th>\n",
       "      <th>tariff</th>\n",
       "      <th>income</th>\n",
       "    </tr>\n",
       "  </thead>\n",
       "  <tbody>\n",
       "    <tr>\n",
       "      <th>8</th>\n",
       "      <td>1001</td>\n",
       "      <td>2018-11-01</td>\n",
       "      <td>18.0</td>\n",
       "      <td>430.0</td>\n",
       "      <td>0.0</td>\n",
       "      <td>smart</td>\n",
       "      <td>1150.0</td>\n",
       "    </tr>\n",
       "    <tr>\n",
       "      <th>9</th>\n",
       "      <td>1001</td>\n",
       "      <td>2018-12-01</td>\n",
       "      <td>14.0</td>\n",
       "      <td>414.0</td>\n",
       "      <td>0.0</td>\n",
       "      <td>smart</td>\n",
       "      <td>550.0</td>\n",
       "    </tr>\n",
       "    <tr>\n",
       "      <th>10</th>\n",
       "      <td>1002</td>\n",
       "      <td>2018-06-01</td>\n",
       "      <td>11.0</td>\n",
       "      <td>117.0</td>\n",
       "      <td>4.0</td>\n",
       "      <td>smart</td>\n",
       "      <td>550.0</td>\n",
       "    </tr>\n",
       "    <tr>\n",
       "      <th>11</th>\n",
       "      <td>1002</td>\n",
       "      <td>2018-07-01</td>\n",
       "      <td>18.0</td>\n",
       "      <td>214.0</td>\n",
       "      <td>11.0</td>\n",
       "      <td>smart</td>\n",
       "      <td>1150.0</td>\n",
       "    </tr>\n",
       "    <tr>\n",
       "      <th>12</th>\n",
       "      <td>1002</td>\n",
       "      <td>2018-08-01</td>\n",
       "      <td>20.0</td>\n",
       "      <td>289.0</td>\n",
       "      <td>13.0</td>\n",
       "      <td>smart</td>\n",
       "      <td>1550.0</td>\n",
       "    </tr>\n",
       "  </tbody>\n",
       "</table>\n",
       "</div>"
      ],
      "text/plain": [
       "    user_id      month  gb_used  minutes  messages tariff  income\n",
       "8      1001 2018-11-01     18.0    430.0       0.0  smart  1150.0\n",
       "9      1001 2018-12-01     14.0    414.0       0.0  smart   550.0\n",
       "10     1002 2018-06-01     11.0    117.0       4.0  smart   550.0\n",
       "11     1002 2018-07-01     18.0    214.0      11.0  smart  1150.0\n",
       "12     1002 2018-08-01     20.0    289.0      13.0  smart  1550.0"
      ]
     },
     "execution_count": 31,
     "metadata": {},
     "output_type": "execute_result"
    }
   ],
   "source": [
    "free_minutes = 500\n",
    "free_gb = 15\n",
    "free_sms = 50\n",
    "extra_min = 3\n",
    "extra_gb = 200\n",
    "extra_sms = 3               \n",
    "\n",
    "        \n",
    "for a in df2.index:\n",
    "    min = df2.at[a, 'minutes']\n",
    "    df2.at[a, 'income'] = df2.at[a, 'income'] if min <= free_minutes else df2.at[a, 'income'] + (min-free_minutes)*extra_min      \n",
    "\n",
    "for b in df2.index:\n",
    "    gb = df2.at[b, 'gb_used']\n",
    "    df2.at[b, 'income'] = df2.at[b, 'income'] if gb <= free_gb else df2.at[b, 'income'] + (gb-free_gb)*extra_gb\n",
    "    \n",
    "for c in df2.index:\n",
    "    sms = df2.at[c, 'messages']\n",
    "    df2.at[c, 'income'] = df2.at[c, 'income'] if sms <= free_sms else df2.at[c, 'income'] + (sms-free_sms)*extra_sms\n",
    "    \n",
    "df2.head()"
   ]
  },
  {
   "cell_type": "markdown",
   "metadata": {},
   "source": [
    "Вывод: на первый взгляд кажется, что средние выручки пользователей разных тарифов различаются (у пользователей тарифа \"Ультра\" выручка больше). "
   ]
  },
  {
   "cell_type": "markdown",
   "metadata": {},
   "source": [
    "## Анализ данных"
   ]
  },
  {
   "cell_type": "markdown",
   "metadata": {},
   "source": [
    "Опишите поведение клиентов оператора, исходя из выборки. Сколько минут разговора, сколько сообщений и какой объём интернет-трафика требуется пользователям каждого тарифа в месяц? Посчитайте среднее количество, дисперсию и стандартное отклонение. Постройте гистограммы. Опишите распределения.\n",
    "\n"
   ]
  },
  {
   "cell_type": "code",
   "execution_count": 34,
   "metadata": {},
   "outputs": [
    {
     "name": "stdout",
     "output_type": "stream",
     "text": [
      "Среднее количество минут разговора: 526.6233502538071\n",
      "Дисперсия: 100873.63339730098\n",
      "Стандартное отклонение: 317.44483554974113\n"
     ]
    },
    {
     "data": {
      "text/plain": [
       "518.0"
      ]
     },
     "execution_count": 34,
     "metadata": {},
     "output_type": "execute_result"
    },
    {
     "data": {
      "image/png": "[encoded data removed]",
      "text/plain": [
       "<Figure size 432x288 with 1 Axes>"
      ]
     },
     "metadata": {
      "needs_background": "light"
     },
     "output_type": "display_data"
    }
   ],
   "source": [
    "ultra = df1\n",
    "smart = df2\n",
    "\n",
    "ultra_minutes_mu = ultra['minutes'].mean()\n",
    "ultra_minutes_var = np.var(ultra['minutes'], ddof=1)\n",
    "ultra_minutes_std = np.std(ultra['minutes'])\n",
    "print('Среднее количество минут разговора:', ultra_minutes_mu)\n",
    "print('Дисперсия:', ultra_minutes_var)\n",
    "print('Стандартное отклонение:', ultra_minutes_std)\n",
    "\n",
    "# построим гистограмму для непрерывной переменной\n",
    "ultra['minutes'].hist()\n",
    "ultra['minutes'].median()\n",
    "#данные скошены вправо"
   ]
  },
  {
   "cell_type": "code",
   "execution_count": 35,
   "metadata": {},
   "outputs": [
    {
     "name": "stdout",
     "output_type": "stream",
     "text": [
      "Среднее количество минут разговора: 417.9349484073576\n",
      "Дисперсия: 36219.31578434428\n",
      "Стандартное отклонение: 190.27103471651876\n"
     ]
    },
    {
     "data": {
      "text/plain": [
       "422.0"
      ]
     },
     "execution_count": 35,
     "metadata": {},
     "output_type": "execute_result"
    },
    {
     "data": {
      "image/png": "[encoded data removed]",
      "text/plain": [
       "<Figure size 432x288 with 1 Axes>"
      ]
     },
     "metadata": {
      "needs_background": "light"
     },
     "output_type": "display_data"
    }
   ],
   "source": [
    "smart_minutes_mu = smart['minutes'].mean()\n",
    "smart_minutes_var = np.var(smart['minutes'], ddof=1)\n",
    "smart_minutes_std = np.std(smart['minutes'])\n",
    "print('Среднее количество минут разговора:', smart_minutes_mu)\n",
    "print('Дисперсия:', smart_minutes_var)\n",
    "print('Стандартное отклонение:', smart_minutes_std)\n",
    "\n",
    "smart['minutes'].hist()\n",
    "smart['minutes'].median()\n",
    "#данные скошены влево"
   ]
  },
  {
   "cell_type": "code",
   "execution_count": 36,
   "metadata": {},
   "outputs": [
    {
     "name": "stdout",
     "output_type": "stream",
     "text": [
      "Средний объём трафика: 19.494416243654822\n",
      "Дисперсия: 97.09168626965457\n",
      "Стандартное отклонение: 9.848508314957494\n"
     ]
    },
    {
     "data": {
      "text/plain": [
       "19.0"
      ]
     },
     "execution_count": 36,
     "metadata": {},
     "output_type": "execute_result"
    },
    {
     "data": {
      "image/png": "[encoded data removed]",
      "text/plain": [
       "<Figure size 432x288 with 1 Axes>"
      ]
     },
     "metadata": {
      "needs_background": "light"
     },
     "output_type": "display_data"
    }
   ],
   "source": [
    "ultra_gb_mu = ultra['gb_used'].mean()\n",
    "ultra_gb_var = np.var(ultra['gb_used'], ddof=1)\n",
    "ultra_gb_std = np.std(ultra['gb_used'])\n",
    "print('Средний объём трафика:', ultra_gb_mu)\n",
    "print('Дисперсия:', ultra_gb_var)\n",
    "print('Стандартное отклонение:', ultra_gb_std)\n",
    "\n",
    "ultra['gb_used'].hist()\n",
    "ultra['gb_used'].median()\n",
    "#распределение близко к нормальному"
   ]
  },
  {
   "cell_type": "code",
   "execution_count": 37,
   "metadata": {},
   "outputs": [
    {
     "name": "stdout",
     "output_type": "stream",
     "text": [
      "Средний объём трафика: 16.328847016599372\n",
      "Дисперсия: 33.02870517811161\n",
      "Стандартное отклонение: 5.745771267187499\n"
     ]
    },
    {
     "data": {
      "text/plain": [
       "19.0"
      ]
     },
     "execution_count": 37,
     "metadata": {},
     "output_type": "execute_result"
    },
    {
     "data": {
      "image/png": "[encoded data removed]",
      "text/plain": [
       "<Figure size 432x288 with 1 Axes>"
      ]
     },
     "metadata": {
      "needs_background": "light"
     },
     "output_type": "display_data"
    }
   ],
   "source": [
    "smart_gb_mu = smart['gb_used'].mean()\n",
    "smart_gb_var = np.var(smart['gb_used'], ddof=1)\n",
    "smart_gb_std = np.std(smart['gb_used'])\n",
    "print('Средний объём трафика:', smart_gb_mu)\n",
    "print('Дисперсия:', smart_gb_var)\n",
    "print('Стандартное отклонение:', smart_gb_std)\n",
    "\n",
    "ultra['gb_used'].hist()\n",
    "ultra['gb_used'].median()\n",
    "#данные скошены влево "
   ]
  },
  {
   "cell_type": "code",
   "execution_count": 38,
   "metadata": {},
   "outputs": [
    {
     "name": "stdout",
     "output_type": "stream",
     "text": [
      "Среднее количество сообщений: 49.36345177664975\n",
      "Дисперсия: 2285.266142544674\n",
      "Стандартное отклонение: 47.78018496610161\n"
     ]
    },
    {
     "data": {
      "text/plain": [
       "38.0"
      ]
     },
     "execution_count": 38,
     "metadata": {},
     "output_type": "execute_result"
    },
    {
     "data": {
      "image/png": "[encoded data removed]",
      "text/plain": [
       "<Figure size 432x288 with 1 Axes>"
      ]
     },
     "metadata": {
      "needs_background": "light"
     },
     "output_type": "display_data"
    }
   ],
   "source": [
    "ultra_sms_mu = ultra['messages'].mean()\n",
    "ultra_sms_var = np.var(ultra['messages'], ddof=1)\n",
    "ultra_sms_std = np.std(ultra['messages'])\n",
    "print('Среднее количество сообщений:', ultra_sms_mu)\n",
    "print('Дисперсия:', ultra_sms_var)\n",
    "print('Стандартное отклонение:', ultra_sms_std)\n",
    "\n",
    "ultra['messages'].hist()\n",
    "ultra['messages'].median()\n",
    "#данные скошены вправо"
   ]
  },
  {
   "cell_type": "code",
   "execution_count": 39,
   "metadata": {
    "scrolled": true
   },
   "outputs": [
    {
     "name": "stdout",
     "output_type": "stream",
     "text": [
      "Среднее количество сообщений: 33.384028712427096\n",
      "Дисперсия: 796.8129584480083\n",
      "Стандартное отклонение: 28.221542886898938\n"
     ]
    },
    {
     "data": {
      "text/plain": [
       "28.0"
      ]
     },
     "execution_count": 39,
     "metadata": {},
     "output_type": "execute_result"
    },
    {
     "data": {
      "image/png": "[encoded data removed]",
      "text/plain": [
       "<Figure size 432x288 with 1 Axes>"
      ]
     },
     "metadata": {
      "needs_background": "light"
     },
     "output_type": "display_data"
    }
   ],
   "source": [
    "smart_sms_mu = smart['messages'].mean()\n",
    "smart_sms_var = np.var(smart['messages'], ddof=1)\n",
    "smart_sms_std = np.std(smart['messages'])\n",
    "print('Среднее количество сообщений:', smart_sms_mu)\n",
    "print('Дисперсия:', smart_sms_var)\n",
    "print('Стандартное отклонение:', smart_sms_std)\n",
    "\n",
    "smart['messages'].hist()\n",
    "smart['messages'].median()\n",
    "#данные скошены вправо"
   ]
  },
  {
   "cell_type": "code",
   "execution_count": 40,
   "metadata": {},
   "outputs": [
    {
     "data": {
      "text/html": [
       "<div>\n",
       "<style scoped>\n",
       "    .dataframe tbody tr th:only-of-type {\n",
       "        vertical-align: middle;\n",
       "    }\n",
       "\n",
       "    .dataframe tbody tr th {\n",
       "        vertical-align: top;\n",
       "    }\n",
       "\n",
       "    .dataframe thead tr th {\n",
       "        text-align: left;\n",
       "    }\n",
       "\n",
       "    .dataframe thead tr:last-of-type th {\n",
       "        text-align: right;\n",
       "    }\n",
       "</style>\n",
       "<table border=\"1\" class=\"dataframe\">\n",
       "  <thead>\n",
       "    <tr>\n",
       "      <th></th>\n",
       "      <th colspan=\"3\" halign=\"left\">minutes</th>\n",
       "      <th colspan=\"3\" halign=\"left\">gb_used</th>\n",
       "      <th colspan=\"3\" halign=\"left\">messages</th>\n",
       "    </tr>\n",
       "    <tr>\n",
       "      <th></th>\n",
       "      <th>mean</th>\n",
       "      <th>var</th>\n",
       "      <th>std</th>\n",
       "      <th>mean</th>\n",
       "      <th>var</th>\n",
       "      <th>std</th>\n",
       "      <th>mean</th>\n",
       "      <th>var</th>\n",
       "      <th>std</th>\n",
       "    </tr>\n",
       "    <tr>\n",
       "      <th>tariff</th>\n",
       "      <th></th>\n",
       "      <th></th>\n",
       "      <th></th>\n",
       "      <th></th>\n",
       "      <th></th>\n",
       "      <th></th>\n",
       "      <th></th>\n",
       "      <th></th>\n",
       "      <th></th>\n",
       "    </tr>\n",
       "  </thead>\n",
       "  <tbody>\n",
       "    <tr>\n",
       "      <th>smart</th>\n",
       "      <td>418.0</td>\n",
       "      <td>36219.0</td>\n",
       "      <td>190.0</td>\n",
       "      <td>16.0</td>\n",
       "      <td>33.0</td>\n",
       "      <td>6.0</td>\n",
       "      <td>33.0</td>\n",
       "      <td>797.0</td>\n",
       "      <td>28.0</td>\n",
       "    </tr>\n",
       "    <tr>\n",
       "      <th>ultra</th>\n",
       "      <td>527.0</td>\n",
       "      <td>100874.0</td>\n",
       "      <td>318.0</td>\n",
       "      <td>19.0</td>\n",
       "      <td>97.0</td>\n",
       "      <td>10.0</td>\n",
       "      <td>49.0</td>\n",
       "      <td>2285.0</td>\n",
       "      <td>48.0</td>\n",
       "    </tr>\n",
       "  </tbody>\n",
       "</table>\n",
       "</div>"
      ],
      "text/plain": [
       "       minutes                  gb_used             messages              \n",
       "          mean       var    std    mean   var   std     mean     var   std\n",
       "tariff                                                                    \n",
       "smart    418.0   36219.0  190.0    16.0  33.0   6.0     33.0   797.0  28.0\n",
       "ultra    527.0  100874.0  318.0    19.0  97.0  10.0     49.0  2285.0  48.0"
      ]
     },
     "execution_count": 40,
     "metadata": {},
     "output_type": "execute_result"
    }
   ],
   "source": [
    "df.groupby('tariff')[['minutes','gb_used', 'messages']].agg(['mean','var','std']).round(0)"
   ]
  },
  {
   "cell_type": "markdown",
   "metadata": {},
   "source": [
    "## Проверка гипотез"
   ]
  },
  {
   "cell_type": "markdown",
   "metadata": {},
   "source": [
    "Проверим две гипотезы:\n",
    "    средние выручки пользователей тарифов «Ультра» и «Смарт» различаются;\n",
    "    средняя выручка пользователей из Москвы отличается от выручки пользователей из других регионов."
   ]
  },
  {
   "cell_type": "code",
   "execution_count": 41,
   "metadata": {},
   "outputs": [],
   "source": [
    "ultra_income = ultra.pivot_table(index='user_id', values='income', aggfunc='sum').reset_index()\n",
    "\n",
    "smart_income = smart.pivot_table(index='user_id', values='income', aggfunc='sum').reset_index()"
   ]
  },
  {
   "cell_type": "code",
   "execution_count": 42,
   "metadata": {},
   "outputs": [],
   "source": [
    "alpha = 0.05"
   ]
  },
  {
   "cell_type": "code",
   "execution_count": 43,
   "metadata": {
    "scrolled": false
   },
   "outputs": [
    {
     "data": {
      "text/plain": [
       "<AxesSubplot:xlabel='income', ylabel='Density'>"
      ]
     },
     "execution_count": 43,
     "metadata": {},
     "output_type": "execute_result"
    },
    {
     "data": {
      "image/png": "[encoded data removed]",
      "text/plain": [
       "<Figure size 432x288 with 1 Axes>"
      ]
     },
     "metadata": {
      "needs_background": "light"
     },
     "output_type": "display_data"
    }
   ],
   "source": [
    "#проверка нормальности распределения\n",
    "sns.distplot(ultra_income['income'])\n",
    "sns.distplot(smart_income['income'])"
   ]
  },
  {
   "cell_type": "code",
   "execution_count": 44,
   "metadata": {},
   "outputs": [
    {
     "data": {
      "image/png": "[encoded data removed]",
      "text/plain": [
       "<Figure size 864x576 with 2 Axes>"
      ]
     },
     "metadata": {
      "needs_background": "light"
     },
     "output_type": "display_data"
    }
   ],
   "source": [
    "#проверка с помощью qq-plot \n",
    "plt.figure(figsize=(12,8))\n",
    "plt.subplot(2,2,1)\n",
    "st.probplot(ultra_income['income'], dist=\"norm\", plot=plt)\n",
    "plt.subplot(2,2,2)\n",
    "st.probplot(smart_income['income'], dist=\"norm\", plot=plt)\n",
    "plt.show()"
   ]
  },
  {
   "cell_type": "markdown",
   "metadata": {},
   "source": [
    "Введём основную и альтернативную гипотезы. H0: средние выручки пользователей тарифов «Ультра» и «Смарт» одинаковы, H1: средние выручки пользователей тарифов «Ультра» и «Смарт» различаются. \n",
    "Посчитаем p-value, используя ttest из библиотеки scipy для сравнения средних двух выборок.\n",
    "\n",
    "Если p-value будет меньше выбранного уровня значимости  α=0.05 , то нулевую гипотезу о равенстве средних отвергнем. Иначе сделаем вывод, что данные не позволили нам отвергнуть нулевую гипотезу.\n",
    "\n",
    "Применим непараметрический тест, т.к. совокупности распределены не нормально"
   ]
  },
  {
   "cell_type": "code",
   "execution_count": 45,
   "metadata": {},
   "outputs": [
    {
     "name": "stdout",
     "output_type": "stream",
     "text": [
      "p-значение:  8.366185670589655e-38\n",
      "Отвергаем нулевую гипотезу\n"
     ]
    }
   ],
   "source": [
    "results = st.mannwhitneyu(smart_income['income'], ultra_income['income'], alternative='two-sided')\n",
    "print('p-значение: ', results.pvalue)\n",
    "\n",
    "if (results.pvalue < alpha):\n",
    "    print(\"Отвергаем нулевую гипотезу\")\n",
    "else:\n",
    "    print(\"Не получилось отвергнуть нулевую гипотезу\")"
   ]
  },
  {
   "cell_type": "markdown",
   "metadata": {},
   "source": [
    "Применим ttest к выручкам пользователей двух тарифов (выборки независимые), чтобы проверить, как его результат будет отличаться от результата непараметрического теста."
   ]
  },
  {
   "cell_type": "code",
   "execution_count": 46,
   "metadata": {
    "scrolled": true
   },
   "outputs": [
    {
     "name": "stdout",
     "output_type": "stream",
     "text": [
      "p-значение:  2.0669117888763587e-26\n",
      "Отвергаем нулевую гипотезу\n"
     ]
    }
   ],
   "source": [
    "results = st.ttest_ind(smart_income['income'], ultra_income['income'], equal_var=False)\n",
    "print('p-значение: ', results.pvalue)\n",
    "\n",
    "if (results.pvalue < alpha):\n",
    "    print(\"Отвергаем нулевую гипотезу\")\n",
    "else:\n",
    "    print(\"Не получилось отвергнуть нулевую гипотезу\")"
   ]
  },
  {
   "cell_type": "markdown",
   "metadata": {},
   "source": [
    "Проверим вторую гипотезу. H0: средние выручки пользователей из Москвы и из других регионов одинаковы, H1: средняя выручка пользователей из Москвы отличается от выручки пользователей из других регионов."
   ]
  },
  {
   "cell_type": "code",
   "execution_count": 47,
   "metadata": {},
   "outputs": [
    {
     "data": {
      "text/html": [
       "<div>\n",
       "<style scoped>\n",
       "    .dataframe tbody tr th:only-of-type {\n",
       "        vertical-align: middle;\n",
       "    }\n",
       "\n",
       "    .dataframe tbody tr th {\n",
       "        vertical-align: top;\n",
       "    }\n",
       "\n",
       "    .dataframe thead th {\n",
       "        text-align: right;\n",
       "    }\n",
       "</style>\n",
       "<table border=\"1\" class=\"dataframe\">\n",
       "  <thead>\n",
       "    <tr style=\"text-align: right;\">\n",
       "      <th></th>\n",
       "      <th>user_id</th>\n",
       "      <th>month</th>\n",
       "      <th>gb_used</th>\n",
       "      <th>minutes</th>\n",
       "      <th>messages</th>\n",
       "      <th>tariff</th>\n",
       "      <th>income</th>\n",
       "      <th>messages_included</th>\n",
       "      <th>minutes_included</th>\n",
       "      <th>rub_monthly_fee</th>\n",
       "      <th>rub_per_gb</th>\n",
       "      <th>rub_per_message</th>\n",
       "      <th>rub_per_minute</th>\n",
       "      <th>gb_included</th>\n",
       "      <th>city</th>\n",
       "    </tr>\n",
       "  </thead>\n",
       "  <tbody>\n",
       "    <tr>\n",
       "      <th>0</th>\n",
       "      <td>1000</td>\n",
       "      <td>2018-05-01</td>\n",
       "      <td>3.0</td>\n",
       "      <td>159.0</td>\n",
       "      <td>22.0</td>\n",
       "      <td>ultra</td>\n",
       "      <td>1950.0</td>\n",
       "      <td>1000.0</td>\n",
       "      <td>3000.0</td>\n",
       "      <td>1950.0</td>\n",
       "      <td>150.0</td>\n",
       "      <td>1.0</td>\n",
       "      <td>1.0</td>\n",
       "      <td>30.0</td>\n",
       "      <td>Краснодар</td>\n",
       "    </tr>\n",
       "    <tr>\n",
       "      <th>1</th>\n",
       "      <td>1000</td>\n",
       "      <td>2018-06-01</td>\n",
       "      <td>23.0</td>\n",
       "      <td>172.0</td>\n",
       "      <td>60.0</td>\n",
       "      <td>ultra</td>\n",
       "      <td>3580.0</td>\n",
       "      <td>1000.0</td>\n",
       "      <td>3000.0</td>\n",
       "      <td>1950.0</td>\n",
       "      <td>150.0</td>\n",
       "      <td>1.0</td>\n",
       "      <td>1.0</td>\n",
       "      <td>30.0</td>\n",
       "      <td>Краснодар</td>\n",
       "    </tr>\n",
       "    <tr>\n",
       "      <th>2</th>\n",
       "      <td>1000</td>\n",
       "      <td>2018-07-01</td>\n",
       "      <td>14.0</td>\n",
       "      <td>340.0</td>\n",
       "      <td>75.0</td>\n",
       "      <td>ultra</td>\n",
       "      <td>2025.0</td>\n",
       "      <td>1000.0</td>\n",
       "      <td>3000.0</td>\n",
       "      <td>1950.0</td>\n",
       "      <td>150.0</td>\n",
       "      <td>1.0</td>\n",
       "      <td>1.0</td>\n",
       "      <td>30.0</td>\n",
       "      <td>Краснодар</td>\n",
       "    </tr>\n",
       "    <tr>\n",
       "      <th>3</th>\n",
       "      <td>1000</td>\n",
       "      <td>2018-08-01</td>\n",
       "      <td>14.0</td>\n",
       "      <td>408.0</td>\n",
       "      <td>81.0</td>\n",
       "      <td>ultra</td>\n",
       "      <td>2043.0</td>\n",
       "      <td>1000.0</td>\n",
       "      <td>3000.0</td>\n",
       "      <td>1950.0</td>\n",
       "      <td>150.0</td>\n",
       "      <td>1.0</td>\n",
       "      <td>1.0</td>\n",
       "      <td>30.0</td>\n",
       "      <td>Краснодар</td>\n",
       "    </tr>\n",
       "    <tr>\n",
       "      <th>4</th>\n",
       "      <td>1000</td>\n",
       "      <td>2018-09-01</td>\n",
       "      <td>15.0</td>\n",
       "      <td>466.0</td>\n",
       "      <td>57.0</td>\n",
       "      <td>ultra</td>\n",
       "      <td>1971.0</td>\n",
       "      <td>1000.0</td>\n",
       "      <td>3000.0</td>\n",
       "      <td>1950.0</td>\n",
       "      <td>150.0</td>\n",
       "      <td>1.0</td>\n",
       "      <td>1.0</td>\n",
       "      <td>30.0</td>\n",
       "      <td>Краснодар</td>\n",
       "    </tr>\n",
       "  </tbody>\n",
       "</table>\n",
       "</div>"
      ],
      "text/plain": [
       "   user_id      month  gb_used  minutes  messages tariff  income  \\\n",
       "0     1000 2018-05-01      3.0    159.0      22.0  ultra  1950.0   \n",
       "1     1000 2018-06-01     23.0    172.0      60.0  ultra  3580.0   \n",
       "2     1000 2018-07-01     14.0    340.0      75.0  ultra  2025.0   \n",
       "3     1000 2018-08-01     14.0    408.0      81.0  ultra  2043.0   \n",
       "4     1000 2018-09-01     15.0    466.0      57.0  ultra  1971.0   \n",
       "\n",
       "   messages_included  minutes_included  rub_monthly_fee  rub_per_gb  \\\n",
       "0             1000.0            3000.0           1950.0       150.0   \n",
       "1             1000.0            3000.0           1950.0       150.0   \n",
       "2             1000.0            3000.0           1950.0       150.0   \n",
       "3             1000.0            3000.0           1950.0       150.0   \n",
       "4             1000.0            3000.0           1950.0       150.0   \n",
       "\n",
       "   rub_per_message  rub_per_minute  gb_included       city  \n",
       "0              1.0             1.0         30.0  Краснодар  \n",
       "1              1.0             1.0         30.0  Краснодар  \n",
       "2              1.0             1.0         30.0  Краснодар  \n",
       "3              1.0             1.0         30.0  Краснодар  \n",
       "4              1.0             1.0         30.0  Краснодар  "
      ]
     },
     "execution_count": 47,
     "metadata": {},
     "output_type": "execute_result"
    }
   ],
   "source": [
    "user_city = users[['user_id', 'city']]\n",
    "data = pd.concat([ultra, smart])\n",
    "data = data.merge(user_city, on='user_id')\n",
    "data.head()"
   ]
  },
  {
   "cell_type": "code",
   "execution_count": 48,
   "metadata": {},
   "outputs": [],
   "source": [
    "msc = data.query('city==\"Москва\"')\n",
    "reg = data.query('city!=\"Москва\"')\n",
    "msc_ultra_income = msc.pivot_table(index='user_id', values='income', aggfunc='sum').reset_index()\n",
    "reg_ultra_income = reg.pivot_table(index='user_id', values='income', aggfunc='sum').reset_index()"
   ]
  },
  {
   "cell_type": "code",
   "execution_count": 49,
   "metadata": {},
   "outputs": [
    {
     "data": {
      "text/plain": [
       "<AxesSubplot:xlabel='income', ylabel='Density'>"
      ]
     },
     "execution_count": 49,
     "metadata": {},
     "output_type": "execute_result"
    },
    {
     "data": {
      "image/png": "[encoded data removed]",
      "text/plain": [
       "<Figure size 432x288 with 1 Axes>"
      ]
     },
     "metadata": {
      "needs_background": "light"
     },
     "output_type": "display_data"
    }
   ],
   "source": [
    "#проверка нормальности распределения\n",
    "sns.distplot(msc_ultra_income['income'])\n",
    "sns.distplot(reg_ultra_income['income'])"
   ]
  },
  {
   "cell_type": "code",
   "execution_count": 50,
   "metadata": {},
   "outputs": [
    {
     "data": {
      "image/png": "[encoded data removed]",
      "text/plain": [
       "<Figure size 864x576 with 2 Axes>"
      ]
     },
     "metadata": {
      "needs_background": "light"
     },
     "output_type": "display_data"
    }
   ],
   "source": [
    "#проверка с помощью qq-plot \n",
    "plt.figure(figsize=(12,8))\n",
    "plt.subplot(2,2,1)\n",
    "st.probplot(msc_ultra_income['income'], dist=\"norm\", plot=plt)\n",
    "plt.subplot(2,2,2)\n",
    "st.probplot(reg_ultra_income['income'], dist=\"norm\", plot=plt)\n",
    "plt.show()"
   ]
  },
  {
   "cell_type": "markdown",
   "metadata": {},
   "source": [
    "Проведём непараметрический тест:"
   ]
  },
  {
   "cell_type": "code",
   "execution_count": 51,
   "metadata": {},
   "outputs": [
    {
     "name": "stdout",
     "output_type": "stream",
     "text": [
      "p-значение:  0.8091759792112039\n",
      "Не получилось отвергнуть нулевую гипотезу\n"
     ]
    }
   ],
   "source": [
    "results = st.mannwhitneyu(msc_ultra_income['income'], reg_ultra_income['income'], alternative='two-sided')\n",
    "print('p-значение: ', results.pvalue)\n",
    "\n",
    "if (results.pvalue < alpha):\n",
    "    print(\"Отвергаем нулевую гипотезу\")\n",
    "else:\n",
    "    print(\"Не получилось отвергнуть нулевую гипотезу\")"
   ]
  },
  {
   "cell_type": "markdown",
   "metadata": {},
   "source": [
    "##  Общий вывод\n",
    "При заданном уровне значимости на основе проведённых тестов есть основания отвергнуть две гипотезы: что средние выручки пользователей тарифов \"Ультра\" и \"Смарт\" одинаковы; что средние выручки пользователей из Москвы и из других регионов одинаковы. "
   ]
  }
 ],
 "metadata": {
  "ExecuteTimeLog": [
   {
    "duration": 54,
    "start_time": "2022-05-28T14:31:24.475Z"
   },
   {
    "duration": 8,
    "start_time": "2022-05-28T14:31:27.840Z"
   },
   {
    "duration": 1532,
    "start_time": "2022-05-28T14:31:33.785Z"
   },
   {
    "duration": 60,
    "start_time": "2022-05-28T14:31:35.532Z"
   },
   {
    "duration": 1018,
    "start_time": "2022-05-28T14:31:58.022Z"
   },
   {
    "duration": 582,
    "start_time": "2022-05-28T14:32:19.420Z"
   },
   {
    "duration": 9,
    "start_time": "2022-05-28T14:32:23.564Z"
   },
   {
    "duration": 17,
    "start_time": "2022-05-28T14:32:36.837Z"
   },
   {
    "duration": 30,
    "start_time": "2022-05-28T14:32:57.830Z"
   },
   {
    "duration": 7,
    "start_time": "2022-05-28T14:35:10.734Z"
   },
   {
    "duration": 12,
    "start_time": "2022-05-28T14:35:29.097Z"
   },
   {
    "duration": 6,
    "start_time": "2022-05-28T14:36:39.824Z"
   },
   {
    "duration": 8,
    "start_time": "2022-05-28T14:41:02.328Z"
   },
   {
    "duration": 3,
    "start_time": "2022-05-28T14:41:06.257Z"
   },
   {
    "duration": 11,
    "start_time": "2022-05-28T14:41:08.991Z"
   },
   {
    "duration": 30,
    "start_time": "2022-05-28T14:46:06.945Z"
   },
   {
    "duration": 52,
    "start_time": "2022-05-28T14:54:19.727Z"
   },
   {
    "duration": 54,
    "start_time": "2022-05-28T14:54:28.194Z"
   },
   {
    "duration": 56,
    "start_time": "2022-05-28T14:55:43.277Z"
   },
   {
    "duration": 1141,
    "start_time": "2022-05-28T14:55:59.399Z"
   },
   {
    "duration": 1279,
    "start_time": "2022-05-28T14:56:00.542Z"
   },
   {
    "duration": 15,
    "start_time": "2022-05-28T14:56:01.823Z"
   },
   {
    "duration": 26,
    "start_time": "2022-05-28T14:56:01.841Z"
   },
   {
    "duration": 19,
    "start_time": "2022-05-28T14:56:01.870Z"
   },
   {
    "duration": 41,
    "start_time": "2022-05-28T14:56:01.891Z"
   },
   {
    "duration": 122,
    "start_time": "2022-05-28T14:56:01.934Z"
   },
   {
    "duration": 0,
    "start_time": "2022-05-28T14:56:02.058Z"
   },
   {
    "duration": 57,
    "start_time": "2022-05-28T15:03:34.777Z"
   },
   {
    "duration": 1161,
    "start_time": "2022-05-28T15:03:40.548Z"
   },
   {
    "duration": 1170,
    "start_time": "2022-05-28T15:03:42.489Z"
   },
   {
    "duration": 41,
    "start_time": "2022-05-28T15:03:46.116Z"
   },
   {
    "duration": 60,
    "start_time": "2022-05-28T15:03:56.586Z"
   },
   {
    "duration": 9,
    "start_time": "2022-05-28T15:14:45.753Z"
   },
   {
    "duration": 24,
    "start_time": "2022-05-28T15:15:32.493Z"
   },
   {
    "duration": 16,
    "start_time": "2022-05-28T15:15:51.643Z"
   },
   {
    "duration": 17,
    "start_time": "2022-05-28T15:16:35.630Z"
   },
   {
    "duration": 8,
    "start_time": "2022-05-28T15:31:44.206Z"
   },
   {
    "duration": 12,
    "start_time": "2022-05-28T15:32:09.761Z"
   },
   {
    "duration": 12,
    "start_time": "2022-05-28T15:47:47.838Z"
   },
   {
    "duration": 13,
    "start_time": "2022-05-28T15:48:03.805Z"
   },
   {
    "duration": 12,
    "start_time": "2022-05-28T15:50:14.233Z"
   },
   {
    "duration": 633,
    "start_time": "2022-05-28T15:50:34.440Z"
   },
   {
    "duration": 455,
    "start_time": "2022-05-28T15:50:38.385Z"
   },
   {
    "duration": 1039,
    "start_time": "2022-05-28T15:50:53.576Z"
   },
   {
    "duration": 425,
    "start_time": "2022-05-28T15:50:54.618Z"
   },
   {
    "duration": 14,
    "start_time": "2022-05-28T15:50:55.045Z"
   },
   {
    "duration": 8,
    "start_time": "2022-05-28T15:50:55.060Z"
   },
   {
    "duration": 8,
    "start_time": "2022-05-28T15:50:55.070Z"
   },
   {
    "duration": 71,
    "start_time": "2022-05-28T15:50:55.079Z"
   },
   {
    "duration": 23,
    "start_time": "2022-05-28T15:50:55.152Z"
   },
   {
    "duration": 3,
    "start_time": "2022-05-28T15:50:55.176Z"
   },
   {
    "duration": 56,
    "start_time": "2022-05-28T15:51:09.596Z"
   },
   {
    "duration": 1241,
    "start_time": "2022-05-28T15:51:15.843Z"
   },
   {
    "duration": 1285,
    "start_time": "2022-05-28T15:51:17.086Z"
   },
   {
    "duration": 16,
    "start_time": "2022-05-28T15:51:18.838Z"
   },
   {
    "duration": 10,
    "start_time": "2022-05-28T15:51:21.820Z"
   },
   {
    "duration": 6,
    "start_time": "2022-05-28T15:51:22.636Z"
   },
   {
    "duration": 79,
    "start_time": "2022-05-28T15:51:24.584Z"
   },
   {
    "duration": 54,
    "start_time": "2022-05-28T15:51:26.982Z"
   },
   {
    "duration": 31,
    "start_time": "2022-05-28T15:51:39.504Z"
   },
   {
    "duration": 24,
    "start_time": "2022-05-28T15:51:50.326Z"
   },
   {
    "duration": 22,
    "start_time": "2022-05-28T15:52:29.338Z"
   },
   {
    "duration": 33,
    "start_time": "2022-05-28T15:53:10.732Z"
   },
   {
    "duration": 11,
    "start_time": "2022-05-28T15:53:58.058Z"
   },
   {
    "duration": 11,
    "start_time": "2022-05-28T15:54:10.432Z"
   },
   {
    "duration": 11,
    "start_time": "2022-05-28T15:54:26.745Z"
   },
   {
    "duration": 1127,
    "start_time": "2022-05-28T15:54:54.222Z"
   },
   {
    "duration": 470,
    "start_time": "2022-05-28T15:54:55.351Z"
   },
   {
    "duration": 15,
    "start_time": "2022-05-28T15:54:55.823Z"
   },
   {
    "duration": 9,
    "start_time": "2022-05-28T15:54:55.840Z"
   },
   {
    "duration": 8,
    "start_time": "2022-05-28T15:54:55.851Z"
   },
   {
    "duration": 48,
    "start_time": "2022-05-28T15:54:55.860Z"
   },
   {
    "duration": 42,
    "start_time": "2022-05-28T15:54:55.909Z"
   },
   {
    "duration": 2,
    "start_time": "2022-05-28T15:54:55.952Z"
   },
   {
    "duration": 5,
    "start_time": "2022-05-28T15:54:55.956Z"
   },
   {
    "duration": 115,
    "start_time": "2022-05-28T15:55:01.076Z"
   },
   {
    "duration": 11,
    "start_time": "2022-05-28T15:55:23.410Z"
   },
   {
    "duration": 11,
    "start_time": "2022-05-28T15:55:30.418Z"
   },
   {
    "duration": 1102,
    "start_time": "2022-05-28T15:55:41.708Z"
   },
   {
    "duration": 436,
    "start_time": "2022-05-28T15:55:42.813Z"
   },
   {
    "duration": 14,
    "start_time": "2022-05-28T15:55:43.251Z"
   },
   {
    "duration": 9,
    "start_time": "2022-05-28T15:55:43.267Z"
   },
   {
    "duration": 5,
    "start_time": "2022-05-28T15:55:43.278Z"
   },
   {
    "duration": 64,
    "start_time": "2022-05-28T15:55:43.284Z"
   },
   {
    "duration": 21,
    "start_time": "2022-05-28T15:55:43.349Z"
   },
   {
    "duration": 3,
    "start_time": "2022-05-28T15:55:43.371Z"
   },
   {
    "duration": 6,
    "start_time": "2022-05-28T15:55:43.375Z"
   },
   {
    "duration": 142,
    "start_time": "2022-05-28T15:56:24.600Z"
   },
   {
    "duration": 15,
    "start_time": "2022-05-28T15:57:03.130Z"
   },
   {
    "duration": 479,
    "start_time": "2022-05-28T15:57:23.725Z"
   },
   {
    "duration": 9,
    "start_time": "2022-05-28T15:57:24.689Z"
   },
   {
    "duration": 6,
    "start_time": "2022-05-28T15:57:28.585Z"
   },
   {
    "duration": 50,
    "start_time": "2022-05-28T15:57:30.400Z"
   },
   {
    "duration": 16,
    "start_time": "2022-05-28T15:57:31.129Z"
   },
   {
    "duration": 31,
    "start_time": "2022-05-28T15:58:49.721Z"
   },
   {
    "duration": 14,
    "start_time": "2022-05-28T15:59:07.323Z"
   },
   {
    "duration": 20,
    "start_time": "2022-05-28T16:04:56.872Z"
   },
   {
    "duration": 22,
    "start_time": "2022-05-28T16:07:25.618Z"
   },
   {
    "duration": 20,
    "start_time": "2022-05-28T16:08:59.920Z"
   },
   {
    "duration": 41,
    "start_time": "2022-05-28T16:19:31.591Z"
   },
   {
    "duration": 10,
    "start_time": "2022-05-28T16:20:31.772Z"
   },
   {
    "duration": 30,
    "start_time": "2022-05-28T16:20:51.685Z"
   },
   {
    "duration": 49,
    "start_time": "2022-05-28T16:21:36.379Z"
   },
   {
    "duration": 117,
    "start_time": "2022-05-28T16:21:48.496Z"
   },
   {
    "duration": 49,
    "start_time": "2022-05-28T16:23:38.026Z"
   },
   {
    "duration": 61,
    "start_time": "2022-05-28T16:23:57.369Z"
   },
   {
    "duration": 9,
    "start_time": "2022-05-28T16:24:52.536Z"
   },
   {
    "duration": 12,
    "start_time": "2022-05-28T16:25:03.740Z"
   },
   {
    "duration": 38,
    "start_time": "2022-05-28T16:27:57.104Z"
   },
   {
    "duration": 53,
    "start_time": "2022-05-28T16:28:15.916Z"
   },
   {
    "duration": 491,
    "start_time": "2022-05-28T16:28:26.521Z"
   },
   {
    "duration": 5,
    "start_time": "2022-05-28T16:30:23.779Z"
   },
   {
    "duration": 1124,
    "start_time": "2022-05-28T16:31:21.020Z"
   },
   {
    "duration": 456,
    "start_time": "2022-05-28T16:31:22.146Z"
   },
   {
    "duration": 14,
    "start_time": "2022-05-28T16:31:22.603Z"
   },
   {
    "duration": 9,
    "start_time": "2022-05-28T16:31:22.619Z"
   },
   {
    "duration": 8,
    "start_time": "2022-05-28T16:31:22.629Z"
   },
   {
    "duration": 46,
    "start_time": "2022-05-28T16:31:22.639Z"
   },
   {
    "duration": 36,
    "start_time": "2022-05-28T16:31:22.687Z"
   },
   {
    "duration": 130,
    "start_time": "2022-05-28T16:31:22.725Z"
   },
   {
    "duration": 0,
    "start_time": "2022-05-28T16:31:22.857Z"
   },
   {
    "duration": 0,
    "start_time": "2022-05-28T16:31:22.858Z"
   },
   {
    "duration": 0,
    "start_time": "2022-05-28T16:31:22.859Z"
   },
   {
    "duration": 0,
    "start_time": "2022-05-28T16:31:22.860Z"
   },
   {
    "duration": 91,
    "start_time": "2022-05-28T16:31:39.247Z"
   },
   {
    "duration": 5,
    "start_time": "2022-05-28T16:31:43.496Z"
   },
   {
    "duration": 66,
    "start_time": "2022-05-28T16:31:48.467Z"
   },
   {
    "duration": 3,
    "start_time": "2022-05-28T16:35:24.591Z"
   },
   {
    "duration": 11,
    "start_time": "2022-05-28T16:35:36.841Z"
   },
   {
    "duration": 10,
    "start_time": "2022-05-28T16:35:45.402Z"
   },
   {
    "duration": 10,
    "start_time": "2022-05-28T16:36:06.667Z"
   },
   {
    "duration": 18,
    "start_time": "2022-05-28T16:36:11.098Z"
   },
   {
    "duration": 10,
    "start_time": "2022-05-28T16:36:13.103Z"
   },
   {
    "duration": 1057,
    "start_time": "2022-05-28T16:36:42.091Z"
   },
   {
    "duration": 439,
    "start_time": "2022-05-28T16:36:43.151Z"
   },
   {
    "duration": 13,
    "start_time": "2022-05-28T16:36:43.591Z"
   },
   {
    "duration": 8,
    "start_time": "2022-05-28T16:36:43.606Z"
   },
   {
    "duration": 7,
    "start_time": "2022-05-28T16:36:43.616Z"
   },
   {
    "duration": 43,
    "start_time": "2022-05-28T16:36:43.624Z"
   },
   {
    "duration": 35,
    "start_time": "2022-05-28T16:36:43.669Z"
   },
   {
    "duration": 10,
    "start_time": "2022-05-28T16:36:43.705Z"
   },
   {
    "duration": 110,
    "start_time": "2022-05-28T16:36:43.716Z"
   },
   {
    "duration": 3,
    "start_time": "2022-05-28T16:36:43.828Z"
   },
   {
    "duration": 12,
    "start_time": "2022-05-28T16:36:43.832Z"
   },
   {
    "duration": 62,
    "start_time": "2022-05-28T16:36:43.846Z"
   },
   {
    "duration": 634,
    "start_time": "2022-05-28T16:39:25.193Z"
   },
   {
    "duration": 40,
    "start_time": "2022-05-28T16:44:40.565Z"
   },
   {
    "duration": 6,
    "start_time": "2022-05-28T16:46:19.933Z"
   },
   {
    "duration": 11,
    "start_time": "2022-05-28T16:46:51.627Z"
   },
   {
    "duration": 12,
    "start_time": "2022-05-28T16:47:30.525Z"
   },
   {
    "duration": 11,
    "start_time": "2022-05-28T16:51:17.684Z"
   },
   {
    "duration": 410,
    "start_time": "2022-05-28T16:53:51.147Z"
   },
   {
    "duration": 13,
    "start_time": "2022-05-28T17:02:23.163Z"
   },
   {
    "duration": 61,
    "start_time": "2022-05-28T17:15:02.676Z"
   },
   {
    "duration": 528,
    "start_time": "2022-05-28T17:17:26.044Z"
   },
   {
    "duration": 498,
    "start_time": "2022-05-28T17:17:39.496Z"
   },
   {
    "duration": 44,
    "start_time": "2022-05-28T17:20:04.405Z"
   },
   {
    "duration": 24,
    "start_time": "2022-05-28T17:20:27.818Z"
   },
   {
    "duration": 43,
    "start_time": "2022-05-28T17:21:51.626Z"
   },
   {
    "duration": 481,
    "start_time": "2022-05-28T17:22:00.316Z"
   },
   {
    "duration": 9,
    "start_time": "2022-05-28T17:22:41.678Z"
   },
   {
    "duration": 6,
    "start_time": "2022-05-28T17:22:44.886Z"
   },
   {
    "duration": 487,
    "start_time": "2022-05-28T17:24:24.779Z"
   },
   {
    "duration": 580,
    "start_time": "2022-05-28T17:24:47.818Z"
   },
   {
    "duration": 1159,
    "start_time": "2022-05-28T17:24:56.768Z"
   },
   {
    "duration": 477,
    "start_time": "2022-05-28T17:24:57.929Z"
   },
   {
    "duration": 13,
    "start_time": "2022-05-28T17:24:58.407Z"
   },
   {
    "duration": 8,
    "start_time": "2022-05-28T17:24:58.423Z"
   },
   {
    "duration": 11,
    "start_time": "2022-05-28T17:24:58.433Z"
   },
   {
    "duration": 51,
    "start_time": "2022-05-28T17:24:58.446Z"
   },
   {
    "duration": 35,
    "start_time": "2022-05-28T17:24:58.499Z"
   },
   {
    "duration": 52,
    "start_time": "2022-05-28T17:24:58.542Z"
   },
   {
    "duration": 65,
    "start_time": "2022-05-28T17:24:58.595Z"
   },
   {
    "duration": 81,
    "start_time": "2022-05-28T17:24:58.662Z"
   },
   {
    "duration": 3,
    "start_time": "2022-05-28T17:24:58.745Z"
   },
   {
    "duration": 12,
    "start_time": "2022-05-28T17:24:58.750Z"
   },
   {
    "duration": 79,
    "start_time": "2022-05-28T17:24:58.764Z"
   },
   {
    "duration": 12,
    "start_time": "2022-05-28T17:24:58.845Z"
   },
   {
    "duration": 144,
    "start_time": "2022-05-28T17:25:01.934Z"
   },
   {
    "duration": 566,
    "start_time": "2022-05-28T17:25:59.205Z"
   },
   {
    "duration": 10,
    "start_time": "2022-05-28T17:26:32.100Z"
   },
   {
    "duration": 444,
    "start_time": "2022-05-28T17:27:13.360Z"
   },
   {
    "duration": 10,
    "start_time": "2022-05-28T17:27:19.732Z"
   },
   {
    "duration": 2133,
    "start_time": "2022-05-28T17:30:48.971Z"
   },
   {
    "duration": 2124,
    "start_time": "2022-05-28T17:32:26.485Z"
   },
   {
    "duration": 114,
    "start_time": "2022-05-28T17:34:05.644Z"
   },
   {
    "duration": 451,
    "start_time": "2022-05-28T17:34:13.240Z"
   },
   {
    "duration": 58,
    "start_time": "2022-05-28T17:34:17.512Z"
   },
   {
    "duration": 2385,
    "start_time": "2022-05-28T17:37:39.784Z"
   },
   {
    "duration": 47,
    "start_time": "2022-05-28T17:38:10.919Z"
   },
   {
    "duration": 4,
    "start_time": "2022-05-28T17:38:41.193Z"
   },
   {
    "duration": 17,
    "start_time": "2022-05-28T17:38:47.956Z"
   },
   {
    "duration": 1197,
    "start_time": "2022-05-28T17:39:05.924Z"
   },
   {
    "duration": 467,
    "start_time": "2022-05-28T17:39:07.124Z"
   },
   {
    "duration": 13,
    "start_time": "2022-05-28T17:39:07.593Z"
   },
   {
    "duration": 10,
    "start_time": "2022-05-28T17:39:07.608Z"
   },
   {
    "duration": 10,
    "start_time": "2022-05-28T17:39:07.619Z"
   },
   {
    "duration": 49,
    "start_time": "2022-05-28T17:39:07.630Z"
   },
   {
    "duration": 38,
    "start_time": "2022-05-28T17:39:07.680Z"
   },
   {
    "duration": 59,
    "start_time": "2022-05-28T17:39:07.719Z"
   },
   {
    "duration": 2407,
    "start_time": "2022-05-28T17:39:07.779Z"
   },
   {
    "duration": 37,
    "start_time": "2022-05-28T17:39:10.189Z"
   },
   {
    "duration": 15,
    "start_time": "2022-05-28T17:39:10.228Z"
   },
   {
    "duration": 68,
    "start_time": "2022-05-28T17:39:10.245Z"
   },
   {
    "duration": 28,
    "start_time": "2022-05-28T17:39:10.314Z"
   },
   {
    "duration": 7,
    "start_time": "2022-05-28T17:39:14.870Z"
   },
   {
    "duration": 7,
    "start_time": "2022-05-28T17:39:20.391Z"
   },
   {
    "duration": 18,
    "start_time": "2022-05-28T17:39:29.805Z"
   },
   {
    "duration": 4,
    "start_time": "2022-05-28T17:39:55.261Z"
   },
   {
    "duration": 232,
    "start_time": "2022-05-28T17:40:15.926Z"
   },
   {
    "duration": 13,
    "start_time": "2022-05-28T17:40:22.677Z"
   },
   {
    "duration": 19,
    "start_time": "2022-05-28T17:40:46.109Z"
   },
   {
    "duration": 106,
    "start_time": "2022-05-28T17:44:29.041Z"
   },
   {
    "duration": 20,
    "start_time": "2022-05-28T17:44:58.395Z"
   },
   {
    "duration": 4,
    "start_time": "2022-05-28T17:46:27.170Z"
   },
   {
    "duration": 11,
    "start_time": "2022-05-28T17:46:37.113Z"
   },
   {
    "duration": 19,
    "start_time": "2022-05-28T17:48:41.254Z"
   },
   {
    "duration": 6,
    "start_time": "2022-05-28T18:14:33.471Z"
   },
   {
    "duration": 16,
    "start_time": "2022-05-28T18:15:14.753Z"
   },
   {
    "duration": 12,
    "start_time": "2022-05-28T18:18:32.598Z"
   },
   {
    "duration": 13,
    "start_time": "2022-05-28T18:18:42.341Z"
   },
   {
    "duration": 13,
    "start_time": "2022-05-28T18:20:01.778Z"
   },
   {
    "duration": 294,
    "start_time": "2022-05-28T18:26:38.083Z"
   },
   {
    "duration": 12,
    "start_time": "2022-05-28T18:27:02.802Z"
   },
   {
    "duration": 11,
    "start_time": "2022-05-28T18:27:28.278Z"
   },
   {
    "duration": 629,
    "start_time": "2022-05-28T18:27:49.713Z"
   },
   {
    "duration": 9,
    "start_time": "2022-05-28T18:28:52.260Z"
   },
   {
    "duration": 10,
    "start_time": "2022-05-28T18:29:06.922Z"
   },
   {
    "duration": 20,
    "start_time": "2022-05-28T18:29:41.484Z"
   },
   {
    "duration": 642,
    "start_time": "2022-05-28T18:44:49.985Z"
   },
   {
    "duration": 26,
    "start_time": "2022-05-28T18:45:16.888Z"
   },
   {
    "duration": 425,
    "start_time": "2022-05-28T18:45:21.040Z"
   },
   {
    "duration": 1188,
    "start_time": "2022-05-28T18:45:40.839Z"
   },
   {
    "duration": 427,
    "start_time": "2022-05-28T18:45:42.029Z"
   },
   {
    "duration": 15,
    "start_time": "2022-05-28T18:45:42.458Z"
   },
   {
    "duration": 20,
    "start_time": "2022-05-28T18:45:42.475Z"
   },
   {
    "duration": 10,
    "start_time": "2022-05-28T18:45:42.497Z"
   },
   {
    "duration": 47,
    "start_time": "2022-05-28T18:45:42.509Z"
   },
   {
    "duration": 32,
    "start_time": "2022-05-28T18:45:42.558Z"
   },
   {
    "duration": 59,
    "start_time": "2022-05-28T18:45:42.592Z"
   },
   {
    "duration": 2185,
    "start_time": "2022-05-28T18:45:42.652Z"
   },
   {
    "duration": 38,
    "start_time": "2022-05-28T18:45:44.841Z"
   },
   {
    "duration": 6,
    "start_time": "2022-05-28T18:45:44.881Z"
   },
   {
    "duration": 96,
    "start_time": "2022-05-28T18:45:44.888Z"
   },
   {
    "duration": 17,
    "start_time": "2022-05-28T18:45:44.985Z"
   },
   {
    "duration": 44,
    "start_time": "2022-05-28T18:45:45.005Z"
   },
   {
    "duration": 147,
    "start_time": "2022-05-28T18:45:45.050Z"
   },
   {
    "duration": 18,
    "start_time": "2022-05-28T18:46:17.365Z"
   },
   {
    "duration": 27,
    "start_time": "2022-05-28T18:46:22.375Z"
   },
   {
    "duration": 480,
    "start_time": "2022-05-28T18:47:19.788Z"
   },
   {
    "duration": 11,
    "start_time": "2022-05-28T18:47:46.658Z"
   },
   {
    "duration": 34,
    "start_time": "2022-05-28T18:48:09.090Z"
   },
   {
    "duration": 41,
    "start_time": "2022-05-28T18:49:42.946Z"
   },
   {
    "duration": 28,
    "start_time": "2022-05-28T18:51:14.073Z"
   },
   {
    "duration": 40,
    "start_time": "2022-05-28T18:51:19.566Z"
   },
   {
    "duration": 48,
    "start_time": "2022-05-28T18:51:34.502Z"
   },
   {
    "duration": 28,
    "start_time": "2022-05-28T18:52:03.447Z"
   },
   {
    "duration": 29,
    "start_time": "2022-05-28T18:52:08.921Z"
   },
   {
    "duration": 14,
    "start_time": "2022-05-28T18:53:40.724Z"
   },
   {
    "duration": 14,
    "start_time": "2022-05-28T18:54:05.587Z"
   },
   {
    "duration": 19,
    "start_time": "2022-05-28T18:54:26.047Z"
   },
   {
    "duration": 21,
    "start_time": "2022-05-28T18:54:29.949Z"
   },
   {
    "duration": 44,
    "start_time": "2022-05-28T18:54:39.830Z"
   },
   {
    "duration": 30,
    "start_time": "2022-05-28T18:55:09.941Z"
   },
   {
    "duration": 9,
    "start_time": "2022-05-28T18:55:36.742Z"
   },
   {
    "duration": 22,
    "start_time": "2022-05-28T18:55:52.382Z"
   },
   {
    "duration": 32,
    "start_time": "2022-05-28T18:56:04.471Z"
   },
   {
    "duration": 13,
    "start_time": "2022-05-28T18:56:16.066Z"
   },
   {
    "duration": 20,
    "start_time": "2022-05-28T18:56:23.301Z"
   },
   {
    "duration": 28,
    "start_time": "2022-05-28T18:56:33.682Z"
   },
   {
    "duration": 32,
    "start_time": "2022-05-28T18:56:40.424Z"
   },
   {
    "duration": 29,
    "start_time": "2022-05-28T18:56:49.703Z"
   },
   {
    "duration": 10,
    "start_time": "2022-05-28T18:58:32.498Z"
   },
   {
    "duration": 20,
    "start_time": "2022-05-28T18:59:09.372Z"
   },
   {
    "duration": 25,
    "start_time": "2022-05-28T18:59:13.126Z"
   },
   {
    "duration": 8,
    "start_time": "2022-05-28T18:59:24.987Z"
   },
   {
    "duration": 29,
    "start_time": "2022-05-28T18:59:28.857Z"
   },
   {
    "duration": 26,
    "start_time": "2022-05-28T18:59:38.166Z"
   },
   {
    "duration": 23,
    "start_time": "2022-05-28T18:59:43.719Z"
   },
   {
    "duration": 64,
    "start_time": "2022-05-28T19:01:24.866Z"
   },
   {
    "duration": 57,
    "start_time": "2022-05-28T19:01:35.313Z"
   },
   {
    "duration": 38,
    "start_time": "2022-05-28T19:02:16.797Z"
   },
   {
    "duration": 13,
    "start_time": "2022-05-28T19:06:32.275Z"
   },
   {
    "duration": 21,
    "start_time": "2022-05-28T19:09:06.423Z"
   },
   {
    "duration": 36,
    "start_time": "2022-05-28T20:21:08.633Z"
   },
   {
    "duration": 20,
    "start_time": "2022-05-28T20:21:26.420Z"
   },
   {
    "duration": 20,
    "start_time": "2022-05-28T20:22:03.658Z"
   },
   {
    "duration": 10,
    "start_time": "2022-05-28T20:22:25.342Z"
   },
   {
    "duration": 21,
    "start_time": "2022-05-28T20:46:28.307Z"
   },
   {
    "duration": 14,
    "start_time": "2022-05-28T20:46:45.608Z"
   },
   {
    "duration": 25,
    "start_time": "2022-05-28T20:54:41.661Z"
   },
   {
    "duration": 15,
    "start_time": "2022-05-28T20:55:24.692Z"
   },
   {
    "duration": 16,
    "start_time": "2022-05-28T20:55:35.462Z"
   },
   {
    "duration": 15,
    "start_time": "2022-05-28T20:55:39.487Z"
   },
   {
    "duration": 26,
    "start_time": "2022-05-28T21:13:07.678Z"
   },
   {
    "duration": 7,
    "start_time": "2022-05-28T21:13:16.104Z"
   },
   {
    "duration": 12,
    "start_time": "2022-05-28T21:17:23.427Z"
   },
   {
    "duration": 11,
    "start_time": "2022-05-28T21:17:43.481Z"
   },
   {
    "duration": 9,
    "start_time": "2022-05-28T21:19:02.033Z"
   },
   {
    "duration": 52,
    "start_time": "2022-05-28T21:21:47.172Z"
   },
   {
    "duration": 7,
    "start_time": "2022-05-28T21:22:21.661Z"
   },
   {
    "duration": 9,
    "start_time": "2022-05-28T21:22:25.841Z"
   },
   {
    "duration": 13,
    "start_time": "2022-05-28T21:22:32.176Z"
   },
   {
    "duration": 14,
    "start_time": "2022-05-28T21:22:52.499Z"
   },
   {
    "duration": 581,
    "start_time": "2022-05-28T21:23:47.197Z"
   },
   {
    "duration": 30,
    "start_time": "2022-05-28T21:23:58.040Z"
   },
   {
    "duration": 608,
    "start_time": "2022-05-28T21:24:04.806Z"
   },
   {
    "duration": 44,
    "start_time": "2022-05-28T21:27:04.363Z"
   },
   {
    "duration": 72,
    "start_time": "2022-05-28T21:27:15.381Z"
   },
   {
    "duration": 11,
    "start_time": "2022-05-28T21:30:21.293Z"
   },
   {
    "duration": 44,
    "start_time": "2022-05-28T21:31:37.425Z"
   },
   {
    "duration": 41,
    "start_time": "2022-05-28T21:31:52.601Z"
   },
   {
    "duration": 68,
    "start_time": "2022-05-28T21:35:14.957Z"
   },
   {
    "duration": 84,
    "start_time": "2022-05-28T21:35:34.516Z"
   },
   {
    "duration": 132,
    "start_time": "2022-05-28T21:39:27.789Z"
   },
   {
    "duration": 116,
    "start_time": "2022-05-28T21:39:51.337Z"
   },
   {
    "duration": 28,
    "start_time": "2022-05-28T21:41:26.638Z"
   },
   {
    "duration": 14,
    "start_time": "2022-05-28T21:41:36.420Z"
   },
   {
    "duration": 62,
    "start_time": "2022-05-29T07:35:05.957Z"
   },
   {
    "duration": 10,
    "start_time": "2022-05-29T07:35:27.957Z"
   },
   {
    "duration": 8,
    "start_time": "2022-05-29T07:35:36.698Z"
   },
   {
    "duration": 1204,
    "start_time": "2022-05-29T07:35:45.323Z"
   },
   {
    "duration": 966,
    "start_time": "2022-05-29T07:35:46.529Z"
   },
   {
    "duration": 12,
    "start_time": "2022-05-29T07:35:47.497Z"
   },
   {
    "duration": 8,
    "start_time": "2022-05-29T07:35:47.512Z"
   },
   {
    "duration": 5,
    "start_time": "2022-05-29T07:35:47.522Z"
   },
   {
    "duration": 43,
    "start_time": "2022-05-29T07:35:47.528Z"
   },
   {
    "duration": 35,
    "start_time": "2022-05-29T07:35:47.573Z"
   },
   {
    "duration": 57,
    "start_time": "2022-05-29T07:35:47.610Z"
   },
   {
    "duration": 2418,
    "start_time": "2022-05-29T07:35:47.669Z"
   },
   {
    "duration": 37,
    "start_time": "2022-05-29T07:35:50.090Z"
   },
   {
    "duration": 85,
    "start_time": "2022-05-29T07:35:50.129Z"
   },
   {
    "duration": 7,
    "start_time": "2022-05-29T07:35:50.216Z"
   },
   {
    "duration": 16,
    "start_time": "2022-05-29T07:35:50.225Z"
   },
   {
    "duration": 29,
    "start_time": "2022-05-29T07:35:50.243Z"
   },
   {
    "duration": 118,
    "start_time": "2022-05-29T07:35:50.274Z"
   },
   {
    "duration": 0,
    "start_time": "2022-05-29T07:35:50.393Z"
   },
   {
    "duration": 0,
    "start_time": "2022-05-29T07:35:50.395Z"
   },
   {
    "duration": 0,
    "start_time": "2022-05-29T07:35:50.396Z"
   },
   {
    "duration": 12,
    "start_time": "2022-05-29T07:36:40.885Z"
   },
   {
    "duration": 43,
    "start_time": "2022-05-29T07:37:14.173Z"
   },
   {
    "duration": 58,
    "start_time": "2022-05-29T07:37:29.175Z"
   },
   {
    "duration": 10,
    "start_time": "2022-05-29T07:54:21.217Z"
   },
   {
    "duration": 9,
    "start_time": "2022-05-29T07:54:31.210Z"
   },
   {
    "duration": 10,
    "start_time": "2022-05-29T07:54:48.069Z"
   },
   {
    "duration": 9,
    "start_time": "2022-05-29T07:54:57.326Z"
   },
   {
    "duration": 12,
    "start_time": "2022-05-29T07:55:03.725Z"
   },
   {
    "duration": 1098,
    "start_time": "2022-05-29T07:55:14.946Z"
   },
   {
    "duration": 439,
    "start_time": "2022-05-29T07:55:16.046Z"
   },
   {
    "duration": 13,
    "start_time": "2022-05-29T07:55:16.486Z"
   },
   {
    "duration": 8,
    "start_time": "2022-05-29T07:55:16.501Z"
   },
   {
    "duration": 7,
    "start_time": "2022-05-29T07:55:16.511Z"
   },
   {
    "duration": 47,
    "start_time": "2022-05-29T07:55:16.519Z"
   },
   {
    "duration": 35,
    "start_time": "2022-05-29T07:55:16.568Z"
   },
   {
    "duration": 61,
    "start_time": "2022-05-29T07:55:16.604Z"
   },
   {
    "duration": 2403,
    "start_time": "2022-05-29T07:55:16.667Z"
   },
   {
    "duration": 49,
    "start_time": "2022-05-29T07:55:19.073Z"
   },
   {
    "duration": 90,
    "start_time": "2022-05-29T07:55:19.124Z"
   },
   {
    "duration": 7,
    "start_time": "2022-05-29T07:55:19.216Z"
   },
   {
    "duration": 19,
    "start_time": "2022-05-29T07:55:19.225Z"
   },
   {
    "duration": 23,
    "start_time": "2022-05-29T07:55:19.246Z"
   },
   {
    "duration": 60,
    "start_time": "2022-05-29T07:55:19.271Z"
   },
   {
    "duration": 33,
    "start_time": "2022-05-29T07:55:19.333Z"
   },
   {
    "duration": 140,
    "start_time": "2022-05-29T07:55:19.368Z"
   },
   {
    "duration": 177,
    "start_time": "2022-05-29T07:55:19.510Z"
   },
   {
    "duration": 144,
    "start_time": "2022-05-29T07:59:40.615Z"
   },
   {
    "duration": 234,
    "start_time": "2022-05-29T08:00:00.584Z"
   },
   {
    "duration": 134,
    "start_time": "2022-05-29T08:01:45.391Z"
   },
   {
    "duration": 140,
    "start_time": "2022-05-29T08:02:27.472Z"
   },
   {
    "duration": 152,
    "start_time": "2022-05-29T08:04:14.336Z"
   },
   {
    "duration": 60,
    "start_time": "2022-05-29T14:58:27.014Z"
   },
   {
    "duration": 1321,
    "start_time": "2022-05-29T14:58:37.416Z"
   },
   {
    "duration": 1537,
    "start_time": "2022-05-29T14:58:38.739Z"
   },
   {
    "duration": 14,
    "start_time": "2022-05-29T14:58:40.278Z"
   },
   {
    "duration": 7,
    "start_time": "2022-05-29T14:58:40.294Z"
   },
   {
    "duration": 8,
    "start_time": "2022-05-29T14:58:40.303Z"
   },
   {
    "duration": 42,
    "start_time": "2022-05-29T14:58:40.312Z"
   },
   {
    "duration": 64,
    "start_time": "2022-05-29T14:58:40.356Z"
   },
   {
    "duration": 61,
    "start_time": "2022-05-29T14:58:40.422Z"
   },
   {
    "duration": 2158,
    "start_time": "2022-05-29T14:58:40.485Z"
   },
   {
    "duration": 46,
    "start_time": "2022-05-29T14:58:42.646Z"
   },
   {
    "duration": 82,
    "start_time": "2022-05-29T14:58:42.693Z"
   },
   {
    "duration": 10,
    "start_time": "2022-05-29T14:58:42.777Z"
   },
   {
    "duration": 27,
    "start_time": "2022-05-29T14:58:42.789Z"
   },
   {
    "duration": 26,
    "start_time": "2022-05-29T14:58:42.818Z"
   },
   {
    "duration": 95,
    "start_time": "2022-05-29T14:58:42.846Z"
   },
   {
    "duration": 17,
    "start_time": "2022-05-29T14:58:42.943Z"
   },
   {
    "duration": 144,
    "start_time": "2022-05-29T14:58:42.976Z"
   },
   {
    "duration": 188,
    "start_time": "2022-05-29T14:58:43.122Z"
   },
   {
    "duration": 164,
    "start_time": "2022-05-29T14:58:43.312Z"
   },
   {
    "duration": 10,
    "start_time": "2022-05-29T14:58:43.489Z"
   },
   {
    "duration": 237,
    "start_time": "2022-05-29T14:59:01.336Z"
   },
   {
    "duration": 135,
    "start_time": "2022-05-29T14:59:27.703Z"
   },
   {
    "duration": 140,
    "start_time": "2022-05-29T15:01:19.244Z"
   },
   {
    "duration": 150,
    "start_time": "2022-05-29T15:05:36.415Z"
   },
   {
    "duration": 146,
    "start_time": "2022-05-29T15:06:26.792Z"
   },
   {
    "duration": 148,
    "start_time": "2022-05-29T15:07:39.149Z"
   },
   {
    "duration": 59,
    "start_time": "2022-05-29T19:55:08.112Z"
   },
   {
    "duration": 1292,
    "start_time": "2022-05-29T19:55:27.151Z"
   },
   {
    "duration": 1132,
    "start_time": "2022-05-29T19:55:28.446Z"
   },
   {
    "duration": 14,
    "start_time": "2022-05-29T19:55:29.580Z"
   },
   {
    "duration": 8,
    "start_time": "2022-05-29T19:55:29.596Z"
   },
   {
    "duration": 9,
    "start_time": "2022-05-29T19:55:29.606Z"
   },
   {
    "duration": 44,
    "start_time": "2022-05-29T19:55:29.617Z"
   },
   {
    "duration": 35,
    "start_time": "2022-05-29T19:55:29.663Z"
   },
   {
    "duration": 60,
    "start_time": "2022-05-29T19:55:29.700Z"
   },
   {
    "duration": 2406,
    "start_time": "2022-05-29T19:55:29.761Z"
   },
   {
    "duration": 37,
    "start_time": "2022-05-29T19:55:32.170Z"
   },
   {
    "duration": 86,
    "start_time": "2022-05-29T19:55:32.209Z"
   },
   {
    "duration": 8,
    "start_time": "2022-05-29T19:55:32.296Z"
   },
   {
    "duration": 14,
    "start_time": "2022-05-29T19:55:32.305Z"
   },
   {
    "duration": 13,
    "start_time": "2022-05-29T19:55:32.341Z"
   },
   {
    "duration": 56,
    "start_time": "2022-05-29T19:55:32.356Z"
   },
   {
    "duration": 31,
    "start_time": "2022-05-29T19:55:32.413Z"
   },
   {
    "duration": 136,
    "start_time": "2022-05-29T19:55:32.446Z"
   },
   {
    "duration": 187,
    "start_time": "2022-05-29T19:55:32.584Z"
   },
   {
    "duration": 156,
    "start_time": "2022-05-29T19:55:32.772Z"
   },
   {
    "duration": 252,
    "start_time": "2022-05-29T19:55:32.929Z"
   },
   {
    "duration": 165,
    "start_time": "2022-05-29T19:55:33.183Z"
   },
   {
    "duration": 155,
    "start_time": "2022-05-29T19:55:33.349Z"
   },
   {
    "duration": 170,
    "start_time": "2022-05-29T19:55:33.506Z"
   },
   {
    "duration": 3,
    "start_time": "2022-05-29T19:55:33.678Z"
   },
   {
    "duration": 0,
    "start_time": "2022-05-29T19:55:33.799Z"
   },
   {
    "duration": 10,
    "start_time": "2022-05-29T19:55:39.924Z"
   },
   {
    "duration": 208,
    "start_time": "2022-05-29T19:56:40.761Z"
   },
   {
    "duration": 38,
    "start_time": "2022-05-29T19:56:48.451Z"
   },
   {
    "duration": 247,
    "start_time": "2022-05-29T19:57:14.937Z"
   },
   {
    "duration": 293,
    "start_time": "2022-05-29T19:59:29.990Z"
   },
   {
    "duration": 253,
    "start_time": "2022-05-29T19:59:54.433Z"
   },
   {
    "duration": 5,
    "start_time": "2022-05-29T20:12:31.137Z"
   },
   {
    "duration": 4,
    "start_time": "2022-05-29T20:15:04.093Z"
   },
   {
    "duration": 12,
    "start_time": "2022-05-29T20:24:50.972Z"
   },
   {
    "duration": 14,
    "start_time": "2022-05-29T20:25:01.135Z"
   },
   {
    "duration": 19,
    "start_time": "2022-05-29T20:25:46.788Z"
   },
   {
    "duration": 203,
    "start_time": "2022-05-29T20:26:25.230Z"
   },
   {
    "duration": 312,
    "start_time": "2022-05-29T20:26:47.095Z"
   },
   {
    "duration": 6,
    "start_time": "2022-05-29T20:36:50.396Z"
   },
   {
    "duration": 4,
    "start_time": "2022-05-29T20:37:07.037Z"
   },
   {
    "duration": 17,
    "start_time": "2022-05-29T20:43:05.124Z"
   },
   {
    "duration": 34,
    "start_time": "2022-05-29T20:44:17.748Z"
   },
   {
    "duration": 21,
    "start_time": "2022-05-29T20:44:55.950Z"
   },
   {
    "duration": 32,
    "start_time": "2022-05-29T20:45:29.146Z"
   },
   {
    "duration": 30,
    "start_time": "2022-05-29T20:45:46.928Z"
   },
   {
    "duration": 1233,
    "start_time": "2022-05-29T20:46:08.326Z"
   },
   {
    "duration": 530,
    "start_time": "2022-05-29T20:46:09.561Z"
   },
   {
    "duration": 13,
    "start_time": "2022-05-29T20:46:10.093Z"
   },
   {
    "duration": 9,
    "start_time": "2022-05-29T20:46:10.108Z"
   },
   {
    "duration": 12,
    "start_time": "2022-05-29T20:46:10.119Z"
   },
   {
    "duration": 51,
    "start_time": "2022-05-29T20:46:10.133Z"
   },
   {
    "duration": 35,
    "start_time": "2022-05-29T20:46:10.186Z"
   },
   {
    "duration": 55,
    "start_time": "2022-05-29T20:46:10.222Z"
   },
   {
    "duration": 2163,
    "start_time": "2022-05-29T20:46:10.279Z"
   },
   {
    "duration": 37,
    "start_time": "2022-05-29T20:46:12.444Z"
   },
   {
    "duration": 83,
    "start_time": "2022-05-29T20:46:12.482Z"
   },
   {
    "duration": 7,
    "start_time": "2022-05-29T20:46:12.566Z"
   },
   {
    "duration": 23,
    "start_time": "2022-05-29T20:46:12.575Z"
   },
   {
    "duration": 45,
    "start_time": "2022-05-29T20:46:12.600Z"
   },
   {
    "duration": 54,
    "start_time": "2022-05-29T20:46:12.647Z"
   },
   {
    "duration": 39,
    "start_time": "2022-05-29T20:46:12.703Z"
   },
   {
    "duration": 114,
    "start_time": "2022-05-29T20:46:12.744Z"
   },
   {
    "duration": 240,
    "start_time": "2022-05-29T20:46:12.860Z"
   },
   {
    "duration": 166,
    "start_time": "2022-05-29T20:46:13.102Z"
   },
   {
    "duration": 157,
    "start_time": "2022-05-29T20:46:13.269Z"
   },
   {
    "duration": 153,
    "start_time": "2022-05-29T20:46:13.428Z"
   },
   {
    "duration": 151,
    "start_time": "2022-05-29T20:46:13.583Z"
   },
   {
    "duration": 166,
    "start_time": "2022-05-29T20:46:13.741Z"
   },
   {
    "duration": 16,
    "start_time": "2022-05-29T20:46:13.909Z"
   },
   {
    "duration": 3,
    "start_time": "2022-05-29T20:46:13.940Z"
   },
   {
    "duration": 201,
    "start_time": "2022-05-29T20:46:13.945Z"
   },
   {
    "duration": 236,
    "start_time": "2022-05-29T20:46:14.148Z"
   },
   {
    "duration": 6,
    "start_time": "2022-05-29T20:46:14.387Z"
   },
   {
    "duration": 14,
    "start_time": "2022-05-29T20:46:14.395Z"
   },
   {
    "duration": 35,
    "start_time": "2022-05-29T20:46:14.411Z"
   },
   {
    "duration": 140,
    "start_time": "2022-05-29T20:46:25.083Z"
   },
   {
    "duration": 24,
    "start_time": "2022-05-29T20:46:47.438Z"
   },
   {
    "duration": 34,
    "start_time": "2022-05-29T20:47:11.805Z"
   },
   {
    "duration": 19,
    "start_time": "2022-05-29T20:47:13.610Z"
   },
   {
    "duration": 25,
    "start_time": "2022-05-29T20:47:32.021Z"
   },
   {
    "duration": 32,
    "start_time": "2022-05-29T20:50:39.318Z"
   },
   {
    "duration": 20,
    "start_time": "2022-05-29T20:51:15.934Z"
   },
   {
    "duration": 1058,
    "start_time": "2022-05-29T21:04:23.087Z"
   },
   {
    "duration": 404,
    "start_time": "2022-05-29T21:04:24.147Z"
   },
   {
    "duration": 14,
    "start_time": "2022-05-29T21:04:24.552Z"
   },
   {
    "duration": 9,
    "start_time": "2022-05-29T21:04:24.569Z"
   },
   {
    "duration": 8,
    "start_time": "2022-05-29T21:04:24.580Z"
   },
   {
    "duration": 65,
    "start_time": "2022-05-29T21:04:24.589Z"
   },
   {
    "duration": 35,
    "start_time": "2022-05-29T21:04:24.655Z"
   },
   {
    "duration": 68,
    "start_time": "2022-05-29T21:04:24.691Z"
   },
   {
    "duration": 2137,
    "start_time": "2022-05-29T21:04:24.761Z"
   },
   {
    "duration": 57,
    "start_time": "2022-05-29T21:04:26.901Z"
   },
   {
    "duration": 87,
    "start_time": "2022-05-29T21:04:26.960Z"
   },
   {
    "duration": 8,
    "start_time": "2022-05-29T21:04:27.048Z"
   },
   {
    "duration": 22,
    "start_time": "2022-05-29T21:04:27.058Z"
   },
   {
    "duration": 13,
    "start_time": "2022-05-29T21:04:27.082Z"
   },
   {
    "duration": 80,
    "start_time": "2022-05-29T21:04:27.097Z"
   },
   {
    "duration": 12,
    "start_time": "2022-05-29T21:04:27.178Z"
   },
   {
    "duration": 130,
    "start_time": "2022-05-29T21:04:27.192Z"
   },
   {
    "duration": 246,
    "start_time": "2022-05-29T21:04:27.323Z"
   },
   {
    "duration": 148,
    "start_time": "2022-05-29T21:04:27.570Z"
   },
   {
    "duration": 157,
    "start_time": "2022-05-29T21:04:27.720Z"
   },
   {
    "duration": 165,
    "start_time": "2022-05-29T21:04:27.879Z"
   },
   {
    "duration": 137,
    "start_time": "2022-05-29T21:04:28.046Z"
   },
   {
    "duration": 157,
    "start_time": "2022-05-29T21:04:28.184Z"
   },
   {
    "duration": 15,
    "start_time": "2022-05-29T21:04:28.343Z"
   },
   {
    "duration": 3,
    "start_time": "2022-05-29T21:04:28.359Z"
   },
   {
    "duration": 193,
    "start_time": "2022-05-29T21:04:28.363Z"
   },
   {
    "duration": 222,
    "start_time": "2022-05-29T21:04:28.558Z"
   },
   {
    "duration": 6,
    "start_time": "2022-05-29T21:04:28.784Z"
   },
   {
    "duration": 6,
    "start_time": "2022-05-29T21:04:28.792Z"
   },
   {
    "duration": 41,
    "start_time": "2022-05-29T21:04:28.800Z"
   },
   {
    "duration": 8,
    "start_time": "2022-05-29T21:04:44.560Z"
   },
   {
    "duration": 15,
    "start_time": "2022-05-29T21:04:52.752Z"
   },
   {
    "duration": 101,
    "start_time": "2022-05-29T21:08:08.023Z"
   },
   {
    "duration": 17,
    "start_time": "2022-05-29T21:08:19.952Z"
   },
   {
    "duration": 12,
    "start_time": "2022-05-29T21:14:05.989Z"
   },
   {
    "duration": 48,
    "start_time": "2022-05-29T21:14:17.649Z"
   },
   {
    "duration": 30,
    "start_time": "2022-05-29T21:17:04.160Z"
   },
   {
    "duration": 8,
    "start_time": "2022-05-29T21:18:31.737Z"
   },
   {
    "duration": 24,
    "start_time": "2022-05-29T21:18:45.092Z"
   },
   {
    "duration": 18,
    "start_time": "2022-05-29T21:19:07.853Z"
   },
   {
    "duration": 198,
    "start_time": "2022-05-29T21:19:10.312Z"
   },
   {
    "duration": 98,
    "start_time": "2022-05-29T21:20:32.884Z"
   },
   {
    "duration": 20,
    "start_time": "2022-05-29T21:20:40.762Z"
   },
   {
    "duration": 162,
    "start_time": "2022-05-29T21:20:42.861Z"
   },
   {
    "duration": 301,
    "start_time": "2022-05-29T21:20:47.181Z"
   },
   {
    "duration": 6,
    "start_time": "2022-05-29T21:22:56.181Z"
   },
   {
    "duration": 54,
    "start_time": "2022-05-31T07:45:34.080Z"
   },
   {
    "duration": 1427,
    "start_time": "2022-05-31T07:45:43.897Z"
   },
   {
    "duration": 981,
    "start_time": "2022-05-31T07:45:45.326Z"
   },
   {
    "duration": 14,
    "start_time": "2022-05-31T07:45:46.308Z"
   },
   {
    "duration": 12,
    "start_time": "2022-05-31T07:45:46.325Z"
   },
   {
    "duration": 8,
    "start_time": "2022-05-31T07:45:46.338Z"
   },
   {
    "duration": 54,
    "start_time": "2022-05-31T07:45:46.348Z"
   },
   {
    "duration": 40,
    "start_time": "2022-05-31T07:45:46.403Z"
   },
   {
    "duration": 48,
    "start_time": "2022-05-31T07:45:46.445Z"
   },
   {
    "duration": 2234,
    "start_time": "2022-05-31T07:45:46.495Z"
   },
   {
    "duration": 37,
    "start_time": "2022-05-31T07:45:48.732Z"
   },
   {
    "duration": 84,
    "start_time": "2022-05-31T07:45:48.771Z"
   },
   {
    "duration": 7,
    "start_time": "2022-05-31T07:45:48.856Z"
   },
   {
    "duration": 18,
    "start_time": "2022-05-31T07:45:48.864Z"
   },
   {
    "duration": 14,
    "start_time": "2022-05-31T07:45:48.883Z"
   },
   {
    "duration": 78,
    "start_time": "2022-05-31T07:45:48.899Z"
   },
   {
    "duration": 16,
    "start_time": "2022-05-31T07:45:48.979Z"
   },
   {
    "duration": 147,
    "start_time": "2022-05-31T07:45:48.997Z"
   },
   {
    "duration": 255,
    "start_time": "2022-05-31T07:45:49.146Z"
   },
   {
    "duration": 157,
    "start_time": "2022-05-31T07:45:49.403Z"
   },
   {
    "duration": 155,
    "start_time": "2022-05-31T07:45:49.561Z"
   },
   {
    "duration": 175,
    "start_time": "2022-05-31T07:45:49.718Z"
   },
   {
    "duration": 163,
    "start_time": "2022-05-31T07:45:49.895Z"
   },
   {
    "duration": 189,
    "start_time": "2022-05-31T07:45:50.060Z"
   },
   {
    "duration": 19,
    "start_time": "2022-05-31T07:45:50.252Z"
   },
   {
    "duration": 3,
    "start_time": "2022-05-31T07:45:50.273Z"
   },
   {
    "duration": 229,
    "start_time": "2022-05-31T07:45:50.278Z"
   },
   {
    "duration": 260,
    "start_time": "2022-05-31T07:45:50.509Z"
   },
   {
    "duration": 7,
    "start_time": "2022-05-31T07:45:50.774Z"
   },
   {
    "duration": 35,
    "start_time": "2022-05-31T07:45:50.783Z"
   },
   {
    "duration": 43,
    "start_time": "2022-05-31T07:45:50.820Z"
   },
   {
    "duration": 143,
    "start_time": "2022-05-31T07:45:50.866Z"
   },
   {
    "duration": 0,
    "start_time": "2022-05-31T07:45:51.012Z"
   },
   {
    "duration": 0,
    "start_time": "2022-05-31T07:45:51.014Z"
   },
   {
    "duration": 0,
    "start_time": "2022-05-31T07:45:51.015Z"
   },
   {
    "duration": 12,
    "start_time": "2022-05-31T07:46:12.507Z"
   },
   {
    "duration": 10,
    "start_time": "2022-05-31T07:46:36.879Z"
   },
   {
    "duration": 16,
    "start_time": "2022-05-31T07:46:43.888Z"
   },
   {
    "duration": 22,
    "start_time": "2022-05-31T07:47:07.909Z"
   },
   {
    "duration": 195,
    "start_time": "2022-05-31T07:47:12.495Z"
   },
   {
    "duration": 204,
    "start_time": "2022-05-31T07:47:20.675Z"
   },
   {
    "duration": 6,
    "start_time": "2022-05-31T07:47:26.061Z"
   },
   {
    "duration": 1312,
    "start_time": "2022-05-31T08:37:23.754Z"
   },
   {
    "duration": 950,
    "start_time": "2022-05-31T08:37:25.069Z"
   },
   {
    "duration": 14,
    "start_time": "2022-05-31T08:37:26.021Z"
   },
   {
    "duration": 12,
    "start_time": "2022-05-31T08:37:26.037Z"
   },
   {
    "duration": 10,
    "start_time": "2022-05-31T08:37:26.050Z"
   },
   {
    "duration": 42,
    "start_time": "2022-05-31T08:37:26.062Z"
   },
   {
    "duration": 41,
    "start_time": "2022-05-31T08:37:26.105Z"
   },
   {
    "duration": 43,
    "start_time": "2022-05-31T08:37:26.148Z"
   },
   {
    "duration": 2130,
    "start_time": "2022-05-31T08:37:26.192Z"
   },
   {
    "duration": 36,
    "start_time": "2022-05-31T08:37:28.326Z"
   },
   {
    "duration": 78,
    "start_time": "2022-05-31T08:37:28.363Z"
   },
   {
    "duration": 8,
    "start_time": "2022-05-31T08:37:28.442Z"
   },
   {
    "duration": 24,
    "start_time": "2022-05-31T08:37:28.451Z"
   },
   {
    "duration": 13,
    "start_time": "2022-05-31T08:37:28.477Z"
   },
   {
    "duration": 68,
    "start_time": "2022-05-31T08:37:28.491Z"
   },
   {
    "duration": 12,
    "start_time": "2022-05-31T08:37:28.561Z"
   },
   {
    "duration": 121,
    "start_time": "2022-05-31T08:37:28.575Z"
   },
   {
    "duration": 264,
    "start_time": "2022-05-31T08:37:28.697Z"
   },
   {
    "duration": 173,
    "start_time": "2022-05-31T08:37:28.963Z"
   },
   {
    "duration": 162,
    "start_time": "2022-05-31T08:37:29.138Z"
   },
   {
    "duration": 178,
    "start_time": "2022-05-31T08:37:29.301Z"
   },
   {
    "duration": 141,
    "start_time": "2022-05-31T08:37:29.480Z"
   },
   {
    "duration": 162,
    "start_time": "2022-05-31T08:37:29.622Z"
   },
   {
    "duration": 15,
    "start_time": "2022-05-31T08:37:29.786Z"
   },
   {
    "duration": 9,
    "start_time": "2022-05-31T08:37:29.803Z"
   },
   {
    "duration": 186,
    "start_time": "2022-05-31T08:37:29.813Z"
   },
   {
    "duration": 237,
    "start_time": "2022-05-31T08:37:30.001Z"
   },
   {
    "duration": 6,
    "start_time": "2022-05-31T08:37:30.241Z"
   },
   {
    "duration": 50,
    "start_time": "2022-05-31T08:37:30.248Z"
   },
   {
    "duration": 50,
    "start_time": "2022-05-31T08:37:30.300Z"
   },
   {
    "duration": 20,
    "start_time": "2022-05-31T08:37:30.352Z"
   },
   {
    "duration": 212,
    "start_time": "2022-05-31T08:37:30.374Z"
   },
   {
    "duration": 216,
    "start_time": "2022-05-31T08:37:30.588Z"
   },
   {
    "duration": 6,
    "start_time": "2022-05-31T08:37:30.806Z"
   },
   {
    "duration": 1163,
    "start_time": "2022-05-31T08:44:35.198Z"
   },
   {
    "duration": 410,
    "start_time": "2022-05-31T08:44:36.363Z"
   },
   {
    "duration": 13,
    "start_time": "2022-05-31T08:44:36.775Z"
   },
   {
    "duration": 9,
    "start_time": "2022-05-31T08:44:36.789Z"
   },
   {
    "duration": 10,
    "start_time": "2022-05-31T08:44:36.799Z"
   },
   {
    "duration": 50,
    "start_time": "2022-05-31T08:44:36.810Z"
   },
   {
    "duration": 37,
    "start_time": "2022-05-31T08:44:36.861Z"
   },
   {
    "duration": 60,
    "start_time": "2022-05-31T08:44:36.899Z"
   },
   {
    "duration": 2287,
    "start_time": "2022-05-31T08:44:36.961Z"
   },
   {
    "duration": 35,
    "start_time": "2022-05-31T08:44:39.251Z"
   },
   {
    "duration": 80,
    "start_time": "2022-05-31T08:44:39.288Z"
   },
   {
    "duration": 9,
    "start_time": "2022-05-31T08:44:39.369Z"
   },
   {
    "duration": 26,
    "start_time": "2022-05-31T08:44:39.380Z"
   },
   {
    "duration": 24,
    "start_time": "2022-05-31T08:44:39.408Z"
   },
   {
    "duration": 58,
    "start_time": "2022-05-31T08:44:39.434Z"
   },
   {
    "duration": 19,
    "start_time": "2022-05-31T08:44:39.494Z"
   },
   {
    "duration": 128,
    "start_time": "2022-05-31T08:44:39.514Z"
   },
   {
    "duration": 246,
    "start_time": "2022-05-31T08:44:39.643Z"
   },
   {
    "duration": 148,
    "start_time": "2022-05-31T08:44:39.891Z"
   },
   {
    "duration": 148,
    "start_time": "2022-05-31T08:44:40.040Z"
   },
   {
    "duration": 145,
    "start_time": "2022-05-31T08:44:40.190Z"
   },
   {
    "duration": 133,
    "start_time": "2022-05-31T08:44:40.336Z"
   },
   {
    "duration": 156,
    "start_time": "2022-05-31T08:44:40.470Z"
   },
   {
    "duration": 17,
    "start_time": "2022-05-31T08:44:40.628Z"
   },
   {
    "duration": 4,
    "start_time": "2022-05-31T08:44:40.647Z"
   },
   {
    "duration": 209,
    "start_time": "2022-05-31T08:44:40.652Z"
   },
   {
    "duration": 228,
    "start_time": "2022-05-31T08:44:40.862Z"
   },
   {
    "duration": 10,
    "start_time": "2022-05-31T08:44:41.094Z"
   },
   {
    "duration": 28,
    "start_time": "2022-05-31T08:44:41.105Z"
   },
   {
    "duration": 46,
    "start_time": "2022-05-31T08:44:41.135Z"
   },
   {
    "duration": 20,
    "start_time": "2022-05-31T08:44:41.182Z"
   },
   {
    "duration": 196,
    "start_time": "2022-05-31T08:44:41.204Z"
   },
   {
    "duration": 207,
    "start_time": "2022-05-31T08:44:41.402Z"
   },
   {
    "duration": 7,
    "start_time": "2022-05-31T08:44:41.610Z"
   },
   {
    "duration": 1289,
    "start_time": "2022-05-31T09:04:01.406Z"
   },
   {
    "duration": 481,
    "start_time": "2022-05-31T09:04:02.697Z"
   },
   {
    "duration": 12,
    "start_time": "2022-05-31T09:04:03.180Z"
   },
   {
    "duration": 29,
    "start_time": "2022-05-31T09:04:03.194Z"
   },
   {
    "duration": 8,
    "start_time": "2022-05-31T09:04:03.225Z"
   },
   {
    "duration": 61,
    "start_time": "2022-05-31T09:04:03.236Z"
   },
   {
    "duration": 39,
    "start_time": "2022-05-31T09:04:03.299Z"
   },
   {
    "duration": 59,
    "start_time": "2022-05-31T09:04:03.339Z"
   },
   {
    "duration": 2469,
    "start_time": "2022-05-31T09:04:03.399Z"
   },
   {
    "duration": 38,
    "start_time": "2022-05-31T09:04:05.871Z"
   },
   {
    "duration": 84,
    "start_time": "2022-05-31T09:04:05.911Z"
   },
   {
    "duration": 8,
    "start_time": "2022-05-31T09:04:05.998Z"
   },
   {
    "duration": 47,
    "start_time": "2022-05-31T09:04:06.008Z"
   },
   {
    "duration": 18,
    "start_time": "2022-05-31T09:04:06.057Z"
   },
   {
    "duration": 63,
    "start_time": "2022-05-31T09:04:06.077Z"
   },
   {
    "duration": 14,
    "start_time": "2022-05-31T09:04:06.142Z"
   },
   {
    "duration": 175,
    "start_time": "2022-05-31T09:04:06.158Z"
   },
   {
    "duration": 287,
    "start_time": "2022-05-31T09:04:06.335Z"
   },
   {
    "duration": 166,
    "start_time": "2022-05-31T09:04:06.626Z"
   },
   {
    "duration": 171,
    "start_time": "2022-05-31T09:04:06.794Z"
   },
   {
    "duration": 186,
    "start_time": "2022-05-31T09:04:06.967Z"
   },
   {
    "duration": 156,
    "start_time": "2022-05-31T09:04:07.155Z"
   },
   {
    "duration": 186,
    "start_time": "2022-05-31T09:04:07.312Z"
   },
   {
    "duration": 34,
    "start_time": "2022-05-31T09:04:07.500Z"
   },
   {
    "duration": 3,
    "start_time": "2022-05-31T09:04:07.537Z"
   },
   {
    "duration": 236,
    "start_time": "2022-05-31T09:04:07.543Z"
   },
   {
    "duration": 272,
    "start_time": "2022-05-31T09:04:07.781Z"
   },
   {
    "duration": 8,
    "start_time": "2022-05-31T09:04:08.057Z"
   },
   {
    "duration": 13,
    "start_time": "2022-05-31T09:04:08.067Z"
   },
   {
    "duration": 46,
    "start_time": "2022-05-31T09:04:08.082Z"
   },
   {
    "duration": 32,
    "start_time": "2022-05-31T09:04:08.130Z"
   },
   {
    "duration": 263,
    "start_time": "2022-05-31T09:04:08.165Z"
   },
   {
    "duration": 240,
    "start_time": "2022-05-31T09:04:08.430Z"
   },
   {
    "duration": 7,
    "start_time": "2022-05-31T09:04:08.671Z"
   },
   {
    "duration": 1252,
    "start_time": "2022-05-31T09:09:20.209Z"
   },
   {
    "duration": 449,
    "start_time": "2022-05-31T09:09:21.463Z"
   },
   {
    "duration": 17,
    "start_time": "2022-05-31T09:09:21.913Z"
   },
   {
    "duration": 12,
    "start_time": "2022-05-31T09:09:21.933Z"
   },
   {
    "duration": 11,
    "start_time": "2022-05-31T09:09:21.946Z"
   },
   {
    "duration": 51,
    "start_time": "2022-05-31T09:09:21.959Z"
   },
   {
    "duration": 46,
    "start_time": "2022-05-31T09:09:22.026Z"
   },
   {
    "duration": 82,
    "start_time": "2022-05-31T09:09:22.074Z"
   },
   {
    "duration": 2912,
    "start_time": "2022-05-31T09:09:22.158Z"
   },
   {
    "duration": 35,
    "start_time": "2022-05-31T09:09:25.073Z"
   },
   {
    "duration": 76,
    "start_time": "2022-05-31T09:09:25.109Z"
   },
   {
    "duration": 8,
    "start_time": "2022-05-31T09:09:25.186Z"
   },
   {
    "duration": 39,
    "start_time": "2022-05-31T09:09:25.196Z"
   },
   {
    "duration": 20,
    "start_time": "2022-05-31T09:09:25.237Z"
   },
   {
    "duration": 98,
    "start_time": "2022-05-31T09:09:25.259Z"
   },
   {
    "duration": 19,
    "start_time": "2022-05-31T09:09:25.359Z"
   },
   {
    "duration": 345,
    "start_time": "2022-05-31T09:09:25.427Z"
   },
   {
    "duration": 375,
    "start_time": "2022-05-31T09:09:25.827Z"
   },
   {
    "duration": 234,
    "start_time": "2022-05-31T09:09:26.204Z"
   },
   {
    "duration": 174,
    "start_time": "2022-05-31T09:09:26.440Z"
   },
   {
    "duration": 165,
    "start_time": "2022-05-31T09:09:26.616Z"
   },
   {
    "duration": 191,
    "start_time": "2022-05-31T09:09:26.784Z"
   },
   {
    "duration": 182,
    "start_time": "2022-05-31T09:09:26.978Z"
   },
   {
    "duration": 19,
    "start_time": "2022-05-31T09:09:27.162Z"
   },
   {
    "duration": 3,
    "start_time": "2022-05-31T09:09:27.183Z"
   },
   {
    "duration": 262,
    "start_time": "2022-05-31T09:09:27.188Z"
   },
   {
    "duration": 267,
    "start_time": "2022-05-31T09:09:27.453Z"
   },
   {
    "duration": 9,
    "start_time": "2022-05-31T09:09:27.728Z"
   },
   {
    "duration": 21,
    "start_time": "2022-05-31T09:09:27.740Z"
   },
   {
    "duration": 28,
    "start_time": "2022-05-31T09:09:27.763Z"
   },
   {
    "duration": 36,
    "start_time": "2022-05-31T09:09:27.793Z"
   },
   {
    "duration": 270,
    "start_time": "2022-05-31T09:09:27.831Z"
   },
   {
    "duration": 262,
    "start_time": "2022-05-31T09:09:28.103Z"
   },
   {
    "duration": 7,
    "start_time": "2022-05-31T09:09:28.367Z"
   },
   {
    "duration": 5,
    "start_time": "2022-05-31T09:39:37.160Z"
   },
   {
    "duration": 5,
    "start_time": "2022-05-31T09:40:47.972Z"
   },
   {
    "duration": 7,
    "start_time": "2022-05-31T09:40:54.696Z"
   },
   {
    "duration": 1125,
    "start_time": "2022-05-31T09:41:15.137Z"
   },
   {
    "duration": 430,
    "start_time": "2022-05-31T09:41:16.265Z"
   },
   {
    "duration": 15,
    "start_time": "2022-05-31T09:41:16.696Z"
   },
   {
    "duration": 8,
    "start_time": "2022-05-31T09:41:16.713Z"
   },
   {
    "duration": 11,
    "start_time": "2022-05-31T09:41:16.722Z"
   },
   {
    "duration": 44,
    "start_time": "2022-05-31T09:41:16.734Z"
   },
   {
    "duration": 33,
    "start_time": "2022-05-31T09:41:16.780Z"
   },
   {
    "duration": 52,
    "start_time": "2022-05-31T09:41:16.815Z"
   },
   {
    "duration": 2123,
    "start_time": "2022-05-31T09:41:16.869Z"
   },
   {
    "duration": 46,
    "start_time": "2022-05-31T09:41:18.996Z"
   },
   {
    "duration": 66,
    "start_time": "2022-05-31T09:41:19.044Z"
   },
   {
    "duration": 20,
    "start_time": "2022-05-31T09:41:19.112Z"
   },
   {
    "duration": 22,
    "start_time": "2022-05-31T09:41:19.134Z"
   },
   {
    "duration": 14,
    "start_time": "2022-05-31T09:41:19.157Z"
   },
   {
    "duration": 128,
    "start_time": "2022-05-31T09:41:19.172Z"
   },
   {
    "duration": 0,
    "start_time": "2022-05-31T09:41:19.302Z"
   },
   {
    "duration": 0,
    "start_time": "2022-05-31T09:41:19.304Z"
   },
   {
    "duration": 0,
    "start_time": "2022-05-31T09:41:19.305Z"
   },
   {
    "duration": 0,
    "start_time": "2022-05-31T09:41:19.307Z"
   },
   {
    "duration": 0,
    "start_time": "2022-05-31T09:41:19.308Z"
   },
   {
    "duration": 0,
    "start_time": "2022-05-31T09:41:19.327Z"
   },
   {
    "duration": 0,
    "start_time": "2022-05-31T09:41:19.328Z"
   },
   {
    "duration": 0,
    "start_time": "2022-05-31T09:41:19.330Z"
   },
   {
    "duration": 0,
    "start_time": "2022-05-31T09:41:19.331Z"
   },
   {
    "duration": 0,
    "start_time": "2022-05-31T09:41:19.332Z"
   },
   {
    "duration": 0,
    "start_time": "2022-05-31T09:41:19.334Z"
   },
   {
    "duration": 0,
    "start_time": "2022-05-31T09:41:19.335Z"
   },
   {
    "duration": 0,
    "start_time": "2022-05-31T09:41:19.337Z"
   },
   {
    "duration": 0,
    "start_time": "2022-05-31T09:41:19.338Z"
   },
   {
    "duration": 0,
    "start_time": "2022-05-31T09:41:19.340Z"
   },
   {
    "duration": 0,
    "start_time": "2022-05-31T09:41:19.341Z"
   },
   {
    "duration": 0,
    "start_time": "2022-05-31T09:41:19.342Z"
   },
   {
    "duration": 0,
    "start_time": "2022-05-31T09:41:19.344Z"
   },
   {
    "duration": 0,
    "start_time": "2022-05-31T09:41:19.345Z"
   },
   {
    "duration": 0,
    "start_time": "2022-05-31T09:41:19.346Z"
   },
   {
    "duration": 0,
    "start_time": "2022-05-31T09:41:19.348Z"
   },
   {
    "duration": 1128,
    "start_time": "2022-05-31T09:41:54.539Z"
   },
   {
    "duration": 424,
    "start_time": "2022-05-31T09:41:55.669Z"
   },
   {
    "duration": 13,
    "start_time": "2022-05-31T09:41:56.095Z"
   },
   {
    "duration": 17,
    "start_time": "2022-05-31T09:41:56.109Z"
   },
   {
    "duration": 15,
    "start_time": "2022-05-31T09:41:56.128Z"
   },
   {
    "duration": 59,
    "start_time": "2022-05-31T09:41:56.144Z"
   },
   {
    "duration": 33,
    "start_time": "2022-05-31T09:41:56.205Z"
   },
   {
    "duration": 51,
    "start_time": "2022-05-31T09:41:56.240Z"
   },
   {
    "duration": 2181,
    "start_time": "2022-05-31T09:41:56.293Z"
   },
   {
    "duration": 39,
    "start_time": "2022-05-31T09:41:58.476Z"
   },
   {
    "duration": 109,
    "start_time": "2022-05-31T09:41:58.527Z"
   },
   {
    "duration": 7,
    "start_time": "2022-05-31T09:41:58.638Z"
   },
   {
    "duration": 21,
    "start_time": "2022-05-31T09:41:58.647Z"
   },
   {
    "duration": 16,
    "start_time": "2022-05-31T09:41:58.671Z"
   },
   {
    "duration": 4,
    "start_time": "2022-05-31T09:41:58.689Z"
   },
   {
    "duration": 91,
    "start_time": "2022-05-31T09:41:58.694Z"
   },
   {
    "duration": 14,
    "start_time": "2022-05-31T09:41:58.787Z"
   },
   {
    "duration": 124,
    "start_time": "2022-05-31T09:41:58.826Z"
   },
   {
    "duration": 262,
    "start_time": "2022-05-31T09:41:58.952Z"
   },
   {
    "duration": 155,
    "start_time": "2022-05-31T09:41:59.216Z"
   },
   {
    "duration": 164,
    "start_time": "2022-05-31T09:41:59.374Z"
   },
   {
    "duration": 152,
    "start_time": "2022-05-31T09:41:59.540Z"
   },
   {
    "duration": 151,
    "start_time": "2022-05-31T09:41:59.693Z"
   },
   {
    "duration": 171,
    "start_time": "2022-05-31T09:41:59.846Z"
   },
   {
    "duration": 21,
    "start_time": "2022-05-31T09:42:00.018Z"
   },
   {
    "duration": 9,
    "start_time": "2022-05-31T09:42:00.041Z"
   },
   {
    "duration": 209,
    "start_time": "2022-05-31T09:42:00.052Z"
   },
   {
    "duration": 240,
    "start_time": "2022-05-31T09:42:00.263Z"
   },
   {
    "duration": 6,
    "start_time": "2022-05-31T09:42:00.506Z"
   },
   {
    "duration": 15,
    "start_time": "2022-05-31T09:42:00.514Z"
   },
   {
    "duration": 54,
    "start_time": "2022-05-31T09:42:00.531Z"
   },
   {
    "duration": 33,
    "start_time": "2022-05-31T09:42:00.586Z"
   },
   {
    "duration": 209,
    "start_time": "2022-05-31T09:42:00.621Z"
   },
   {
    "duration": 226,
    "start_time": "2022-05-31T09:42:00.831Z"
   },
   {
    "duration": 7,
    "start_time": "2022-05-31T09:42:01.058Z"
   },
   {
    "duration": 6,
    "start_time": "2022-05-31T09:42:17.600Z"
   },
   {
    "duration": 5,
    "start_time": "2022-05-31T09:42:43.126Z"
   },
   {
    "duration": 1278,
    "start_time": "2022-05-31T09:43:58.191Z"
   },
   {
    "duration": 424,
    "start_time": "2022-05-31T09:43:59.471Z"
   },
   {
    "duration": 13,
    "start_time": "2022-05-31T09:43:59.897Z"
   },
   {
    "duration": 8,
    "start_time": "2022-05-31T09:43:59.912Z"
   },
   {
    "duration": 9,
    "start_time": "2022-05-31T09:43:59.922Z"
   },
   {
    "duration": 45,
    "start_time": "2022-05-31T09:43:59.932Z"
   },
   {
    "duration": 35,
    "start_time": "2022-05-31T09:43:59.978Z"
   },
   {
    "duration": 57,
    "start_time": "2022-05-31T09:44:00.015Z"
   },
   {
    "duration": 2216,
    "start_time": "2022-05-31T09:44:00.073Z"
   },
   {
    "duration": 42,
    "start_time": "2022-05-31T09:44:02.291Z"
   },
   {
    "duration": 66,
    "start_time": "2022-05-31T09:44:02.335Z"
   },
   {
    "duration": 25,
    "start_time": "2022-05-31T09:44:02.402Z"
   },
   {
    "duration": 20,
    "start_time": "2022-05-31T09:44:02.429Z"
   },
   {
    "duration": 15,
    "start_time": "2022-05-31T09:44:02.450Z"
   },
   {
    "duration": 18,
    "start_time": "2022-05-31T09:44:02.466Z"
   },
   {
    "duration": 122,
    "start_time": "2022-05-31T09:44:02.486Z"
   },
   {
    "duration": 0,
    "start_time": "2022-05-31T09:44:02.610Z"
   },
   {
    "duration": 0,
    "start_time": "2022-05-31T09:44:02.612Z"
   },
   {
    "duration": 0,
    "start_time": "2022-05-31T09:44:02.613Z"
   },
   {
    "duration": 0,
    "start_time": "2022-05-31T09:44:02.614Z"
   },
   {
    "duration": 0,
    "start_time": "2022-05-31T09:44:02.616Z"
   },
   {
    "duration": 0,
    "start_time": "2022-05-31T09:44:02.626Z"
   },
   {
    "duration": 0,
    "start_time": "2022-05-31T09:44:02.627Z"
   },
   {
    "duration": 0,
    "start_time": "2022-05-31T09:44:02.629Z"
   },
   {
    "duration": 0,
    "start_time": "2022-05-31T09:44:02.630Z"
   },
   {
    "duration": 0,
    "start_time": "2022-05-31T09:44:02.632Z"
   },
   {
    "duration": 0,
    "start_time": "2022-05-31T09:44:02.633Z"
   },
   {
    "duration": 0,
    "start_time": "2022-05-31T09:44:02.634Z"
   },
   {
    "duration": 0,
    "start_time": "2022-05-31T09:44:02.636Z"
   },
   {
    "duration": 0,
    "start_time": "2022-05-31T09:44:02.638Z"
   },
   {
    "duration": 0,
    "start_time": "2022-05-31T09:44:02.639Z"
   },
   {
    "duration": 0,
    "start_time": "2022-05-31T09:44:02.640Z"
   },
   {
    "duration": 0,
    "start_time": "2022-05-31T09:44:02.642Z"
   },
   {
    "duration": 0,
    "start_time": "2022-05-31T09:44:02.643Z"
   },
   {
    "duration": 0,
    "start_time": "2022-05-31T09:44:02.645Z"
   },
   {
    "duration": 0,
    "start_time": "2022-05-31T09:44:02.646Z"
   },
   {
    "duration": 0,
    "start_time": "2022-05-31T09:44:02.647Z"
   },
   {
    "duration": 1178,
    "start_time": "2022-05-31T09:44:28.496Z"
   },
   {
    "duration": 423,
    "start_time": "2022-05-31T09:44:29.676Z"
   },
   {
    "duration": 14,
    "start_time": "2022-05-31T09:44:30.101Z"
   },
   {
    "duration": 49,
    "start_time": "2022-05-31T09:44:30.117Z"
   },
   {
    "duration": 38,
    "start_time": "2022-05-31T09:44:30.167Z"
   },
   {
    "duration": 61,
    "start_time": "2022-05-31T09:44:30.207Z"
   },
   {
    "duration": 33,
    "start_time": "2022-05-31T09:44:30.270Z"
   },
   {
    "duration": 55,
    "start_time": "2022-05-31T09:44:30.305Z"
   },
   {
    "duration": 2174,
    "start_time": "2022-05-31T09:44:30.362Z"
   },
   {
    "duration": 35,
    "start_time": "2022-05-31T09:44:32.539Z"
   },
   {
    "duration": 81,
    "start_time": "2022-05-31T09:44:32.576Z"
   },
   {
    "duration": 8,
    "start_time": "2022-05-31T09:44:32.658Z"
   },
   {
    "duration": 17,
    "start_time": "2022-05-31T09:44:32.667Z"
   },
   {
    "duration": 13,
    "start_time": "2022-05-31T09:44:32.686Z"
   },
   {
    "duration": 26,
    "start_time": "2022-05-31T09:44:32.701Z"
   },
   {
    "duration": 141,
    "start_time": "2022-05-31T09:44:32.729Z"
   },
   {
    "duration": 0,
    "start_time": "2022-05-31T09:44:32.871Z"
   },
   {
    "duration": 0,
    "start_time": "2022-05-31T09:44:32.872Z"
   },
   {
    "duration": 0,
    "start_time": "2022-05-31T09:44:32.873Z"
   },
   {
    "duration": 0,
    "start_time": "2022-05-31T09:44:32.874Z"
   },
   {
    "duration": 0,
    "start_time": "2022-05-31T09:44:32.875Z"
   },
   {
    "duration": 0,
    "start_time": "2022-05-31T09:44:32.875Z"
   },
   {
    "duration": 0,
    "start_time": "2022-05-31T09:44:32.877Z"
   },
   {
    "duration": 0,
    "start_time": "2022-05-31T09:44:32.878Z"
   },
   {
    "duration": 0,
    "start_time": "2022-05-31T09:44:32.879Z"
   },
   {
    "duration": 0,
    "start_time": "2022-05-31T09:44:32.880Z"
   },
   {
    "duration": 0,
    "start_time": "2022-05-31T09:44:32.881Z"
   },
   {
    "duration": 0,
    "start_time": "2022-05-31T09:44:32.882Z"
   },
   {
    "duration": 0,
    "start_time": "2022-05-31T09:44:32.883Z"
   },
   {
    "duration": 0,
    "start_time": "2022-05-31T09:44:32.884Z"
   },
   {
    "duration": 0,
    "start_time": "2022-05-31T09:44:32.885Z"
   },
   {
    "duration": 0,
    "start_time": "2022-05-31T09:44:32.886Z"
   },
   {
    "duration": 0,
    "start_time": "2022-05-31T09:44:32.887Z"
   },
   {
    "duration": 0,
    "start_time": "2022-05-31T09:44:32.888Z"
   },
   {
    "duration": 0,
    "start_time": "2022-05-31T09:44:32.889Z"
   },
   {
    "duration": 0,
    "start_time": "2022-05-31T09:44:32.890Z"
   },
   {
    "duration": 0,
    "start_time": "2022-05-31T09:44:32.926Z"
   },
   {
    "duration": 1135,
    "start_time": "2022-05-31T09:45:37.763Z"
   },
   {
    "duration": 773,
    "start_time": "2022-05-31T09:45:38.900Z"
   },
   {
    "duration": 51,
    "start_time": "2022-05-31T09:45:39.675Z"
   },
   {
    "duration": 9,
    "start_time": "2022-05-31T09:45:39.729Z"
   },
   {
    "duration": 11,
    "start_time": "2022-05-31T09:45:39.739Z"
   },
   {
    "duration": 107,
    "start_time": "2022-05-31T09:45:39.752Z"
   },
   {
    "duration": 89,
    "start_time": "2022-05-31T09:45:39.861Z"
   },
   {
    "duration": 99,
    "start_time": "2022-05-31T09:45:39.952Z"
   },
   {
    "duration": 2622,
    "start_time": "2022-05-31T09:45:40.053Z"
   },
   {
    "duration": 36,
    "start_time": "2022-05-31T09:45:42.678Z"
   },
   {
    "duration": 80,
    "start_time": "2022-05-31T09:45:42.725Z"
   },
   {
    "duration": 7,
    "start_time": "2022-05-31T09:45:42.807Z"
   },
   {
    "duration": 18,
    "start_time": "2022-05-31T09:45:42.827Z"
   },
   {
    "duration": 19,
    "start_time": "2022-05-31T09:45:42.847Z"
   },
   {
    "duration": 14,
    "start_time": "2022-05-31T09:45:42.868Z"
   },
   {
    "duration": 132,
    "start_time": "2022-05-31T09:45:42.884Z"
   },
   {
    "duration": 0,
    "start_time": "2022-05-31T09:45:43.026Z"
   },
   {
    "duration": 0,
    "start_time": "2022-05-31T09:45:43.027Z"
   },
   {
    "duration": 0,
    "start_time": "2022-05-31T09:45:43.028Z"
   },
   {
    "duration": 0,
    "start_time": "2022-05-31T09:45:43.029Z"
   },
   {
    "duration": 0,
    "start_time": "2022-05-31T09:45:43.030Z"
   },
   {
    "duration": 0,
    "start_time": "2022-05-31T09:45:43.032Z"
   },
   {
    "duration": 0,
    "start_time": "2022-05-31T09:45:43.033Z"
   },
   {
    "duration": 0,
    "start_time": "2022-05-31T09:45:43.034Z"
   },
   {
    "duration": 0,
    "start_time": "2022-05-31T09:45:43.036Z"
   },
   {
    "duration": 1,
    "start_time": "2022-05-31T09:45:43.037Z"
   },
   {
    "duration": 0,
    "start_time": "2022-05-31T09:45:43.039Z"
   },
   {
    "duration": 0,
    "start_time": "2022-05-31T09:45:43.040Z"
   },
   {
    "duration": 0,
    "start_time": "2022-05-31T09:45:43.041Z"
   },
   {
    "duration": 0,
    "start_time": "2022-05-31T09:45:43.044Z"
   },
   {
    "duration": 0,
    "start_time": "2022-05-31T09:45:43.045Z"
   },
   {
    "duration": 0,
    "start_time": "2022-05-31T09:45:43.046Z"
   },
   {
    "duration": 0,
    "start_time": "2022-05-31T09:45:43.048Z"
   },
   {
    "duration": 0,
    "start_time": "2022-05-31T09:45:43.049Z"
   },
   {
    "duration": 0,
    "start_time": "2022-05-31T09:45:43.050Z"
   },
   {
    "duration": 0,
    "start_time": "2022-05-31T09:45:43.051Z"
   },
   {
    "duration": 0,
    "start_time": "2022-05-31T09:45:43.052Z"
   },
   {
    "duration": 1247,
    "start_time": "2022-05-31T09:46:11.626Z"
   },
   {
    "duration": 419,
    "start_time": "2022-05-31T09:46:12.875Z"
   },
   {
    "duration": 12,
    "start_time": "2022-05-31T09:46:13.296Z"
   },
   {
    "duration": 9,
    "start_time": "2022-05-31T09:46:13.310Z"
   },
   {
    "duration": 10,
    "start_time": "2022-05-31T09:46:13.320Z"
   },
   {
    "duration": 47,
    "start_time": "2022-05-31T09:46:13.332Z"
   },
   {
    "duration": 38,
    "start_time": "2022-05-31T09:46:13.381Z"
   },
   {
    "duration": 46,
    "start_time": "2022-05-31T09:46:13.426Z"
   },
   {
    "duration": 3105,
    "start_time": "2022-05-31T09:46:13.474Z"
   },
   {
    "duration": 45,
    "start_time": "2022-05-31T09:46:16.581Z"
   },
   {
    "duration": 66,
    "start_time": "2022-05-31T09:46:16.628Z"
   },
   {
    "duration": 8,
    "start_time": "2022-05-31T09:46:16.696Z"
   },
   {
    "duration": 21,
    "start_time": "2022-05-31T09:46:16.725Z"
   },
   {
    "duration": 15,
    "start_time": "2022-05-31T09:46:16.748Z"
   },
   {
    "duration": 7,
    "start_time": "2022-05-31T09:46:16.764Z"
   },
   {
    "duration": 69,
    "start_time": "2022-05-31T09:46:16.773Z"
   },
   {
    "duration": 14,
    "start_time": "2022-05-31T09:46:16.843Z"
   },
   {
    "duration": 118,
    "start_time": "2022-05-31T09:46:16.858Z"
   },
   {
    "duration": 5,
    "start_time": "2022-05-31T09:46:16.978Z"
   },
   {
    "duration": 11,
    "start_time": "2022-05-31T09:46:16.984Z"
   },
   {
    "duration": 271,
    "start_time": "2022-05-31T09:46:16.997Z"
   },
   {
    "duration": 160,
    "start_time": "2022-05-31T09:46:17.269Z"
   },
   {
    "duration": 159,
    "start_time": "2022-05-31T09:46:17.431Z"
   },
   {
    "duration": 159,
    "start_time": "2022-05-31T09:46:17.593Z"
   },
   {
    "duration": 165,
    "start_time": "2022-05-31T09:46:17.754Z"
   },
   {
    "duration": 180,
    "start_time": "2022-05-31T09:46:17.922Z"
   },
   {
    "duration": 27,
    "start_time": "2022-05-31T09:46:18.104Z"
   },
   {
    "duration": 3,
    "start_time": "2022-05-31T09:46:18.136Z"
   },
   {
    "duration": 218,
    "start_time": "2022-05-31T09:46:18.141Z"
   },
   {
    "duration": 252,
    "start_time": "2022-05-31T09:46:18.361Z"
   },
   {
    "duration": 12,
    "start_time": "2022-05-31T09:46:18.615Z"
   },
   {
    "duration": 28,
    "start_time": "2022-05-31T09:46:18.629Z"
   },
   {
    "duration": 38,
    "start_time": "2022-05-31T09:46:18.659Z"
   },
   {
    "duration": 28,
    "start_time": "2022-05-31T09:46:18.699Z"
   },
   {
    "duration": 214,
    "start_time": "2022-05-31T09:46:18.729Z"
   },
   {
    "duration": 234,
    "start_time": "2022-05-31T09:46:18.945Z"
   },
   {
    "duration": 7,
    "start_time": "2022-05-31T09:46:19.181Z"
   },
   {
    "duration": 1232,
    "start_time": "2022-05-31T09:46:50.046Z"
   },
   {
    "duration": 441,
    "start_time": "2022-05-31T09:46:51.279Z"
   },
   {
    "duration": 13,
    "start_time": "2022-05-31T09:46:51.722Z"
   },
   {
    "duration": 19,
    "start_time": "2022-05-31T09:46:51.737Z"
   },
   {
    "duration": 15,
    "start_time": "2022-05-31T09:46:51.758Z"
   },
   {
    "duration": 50,
    "start_time": "2022-05-31T09:46:51.775Z"
   },
   {
    "duration": 35,
    "start_time": "2022-05-31T09:46:51.827Z"
   },
   {
    "duration": 47,
    "start_time": "2022-05-31T09:46:51.863Z"
   },
   {
    "duration": 3269,
    "start_time": "2022-05-31T09:46:51.927Z"
   },
   {
    "duration": 47,
    "start_time": "2022-05-31T09:46:55.199Z"
   },
   {
    "duration": 66,
    "start_time": "2022-05-31T09:46:55.248Z"
   },
   {
    "duration": 8,
    "start_time": "2022-05-31T09:46:55.326Z"
   },
   {
    "duration": 30,
    "start_time": "2022-05-31T09:46:55.335Z"
   },
   {
    "duration": 18,
    "start_time": "2022-05-31T09:46:55.367Z"
   },
   {
    "duration": 3,
    "start_time": "2022-05-31T09:46:55.388Z"
   },
   {
    "duration": 79,
    "start_time": "2022-05-31T09:46:55.393Z"
   },
   {
    "duration": 12,
    "start_time": "2022-05-31T09:46:55.474Z"
   },
   {
    "duration": 119,
    "start_time": "2022-05-31T09:46:55.488Z"
   },
   {
    "duration": 5,
    "start_time": "2022-05-31T09:46:55.608Z"
   },
   {
    "duration": 6,
    "start_time": "2022-05-31T09:46:55.626Z"
   },
   {
    "duration": 257,
    "start_time": "2022-05-31T09:46:55.634Z"
   },
   {
    "duration": 152,
    "start_time": "2022-05-31T09:46:55.893Z"
   },
   {
    "duration": 153,
    "start_time": "2022-05-31T09:46:56.046Z"
   },
   {
    "duration": 164,
    "start_time": "2022-05-31T09:46:56.201Z"
   },
   {
    "duration": 154,
    "start_time": "2022-05-31T09:46:56.367Z"
   },
   {
    "duration": 167,
    "start_time": "2022-05-31T09:46:56.527Z"
   },
   {
    "duration": 29,
    "start_time": "2022-05-31T09:46:56.696Z"
   },
   {
    "duration": 3,
    "start_time": "2022-05-31T09:46:56.728Z"
   },
   {
    "duration": 200,
    "start_time": "2022-05-31T09:46:56.732Z"
   },
   {
    "duration": 256,
    "start_time": "2022-05-31T09:46:56.934Z"
   },
   {
    "duration": 42,
    "start_time": "2022-05-31T09:46:57.191Z"
   },
   {
    "duration": 18,
    "start_time": "2022-05-31T09:46:57.235Z"
   },
   {
    "duration": 77,
    "start_time": "2022-05-31T09:46:57.255Z"
   },
   {
    "duration": 24,
    "start_time": "2022-05-31T09:46:57.334Z"
   },
   {
    "duration": 452,
    "start_time": "2022-05-31T09:46:57.360Z"
   },
   {
    "duration": 230,
    "start_time": "2022-05-31T09:46:57.814Z"
   },
   {
    "duration": 8,
    "start_time": "2022-05-31T09:46:58.046Z"
   },
   {
    "duration": 1185,
    "start_time": "2022-05-31T09:47:20.277Z"
   },
   {
    "duration": 443,
    "start_time": "2022-05-31T09:47:21.464Z"
   },
   {
    "duration": 13,
    "start_time": "2022-05-31T09:47:21.909Z"
   },
   {
    "duration": 28,
    "start_time": "2022-05-31T09:47:21.924Z"
   },
   {
    "duration": 13,
    "start_time": "2022-05-31T09:47:21.954Z"
   },
   {
    "duration": 48,
    "start_time": "2022-05-31T09:47:21.969Z"
   },
   {
    "duration": 33,
    "start_time": "2022-05-31T09:47:22.019Z"
   },
   {
    "duration": 48,
    "start_time": "2022-05-31T09:47:22.054Z"
   },
   {
    "duration": 2305,
    "start_time": "2022-05-31T09:47:22.105Z"
   },
   {
    "duration": 55,
    "start_time": "2022-05-31T09:47:24.413Z"
   },
   {
    "duration": 100,
    "start_time": "2022-05-31T09:47:24.470Z"
   },
   {
    "duration": 10,
    "start_time": "2022-05-31T09:47:24.572Z"
   },
   {
    "duration": 30,
    "start_time": "2022-05-31T09:47:24.584Z"
   },
   {
    "duration": 19,
    "start_time": "2022-05-31T09:47:24.627Z"
   },
   {
    "duration": 9,
    "start_time": "2022-05-31T09:47:24.649Z"
   },
   {
    "duration": 185,
    "start_time": "2022-05-31T09:47:24.660Z"
   },
   {
    "duration": 0,
    "start_time": "2022-05-31T09:47:24.847Z"
   },
   {
    "duration": 0,
    "start_time": "2022-05-31T09:47:24.848Z"
   },
   {
    "duration": 0,
    "start_time": "2022-05-31T09:47:24.849Z"
   },
   {
    "duration": 0,
    "start_time": "2022-05-31T09:47:24.851Z"
   },
   {
    "duration": 0,
    "start_time": "2022-05-31T09:47:24.852Z"
   },
   {
    "duration": 0,
    "start_time": "2022-05-31T09:47:24.853Z"
   },
   {
    "duration": 0,
    "start_time": "2022-05-31T09:47:24.855Z"
   },
   {
    "duration": 0,
    "start_time": "2022-05-31T09:47:24.856Z"
   },
   {
    "duration": 0,
    "start_time": "2022-05-31T09:47:24.857Z"
   },
   {
    "duration": 0,
    "start_time": "2022-05-31T09:47:24.859Z"
   },
   {
    "duration": 0,
    "start_time": "2022-05-31T09:47:24.861Z"
   },
   {
    "duration": 0,
    "start_time": "2022-05-31T09:47:24.863Z"
   },
   {
    "duration": 0,
    "start_time": "2022-05-31T09:47:24.864Z"
   },
   {
    "duration": 0,
    "start_time": "2022-05-31T09:47:24.866Z"
   },
   {
    "duration": 0,
    "start_time": "2022-05-31T09:47:24.867Z"
   },
   {
    "duration": 0,
    "start_time": "2022-05-31T09:47:24.868Z"
   },
   {
    "duration": 0,
    "start_time": "2022-05-31T09:47:24.870Z"
   },
   {
    "duration": 0,
    "start_time": "2022-05-31T09:47:24.871Z"
   },
   {
    "duration": 0,
    "start_time": "2022-05-31T09:47:24.872Z"
   },
   {
    "duration": 0,
    "start_time": "2022-05-31T09:47:24.873Z"
   },
   {
    "duration": 0,
    "start_time": "2022-05-31T09:47:24.875Z"
   },
   {
    "duration": 16,
    "start_time": "2022-05-31T09:47:44.741Z"
   },
   {
    "duration": 15,
    "start_time": "2022-05-31T09:50:39.599Z"
   },
   {
    "duration": 13,
    "start_time": "2022-05-31T09:51:42.918Z"
   },
   {
    "duration": 16,
    "start_time": "2022-05-31T09:52:02.580Z"
   },
   {
    "duration": 13,
    "start_time": "2022-05-31T09:52:11.844Z"
   },
   {
    "duration": 5,
    "start_time": "2022-05-31T09:54:03.006Z"
   },
   {
    "duration": 9,
    "start_time": "2022-05-31T09:54:14.917Z"
   },
   {
    "duration": 1224,
    "start_time": "2022-05-31T09:54:31.098Z"
   },
   {
    "duration": 419,
    "start_time": "2022-05-31T09:54:32.324Z"
   },
   {
    "duration": 15,
    "start_time": "2022-05-31T09:54:32.745Z"
   },
   {
    "duration": 17,
    "start_time": "2022-05-31T09:54:32.763Z"
   },
   {
    "duration": 18,
    "start_time": "2022-05-31T09:54:32.782Z"
   },
   {
    "duration": 61,
    "start_time": "2022-05-31T09:54:32.802Z"
   },
   {
    "duration": 34,
    "start_time": "2022-05-31T09:54:32.864Z"
   },
   {
    "duration": 59,
    "start_time": "2022-05-31T09:54:32.900Z"
   },
   {
    "duration": 2194,
    "start_time": "2022-05-31T09:54:32.961Z"
   },
   {
    "duration": 36,
    "start_time": "2022-05-31T09:54:35.158Z"
   },
   {
    "duration": 78,
    "start_time": "2022-05-31T09:54:35.196Z"
   },
   {
    "duration": 8,
    "start_time": "2022-05-31T09:54:35.275Z"
   },
   {
    "duration": 20,
    "start_time": "2022-05-31T09:54:35.284Z"
   },
   {
    "duration": 122,
    "start_time": "2022-05-31T09:54:35.305Z"
   },
   {
    "duration": 0,
    "start_time": "2022-05-31T09:54:35.429Z"
   },
   {
    "duration": 0,
    "start_time": "2022-05-31T09:54:35.430Z"
   },
   {
    "duration": 0,
    "start_time": "2022-05-31T09:54:35.431Z"
   },
   {
    "duration": 0,
    "start_time": "2022-05-31T09:54:35.432Z"
   },
   {
    "duration": 0,
    "start_time": "2022-05-31T09:54:35.435Z"
   },
   {
    "duration": 0,
    "start_time": "2022-05-31T09:54:35.436Z"
   },
   {
    "duration": 0,
    "start_time": "2022-05-31T09:54:35.437Z"
   },
   {
    "duration": 0,
    "start_time": "2022-05-31T09:54:35.438Z"
   },
   {
    "duration": 0,
    "start_time": "2022-05-31T09:54:35.440Z"
   },
   {
    "duration": 0,
    "start_time": "2022-05-31T09:54:35.441Z"
   },
   {
    "duration": 0,
    "start_time": "2022-05-31T09:54:35.442Z"
   },
   {
    "duration": 0,
    "start_time": "2022-05-31T09:54:35.443Z"
   },
   {
    "duration": 0,
    "start_time": "2022-05-31T09:54:35.444Z"
   },
   {
    "duration": 0,
    "start_time": "2022-05-31T09:54:35.445Z"
   },
   {
    "duration": 0,
    "start_time": "2022-05-31T09:54:35.446Z"
   },
   {
    "duration": 0,
    "start_time": "2022-05-31T09:54:35.447Z"
   },
   {
    "duration": 0,
    "start_time": "2022-05-31T09:54:35.448Z"
   },
   {
    "duration": 0,
    "start_time": "2022-05-31T09:54:35.449Z"
   },
   {
    "duration": 0,
    "start_time": "2022-05-31T09:54:35.450Z"
   },
   {
    "duration": 0,
    "start_time": "2022-05-31T09:54:35.451Z"
   },
   {
    "duration": 0,
    "start_time": "2022-05-31T09:54:35.452Z"
   },
   {
    "duration": 0,
    "start_time": "2022-05-31T09:54:35.453Z"
   },
   {
    "duration": 0,
    "start_time": "2022-05-31T09:54:35.454Z"
   },
   {
    "duration": 0,
    "start_time": "2022-05-31T09:54:35.454Z"
   },
   {
    "duration": 0,
    "start_time": "2022-05-31T09:54:35.456Z"
   },
   {
    "duration": 5,
    "start_time": "2022-05-31T09:54:49.049Z"
   },
   {
    "duration": 1185,
    "start_time": "2022-05-31T09:54:57.688Z"
   },
   {
    "duration": 435,
    "start_time": "2022-05-31T09:54:58.875Z"
   },
   {
    "duration": 14,
    "start_time": "2022-05-31T09:54:59.311Z"
   },
   {
    "duration": 9,
    "start_time": "2022-05-31T09:54:59.327Z"
   },
   {
    "duration": 11,
    "start_time": "2022-05-31T09:54:59.337Z"
   },
   {
    "duration": 61,
    "start_time": "2022-05-31T09:54:59.349Z"
   },
   {
    "duration": 44,
    "start_time": "2022-05-31T09:54:59.412Z"
   },
   {
    "duration": 49,
    "start_time": "2022-05-31T09:54:59.458Z"
   },
   {
    "duration": 2265,
    "start_time": "2022-05-31T09:54:59.508Z"
   },
   {
    "duration": 35,
    "start_time": "2022-05-31T09:55:01.776Z"
   },
   {
    "duration": 105,
    "start_time": "2022-05-31T09:55:01.813Z"
   },
   {
    "duration": 9,
    "start_time": "2022-05-31T09:55:01.920Z"
   },
   {
    "duration": 47,
    "start_time": "2022-05-31T09:55:01.931Z"
   },
   {
    "duration": 8,
    "start_time": "2022-05-31T09:55:01.980Z"
   },
   {
    "duration": 31,
    "start_time": "2022-05-31T09:55:01.990Z"
   },
   {
    "duration": 26,
    "start_time": "2022-05-31T09:55:02.023Z"
   },
   {
    "duration": 21,
    "start_time": "2022-05-31T09:55:02.051Z"
   },
   {
    "duration": 118,
    "start_time": "2022-05-31T09:55:02.074Z"
   },
   {
    "duration": 16,
    "start_time": "2022-05-31T09:55:02.193Z"
   },
   {
    "duration": 141,
    "start_time": "2022-05-31T09:55:02.211Z"
   },
   {
    "duration": 5,
    "start_time": "2022-05-31T09:55:02.354Z"
   },
   {
    "duration": 23,
    "start_time": "2022-05-31T09:55:02.360Z"
   },
   {
    "duration": 252,
    "start_time": "2022-05-31T09:55:02.386Z"
   },
   {
    "duration": 311,
    "start_time": "2022-05-31T09:55:02.639Z"
   },
   {
    "duration": 385,
    "start_time": "2022-05-31T09:55:02.952Z"
   },
   {
    "duration": 315,
    "start_time": "2022-05-31T09:55:03.339Z"
   },
   {
    "duration": 299,
    "start_time": "2022-05-31T09:55:03.656Z"
   },
   {
    "duration": 313,
    "start_time": "2022-05-31T09:55:03.958Z"
   },
   {
    "duration": 18,
    "start_time": "2022-05-31T09:55:04.326Z"
   },
   {
    "duration": 6,
    "start_time": "2022-05-31T09:55:04.346Z"
   },
   {
    "duration": 417,
    "start_time": "2022-05-31T09:55:04.353Z"
   },
   {
    "duration": 221,
    "start_time": "2022-05-31T09:55:04.771Z"
   },
   {
    "duration": 6,
    "start_time": "2022-05-31T09:55:04.994Z"
   },
   {
    "duration": 11,
    "start_time": "2022-05-31T09:55:05.001Z"
   },
   {
    "duration": 30,
    "start_time": "2022-05-31T09:55:05.014Z"
   },
   {
    "duration": 21,
    "start_time": "2022-05-31T09:55:05.045Z"
   },
   {
    "duration": 219,
    "start_time": "2022-05-31T09:55:05.068Z"
   },
   {
    "duration": 226,
    "start_time": "2022-05-31T09:55:05.289Z"
   },
   {
    "duration": 11,
    "start_time": "2022-05-31T09:55:05.517Z"
   },
   {
    "duration": 4,
    "start_time": "2022-05-31T09:59:40.598Z"
   },
   {
    "duration": 5,
    "start_time": "2022-05-31T10:08:05.502Z"
   },
   {
    "duration": 7,
    "start_time": "2022-05-31T10:08:11.350Z"
   },
   {
    "duration": 6,
    "start_time": "2022-05-31T10:46:44.450Z"
   },
   {
    "duration": 125,
    "start_time": "2022-05-31T10:46:55.369Z"
   },
   {
    "duration": 15,
    "start_time": "2022-05-31T10:46:57.008Z"
   },
   {
    "duration": 5,
    "start_time": "2022-05-31T10:47:06.511Z"
   },
   {
    "duration": 115,
    "start_time": "2022-06-03T12:50:44.133Z"
   },
   {
    "duration": 1500,
    "start_time": "2022-06-03T12:50:56.581Z"
   },
   {
    "duration": 1290,
    "start_time": "2022-06-03T12:50:58.084Z"
   },
   {
    "duration": 14,
    "start_time": "2022-06-03T12:50:59.376Z"
   },
   {
    "duration": 9,
    "start_time": "2022-06-03T12:50:59.393Z"
   },
   {
    "duration": 7,
    "start_time": "2022-06-03T12:50:59.404Z"
   },
   {
    "duration": 53,
    "start_time": "2022-06-03T12:50:59.413Z"
   },
   {
    "duration": 35,
    "start_time": "2022-06-03T12:50:59.468Z"
   },
   {
    "duration": 100,
    "start_time": "2022-06-03T12:50:59.505Z"
   },
   {
    "duration": 2815,
    "start_time": "2022-06-03T12:50:59.607Z"
   },
   {
    "duration": 61,
    "start_time": "2022-06-03T12:51:02.426Z"
   },
   {
    "duration": 114,
    "start_time": "2022-06-03T12:51:02.490Z"
   },
   {
    "duration": 11,
    "start_time": "2022-06-03T12:51:02.607Z"
   },
   {
    "duration": 55,
    "start_time": "2022-06-03T12:51:02.620Z"
   },
   {
    "duration": 6,
    "start_time": "2022-06-03T12:51:02.677Z"
   },
   {
    "duration": 21,
    "start_time": "2022-06-03T12:51:02.686Z"
   },
   {
    "duration": 40,
    "start_time": "2022-06-03T12:51:02.709Z"
   },
   {
    "duration": 84,
    "start_time": "2022-06-03T12:51:02.752Z"
   },
   {
    "duration": 20,
    "start_time": "2022-06-03T12:51:02.845Z"
   },
   {
    "duration": 154,
    "start_time": "2022-06-03T12:51:02.869Z"
   },
   {
    "duration": 281,
    "start_time": "2022-06-03T12:51:03.024Z"
   },
   {
    "duration": 193,
    "start_time": "2022-06-03T12:51:03.307Z"
   },
   {
    "duration": 176,
    "start_time": "2022-06-03T12:51:03.502Z"
   },
   {
    "duration": 180,
    "start_time": "2022-06-03T12:51:03.680Z"
   },
   {
    "duration": 209,
    "start_time": "2022-06-03T12:51:03.862Z"
   },
   {
    "duration": 206,
    "start_time": "2022-06-03T12:51:04.073Z"
   },
   {
    "duration": 19,
    "start_time": "2022-06-03T12:51:04.282Z"
   },
   {
    "duration": 4,
    "start_time": "2022-06-03T12:51:04.302Z"
   },
   {
    "duration": 247,
    "start_time": "2022-06-03T12:51:04.309Z"
   },
   {
    "duration": 278,
    "start_time": "2022-06-03T12:51:04.559Z"
   },
   {
    "duration": 14,
    "start_time": "2022-06-03T12:51:04.841Z"
   },
   {
    "duration": 14,
    "start_time": "2022-06-03T12:51:04.857Z"
   },
   {
    "duration": 28,
    "start_time": "2022-06-03T12:51:04.872Z"
   },
   {
    "duration": 23,
    "start_time": "2022-06-03T12:51:04.902Z"
   },
   {
    "duration": 306,
    "start_time": "2022-06-03T12:51:04.927Z"
   },
   {
    "duration": 255,
    "start_time": "2022-06-03T12:51:05.235Z"
   },
   {
    "duration": 6,
    "start_time": "2022-06-03T12:51:05.492Z"
   },
   {
    "duration": 20,
    "start_time": "2022-06-03T12:52:21.462Z"
   },
   {
    "duration": 10,
    "start_time": "2022-06-03T12:52:24.482Z"
   },
   {
    "duration": 7,
    "start_time": "2022-06-03T12:52:27.697Z"
   },
   {
    "duration": 60,
    "start_time": "2022-06-03T12:52:52.666Z"
   },
   {
    "duration": 19,
    "start_time": "2022-06-03T12:53:04.161Z"
   },
   {
    "duration": 10,
    "start_time": "2022-06-03T12:53:11.100Z"
   },
   {
    "duration": 13,
    "start_time": "2022-06-03T12:54:22.460Z"
   },
   {
    "duration": 7,
    "start_time": "2022-06-03T12:57:22.854Z"
   },
   {
    "duration": 6,
    "start_time": "2022-06-03T12:58:31.685Z"
   },
   {
    "duration": 9,
    "start_time": "2022-06-03T13:00:49.525Z"
   },
   {
    "duration": 20,
    "start_time": "2022-06-03T13:02:29.563Z"
   },
   {
    "duration": 17,
    "start_time": "2022-06-03T13:02:36.971Z"
   },
   {
    "duration": 17,
    "start_time": "2022-06-03T13:04:28.916Z"
   },
   {
    "duration": 22,
    "start_time": "2022-06-03T13:05:26.484Z"
   },
   {
    "duration": 49,
    "start_time": "2022-06-03T13:05:41.531Z"
   },
   {
    "duration": 6,
    "start_time": "2022-06-03T13:05:57.326Z"
   },
   {
    "duration": 19,
    "start_time": "2022-06-03T13:06:01.537Z"
   },
   {
    "duration": 11,
    "start_time": "2022-06-03T13:07:40.696Z"
   },
   {
    "duration": 1298,
    "start_time": "2022-06-03T13:08:19.983Z"
   },
   {
    "duration": 521,
    "start_time": "2022-06-03T13:08:21.288Z"
   },
   {
    "duration": 13,
    "start_time": "2022-06-03T13:08:21.811Z"
   },
   {
    "duration": 31,
    "start_time": "2022-06-03T13:08:21.826Z"
   },
   {
    "duration": 15,
    "start_time": "2022-06-03T13:08:21.863Z"
   },
   {
    "duration": 8,
    "start_time": "2022-06-03T13:08:21.880Z"
   },
   {
    "duration": 48,
    "start_time": "2022-06-03T13:08:21.890Z"
   },
   {
    "duration": 44,
    "start_time": "2022-06-03T13:08:21.941Z"
   },
   {
    "duration": 64,
    "start_time": "2022-06-03T13:08:21.987Z"
   },
   {
    "duration": 2553,
    "start_time": "2022-06-03T13:08:22.055Z"
   },
   {
    "duration": 52,
    "start_time": "2022-06-03T13:08:24.610Z"
   },
   {
    "duration": 72,
    "start_time": "2022-06-03T13:08:24.664Z"
   },
   {
    "duration": 9,
    "start_time": "2022-06-03T13:08:24.741Z"
   },
   {
    "duration": 36,
    "start_time": "2022-06-03T13:08:24.756Z"
   },
   {
    "duration": 4,
    "start_time": "2022-06-03T13:08:24.794Z"
   },
   {
    "duration": 14,
    "start_time": "2022-06-03T13:08:24.799Z"
   },
   {
    "duration": 22,
    "start_time": "2022-06-03T13:08:24.815Z"
   },
   {
    "duration": 29,
    "start_time": "2022-06-03T13:08:24.838Z"
   },
   {
    "duration": 14,
    "start_time": "2022-06-03T13:08:24.869Z"
   },
   {
    "duration": 23,
    "start_time": "2022-06-03T13:08:24.885Z"
   },
   {
    "duration": 177,
    "start_time": "2022-06-03T13:08:24.909Z"
   },
   {
    "duration": 0,
    "start_time": "2022-06-03T13:08:25.088Z"
   },
   {
    "duration": 0,
    "start_time": "2022-06-03T13:08:25.089Z"
   },
   {
    "duration": 0,
    "start_time": "2022-06-03T13:08:25.092Z"
   },
   {
    "duration": 0,
    "start_time": "2022-06-03T13:08:25.093Z"
   },
   {
    "duration": 0,
    "start_time": "2022-06-03T13:08:25.095Z"
   },
   {
    "duration": 0,
    "start_time": "2022-06-03T13:08:25.097Z"
   },
   {
    "duration": 0,
    "start_time": "2022-06-03T13:08:25.098Z"
   },
   {
    "duration": 0,
    "start_time": "2022-06-03T13:08:25.099Z"
   },
   {
    "duration": 0,
    "start_time": "2022-06-03T13:08:25.100Z"
   },
   {
    "duration": 0,
    "start_time": "2022-06-03T13:08:25.102Z"
   },
   {
    "duration": 0,
    "start_time": "2022-06-03T13:08:25.103Z"
   },
   {
    "duration": 1,
    "start_time": "2022-06-03T13:08:25.104Z"
   },
   {
    "duration": 0,
    "start_time": "2022-06-03T13:08:25.106Z"
   },
   {
    "duration": 0,
    "start_time": "2022-06-03T13:08:25.107Z"
   },
   {
    "duration": 0,
    "start_time": "2022-06-03T13:08:25.109Z"
   },
   {
    "duration": 0,
    "start_time": "2022-06-03T13:08:25.110Z"
   },
   {
    "duration": 0,
    "start_time": "2022-06-03T13:08:25.111Z"
   },
   {
    "duration": 0,
    "start_time": "2022-06-03T13:08:25.112Z"
   },
   {
    "duration": 0,
    "start_time": "2022-06-03T13:08:25.114Z"
   },
   {
    "duration": 18,
    "start_time": "2022-06-03T13:08:39.752Z"
   },
   {
    "duration": 10,
    "start_time": "2022-06-03T13:08:51.496Z"
   },
   {
    "duration": 521,
    "start_time": "2022-06-03T13:09:04.780Z"
   },
   {
    "duration": 16,
    "start_time": "2022-06-03T13:09:06.609Z"
   },
   {
    "duration": 24,
    "start_time": "2022-06-03T13:09:08.869Z"
   },
   {
    "duration": 8,
    "start_time": "2022-06-03T13:09:16.279Z"
   },
   {
    "duration": 5,
    "start_time": "2022-06-03T13:09:29.391Z"
   },
   {
    "duration": 571,
    "start_time": "2022-06-03T13:10:04.338Z"
   },
   {
    "duration": 9,
    "start_time": "2022-06-03T13:10:07.615Z"
   },
   {
    "duration": 11,
    "start_time": "2022-06-03T13:10:19.237Z"
   },
   {
    "duration": 65,
    "start_time": "2022-06-03T13:11:13.974Z"
   },
   {
    "duration": 66,
    "start_time": "2022-06-03T13:12:43.757Z"
   },
   {
    "duration": 49,
    "start_time": "2022-06-03T13:12:51.115Z"
   },
   {
    "duration": 28,
    "start_time": "2022-06-03T14:10:49.138Z"
   },
   {
    "duration": 2111,
    "start_time": "2022-06-03T14:13:06.036Z"
   },
   {
    "duration": 1354,
    "start_time": "2022-06-03T14:13:21.938Z"
   },
   {
    "duration": 533,
    "start_time": "2022-06-03T14:13:23.296Z"
   },
   {
    "duration": 17,
    "start_time": "2022-06-03T14:13:23.830Z"
   },
   {
    "duration": 41,
    "start_time": "2022-06-03T14:13:23.859Z"
   },
   {
    "duration": 2,
    "start_time": "2022-06-03T14:13:23.902Z"
   },
   {
    "duration": 7,
    "start_time": "2022-06-03T14:13:23.906Z"
   },
   {
    "duration": 53,
    "start_time": "2022-06-03T14:13:23.915Z"
   },
   {
    "duration": 37,
    "start_time": "2022-06-03T14:13:23.983Z"
   },
   {
    "duration": 12,
    "start_time": "2022-06-03T14:13:24.022Z"
   },
   {
    "duration": 3287,
    "start_time": "2022-06-03T14:13:24.036Z"
   },
   {
    "duration": 50,
    "start_time": "2022-06-03T14:13:27.325Z"
   },
   {
    "duration": 104,
    "start_time": "2022-06-03T14:13:27.380Z"
   },
   {
    "duration": 15,
    "start_time": "2022-06-03T14:13:27.489Z"
   },
   {
    "duration": 148,
    "start_time": "2022-06-03T14:13:27.505Z"
   },
   {
    "duration": 0,
    "start_time": "2022-06-03T14:13:27.660Z"
   },
   {
    "duration": 0,
    "start_time": "2022-06-03T14:13:27.661Z"
   },
   {
    "duration": 0,
    "start_time": "2022-06-03T14:13:27.666Z"
   },
   {
    "duration": 0,
    "start_time": "2022-06-03T14:13:27.667Z"
   },
   {
    "duration": 0,
    "start_time": "2022-06-03T14:13:27.668Z"
   },
   {
    "duration": 0,
    "start_time": "2022-06-03T14:13:27.670Z"
   },
   {
    "duration": 0,
    "start_time": "2022-06-03T14:13:27.671Z"
   },
   {
    "duration": 0,
    "start_time": "2022-06-03T14:13:27.672Z"
   },
   {
    "duration": 0,
    "start_time": "2022-06-03T14:13:27.673Z"
   },
   {
    "duration": 0,
    "start_time": "2022-06-03T14:13:27.674Z"
   },
   {
    "duration": 0,
    "start_time": "2022-06-03T14:13:27.676Z"
   },
   {
    "duration": 0,
    "start_time": "2022-06-03T14:13:27.678Z"
   },
   {
    "duration": 0,
    "start_time": "2022-06-03T14:13:27.679Z"
   },
   {
    "duration": 0,
    "start_time": "2022-06-03T14:13:27.680Z"
   },
   {
    "duration": 0,
    "start_time": "2022-06-03T14:13:27.682Z"
   },
   {
    "duration": 0,
    "start_time": "2022-06-03T14:13:27.683Z"
   },
   {
    "duration": 0,
    "start_time": "2022-06-03T14:13:27.684Z"
   },
   {
    "duration": 0,
    "start_time": "2022-06-03T14:13:27.685Z"
   },
   {
    "duration": 0,
    "start_time": "2022-06-03T14:13:27.686Z"
   },
   {
    "duration": 0,
    "start_time": "2022-06-03T14:13:27.687Z"
   },
   {
    "duration": 0,
    "start_time": "2022-06-03T14:13:27.688Z"
   },
   {
    "duration": 0,
    "start_time": "2022-06-03T14:13:27.690Z"
   },
   {
    "duration": 0,
    "start_time": "2022-06-03T14:13:27.691Z"
   },
   {
    "duration": 0,
    "start_time": "2022-06-03T14:13:27.691Z"
   },
   {
    "duration": 0,
    "start_time": "2022-06-03T14:13:27.692Z"
   },
   {
    "duration": 0,
    "start_time": "2022-06-03T14:13:27.693Z"
   },
   {
    "duration": 44,
    "start_time": "2022-06-03T14:13:53.937Z"
   },
   {
    "duration": 27,
    "start_time": "2022-06-03T14:14:06.701Z"
   },
   {
    "duration": 1044,
    "start_time": "2022-06-03T14:15:09.580Z"
   },
   {
    "duration": 596,
    "start_time": "2022-06-03T14:15:30.287Z"
   },
   {
    "duration": 15,
    "start_time": "2022-06-03T14:15:31.784Z"
   },
   {
    "duration": 34,
    "start_time": "2022-06-03T14:15:33.476Z"
   },
   {
    "duration": 6,
    "start_time": "2022-06-03T14:15:37.606Z"
   },
   {
    "duration": 49,
    "start_time": "2022-06-03T14:15:40.400Z"
   },
   {
    "duration": 165,
    "start_time": "2022-06-03T14:15:45.739Z"
   },
   {
    "duration": 36,
    "start_time": "2022-06-03T14:15:53.625Z"
   },
   {
    "duration": 41,
    "start_time": "2022-06-03T14:15:57.120Z"
   },
   {
    "duration": 19,
    "start_time": "2022-06-03T14:16:38.781Z"
   },
   {
    "duration": 19,
    "start_time": "2022-06-03T14:16:50.815Z"
   },
   {
    "duration": 57,
    "start_time": "2022-06-03T14:17:43.268Z"
   },
   {
    "duration": 2792,
    "start_time": "2022-06-03T14:20:03.419Z"
   },
   {
    "duration": 90,
    "start_time": "2022-06-03T14:20:44.679Z"
   },
   {
    "duration": 2986,
    "start_time": "2022-06-03T14:21:05.888Z"
   },
   {
    "duration": 67,
    "start_time": "2022-06-03T14:21:19.911Z"
   },
   {
    "duration": 40,
    "start_time": "2022-06-03T14:21:27.755Z"
   },
   {
    "duration": 16,
    "start_time": "2022-06-03T14:21:36.893Z"
   },
   {
    "duration": 31,
    "start_time": "2022-06-03T14:21:48.041Z"
   },
   {
    "duration": 12,
    "start_time": "2022-06-03T14:22:29.200Z"
   },
   {
    "duration": 567,
    "start_time": "2022-06-03T14:22:39.029Z"
   },
   {
    "duration": 21,
    "start_time": "2022-06-03T14:22:47.086Z"
   },
   {
    "duration": 16,
    "start_time": "2022-06-03T14:27:05.542Z"
   },
   {
    "duration": 75,
    "start_time": "2022-06-03T14:27:43.740Z"
   },
   {
    "duration": 63,
    "start_time": "2022-06-03T14:28:15.469Z"
   },
   {
    "duration": 74,
    "start_time": "2022-06-03T14:28:28.440Z"
   },
   {
    "duration": 88,
    "start_time": "2022-06-03T14:28:41.280Z"
   },
   {
    "duration": 172,
    "start_time": "2022-06-03T14:30:57.022Z"
   },
   {
    "duration": 54,
    "start_time": "2022-06-03T14:31:15.675Z"
   },
   {
    "duration": 11,
    "start_time": "2022-06-03T14:34:54.867Z"
   },
   {
    "duration": 14,
    "start_time": "2022-06-03T14:35:24.174Z"
   },
   {
    "duration": 14,
    "start_time": "2022-06-03T14:35:39.574Z"
   },
   {
    "duration": 21,
    "start_time": "2022-06-03T14:36:21.170Z"
   },
   {
    "duration": 16,
    "start_time": "2022-06-03T14:41:57.100Z"
   },
   {
    "duration": 35,
    "start_time": "2022-06-03T14:42:03.346Z"
   },
   {
    "duration": 18,
    "start_time": "2022-06-03T14:43:19.770Z"
   },
   {
    "duration": 1289,
    "start_time": "2022-06-03T14:43:51.615Z"
   },
   {
    "duration": 489,
    "start_time": "2022-06-03T14:43:52.906Z"
   },
   {
    "duration": 12,
    "start_time": "2022-06-03T14:43:53.397Z"
   },
   {
    "duration": 23,
    "start_time": "2022-06-03T14:43:53.411Z"
   },
   {
    "duration": 66,
    "start_time": "2022-06-03T14:43:53.437Z"
   },
   {
    "duration": 2,
    "start_time": "2022-06-03T14:43:53.505Z"
   },
   {
    "duration": 15,
    "start_time": "2022-06-03T14:43:53.509Z"
   },
   {
    "duration": 65,
    "start_time": "2022-06-03T14:43:53.526Z"
   },
   {
    "duration": 66,
    "start_time": "2022-06-03T14:43:53.593Z"
   },
   {
    "duration": 15,
    "start_time": "2022-06-03T14:43:53.662Z"
   },
   {
    "duration": 42,
    "start_time": "2022-06-03T14:43:53.680Z"
   },
   {
    "duration": 135,
    "start_time": "2022-06-03T14:43:53.723Z"
   },
   {
    "duration": 2607,
    "start_time": "2022-06-03T14:43:53.859Z"
   },
   {
    "duration": 42,
    "start_time": "2022-06-03T14:43:56.470Z"
   },
   {
    "duration": 42,
    "start_time": "2022-06-03T14:43:56.513Z"
   },
   {
    "duration": 77,
    "start_time": "2022-06-03T14:43:56.563Z"
   },
   {
    "duration": 78,
    "start_time": "2022-06-03T14:43:56.646Z"
   },
   {
    "duration": 28,
    "start_time": "2022-06-03T14:43:56.726Z"
   },
   {
    "duration": 21,
    "start_time": "2022-06-03T14:43:56.756Z"
   },
   {
    "duration": 27,
    "start_time": "2022-06-03T14:43:56.779Z"
   },
   {
    "duration": 4,
    "start_time": "2022-06-03T14:43:56.807Z"
   },
   {
    "duration": 17,
    "start_time": "2022-06-03T14:43:56.813Z"
   },
   {
    "duration": 24,
    "start_time": "2022-06-03T14:43:56.831Z"
   },
   {
    "duration": 12,
    "start_time": "2022-06-03T14:43:56.858Z"
   },
   {
    "duration": 20,
    "start_time": "2022-06-03T14:43:56.872Z"
   },
   {
    "duration": 17,
    "start_time": "2022-06-03T14:43:56.894Z"
   },
   {
    "duration": 156,
    "start_time": "2022-06-03T14:43:56.912Z"
   },
   {
    "duration": 0,
    "start_time": "2022-06-03T14:43:57.070Z"
   },
   {
    "duration": 0,
    "start_time": "2022-06-03T14:43:57.071Z"
   },
   {
    "duration": 0,
    "start_time": "2022-06-03T14:43:57.072Z"
   },
   {
    "duration": 0,
    "start_time": "2022-06-03T14:43:57.073Z"
   },
   {
    "duration": 0,
    "start_time": "2022-06-03T14:43:57.074Z"
   },
   {
    "duration": 0,
    "start_time": "2022-06-03T14:43:57.076Z"
   },
   {
    "duration": 0,
    "start_time": "2022-06-03T14:43:57.076Z"
   },
   {
    "duration": 0,
    "start_time": "2022-06-03T14:43:57.077Z"
   },
   {
    "duration": 0,
    "start_time": "2022-06-03T14:43:57.078Z"
   },
   {
    "duration": 0,
    "start_time": "2022-06-03T14:43:57.080Z"
   },
   {
    "duration": 0,
    "start_time": "2022-06-03T14:43:57.080Z"
   },
   {
    "duration": 0,
    "start_time": "2022-06-03T14:43:57.081Z"
   },
   {
    "duration": 0,
    "start_time": "2022-06-03T14:43:57.082Z"
   },
   {
    "duration": 0,
    "start_time": "2022-06-03T14:43:57.084Z"
   },
   {
    "duration": 0,
    "start_time": "2022-06-03T14:43:57.085Z"
   },
   {
    "duration": 0,
    "start_time": "2022-06-03T14:43:57.086Z"
   },
   {
    "duration": 0,
    "start_time": "2022-06-03T14:43:57.087Z"
   },
   {
    "duration": 0,
    "start_time": "2022-06-03T14:43:57.088Z"
   },
   {
    "duration": 0,
    "start_time": "2022-06-03T14:43:57.090Z"
   },
   {
    "duration": 14,
    "start_time": "2022-06-03T14:45:27.061Z"
   },
   {
    "duration": 19,
    "start_time": "2022-06-03T14:48:08.537Z"
   },
   {
    "duration": 17,
    "start_time": "2022-06-03T14:48:24.088Z"
   },
   {
    "duration": 63,
    "start_time": "2022-06-03T14:48:29.061Z"
   },
   {
    "duration": 12,
    "start_time": "2022-06-03T15:21:38.710Z"
   },
   {
    "duration": 1196,
    "start_time": "2022-06-03T15:21:48.612Z"
   },
   {
    "duration": 490,
    "start_time": "2022-06-03T15:21:49.810Z"
   },
   {
    "duration": 13,
    "start_time": "2022-06-03T15:21:50.302Z"
   },
   {
    "duration": 33,
    "start_time": "2022-06-03T15:21:50.318Z"
   },
   {
    "duration": 62,
    "start_time": "2022-06-03T15:21:50.359Z"
   },
   {
    "duration": 3,
    "start_time": "2022-06-03T15:21:50.423Z"
   },
   {
    "duration": 43,
    "start_time": "2022-06-03T15:21:50.427Z"
   },
   {
    "duration": 51,
    "start_time": "2022-06-03T15:21:50.472Z"
   },
   {
    "duration": 46,
    "start_time": "2022-06-03T15:21:50.525Z"
   },
   {
    "duration": 12,
    "start_time": "2022-06-03T15:21:50.574Z"
   },
   {
    "duration": 41,
    "start_time": "2022-06-03T15:21:50.587Z"
   },
   {
    "duration": 125,
    "start_time": "2022-06-03T15:21:50.630Z"
   },
   {
    "duration": 2495,
    "start_time": "2022-06-03T15:21:50.756Z"
   },
   {
    "duration": 42,
    "start_time": "2022-06-03T15:21:53.253Z"
   },
   {
    "duration": 21,
    "start_time": "2022-06-03T15:21:53.296Z"
   },
   {
    "duration": 68,
    "start_time": "2022-06-03T15:21:53.318Z"
   },
   {
    "duration": 81,
    "start_time": "2022-06-03T15:21:53.388Z"
   },
   {
    "duration": 14,
    "start_time": "2022-06-03T15:21:53.471Z"
   },
   {
    "duration": 12,
    "start_time": "2022-06-03T15:21:53.486Z"
   },
   {
    "duration": 30,
    "start_time": "2022-06-03T15:21:53.500Z"
   },
   {
    "duration": 21,
    "start_time": "2022-06-03T15:21:53.532Z"
   },
   {
    "duration": 22,
    "start_time": "2022-06-03T15:21:53.555Z"
   },
   {
    "duration": 13,
    "start_time": "2022-06-03T15:21:53.579Z"
   },
   {
    "duration": 4,
    "start_time": "2022-06-03T15:21:53.594Z"
   },
   {
    "duration": 29,
    "start_time": "2022-06-03T15:21:53.600Z"
   },
   {
    "duration": 33,
    "start_time": "2022-06-03T15:21:53.631Z"
   },
   {
    "duration": 24,
    "start_time": "2022-06-03T15:21:53.667Z"
   },
   {
    "duration": 75,
    "start_time": "2022-06-03T15:21:53.695Z"
   },
   {
    "duration": 14,
    "start_time": "2022-06-03T15:21:53.772Z"
   },
   {
    "duration": 183,
    "start_time": "2022-06-03T15:21:53.788Z"
   },
   {
    "duration": 0,
    "start_time": "2022-06-03T15:21:53.973Z"
   },
   {
    "duration": 0,
    "start_time": "2022-06-03T15:21:53.975Z"
   },
   {
    "duration": 0,
    "start_time": "2022-06-03T15:21:53.976Z"
   },
   {
    "duration": 0,
    "start_time": "2022-06-03T15:21:53.977Z"
   },
   {
    "duration": 0,
    "start_time": "2022-06-03T15:21:53.978Z"
   },
   {
    "duration": 0,
    "start_time": "2022-06-03T15:21:53.979Z"
   },
   {
    "duration": 0,
    "start_time": "2022-06-03T15:21:53.980Z"
   },
   {
    "duration": 0,
    "start_time": "2022-06-03T15:21:53.981Z"
   },
   {
    "duration": 0,
    "start_time": "2022-06-03T15:21:53.982Z"
   },
   {
    "duration": 0,
    "start_time": "2022-06-03T15:21:53.983Z"
   },
   {
    "duration": 0,
    "start_time": "2022-06-03T15:21:53.985Z"
   },
   {
    "duration": 0,
    "start_time": "2022-06-03T15:21:53.986Z"
   },
   {
    "duration": 0,
    "start_time": "2022-06-03T15:21:53.987Z"
   },
   {
    "duration": 0,
    "start_time": "2022-06-03T15:21:53.988Z"
   },
   {
    "duration": 0,
    "start_time": "2022-06-03T15:21:53.989Z"
   },
   {
    "duration": 0,
    "start_time": "2022-06-03T15:21:53.990Z"
   },
   {
    "duration": 0,
    "start_time": "2022-06-03T15:21:53.991Z"
   },
   {
    "duration": 11,
    "start_time": "2022-06-03T15:22:40.785Z"
   },
   {
    "duration": 14,
    "start_time": "2022-06-03T15:23:08.462Z"
   },
   {
    "duration": 139,
    "start_time": "2022-06-03T15:23:11.115Z"
   },
   {
    "duration": 20,
    "start_time": "2022-06-03T15:23:34.350Z"
   },
   {
    "duration": 126,
    "start_time": "2022-06-03T15:23:36.782Z"
   },
   {
    "duration": 116,
    "start_time": "2022-06-03T15:23:40.421Z"
   },
   {
    "duration": 1253,
    "start_time": "2022-06-03T15:24:21.757Z"
   },
   {
    "duration": 456,
    "start_time": "2022-06-03T15:24:23.012Z"
   },
   {
    "duration": 12,
    "start_time": "2022-06-03T15:24:23.470Z"
   },
   {
    "duration": 23,
    "start_time": "2022-06-03T15:24:23.484Z"
   },
   {
    "duration": 65,
    "start_time": "2022-06-03T15:24:23.509Z"
   },
   {
    "duration": 2,
    "start_time": "2022-06-03T15:24:23.576Z"
   },
   {
    "duration": 7,
    "start_time": "2022-06-03T15:24:23.580Z"
   },
   {
    "duration": 41,
    "start_time": "2022-06-03T15:24:23.589Z"
   },
   {
    "duration": 54,
    "start_time": "2022-06-03T15:24:23.632Z"
   },
   {
    "duration": 11,
    "start_time": "2022-06-03T15:24:23.689Z"
   },
   {
    "duration": 26,
    "start_time": "2022-06-03T15:24:23.702Z"
   },
   {
    "duration": 128,
    "start_time": "2022-06-03T15:24:23.730Z"
   },
   {
    "duration": 2332,
    "start_time": "2022-06-03T15:24:23.860Z"
   },
   {
    "duration": 37,
    "start_time": "2022-06-03T15:24:26.194Z"
   },
   {
    "duration": 25,
    "start_time": "2022-06-03T15:24:26.241Z"
   },
   {
    "duration": 50,
    "start_time": "2022-06-03T15:24:26.268Z"
   },
   {
    "duration": 84,
    "start_time": "2022-06-03T15:24:26.320Z"
   },
   {
    "duration": 15,
    "start_time": "2022-06-03T15:24:26.405Z"
   },
   {
    "duration": 11,
    "start_time": "2022-06-03T15:24:26.445Z"
   },
   {
    "duration": 36,
    "start_time": "2022-06-03T15:24:26.458Z"
   },
   {
    "duration": 5,
    "start_time": "2022-06-03T15:24:26.496Z"
   },
   {
    "duration": 9,
    "start_time": "2022-06-03T15:24:26.503Z"
   },
   {
    "duration": 37,
    "start_time": "2022-06-03T15:24:26.514Z"
   },
   {
    "duration": 7,
    "start_time": "2022-06-03T15:24:26.555Z"
   },
   {
    "duration": 23,
    "start_time": "2022-06-03T15:24:26.564Z"
   },
   {
    "duration": 22,
    "start_time": "2022-06-03T15:24:26.588Z"
   },
   {
    "duration": 12,
    "start_time": "2022-06-03T15:24:26.612Z"
   },
   {
    "duration": 85,
    "start_time": "2022-06-03T15:24:26.641Z"
   },
   {
    "duration": 30,
    "start_time": "2022-06-03T15:24:26.728Z"
   },
   {
    "duration": 15,
    "start_time": "2022-06-03T15:24:26.760Z"
   },
   {
    "duration": 126,
    "start_time": "2022-06-03T15:24:26.777Z"
   },
   {
    "duration": 252,
    "start_time": "2022-06-03T15:24:26.905Z"
   },
   {
    "duration": 170,
    "start_time": "2022-06-03T15:24:27.159Z"
   },
   {
    "duration": 144,
    "start_time": "2022-06-03T15:24:27.331Z"
   },
   {
    "duration": 155,
    "start_time": "2022-06-03T15:24:27.476Z"
   },
   {
    "duration": 182,
    "start_time": "2022-06-03T15:24:27.633Z"
   },
   {
    "duration": 212,
    "start_time": "2022-06-03T15:24:27.817Z"
   },
   {
    "duration": 31,
    "start_time": "2022-06-03T15:24:28.031Z"
   },
   {
    "duration": 33,
    "start_time": "2022-06-03T15:24:28.064Z"
   },
   {
    "duration": 210,
    "start_time": "2022-06-03T15:24:28.102Z"
   },
   {
    "duration": 260,
    "start_time": "2022-06-03T15:24:28.313Z"
   },
   {
    "duration": 6,
    "start_time": "2022-06-03T15:24:28.575Z"
   },
   {
    "duration": 10,
    "start_time": "2022-06-03T15:24:28.583Z"
   },
   {
    "duration": 25,
    "start_time": "2022-06-03T15:24:28.594Z"
   },
   {
    "duration": 36,
    "start_time": "2022-06-03T15:24:28.620Z"
   },
   {
    "duration": 242,
    "start_time": "2022-06-03T15:24:28.658Z"
   },
   {
    "duration": 225,
    "start_time": "2022-06-03T15:24:28.901Z"
   },
   {
    "duration": 6,
    "start_time": "2022-06-03T15:24:29.127Z"
   },
   {
    "duration": 14,
    "start_time": "2022-06-03T15:24:54.017Z"
   },
   {
    "duration": 68,
    "start_time": "2022-06-03T15:24:58.821Z"
   },
   {
    "duration": 27,
    "start_time": "2022-06-03T15:25:03.826Z"
   },
   {
    "duration": 12,
    "start_time": "2022-06-03T15:25:07.655Z"
   },
   {
    "duration": 12,
    "start_time": "2022-06-03T15:25:09.603Z"
   },
   {
    "duration": 129,
    "start_time": "2022-06-03T15:25:13.417Z"
   },
   {
    "duration": 16,
    "start_time": "2022-06-03T15:25:41.983Z"
   },
   {
    "duration": 22,
    "start_time": "2022-06-03T15:25:47.476Z"
   },
   {
    "duration": 14,
    "start_time": "2022-06-03T15:25:50.354Z"
   },
   {
    "duration": 28,
    "start_time": "2022-06-03T15:26:32.888Z"
   },
   {
    "duration": 5,
    "start_time": "2022-06-03T15:26:44.141Z"
   },
   {
    "duration": 16,
    "start_time": "2022-06-03T15:26:50.797Z"
   },
   {
    "duration": 14,
    "start_time": "2022-06-03T15:26:53.510Z"
   },
   {
    "duration": 77,
    "start_time": "2022-06-03T15:26:58.578Z"
   },
   {
    "duration": 16,
    "start_time": "2022-06-03T15:27:03.318Z"
   },
   {
    "duration": 13,
    "start_time": "2022-06-03T15:27:08.906Z"
   },
   {
    "duration": 121,
    "start_time": "2022-06-03T15:27:13.571Z"
   },
   {
    "duration": 2,
    "start_time": "2022-06-03T15:29:32.919Z"
   },
   {
    "duration": 3,
    "start_time": "2022-06-03T15:30:59.496Z"
   },
   {
    "duration": 3,
    "start_time": "2022-06-03T15:31:43.704Z"
   },
   {
    "duration": 121,
    "start_time": "2022-06-03T15:34:29.913Z"
   },
   {
    "duration": 6,
    "start_time": "2022-06-03T15:35:06.916Z"
   },
   {
    "duration": 8,
    "start_time": "2022-06-03T15:35:59.094Z"
   },
   {
    "duration": 527,
    "start_time": "2022-06-03T15:39:42.639Z"
   },
   {
    "duration": 11,
    "start_time": "2022-06-03T15:40:09.103Z"
   },
   {
    "duration": 1619,
    "start_time": "2022-06-03T15:40:13.159Z"
   },
   {
    "duration": 462,
    "start_time": "2022-06-03T15:40:31.467Z"
   },
   {
    "duration": 58,
    "start_time": "2022-06-03T15:40:39.611Z"
   },
   {
    "duration": 3,
    "start_time": "2022-06-03T15:46:54.793Z"
   },
   {
    "duration": 2,
    "start_time": "2022-06-03T15:53:07.495Z"
   },
   {
    "duration": 109,
    "start_time": "2022-06-03T15:54:09.012Z"
   },
   {
    "duration": 4,
    "start_time": "2022-06-03T15:57:24.204Z"
   },
   {
    "duration": 180,
    "start_time": "2022-06-03T15:59:55.807Z"
   },
   {
    "duration": 6,
    "start_time": "2022-06-03T16:16:18.421Z"
   },
   {
    "duration": 12,
    "start_time": "2022-06-03T16:16:28.593Z"
   },
   {
    "duration": 17,
    "start_time": "2022-06-03T16:17:27.421Z"
   },
   {
    "duration": 13,
    "start_time": "2022-06-03T16:18:20.389Z"
   },
   {
    "duration": 13,
    "start_time": "2022-06-03T16:18:31.086Z"
   },
   {
    "duration": 17,
    "start_time": "2022-06-03T16:19:16.953Z"
   },
   {
    "duration": 17,
    "start_time": "2022-06-03T16:19:48.226Z"
   },
   {
    "duration": 16,
    "start_time": "2022-06-03T16:21:20.659Z"
   },
   {
    "duration": 19,
    "start_time": "2022-06-03T16:21:52.785Z"
   },
   {
    "duration": 12,
    "start_time": "2022-06-03T16:22:33.364Z"
   },
   {
    "duration": 124,
    "start_time": "2022-06-03T16:22:43.979Z"
   },
   {
    "duration": 22,
    "start_time": "2022-06-03T16:26:46.708Z"
   },
   {
    "duration": 28,
    "start_time": "2022-06-03T16:27:38.008Z"
   },
   {
    "duration": 29,
    "start_time": "2022-06-03T16:28:13.592Z"
   },
   {
    "duration": 483,
    "start_time": "2022-06-03T16:30:56.079Z"
   },
   {
    "duration": 35,
    "start_time": "2022-06-03T16:31:08.255Z"
   },
   {
    "duration": 13,
    "start_time": "2022-06-03T16:31:16.282Z"
   },
   {
    "duration": 511,
    "start_time": "2022-06-03T16:31:20.291Z"
   },
   {
    "duration": 677,
    "start_time": "2022-06-03T16:31:30.697Z"
   },
   {
    "duration": 1173,
    "start_time": "2022-06-03T16:31:38.992Z"
   },
   {
    "duration": 436,
    "start_time": "2022-06-03T16:31:40.168Z"
   },
   {
    "duration": 15,
    "start_time": "2022-06-03T16:31:40.606Z"
   },
   {
    "duration": 27,
    "start_time": "2022-06-03T16:31:40.623Z"
   },
   {
    "duration": 54,
    "start_time": "2022-06-03T16:31:40.652Z"
   },
   {
    "duration": 3,
    "start_time": "2022-06-03T16:31:40.707Z"
   },
   {
    "duration": 9,
    "start_time": "2022-06-03T16:31:40.711Z"
   },
   {
    "duration": 52,
    "start_time": "2022-06-03T16:31:40.721Z"
   },
   {
    "duration": 35,
    "start_time": "2022-06-03T16:31:40.775Z"
   },
   {
    "duration": 28,
    "start_time": "2022-06-03T16:31:40.813Z"
   },
   {
    "duration": 27,
    "start_time": "2022-06-03T16:31:40.843Z"
   },
   {
    "duration": 129,
    "start_time": "2022-06-03T16:31:40.872Z"
   },
   {
    "duration": 69,
    "start_time": "2022-06-03T16:31:41.003Z"
   },
   {
    "duration": 37,
    "start_time": "2022-06-03T16:31:41.073Z"
   },
   {
    "duration": 37,
    "start_time": "2022-06-03T16:31:41.111Z"
   },
   {
    "duration": 49,
    "start_time": "2022-06-03T16:31:41.150Z"
   },
   {
    "duration": 84,
    "start_time": "2022-06-03T16:31:41.201Z"
   },
   {
    "duration": 15,
    "start_time": "2022-06-03T16:31:41.287Z"
   },
   {
    "duration": 12,
    "start_time": "2022-06-03T16:31:41.303Z"
   },
   {
    "duration": 45,
    "start_time": "2022-06-03T16:31:41.317Z"
   },
   {
    "duration": 25,
    "start_time": "2022-06-03T16:31:41.364Z"
   },
   {
    "duration": 5,
    "start_time": "2022-06-03T16:31:41.392Z"
   },
   {
    "duration": 9,
    "start_time": "2022-06-03T16:31:41.399Z"
   },
   {
    "duration": 41,
    "start_time": "2022-06-03T16:31:41.410Z"
   },
   {
    "duration": 9,
    "start_time": "2022-06-03T16:31:41.453Z"
   },
   {
    "duration": 7,
    "start_time": "2022-06-03T16:31:41.464Z"
   },
   {
    "duration": 33,
    "start_time": "2022-06-03T16:31:41.472Z"
   },
   {
    "duration": 36,
    "start_time": "2022-06-03T16:31:41.510Z"
   },
   {
    "duration": 156,
    "start_time": "2022-06-03T16:31:41.548Z"
   },
   {
    "duration": 0,
    "start_time": "2022-06-03T16:31:41.706Z"
   },
   {
    "duration": 0,
    "start_time": "2022-06-03T16:31:41.707Z"
   },
   {
    "duration": 0,
    "start_time": "2022-06-03T16:31:41.708Z"
   },
   {
    "duration": 0,
    "start_time": "2022-06-03T16:31:41.709Z"
   },
   {
    "duration": 0,
    "start_time": "2022-06-03T16:31:41.711Z"
   },
   {
    "duration": 0,
    "start_time": "2022-06-03T16:31:41.712Z"
   },
   {
    "duration": 0,
    "start_time": "2022-06-03T16:31:41.713Z"
   },
   {
    "duration": 0,
    "start_time": "2022-06-03T16:31:41.714Z"
   },
   {
    "duration": 0,
    "start_time": "2022-06-03T16:31:41.716Z"
   },
   {
    "duration": 0,
    "start_time": "2022-06-03T16:31:41.717Z"
   },
   {
    "duration": 0,
    "start_time": "2022-06-03T16:31:41.718Z"
   },
   {
    "duration": 0,
    "start_time": "2022-06-03T16:31:41.720Z"
   },
   {
    "duration": 0,
    "start_time": "2022-06-03T16:31:41.741Z"
   },
   {
    "duration": 0,
    "start_time": "2022-06-03T16:31:41.742Z"
   },
   {
    "duration": 0,
    "start_time": "2022-06-03T16:31:41.744Z"
   },
   {
    "duration": 0,
    "start_time": "2022-06-03T16:31:41.745Z"
   },
   {
    "duration": 0,
    "start_time": "2022-06-03T16:31:41.747Z"
   },
   {
    "duration": 0,
    "start_time": "2022-06-03T16:31:41.748Z"
   },
   {
    "duration": 0,
    "start_time": "2022-06-03T16:31:41.749Z"
   },
   {
    "duration": 0,
    "start_time": "2022-06-03T16:31:41.750Z"
   },
   {
    "duration": 0,
    "start_time": "2022-06-03T16:31:41.751Z"
   },
   {
    "duration": 36,
    "start_time": "2022-06-03T16:32:24.921Z"
   },
   {
    "duration": 11,
    "start_time": "2022-06-03T16:32:33.194Z"
   },
   {
    "duration": 17,
    "start_time": "2022-06-03T16:32:38.699Z"
   },
   {
    "duration": 16,
    "start_time": "2022-06-03T16:33:00.727Z"
   },
   {
    "duration": 84,
    "start_time": "2022-06-03T16:34:32.442Z"
   },
   {
    "duration": 98,
    "start_time": "2022-06-03T16:38:14.544Z"
   },
   {
    "duration": 23,
    "start_time": "2022-06-03T16:38:35.980Z"
   },
   {
    "duration": 86,
    "start_time": "2022-06-03T16:38:40.033Z"
   },
   {
    "duration": 113,
    "start_time": "2022-06-03T16:38:48.021Z"
   },
   {
    "duration": 13,
    "start_time": "2022-06-03T16:46:01.243Z"
   },
   {
    "duration": 28,
    "start_time": "2022-06-03T16:46:47.502Z"
   },
   {
    "duration": 305,
    "start_time": "2022-06-03T17:06:59.074Z"
   },
   {
    "duration": 1222,
    "start_time": "2022-06-03T17:07:16.794Z"
   },
   {
    "duration": 448,
    "start_time": "2022-06-03T17:07:18.018Z"
   },
   {
    "duration": 14,
    "start_time": "2022-06-03T17:07:18.467Z"
   },
   {
    "duration": 34,
    "start_time": "2022-06-03T17:07:18.483Z"
   },
   {
    "duration": 56,
    "start_time": "2022-06-03T17:07:18.519Z"
   },
   {
    "duration": 3,
    "start_time": "2022-06-03T17:07:18.577Z"
   },
   {
    "duration": 24,
    "start_time": "2022-06-03T17:07:18.582Z"
   },
   {
    "duration": 72,
    "start_time": "2022-06-03T17:07:18.608Z"
   },
   {
    "duration": 36,
    "start_time": "2022-06-03T17:07:18.682Z"
   },
   {
    "duration": 21,
    "start_time": "2022-06-03T17:07:18.721Z"
   },
   {
    "duration": 41,
    "start_time": "2022-06-03T17:07:18.744Z"
   },
   {
    "duration": 119,
    "start_time": "2022-06-03T17:07:18.786Z"
   },
   {
    "duration": 67,
    "start_time": "2022-06-03T17:07:18.907Z"
   },
   {
    "duration": 36,
    "start_time": "2022-06-03T17:07:18.975Z"
   },
   {
    "duration": 36,
    "start_time": "2022-06-03T17:07:19.013Z"
   },
   {
    "duration": 62,
    "start_time": "2022-06-03T17:07:19.051Z"
   },
   {
    "duration": 62,
    "start_time": "2022-06-03T17:07:19.114Z"
   },
   {
    "duration": 14,
    "start_time": "2022-06-03T17:07:19.177Z"
   },
   {
    "duration": 20,
    "start_time": "2022-06-03T17:07:19.193Z"
   },
   {
    "duration": 36,
    "start_time": "2022-06-03T17:07:19.215Z"
   },
   {
    "duration": 44,
    "start_time": "2022-06-03T17:07:19.252Z"
   },
   {
    "duration": 5,
    "start_time": "2022-06-03T17:07:19.297Z"
   },
   {
    "duration": 12,
    "start_time": "2022-06-03T17:07:19.303Z"
   },
   {
    "duration": 25,
    "start_time": "2022-06-03T17:07:19.317Z"
   },
   {
    "duration": 13,
    "start_time": "2022-06-03T17:07:19.344Z"
   },
   {
    "duration": 24,
    "start_time": "2022-06-03T17:07:19.358Z"
   },
   {
    "duration": 31,
    "start_time": "2022-06-03T17:07:19.384Z"
   },
   {
    "duration": 14,
    "start_time": "2022-06-03T17:07:19.418Z"
   },
   {
    "duration": 70,
    "start_time": "2022-06-03T17:07:19.434Z"
   },
   {
    "duration": 20,
    "start_time": "2022-06-03T17:07:19.507Z"
   },
   {
    "duration": 20,
    "start_time": "2022-06-03T17:07:19.529Z"
   },
   {
    "duration": 124,
    "start_time": "2022-06-03T17:07:19.551Z"
   },
   {
    "duration": 21,
    "start_time": "2022-06-03T17:07:19.676Z"
   },
   {
    "duration": 9,
    "start_time": "2022-06-03T17:07:19.699Z"
   },
   {
    "duration": 443,
    "start_time": "2022-06-03T17:07:19.710Z"
   },
   {
    "duration": 312,
    "start_time": "2022-06-03T17:07:20.154Z"
   },
   {
    "duration": 304,
    "start_time": "2022-06-03T17:07:20.468Z"
   },
   {
    "duration": 375,
    "start_time": "2022-06-03T17:07:20.774Z"
   },
   {
    "duration": 327,
    "start_time": "2022-06-03T17:07:21.151Z"
   },
   {
    "duration": 258,
    "start_time": "2022-06-03T17:07:21.479Z"
   },
   {
    "duration": 25,
    "start_time": "2022-06-03T17:07:21.742Z"
   },
   {
    "duration": 319,
    "start_time": "2022-06-03T17:07:21.769Z"
   },
   {
    "duration": 0,
    "start_time": "2022-06-03T17:07:22.089Z"
   },
   {
    "duration": 0,
    "start_time": "2022-06-03T17:07:22.090Z"
   },
   {
    "duration": 0,
    "start_time": "2022-06-03T17:07:22.092Z"
   },
   {
    "duration": 0,
    "start_time": "2022-06-03T17:07:22.093Z"
   },
   {
    "duration": 0,
    "start_time": "2022-06-03T17:07:22.093Z"
   },
   {
    "duration": 0,
    "start_time": "2022-06-03T17:07:22.094Z"
   },
   {
    "duration": 0,
    "start_time": "2022-06-03T17:07:22.096Z"
   },
   {
    "duration": 0,
    "start_time": "2022-06-03T17:07:22.097Z"
   },
   {
    "duration": 0,
    "start_time": "2022-06-03T17:07:22.098Z"
   },
   {
    "duration": 0,
    "start_time": "2022-06-03T17:07:22.099Z"
   },
   {
    "duration": 0,
    "start_time": "2022-06-03T17:07:22.100Z"
   },
   {
    "duration": 213,
    "start_time": "2022-06-03T17:07:44.508Z"
   },
   {
    "duration": 829,
    "start_time": "2022-06-03T17:08:08.576Z"
   },
   {
    "duration": 204,
    "start_time": "2022-06-03T17:09:15.212Z"
   },
   {
    "duration": 763,
    "start_time": "2022-06-03T17:09:24.178Z"
   },
   {
    "duration": 1134,
    "start_time": "2022-06-04T09:34:06.405Z"
   },
   {
    "duration": 1061,
    "start_time": "2022-06-04T09:34:07.541Z"
   },
   {
    "duration": 12,
    "start_time": "2022-06-04T09:34:08.604Z"
   },
   {
    "duration": 21,
    "start_time": "2022-06-04T09:34:08.618Z"
   },
   {
    "duration": 51,
    "start_time": "2022-06-04T09:34:08.640Z"
   },
   {
    "duration": 3,
    "start_time": "2022-06-04T09:34:08.693Z"
   },
   {
    "duration": 10,
    "start_time": "2022-06-04T09:34:08.698Z"
   },
   {
    "duration": 42,
    "start_time": "2022-06-04T09:34:08.710Z"
   },
   {
    "duration": 41,
    "start_time": "2022-06-04T09:34:08.754Z"
   },
   {
    "duration": 10,
    "start_time": "2022-06-04T09:34:08.799Z"
   },
   {
    "duration": 28,
    "start_time": "2022-06-04T09:34:08.811Z"
   },
   {
    "duration": 156,
    "start_time": "2022-06-04T09:34:08.840Z"
   },
   {
    "duration": 84,
    "start_time": "2022-06-04T09:34:08.999Z"
   },
   {
    "duration": 39,
    "start_time": "2022-06-04T09:34:09.087Z"
   },
   {
    "duration": 40,
    "start_time": "2022-06-04T09:34:09.130Z"
   },
   {
    "duration": 47,
    "start_time": "2022-06-04T09:34:09.172Z"
   },
   {
    "duration": 83,
    "start_time": "2022-06-04T09:34:09.221Z"
   },
   {
    "duration": 17,
    "start_time": "2022-06-04T09:34:09.306Z"
   },
   {
    "duration": 12,
    "start_time": "2022-06-04T09:34:09.324Z"
   },
   {
    "duration": 40,
    "start_time": "2022-06-04T09:34:09.337Z"
   },
   {
    "duration": 27,
    "start_time": "2022-06-04T09:34:09.379Z"
   },
   {
    "duration": 6,
    "start_time": "2022-06-04T09:34:09.408Z"
   },
   {
    "duration": 10,
    "start_time": "2022-06-04T09:34:09.416Z"
   },
   {
    "duration": 37,
    "start_time": "2022-06-04T09:34:09.428Z"
   },
   {
    "duration": 6,
    "start_time": "2022-06-04T09:34:09.467Z"
   },
   {
    "duration": 4,
    "start_time": "2022-06-04T09:34:09.476Z"
   },
   {
    "duration": 24,
    "start_time": "2022-06-04T09:34:09.482Z"
   },
   {
    "duration": 12,
    "start_time": "2022-06-04T09:34:09.510Z"
   },
   {
    "duration": 122,
    "start_time": "2022-06-04T09:34:09.523Z"
   },
   {
    "duration": 28,
    "start_time": "2022-06-04T09:34:09.648Z"
   },
   {
    "duration": 18,
    "start_time": "2022-06-04T09:34:09.678Z"
   },
   {
    "duration": 171,
    "start_time": "2022-06-04T09:34:09.699Z"
   },
   {
    "duration": 22,
    "start_time": "2022-06-04T09:34:09.872Z"
   },
   {
    "duration": 6,
    "start_time": "2022-06-04T09:34:09.896Z"
   },
   {
    "duration": 313,
    "start_time": "2022-06-04T09:34:09.904Z"
   },
   {
    "duration": 153,
    "start_time": "2022-06-04T09:34:10.218Z"
   },
   {
    "duration": 161,
    "start_time": "2022-06-04T09:34:10.373Z"
   },
   {
    "duration": 170,
    "start_time": "2022-06-04T09:34:10.536Z"
   },
   {
    "duration": 177,
    "start_time": "2022-06-04T09:34:10.708Z"
   },
   {
    "duration": 176,
    "start_time": "2022-06-04T09:34:10.886Z"
   },
   {
    "duration": 26,
    "start_time": "2022-06-04T09:34:11.063Z"
   },
   {
    "duration": 27,
    "start_time": "2022-06-04T09:34:11.090Z"
   },
   {
    "duration": 3,
    "start_time": "2022-06-04T09:34:11.119Z"
   },
   {
    "duration": 229,
    "start_time": "2022-06-04T09:34:11.123Z"
   },
   {
    "duration": 261,
    "start_time": "2022-06-04T09:34:11.354Z"
   },
   {
    "duration": 6,
    "start_time": "2022-06-04T09:34:11.617Z"
   },
   {
    "duration": 11,
    "start_time": "2022-06-04T09:34:11.625Z"
   },
   {
    "duration": 45,
    "start_time": "2022-06-04T09:34:11.638Z"
   },
   {
    "duration": 21,
    "start_time": "2022-06-04T09:34:11.685Z"
   },
   {
    "duration": 215,
    "start_time": "2022-06-04T09:34:11.707Z"
   },
   {
    "duration": 246,
    "start_time": "2022-06-04T09:34:11.924Z"
   },
   {
    "duration": 7,
    "start_time": "2022-06-04T09:34:12.171Z"
   },
   {
    "duration": 50,
    "start_time": "2022-11-06T12:11:05.520Z"
   },
   {
    "duration": 1159,
    "start_time": "2022-11-06T12:11:14.127Z"
   },
   {
    "duration": 1013,
    "start_time": "2022-11-06T12:11:15.288Z"
   },
   {
    "duration": 13,
    "start_time": "2022-11-06T12:11:16.303Z"
   },
   {
    "duration": 21,
    "start_time": "2022-11-06T12:11:16.318Z"
   },
   {
    "duration": 54,
    "start_time": "2022-11-06T12:11:16.340Z"
   },
   {
    "duration": 5,
    "start_time": "2022-11-06T12:11:16.395Z"
   },
   {
    "duration": 51,
    "start_time": "2022-11-06T12:11:16.402Z"
   },
   {
    "duration": 34,
    "start_time": "2022-11-06T12:11:16.455Z"
   },
   {
    "duration": 29,
    "start_time": "2022-11-06T12:11:16.491Z"
   },
   {
    "duration": 24,
    "start_time": "2022-11-06T12:11:16.524Z"
   },
   {
    "duration": 128,
    "start_time": "2022-11-06T12:11:16.550Z"
   },
   {
    "duration": 61,
    "start_time": "2022-11-06T12:11:16.680Z"
   },
   {
    "duration": 32,
    "start_time": "2022-11-06T12:11:16.742Z"
   },
   {
    "duration": 18,
    "start_time": "2022-11-06T12:11:16.776Z"
   },
   {
    "duration": 70,
    "start_time": "2022-11-06T12:11:16.796Z"
   },
   {
    "duration": 72,
    "start_time": "2022-11-06T12:11:16.867Z"
   },
   {
    "duration": 14,
    "start_time": "2022-11-06T12:11:16.940Z"
   },
   {
    "duration": 29,
    "start_time": "2022-11-06T12:11:16.955Z"
   },
   {
    "duration": 30,
    "start_time": "2022-11-06T12:11:16.986Z"
   },
   {
    "duration": 31,
    "start_time": "2022-11-06T12:11:17.017Z"
   },
   {
    "duration": 5,
    "start_time": "2022-11-06T12:11:17.049Z"
   },
   {
    "duration": 6,
    "start_time": "2022-11-06T12:11:17.056Z"
   },
   {
    "duration": 15,
    "start_time": "2022-11-06T12:11:17.063Z"
   },
   {
    "duration": 6,
    "start_time": "2022-11-06T12:11:17.080Z"
   },
   {
    "duration": 7,
    "start_time": "2022-11-06T12:11:17.087Z"
   },
   {
    "duration": 43,
    "start_time": "2022-11-06T12:11:17.095Z"
   },
   {
    "duration": 13,
    "start_time": "2022-11-06T12:11:17.140Z"
   },
   {
    "duration": 75,
    "start_time": "2022-11-06T12:11:17.157Z"
   },
   {
    "duration": 14,
    "start_time": "2022-11-06T12:11:17.234Z"
   },
   {
    "duration": 12,
    "start_time": "2022-11-06T12:11:17.249Z"
   },
   {
    "duration": 126,
    "start_time": "2022-11-06T12:11:17.263Z"
   },
   {
    "duration": 20,
    "start_time": "2022-11-06T12:11:17.391Z"
   },
   {
    "duration": 8,
    "start_time": "2022-11-06T12:11:17.413Z"
   },
   {
    "duration": 171,
    "start_time": "2022-11-06T12:11:17.423Z"
   },
   {
    "duration": 146,
    "start_time": "2022-11-06T12:11:17.596Z"
   },
   {
    "duration": 161,
    "start_time": "2022-11-06T12:11:17.744Z"
   },
   {
    "duration": 163,
    "start_time": "2022-11-06T12:11:17.907Z"
   },
   {
    "duration": 148,
    "start_time": "2022-11-06T12:11:18.072Z"
   },
   {
    "duration": 173,
    "start_time": "2022-11-06T12:11:18.222Z"
   },
   {
    "duration": 43,
    "start_time": "2022-11-06T12:11:18.398Z"
   },
   {
    "duration": 18,
    "start_time": "2022-11-06T12:11:18.443Z"
   },
   {
    "duration": 25,
    "start_time": "2022-11-06T12:11:18.463Z"
   },
   {
    "duration": 227,
    "start_time": "2022-11-06T12:11:18.491Z"
   },
   {
    "duration": 260,
    "start_time": "2022-11-06T12:11:18.720Z"
   },
   {
    "duration": 9,
    "start_time": "2022-11-06T12:11:18.982Z"
   },
   {
    "duration": 27,
    "start_time": "2022-11-06T12:11:18.993Z"
   },
   {
    "duration": 45,
    "start_time": "2022-11-06T12:11:19.022Z"
   },
   {
    "duration": 124,
    "start_time": "2022-11-06T12:11:19.068Z"
   },
   {
    "duration": 231,
    "start_time": "2022-11-06T12:11:19.194Z"
   },
   {
    "duration": 234,
    "start_time": "2022-11-06T12:11:19.427Z"
   },
   {
    "duration": 8,
    "start_time": "2022-11-06T12:11:19.663Z"
   },
   {
    "duration": 807,
    "start_time": "2022-11-06T12:12:25.638Z"
   },
   {
    "duration": 825,
    "start_time": "2022-11-06T12:13:30.197Z"
   },
   {
    "duration": 707,
    "start_time": "2022-11-06T12:13:47.947Z"
   },
   {
    "duration": 1104,
    "start_time": "2022-11-06T12:14:57.370Z"
   },
   {
    "duration": 455,
    "start_time": "2022-11-06T12:14:58.476Z"
   },
   {
    "duration": 15,
    "start_time": "2022-11-06T12:14:58.934Z"
   },
   {
    "duration": 53,
    "start_time": "2022-11-06T12:14:58.951Z"
   },
   {
    "duration": 72,
    "start_time": "2022-11-06T12:14:59.006Z"
   },
   {
    "duration": 8,
    "start_time": "2022-11-06T12:14:59.080Z"
   },
   {
    "duration": 68,
    "start_time": "2022-11-06T12:14:59.090Z"
   },
   {
    "duration": 37,
    "start_time": "2022-11-06T12:14:59.160Z"
   },
   {
    "duration": 23,
    "start_time": "2022-11-06T12:14:59.198Z"
   },
   {
    "duration": 37,
    "start_time": "2022-11-06T12:14:59.223Z"
   },
   {
    "duration": 138,
    "start_time": "2022-11-06T12:14:59.262Z"
   },
   {
    "duration": 62,
    "start_time": "2022-11-06T12:14:59.402Z"
   },
   {
    "duration": 31,
    "start_time": "2022-11-06T12:14:59.466Z"
   },
   {
    "duration": 31,
    "start_time": "2022-11-06T12:14:59.499Z"
   },
   {
    "duration": 47,
    "start_time": "2022-11-06T12:14:59.531Z"
   },
   {
    "duration": 74,
    "start_time": "2022-11-06T12:14:59.580Z"
   },
   {
    "duration": 15,
    "start_time": "2022-11-06T12:14:59.655Z"
   },
   {
    "duration": 9,
    "start_time": "2022-11-06T12:14:59.672Z"
   },
   {
    "duration": 49,
    "start_time": "2022-11-06T12:14:59.682Z"
   },
   {
    "duration": 27,
    "start_time": "2022-11-06T12:14:59.733Z"
   },
   {
    "duration": 4,
    "start_time": "2022-11-06T12:14:59.761Z"
   },
   {
    "duration": 10,
    "start_time": "2022-11-06T12:14:59.767Z"
   },
   {
    "duration": 13,
    "start_time": "2022-11-06T12:14:59.779Z"
   },
   {
    "duration": 5,
    "start_time": "2022-11-06T12:14:59.820Z"
   },
   {
    "duration": 7,
    "start_time": "2022-11-06T12:14:59.827Z"
   },
   {
    "duration": 30,
    "start_time": "2022-11-06T12:14:59.836Z"
   },
   {
    "duration": 14,
    "start_time": "2022-11-06T12:14:59.868Z"
   },
   {
    "duration": 91,
    "start_time": "2022-11-06T12:14:59.886Z"
   },
   {
    "duration": 16,
    "start_time": "2022-11-06T12:14:59.979Z"
   },
   {
    "duration": 32,
    "start_time": "2022-11-06T12:14:59.997Z"
   },
   {
    "duration": 117,
    "start_time": "2022-11-06T12:15:00.031Z"
   },
   {
    "duration": 35,
    "start_time": "2022-11-06T12:15:00.150Z"
   },
   {
    "duration": 17,
    "start_time": "2022-11-06T12:15:00.187Z"
   },
   {
    "duration": 211,
    "start_time": "2022-11-06T12:15:00.206Z"
   },
   {
    "duration": 160,
    "start_time": "2022-11-06T12:15:00.420Z"
   },
   {
    "duration": 159,
    "start_time": "2022-11-06T12:15:00.582Z"
   },
   {
    "duration": 166,
    "start_time": "2022-11-06T12:15:00.743Z"
   },
   {
    "duration": 153,
    "start_time": "2022-11-06T12:15:00.911Z"
   },
   {
    "duration": 173,
    "start_time": "2022-11-06T12:15:01.066Z"
   },
   {
    "duration": 30,
    "start_time": "2022-11-06T12:15:01.241Z"
   },
   {
    "duration": 17,
    "start_time": "2022-11-06T12:15:01.273Z"
   },
   {
    "duration": 2,
    "start_time": "2022-11-06T12:15:01.292Z"
   },
   {
    "duration": 224,
    "start_time": "2022-11-06T12:15:01.296Z"
   },
   {
    "duration": 239,
    "start_time": "2022-11-06T12:15:01.522Z"
   },
   {
    "duration": 7,
    "start_time": "2022-11-06T12:15:01.762Z"
   },
   {
    "duration": 11,
    "start_time": "2022-11-06T12:15:01.770Z"
   },
   {
    "duration": 39,
    "start_time": "2022-11-06T12:15:01.782Z"
   },
   {
    "duration": 107,
    "start_time": "2022-11-06T12:15:01.823Z"
   },
   {
    "duration": 209,
    "start_time": "2022-11-06T12:15:01.931Z"
   },
   {
    "duration": 241,
    "start_time": "2022-11-06T12:15:02.142Z"
   },
   {
    "duration": 7,
    "start_time": "2022-11-06T12:15:02.386Z"
   },
   {
    "duration": 830,
    "start_time": "2022-11-06T12:15:21.186Z"
   },
   {
    "duration": 711,
    "start_time": "2022-11-06T12:15:45.273Z"
   },
   {
    "duration": 1122,
    "start_time": "2022-11-06T12:16:15.360Z"
   },
   {
    "duration": 443,
    "start_time": "2022-11-06T12:16:16.484Z"
   },
   {
    "duration": 12,
    "start_time": "2022-11-06T12:16:16.929Z"
   },
   {
    "duration": 21,
    "start_time": "2022-11-06T12:16:16.943Z"
   },
   {
    "duration": 72,
    "start_time": "2022-11-06T12:16:16.966Z"
   },
   {
    "duration": 5,
    "start_time": "2022-11-06T12:16:17.040Z"
   },
   {
    "duration": 40,
    "start_time": "2022-11-06T12:16:17.046Z"
   },
   {
    "duration": 49,
    "start_time": "2022-11-06T12:16:17.088Z"
   },
   {
    "duration": 12,
    "start_time": "2022-11-06T12:16:17.139Z"
   },
   {
    "duration": 22,
    "start_time": "2022-11-06T12:16:17.154Z"
   },
   {
    "duration": 132,
    "start_time": "2022-11-06T12:16:17.178Z"
   },
   {
    "duration": 59,
    "start_time": "2022-11-06T12:16:17.313Z"
   },
   {
    "duration": 46,
    "start_time": "2022-11-06T12:16:17.375Z"
   },
   {
    "duration": 17,
    "start_time": "2022-11-06T12:16:17.423Z"
   },
   {
    "duration": 47,
    "start_time": "2022-11-06T12:16:17.441Z"
   },
   {
    "duration": 78,
    "start_time": "2022-11-06T12:16:17.489Z"
   },
   {
    "duration": 15,
    "start_time": "2022-11-06T12:16:17.569Z"
   },
   {
    "duration": 7,
    "start_time": "2022-11-06T12:16:17.586Z"
   },
   {
    "duration": 45,
    "start_time": "2022-11-06T12:16:17.595Z"
   },
   {
    "duration": 29,
    "start_time": "2022-11-06T12:16:17.642Z"
   },
   {
    "duration": 4,
    "start_time": "2022-11-06T12:16:17.673Z"
   },
   {
    "duration": 8,
    "start_time": "2022-11-06T12:16:17.678Z"
   },
   {
    "duration": 35,
    "start_time": "2022-11-06T12:16:17.688Z"
   },
   {
    "duration": 6,
    "start_time": "2022-11-06T12:16:17.725Z"
   },
   {
    "duration": 5,
    "start_time": "2022-11-06T12:16:17.732Z"
   },
   {
    "duration": 21,
    "start_time": "2022-11-06T12:16:17.739Z"
   },
   {
    "duration": 12,
    "start_time": "2022-11-06T12:16:17.762Z"
   },
   {
    "duration": 94,
    "start_time": "2022-11-06T12:16:17.778Z"
   },
   {
    "duration": 15,
    "start_time": "2022-11-06T12:16:17.874Z"
   },
   {
    "duration": 32,
    "start_time": "2022-11-06T12:16:17.892Z"
   },
   {
    "duration": 120,
    "start_time": "2022-11-06T12:16:17.926Z"
   },
   {
    "duration": 21,
    "start_time": "2022-11-06T12:16:18.048Z"
   },
   {
    "duration": 9,
    "start_time": "2022-11-06T12:16:18.070Z"
   },
   {
    "duration": 166,
    "start_time": "2022-11-06T12:16:18.081Z"
   },
   {
    "duration": 153,
    "start_time": "2022-11-06T12:16:18.248Z"
   },
   {
    "duration": 156,
    "start_time": "2022-11-06T12:16:18.403Z"
   },
   {
    "duration": 155,
    "start_time": "2022-11-06T12:16:18.561Z"
   },
   {
    "duration": 151,
    "start_time": "2022-11-06T12:16:18.721Z"
   },
   {
    "duration": 212,
    "start_time": "2022-11-06T12:16:18.874Z"
   },
   {
    "duration": 50,
    "start_time": "2022-11-06T12:16:19.089Z"
   },
   {
    "duration": 19,
    "start_time": "2022-11-06T12:16:19.141Z"
   },
   {
    "duration": 3,
    "start_time": "2022-11-06T12:16:19.162Z"
   },
   {
    "duration": 210,
    "start_time": "2022-11-06T12:16:19.168Z"
   },
   {
    "duration": 263,
    "start_time": "2022-11-06T12:16:19.380Z"
   },
   {
    "duration": 7,
    "start_time": "2022-11-06T12:16:19.644Z"
   },
   {
    "duration": 12,
    "start_time": "2022-11-06T12:16:19.653Z"
   },
   {
    "duration": 33,
    "start_time": "2022-11-06T12:16:19.667Z"
   },
   {
    "duration": 136,
    "start_time": "2022-11-06T12:16:19.702Z"
   },
   {
    "duration": 237,
    "start_time": "2022-11-06T12:16:19.840Z"
   },
   {
    "duration": 235,
    "start_time": "2022-11-06T12:16:20.079Z"
   },
   {
    "duration": 9,
    "start_time": "2022-11-06T12:16:20.316Z"
   },
   {
    "duration": 837,
    "start_time": "2022-11-06T12:16:38.724Z"
   },
   {
    "duration": 1138,
    "start_time": "2022-11-06T12:16:53.409Z"
   },
   {
    "duration": 450,
    "start_time": "2022-11-06T12:16:54.549Z"
   },
   {
    "duration": 13,
    "start_time": "2022-11-06T12:16:55.001Z"
   },
   {
    "duration": 22,
    "start_time": "2022-11-06T12:16:55.016Z"
   },
   {
    "duration": 66,
    "start_time": "2022-11-06T12:16:55.041Z"
   },
   {
    "duration": 6,
    "start_time": "2022-11-06T12:16:55.121Z"
   },
   {
    "duration": 44,
    "start_time": "2022-11-06T12:16:55.128Z"
   },
   {
    "duration": 63,
    "start_time": "2022-11-06T12:16:55.174Z"
   },
   {
    "duration": 16,
    "start_time": "2022-11-06T12:16:55.239Z"
   },
   {
    "duration": 27,
    "start_time": "2022-11-06T12:16:55.259Z"
   },
   {
    "duration": 133,
    "start_time": "2022-11-06T12:16:55.287Z"
   },
   {
    "duration": 56,
    "start_time": "2022-11-06T12:16:55.422Z"
   },
   {
    "duration": 48,
    "start_time": "2022-11-06T12:16:55.479Z"
   },
   {
    "duration": 17,
    "start_time": "2022-11-06T12:16:55.528Z"
   },
   {
    "duration": 49,
    "start_time": "2022-11-06T12:16:55.547Z"
   },
   {
    "duration": 78,
    "start_time": "2022-11-06T12:16:55.597Z"
   },
   {
    "duration": 15,
    "start_time": "2022-11-06T12:16:55.677Z"
   },
   {
    "duration": 32,
    "start_time": "2022-11-06T12:16:55.694Z"
   },
   {
    "duration": 21,
    "start_time": "2022-11-06T12:16:55.727Z"
   },
   {
    "duration": 30,
    "start_time": "2022-11-06T12:16:55.750Z"
   },
   {
    "duration": 4,
    "start_time": "2022-11-06T12:16:55.782Z"
   },
   {
    "duration": 7,
    "start_time": "2022-11-06T12:16:55.787Z"
   },
   {
    "duration": 15,
    "start_time": "2022-11-06T12:16:55.820Z"
   },
   {
    "duration": 5,
    "start_time": "2022-11-06T12:16:55.837Z"
   },
   {
    "duration": 7,
    "start_time": "2022-11-06T12:16:55.844Z"
   },
   {
    "duration": 31,
    "start_time": "2022-11-06T12:16:55.852Z"
   },
   {
    "duration": 12,
    "start_time": "2022-11-06T12:16:55.885Z"
   },
   {
    "duration": 59,
    "start_time": "2022-11-06T12:16:55.922Z"
   },
   {
    "duration": 15,
    "start_time": "2022-11-06T12:16:55.982Z"
   },
   {
    "duration": 31,
    "start_time": "2022-11-06T12:16:55.999Z"
   },
   {
    "duration": 122,
    "start_time": "2022-11-06T12:16:56.032Z"
   },
   {
    "duration": 23,
    "start_time": "2022-11-06T12:16:56.156Z"
   },
   {
    "duration": 10,
    "start_time": "2022-11-06T12:16:56.181Z"
   },
   {
    "duration": 178,
    "start_time": "2022-11-06T12:16:56.192Z"
   },
   {
    "duration": 159,
    "start_time": "2022-11-06T12:16:56.372Z"
   },
   {
    "duration": 171,
    "start_time": "2022-11-06T12:16:56.533Z"
   },
   {
    "duration": 156,
    "start_time": "2022-11-06T12:16:56.706Z"
   },
   {
    "duration": 156,
    "start_time": "2022-11-06T12:16:56.864Z"
   },
   {
    "duration": 159,
    "start_time": "2022-11-06T12:16:57.022Z"
   },
   {
    "duration": 26,
    "start_time": "2022-11-06T12:16:57.183Z"
   },
   {
    "duration": 24,
    "start_time": "2022-11-06T12:16:57.211Z"
   },
   {
    "duration": 7,
    "start_time": "2022-11-06T12:16:57.237Z"
   },
   {
    "duration": 195,
    "start_time": "2022-11-06T12:16:57.245Z"
   },
   {
    "duration": 425,
    "start_time": "2022-11-06T12:16:57.442Z"
   },
   {
    "duration": 7,
    "start_time": "2022-11-06T12:16:57.920Z"
   },
   {
    "duration": 50,
    "start_time": "2022-11-06T12:16:57.928Z"
   },
   {
    "duration": 64,
    "start_time": "2022-11-06T12:16:57.980Z"
   },
   {
    "duration": 206,
    "start_time": "2022-11-06T12:16:58.046Z"
   },
   {
    "duration": 411,
    "start_time": "2022-11-06T12:16:58.253Z"
   },
   {
    "duration": 577,
    "start_time": "2022-11-06T12:16:58.665Z"
   },
   {
    "duration": 8,
    "start_time": "2022-11-06T12:16:59.244Z"
   },
   {
    "duration": 302,
    "start_time": "2022-11-06T12:23:42.489Z"
   },
   {
    "duration": 271,
    "start_time": "2022-11-06T12:24:38.284Z"
   },
   {
    "duration": 280,
    "start_time": "2022-11-06T12:26:53.307Z"
   },
   {
    "duration": 45,
    "start_time": "2022-11-06T12:27:09.482Z"
   },
   {
    "duration": 42,
    "start_time": "2022-11-06T12:28:49.869Z"
   }
  ],
  "kernelspec": {
   "display_name": "Python 3 (ipykernel)",
   "language": "python",
   "name": "python3"
  },
  "language_info": {
   "codemirror_mode": {
    "name": "ipython",
    "version": 3
   },
   "file_extension": ".py",
   "mimetype": "text/x-python",
   "name": "python",
   "nbconvert_exporter": "python",
   "pygments_lexer": "ipython3",
   "version": "3.9.5"
  },
  "toc": {
   "base_numbering": 1,
   "nav_menu": {},
   "number_sections": true,
   "sideBar": true,
   "skip_h1_title": true,
   "title_cell": "Table of Contents",
   "title_sidebar": "Contents",
   "toc_cell": false,
   "toc_position": {},
   "toc_section_display": true,
   "toc_window_display": true
  }
 },
 "nbformat": 4,
 "nbformat_minor": 2
}
