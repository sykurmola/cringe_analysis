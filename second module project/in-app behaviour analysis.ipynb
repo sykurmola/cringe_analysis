{
 "cells": [
  {
   "cell_type": "markdown",
   "metadata": {},
   "source": [
    "# Исследование поведения пользователей сервиса для покупки продуктов"
   ]
  },
  {
   "cell_type": "markdown",
   "metadata": {},
   "source": [
    "Для стартапа, который продаёт продукты питания, нужно проанализировать поведение пользователей мобильного приложения. Есть данные о  каждом событии - название, ID пользователя, время и номер эксперимента (пользователи поделены на группы -  246 и 247 — контрольные группы, а 248 — экспериментальная). На пользователях экспериментальной группы разработчики тестируют новый шрифт.\n",
    "\n",
    "Задачи:\n",
    "\n",
    "- изучить воронку продаж\n",
    "- оценить результаты A/A/B-эксперимента: сравнить сначала контрольные группы, а затем объединённую контрольную группу с группой с изменённым шрифтом"
   ]
  },
  {
   "cell_type": "code",
   "execution_count": 1,
   "metadata": {},
   "outputs": [],
   "source": [
    "import pandas as pd\n",
    "import numpy as np\n",
    "import math as mth\n",
    "import seaborn as sns\n",
    "import matplotlib.pyplot as plt\n",
    "from scipy import stats as st\n",
    "from plotly import graph_objects as go"
   ]
  },
  {
   "cell_type": "markdown",
   "metadata": {},
   "source": [
    "## Загрузка данных"
   ]
  },
  {
   "cell_type": "code",
   "execution_count": 2,
   "metadata": {},
   "outputs": [
    {
     "data": {
      "text/html": [
       "<div>\n",
       "<style scoped>\n",
       "    .dataframe tbody tr th:only-of-type {\n",
       "        vertical-align: middle;\n",
       "    }\n",
       "\n",
       "    .dataframe tbody tr th {\n",
       "        vertical-align: top;\n",
       "    }\n",
       "\n",
       "    .dataframe thead th {\n",
       "        text-align: right;\n",
       "    }\n",
       "</style>\n",
       "<table border=\"1\" class=\"dataframe\">\n",
       "  <thead>\n",
       "    <tr style=\"text-align: right;\">\n",
       "      <th></th>\n",
       "      <th>EventName</th>\n",
       "      <th>DeviceIDHash</th>\n",
       "      <th>EventTimestamp</th>\n",
       "      <th>ExpId</th>\n",
       "    </tr>\n",
       "  </thead>\n",
       "  <tbody>\n",
       "    <tr>\n",
       "      <th>0</th>\n",
       "      <td>MainScreenAppear</td>\n",
       "      <td>4575588528974610257</td>\n",
       "      <td>1564029816</td>\n",
       "      <td>246</td>\n",
       "    </tr>\n",
       "    <tr>\n",
       "      <th>1</th>\n",
       "      <td>MainScreenAppear</td>\n",
       "      <td>7416695313311560658</td>\n",
       "      <td>1564053102</td>\n",
       "      <td>246</td>\n",
       "    </tr>\n",
       "    <tr>\n",
       "      <th>2</th>\n",
       "      <td>PaymentScreenSuccessful</td>\n",
       "      <td>3518123091307005509</td>\n",
       "      <td>1564054127</td>\n",
       "      <td>248</td>\n",
       "    </tr>\n",
       "    <tr>\n",
       "      <th>3</th>\n",
       "      <td>CartScreenAppear</td>\n",
       "      <td>3518123091307005509</td>\n",
       "      <td>1564054127</td>\n",
       "      <td>248</td>\n",
       "    </tr>\n",
       "    <tr>\n",
       "      <th>4</th>\n",
       "      <td>PaymentScreenSuccessful</td>\n",
       "      <td>6217807653094995999</td>\n",
       "      <td>1564055322</td>\n",
       "      <td>248</td>\n",
       "    </tr>\n",
       "  </tbody>\n",
       "</table>\n",
       "</div>"
      ],
      "text/plain": [
       "                 EventName         DeviceIDHash  EventTimestamp  ExpId\n",
       "0         MainScreenAppear  4575588528974610257      1564029816    246\n",
       "1         MainScreenAppear  7416695313311560658      1564053102    246\n",
       "2  PaymentScreenSuccessful  3518123091307005509      1564054127    248\n",
       "3         CartScreenAppear  3518123091307005509      1564054127    248\n",
       "4  PaymentScreenSuccessful  6217807653094995999      1564055322    248"
      ]
     },
     "metadata": {},
     "output_type": "display_data"
    },
    {
     "name": "stdout",
     "output_type": "stream",
     "text": [
      "<class 'pandas.core.frame.DataFrame'>\n",
      "RangeIndex: 244126 entries, 0 to 244125\n",
      "Data columns (total 4 columns):\n",
      " #   Column          Non-Null Count   Dtype \n",
      "---  ------          --------------   ----- \n",
      " 0   EventName       244126 non-null  object\n",
      " 1   DeviceIDHash    244126 non-null  int64 \n",
      " 2   EventTimestamp  244126 non-null  int64 \n",
      " 3   ExpId           244126 non-null  int64 \n",
      "dtypes: int64(3), object(1)\n",
      "memory usage: 7.5+ MB\n",
      "Количество строк-дубликатов: 413\n"
     ]
    },
    {
     "data": {
      "text/plain": [
       "(243713, 4)"
      ]
     },
     "execution_count": 2,
     "metadata": {},
     "output_type": "execute_result"
    }
   ],
   "source": [
    "df = pd.read_csv('/datasets/logs_exp.csv', sep='\\t')\n",
    "display(df.head())\n",
    "df.info()\n",
    "\n",
    "print('Количество строк-дубликатов:', df.duplicated().sum())\n",
    "df = df.drop_duplicates().reset_index(drop=True)\n",
    "\n",
    "df.shape"
   ]
  },
  {
   "cell_type": "markdown",
   "metadata": {},
   "source": [
    "## Подготовка данных"
   ]
  },
  {
   "cell_type": "code",
   "execution_count": 3,
   "metadata": {},
   "outputs": [],
   "source": [
    "# переименуем столбцы\n",
    "\n",
    "df.columns = ['event_name', 'user_id', 'event_timestamp', 'exp_id']"
   ]
  },
  {
   "cell_type": "code",
   "execution_count": 4,
   "metadata": {},
   "outputs": [
    {
     "data": {
      "text/plain": [
       "event_name         0\n",
       "user_id            0\n",
       "event_timestamp    0\n",
       "exp_id             0\n",
       "dtype: int64"
      ]
     },
     "execution_count": 4,
     "metadata": {},
     "output_type": "execute_result"
    }
   ],
   "source": [
    "# проверка на пропуски\n",
    "\n",
    "df.isna().sum()"
   ]
  },
  {
   "cell_type": "code",
   "execution_count": 5,
   "metadata": {},
   "outputs": [
    {
     "data": {
      "text/html": [
       "<div>\n",
       "<style scoped>\n",
       "    .dataframe tbody tr th:only-of-type {\n",
       "        vertical-align: middle;\n",
       "    }\n",
       "\n",
       "    .dataframe tbody tr th {\n",
       "        vertical-align: top;\n",
       "    }\n",
       "\n",
       "    .dataframe thead th {\n",
       "        text-align: right;\n",
       "    }\n",
       "</style>\n",
       "<table border=\"1\" class=\"dataframe\">\n",
       "  <thead>\n",
       "    <tr style=\"text-align: right;\">\n",
       "      <th></th>\n",
       "      <th>event_name</th>\n",
       "      <th>user_id</th>\n",
       "      <th>event_timestamp</th>\n",
       "      <th>exp_id</th>\n",
       "      <th>date_time</th>\n",
       "      <th>date</th>\n",
       "    </tr>\n",
       "  </thead>\n",
       "  <tbody>\n",
       "    <tr>\n",
       "      <th>0</th>\n",
       "      <td>MainScreenAppear</td>\n",
       "      <td>4575588528974610257</td>\n",
       "      <td>1564029816</td>\n",
       "      <td>246</td>\n",
       "      <td>2019-07-25 04:43:36</td>\n",
       "      <td>2019-07-25</td>\n",
       "    </tr>\n",
       "    <tr>\n",
       "      <th>1</th>\n",
       "      <td>MainScreenAppear</td>\n",
       "      <td>7416695313311560658</td>\n",
       "      <td>1564053102</td>\n",
       "      <td>246</td>\n",
       "      <td>2019-07-25 11:11:42</td>\n",
       "      <td>2019-07-25</td>\n",
       "    </tr>\n",
       "    <tr>\n",
       "      <th>2</th>\n",
       "      <td>PaymentScreenSuccessful</td>\n",
       "      <td>3518123091307005509</td>\n",
       "      <td>1564054127</td>\n",
       "      <td>248</td>\n",
       "      <td>2019-07-25 11:28:47</td>\n",
       "      <td>2019-07-25</td>\n",
       "    </tr>\n",
       "    <tr>\n",
       "      <th>3</th>\n",
       "      <td>CartScreenAppear</td>\n",
       "      <td>3518123091307005509</td>\n",
       "      <td>1564054127</td>\n",
       "      <td>248</td>\n",
       "      <td>2019-07-25 11:28:47</td>\n",
       "      <td>2019-07-25</td>\n",
       "    </tr>\n",
       "    <tr>\n",
       "      <th>4</th>\n",
       "      <td>PaymentScreenSuccessful</td>\n",
       "      <td>6217807653094995999</td>\n",
       "      <td>1564055322</td>\n",
       "      <td>248</td>\n",
       "      <td>2019-07-25 11:48:42</td>\n",
       "      <td>2019-07-25</td>\n",
       "    </tr>\n",
       "  </tbody>\n",
       "</table>\n",
       "</div>"
      ],
      "text/plain": [
       "                event_name              user_id  event_timestamp  exp_id  \\\n",
       "0         MainScreenAppear  4575588528974610257       1564029816     246   \n",
       "1         MainScreenAppear  7416695313311560658       1564053102     246   \n",
       "2  PaymentScreenSuccessful  3518123091307005509       1564054127     248   \n",
       "3         CartScreenAppear  3518123091307005509       1564054127     248   \n",
       "4  PaymentScreenSuccessful  6217807653094995999       1564055322     248   \n",
       "\n",
       "            date_time       date  \n",
       "0 2019-07-25 04:43:36 2019-07-25  \n",
       "1 2019-07-25 11:11:42 2019-07-25  \n",
       "2 2019-07-25 11:28:47 2019-07-25  \n",
       "3 2019-07-25 11:28:47 2019-07-25  \n",
       "4 2019-07-25 11:48:42 2019-07-25  "
      ]
     },
     "execution_count": 5,
     "metadata": {},
     "output_type": "execute_result"
    }
   ],
   "source": [
    "# новые стобцы с датой и временем и отдельно датой\n",
    "\n",
    "df['date_time'] = pd.to_datetime(df['event_timestamp'], unit='s')\n",
    "df['date'] = df['date_time'].astype('datetime64[D]')\n",
    "\n",
    "df.head()"
   ]
  },
  {
   "cell_type": "code",
   "execution_count": 6,
   "metadata": {},
   "outputs": [
    {
     "name": "stdout",
     "output_type": "stream",
     "text": [
      "Количество пересечений: 0\n"
     ]
    }
   ],
   "source": [
    "# проверка групп на пересечения\n",
    "\n",
    "mask = df.loc[df['exp_id']==246, 'user_id'].isin(df.loc[df['exp_id']==247])\n",
    "mask1 = df.loc[df['exp_id']==246, 'user_id'].isin(df.loc[df['exp_id']==248])\n",
    "mask2 = df.loc[df['exp_id']==247, 'user_id'].isin(df.loc[df['exp_id']==248])\n",
    "res = df.drop(mask[mask].index)\n",
    "res = res.drop(mask1[mask1].index)\n",
    "res = res.drop(mask2[mask2].index)\n",
    "res.shape\n",
    "\n",
    "print('Количество пересечений:', df.shape[0] - res.shape[0])"
   ]
  },
  {
   "cell_type": "markdown",
   "metadata": {},
   "source": [
    "## Изучение и проверка данных "
   ]
  },
  {
   "cell_type": "code",
   "execution_count": 9,
   "metadata": {},
   "outputs": [
    {
     "data": {
      "text/html": [
       "<div>\n",
       "<style scoped>\n",
       "    .dataframe tbody tr th:only-of-type {\n",
       "        vertical-align: middle;\n",
       "    }\n",
       "\n",
       "    .dataframe tbody tr th {\n",
       "        vertical-align: top;\n",
       "    }\n",
       "\n",
       "    .dataframe thead th {\n",
       "        text-align: right;\n",
       "    }\n",
       "</style>\n",
       "<table border=\"1\" class=\"dataframe\">\n",
       "  <thead>\n",
       "    <tr style=\"text-align: right;\">\n",
       "      <th></th>\n",
       "      <th>user_id</th>\n",
       "      <th>event_timestamp</th>\n",
       "      <th>exp_id</th>\n",
       "    </tr>\n",
       "  </thead>\n",
       "  <tbody>\n",
       "    <tr>\n",
       "      <th>count</th>\n",
       "      <td>2.437130e+05</td>\n",
       "      <td>2.437130e+05</td>\n",
       "      <td>243713.000000</td>\n",
       "    </tr>\n",
       "    <tr>\n",
       "      <th>mean</th>\n",
       "      <td>4.627963e+18</td>\n",
       "      <td>1.564914e+09</td>\n",
       "      <td>247.022161</td>\n",
       "    </tr>\n",
       "    <tr>\n",
       "      <th>std</th>\n",
       "      <td>2.642723e+18</td>\n",
       "      <td>1.771388e+05</td>\n",
       "      <td>0.824420</td>\n",
       "    </tr>\n",
       "    <tr>\n",
       "      <th>min</th>\n",
       "      <td>6.888747e+15</td>\n",
       "      <td>1.564030e+09</td>\n",
       "      <td>246.000000</td>\n",
       "    </tr>\n",
       "    <tr>\n",
       "      <th>25%</th>\n",
       "      <td>2.372212e+18</td>\n",
       "      <td>1.564757e+09</td>\n",
       "      <td>246.000000</td>\n",
       "    </tr>\n",
       "    <tr>\n",
       "      <th>50%</th>\n",
       "      <td>4.623192e+18</td>\n",
       "      <td>1.564919e+09</td>\n",
       "      <td>247.000000</td>\n",
       "    </tr>\n",
       "    <tr>\n",
       "      <th>75%</th>\n",
       "      <td>6.932517e+18</td>\n",
       "      <td>1.565075e+09</td>\n",
       "      <td>248.000000</td>\n",
       "    </tr>\n",
       "    <tr>\n",
       "      <th>max</th>\n",
       "      <td>9.222603e+18</td>\n",
       "      <td>1.565213e+09</td>\n",
       "      <td>248.000000</td>\n",
       "    </tr>\n",
       "  </tbody>\n",
       "</table>\n",
       "</div>"
      ],
      "text/plain": [
       "            user_id  event_timestamp         exp_id\n",
       "count  2.437130e+05     2.437130e+05  243713.000000\n",
       "mean   4.627963e+18     1.564914e+09     247.022161\n",
       "std    2.642723e+18     1.771388e+05       0.824420\n",
       "min    6.888747e+15     1.564030e+09     246.000000\n",
       "25%    2.372212e+18     1.564757e+09     246.000000\n",
       "50%    4.623192e+18     1.564919e+09     247.000000\n",
       "75%    6.932517e+18     1.565075e+09     248.000000\n",
       "max    9.222603e+18     1.565213e+09     248.000000"
      ]
     },
     "execution_count": 9,
     "metadata": {},
     "output_type": "execute_result"
    }
   ],
   "source": [
    "df.describe()"
   ]
  },
  {
   "cell_type": "code",
   "execution_count": 24,
   "metadata": {},
   "outputs": [
    {
     "name": "stdout",
     "output_type": "stream",
     "text": [
      "count    7551.000000\n",
      "mean       32.275593\n",
      "std        65.154219\n",
      "min         1.000000\n",
      "25%         9.000000\n",
      "50%        20.000000\n",
      "75%        37.000000\n",
      "max      2307.000000\n",
      "Name: user_id, dtype: float64\n"
     ]
    },
    {
     "data": {
      "text/plain": [
       "(0.0, 500.0)"
      ]
     },
     "execution_count": 24,
     "metadata": {},
     "output_type": "execute_result"
    },
    {
     "data": {
      "image/png": "[encoded data removed]",
      "text/plain": [
       "<Figure size 432x288 with 1 Axes>"
      ]
     },
     "metadata": {
      "needs_background": "light"
     },
     "output_type": "display_data"
    }
   ],
   "source": [
    "count = df['user_id'].value_counts()\n",
    "print(count.describe())\n",
    "plt.hist(count, bins=100)\n",
    "plt.xlim(left=0, right=500)"
   ]
  },
  {
   "cell_type": "code",
   "execution_count": 26,
   "metadata": {},
   "outputs": [
    {
     "name": "stdout",
     "output_type": "stream",
     "text": [
      "89.0\n",
      "200.5\n"
     ]
    }
   ],
   "source": [
    "print(np.percentile(count, 95))\n",
    "print(np.percentile(count, 99))"
   ]
  },
  {
   "cell_type": "markdown",
   "metadata": {},
   "source": [
    "Есть пользователи, которые совершали очень много событий: 5% пользовталей совершили больше 89 событий и 1% больше 200."
   ]
  },
  {
   "cell_type": "code",
   "execution_count": null,
   "metadata": {},
   "outputs": [],
   "source": [
    "print('Число событий в логе:', df.shape[0])"
   ]
  },
  {
   "cell_type": "code",
   "execution_count": 12,
   "metadata": {},
   "outputs": [
    {
     "name": "stdout",
     "output_type": "stream",
     "text": [
      "Число пользователей в логе: 7551\n"
     ]
    }
   ],
   "source": [
    "print('Число пользователей в логе:', df['user_id'].nunique())"
   ]
  },
  {
   "cell_type": "code",
   "execution_count": null,
   "metadata": {},
   "outputs": [],
   "source": [
    "print('Среднее количество событий на пользователя', df.shape[0]/df['user_id'].nunique())"
   ]
  },
  {
   "cell_type": "code",
   "execution_count": null,
   "metadata": {},
   "outputs": [],
   "source": [
    "min_date = df['date_time'].min()\n",
    "max_date = df['date_time'].max()\n",
    "print(min_date)\n",
    "print(max_date)\n",
    "\n",
    "plt.figure(figsize=(10,6))\n",
    "ax = df['date_time'].hist(bins=50)\n",
    "plt.title('Гистограмма по дате и времени')\n",
    "plt.ylabel(\"Частота\")\n",
    "plt.ylabel(\"Дата\")\n",
    "plt.xticks(rotation=45)\n",
    "plt.show()"
   ]
  },
  {
   "cell_type": "markdown",
   "metadata": {},
   "source": [
    "По гистограмме можно сделать вывод, что лучше отбросить события до первого августа."
   ]
  },
  {
   "cell_type": "code",
   "execution_count": null,
   "metadata": {},
   "outputs": [],
   "source": [
    "df1 = df.loc[df['date'] > '2019-07-31']  \n",
    "\n",
    "# проверим, сколько событий мы выбросили\n",
    "\n",
    "print('Сохранилось событий:', df1.shape[0]/df.shape[0])\n",
    "print('Количество потерянных событий:', df.shape[0] - df1.shape[0])\n",
    "print('Доля потерянных событий:', (df.shape[0] - df1.shape[0])/df.shape[0])\n",
    "print('Сохранилось пользователей:', df1['user_id'].nunique()/df['user_id'].nunique())\n",
    "print('Количество потерянных пользователей:', df['user_id'].nunique() - df1['user_id'].nunique())\n",
    "print('Доля потерянных событий:', (df['user_id'].nunique() - df1['user_id'].nunique())/df['user_id'].nunique())"
   ]
  },
  {
   "cell_type": "code",
   "execution_count": null,
   "metadata": {},
   "outputs": [],
   "source": [
    "# проверка, что сохранились пользователи из всех трёх групп\n",
    "\n",
    "df1.groupby('exp_id').agg({'user_id': 'nunique'})"
   ]
  },
  {
   "cell_type": "markdown",
   "metadata": {},
   "source": [
    "## Воронка событий"
   ]
  },
  {
   "cell_type": "markdown",
   "metadata": {},
   "source": [
    "Какие события есть в логах? Как часто они встречаются?"
   ]
  },
  {
   "cell_type": "code",
   "execution_count": null,
   "metadata": {},
   "outputs": [],
   "source": [
    "df1.groupby('event_name')['user_id'].count().reset_index().sort_values(by='user_id', ascending=False)"
   ]
  },
  {
   "cell_type": "markdown",
   "metadata": {},
   "source": [
    "Сколько пользователей совершали каждое из этих событий?"
   ]
  },
  {
   "cell_type": "code",
   "execution_count": null,
   "metadata": {},
   "outputs": [],
   "source": [
    "user_data = df1.groupby('event_name')['user_id'].nunique().reset_index().sort_values(by='user_id', ascending=False)\n",
    "\n",
    "# найдём долю пользователей, которые хотя бы раз совершали событие\n",
    "\n",
    "user_data['share'] = user_data['user_id']/df1['user_id'].nunique()*100\n",
    "user_data"
   ]
  },
  {
   "cell_type": "markdown",
   "metadata": {},
   "source": [
    "Туториал - это, скорее всего, просмотр какой-то справки, его в воронке можно не учитывать. А остальны события выстраиваются в такой последовательнсти: \n",
    "\n",
    "- главная страница\n",
    "- предложения\n",
    "- корзина\n",
    "- успешное завершение платежа"
   ]
  },
  {
   "cell_type": "code",
   "execution_count": null,
   "metadata": {},
   "outputs": [],
   "source": [
    "funnel = user_data[:4]\n",
    "funnel"
   ]
  },
  {
   "cell_type": "code",
   "execution_count": null,
   "metadata": {},
   "outputs": [],
   "source": [
    "# посмотрим, какая доля пользователей проходит на каждый следующий шаг воронки\n",
    "\n",
    "fig = go.Figure(\n",
    "    go.Funnel(\n",
    "        y=funnel.event_name,\n",
    "        x=funnel.user_id))\n",
    "fig.update_layout(title=\"Воронка событий\")\n",
    "fig.show()\n",
    "\n",
    "# и какая доля доходит от первого события до оплаты\n",
    "\n",
    "print(\"От первого события до оплаты доходит\", funnel['share'][3], '% пользователей')"
   ]
  },
  {
   "cell_type": "markdown",
   "metadata": {},
   "source": [
    "Больше всего пользователей теряется при переходе с главного экрана к предложениям."
   ]
  },
  {
   "cell_type": "markdown",
   "metadata": {},
   "source": [
    "## Анализ результатов эксперимента"
   ]
  },
  {
   "cell_type": "code",
   "execution_count": null,
   "metadata": {},
   "outputs": [],
   "source": [
    "# определим количество пользователей в каждой экспериментальной группе\n",
    "\n",
    "users = df1.groupby('exp_id')['user_id'].nunique().reset_index()\n",
    "users"
   ]
  },
  {
   "cell_type": "code",
   "execution_count": null,
   "metadata": {},
   "outputs": [],
   "source": [
    "# выясним, сколько пользователей конвертировалось в каждой из групп\n",
    "\n",
    "g246 = df1.query('exp_id==246 & event_name != \"Tutorial\"')\n",
    "steps246 = g246.groupby('event_name')['user_id'].nunique().reset_index().sort_values(by='user_id', ascending=False)\n",
    "display(steps246)\n",
    "\n",
    "g247 = df1.query('exp_id==247 & event_name != \"Tutorial\"')\n",
    "steps247 = g247.groupby('event_name')['user_id'].nunique().reset_index().sort_values(by='user_id', ascending=False)\n",
    "display(steps247)"
   ]
  },
  {
   "cell_type": "markdown",
   "metadata": {},
   "source": [
    "Сформулируем нулевую и альтернативную гипотезы: H0 - статистически значимых различий между долями у контрольных групп нет, H1 - статистически значимые различия между группами есть. "
   ]
  },
  {
   "cell_type": "code",
   "execution_count": null,
   "metadata": {},
   "outputs": [],
   "source": [
    "alpha = .05 # критический уровень статистической значимости\n",
    "\n",
    "successes = np.array([steps246['user_id'][3], steps247['user_id'][3]])\n",
    "trials = np.array([users['user_id'][0], users['user_id'][1]])\n",
    "\n",
    "# пропорция успехов в первой группе:\n",
    "p1 = successes[0]/trials[0]\n",
    "\n",
    "# пропорция успехов во второй группе:\n",
    "p2 = successes[1]/trials[1]\n",
    "\n",
    "# пропорция успехов в комбинированном датасете:\n",
    "p_combined = (successes[0] + successes[1]) / (trials[0] + trials[1])\n",
    "\n",
    "# разница пропорций в датасетах\n",
    "difference = p1 - p2 \n",
    "\n",
    "# считаем статистику в ст.отклонениях стандартного нормального распределения\n",
    "z_value = difference / mth.sqrt(\n",
    "    p_combined * (1 - p_combined) * (1 / trials[0] + 1 / trials[1])\n",
    ")\n",
    "\n",
    "# задаем стандартное нормальное распределение (среднее 0, ст.отклонение 1)\n",
    "distr = st.norm(0, 1)\n",
    "\n",
    "p_value = (1 - distr.cdf(abs(z_value))) * 2\n",
    "\n",
    "print('p-значение: ', p_value)\n",
    "\n",
    "if p_value < alpha:\n",
    "    print('Отвергаем нулевую гипотезу: между долями есть значимая разница')\n",
    "else:\n",
    "    print(\n",
    "        'Не получилось отвергнуть нулевую гипотезу, нет оснований считать доли разными'\n",
    "    ) "
   ]
  },
  {
   "cell_type": "markdown",
   "metadata": {},
   "source": [
    "По результатам теста статистически значимой разницы между выборками нет."
   ]
  },
  {
   "cell_type": "markdown",
   "metadata": {},
   "source": [
    "Выберите самое популярное событие. Посчитайте число пользователей, совершивших это событие в каждой из контрольных групп. Посчитайте долю пользователей, совершивших это событие. Проверьте, будет ли отличие между группами статистически достоверным. Проделайте то же самое для всех других событий (удобно обернуть проверку в отдельную функцию). Можно ли сказать, что разбиение на группы работает корректно?\n",
    "\n",
    "Аналогично поступите с группой с изменённым шрифтом. Сравните результаты с каждой из контрольных групп в отдельности по каждому событию. Сравните результаты с объединённой контрольной группой. Какие выводы из эксперимента можно сделать?"
   ]
  },
  {
   "cell_type": "markdown",
   "metadata": {},
   "source": [
    "Самое популярное событие - посещение главной страницы."
   ]
  },
  {
   "cell_type": "code",
   "execution_count": null,
   "metadata": {},
   "outputs": [],
   "source": [
    "# число и доля пользователей, совершивших главное событие, в каждой из групп\n",
    "\n",
    "g246 = df1.query('exp_id==246 & event_name != \"Tutorial\"')\n",
    "steps246 = g246.groupby('event_name')['user_id'].nunique().reset_index().sort_values(by='user_id', ascending=False)\n",
    "steps246['share'] = steps246['user_id']/g246['user_id'].nunique()\n",
    "display(steps246)\n",
    "\n",
    "g247 = df1.query('exp_id==247 & event_name != \"Tutorial\"')\n",
    "steps247 = g247.groupby('event_name')['user_id'].nunique().reset_index().sort_values(by='user_id', ascending=False)\n",
    "steps247['share'] = steps247['user_id']/g247['user_id'].nunique()\n",
    "display(steps247)\n",
    "\n",
    "g248 = df1.query('exp_id==248 & event_name != \"Tutorial\"')\n",
    "steps248 = g248.groupby('event_name')['user_id'].nunique().reset_index().sort_values(by='user_id', ascending=False)\n",
    "steps248['share'] = steps248['user_id']/g248['user_id'].nunique()\n",
    "display(steps248)"
   ]
  },
  {
   "cell_type": "markdown",
   "metadata": {},
   "source": [
    "Сформулируем нулевую и альтернативную гипотезы: H0 - статистически значимых различий между долями пользователей, посетивших главный экран, у контрольных групп нет, H1 - такие различия есть."
   ]
  },
  {
   "cell_type": "code",
   "execution_count": null,
   "metadata": {},
   "outputs": [],
   "source": [
    "# применим z-критерий\n",
    "\n",
    "alpha = .05 # критический уровень статистической значимости\n",
    "\n",
    "successes = np.array([steps246['user_id'][1], steps247['user_id'][1]])\n",
    "trials = np.array([users['user_id'][0], users['user_id'][1]])\n",
    "\n",
    "# пропорция успехов в первой группе:\n",
    "p1 = successes[0]/trials[0]\n",
    "\n",
    "# пропорция успехов во второй группе:\n",
    "p2 = successes[1]/trials[1]\n",
    "\n",
    "# пропорция успехов в комбинированном датасете:\n",
    "p_combined = (successes[0] + successes[1]) / (trials[0] + trials[1])\n",
    "\n",
    "# разница пропорций в датасетах\n",
    "difference = p1 - p2 \n",
    "\n",
    "# считаем статистику в ст.отклонениях стандартного нормального распределения\n",
    "z_value = difference / mth.sqrt(\n",
    "    p_combined * (1 - p_combined) * (1 / trials[0] + 1 / trials[1])\n",
    ")\n",
    "\n",
    "# задаем стандартное нормальное распределение (среднее 0, ст.отклонение 1)\n",
    "distr = st.norm(0, 1)\n",
    "\n",
    "p_value = (1 - distr.cdf(abs(z_value))) * 2\n",
    "\n",
    "print('p-значение: ', p_value)\n",
    "\n",
    "if p_value < alpha:\n",
    "    print('Отвергаем нулевую гипотезу: между долями есть значимая разница')\n",
    "else:\n",
    "    print(\n",
    "        'Не получилось отвергнуть нулевую гипотезу, нет оснований считать доли разными'\n",
    "    ) "
   ]
  },
  {
   "cell_type": "markdown",
   "metadata": {},
   "source": [
    "Статистический критерий разницы между группами не нашёл, значит, можно сделать вывод о том, что разбиение на группы сделано корректно."
   ]
  },
  {
   "cell_type": "code",
   "execution_count": null,
   "metadata": {},
   "outputs": [],
   "source": [
    "clients = df1.groupby('exp_id')['user_id'].nunique()"
   ]
  },
  {
   "cell_type": "code",
   "execution_count": null,
   "metadata": {},
   "outputs": [],
   "source": [
    "clients = clients.to_frame().reset_index()\n",
    "clients.loc[3] = ['246+247', 4997]\n",
    "clients = clients.set_index(clients.columns[0])\n",
    "clients"
   ]
  },
  {
   "cell_type": "code",
   "execution_count": null,
   "metadata": {},
   "outputs": [],
   "source": [
    "all_funnels = df1.pivot_table(index='event_name', columns='exp_id',values='user_id',aggfunc='nunique')\\\n",
    "                       .sort_values(246, ascending=False)\n",
    "all_funnels['246+247'] = all_funnels[246] + all_funnels[247]\n",
    "all_funnels.drop(['Tutorial'], inplace=True)\n",
    "all_funnels"
   ]
  },
  {
   "cell_type": "code",
   "execution_count": null,
   "metadata": {},
   "outputs": [],
   "source": [
    "# функция для реализации z-теста\n",
    "\n",
    "def z_test(exp1, exp2, event, alpha): \n",
    "    p1_ev = all_funnels.loc[event, exp1]\n",
    "    p2_ev = all_funnels.loc[event, exp2] \n",
    "    p1_us = clients.loc[exp1, 'user_id'] \n",
    "    p2_us = clients.loc[exp2, 'user_id'] \n",
    "    p1 = p1_ev / p1_us \n",
    "    p2 = p2_ev / p2_us \n",
    "    difference = p1 - p2\n",
    "    p_combined = (p1_ev + p2_ev) / (p1_us + p2_us) \n",
    "    z_value = difference / mth.sqrt(p_combined * (1 - p_combined) * (1 / p1_us + 1 / p2_us))\n",
    "    distr = st.norm(0, 1)\n",
    "    p_value = (1 - distr.cdf(abs(z_value))) * 2\n",
    "    print('Проверка для  {} и {}, событие: {}, p-значение: {p_value:.2f}'.format(exp1, exp2, event, p_value=p_value))\n",
    "    if (p_value < alpha):\n",
    "        print(\"Отвергаем нулевую гипотезу\")\n",
    "    else:\n",
    "        print(\"Не получилось отвергнуть нулевую гипотезу\")"
   ]
  },
  {
   "cell_type": "code",
   "execution_count": null,
   "metadata": {},
   "outputs": [],
   "source": [
    "for event in all_funnels.index:\n",
    "    z_test(246, 247, event, 0.05)\n",
    "    print()"
   ]
  },
  {
   "cell_type": "markdown",
   "metadata": {},
   "source": [
    "Статистический критерий не находит различий между контрольными группами."
   ]
  },
  {
   "cell_type": "code",
   "execution_count": null,
   "metadata": {},
   "outputs": [],
   "source": [
    "# проверка с группой 246\n",
    "\n",
    "for event in all_funnels.index:\n",
    "    z_test(246, 248, event, 0.05)\n",
    "    print()"
   ]
  },
  {
   "cell_type": "markdown",
   "metadata": {},
   "source": [
    "Не выявлено статистически значимых различий между первой контрольной группой и группой, на которой тестировали новый шрифт."
   ]
  },
  {
   "cell_type": "code",
   "execution_count": null,
   "metadata": {},
   "outputs": [],
   "source": [
    "# проверка с группой 247\n",
    "\n",
    "for event in all_funnels.index:\n",
    "    z_test(247, 248, event, 0.05)\n",
    "    print()"
   ]
  },
  {
   "cell_type": "markdown",
   "metadata": {},
   "source": [
    "Между второй контрольной группой и группой с изменёнными шрифтом также нет статистически значимых различий."
   ]
  },
  {
   "cell_type": "code",
   "execution_count": null,
   "metadata": {},
   "outputs": [],
   "source": [
    "# проверка с объединённой контрольной группой\n",
    "\n",
    "for event in all_funnels.index:\n",
    "    z_test('246+247', 248, event, 0.05)\n",
    "    print()"
   ]
  },
  {
   "cell_type": "markdown",
   "metadata": {},
   "source": [
    "Между объединённой контрольной группой и группой с изменённым шрифтом нет статистически значимых различий."
   ]
  },
  {
   "cell_type": "markdown",
   "metadata": {},
   "source": [
    "Можно применить поправку на множественную проверку гипотез. Если применить поправку Бонферрони, за альфа нужно взять 0.05/12 = 0.004 (провели 12 экспериментов Думаю, что в данном случае этого можно не делать, т.к. во всех тестах p-value значительно больше альфа, и результаты не изменятся."
   ]
  },
  {
   "cell_type": "markdown",
   "metadata": {},
   "source": [
    "## Общий вывод\n",
    "\n",
    "Мы опирались на данные, собранные в первую неделю августа. Данные за конец июля в исследовании не учитывались, т.к. есть основания считать, что они  могут быть неполными. Как и ожидалось, самое популярное событие в приложении - это посещение главной страницы. Больше всего пользователей отваливается при переходе с главной страницы к предложениям. Нужно поискать возможные причины, почему пользователи не заходят дальше главной страницы, может, нужно изменить что-то в дизайне.\n",
    "\n",
    "Для проведения тестирования пользователей разбили на три группы, две контрольные и одну экспериментальную. Сравнение контрольных групп не выявило существенных различий между ними, это значит, что разбиение на группы работает корректно, и результатам эксперимента можно доверять. На экспериментальной группе проверили новый шрифт. Результаты эксперимента показали, что в пользователи никак не отреагировали на изменение шрифта, в поведении пользователей контрольных и экспертментальной групп нет существенных различий. \n"
   ]
  }
 ],
 "metadata": {
  "ExecuteTimeLog": [
   {
    "duration": 45,
    "start_time": "2022-08-18T11:59:06.457Z"
   },
   {
    "duration": 1306,
    "start_time": "2022-08-18T11:59:09.612Z"
   },
   {
    "duration": 562,
    "start_time": "2022-08-18T11:59:11.544Z"
   },
   {
    "duration": 164,
    "start_time": "2022-08-18T11:59:37.649Z"
   },
   {
    "duration": 179,
    "start_time": "2022-08-18T11:59:47.949Z"
   },
   {
    "duration": 180,
    "start_time": "2022-08-18T12:00:00.487Z"
   },
   {
    "duration": 3,
    "start_time": "2022-08-18T12:01:43.436Z"
   },
   {
    "duration": 202,
    "start_time": "2022-08-18T12:02:42.555Z"
   },
   {
    "duration": 345,
    "start_time": "2022-08-18T12:04:29.184Z"
   },
   {
    "duration": 306,
    "start_time": "2022-08-18T12:04:36.884Z"
   },
   {
    "duration": 13,
    "start_time": "2022-08-18T12:06:07.214Z"
   },
   {
    "duration": 2781,
    "start_time": "2022-08-18T12:09:02.369Z"
   },
   {
    "duration": 3,
    "start_time": "2022-08-18T12:09:27.212Z"
   },
   {
    "duration": 16,
    "start_time": "2022-08-18T12:09:29.217Z"
   },
   {
    "duration": 37,
    "start_time": "2022-08-18T12:09:30.878Z"
   },
   {
    "duration": 4,
    "start_time": "2022-08-18T12:12:47.739Z"
   },
   {
    "duration": 4,
    "start_time": "2022-08-18T12:13:21.428Z"
   },
   {
    "duration": 3,
    "start_time": "2022-08-18T12:14:38.017Z"
   },
   {
    "duration": 6,
    "start_time": "2022-08-18T12:15:35.822Z"
   },
   {
    "duration": 9,
    "start_time": "2022-08-18T12:16:59.368Z"
   },
   {
    "duration": 5,
    "start_time": "2022-08-18T12:18:38.609Z"
   },
   {
    "duration": 376,
    "start_time": "2022-08-18T12:20:19.632Z"
   },
   {
    "duration": 340,
    "start_time": "2022-08-18T12:22:43.290Z"
   },
   {
    "duration": 260,
    "start_time": "2022-08-18T12:22:57.539Z"
   },
   {
    "duration": 275,
    "start_time": "2022-08-18T12:23:07.429Z"
   },
   {
    "duration": 271,
    "start_time": "2022-08-18T12:23:13.116Z"
   },
   {
    "duration": 45,
    "start_time": "2022-08-18T12:25:01.324Z"
   },
   {
    "duration": 19,
    "start_time": "2022-08-18T12:27:40.848Z"
   },
   {
    "duration": 34,
    "start_time": "2022-08-18T12:27:48.744Z"
   },
   {
    "duration": 25,
    "start_time": "2022-08-18T12:28:30.470Z"
   },
   {
    "duration": 70,
    "start_time": "2022-08-18T12:32:55.191Z"
   },
   {
    "duration": 63,
    "start_time": "2022-08-18T12:33:06.812Z"
   },
   {
    "duration": 48,
    "start_time": "2022-08-18T12:38:42.583Z"
   },
   {
    "duration": 58,
    "start_time": "2022-08-18T12:38:51.814Z"
   },
   {
    "duration": 3,
    "start_time": "2022-08-18T12:59:03.966Z"
   },
   {
    "duration": 8,
    "start_time": "2022-08-18T13:04:18.194Z"
   },
   {
    "duration": 4,
    "start_time": "2022-08-18T13:04:25.255Z"
   },
   {
    "duration": 420,
    "start_time": "2022-08-18T13:05:48.053Z"
   },
   {
    "duration": 8,
    "start_time": "2022-08-18T13:06:10.939Z"
   },
   {
    "duration": 10,
    "start_time": "2022-08-18T13:10:33.755Z"
   },
   {
    "duration": 126,
    "start_time": "2022-08-18T13:10:58.520Z"
   },
   {
    "duration": 12,
    "start_time": "2022-08-18T13:11:27.022Z"
   },
   {
    "duration": 33,
    "start_time": "2022-08-18T13:17:47.957Z"
   },
   {
    "duration": 17,
    "start_time": "2022-08-18T13:18:44.030Z"
   },
   {
    "duration": 47,
    "start_time": "2022-08-18T13:18:54.420Z"
   },
   {
    "duration": 39,
    "start_time": "2022-08-18T13:19:06.324Z"
   },
   {
    "duration": 51,
    "start_time": "2022-08-18T13:19:12.038Z"
   },
   {
    "duration": 3,
    "start_time": "2022-08-18T13:19:28.051Z"
   },
   {
    "duration": 14,
    "start_time": "2022-08-18T13:19:31.042Z"
   },
   {
    "duration": 12,
    "start_time": "2022-08-18T13:21:19.076Z"
   },
   {
    "duration": 13,
    "start_time": "2022-08-18T13:21:40.350Z"
   },
   {
    "duration": 18,
    "start_time": "2022-08-18T13:22:54.963Z"
   },
   {
    "duration": 27,
    "start_time": "2022-08-18T13:24:45.949Z"
   },
   {
    "duration": 55,
    "start_time": "2022-08-18T18:24:47.433Z"
   },
   {
    "duration": 1421,
    "start_time": "2022-08-18T18:24:59.125Z"
   },
   {
    "duration": 1214,
    "start_time": "2022-08-18T18:25:00.548Z"
   },
   {
    "duration": 12,
    "start_time": "2022-08-18T18:25:01.767Z"
   },
   {
    "duration": 26,
    "start_time": "2022-08-18T18:25:01.783Z"
   },
   {
    "duration": 27,
    "start_time": "2022-08-18T18:25:01.811Z"
   },
   {
    "duration": 4,
    "start_time": "2022-08-18T18:25:01.840Z"
   },
   {
    "duration": 14,
    "start_time": "2022-08-18T18:25:01.846Z"
   },
   {
    "duration": 11,
    "start_time": "2022-08-18T18:25:01.867Z"
   },
   {
    "duration": 370,
    "start_time": "2022-08-18T18:25:01.882Z"
   },
   {
    "duration": 38,
    "start_time": "2022-08-18T18:25:02.254Z"
   },
   {
    "duration": 34,
    "start_time": "2022-08-18T18:25:02.294Z"
   },
   {
    "duration": 43,
    "start_time": "2022-08-18T18:25:02.329Z"
   },
   {
    "duration": 62,
    "start_time": "2022-08-18T18:25:02.374Z"
   },
   {
    "duration": 3,
    "start_time": "2022-08-18T18:25:02.438Z"
   },
   {
    "duration": 177,
    "start_time": "2022-08-18T18:25:02.443Z"
   },
   {
    "duration": 2,
    "start_time": "2022-08-18T18:25:02.622Z"
   },
   {
    "duration": 42,
    "start_time": "2022-08-18T18:26:11.266Z"
   },
   {
    "duration": 1270,
    "start_time": "2022-08-18T19:09:40.182Z"
   },
   {
    "duration": 26,
    "start_time": "2022-08-18T19:09:51.386Z"
   },
   {
    "duration": 4,
    "start_time": "2022-08-18T19:12:20.944Z"
   },
   {
    "duration": 73,
    "start_time": "2022-08-18T19:12:39.202Z"
   },
   {
    "duration": 1271,
    "start_time": "2022-08-18T19:12:46.564Z"
   },
   {
    "duration": 912,
    "start_time": "2022-08-18T19:12:47.837Z"
   },
   {
    "duration": 4,
    "start_time": "2022-08-18T19:12:48.751Z"
   },
   {
    "duration": 16,
    "start_time": "2022-08-18T19:12:48.767Z"
   },
   {
    "duration": 44,
    "start_time": "2022-08-18T19:12:48.785Z"
   },
   {
    "duration": 3,
    "start_time": "2022-08-18T19:12:48.832Z"
   },
   {
    "duration": 11,
    "start_time": "2022-08-18T19:12:48.838Z"
   },
   {
    "duration": 23,
    "start_time": "2022-08-18T19:12:48.850Z"
   },
   {
    "duration": 356,
    "start_time": "2022-08-18T19:12:48.875Z"
   },
   {
    "duration": 38,
    "start_time": "2022-08-18T19:12:49.233Z"
   },
   {
    "duration": 37,
    "start_time": "2022-08-18T19:12:49.273Z"
   },
   {
    "duration": 26,
    "start_time": "2022-08-18T19:12:49.312Z"
   },
   {
    "duration": 81,
    "start_time": "2022-08-18T19:12:49.340Z"
   },
   {
    "duration": 3,
    "start_time": "2022-08-18T19:12:49.423Z"
   },
   {
    "duration": 168,
    "start_time": "2022-08-18T19:12:49.427Z"
   },
   {
    "duration": 74,
    "start_time": "2022-08-18T19:12:49.597Z"
   },
   {
    "duration": 47,
    "start_time": "2022-08-18T19:14:13.592Z"
   },
   {
    "duration": 1314,
    "start_time": "2022-08-18T19:14:24.156Z"
   },
   {
    "duration": 889,
    "start_time": "2022-08-18T19:14:25.472Z"
   },
   {
    "duration": 3,
    "start_time": "2022-08-18T19:14:26.362Z"
   },
   {
    "duration": 17,
    "start_time": "2022-08-18T19:14:26.366Z"
   },
   {
    "duration": 26,
    "start_time": "2022-08-18T19:14:26.386Z"
   },
   {
    "duration": 4,
    "start_time": "2022-08-18T19:14:26.413Z"
   },
   {
    "duration": 16,
    "start_time": "2022-08-18T19:14:26.419Z"
   },
   {
    "duration": 31,
    "start_time": "2022-08-18T19:14:26.437Z"
   },
   {
    "duration": 454,
    "start_time": "2022-08-18T19:14:26.470Z"
   },
   {
    "duration": 43,
    "start_time": "2022-08-18T19:14:26.926Z"
   },
   {
    "duration": 35,
    "start_time": "2022-08-18T19:14:26.971Z"
   },
   {
    "duration": 26,
    "start_time": "2022-08-18T19:14:27.007Z"
   },
   {
    "duration": 78,
    "start_time": "2022-08-18T19:14:27.035Z"
   },
   {
    "duration": 3,
    "start_time": "2022-08-18T19:14:27.115Z"
   },
   {
    "duration": 177,
    "start_time": "2022-08-18T19:14:27.119Z"
   },
   {
    "duration": 74,
    "start_time": "2022-08-18T19:14:27.298Z"
   },
   {
    "duration": 34,
    "start_time": "2022-08-18T19:14:27.374Z"
   },
   {
    "duration": 166,
    "start_time": "2022-08-18T19:14:27.410Z"
   },
   {
    "duration": 33,
    "start_time": "2022-08-18T19:14:36.391Z"
   },
   {
    "duration": 32,
    "start_time": "2022-08-18T19:15:07.160Z"
   },
   {
    "duration": 31,
    "start_time": "2022-08-18T19:15:15.794Z"
   },
   {
    "duration": 33,
    "start_time": "2022-08-18T19:16:33.743Z"
   },
   {
    "duration": 35,
    "start_time": "2022-08-18T19:16:45.831Z"
   },
   {
    "duration": 65,
    "start_time": "2022-08-18T19:18:04.679Z"
   },
   {
    "duration": 69,
    "start_time": "2022-08-18T19:18:21.583Z"
   },
   {
    "duration": 72,
    "start_time": "2022-08-18T19:19:02.890Z"
   },
   {
    "duration": 12,
    "start_time": "2022-08-18T19:19:27.927Z"
   },
   {
    "duration": 12,
    "start_time": "2022-08-18T19:19:55.881Z"
   },
   {
    "duration": 12,
    "start_time": "2022-08-18T19:23:55.350Z"
   },
   {
    "duration": 12,
    "start_time": "2022-08-18T19:24:21.046Z"
   },
   {
    "duration": 83,
    "start_time": "2022-08-18T19:34:37.130Z"
   },
   {
    "duration": 15,
    "start_time": "2022-08-18T19:50:29.797Z"
   },
   {
    "duration": 7,
    "start_time": "2022-08-18T19:52:51.151Z"
   },
   {
    "duration": 10,
    "start_time": "2022-08-18T19:57:43.256Z"
   },
   {
    "duration": 84,
    "start_time": "2022-08-18T19:58:30.967Z"
   },
   {
    "duration": 9,
    "start_time": "2022-08-18T19:58:34.252Z"
   },
   {
    "duration": 6,
    "start_time": "2022-08-18T19:58:36.584Z"
   },
   {
    "duration": 16,
    "start_time": "2022-08-18T19:58:39.888Z"
   },
   {
    "duration": 74,
    "start_time": "2022-08-18T20:04:07.484Z"
   },
   {
    "duration": 13,
    "start_time": "2022-08-18T20:05:50.021Z"
   },
   {
    "duration": 12,
    "start_time": "2022-08-18T20:05:55.529Z"
   },
   {
    "duration": 61,
    "start_time": "2022-08-18T20:06:37.929Z"
   },
   {
    "duration": 83,
    "start_time": "2022-08-18T20:06:48.739Z"
   },
   {
    "duration": 10,
    "start_time": "2022-08-18T20:07:12.421Z"
   },
   {
    "duration": 17,
    "start_time": "2022-08-18T20:10:24.830Z"
   },
   {
    "duration": 11,
    "start_time": "2022-08-18T20:10:39.070Z"
   },
   {
    "duration": 35,
    "start_time": "2022-08-18T20:11:17.173Z"
   },
   {
    "duration": 29,
    "start_time": "2022-08-18T20:11:19.639Z"
   },
   {
    "duration": 34,
    "start_time": "2022-08-18T20:11:23.327Z"
   },
   {
    "duration": 35,
    "start_time": "2022-08-18T20:11:29.428Z"
   },
   {
    "duration": 34,
    "start_time": "2022-08-18T20:11:45.225Z"
   },
   {
    "duration": 17,
    "start_time": "2022-08-18T20:11:59.682Z"
   },
   {
    "duration": 11,
    "start_time": "2022-08-18T20:12:08.527Z"
   },
   {
    "duration": 13,
    "start_time": "2022-08-18T20:12:12.767Z"
   },
   {
    "duration": 11,
    "start_time": "2022-08-18T20:13:53.822Z"
   },
   {
    "duration": 53,
    "start_time": "2022-08-19T09:36:10.322Z"
   },
   {
    "duration": 1357,
    "start_time": "2022-08-19T09:36:18.211Z"
   },
   {
    "duration": 648,
    "start_time": "2022-08-19T09:36:19.571Z"
   },
   {
    "duration": 3,
    "start_time": "2022-08-19T09:36:20.221Z"
   },
   {
    "duration": 20,
    "start_time": "2022-08-19T09:36:20.226Z"
   },
   {
    "duration": 41,
    "start_time": "2022-08-19T09:36:20.247Z"
   },
   {
    "duration": 6,
    "start_time": "2022-08-19T09:36:20.289Z"
   },
   {
    "duration": 22,
    "start_time": "2022-08-19T09:36:20.297Z"
   },
   {
    "duration": 7,
    "start_time": "2022-08-19T09:36:20.321Z"
   },
   {
    "duration": 402,
    "start_time": "2022-08-19T09:36:20.329Z"
   },
   {
    "duration": 41,
    "start_time": "2022-08-19T09:36:20.735Z"
   },
   {
    "duration": 34,
    "start_time": "2022-08-19T09:36:20.778Z"
   },
   {
    "duration": 25,
    "start_time": "2022-08-19T09:36:20.814Z"
   },
   {
    "duration": 60,
    "start_time": "2022-08-19T09:36:20.858Z"
   },
   {
    "duration": 3,
    "start_time": "2022-08-19T09:36:20.919Z"
   },
   {
    "duration": 191,
    "start_time": "2022-08-19T09:36:20.924Z"
   },
   {
    "duration": 48,
    "start_time": "2022-08-19T09:36:21.117Z"
   },
   {
    "duration": 240,
    "start_time": "2022-08-19T09:36:21.167Z"
   },
   {
    "duration": 0,
    "start_time": "2022-08-19T09:36:21.409Z"
   },
   {
    "duration": 0,
    "start_time": "2022-08-19T09:36:21.410Z"
   },
   {
    "duration": 0,
    "start_time": "2022-08-19T09:36:21.411Z"
   },
   {
    "duration": 0,
    "start_time": "2022-08-19T09:36:21.412Z"
   },
   {
    "duration": 0,
    "start_time": "2022-08-19T09:36:21.413Z"
   },
   {
    "duration": 13,
    "start_time": "2022-08-19T09:36:30.787Z"
   },
   {
    "duration": 75,
    "start_time": "2022-08-19T09:38:58.057Z"
   },
   {
    "duration": 14,
    "start_time": "2022-08-19T09:41:15.392Z"
   },
   {
    "duration": 96,
    "start_time": "2022-08-19T09:43:41.075Z"
   },
   {
    "duration": 94,
    "start_time": "2022-08-19T09:46:43.120Z"
   },
   {
    "duration": 98,
    "start_time": "2022-08-19T09:47:43.993Z"
   },
   {
    "duration": 9,
    "start_time": "2022-08-19T09:53:43.957Z"
   },
   {
    "duration": 7,
    "start_time": "2022-08-19T09:53:57.170Z"
   },
   {
    "duration": 98,
    "start_time": "2022-08-19T09:59:27.172Z"
   },
   {
    "duration": 186,
    "start_time": "2022-08-19T10:00:04.195Z"
   },
   {
    "duration": 8,
    "start_time": "2022-08-19T10:02:47.878Z"
   },
   {
    "duration": 88,
    "start_time": "2022-08-19T10:02:52.389Z"
   },
   {
    "duration": 5,
    "start_time": "2022-08-19T10:02:55.834Z"
   },
   {
    "duration": 10,
    "start_time": "2022-08-19T10:02:57.717Z"
   },
   {
    "duration": 10,
    "start_time": "2022-08-19T10:03:39.620Z"
   },
   {
    "duration": 9,
    "start_time": "2022-08-19T10:03:59.217Z"
   },
   {
    "duration": 9,
    "start_time": "2022-08-19T10:05:55.896Z"
   },
   {
    "duration": 0,
    "start_time": "2022-08-19T10:30:11.949Z"
   },
   {
    "duration": 11,
    "start_time": "2022-08-19T10:32:48.386Z"
   },
   {
    "duration": 1083,
    "start_time": "2022-08-19T17:17:34.413Z"
   },
   {
    "duration": 307,
    "start_time": "2022-08-19T17:17:35.498Z"
   },
   {
    "duration": 3,
    "start_time": "2022-08-19T17:17:35.806Z"
   },
   {
    "duration": 37,
    "start_time": "2022-08-19T17:17:35.811Z"
   },
   {
    "duration": 28,
    "start_time": "2022-08-19T17:17:35.852Z"
   },
   {
    "duration": 4,
    "start_time": "2022-08-19T17:17:35.887Z"
   },
   {
    "duration": 12,
    "start_time": "2022-08-19T17:17:35.892Z"
   },
   {
    "duration": 8,
    "start_time": "2022-08-19T17:17:35.906Z"
   },
   {
    "duration": 383,
    "start_time": "2022-08-19T17:17:35.916Z"
   },
   {
    "duration": 32,
    "start_time": "2022-08-19T17:17:36.300Z"
   },
   {
    "duration": 42,
    "start_time": "2022-08-19T17:17:36.335Z"
   },
   {
    "duration": 29,
    "start_time": "2022-08-19T17:17:36.388Z"
   },
   {
    "duration": 73,
    "start_time": "2022-08-19T17:17:36.419Z"
   },
   {
    "duration": 2,
    "start_time": "2022-08-19T17:17:36.495Z"
   },
   {
    "duration": 162,
    "start_time": "2022-08-19T17:17:36.499Z"
   },
   {
    "duration": 56,
    "start_time": "2022-08-19T17:17:36.663Z"
   },
   {
    "duration": 124,
    "start_time": "2022-08-19T17:17:36.721Z"
   },
   {
    "duration": 8,
    "start_time": "2022-08-19T17:17:36.847Z"
   },
   {
    "duration": 113,
    "start_time": "2022-08-19T17:17:36.857Z"
   },
   {
    "duration": 0,
    "start_time": "2022-08-19T17:17:36.972Z"
   },
   {
    "duration": 0,
    "start_time": "2022-08-19T17:17:36.973Z"
   },
   {
    "duration": 0,
    "start_time": "2022-08-19T17:17:36.974Z"
   },
   {
    "duration": 0,
    "start_time": "2022-08-19T17:17:36.975Z"
   },
   {
    "duration": 0,
    "start_time": "2022-08-19T17:17:36.976Z"
   },
   {
    "duration": 0,
    "start_time": "2022-08-19T17:17:36.977Z"
   },
   {
    "duration": 0,
    "start_time": "2022-08-19T17:17:36.978Z"
   },
   {
    "duration": 0,
    "start_time": "2022-08-19T17:17:36.979Z"
   },
   {
    "duration": 46,
    "start_time": "2022-08-19T17:35:40.351Z"
   },
   {
    "duration": 0,
    "start_time": "2022-08-19T17:35:41.101Z"
   },
   {
    "duration": 0,
    "start_time": "2022-08-19T17:35:41.102Z"
   },
   {
    "duration": 0,
    "start_time": "2022-08-19T17:35:41.103Z"
   },
   {
    "duration": 0,
    "start_time": "2022-08-19T17:35:41.104Z"
   },
   {
    "duration": 0,
    "start_time": "2022-08-19T17:35:41.105Z"
   },
   {
    "duration": 0,
    "start_time": "2022-08-19T17:35:41.106Z"
   },
   {
    "duration": 0,
    "start_time": "2022-08-19T17:35:41.107Z"
   },
   {
    "duration": 0,
    "start_time": "2022-08-19T17:35:41.109Z"
   },
   {
    "duration": 0,
    "start_time": "2022-08-19T17:35:41.110Z"
   },
   {
    "duration": 0,
    "start_time": "2022-08-19T17:35:41.111Z"
   },
   {
    "duration": 0,
    "start_time": "2022-08-19T17:35:41.113Z"
   },
   {
    "duration": 0,
    "start_time": "2022-08-19T17:35:41.114Z"
   },
   {
    "duration": 0,
    "start_time": "2022-08-19T17:35:41.115Z"
   },
   {
    "duration": 0,
    "start_time": "2022-08-19T17:35:41.212Z"
   },
   {
    "duration": 0,
    "start_time": "2022-08-19T17:35:41.213Z"
   },
   {
    "duration": 0,
    "start_time": "2022-08-19T17:35:41.214Z"
   },
   {
    "duration": 0,
    "start_time": "2022-08-19T17:35:41.215Z"
   },
   {
    "duration": 0,
    "start_time": "2022-08-19T17:35:41.217Z"
   },
   {
    "duration": 0,
    "start_time": "2022-08-19T17:35:41.218Z"
   },
   {
    "duration": 0,
    "start_time": "2022-08-19T17:35:41.219Z"
   },
   {
    "duration": 0,
    "start_time": "2022-08-19T17:35:41.220Z"
   },
   {
    "duration": 0,
    "start_time": "2022-08-19T17:35:41.221Z"
   },
   {
    "duration": 0,
    "start_time": "2022-08-19T17:35:41.222Z"
   },
   {
    "duration": 0,
    "start_time": "2022-08-19T17:35:41.223Z"
   },
   {
    "duration": 0,
    "start_time": "2022-08-19T17:35:41.224Z"
   },
   {
    "duration": 0,
    "start_time": "2022-08-19T17:35:41.225Z"
   },
   {
    "duration": 0,
    "start_time": "2022-08-19T17:35:41.226Z"
   },
   {
    "duration": 1119,
    "start_time": "2022-08-19T17:35:44.756Z"
   },
   {
    "duration": 307,
    "start_time": "2022-08-19T17:35:45.877Z"
   },
   {
    "duration": 4,
    "start_time": "2022-08-19T17:35:46.186Z"
   },
   {
    "duration": 37,
    "start_time": "2022-08-19T17:35:46.192Z"
   },
   {
    "duration": 37,
    "start_time": "2022-08-19T17:35:46.232Z"
   },
   {
    "duration": 8,
    "start_time": "2022-08-19T17:35:46.271Z"
   },
   {
    "duration": 16,
    "start_time": "2022-08-19T17:35:46.281Z"
   },
   {
    "duration": 7,
    "start_time": "2022-08-19T17:35:46.299Z"
   },
   {
    "duration": 375,
    "start_time": "2022-08-19T17:35:46.308Z"
   },
   {
    "duration": 26,
    "start_time": "2022-08-19T17:35:46.686Z"
   },
   {
    "duration": 31,
    "start_time": "2022-08-19T17:35:46.713Z"
   },
   {
    "duration": 45,
    "start_time": "2022-08-19T17:35:46.746Z"
   },
   {
    "duration": 52,
    "start_time": "2022-08-19T17:35:46.792Z"
   },
   {
    "duration": 3,
    "start_time": "2022-08-19T17:35:46.846Z"
   },
   {
    "duration": 189,
    "start_time": "2022-08-19T17:35:46.850Z"
   },
   {
    "duration": 64,
    "start_time": "2022-08-19T17:35:47.041Z"
   },
   {
    "duration": 114,
    "start_time": "2022-08-19T17:35:47.107Z"
   },
   {
    "duration": 8,
    "start_time": "2022-08-19T17:35:47.223Z"
   },
   {
    "duration": 112,
    "start_time": "2022-08-19T17:35:47.232Z"
   },
   {
    "duration": 6,
    "start_time": "2022-08-19T17:35:47.346Z"
   },
   {
    "duration": 14,
    "start_time": "2022-08-19T17:35:47.354Z"
   },
   {
    "duration": 91,
    "start_time": "2022-08-19T17:35:47.369Z"
   },
   {
    "duration": 4,
    "start_time": "2022-08-19T17:35:47.462Z"
   },
   {
    "duration": 24,
    "start_time": "2022-08-19T17:35:47.467Z"
   },
   {
    "duration": 8,
    "start_time": "2022-08-19T17:35:47.492Z"
   },
   {
    "duration": 9,
    "start_time": "2022-08-19T17:35:47.501Z"
   },
   {
    "duration": 10,
    "start_time": "2022-08-19T17:35:47.511Z"
   },
   {
    "duration": 10,
    "start_time": "2022-08-19T18:06:02.922Z"
   },
   {
    "duration": 46,
    "start_time": "2022-08-20T06:01:57.543Z"
   },
   {
    "duration": 1168,
    "start_time": "2022-08-20T06:02:01.462Z"
   },
   {
    "duration": 708,
    "start_time": "2022-08-20T06:02:11.883Z"
   },
   {
    "duration": 282,
    "start_time": "2022-08-20T06:03:34.304Z"
   },
   {
    "duration": 841,
    "start_time": "2022-08-20T06:18:27.494Z"
   },
   {
    "duration": 1098,
    "start_time": "2022-08-20T06:18:38.275Z"
   },
   {
    "duration": 309,
    "start_time": "2022-08-20T06:18:39.375Z"
   },
   {
    "duration": 3,
    "start_time": "2022-08-20T06:18:39.685Z"
   },
   {
    "duration": 13,
    "start_time": "2022-08-20T06:18:39.699Z"
   },
   {
    "duration": 24,
    "start_time": "2022-08-20T06:18:39.714Z"
   },
   {
    "duration": 177,
    "start_time": "2022-08-20T06:18:39.741Z"
   },
   {
    "duration": 0,
    "start_time": "2022-08-20T06:18:39.921Z"
   },
   {
    "duration": 0,
    "start_time": "2022-08-20T06:18:39.922Z"
   },
   {
    "duration": 0,
    "start_time": "2022-08-20T06:18:39.923Z"
   },
   {
    "duration": 0,
    "start_time": "2022-08-20T06:18:39.924Z"
   },
   {
    "duration": 0,
    "start_time": "2022-08-20T06:18:39.925Z"
   },
   {
    "duration": 0,
    "start_time": "2022-08-20T06:18:39.926Z"
   },
   {
    "duration": 0,
    "start_time": "2022-08-20T06:18:39.926Z"
   },
   {
    "duration": 0,
    "start_time": "2022-08-20T06:18:39.927Z"
   },
   {
    "duration": 0,
    "start_time": "2022-08-20T06:18:39.928Z"
   },
   {
    "duration": 0,
    "start_time": "2022-08-20T06:18:39.929Z"
   },
   {
    "duration": 0,
    "start_time": "2022-08-20T06:18:39.930Z"
   },
   {
    "duration": 0,
    "start_time": "2022-08-20T06:18:39.931Z"
   },
   {
    "duration": 0,
    "start_time": "2022-08-20T06:18:39.932Z"
   },
   {
    "duration": 0,
    "start_time": "2022-08-20T06:18:39.933Z"
   },
   {
    "duration": 0,
    "start_time": "2022-08-20T06:18:39.934Z"
   },
   {
    "duration": 0,
    "start_time": "2022-08-20T06:18:39.935Z"
   },
   {
    "duration": 0,
    "start_time": "2022-08-20T06:18:39.936Z"
   },
   {
    "duration": 0,
    "start_time": "2022-08-20T06:18:39.938Z"
   },
   {
    "duration": 0,
    "start_time": "2022-08-20T06:18:39.939Z"
   },
   {
    "duration": 0,
    "start_time": "2022-08-20T06:18:39.941Z"
   },
   {
    "duration": 0,
    "start_time": "2022-08-20T06:18:39.942Z"
   },
   {
    "duration": 0,
    "start_time": "2022-08-20T06:18:39.943Z"
   },
   {
    "duration": 31,
    "start_time": "2022-08-20T06:19:14.148Z"
   },
   {
    "duration": 25,
    "start_time": "2022-08-20T06:19:32.662Z"
   },
   {
    "duration": 31,
    "start_time": "2022-08-20T06:20:39.920Z"
   },
   {
    "duration": 54,
    "start_time": "2022-08-20T06:22:02.654Z"
   },
   {
    "duration": 17,
    "start_time": "2022-08-20T06:22:43.983Z"
   },
   {
    "duration": 3,
    "start_time": "2022-08-20T06:22:48.415Z"
   },
   {
    "duration": 131,
    "start_time": "2022-08-20T06:22:51.023Z"
   },
   {
    "duration": 7,
    "start_time": "2022-08-20T06:23:46.494Z"
   },
   {
    "duration": 10,
    "start_time": "2022-08-20T06:24:06.399Z"
   },
   {
    "duration": 11,
    "start_time": "2022-08-20T06:25:45.610Z"
   },
   {
    "duration": 9,
    "start_time": "2022-08-20T06:26:22.241Z"
   },
   {
    "duration": 29,
    "start_time": "2022-08-20T06:29:02.854Z"
   },
   {
    "duration": 35,
    "start_time": "2022-08-20T06:29:35.478Z"
   },
   {
    "duration": 63,
    "start_time": "2022-08-20T06:30:59.881Z"
   },
   {
    "duration": 64,
    "start_time": "2022-08-20T06:31:27.563Z"
   },
   {
    "duration": 4,
    "start_time": "2022-08-20T06:32:31.884Z"
   },
   {
    "duration": 7,
    "start_time": "2022-08-20T06:33:07.640Z"
   },
   {
    "duration": 95,
    "start_time": "2022-08-20T06:34:06.694Z"
   },
   {
    "duration": 112,
    "start_time": "2022-08-20T06:34:34.798Z"
   },
   {
    "duration": 25,
    "start_time": "2022-08-20T06:36:56.797Z"
   },
   {
    "duration": 11,
    "start_time": "2022-08-20T06:37:03.534Z"
   },
   {
    "duration": 1087,
    "start_time": "2022-08-20T06:37:16.533Z"
   },
   {
    "duration": 308,
    "start_time": "2022-08-20T06:37:17.621Z"
   },
   {
    "duration": 3,
    "start_time": "2022-08-20T06:37:17.931Z"
   },
   {
    "duration": 24,
    "start_time": "2022-08-20T06:37:17.936Z"
   },
   {
    "duration": 27,
    "start_time": "2022-08-20T06:37:17.962Z"
   },
   {
    "duration": 165,
    "start_time": "2022-08-20T06:37:17.998Z"
   },
   {
    "duration": 0,
    "start_time": "2022-08-20T06:37:18.165Z"
   },
   {
    "duration": 0,
    "start_time": "2022-08-20T06:37:18.166Z"
   },
   {
    "duration": 0,
    "start_time": "2022-08-20T06:37:18.167Z"
   },
   {
    "duration": 0,
    "start_time": "2022-08-20T06:37:18.168Z"
   },
   {
    "duration": 0,
    "start_time": "2022-08-20T06:37:18.169Z"
   },
   {
    "duration": 0,
    "start_time": "2022-08-20T06:37:18.170Z"
   },
   {
    "duration": 0,
    "start_time": "2022-08-20T06:37:18.171Z"
   },
   {
    "duration": 0,
    "start_time": "2022-08-20T06:37:18.173Z"
   },
   {
    "duration": 0,
    "start_time": "2022-08-20T06:37:18.174Z"
   },
   {
    "duration": 0,
    "start_time": "2022-08-20T06:37:18.175Z"
   },
   {
    "duration": 0,
    "start_time": "2022-08-20T06:37:18.177Z"
   },
   {
    "duration": 0,
    "start_time": "2022-08-20T06:37:18.199Z"
   },
   {
    "duration": 0,
    "start_time": "2022-08-20T06:37:18.201Z"
   },
   {
    "duration": 0,
    "start_time": "2022-08-20T06:37:18.203Z"
   },
   {
    "duration": 0,
    "start_time": "2022-08-20T06:37:18.204Z"
   },
   {
    "duration": 0,
    "start_time": "2022-08-20T06:37:18.205Z"
   },
   {
    "duration": 0,
    "start_time": "2022-08-20T06:37:18.206Z"
   },
   {
    "duration": 0,
    "start_time": "2022-08-20T06:37:18.207Z"
   },
   {
    "duration": 0,
    "start_time": "2022-08-20T06:37:18.207Z"
   },
   {
    "duration": 0,
    "start_time": "2022-08-20T06:37:18.211Z"
   },
   {
    "duration": 0,
    "start_time": "2022-08-20T06:37:18.215Z"
   },
   {
    "duration": 0,
    "start_time": "2022-08-20T06:37:18.215Z"
   },
   {
    "duration": 7,
    "start_time": "2022-08-20T06:37:25.857Z"
   },
   {
    "duration": 9,
    "start_time": "2022-08-20T06:37:37.411Z"
   },
   {
    "duration": 9,
    "start_time": "2022-08-20T06:37:40.578Z"
   },
   {
    "duration": 2,
    "start_time": "2022-08-20T06:38:34.311Z"
   },
   {
    "duration": 1099,
    "start_time": "2022-08-20T06:38:49.476Z"
   },
   {
    "duration": 296,
    "start_time": "2022-08-20T06:38:50.577Z"
   },
   {
    "duration": 3,
    "start_time": "2022-08-20T06:38:50.874Z"
   },
   {
    "duration": 23,
    "start_time": "2022-08-20T06:38:50.879Z"
   },
   {
    "duration": 26,
    "start_time": "2022-08-20T06:38:50.903Z"
   },
   {
    "duration": 3,
    "start_time": "2022-08-20T06:38:50.930Z"
   },
   {
    "duration": 4,
    "start_time": "2022-08-20T06:38:50.934Z"
   },
   {
    "duration": 9,
    "start_time": "2022-08-20T06:38:50.940Z"
   },
   {
    "duration": 6,
    "start_time": "2022-08-20T06:38:50.950Z"
   },
   {
    "duration": 325,
    "start_time": "2022-08-20T06:38:50.958Z"
   },
   {
    "duration": 47,
    "start_time": "2022-08-20T06:38:51.284Z"
   },
   {
    "duration": 30,
    "start_time": "2022-08-20T06:38:51.332Z"
   },
   {
    "duration": 48,
    "start_time": "2022-08-20T06:38:51.363Z"
   },
   {
    "duration": 53,
    "start_time": "2022-08-20T06:38:51.413Z"
   },
   {
    "duration": 6,
    "start_time": "2022-08-20T06:38:51.468Z"
   },
   {
    "duration": 169,
    "start_time": "2022-08-20T06:38:51.475Z"
   },
   {
    "duration": 35,
    "start_time": "2022-08-20T06:38:51.645Z"
   },
   {
    "duration": 189,
    "start_time": "2022-08-20T06:38:51.681Z"
   },
   {
    "duration": 0,
    "start_time": "2022-08-20T06:38:51.871Z"
   },
   {
    "duration": 1,
    "start_time": "2022-08-20T06:38:51.872Z"
   },
   {
    "duration": 0,
    "start_time": "2022-08-20T06:38:51.873Z"
   },
   {
    "duration": 0,
    "start_time": "2022-08-20T06:38:51.874Z"
   },
   {
    "duration": 0,
    "start_time": "2022-08-20T06:38:51.874Z"
   },
   {
    "duration": 1,
    "start_time": "2022-08-20T06:38:51.875Z"
   },
   {
    "duration": 0,
    "start_time": "2022-08-20T06:38:51.876Z"
   },
   {
    "duration": 0,
    "start_time": "2022-08-20T06:38:51.877Z"
   },
   {
    "duration": 0,
    "start_time": "2022-08-20T06:38:51.878Z"
   },
   {
    "duration": 0,
    "start_time": "2022-08-20T06:38:51.879Z"
   },
   {
    "duration": 59,
    "start_time": "2022-08-20T06:39:52.696Z"
   },
   {
    "duration": 7,
    "start_time": "2022-08-20T06:39:57.116Z"
   },
   {
    "duration": 103,
    "start_time": "2022-08-20T06:40:01.724Z"
   },
   {
    "duration": 7,
    "start_time": "2022-08-20T06:46:18.910Z"
   },
   {
    "duration": 8,
    "start_time": "2022-08-20T06:46:40.063Z"
   },
   {
    "duration": 11,
    "start_time": "2022-08-20T06:46:46.229Z"
   },
   {
    "duration": 1054,
    "start_time": "2022-08-20T06:46:58.318Z"
   },
   {
    "duration": 305,
    "start_time": "2022-08-20T06:46:59.374Z"
   },
   {
    "duration": 3,
    "start_time": "2022-08-20T06:46:59.680Z"
   },
   {
    "duration": 31,
    "start_time": "2022-08-20T06:46:59.684Z"
   },
   {
    "duration": 21,
    "start_time": "2022-08-20T06:46:59.716Z"
   },
   {
    "duration": 2,
    "start_time": "2022-08-20T06:46:59.739Z"
   },
   {
    "duration": 11,
    "start_time": "2022-08-20T06:46:59.742Z"
   },
   {
    "duration": 11,
    "start_time": "2022-08-20T06:46:59.755Z"
   },
   {
    "duration": 7,
    "start_time": "2022-08-20T06:46:59.768Z"
   },
   {
    "duration": 341,
    "start_time": "2022-08-20T06:46:59.779Z"
   },
   {
    "duration": 40,
    "start_time": "2022-08-20T06:47:00.121Z"
   },
   {
    "duration": 47,
    "start_time": "2022-08-20T06:47:00.163Z"
   },
   {
    "duration": 25,
    "start_time": "2022-08-20T06:47:00.212Z"
   },
   {
    "duration": 78,
    "start_time": "2022-08-20T06:47:00.239Z"
   },
   {
    "duration": 7,
    "start_time": "2022-08-20T06:47:00.319Z"
   },
   {
    "duration": 169,
    "start_time": "2022-08-20T06:47:00.327Z"
   },
   {
    "duration": 45,
    "start_time": "2022-08-20T06:47:00.498Z"
   },
   {
    "duration": 119,
    "start_time": "2022-08-20T06:47:00.544Z"
   },
   {
    "duration": 47,
    "start_time": "2022-08-20T06:47:00.664Z"
   },
   {
    "duration": 126,
    "start_time": "2022-08-20T06:47:00.713Z"
   },
   {
    "duration": 7,
    "start_time": "2022-08-20T06:47:00.841Z"
   },
   {
    "duration": 125,
    "start_time": "2022-08-20T06:47:00.849Z"
   },
   {
    "duration": 0,
    "start_time": "2022-08-20T06:47:00.975Z"
   },
   {
    "duration": 0,
    "start_time": "2022-08-20T06:47:00.976Z"
   },
   {
    "duration": 0,
    "start_time": "2022-08-20T06:47:00.977Z"
   },
   {
    "duration": 0,
    "start_time": "2022-08-20T06:47:00.978Z"
   },
   {
    "duration": 0,
    "start_time": "2022-08-20T06:47:00.979Z"
   },
   {
    "duration": 0,
    "start_time": "2022-08-20T06:47:00.980Z"
   },
   {
    "duration": 33,
    "start_time": "2022-08-20T06:47:12.515Z"
   },
   {
    "duration": 10,
    "start_time": "2022-08-20T06:47:25.710Z"
   },
   {
    "duration": 29,
    "start_time": "2022-08-20T06:47:44.117Z"
   },
   {
    "duration": 9,
    "start_time": "2022-08-20T06:48:01.828Z"
   },
   {
    "duration": 80,
    "start_time": "2022-08-20T06:48:05.467Z"
   },
   {
    "duration": 11,
    "start_time": "2022-08-20T06:48:11.937Z"
   },
   {
    "duration": 3,
    "start_time": "2022-08-20T06:50:21.754Z"
   },
   {
    "duration": 30,
    "start_time": "2022-08-20T06:51:56.587Z"
   },
   {
    "duration": 19,
    "start_time": "2022-08-20T06:51:59.297Z"
   },
   {
    "duration": 10,
    "start_time": "2022-08-20T06:53:14.651Z"
   },
   {
    "duration": 27,
    "start_time": "2022-08-20T06:53:18.529Z"
   },
   {
    "duration": 11,
    "start_time": "2022-08-20T06:53:20.529Z"
   },
   {
    "duration": 8,
    "start_time": "2022-08-20T06:53:45.798Z"
   },
   {
    "duration": 8,
    "start_time": "2022-08-20T06:53:50.111Z"
   },
   {
    "duration": 94,
    "start_time": "2022-08-20T06:54:29.033Z"
   },
   {
    "duration": 8,
    "start_time": "2022-08-20T06:54:45.674Z"
   },
   {
    "duration": 104,
    "start_time": "2022-08-20T06:56:39.627Z"
   },
   {
    "duration": 48,
    "start_time": "2022-08-20T06:58:05.643Z"
   },
   {
    "duration": 209,
    "start_time": "2022-08-20T07:01:45.664Z"
   },
   {
    "duration": 47,
    "start_time": "2022-08-20T07:23:25.317Z"
   },
   {
    "duration": 153,
    "start_time": "2022-08-20T07:25:18.567Z"
   },
   {
    "duration": 139,
    "start_time": "2022-08-20T07:25:22.119Z"
   },
   {
    "duration": 127,
    "start_time": "2022-08-20T07:25:32.104Z"
   },
   {
    "duration": 121,
    "start_time": "2022-08-20T07:27:27.510Z"
   },
   {
    "duration": 1227,
    "start_time": "2022-08-20T08:56:17.813Z"
   },
   {
    "duration": 345,
    "start_time": "2022-08-20T08:56:19.042Z"
   },
   {
    "duration": 3,
    "start_time": "2022-08-20T08:56:19.388Z"
   },
   {
    "duration": 23,
    "start_time": "2022-08-20T08:56:19.393Z"
   },
   {
    "duration": 40,
    "start_time": "2022-08-20T08:56:19.419Z"
   },
   {
    "duration": 170,
    "start_time": "2022-08-20T08:56:19.461Z"
   },
   {
    "duration": 3,
    "start_time": "2022-08-20T08:56:19.633Z"
   },
   {
    "duration": 17,
    "start_time": "2022-08-20T08:56:19.637Z"
   },
   {
    "duration": 19,
    "start_time": "2022-08-20T08:56:19.656Z"
   },
   {
    "duration": 403,
    "start_time": "2022-08-20T08:56:19.677Z"
   },
   {
    "duration": 42,
    "start_time": "2022-08-20T08:56:20.083Z"
   },
   {
    "duration": 52,
    "start_time": "2022-08-20T08:56:20.127Z"
   },
   {
    "duration": 36,
    "start_time": "2022-08-20T08:56:20.185Z"
   },
   {
    "duration": 74,
    "start_time": "2022-08-20T08:56:20.224Z"
   },
   {
    "duration": 9,
    "start_time": "2022-08-20T08:56:20.300Z"
   },
   {
    "duration": 232,
    "start_time": "2022-08-20T08:56:20.312Z"
   },
   {
    "duration": 47,
    "start_time": "2022-08-20T08:56:20.546Z"
   },
   {
    "duration": 125,
    "start_time": "2022-08-20T08:56:20.595Z"
   },
   {
    "duration": 9,
    "start_time": "2022-08-20T08:56:20.721Z"
   },
   {
    "duration": 150,
    "start_time": "2022-08-20T08:56:20.732Z"
   },
   {
    "duration": 9,
    "start_time": "2022-08-20T08:56:20.884Z"
   },
   {
    "duration": 50,
    "start_time": "2022-08-20T08:56:20.894Z"
   },
   {
    "duration": 13,
    "start_time": "2022-08-20T08:56:20.946Z"
   },
   {
    "duration": 95,
    "start_time": "2022-08-20T08:56:20.968Z"
   },
   {
    "duration": 16,
    "start_time": "2022-08-20T08:56:21.064Z"
   },
   {
    "duration": 29,
    "start_time": "2022-08-20T08:56:21.084Z"
   },
   {
    "duration": 30,
    "start_time": "2022-08-20T08:56:21.115Z"
   },
   {
    "duration": 18,
    "start_time": "2022-08-20T08:56:21.147Z"
   },
   {
    "duration": 35,
    "start_time": "2022-08-20T08:56:21.166Z"
   },
   {
    "duration": 10,
    "start_time": "2022-08-20T08:59:57.627Z"
   },
   {
    "duration": 53,
    "start_time": "2022-08-21T06:56:34.981Z"
   },
   {
    "duration": 1478,
    "start_time": "2022-08-21T06:56:49.102Z"
   },
   {
    "duration": 910,
    "start_time": "2022-08-21T06:56:50.582Z"
   },
   {
    "duration": 3,
    "start_time": "2022-08-21T06:56:51.494Z"
   },
   {
    "duration": 21,
    "start_time": "2022-08-21T06:56:51.500Z"
   },
   {
    "duration": 29,
    "start_time": "2022-08-21T06:56:51.522Z"
   },
   {
    "duration": 191,
    "start_time": "2022-08-21T06:56:51.553Z"
   },
   {
    "duration": 4,
    "start_time": "2022-08-21T06:56:51.745Z"
   },
   {
    "duration": 12,
    "start_time": "2022-08-21T06:56:51.751Z"
   },
   {
    "duration": 7,
    "start_time": "2022-08-21T06:56:51.764Z"
   },
   {
    "duration": 392,
    "start_time": "2022-08-21T06:56:51.792Z"
   },
   {
    "duration": 43,
    "start_time": "2022-08-21T06:56:52.187Z"
   },
   {
    "duration": 38,
    "start_time": "2022-08-21T06:56:52.232Z"
   },
   {
    "duration": 45,
    "start_time": "2022-08-21T06:56:52.271Z"
   },
   {
    "duration": 81,
    "start_time": "2022-08-21T06:56:52.318Z"
   },
   {
    "duration": 8,
    "start_time": "2022-08-21T06:56:52.401Z"
   },
   {
    "duration": 163,
    "start_time": "2022-08-21T06:56:52.410Z"
   },
   {
    "duration": 47,
    "start_time": "2022-08-21T06:56:52.575Z"
   },
   {
    "duration": 119,
    "start_time": "2022-08-21T06:56:52.624Z"
   },
   {
    "duration": 9,
    "start_time": "2022-08-21T06:56:52.745Z"
   },
   {
    "duration": 153,
    "start_time": "2022-08-21T06:56:52.756Z"
   },
   {
    "duration": 8,
    "start_time": "2022-08-21T06:56:52.911Z"
   },
   {
    "duration": 50,
    "start_time": "2022-08-21T06:56:52.921Z"
   },
   {
    "duration": 20,
    "start_time": "2022-08-21T06:56:52.972Z"
   },
   {
    "duration": 101,
    "start_time": "2022-08-21T06:56:52.994Z"
   },
   {
    "duration": 5,
    "start_time": "2022-08-21T06:56:53.097Z"
   },
   {
    "duration": 17,
    "start_time": "2022-08-21T06:56:53.105Z"
   },
   {
    "duration": 10,
    "start_time": "2022-08-21T06:56:53.124Z"
   },
   {
    "duration": 9,
    "start_time": "2022-08-21T06:56:53.138Z"
   },
   {
    "duration": 46,
    "start_time": "2022-08-21T06:56:53.149Z"
   },
   {
    "duration": 46,
    "start_time": "2022-11-09T10:55:24.962Z"
   },
   {
    "duration": 1165,
    "start_time": "2022-11-09T10:55:32.101Z"
   },
   {
    "duration": 809,
    "start_time": "2022-11-09T10:55:33.268Z"
   },
   {
    "duration": 2,
    "start_time": "2022-11-09T10:55:34.079Z"
   },
   {
    "duration": 17,
    "start_time": "2022-11-09T10:55:34.084Z"
   },
   {
    "duration": 45,
    "start_time": "2022-11-09T10:55:34.102Z"
   },
   {
    "duration": 157,
    "start_time": "2022-11-09T10:55:34.149Z"
   },
   {
    "duration": 106,
    "start_time": "2022-11-09T10:55:34.307Z"
   },
   {
    "duration": 0,
    "start_time": "2022-11-09T10:55:34.416Z"
   },
   {
    "duration": 0,
    "start_time": "2022-11-09T10:55:34.416Z"
   },
   {
    "duration": 0,
    "start_time": "2022-11-09T10:55:34.418Z"
   },
   {
    "duration": 0,
    "start_time": "2022-11-09T10:55:34.419Z"
   },
   {
    "duration": 0,
    "start_time": "2022-11-09T10:55:34.420Z"
   },
   {
    "duration": 0,
    "start_time": "2022-11-09T10:55:34.431Z"
   },
   {
    "duration": 0,
    "start_time": "2022-11-09T10:55:34.432Z"
   },
   {
    "duration": 0,
    "start_time": "2022-11-09T10:55:34.433Z"
   },
   {
    "duration": 0,
    "start_time": "2022-11-09T10:55:34.434Z"
   },
   {
    "duration": 0,
    "start_time": "2022-11-09T10:55:34.435Z"
   },
   {
    "duration": 0,
    "start_time": "2022-11-09T10:55:34.436Z"
   },
   {
    "duration": 0,
    "start_time": "2022-11-09T10:55:34.437Z"
   },
   {
    "duration": 0,
    "start_time": "2022-11-09T10:55:34.438Z"
   },
   {
    "duration": 0,
    "start_time": "2022-11-09T10:55:34.439Z"
   },
   {
    "duration": 0,
    "start_time": "2022-11-09T10:55:34.440Z"
   },
   {
    "duration": 0,
    "start_time": "2022-11-09T10:55:34.441Z"
   },
   {
    "duration": 0,
    "start_time": "2022-11-09T10:55:34.442Z"
   },
   {
    "duration": 0,
    "start_time": "2022-11-09T10:55:34.443Z"
   },
   {
    "duration": 1,
    "start_time": "2022-11-09T10:55:34.443Z"
   },
   {
    "duration": 0,
    "start_time": "2022-11-09T10:55:34.444Z"
   },
   {
    "duration": 0,
    "start_time": "2022-11-09T10:55:34.446Z"
   },
   {
    "duration": 0,
    "start_time": "2022-11-09T10:55:34.447Z"
   },
   {
    "duration": 0,
    "start_time": "2022-11-09T10:55:34.448Z"
   },
   {
    "duration": 9,
    "start_time": "2022-11-09T10:55:46.163Z"
   },
   {
    "duration": 33,
    "start_time": "2022-11-09T10:55:52.429Z"
   },
   {
    "duration": 184,
    "start_time": "2022-11-09T10:58:40.443Z"
   },
   {
    "duration": 156,
    "start_time": "2022-11-09T10:59:06.960Z"
   },
   {
    "duration": 8,
    "start_time": "2022-11-09T11:02:32.523Z"
   },
   {
    "duration": 8,
    "start_time": "2022-11-09T11:06:15.402Z"
   },
   {
    "duration": 14,
    "start_time": "2022-11-09T11:08:48.466Z"
   },
   {
    "duration": 8,
    "start_time": "2022-11-09T11:09:00.200Z"
   },
   {
    "duration": 192,
    "start_time": "2022-11-09T11:09:33.863Z"
   },
   {
    "duration": 194,
    "start_time": "2022-11-09T11:09:51.220Z"
   },
   {
    "duration": 174,
    "start_time": "2022-11-09T11:11:39.910Z"
   },
   {
    "duration": 161,
    "start_time": "2022-11-09T11:11:54.184Z"
   },
   {
    "duration": 123,
    "start_time": "2022-11-09T11:12:12.734Z"
   },
   {
    "duration": 195,
    "start_time": "2022-11-09T11:12:16.121Z"
   },
   {
    "duration": 307,
    "start_time": "2022-11-09T11:13:31.265Z"
   },
   {
    "duration": 207,
    "start_time": "2022-11-09T11:13:39.276Z"
   },
   {
    "duration": 215,
    "start_time": "2022-11-09T11:13:48.323Z"
   },
   {
    "duration": 5,
    "start_time": "2022-11-09T11:15:01.136Z"
   },
   {
    "duration": 4,
    "start_time": "2022-11-09T11:15:18.511Z"
   }
  ],
  "kernelspec": {
   "display_name": "Python 3 (ipykernel)",
   "language": "python",
   "name": "python3"
  },
  "language_info": {
   "codemirror_mode": {
    "name": "ipython",
    "version": 3
   },
   "file_extension": ".py",
   "mimetype": "text/x-python",
   "name": "python",
   "nbconvert_exporter": "python",
   "pygments_lexer": "ipython3",
   "version": "3.9.5"
  },
  "toc": {
   "base_numbering": 1,
   "nav_menu": {},
   "number_sections": true,
   "sideBar": true,
   "skip_h1_title": true,
   "title_cell": "Table of Contents",
   "title_sidebar": "Contents",
   "toc_cell": false,
   "toc_position": {},
   "toc_section_display": true,
   "toc_window_display": false
  }
 },
 "nbformat": 4,
 "nbformat_minor": 2
}
