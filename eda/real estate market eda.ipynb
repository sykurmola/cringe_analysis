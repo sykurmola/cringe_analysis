{
 "cells": [
  {
   "cell_type": "markdown",
   "metadata": {
    "toc": true
   },
   "source": [
    "<h1>Содержание<span class=\"tocSkip\"></span></h1>\n",
    "<div class=\"toc\"><ul class=\"toc-item\"><li><span><a href=\"#Изучение-данных-из-файла\" data-toc-modified-id=\"Изучение-данных-из-файла-1\"><span class=\"toc-item-num\">1&nbsp;&nbsp;</span>Изучение данных из файла</a></span><ul class=\"toc-item\"><li><span><a href=\"#Вывод\" data-toc-modified-id=\"Вывод-1.1\"><span class=\"toc-item-num\">1.1&nbsp;&nbsp;</span>Вывод</a></span></li></ul></li><li><span><a href=\"#Предобработка-данных\" data-toc-modified-id=\"Предобработка-данных-2\"><span class=\"toc-item-num\">2&nbsp;&nbsp;</span>Предобработка данных</a></span><ul class=\"toc-item\"><li><span><a href=\"#Исследование-и-заполнение-пропусков-в-данных\" data-toc-modified-id=\"Исследование-и-заполнение-пропусков-в-данных-2.1\"><span class=\"toc-item-num\">2.1&nbsp;&nbsp;</span>Исследование и заполнение пропусков в данных</a></span></li><li><span><a href=\"#Изменение-типов-данных\" data-toc-modified-id=\"Изменение-типов-данных-2.2\"><span class=\"toc-item-num\">2.2&nbsp;&nbsp;</span>Изменение типов данных</a></span></li></ul></li><li><span><a href=\"#Расчёты-и-добавление-результатов-в-таблицу\" data-toc-modified-id=\"Расчёты-и-добавление-результатов-в-таблицу-3\"><span class=\"toc-item-num\">3&nbsp;&nbsp;</span>Расчёты и добавление результатов в таблицу</a></span></li><li><span><a href=\"#Исследовательский-анализ-данных\" data-toc-modified-id=\"Исследовательский-анализ-данных-4\"><span class=\"toc-item-num\">4&nbsp;&nbsp;</span>Исследовательский анализ данных</a></span><ul class=\"toc-item\"><li><span><a href=\"#Редкие-и-выбивающиеся-значения\" data-toc-modified-id=\"Редкие-и-выбивающиеся-значения-4.1\"><span class=\"toc-item-num\">4.1&nbsp;&nbsp;</span>Редкие и выбивающиеся значения</a></span></li><li><span><a href=\"#Факторы,-влияющие-на-стоимость-квартиры\" data-toc-modified-id=\"Факторы,-влияющие-на-стоимость-квартиры-4.2\"><span class=\"toc-item-num\">4.2&nbsp;&nbsp;</span>Факторы, влияющие на стоимость квартиры</a></span></li><li><span><a href=\"#Средняя-цена-квадратного-метра\" data-toc-modified-id=\"Средняя-цена-квадратного-метра-4.3\"><span class=\"toc-item-num\">4.3&nbsp;&nbsp;</span>Средняя цена квадратного метра</a></span></li><li><span><a href=\"#Анализ-изменения-цены-по-степени-удалённости-от-центра\" data-toc-modified-id=\"Анализ-изменения-цены-по-степени-удалённости-от-центра-4.4\"><span class=\"toc-item-num\">4.4&nbsp;&nbsp;</span>Анализ изменения цены по степени удалённости от центра</a></span></li><li><span><a href=\"#Вывод\" data-toc-modified-id=\"Вывод-4.5\"><span class=\"toc-item-num\">4.5&nbsp;&nbsp;</span>Вывод</a></span></li></ul></li><li><span><a href=\"#Общий-вывод\" data-toc-modified-id=\"Общий-вывод-5\"><span class=\"toc-item-num\">5&nbsp;&nbsp;</span>Общий вывод</a></span></li></ul></div>"
   ]
  },
  {
   "cell_type": "markdown",
   "metadata": {},
   "source": [
    "# Исследование объявлений о продаже квартир\n",
    "\n",
    "В вашем распоряжении данные сервиса Яндекc Недвижимость — архив объявлений о продаже квартир в Санкт-Петербурге и соседних населённых пунктах за несколько лет. Нужно научиться определять рыночную стоимость объектов недвижимости. Ваша задача — установить параметры. Это позволит построить автоматизированную систему: она отследит аномалии и мошенническую деятельность. \n",
    "\n",
    "По каждой квартире на продажу доступны два вида данных. Первые вписаны пользователем, вторые получены автоматически на основе картографических данных. Например, расстояние до центра, аэропорта, ближайшего парка и водоёма. "
   ]
  },
  {
   "cell_type": "markdown",
   "metadata": {},
   "source": [
    "## Изучение данных из файла"
   ]
  },
  {
   "cell_type": "code",
   "execution_count": 1,
   "metadata": {},
   "outputs": [],
   "source": [
    "import pandas as pd\n",
    "import matplotlib as mpl\n",
    "import seaborn as sns"
   ]
  },
  {
   "cell_type": "code",
   "execution_count": 2,
   "metadata": {},
   "outputs": [],
   "source": [
    "try:\n",
    "    df = pd.read_csv('real_estate_data.csv')\n",
    "except:\n",
    "    df = pd.read_csv('/datasets/real_estate_data.csv', sep='\\t')"
   ]
  },
  {
   "cell_type": "code",
   "execution_count": 3,
   "metadata": {},
   "outputs": [
    {
     "data": {
      "text/plain": [
       "total_images              int64\n",
       "last_price              float64\n",
       "total_area              float64\n",
       "first_day_exposition     object\n",
       "rooms                     int64\n",
       "ceiling_height          float64\n",
       "floors_total            float64\n",
       "living_area             float64\n",
       "floor                     int64\n",
       "is_apartment             object\n",
       "studio                     bool\n",
       "open_plan                  bool\n",
       "kitchen_area            float64\n",
       "balcony                 float64\n",
       "locality_name            object\n",
       "airports_nearest        float64\n",
       "cityCenters_nearest     float64\n",
       "parks_around3000        float64\n",
       "parks_nearest           float64\n",
       "ponds_around3000        float64\n",
       "ponds_nearest           float64\n",
       "days_exposition         float64\n",
       "dtype: object"
      ]
     },
     "execution_count": 3,
     "metadata": {},
     "output_type": "execute_result"
    }
   ],
   "source": [
    "df.dtypes"
   ]
  },
  {
   "cell_type": "code",
   "execution_count": 4,
   "metadata": {},
   "outputs": [
    {
     "name": "stdout",
     "output_type": "stream",
     "text": [
      "<class 'pandas.core.frame.DataFrame'>\n",
      "RangeIndex: 23699 entries, 0 to 23698\n",
      "Data columns (total 22 columns):\n",
      " #   Column                Non-Null Count  Dtype  \n",
      "---  ------                --------------  -----  \n",
      " 0   total_images          23699 non-null  int64  \n",
      " 1   last_price            23699 non-null  float64\n",
      " 2   total_area            23699 non-null  float64\n",
      " 3   first_day_exposition  23699 non-null  object \n",
      " 4   rooms                 23699 non-null  int64  \n",
      " 5   ceiling_height        14504 non-null  float64\n",
      " 6   floors_total          23613 non-null  float64\n",
      " 7   living_area           21796 non-null  float64\n",
      " 8   floor                 23699 non-null  int64  \n",
      " 9   is_apartment          2775 non-null   object \n",
      " 10  studio                23699 non-null  bool   \n",
      " 11  open_plan             23699 non-null  bool   \n",
      " 12  kitchen_area          21421 non-null  float64\n",
      " 13  balcony               12180 non-null  float64\n",
      " 14  locality_name         23650 non-null  object \n",
      " 15  airports_nearest      18157 non-null  float64\n",
      " 16  cityCenters_nearest   18180 non-null  float64\n",
      " 17  parks_around3000      18181 non-null  float64\n",
      " 18  parks_nearest         8079 non-null   float64\n",
      " 19  ponds_around3000      18181 non-null  float64\n",
      " 20  ponds_nearest         9110 non-null   float64\n",
      " 21  days_exposition       20518 non-null  float64\n",
      "dtypes: bool(2), float64(14), int64(3), object(3)\n",
      "memory usage: 3.7+ MB\n"
     ]
    }
   ],
   "source": [
    "df.info()"
   ]
  },
  {
   "cell_type": "code",
   "execution_count": 5,
   "metadata": {},
   "outputs": [
    {
     "data": {
      "text/html": [
       "<div>\n",
       "<style scoped>\n",
       "    .dataframe tbody tr th:only-of-type {\n",
       "        vertical-align: middle;\n",
       "    }\n",
       "\n",
       "    .dataframe tbody tr th {\n",
       "        vertical-align: top;\n",
       "    }\n",
       "\n",
       "    .dataframe thead th {\n",
       "        text-align: right;\n",
       "    }\n",
       "</style>\n",
       "<table border=\"1\" class=\"dataframe\">\n",
       "  <thead>\n",
       "    <tr style=\"text-align: right;\">\n",
       "      <th></th>\n",
       "      <th>total_images</th>\n",
       "      <th>last_price</th>\n",
       "      <th>total_area</th>\n",
       "      <th>first_day_exposition</th>\n",
       "      <th>rooms</th>\n",
       "      <th>ceiling_height</th>\n",
       "      <th>floors_total</th>\n",
       "      <th>living_area</th>\n",
       "      <th>floor</th>\n",
       "      <th>is_apartment</th>\n",
       "      <th>...</th>\n",
       "      <th>kitchen_area</th>\n",
       "      <th>balcony</th>\n",
       "      <th>locality_name</th>\n",
       "      <th>airports_nearest</th>\n",
       "      <th>cityCenters_nearest</th>\n",
       "      <th>parks_around3000</th>\n",
       "      <th>parks_nearest</th>\n",
       "      <th>ponds_around3000</th>\n",
       "      <th>ponds_nearest</th>\n",
       "      <th>days_exposition</th>\n",
       "    </tr>\n",
       "  </thead>\n",
       "  <tbody>\n",
       "    <tr>\n",
       "      <th>0</th>\n",
       "      <td>20</td>\n",
       "      <td>13000000.0</td>\n",
       "      <td>108.00</td>\n",
       "      <td>2019-03-07T00:00:00</td>\n",
       "      <td>3</td>\n",
       "      <td>2.70</td>\n",
       "      <td>16.0</td>\n",
       "      <td>51.00</td>\n",
       "      <td>8</td>\n",
       "      <td>NaN</td>\n",
       "      <td>...</td>\n",
       "      <td>25.00</td>\n",
       "      <td>NaN</td>\n",
       "      <td>Санкт-Петербург</td>\n",
       "      <td>18863.0</td>\n",
       "      <td>16028.0</td>\n",
       "      <td>1.0</td>\n",
       "      <td>482.0</td>\n",
       "      <td>2.0</td>\n",
       "      <td>755.0</td>\n",
       "      <td>NaN</td>\n",
       "    </tr>\n",
       "    <tr>\n",
       "      <th>1</th>\n",
       "      <td>7</td>\n",
       "      <td>3350000.0</td>\n",
       "      <td>40.40</td>\n",
       "      <td>2018-12-04T00:00:00</td>\n",
       "      <td>1</td>\n",
       "      <td>NaN</td>\n",
       "      <td>11.0</td>\n",
       "      <td>18.60</td>\n",
       "      <td>1</td>\n",
       "      <td>NaN</td>\n",
       "      <td>...</td>\n",
       "      <td>11.00</td>\n",
       "      <td>2.0</td>\n",
       "      <td>посёлок Шушары</td>\n",
       "      <td>12817.0</td>\n",
       "      <td>18603.0</td>\n",
       "      <td>0.0</td>\n",
       "      <td>NaN</td>\n",
       "      <td>0.0</td>\n",
       "      <td>NaN</td>\n",
       "      <td>81.0</td>\n",
       "    </tr>\n",
       "    <tr>\n",
       "      <th>2</th>\n",
       "      <td>10</td>\n",
       "      <td>5196000.0</td>\n",
       "      <td>56.00</td>\n",
       "      <td>2015-08-20T00:00:00</td>\n",
       "      <td>2</td>\n",
       "      <td>NaN</td>\n",
       "      <td>5.0</td>\n",
       "      <td>34.30</td>\n",
       "      <td>4</td>\n",
       "      <td>NaN</td>\n",
       "      <td>...</td>\n",
       "      <td>8.30</td>\n",
       "      <td>0.0</td>\n",
       "      <td>Санкт-Петербург</td>\n",
       "      <td>21741.0</td>\n",
       "      <td>13933.0</td>\n",
       "      <td>1.0</td>\n",
       "      <td>90.0</td>\n",
       "      <td>2.0</td>\n",
       "      <td>574.0</td>\n",
       "      <td>558.0</td>\n",
       "    </tr>\n",
       "    <tr>\n",
       "      <th>3</th>\n",
       "      <td>0</td>\n",
       "      <td>64900000.0</td>\n",
       "      <td>159.00</td>\n",
       "      <td>2015-07-24T00:00:00</td>\n",
       "      <td>3</td>\n",
       "      <td>NaN</td>\n",
       "      <td>14.0</td>\n",
       "      <td>NaN</td>\n",
       "      <td>9</td>\n",
       "      <td>NaN</td>\n",
       "      <td>...</td>\n",
       "      <td>NaN</td>\n",
       "      <td>0.0</td>\n",
       "      <td>Санкт-Петербург</td>\n",
       "      <td>28098.0</td>\n",
       "      <td>6800.0</td>\n",
       "      <td>2.0</td>\n",
       "      <td>84.0</td>\n",
       "      <td>3.0</td>\n",
       "      <td>234.0</td>\n",
       "      <td>424.0</td>\n",
       "    </tr>\n",
       "    <tr>\n",
       "      <th>4</th>\n",
       "      <td>2</td>\n",
       "      <td>10000000.0</td>\n",
       "      <td>100.00</td>\n",
       "      <td>2018-06-19T00:00:00</td>\n",
       "      <td>2</td>\n",
       "      <td>3.03</td>\n",
       "      <td>14.0</td>\n",
       "      <td>32.00</td>\n",
       "      <td>13</td>\n",
       "      <td>NaN</td>\n",
       "      <td>...</td>\n",
       "      <td>41.00</td>\n",
       "      <td>NaN</td>\n",
       "      <td>Санкт-Петербург</td>\n",
       "      <td>31856.0</td>\n",
       "      <td>8098.0</td>\n",
       "      <td>2.0</td>\n",
       "      <td>112.0</td>\n",
       "      <td>1.0</td>\n",
       "      <td>48.0</td>\n",
       "      <td>121.0</td>\n",
       "    </tr>\n",
       "    <tr>\n",
       "      <th>5</th>\n",
       "      <td>10</td>\n",
       "      <td>2890000.0</td>\n",
       "      <td>30.40</td>\n",
       "      <td>2018-09-10T00:00:00</td>\n",
       "      <td>1</td>\n",
       "      <td>NaN</td>\n",
       "      <td>12.0</td>\n",
       "      <td>14.40</td>\n",
       "      <td>5</td>\n",
       "      <td>NaN</td>\n",
       "      <td>...</td>\n",
       "      <td>9.10</td>\n",
       "      <td>NaN</td>\n",
       "      <td>городской посёлок Янино-1</td>\n",
       "      <td>NaN</td>\n",
       "      <td>NaN</td>\n",
       "      <td>NaN</td>\n",
       "      <td>NaN</td>\n",
       "      <td>NaN</td>\n",
       "      <td>NaN</td>\n",
       "      <td>55.0</td>\n",
       "    </tr>\n",
       "    <tr>\n",
       "      <th>6</th>\n",
       "      <td>6</td>\n",
       "      <td>3700000.0</td>\n",
       "      <td>37.30</td>\n",
       "      <td>2017-11-02T00:00:00</td>\n",
       "      <td>1</td>\n",
       "      <td>NaN</td>\n",
       "      <td>26.0</td>\n",
       "      <td>10.60</td>\n",
       "      <td>6</td>\n",
       "      <td>NaN</td>\n",
       "      <td>...</td>\n",
       "      <td>14.40</td>\n",
       "      <td>1.0</td>\n",
       "      <td>посёлок Парголово</td>\n",
       "      <td>52996.0</td>\n",
       "      <td>19143.0</td>\n",
       "      <td>0.0</td>\n",
       "      <td>NaN</td>\n",
       "      <td>0.0</td>\n",
       "      <td>NaN</td>\n",
       "      <td>155.0</td>\n",
       "    </tr>\n",
       "    <tr>\n",
       "      <th>7</th>\n",
       "      <td>5</td>\n",
       "      <td>7915000.0</td>\n",
       "      <td>71.60</td>\n",
       "      <td>2019-04-18T00:00:00</td>\n",
       "      <td>2</td>\n",
       "      <td>NaN</td>\n",
       "      <td>24.0</td>\n",
       "      <td>NaN</td>\n",
       "      <td>22</td>\n",
       "      <td>NaN</td>\n",
       "      <td>...</td>\n",
       "      <td>18.90</td>\n",
       "      <td>2.0</td>\n",
       "      <td>Санкт-Петербург</td>\n",
       "      <td>23982.0</td>\n",
       "      <td>11634.0</td>\n",
       "      <td>0.0</td>\n",
       "      <td>NaN</td>\n",
       "      <td>0.0</td>\n",
       "      <td>NaN</td>\n",
       "      <td>NaN</td>\n",
       "    </tr>\n",
       "    <tr>\n",
       "      <th>8</th>\n",
       "      <td>20</td>\n",
       "      <td>2900000.0</td>\n",
       "      <td>33.16</td>\n",
       "      <td>2018-05-23T00:00:00</td>\n",
       "      <td>1</td>\n",
       "      <td>NaN</td>\n",
       "      <td>27.0</td>\n",
       "      <td>15.43</td>\n",
       "      <td>26</td>\n",
       "      <td>NaN</td>\n",
       "      <td>...</td>\n",
       "      <td>8.81</td>\n",
       "      <td>NaN</td>\n",
       "      <td>посёлок Мурино</td>\n",
       "      <td>NaN</td>\n",
       "      <td>NaN</td>\n",
       "      <td>NaN</td>\n",
       "      <td>NaN</td>\n",
       "      <td>NaN</td>\n",
       "      <td>NaN</td>\n",
       "      <td>189.0</td>\n",
       "    </tr>\n",
       "    <tr>\n",
       "      <th>9</th>\n",
       "      <td>18</td>\n",
       "      <td>5400000.0</td>\n",
       "      <td>61.00</td>\n",
       "      <td>2017-02-26T00:00:00</td>\n",
       "      <td>3</td>\n",
       "      <td>2.50</td>\n",
       "      <td>9.0</td>\n",
       "      <td>43.60</td>\n",
       "      <td>7</td>\n",
       "      <td>NaN</td>\n",
       "      <td>...</td>\n",
       "      <td>6.50</td>\n",
       "      <td>2.0</td>\n",
       "      <td>Санкт-Петербург</td>\n",
       "      <td>50898.0</td>\n",
       "      <td>15008.0</td>\n",
       "      <td>0.0</td>\n",
       "      <td>NaN</td>\n",
       "      <td>0.0</td>\n",
       "      <td>NaN</td>\n",
       "      <td>289.0</td>\n",
       "    </tr>\n",
       "  </tbody>\n",
       "</table>\n",
       "<p>10 rows × 22 columns</p>\n",
       "</div>"
      ],
      "text/plain": [
       "   total_images  last_price  total_area first_day_exposition  rooms  \\\n",
       "0            20  13000000.0      108.00  2019-03-07T00:00:00      3   \n",
       "1             7   3350000.0       40.40  2018-12-04T00:00:00      1   \n",
       "2            10   5196000.0       56.00  2015-08-20T00:00:00      2   \n",
       "3             0  64900000.0      159.00  2015-07-24T00:00:00      3   \n",
       "4             2  10000000.0      100.00  2018-06-19T00:00:00      2   \n",
       "5            10   2890000.0       30.40  2018-09-10T00:00:00      1   \n",
       "6             6   3700000.0       37.30  2017-11-02T00:00:00      1   \n",
       "7             5   7915000.0       71.60  2019-04-18T00:00:00      2   \n",
       "8            20   2900000.0       33.16  2018-05-23T00:00:00      1   \n",
       "9            18   5400000.0       61.00  2017-02-26T00:00:00      3   \n",
       "\n",
       "   ceiling_height  floors_total  living_area  floor is_apartment  ...  \\\n",
       "0            2.70          16.0        51.00      8          NaN  ...   \n",
       "1             NaN          11.0        18.60      1          NaN  ...   \n",
       "2             NaN           5.0        34.30      4          NaN  ...   \n",
       "3             NaN          14.0          NaN      9          NaN  ...   \n",
       "4            3.03          14.0        32.00     13          NaN  ...   \n",
       "5             NaN          12.0        14.40      5          NaN  ...   \n",
       "6             NaN          26.0        10.60      6          NaN  ...   \n",
       "7             NaN          24.0          NaN     22          NaN  ...   \n",
       "8             NaN          27.0        15.43     26          NaN  ...   \n",
       "9            2.50           9.0        43.60      7          NaN  ...   \n",
       "\n",
       "   kitchen_area  balcony              locality_name  airports_nearest  \\\n",
       "0         25.00      NaN            Санкт-Петербург           18863.0   \n",
       "1         11.00      2.0             посёлок Шушары           12817.0   \n",
       "2          8.30      0.0            Санкт-Петербург           21741.0   \n",
       "3           NaN      0.0            Санкт-Петербург           28098.0   \n",
       "4         41.00      NaN            Санкт-Петербург           31856.0   \n",
       "5          9.10      NaN  городской посёлок Янино-1               NaN   \n",
       "6         14.40      1.0          посёлок Парголово           52996.0   \n",
       "7         18.90      2.0            Санкт-Петербург           23982.0   \n",
       "8          8.81      NaN             посёлок Мурино               NaN   \n",
       "9          6.50      2.0            Санкт-Петербург           50898.0   \n",
       "\n",
       "  cityCenters_nearest  parks_around3000  parks_nearest  ponds_around3000  \\\n",
       "0             16028.0               1.0          482.0               2.0   \n",
       "1             18603.0               0.0            NaN               0.0   \n",
       "2             13933.0               1.0           90.0               2.0   \n",
       "3              6800.0               2.0           84.0               3.0   \n",
       "4              8098.0               2.0          112.0               1.0   \n",
       "5                 NaN               NaN            NaN               NaN   \n",
       "6             19143.0               0.0            NaN               0.0   \n",
       "7             11634.0               0.0            NaN               0.0   \n",
       "8                 NaN               NaN            NaN               NaN   \n",
       "9             15008.0               0.0            NaN               0.0   \n",
       "\n",
       "   ponds_nearest  days_exposition  \n",
       "0          755.0              NaN  \n",
       "1            NaN             81.0  \n",
       "2          574.0            558.0  \n",
       "3          234.0            424.0  \n",
       "4           48.0            121.0  \n",
       "5            NaN             55.0  \n",
       "6            NaN            155.0  \n",
       "7            NaN              NaN  \n",
       "8            NaN            189.0  \n",
       "9            NaN            289.0  \n",
       "\n",
       "[10 rows x 22 columns]"
      ]
     },
     "execution_count": 5,
     "metadata": {},
     "output_type": "execute_result"
    }
   ],
   "source": [
    "df.head(10)"
   ]
  },
  {
   "cell_type": "code",
   "execution_count": 6,
   "metadata": {},
   "outputs": [
    {
     "data": {
      "text/plain": [
       "(23699, 22)"
      ]
     },
     "execution_count": 6,
     "metadata": {},
     "output_type": "execute_result"
    }
   ],
   "source": [
    "df.shape"
   ]
  },
  {
   "cell_type": "code",
   "execution_count": 7,
   "metadata": {},
   "outputs": [
    {
     "data": {
      "text/plain": [
       "total_images                0\n",
       "last_price                  0\n",
       "total_area                  0\n",
       "first_day_exposition        0\n",
       "rooms                       0\n",
       "ceiling_height           9195\n",
       "floors_total               86\n",
       "living_area              1903\n",
       "floor                       0\n",
       "is_apartment            20924\n",
       "studio                      0\n",
       "open_plan                   0\n",
       "kitchen_area             2278\n",
       "balcony                 11519\n",
       "locality_name              49\n",
       "airports_nearest         5542\n",
       "cityCenters_nearest      5519\n",
       "parks_around3000         5518\n",
       "parks_nearest           15620\n",
       "ponds_around3000         5518\n",
       "ponds_nearest           14589\n",
       "days_exposition          3181\n",
       "dtype: int64"
      ]
     },
     "execution_count": 7,
     "metadata": {},
     "output_type": "execute_result"
    }
   ],
   "source": [
    "df.isna().sum()"
   ]
  },
  {
   "cell_type": "code",
   "execution_count": 8,
   "metadata": {},
   "outputs": [
    {
     "data": {
      "text/html": [
       "<div>\n",
       "<style scoped>\n",
       "    .dataframe tbody tr th:only-of-type {\n",
       "        vertical-align: middle;\n",
       "    }\n",
       "\n",
       "    .dataframe tbody tr th {\n",
       "        vertical-align: top;\n",
       "    }\n",
       "\n",
       "    .dataframe thead th {\n",
       "        text-align: right;\n",
       "    }\n",
       "</style>\n",
       "<table border=\"1\" class=\"dataframe\">\n",
       "  <thead>\n",
       "    <tr style=\"text-align: right;\">\n",
       "      <th></th>\n",
       "      <th>total_images</th>\n",
       "      <th>last_price</th>\n",
       "      <th>total_area</th>\n",
       "      <th>rooms</th>\n",
       "      <th>ceiling_height</th>\n",
       "      <th>floors_total</th>\n",
       "      <th>living_area</th>\n",
       "      <th>floor</th>\n",
       "      <th>kitchen_area</th>\n",
       "      <th>balcony</th>\n",
       "      <th>airports_nearest</th>\n",
       "      <th>cityCenters_nearest</th>\n",
       "      <th>parks_around3000</th>\n",
       "      <th>parks_nearest</th>\n",
       "      <th>ponds_around3000</th>\n",
       "      <th>ponds_nearest</th>\n",
       "      <th>days_exposition</th>\n",
       "    </tr>\n",
       "  </thead>\n",
       "  <tbody>\n",
       "    <tr>\n",
       "      <th>count</th>\n",
       "      <td>23699.000000</td>\n",
       "      <td>2.369900e+04</td>\n",
       "      <td>23699.000000</td>\n",
       "      <td>23699.000000</td>\n",
       "      <td>14504.000000</td>\n",
       "      <td>23613.000000</td>\n",
       "      <td>21796.000000</td>\n",
       "      <td>23699.000000</td>\n",
       "      <td>21421.000000</td>\n",
       "      <td>12180.000000</td>\n",
       "      <td>18157.000000</td>\n",
       "      <td>18180.000000</td>\n",
       "      <td>18181.000000</td>\n",
       "      <td>8079.000000</td>\n",
       "      <td>18181.000000</td>\n",
       "      <td>9110.000000</td>\n",
       "      <td>20518.000000</td>\n",
       "    </tr>\n",
       "    <tr>\n",
       "      <th>mean</th>\n",
       "      <td>9.858475</td>\n",
       "      <td>6.541549e+06</td>\n",
       "      <td>60.348651</td>\n",
       "      <td>2.070636</td>\n",
       "      <td>2.771499</td>\n",
       "      <td>10.673824</td>\n",
       "      <td>34.457852</td>\n",
       "      <td>5.892358</td>\n",
       "      <td>10.569807</td>\n",
       "      <td>1.150082</td>\n",
       "      <td>28793.672193</td>\n",
       "      <td>14191.277833</td>\n",
       "      <td>0.611408</td>\n",
       "      <td>490.804555</td>\n",
       "      <td>0.770255</td>\n",
       "      <td>517.980900</td>\n",
       "      <td>180.888634</td>\n",
       "    </tr>\n",
       "    <tr>\n",
       "      <th>std</th>\n",
       "      <td>5.682529</td>\n",
       "      <td>1.088701e+07</td>\n",
       "      <td>35.654083</td>\n",
       "      <td>1.078405</td>\n",
       "      <td>1.261056</td>\n",
       "      <td>6.597173</td>\n",
       "      <td>22.030445</td>\n",
       "      <td>4.885249</td>\n",
       "      <td>5.905438</td>\n",
       "      <td>1.071300</td>\n",
       "      <td>12630.880622</td>\n",
       "      <td>8608.386210</td>\n",
       "      <td>0.802074</td>\n",
       "      <td>342.317995</td>\n",
       "      <td>0.938346</td>\n",
       "      <td>277.720643</td>\n",
       "      <td>219.727988</td>\n",
       "    </tr>\n",
       "    <tr>\n",
       "      <th>min</th>\n",
       "      <td>0.000000</td>\n",
       "      <td>1.219000e+04</td>\n",
       "      <td>12.000000</td>\n",
       "      <td>0.000000</td>\n",
       "      <td>1.000000</td>\n",
       "      <td>1.000000</td>\n",
       "      <td>2.000000</td>\n",
       "      <td>1.000000</td>\n",
       "      <td>1.300000</td>\n",
       "      <td>0.000000</td>\n",
       "      <td>0.000000</td>\n",
       "      <td>181.000000</td>\n",
       "      <td>0.000000</td>\n",
       "      <td>1.000000</td>\n",
       "      <td>0.000000</td>\n",
       "      <td>13.000000</td>\n",
       "      <td>1.000000</td>\n",
       "    </tr>\n",
       "    <tr>\n",
       "      <th>25%</th>\n",
       "      <td>6.000000</td>\n",
       "      <td>3.400000e+06</td>\n",
       "      <td>40.000000</td>\n",
       "      <td>1.000000</td>\n",
       "      <td>2.520000</td>\n",
       "      <td>5.000000</td>\n",
       "      <td>18.600000</td>\n",
       "      <td>2.000000</td>\n",
       "      <td>7.000000</td>\n",
       "      <td>0.000000</td>\n",
       "      <td>18585.000000</td>\n",
       "      <td>9238.000000</td>\n",
       "      <td>0.000000</td>\n",
       "      <td>288.000000</td>\n",
       "      <td>0.000000</td>\n",
       "      <td>294.000000</td>\n",
       "      <td>45.000000</td>\n",
       "    </tr>\n",
       "    <tr>\n",
       "      <th>50%</th>\n",
       "      <td>9.000000</td>\n",
       "      <td>4.650000e+06</td>\n",
       "      <td>52.000000</td>\n",
       "      <td>2.000000</td>\n",
       "      <td>2.650000</td>\n",
       "      <td>9.000000</td>\n",
       "      <td>30.000000</td>\n",
       "      <td>4.000000</td>\n",
       "      <td>9.100000</td>\n",
       "      <td>1.000000</td>\n",
       "      <td>26726.000000</td>\n",
       "      <td>13098.500000</td>\n",
       "      <td>0.000000</td>\n",
       "      <td>455.000000</td>\n",
       "      <td>1.000000</td>\n",
       "      <td>502.000000</td>\n",
       "      <td>95.000000</td>\n",
       "    </tr>\n",
       "    <tr>\n",
       "      <th>75%</th>\n",
       "      <td>14.000000</td>\n",
       "      <td>6.800000e+06</td>\n",
       "      <td>69.900000</td>\n",
       "      <td>3.000000</td>\n",
       "      <td>2.800000</td>\n",
       "      <td>16.000000</td>\n",
       "      <td>42.300000</td>\n",
       "      <td>8.000000</td>\n",
       "      <td>12.000000</td>\n",
       "      <td>2.000000</td>\n",
       "      <td>37273.000000</td>\n",
       "      <td>16293.000000</td>\n",
       "      <td>1.000000</td>\n",
       "      <td>612.000000</td>\n",
       "      <td>1.000000</td>\n",
       "      <td>729.000000</td>\n",
       "      <td>232.000000</td>\n",
       "    </tr>\n",
       "    <tr>\n",
       "      <th>max</th>\n",
       "      <td>50.000000</td>\n",
       "      <td>7.630000e+08</td>\n",
       "      <td>900.000000</td>\n",
       "      <td>19.000000</td>\n",
       "      <td>100.000000</td>\n",
       "      <td>60.000000</td>\n",
       "      <td>409.700000</td>\n",
       "      <td>33.000000</td>\n",
       "      <td>112.000000</td>\n",
       "      <td>5.000000</td>\n",
       "      <td>84869.000000</td>\n",
       "      <td>65968.000000</td>\n",
       "      <td>3.000000</td>\n",
       "      <td>3190.000000</td>\n",
       "      <td>3.000000</td>\n",
       "      <td>1344.000000</td>\n",
       "      <td>1580.000000</td>\n",
       "    </tr>\n",
       "  </tbody>\n",
       "</table>\n",
       "</div>"
      ],
      "text/plain": [
       "       total_images    last_price    total_area         rooms  ceiling_height  \\\n",
       "count  23699.000000  2.369900e+04  23699.000000  23699.000000    14504.000000   \n",
       "mean       9.858475  6.541549e+06     60.348651      2.070636        2.771499   \n",
       "std        5.682529  1.088701e+07     35.654083      1.078405        1.261056   \n",
       "min        0.000000  1.219000e+04     12.000000      0.000000        1.000000   \n",
       "25%        6.000000  3.400000e+06     40.000000      1.000000        2.520000   \n",
       "50%        9.000000  4.650000e+06     52.000000      2.000000        2.650000   \n",
       "75%       14.000000  6.800000e+06     69.900000      3.000000        2.800000   \n",
       "max       50.000000  7.630000e+08    900.000000     19.000000      100.000000   \n",
       "\n",
       "       floors_total   living_area         floor  kitchen_area       balcony  \\\n",
       "count  23613.000000  21796.000000  23699.000000  21421.000000  12180.000000   \n",
       "mean      10.673824     34.457852      5.892358     10.569807      1.150082   \n",
       "std        6.597173     22.030445      4.885249      5.905438      1.071300   \n",
       "min        1.000000      2.000000      1.000000      1.300000      0.000000   \n",
       "25%        5.000000     18.600000      2.000000      7.000000      0.000000   \n",
       "50%        9.000000     30.000000      4.000000      9.100000      1.000000   \n",
       "75%       16.000000     42.300000      8.000000     12.000000      2.000000   \n",
       "max       60.000000    409.700000     33.000000    112.000000      5.000000   \n",
       "\n",
       "       airports_nearest  cityCenters_nearest  parks_around3000  parks_nearest  \\\n",
       "count      18157.000000         18180.000000      18181.000000    8079.000000   \n",
       "mean       28793.672193         14191.277833          0.611408     490.804555   \n",
       "std        12630.880622          8608.386210          0.802074     342.317995   \n",
       "min            0.000000           181.000000          0.000000       1.000000   \n",
       "25%        18585.000000          9238.000000          0.000000     288.000000   \n",
       "50%        26726.000000         13098.500000          0.000000     455.000000   \n",
       "75%        37273.000000         16293.000000          1.000000     612.000000   \n",
       "max        84869.000000         65968.000000          3.000000    3190.000000   \n",
       "\n",
       "       ponds_around3000  ponds_nearest  days_exposition  \n",
       "count      18181.000000    9110.000000     20518.000000  \n",
       "mean           0.770255     517.980900       180.888634  \n",
       "std            0.938346     277.720643       219.727988  \n",
       "min            0.000000      13.000000         1.000000  \n",
       "25%            0.000000     294.000000        45.000000  \n",
       "50%            1.000000     502.000000        95.000000  \n",
       "75%            1.000000     729.000000       232.000000  \n",
       "max            3.000000    1344.000000      1580.000000  "
      ]
     },
     "execution_count": 8,
     "metadata": {},
     "output_type": "execute_result"
    }
   ],
   "source": [
    "df.describe()"
   ]
  },
  {
   "cell_type": "markdown",
   "metadata": {},
   "source": [
    "### Вывод"
   ]
  },
  {
   "cell_type": "markdown",
   "metadata": {},
   "source": [
    "Во многих столбцах есть пропущенные или некорректно отображающиеся значения, в таком количестве они могут значительно повлиять на результаты исследования, поэтому нужно разобраться в причинах их возникновения и по возможности заполнить пропуски."
   ]
  },
  {
   "cell_type": "markdown",
   "metadata": {},
   "source": [
    "## Предобработка данных"
   ]
  },
  {
   "cell_type": "markdown",
   "metadata": {},
   "source": [
    "### Исследование и заполнение пропусков в данных\n",
    "\n",
    "    * ceiling_height: можно заменить на медиану или можно заменить на медиану, полученную в результате группировки по локации и этажности\n",
    "    * floors_total: проверю долю пропусков и удалю, если их меньше 10%\n",
    "    *living_area: можно по медианному отношению жилой площади к общей и изветсной общей площади вычислить жилую\n",
    "    *is_apartment: можно предположить, что все NaN означают, что объект не является апартаментами, и заменить на False\n",
    "    *kitchen_area: аналогично Living_area, либо заменить на 0, если студия\n",
    "    *balcony: если не указано число балконов, можно предположить, что их нет, и заменить пропуски на 0\n",
    "    *airports_nearest\n",
    "    *cityCenters_nearest: можно заменить медианным через группировку по населённым пунктам\n",
    "    *parks_around3000: возможно, парков поблизости нет; можно заменить на 0\n",
    "    *parks_nearest: т.к. эти данные не влияют на результаты исследования и я не могу предположить логичной замены пропусков, оставлю их как есть\n",
    "    *ponds_around3000: по аналогии с парками     \n",
    "    *ponds_nearest: аналогично parks_nearest       \n",
    "    *days_exposition\n",
    "    \n",
    "Много пропусков есть в данных, которые получены автоматически на основе картографических данных, значит есть проблема в том, как работает эта система (например, даже если есть информация о том, что в радиусе 3 км есть пруд/парк, нет данных, на каком расстоянии они находятся).  "
   ]
  },
  {
   "cell_type": "code",
   "execution_count": 9,
   "metadata": {},
   "outputs": [
    {
     "data": {
      "text/plain": [
       "0"
      ]
     },
     "execution_count": 9,
     "metadata": {},
     "output_type": "execute_result"
    }
   ],
   "source": [
    "new_area1 = df.dropna(subset=['living_area'])\n",
    "new_area1_median = (new_area1['living_area']/new_area1['total_area']).median()\n",
    "df['living_area'].fillna(df['total_area']*new_area1_median, inplace = True) \n",
    "df['living_area'].isna().sum()"
   ]
  },
  {
   "cell_type": "code",
   "execution_count": 10,
   "metadata": {},
   "outputs": [
    {
     "data": {
      "text/plain": [
       "0"
      ]
     },
     "execution_count": 10,
     "metadata": {},
     "output_type": "execute_result"
    }
   ],
   "source": [
    "df['is_apartment'].fillna(False, inplace = True)\n",
    "df['is_apartment'].isna().sum()"
   ]
  },
  {
   "cell_type": "code",
   "execution_count": 11,
   "metadata": {},
   "outputs": [
    {
     "data": {
      "text/plain": [
       "0"
      ]
     },
     "execution_count": 11,
     "metadata": {},
     "output_type": "execute_result"
    }
   ],
   "source": [
    "new_area2 = df.dropna(subset=['kitchen_area'])\n",
    "new_area2_median = (new_area2['kitchen_area']/new_area2['total_area']).median()\n",
    "df['kitchen_area'].fillna(df['total_area']*new_area1_median, inplace = True) \n",
    "df['kitchen_area'].isna().sum()\n",
    "\n",
    "#df['kitchen_area']=df['kitchen_area'].fillna(df.groupby('total_area', 'is_apartment')['kitchen_area'].transform('median'), inplace=True)\n",
    "#я хотела для каждой квартиры проверить, является ли она апартаментами, и соответственно заполнить пропсук либо о, либо средним значением\n",
    "#пыталась через цикл и через transform, но каждый раз была ошибка\n"
   ]
  },
  {
   "cell_type": "code",
   "execution_count": 12,
   "metadata": {},
   "outputs": [
    {
     "data": {
      "text/plain": [
       "0"
      ]
     },
     "execution_count": 12,
     "metadata": {},
     "output_type": "execute_result"
    }
   ],
   "source": [
    "#считаем долю пропусков в floors_total\n",
    "df['floors_total'].isna().sum()/df['floors_total'].count()\n",
    "#т.к. доля пропусков небольшая, можно их удалить\n",
    "df = df.dropna(subset=['floors_total'])\n",
    "df['floors_total'].isna().sum()"
   ]
  },
  {
   "cell_type": "code",
   "execution_count": 13,
   "metadata": {},
   "outputs": [
    {
     "data": {
      "text/plain": [
       "0"
      ]
     },
     "execution_count": 13,
     "metadata": {},
     "output_type": "execute_result"
    }
   ],
   "source": [
    "new_height = df.dropna(subset=['ceiling_height'])\n",
    "new_height = new_height.pivot_table(index=['locality_name', 'floors_total'], values='ceiling_height', aggfunc='median')\n",
    "new_height = new_height.reset_index()\n",
    "\n",
    "\n",
    "\n",
    "#for index, row in new_height.iterrows():\n",
    "    #for index1, dom in df[(df['locality_name'] == row['locality_name']) & (df['floors_total'] == row['floors_total']) & (df['ceiling_height'].isna())].iterrows():\n",
    "        #df.loc[[index1]]['ceiling_height'] = row['ceiling_height']\n",
    "        \n",
    "#df.info()\n",
    "df1 = df.merge(new_height,on=['locality_name','floors_total'])\n",
    "df['ceiling_height'].fillna(df1['ceiling_height_y'], inplace = True)\n",
    "df['ceiling_height'].fillna(df['ceiling_height'].median(), inplace = True)\n",
    "df['ceiling_height'].isna().sum()\n",
    "\n",
    "\n",
    "#df['ceiling_height'].fillna(df.groupby(['locality_name', 'floors_total'].transform('median')))\n",
    "#df[ceiling_height].value_counts()"
   ]
  },
  {
   "cell_type": "code",
   "execution_count": 14,
   "metadata": {},
   "outputs": [
    {
     "data": {
      "text/plain": [
       "0    16.0\n",
       "1    19.0\n",
       "2    14.0\n",
       "3     7.0\n",
       "4     8.0\n",
       "Name: cityCenters_nearest, dtype: float64"
      ]
     },
     "execution_count": 14,
     "metadata": {},
     "output_type": "execute_result"
    }
   ],
   "source": [
    "#заполним пропуски в столбце с расстоянием до центра и переведм в км\n",
    "center = df.dropna(subset=['cityCenters_nearest'])\n",
    "center = center.pivot_table(index=['locality_name'], values='cityCenters_nearest', aggfunc='median')\n",
    "center = center.reset_index()\n",
    "\n",
    "df2 = df.merge(center, on='locality_name')\n",
    "df['cityCenters_nearest'].fillna(df2['cityCenters_nearest_y'], inplace=True)\n",
    "df = df.dropna(subset=['cityCenters_nearest'])\n",
    "df['cityCenters_nearest'].isna().sum()/df['cityCenters_nearest'].count()\n",
    "df['cityCenters_nearest'].head()\n",
    "df['cityCenters_nearest'] = round(df['cityCenters_nearest']/1000)\n",
    "df['cityCenters_nearest'].head()"
   ]
  },
  {
   "cell_type": "code",
   "execution_count": 15,
   "metadata": {},
   "outputs": [
    {
     "data": {
      "text/plain": [
       "0    13.000\n",
       "1     3.350\n",
       "2     5.196\n",
       "3    64.900\n",
       "4    10.000\n",
       "Name: last_price, dtype: float64"
      ]
     },
     "execution_count": 15,
     "metadata": {},
     "output_type": "execute_result"
    }
   ],
   "source": [
    "#также переведу цену в млн\n",
    "df['last_price'] = df['last_price']/1000000\n",
    "df['last_price'].head()"
   ]
  },
  {
   "cell_type": "code",
   "execution_count": 16,
   "metadata": {},
   "outputs": [
    {
     "data": {
      "text/plain": [
       "0"
      ]
     },
     "execution_count": 16,
     "metadata": {},
     "output_type": "execute_result"
    }
   ],
   "source": [
    "df['is_apartment'].fillna(False, inplace = True)\n",
    "df['is_apartment'].isna().sum()"
   ]
  },
  {
   "cell_type": "code",
   "execution_count": 17,
   "metadata": {},
   "outputs": [
    {
     "data": {
      "text/plain": [
       "0"
      ]
     },
     "execution_count": 17,
     "metadata": {},
     "output_type": "execute_result"
    }
   ],
   "source": [
    "df['balcony'].fillna(0, inplace = True)\n",
    "df['balcony'].isna().sum()"
   ]
  },
  {
   "cell_type": "code",
   "execution_count": 18,
   "metadata": {},
   "outputs": [
    {
     "data": {
      "text/plain": [
       "0        1.0\n",
       "1        0.0\n",
       "2        1.0\n",
       "3        2.0\n",
       "4        2.0\n",
       "        ... \n",
       "23690    1.0\n",
       "23691    0.0\n",
       "23693    1.0\n",
       "23694    1.0\n",
       "23697    2.0\n",
       "Name: parks_around3000, Length: 22257, dtype: float64"
      ]
     },
     "execution_count": 18,
     "metadata": {},
     "output_type": "execute_result"
    }
   ],
   "source": [
    "df['parks_around3000'].fillna(0)"
   ]
  },
  {
   "cell_type": "code",
   "execution_count": 19,
   "metadata": {},
   "outputs": [
    {
     "data": {
      "text/plain": [
       "0        2.0\n",
       "1        0.0\n",
       "2        2.0\n",
       "3        3.0\n",
       "4        1.0\n",
       "        ... \n",
       "23690    0.0\n",
       "23691    1.0\n",
       "23693    1.0\n",
       "23694    3.0\n",
       "23697    3.0\n",
       "Name: ponds_around3000, Length: 22257, dtype: float64"
      ]
     },
     "execution_count": 19,
     "metadata": {},
     "output_type": "execute_result"
    }
   ],
   "source": [
    "df['ponds_around3000'].fillna(0)"
   ]
  },
  {
   "cell_type": "code",
   "execution_count": 20,
   "metadata": {},
   "outputs": [
    {
     "data": {
      "text/plain": [
       "0"
      ]
     },
     "execution_count": 20,
     "metadata": {},
     "output_type": "execute_result"
    }
   ],
   "source": [
    "df['days_exposition'].fillna(df['days_exposition'].median(), inplace = True)\n",
    "df['days_exposition'].isna().sum()"
   ]
  },
  {
   "cell_type": "markdown",
   "metadata": {},
   "source": [
    "Создадим новый датафрейм, из которого можно исключить те столбцы, в которых большее количество пропусков и которые в то же время не понадобятся для этого исследования (парки, пруды, аэропорты). Строки с пропусками в столбце locality_name также придётся отбросить, потому что они не информативны"
   ]
  },
  {
   "cell_type": "code",
   "execution_count": 21,
   "metadata": {},
   "outputs": [],
   "source": [
    "data = df.drop(['parks_around3000', 'parks_nearest', 'ponds_around3000', 'ponds_nearest', 'airports_nearest'], axis=1)"
   ]
  },
  {
   "cell_type": "code",
   "execution_count": 22,
   "metadata": {},
   "outputs": [
    {
     "data": {
      "text/plain": [
       "total_images            0\n",
       "last_price              0\n",
       "total_area              0\n",
       "first_day_exposition    0\n",
       "rooms                   0\n",
       "ceiling_height          0\n",
       "floors_total            0\n",
       "living_area             0\n",
       "floor                   0\n",
       "is_apartment            0\n",
       "studio                  0\n",
       "open_plan               0\n",
       "kitchen_area            0\n",
       "balcony                 0\n",
       "locality_name           0\n",
       "cityCenters_nearest     0\n",
       "days_exposition         0\n",
       "dtype: int64"
      ]
     },
     "execution_count": 22,
     "metadata": {},
     "output_type": "execute_result"
    }
   ],
   "source": [
    "data.dropna(subset=['locality_name'], inplace=True)\n",
    "data.isna().sum()"
   ]
  },
  {
   "cell_type": "markdown",
   "metadata": {},
   "source": [
    "### Изменение типов данных"
   ]
  },
  {
   "cell_type": "code",
   "execution_count": 23,
   "metadata": {},
   "outputs": [
    {
     "data": {
      "text/plain": [
       "Index(['total_images', 'last_price', 'total_area', 'first_day_exposition',\n",
       "       'rooms', 'ceiling_height', 'floors_total', 'living_area', 'floor',\n",
       "       'is_apartment', 'studio', 'open_plan', 'kitchen_area', 'balcony',\n",
       "       'locality_name', 'cityCenters_nearest', 'days_exposition'],\n",
       "      dtype='object')"
      ]
     },
     "execution_count": 23,
     "metadata": {},
     "output_type": "execute_result"
    }
   ],
   "source": [
    "data.columns"
   ]
  },
  {
   "cell_type": "markdown",
   "metadata": {},
   "source": [
    "Изменение типов данных:\n",
    "    типы значений в столбцах, которые обозначают цену, число (балконов, комнатю etc.) или расстояние до других объектов в м, можно заменить на int, чтобы отбросить дробную часть\n",
    "    first_day_exposition - заменить тип данных с помощью to_datetime\n"
   ]
  },
  {
   "cell_type": "code",
   "execution_count": 24,
   "metadata": {},
   "outputs": [
    {
     "data": {
      "text/plain": [
       "total_images            0\n",
       "last_price              0\n",
       "total_area              0\n",
       "first_day_exposition    0\n",
       "rooms                   0\n",
       "ceiling_height          0\n",
       "floors_total            0\n",
       "living_area             0\n",
       "floor                   0\n",
       "is_apartment            0\n",
       "studio                  0\n",
       "open_plan               0\n",
       "kitchen_area            0\n",
       "balcony                 0\n",
       "locality_name           0\n",
       "cityCenters_nearest     0\n",
       "days_exposition         0\n",
       "dtype: int64"
      ]
     },
     "execution_count": 24,
     "metadata": {},
     "output_type": "execute_result"
    }
   ],
   "source": [
    "data.isna().sum()"
   ]
  },
  {
   "cell_type": "code",
   "execution_count": 25,
   "metadata": {
    "scrolled": false
   },
   "outputs": [
    {
     "data": {
      "text/plain": [
       "total_images              int64\n",
       "last_price              float64\n",
       "total_area              float64\n",
       "first_day_exposition     object\n",
       "rooms                     int64\n",
       "ceiling_height          float64\n",
       "floors_total            float64\n",
       "living_area             float64\n",
       "floor                     int64\n",
       "is_apartment               bool\n",
       "studio                     bool\n",
       "open_plan                  bool\n",
       "kitchen_area            float64\n",
       "balcony                 float64\n",
       "locality_name            object\n",
       "cityCenters_nearest     float64\n",
       "days_exposition         float64\n",
       "dtype: object"
      ]
     },
     "metadata": {},
     "output_type": "display_data"
    },
    {
     "name": "stdout",
     "output_type": "stream",
     "text": [
      "После изменения типов данных\n"
     ]
    },
    {
     "data": {
      "text/plain": [
       "total_images                     int64\n",
       "last_price                       int64\n",
       "total_area                     float64\n",
       "first_day_exposition    datetime64[ns]\n",
       "rooms                            int64\n",
       "ceiling_height                 float64\n",
       "floors_total                     int64\n",
       "living_area                    float64\n",
       "floor                            int64\n",
       "is_apartment                      bool\n",
       "studio                            bool\n",
       "open_plan                         bool\n",
       "kitchen_area                   float64\n",
       "balcony                          int64\n",
       "locality_name                   object\n",
       "cityCenters_nearest            float64\n",
       "days_exposition                  int64\n",
       "dtype: object"
      ]
     },
     "metadata": {},
     "output_type": "display_data"
    }
   ],
   "source": [
    "#КОД РЕВЬЮЕРА\n",
    "\n",
    "import numpy as np\n",
    "\n",
    "display(data.dtypes)\n",
    "\n",
    "data = data.astype({\n",
    "    'floors_total': np.int64,\n",
    "    'balcony': np.int64,\n",
    "    'last_price': np.int64,\n",
    "    'days_exposition': np.int64,\n",
    "    'rooms': np.int64})\n",
    "\n",
    "data['first_day_exposition'] = pd.to_datetime(data['first_day_exposition'], format='%Y-%m-%dT%H:%M:%S')\n",
    "data['locality_name'].astype('string')\n",
    "\n",
    "print('После изменения типов данных')\n",
    "display(data.dtypes)"
   ]
  },
  {
   "cell_type": "markdown",
   "metadata": {},
   "source": [
    "## Расчёты и добавление результатов в таблицу"
   ]
  },
  {
   "cell_type": "code",
   "execution_count": 26,
   "metadata": {},
   "outputs": [
    {
     "data": {
      "text/html": [
       "<div>\n",
       "<style scoped>\n",
       "    .dataframe tbody tr th:only-of-type {\n",
       "        vertical-align: middle;\n",
       "    }\n",
       "\n",
       "    .dataframe tbody tr th {\n",
       "        vertical-align: top;\n",
       "    }\n",
       "\n",
       "    .dataframe thead th {\n",
       "        text-align: right;\n",
       "    }\n",
       "</style>\n",
       "<table border=\"1\" class=\"dataframe\">\n",
       "  <thead>\n",
       "    <tr style=\"text-align: right;\">\n",
       "      <th></th>\n",
       "      <th>total_images</th>\n",
       "      <th>last_price</th>\n",
       "      <th>total_area</th>\n",
       "      <th>first_day_exposition</th>\n",
       "      <th>rooms</th>\n",
       "      <th>ceiling_height</th>\n",
       "      <th>floors_total</th>\n",
       "      <th>living_area</th>\n",
       "      <th>floor</th>\n",
       "      <th>is_apartment</th>\n",
       "      <th>...</th>\n",
       "      <th>locality_name</th>\n",
       "      <th>cityCenters_nearest</th>\n",
       "      <th>days_exposition</th>\n",
       "      <th>price_per_square_meter</th>\n",
       "      <th>week_day</th>\n",
       "      <th>month</th>\n",
       "      <th>year</th>\n",
       "      <th>floor_type</th>\n",
       "      <th>living_to_total</th>\n",
       "      <th>kitchen_to_total</th>\n",
       "    </tr>\n",
       "  </thead>\n",
       "  <tbody>\n",
       "    <tr>\n",
       "      <th>0</th>\n",
       "      <td>20</td>\n",
       "      <td>13</td>\n",
       "      <td>108.0</td>\n",
       "      <td>2019-03-07</td>\n",
       "      <td>3</td>\n",
       "      <td>2.70</td>\n",
       "      <td>16</td>\n",
       "      <td>51.000000</td>\n",
       "      <td>8</td>\n",
       "      <td>False</td>\n",
       "      <td>...</td>\n",
       "      <td>Санкт-Петербург</td>\n",
       "      <td>16.0</td>\n",
       "      <td>96</td>\n",
       "      <td>120370.370370</td>\n",
       "      <td>3</td>\n",
       "      <td>3</td>\n",
       "      <td>2019</td>\n",
       "      <td>другой</td>\n",
       "      <td>0.472222</td>\n",
       "      <td>0.231481</td>\n",
       "    </tr>\n",
       "    <tr>\n",
       "      <th>1</th>\n",
       "      <td>7</td>\n",
       "      <td>3</td>\n",
       "      <td>40.4</td>\n",
       "      <td>2018-12-04</td>\n",
       "      <td>1</td>\n",
       "      <td>2.70</td>\n",
       "      <td>11</td>\n",
       "      <td>18.600000</td>\n",
       "      <td>1</td>\n",
       "      <td>False</td>\n",
       "      <td>...</td>\n",
       "      <td>посёлок Шушары</td>\n",
       "      <td>19.0</td>\n",
       "      <td>81</td>\n",
       "      <td>74257.425743</td>\n",
       "      <td>1</td>\n",
       "      <td>12</td>\n",
       "      <td>2018</td>\n",
       "      <td>первый</td>\n",
       "      <td>0.460396</td>\n",
       "      <td>0.272277</td>\n",
       "    </tr>\n",
       "    <tr>\n",
       "      <th>2</th>\n",
       "      <td>10</td>\n",
       "      <td>5</td>\n",
       "      <td>56.0</td>\n",
       "      <td>2015-08-20</td>\n",
       "      <td>2</td>\n",
       "      <td>2.70</td>\n",
       "      <td>5</td>\n",
       "      <td>34.300000</td>\n",
       "      <td>4</td>\n",
       "      <td>False</td>\n",
       "      <td>...</td>\n",
       "      <td>Санкт-Петербург</td>\n",
       "      <td>14.0</td>\n",
       "      <td>558</td>\n",
       "      <td>89285.714286</td>\n",
       "      <td>3</td>\n",
       "      <td>8</td>\n",
       "      <td>2015</td>\n",
       "      <td>другой</td>\n",
       "      <td>0.612500</td>\n",
       "      <td>0.148214</td>\n",
       "    </tr>\n",
       "    <tr>\n",
       "      <th>3</th>\n",
       "      <td>0</td>\n",
       "      <td>64</td>\n",
       "      <td>159.0</td>\n",
       "      <td>2015-07-24</td>\n",
       "      <td>3</td>\n",
       "      <td>2.70</td>\n",
       "      <td>14</td>\n",
       "      <td>90.289724</td>\n",
       "      <td>9</td>\n",
       "      <td>False</td>\n",
       "      <td>...</td>\n",
       "      <td>Санкт-Петербург</td>\n",
       "      <td>7.0</td>\n",
       "      <td>424</td>\n",
       "      <td>402515.723270</td>\n",
       "      <td>4</td>\n",
       "      <td>7</td>\n",
       "      <td>2015</td>\n",
       "      <td>другой</td>\n",
       "      <td>0.567860</td>\n",
       "      <td>0.567860</td>\n",
       "    </tr>\n",
       "    <tr>\n",
       "      <th>4</th>\n",
       "      <td>2</td>\n",
       "      <td>10</td>\n",
       "      <td>100.0</td>\n",
       "      <td>2018-06-19</td>\n",
       "      <td>2</td>\n",
       "      <td>3.03</td>\n",
       "      <td>14</td>\n",
       "      <td>32.000000</td>\n",
       "      <td>13</td>\n",
       "      <td>False</td>\n",
       "      <td>...</td>\n",
       "      <td>Санкт-Петербург</td>\n",
       "      <td>8.0</td>\n",
       "      <td>121</td>\n",
       "      <td>100000.000000</td>\n",
       "      <td>1</td>\n",
       "      <td>6</td>\n",
       "      <td>2018</td>\n",
       "      <td>другой</td>\n",
       "      <td>0.320000</td>\n",
       "      <td>0.410000</td>\n",
       "    </tr>\n",
       "  </tbody>\n",
       "</table>\n",
       "<p>5 rows × 24 columns</p>\n",
       "</div>"
      ],
      "text/plain": [
       "   total_images  last_price  total_area first_day_exposition  rooms  \\\n",
       "0            20          13       108.0           2019-03-07      3   \n",
       "1             7           3        40.4           2018-12-04      1   \n",
       "2            10           5        56.0           2015-08-20      2   \n",
       "3             0          64       159.0           2015-07-24      3   \n",
       "4             2          10       100.0           2018-06-19      2   \n",
       "\n",
       "   ceiling_height  floors_total  living_area  floor  is_apartment  ...  \\\n",
       "0            2.70            16    51.000000      8         False  ...   \n",
       "1            2.70            11    18.600000      1         False  ...   \n",
       "2            2.70             5    34.300000      4         False  ...   \n",
       "3            2.70            14    90.289724      9         False  ...   \n",
       "4            3.03            14    32.000000     13         False  ...   \n",
       "\n",
       "     locality_name  cityCenters_nearest  days_exposition  \\\n",
       "0  Санкт-Петербург                 16.0               96   \n",
       "1   посёлок Шушары                 19.0               81   \n",
       "2  Санкт-Петербург                 14.0              558   \n",
       "3  Санкт-Петербург                  7.0              424   \n",
       "4  Санкт-Петербург                  8.0              121   \n",
       "\n",
       "   price_per_square_meter week_day  month  year  floor_type  living_to_total  \\\n",
       "0           120370.370370        3      3  2019      другой         0.472222   \n",
       "1            74257.425743        1     12  2018      первый         0.460396   \n",
       "2            89285.714286        3      8  2015      другой         0.612500   \n",
       "3           402515.723270        4      7  2015      другой         0.567860   \n",
       "4           100000.000000        1      6  2018      другой         0.320000   \n",
       "\n",
       "   kitchen_to_total  \n",
       "0          0.231481  \n",
       "1          0.272277  \n",
       "2          0.148214  \n",
       "3          0.567860  \n",
       "4          0.410000  \n",
       "\n",
       "[5 rows x 24 columns]"
      ]
     },
     "execution_count": 26,
     "metadata": {},
     "output_type": "execute_result"
    }
   ],
   "source": [
    "data['price_per_square_meter']=data['last_price']*1000000/data['total_area']\n",
    "\n",
    "data['first_day_exposition'] = pd.to_datetime(data['first_day_exposition'], format='%Y-%m-%dT%H:%M:%S')\n",
    "\n",
    "#достанем нужные компоненты (день, месяц и год) в отдельные столбцы\n",
    "data['week_day']=data['first_day_exposition'].dt.dayofweek\n",
    "data['month']=data['first_day_exposition'].dt.month\n",
    "data['year']=data['first_day_exposition'].dt.year\n",
    "\n",
    "data['floor'].value_counts()\n",
    "def floor_type (row):\n",
    "    floor=row['floor']\n",
    "    floors_total=row['floors_total']\n",
    "    if floor==1:\n",
    "        return 'первый'\n",
    "    if floor==floors_total:\n",
    "        return 'последний'\n",
    "    return 'другой'\n",
    "data['floor_type'] = data.apply(floor_type, axis=1)\n",
    "\n",
    "\n",
    "data['living_to_total'] = data['living_area']/data['total_area'] \n",
    "data['kitchen_to_total'] = data['kitchen_area']/data['total_area']\n",
    "\n",
    "data.head()"
   ]
  },
  {
   "cell_type": "markdown",
   "metadata": {},
   "source": [
    "Вывод: пропуски заполнены или удалены, в новом датасете остались только те данные, которые будут нужны для исследования."
   ]
  },
  {
   "cell_type": "markdown",
   "metadata": {},
   "source": [
    "## Исследовательский анализ данных"
   ]
  },
  {
   "cell_type": "markdown",
   "metadata": {},
   "source": [
    "Изучите следующие параметры: площадь, цена, число комнат, высота потолков. Постройте гистограммы для каждого параметра."
   ]
  },
  {
   "cell_type": "code",
   "execution_count": 27,
   "metadata": {},
   "outputs": [
    {
     "data": {
      "text/plain": [
       "(0.0, 400.0)"
      ]
     },
     "execution_count": 27,
     "metadata": {},
     "output_type": "execute_result"
    },
    {
     "data": {
      "image/png": "[encoded data removed]",
      "text/plain": [
       "<Figure size 432x288 with 1 Axes>"
      ]
     },
     "metadata": {
      "needs_background": "light"
     },
     "output_type": "display_data"
    }
   ],
   "source": [
    "data['total_area'].hist(bins=50).set_xlim([0, 400])"
   ]
  },
  {
   "cell_type": "code",
   "execution_count": 28,
   "metadata": {},
   "outputs": [
    {
     "data": {
      "text/html": [
       "<div>\n",
       "<style scoped>\n",
       "    .dataframe tbody tr th:only-of-type {\n",
       "        vertical-align: middle;\n",
       "    }\n",
       "\n",
       "    .dataframe tbody tr th {\n",
       "        vertical-align: top;\n",
       "    }\n",
       "\n",
       "    .dataframe thead th {\n",
       "        text-align: right;\n",
       "    }\n",
       "</style>\n",
       "<table border=\"1\" class=\"dataframe\">\n",
       "  <thead>\n",
       "    <tr style=\"text-align: right;\">\n",
       "      <th></th>\n",
       "      <th>total_images</th>\n",
       "      <th>last_price</th>\n",
       "      <th>total_area</th>\n",
       "      <th>first_day_exposition</th>\n",
       "      <th>rooms</th>\n",
       "      <th>ceiling_height</th>\n",
       "      <th>floors_total</th>\n",
       "      <th>living_area</th>\n",
       "      <th>floor</th>\n",
       "      <th>is_apartment</th>\n",
       "      <th>...</th>\n",
       "      <th>kitchen_area</th>\n",
       "      <th>balcony</th>\n",
       "      <th>locality_name</th>\n",
       "      <th>airports_nearest</th>\n",
       "      <th>cityCenters_nearest</th>\n",
       "      <th>parks_around3000</th>\n",
       "      <th>parks_nearest</th>\n",
       "      <th>ponds_around3000</th>\n",
       "      <th>ponds_nearest</th>\n",
       "      <th>days_exposition</th>\n",
       "    </tr>\n",
       "  </thead>\n",
       "  <tbody>\n",
       "    <tr>\n",
       "      <th>12971</th>\n",
       "      <td>19</td>\n",
       "      <td>763.0</td>\n",
       "      <td>400.0</td>\n",
       "      <td>2017-09-30T00:00:00</td>\n",
       "      <td>7</td>\n",
       "      <td>2.6</td>\n",
       "      <td>10.0</td>\n",
       "      <td>250.0</td>\n",
       "      <td>10</td>\n",
       "      <td>False</td>\n",
       "      <td>...</td>\n",
       "      <td>227.14396</td>\n",
       "      <td>2.0</td>\n",
       "      <td>Санкт-Петербург</td>\n",
       "      <td>25108.0</td>\n",
       "      <td>4.0</td>\n",
       "      <td>1.0</td>\n",
       "      <td>530.0</td>\n",
       "      <td>3.0</td>\n",
       "      <td>756.0</td>\n",
       "      <td>33.0</td>\n",
       "    </tr>\n",
       "  </tbody>\n",
       "</table>\n",
       "<p>1 rows × 22 columns</p>\n",
       "</div>"
      ],
      "text/plain": [
       "       total_images  last_price  total_area first_day_exposition  rooms  \\\n",
       "12971            19       763.0       400.0  2017-09-30T00:00:00      7   \n",
       "\n",
       "       ceiling_height  floors_total  living_area  floor  is_apartment  ...  \\\n",
       "12971             2.6          10.0        250.0     10         False  ...   \n",
       "\n",
       "       kitchen_area  balcony    locality_name  airports_nearest  \\\n",
       "12971     227.14396      2.0  Санкт-Петербург           25108.0   \n",
       "\n",
       "      cityCenters_nearest  parks_around3000  parks_nearest  ponds_around3000  \\\n",
       "12971                 4.0               1.0          530.0               3.0   \n",
       "\n",
       "       ponds_nearest  days_exposition  \n",
       "12971          756.0             33.0  \n",
       "\n",
       "[1 rows x 22 columns]"
      ]
     },
     "execution_count": 28,
     "metadata": {},
     "output_type": "execute_result"
    },
    {
     "data": {
      "image/png": "[encoded data removed]",
      "text/plain": [
       "<Figure size 432x288 with 1 Axes>"
      ]
     },
     "metadata": {
      "needs_background": "light"
     },
     "output_type": "display_data"
    }
   ],
   "source": [
    "data['last_price'].hist(bins=100).set_xlim([0, 100])\n",
    "very_high_price = df.query('last_price>500')\n",
    "very_high_price"
   ]
  },
  {
   "cell_type": "markdown",
   "metadata": {},
   "source": [
    "Стоимость в 763 млн похожа на аномалию, но я решила от неё не избавляться"
   ]
  },
  {
   "cell_type": "code",
   "execution_count": 29,
   "metadata": {},
   "outputs": [
    {
     "data": {
      "text/plain": [
       "(0.0, 50.0)"
      ]
     },
     "execution_count": 29,
     "metadata": {},
     "output_type": "execute_result"
    },
    {
     "data": {
      "image/png": "[encoded data removed]",
      "text/plain": [
       "<Figure size 432x288 with 1 Axes>"
      ]
     },
     "metadata": {
      "needs_background": "light"
     },
     "output_type": "display_data"
    }
   ],
   "source": [
    "data.boxplot('last_price').set_ylim([0, 50])"
   ]
  },
  {
   "cell_type": "markdown",
   "metadata": {},
   "source": [
    "Так выглядит график после перевода цены в млн"
   ]
  },
  {
   "cell_type": "code",
   "execution_count": 30,
   "metadata": {},
   "outputs": [
    {
     "data": {
      "text/plain": [
       "<AxesSubplot:>"
      ]
     },
     "execution_count": 30,
     "metadata": {},
     "output_type": "execute_result"
    },
    {
     "data": {
      "image/png": "[encoded data removed]",
      "text/plain": [
       "<Figure size 432x288 with 1 Axes>"
      ]
     },
     "metadata": {
      "needs_background": "light"
     },
     "output_type": "display_data"
    }
   ],
   "source": [
    "data['rooms'].hist(bins=10)"
   ]
  },
  {
   "cell_type": "code",
   "execution_count": 31,
   "metadata": {},
   "outputs": [
    {
     "data": {
      "text/plain": [
       "(0.0, 20.0)"
      ]
     },
     "execution_count": 31,
     "metadata": {},
     "output_type": "execute_result"
    },
    {
     "data": {
      "image/png": "[encoded data removed]",
      "text/plain": [
       "<Figure size 432x288 with 1 Axes>"
      ]
     },
     "metadata": {
      "needs_background": "light"
     },
     "output_type": "display_data"
    }
   ],
   "source": [
    "data['ceiling_height'].hist(bins=50).set_xlim([0, 20])"
   ]
  },
  {
   "cell_type": "code",
   "execution_count": 32,
   "metadata": {},
   "outputs": [
    {
     "name": "stdout",
     "output_type": "stream",
     "text": [
      "169.67957144143332\n",
      "96.0\n"
     ]
    },
    {
     "data": {
      "text/plain": [
       "<AxesSubplot:>"
      ]
     },
     "execution_count": 32,
     "metadata": {},
     "output_type": "execute_result"
    },
    {
     "data": {
      "image/png": "[encoded data removed]",
      "text/plain": [
       "<Figure size 432x288 with 1 Axes>"
      ]
     },
     "metadata": {
      "needs_background": "light"
     },
     "output_type": "display_data"
    }
   ],
   "source": [
    "data['days_exposition'].hist(bins=100)\n",
    "print(data['days_exposition'].mean())\n",
    "print(data['days_exposition'].median())\n",
    "\n",
    "data.boxplot('days_exposition')"
   ]
  },
  {
   "cell_type": "markdown",
   "metadata": {},
   "source": [
    "### Редкие и выбивающиеся значения"
   ]
  },
  {
   "cell_type": "markdown",
   "metadata": {},
   "source": [
    "Можно оценить и отбросить нетипично долгое время продажи (это участок, где гистограмма почти сливается с нулём). Скорее всего, такие аномальные значения связаны с какой-то ошибкой (например, объявление забыли снять с публикации). В среднем, квартира продаётся за 2-6 месяцев. Vожно отбросить объявления, которые на графике boxplot попадают в зону выбросов ('days_exposition'>500)"
   ]
  },
  {
   "cell_type": "markdown",
   "metadata": {},
   "source": [
    "### Факторы, влияющие на стоимость квартиры"
   ]
  },
  {
   "cell_type": "markdown",
   "metadata": {},
   "source": [
    "Какие факторы больше всего влияют на стоимость квартиры? Изучите, зависит ли цена от площади, числа комнат, удалённости от центра. Изучите зависимость цены от того, на каком этаже расположена квартира: первом, последнем или другом. Также изучите зависимость от даты размещения: дня недели, месяца и года."
   ]
  },
  {
   "cell_type": "code",
   "execution_count": 33,
   "metadata": {},
   "outputs": [
    {
     "data": {
      "text/plain": [
       "Text(0, 0.5, 'Средняя цена')"
      ]
     },
     "execution_count": 33,
     "metadata": {},
     "output_type": "execute_result"
    },
    {
     "data": {
      "image/png": "[encoded data removed]",
      "text/plain": [
       "<Figure size 1080x504 with 1 Axes>"
      ]
     },
     "metadata": {
      "needs_background": "light"
     },
     "output_type": "display_data"
    }
   ],
   "source": [
    "import matplotlib.pyplot as plt\n",
    "\n",
    "data.pivot_table(index='year', values='last_price', aggfunc='mean').plot(style='o--', grid=True, figsize=(15, 7))\n",
    "\n",
    "plt.title('Зависимость цены от года')\n",
    "plt.xlabel('Год')\n",
    "plt.ylabel('Средняя цена')"
   ]
  },
  {
   "cell_type": "markdown",
   "metadata": {},
   "source": [
    "Здесь меня сначало удивило, что цены на недвижимость вообще могли опуститься, но материалы РБК тоже подсказывают, что в 2014 было падение рынка жилья)"
   ]
  },
  {
   "cell_type": "code",
   "execution_count": 34,
   "metadata": {},
   "outputs": [
    {
     "data": {
      "text/plain": [
       "Text(0, 0.5, 'Средняя цена')"
      ]
     },
     "execution_count": 34,
     "metadata": {},
     "output_type": "execute_result"
    },
    {
     "data": {
      "image/png": "[encoded data removed]",
      "text/plain": [
       "<Figure size 1080x504 with 1 Axes>"
      ]
     },
     "metadata": {
      "needs_background": "light"
     },
     "output_type": "display_data"
    }
   ],
   "source": [
    "data.pivot_table(index='month', values='last_price', aggfunc='mean').plot(style='o--', grid=True, figsize=(15, 7))\n",
    "\n",
    "plt.title('Зависимость цены от месяца')\n",
    "plt.xlabel('Месяц')\n",
    "plt.ylabel('Средняя цена')"
   ]
  },
  {
   "cell_type": "markdown",
   "metadata": {},
   "source": [
    "Почему-то дешевле всего квартиры продаются в октябре, а дороже - в декабре"
   ]
  },
  {
   "cell_type": "code",
   "execution_count": 35,
   "metadata": {},
   "outputs": [
    {
     "data": {
      "text/plain": [
       "Text(0, 0.5, 'Средняя цена')"
      ]
     },
     "execution_count": 35,
     "metadata": {},
     "output_type": "execute_result"
    },
    {
     "data": {
      "image/png": "[encoded data removed]",
      "text/plain": [
       "<Figure size 1080x504 with 1 Axes>"
      ]
     },
     "metadata": {
      "needs_background": "light"
     },
     "output_type": "display_data"
    }
   ],
   "source": [
    "data.pivot_table(index='week_day', values='last_price', aggfunc='mean').plot(style='o--', grid=True, figsize=(15, 7))\n",
    "\n",
    "plt.title('Зависимость цены от дня недели')\n",
    "plt.xlabel('День')\n",
    "plt.ylabel('Средняя цена')"
   ]
  },
  {
   "cell_type": "markdown",
   "metadata": {},
   "source": [
    "Номера дней отсчитываются с понедельника (1), а воскресенье - это 0. Соответственно, дороже всего квартиры продаются в пятницу, а дешевле всего в субботу. Могу только предположить, что в пятницу у покупателей хорошее настроение, а в субботу у них болит голова"
   ]
  },
  {
   "cell_type": "code",
   "execution_count": 36,
   "metadata": {},
   "outputs": [
    {
     "data": {
      "text/plain": [
       "Text(0, 0.5, 'Средняя цена')"
      ]
     },
     "execution_count": 36,
     "metadata": {},
     "output_type": "execute_result"
    },
    {
     "data": {
      "image/png": "[encoded data removed]",
      "text/plain": [
       "<Figure size 1080x504 with 1 Axes>"
      ]
     },
     "metadata": {
      "needs_background": "light"
     },
     "output_type": "display_data"
    }
   ],
   "source": [
    "data.pivot_table(index='floor_type', values='last_price', aggfunc='mean').plot(style='o--', grid=True, figsize=(15, 7))\n",
    "\n",
    "plt.title('Зависимость цены от этажа')\n",
    "plt.xlabel('Этаж')\n",
    "plt.ylabel('Средняя цена')"
   ]
  },
  {
   "cell_type": "markdown",
   "metadata": {},
   "source": [
    "Дешевле всего квартиры на первом этаже, дороже - на последнем, возможно, это связано с тем, что никто не любит шумных соседей сверху)"
   ]
  },
  {
   "cell_type": "code",
   "execution_count": 37,
   "metadata": {},
   "outputs": [
    {
     "data": {
      "text/plain": [
       "Text(0, 0.5, 'Средняя цена')"
      ]
     },
     "execution_count": 37,
     "metadata": {},
     "output_type": "execute_result"
    },
    {
     "data": {
      "image/png": "[encoded data removed]",
      "text/plain": [
       "<Figure size 1080x504 with 1 Axes>"
      ]
     },
     "metadata": {
      "needs_background": "light"
     },
     "output_type": "display_data"
    }
   ],
   "source": [
    "data.pivot_table(index='cityCenters_nearest', values='last_price', aggfunc='mean').plot(style='o--', grid=True, figsize=(15, 7))\n",
    "\n",
    "plt.title('Зависимость цены от удалённости от центра')\n",
    "plt.xlabel('Расстояние до центра, км')\n",
    "plt.ylabel('Средняя цена')"
   ]
  },
  {
   "cell_type": "markdown",
   "metadata": {},
   "source": [
    "В целом, чем дальше от центра - тем дешевле, но есть ещё небольшой пик в районе 7 км от центра."
   ]
  },
  {
   "cell_type": "code",
   "execution_count": 38,
   "metadata": {},
   "outputs": [
    {
     "data": {
      "text/plain": [
       "Text(0, 0.5, 'Средняя цена')"
      ]
     },
     "execution_count": 38,
     "metadata": {},
     "output_type": "execute_result"
    },
    {
     "data": {
      "image/png": "[encoded data removed]",
      "text/plain": [
       "<Figure size 1080x504 with 1 Axes>"
      ]
     },
     "metadata": {
      "needs_background": "light"
     },
     "output_type": "display_data"
    }
   ],
   "source": [
    "data.pivot_table(index='rooms', values='last_price', aggfunc='mean').plot(style='o--', grid=True, figsize=(15, 7))\n",
    "\n",
    "plt.title('Зависимость цены от количества комнат')\n",
    "plt.xlabel('Число комнат')\n",
    "plt.ylabel('Средняя цена')"
   ]
  },
  {
   "cell_type": "code",
   "execution_count": 39,
   "metadata": {},
   "outputs": [
    {
     "data": {
      "text/html": [
       "<div>\n",
       "<style scoped>\n",
       "    .dataframe tbody tr th:only-of-type {\n",
       "        vertical-align: middle;\n",
       "    }\n",
       "\n",
       "    .dataframe tbody tr th {\n",
       "        vertical-align: top;\n",
       "    }\n",
       "\n",
       "    .dataframe thead th {\n",
       "        text-align: right;\n",
       "    }\n",
       "</style>\n",
       "<table border=\"1\" class=\"dataframe\">\n",
       "  <thead>\n",
       "    <tr style=\"text-align: right;\">\n",
       "      <th></th>\n",
       "      <th>total_images</th>\n",
       "      <th>last_price</th>\n",
       "      <th>total_area</th>\n",
       "      <th>first_day_exposition</th>\n",
       "      <th>rooms</th>\n",
       "      <th>ceiling_height</th>\n",
       "      <th>floors_total</th>\n",
       "      <th>living_area</th>\n",
       "      <th>floor</th>\n",
       "      <th>is_apartment</th>\n",
       "      <th>...</th>\n",
       "      <th>locality_name</th>\n",
       "      <th>cityCenters_nearest</th>\n",
       "      <th>days_exposition</th>\n",
       "      <th>price_per_square_meter</th>\n",
       "      <th>week_day</th>\n",
       "      <th>month</th>\n",
       "      <th>year</th>\n",
       "      <th>floor_type</th>\n",
       "      <th>living_to_total</th>\n",
       "      <th>kitchen_to_total</th>\n",
       "    </tr>\n",
       "  </thead>\n",
       "  <tbody>\n",
       "    <tr>\n",
       "      <th>144</th>\n",
       "      <td>1</td>\n",
       "      <td>2</td>\n",
       "      <td>27.00</td>\n",
       "      <td>2017-03-30</td>\n",
       "      <td>0</td>\n",
       "      <td>2.70</td>\n",
       "      <td>24</td>\n",
       "      <td>15.500000</td>\n",
       "      <td>2</td>\n",
       "      <td>False</td>\n",
       "      <td>...</td>\n",
       "      <td>посёлок Мурино</td>\n",
       "      <td>12.0</td>\n",
       "      <td>181</td>\n",
       "      <td>74074.074074</td>\n",
       "      <td>3</td>\n",
       "      <td>3</td>\n",
       "      <td>2017</td>\n",
       "      <td>другой</td>\n",
       "      <td>0.574074</td>\n",
       "      <td>0.56786</td>\n",
       "    </tr>\n",
       "    <tr>\n",
       "      <th>349</th>\n",
       "      <td>4</td>\n",
       "      <td>2</td>\n",
       "      <td>25.00</td>\n",
       "      <td>2017-09-27</td>\n",
       "      <td>0</td>\n",
       "      <td>2.70</td>\n",
       "      <td>14</td>\n",
       "      <td>17.000000</td>\n",
       "      <td>1</td>\n",
       "      <td>False</td>\n",
       "      <td>...</td>\n",
       "      <td>деревня Кудрово</td>\n",
       "      <td>12.0</td>\n",
       "      <td>45</td>\n",
       "      <td>80000.000000</td>\n",
       "      <td>2</td>\n",
       "      <td>9</td>\n",
       "      <td>2017</td>\n",
       "      <td>первый</td>\n",
       "      <td>0.680000</td>\n",
       "      <td>0.56786</td>\n",
       "    </tr>\n",
       "    <tr>\n",
       "      <th>440</th>\n",
       "      <td>8</td>\n",
       "      <td>2</td>\n",
       "      <td>27.11</td>\n",
       "      <td>2018-03-12</td>\n",
       "      <td>0</td>\n",
       "      <td>2.70</td>\n",
       "      <td>17</td>\n",
       "      <td>24.750000</td>\n",
       "      <td>4</td>\n",
       "      <td>False</td>\n",
       "      <td>...</td>\n",
       "      <td>Санкт-Петербург</td>\n",
       "      <td>15.0</td>\n",
       "      <td>64</td>\n",
       "      <td>73773.515308</td>\n",
       "      <td>0</td>\n",
       "      <td>3</td>\n",
       "      <td>2018</td>\n",
       "      <td>другой</td>\n",
       "      <td>0.912947</td>\n",
       "      <td>0.56786</td>\n",
       "    </tr>\n",
       "    <tr>\n",
       "      <th>508</th>\n",
       "      <td>0</td>\n",
       "      <td>3</td>\n",
       "      <td>34.40</td>\n",
       "      <td>2017-03-28</td>\n",
       "      <td>0</td>\n",
       "      <td>2.70</td>\n",
       "      <td>26</td>\n",
       "      <td>24.300000</td>\n",
       "      <td>19</td>\n",
       "      <td>False</td>\n",
       "      <td>...</td>\n",
       "      <td>посёлок Парголово</td>\n",
       "      <td>19.0</td>\n",
       "      <td>430</td>\n",
       "      <td>87209.302326</td>\n",
       "      <td>1</td>\n",
       "      <td>3</td>\n",
       "      <td>2017</td>\n",
       "      <td>другой</td>\n",
       "      <td>0.706395</td>\n",
       "      <td>0.56786</td>\n",
       "    </tr>\n",
       "    <tr>\n",
       "      <th>608</th>\n",
       "      <td>2</td>\n",
       "      <td>1</td>\n",
       "      <td>25.00</td>\n",
       "      <td>2019-02-20</td>\n",
       "      <td>0</td>\n",
       "      <td>2.70</td>\n",
       "      <td>10</td>\n",
       "      <td>14.196497</td>\n",
       "      <td>7</td>\n",
       "      <td>False</td>\n",
       "      <td>...</td>\n",
       "      <td>посёлок Шушары</td>\n",
       "      <td>12.0</td>\n",
       "      <td>29</td>\n",
       "      <td>40000.000000</td>\n",
       "      <td>2</td>\n",
       "      <td>2</td>\n",
       "      <td>2019</td>\n",
       "      <td>другой</td>\n",
       "      <td>0.567860</td>\n",
       "      <td>0.56786</td>\n",
       "    </tr>\n",
       "    <tr>\n",
       "      <th>697</th>\n",
       "      <td>12</td>\n",
       "      <td>2</td>\n",
       "      <td>24.10</td>\n",
       "      <td>2017-12-01</td>\n",
       "      <td>0</td>\n",
       "      <td>2.75</td>\n",
       "      <td>25</td>\n",
       "      <td>17.500000</td>\n",
       "      <td>21</td>\n",
       "      <td>False</td>\n",
       "      <td>...</td>\n",
       "      <td>деревня Кудрово</td>\n",
       "      <td>12.0</td>\n",
       "      <td>201</td>\n",
       "      <td>82987.551867</td>\n",
       "      <td>4</td>\n",
       "      <td>12</td>\n",
       "      <td>2017</td>\n",
       "      <td>другой</td>\n",
       "      <td>0.726141</td>\n",
       "      <td>0.56786</td>\n",
       "    </tr>\n",
       "    <tr>\n",
       "      <th>716</th>\n",
       "      <td>5</td>\n",
       "      <td>1</td>\n",
       "      <td>17.00</td>\n",
       "      <td>2017-06-07</td>\n",
       "      <td>0</td>\n",
       "      <td>2.70</td>\n",
       "      <td>9</td>\n",
       "      <td>12.000000</td>\n",
       "      <td>1</td>\n",
       "      <td>False</td>\n",
       "      <td>...</td>\n",
       "      <td>посёлок Шушары</td>\n",
       "      <td>30.0</td>\n",
       "      <td>40</td>\n",
       "      <td>58823.529412</td>\n",
       "      <td>2</td>\n",
       "      <td>6</td>\n",
       "      <td>2017</td>\n",
       "      <td>первый</td>\n",
       "      <td>0.705882</td>\n",
       "      <td>0.56786</td>\n",
       "    </tr>\n",
       "    <tr>\n",
       "      <th>780</th>\n",
       "      <td>9</td>\n",
       "      <td>2</td>\n",
       "      <td>26.10</td>\n",
       "      <td>2018-02-20</td>\n",
       "      <td>0</td>\n",
       "      <td>2.70</td>\n",
       "      <td>18</td>\n",
       "      <td>14.821143</td>\n",
       "      <td>8</td>\n",
       "      <td>False</td>\n",
       "      <td>...</td>\n",
       "      <td>посёлок Мурино</td>\n",
       "      <td>12.0</td>\n",
       "      <td>45</td>\n",
       "      <td>76628.352490</td>\n",
       "      <td>1</td>\n",
       "      <td>2</td>\n",
       "      <td>2018</td>\n",
       "      <td>другой</td>\n",
       "      <td>0.567860</td>\n",
       "      <td>0.56786</td>\n",
       "    </tr>\n",
       "    <tr>\n",
       "      <th>839</th>\n",
       "      <td>14</td>\n",
       "      <td>1</td>\n",
       "      <td>35.00</td>\n",
       "      <td>2017-04-14</td>\n",
       "      <td>0</td>\n",
       "      <td>2.70</td>\n",
       "      <td>5</td>\n",
       "      <td>15.000000</td>\n",
       "      <td>3</td>\n",
       "      <td>False</td>\n",
       "      <td>...</td>\n",
       "      <td>поселок Новый Свет</td>\n",
       "      <td>12.0</td>\n",
       "      <td>7</td>\n",
       "      <td>28571.428571</td>\n",
       "      <td>4</td>\n",
       "      <td>4</td>\n",
       "      <td>2017</td>\n",
       "      <td>другой</td>\n",
       "      <td>0.428571</td>\n",
       "      <td>0.56786</td>\n",
       "    </tr>\n",
       "    <tr>\n",
       "      <th>946</th>\n",
       "      <td>5</td>\n",
       "      <td>2</td>\n",
       "      <td>23.00</td>\n",
       "      <td>2016-09-27</td>\n",
       "      <td>0</td>\n",
       "      <td>2.70</td>\n",
       "      <td>27</td>\n",
       "      <td>18.000000</td>\n",
       "      <td>7</td>\n",
       "      <td>False</td>\n",
       "      <td>...</td>\n",
       "      <td>посёлок Мурино</td>\n",
       "      <td>12.0</td>\n",
       "      <td>483</td>\n",
       "      <td>86956.521739</td>\n",
       "      <td>1</td>\n",
       "      <td>9</td>\n",
       "      <td>2016</td>\n",
       "      <td>другой</td>\n",
       "      <td>0.782609</td>\n",
       "      <td>0.56786</td>\n",
       "    </tr>\n",
       "  </tbody>\n",
       "</table>\n",
       "<p>10 rows × 24 columns</p>\n",
       "</div>"
      ],
      "text/plain": [
       "     total_images  last_price  total_area first_day_exposition  rooms  \\\n",
       "144             1           2       27.00           2017-03-30      0   \n",
       "349             4           2       25.00           2017-09-27      0   \n",
       "440             8           2       27.11           2018-03-12      0   \n",
       "508             0           3       34.40           2017-03-28      0   \n",
       "608             2           1       25.00           2019-02-20      0   \n",
       "697            12           2       24.10           2017-12-01      0   \n",
       "716             5           1       17.00           2017-06-07      0   \n",
       "780             9           2       26.10           2018-02-20      0   \n",
       "839            14           1       35.00           2017-04-14      0   \n",
       "946             5           2       23.00           2016-09-27      0   \n",
       "\n",
       "     ceiling_height  floors_total  living_area  floor  is_apartment  ...  \\\n",
       "144            2.70            24    15.500000      2         False  ...   \n",
       "349            2.70            14    17.000000      1         False  ...   \n",
       "440            2.70            17    24.750000      4         False  ...   \n",
       "508            2.70            26    24.300000     19         False  ...   \n",
       "608            2.70            10    14.196497      7         False  ...   \n",
       "697            2.75            25    17.500000     21         False  ...   \n",
       "716            2.70             9    12.000000      1         False  ...   \n",
       "780            2.70            18    14.821143      8         False  ...   \n",
       "839            2.70             5    15.000000      3         False  ...   \n",
       "946            2.70            27    18.000000      7         False  ...   \n",
       "\n",
       "          locality_name  cityCenters_nearest  days_exposition  \\\n",
       "144      посёлок Мурино                 12.0              181   \n",
       "349     деревня Кудрово                 12.0               45   \n",
       "440     Санкт-Петербург                 15.0               64   \n",
       "508   посёлок Парголово                 19.0              430   \n",
       "608      посёлок Шушары                 12.0               29   \n",
       "697     деревня Кудрово                 12.0              201   \n",
       "716      посёлок Шушары                 30.0               40   \n",
       "780      посёлок Мурино                 12.0               45   \n",
       "839  поселок Новый Свет                 12.0                7   \n",
       "946      посёлок Мурино                 12.0              483   \n",
       "\n",
       "     price_per_square_meter week_day  month  year  floor_type  \\\n",
       "144            74074.074074        3      3  2017      другой   \n",
       "349            80000.000000        2      9  2017      первый   \n",
       "440            73773.515308        0      3  2018      другой   \n",
       "508            87209.302326        1      3  2017      другой   \n",
       "608            40000.000000        2      2  2019      другой   \n",
       "697            82987.551867        4     12  2017      другой   \n",
       "716            58823.529412        2      6  2017      первый   \n",
       "780            76628.352490        1      2  2018      другой   \n",
       "839            28571.428571        4      4  2017      другой   \n",
       "946            86956.521739        1      9  2016      другой   \n",
       "\n",
       "     living_to_total  kitchen_to_total  \n",
       "144         0.574074           0.56786  \n",
       "349         0.680000           0.56786  \n",
       "440         0.912947           0.56786  \n",
       "508         0.706395           0.56786  \n",
       "608         0.567860           0.56786  \n",
       "697         0.726141           0.56786  \n",
       "716         0.705882           0.56786  \n",
       "780         0.567860           0.56786  \n",
       "839         0.428571           0.56786  \n",
       "946         0.782609           0.56786  \n",
       "\n",
       "[10 rows x 24 columns]"
      ]
     },
     "execution_count": 39,
     "metadata": {},
     "output_type": "execute_result"
    }
   ],
   "source": [
    "data['rooms'].unique()\n",
    "null_room = 0\n",
    "for i in data['rooms']:\n",
    "    if i==0:\n",
    "        null_room+=1\n",
    "null_room       \n",
    "#оказалось, что есть ещё квартиры, в которых количество комнат равно 0\n",
    "data0 = data[data['rooms']==0]\n",
    "data0.head(10)\n",
    "#я предполагаю, что это студии, т.к. отношение площади кухни к жилой заполнилось средним значением"
   ]
  },
  {
   "cell_type": "code",
   "execution_count": 40,
   "metadata": {},
   "outputs": [
    {
     "data": {
      "text/plain": [
       "array([ 3,  1,  2,  4,  5,  6,  0,  7, 11,  8, 14, 10, 15,  9, 19, 16, 12])"
      ]
     },
     "execution_count": 40,
     "metadata": {},
     "output_type": "execute_result"
    }
   ],
   "source": [
    "data['rooms'].unique()"
   ]
  },
  {
   "cell_type": "code",
   "execution_count": 41,
   "metadata": {},
   "outputs": [
    {
     "data": {
      "text/html": [
       "<div>\n",
       "<style scoped>\n",
       "    .dataframe tbody tr th:only-of-type {\n",
       "        vertical-align: middle;\n",
       "    }\n",
       "\n",
       "    .dataframe tbody tr th {\n",
       "        vertical-align: top;\n",
       "    }\n",
       "\n",
       "    .dataframe thead th {\n",
       "        text-align: right;\n",
       "    }\n",
       "</style>\n",
       "<table border=\"1\" class=\"dataframe\">\n",
       "  <thead>\n",
       "    <tr style=\"text-align: right;\">\n",
       "      <th></th>\n",
       "      <th>total_images</th>\n",
       "      <th>last_price</th>\n",
       "      <th>total_area</th>\n",
       "      <th>first_day_exposition</th>\n",
       "      <th>rooms</th>\n",
       "      <th>ceiling_height</th>\n",
       "      <th>floors_total</th>\n",
       "      <th>living_area</th>\n",
       "      <th>floor</th>\n",
       "      <th>is_apartment</th>\n",
       "      <th>...</th>\n",
       "      <th>locality_name</th>\n",
       "      <th>cityCenters_nearest</th>\n",
       "      <th>days_exposition</th>\n",
       "      <th>price_per_square_meter</th>\n",
       "      <th>week_day</th>\n",
       "      <th>month</th>\n",
       "      <th>year</th>\n",
       "      <th>floor_type</th>\n",
       "      <th>living_to_total</th>\n",
       "      <th>kitchen_to_total</th>\n",
       "    </tr>\n",
       "  </thead>\n",
       "  <tbody>\n",
       "    <tr>\n",
       "      <th>648</th>\n",
       "      <td>3</td>\n",
       "      <td>17</td>\n",
       "      <td>183.7</td>\n",
       "      <td>2018-07-01</td>\n",
       "      <td>11</td>\n",
       "      <td>3.40</td>\n",
       "      <td>7</td>\n",
       "      <td>138.8</td>\n",
       "      <td>7</td>\n",
       "      <td>False</td>\n",
       "      <td>...</td>\n",
       "      <td>Санкт-Петербург</td>\n",
       "      <td>3.0</td>\n",
       "      <td>96</td>\n",
       "      <td>92542.188351</td>\n",
       "      <td>6</td>\n",
       "      <td>7</td>\n",
       "      <td>2018</td>\n",
       "      <td>последний</td>\n",
       "      <td>0.755580</td>\n",
       "      <td>0.072401</td>\n",
       "    </tr>\n",
       "    <tr>\n",
       "      <th>866</th>\n",
       "      <td>5</td>\n",
       "      <td>25</td>\n",
       "      <td>363.0</td>\n",
       "      <td>2017-12-23</td>\n",
       "      <td>14</td>\n",
       "      <td>3.16</td>\n",
       "      <td>5</td>\n",
       "      <td>222.0</td>\n",
       "      <td>4</td>\n",
       "      <td>False</td>\n",
       "      <td>...</td>\n",
       "      <td>Санкт-Петербург</td>\n",
       "      <td>8.0</td>\n",
       "      <td>418</td>\n",
       "      <td>68870.523416</td>\n",
       "      <td>5</td>\n",
       "      <td>12</td>\n",
       "      <td>2017</td>\n",
       "      <td>другой</td>\n",
       "      <td>0.611570</td>\n",
       "      <td>0.045730</td>\n",
       "    </tr>\n",
       "    <tr>\n",
       "      <th>5358</th>\n",
       "      <td>20</td>\n",
       "      <td>65</td>\n",
       "      <td>590.0</td>\n",
       "      <td>2019-02-14</td>\n",
       "      <td>15</td>\n",
       "      <td>3.50</td>\n",
       "      <td>6</td>\n",
       "      <td>409.0</td>\n",
       "      <td>3</td>\n",
       "      <td>False</td>\n",
       "      <td>...</td>\n",
       "      <td>Санкт-Петербург</td>\n",
       "      <td>5.0</td>\n",
       "      <td>14</td>\n",
       "      <td>110169.491525</td>\n",
       "      <td>3</td>\n",
       "      <td>2</td>\n",
       "      <td>2019</td>\n",
       "      <td>другой</td>\n",
       "      <td>0.693220</td>\n",
       "      <td>0.169492</td>\n",
       "    </tr>\n",
       "    <tr>\n",
       "      <th>9688</th>\n",
       "      <td>8</td>\n",
       "      <td>33</td>\n",
       "      <td>194.1</td>\n",
       "      <td>2017-02-07</td>\n",
       "      <td>11</td>\n",
       "      <td>3.43</td>\n",
       "      <td>5</td>\n",
       "      <td>129.0</td>\n",
       "      <td>2</td>\n",
       "      <td>False</td>\n",
       "      <td>...</td>\n",
       "      <td>Санкт-Петербург</td>\n",
       "      <td>1.0</td>\n",
       "      <td>813</td>\n",
       "      <td>170015.455951</td>\n",
       "      <td>1</td>\n",
       "      <td>2</td>\n",
       "      <td>2017</td>\n",
       "      <td>другой</td>\n",
       "      <td>0.664606</td>\n",
       "      <td>0.061309</td>\n",
       "    </tr>\n",
       "    <tr>\n",
       "      <th>14498</th>\n",
       "      <td>6</td>\n",
       "      <td>32</td>\n",
       "      <td>374.6</td>\n",
       "      <td>2018-06-09</td>\n",
       "      <td>19</td>\n",
       "      <td>2.50</td>\n",
       "      <td>5</td>\n",
       "      <td>264.5</td>\n",
       "      <td>2</td>\n",
       "      <td>False</td>\n",
       "      <td>...</td>\n",
       "      <td>Санкт-Петербург</td>\n",
       "      <td>4.0</td>\n",
       "      <td>114</td>\n",
       "      <td>85424.452750</td>\n",
       "      <td>5</td>\n",
       "      <td>6</td>\n",
       "      <td>2018</td>\n",
       "      <td>другой</td>\n",
       "      <td>0.706086</td>\n",
       "      <td>0.073679</td>\n",
       "    </tr>\n",
       "    <tr>\n",
       "      <th>18848</th>\n",
       "      <td>6</td>\n",
       "      <td>28</td>\n",
       "      <td>270.0</td>\n",
       "      <td>2015-03-02</td>\n",
       "      <td>16</td>\n",
       "      <td>3.00</td>\n",
       "      <td>4</td>\n",
       "      <td>180.0</td>\n",
       "      <td>4</td>\n",
       "      <td>False</td>\n",
       "      <td>...</td>\n",
       "      <td>Санкт-Петербург</td>\n",
       "      <td>4.0</td>\n",
       "      <td>1365</td>\n",
       "      <td>103703.703704</td>\n",
       "      <td>0</td>\n",
       "      <td>3</td>\n",
       "      <td>2015</td>\n",
       "      <td>последний</td>\n",
       "      <td>0.666667</td>\n",
       "      <td>0.048148</td>\n",
       "    </tr>\n",
       "    <tr>\n",
       "      <th>19540</th>\n",
       "      <td>8</td>\n",
       "      <td>420</td>\n",
       "      <td>900.0</td>\n",
       "      <td>2017-12-06</td>\n",
       "      <td>12</td>\n",
       "      <td>2.80</td>\n",
       "      <td>25</td>\n",
       "      <td>409.7</td>\n",
       "      <td>25</td>\n",
       "      <td>False</td>\n",
       "      <td>...</td>\n",
       "      <td>Санкт-Петербург</td>\n",
       "      <td>8.0</td>\n",
       "      <td>106</td>\n",
       "      <td>466666.666667</td>\n",
       "      <td>2</td>\n",
       "      <td>12</td>\n",
       "      <td>2017</td>\n",
       "      <td>последний</td>\n",
       "      <td>0.455222</td>\n",
       "      <td>0.124444</td>\n",
       "    </tr>\n",
       "    <tr>\n",
       "      <th>20829</th>\n",
       "      <td>6</td>\n",
       "      <td>28</td>\n",
       "      <td>245.4</td>\n",
       "      <td>2016-03-31</td>\n",
       "      <td>14</td>\n",
       "      <td>3.20</td>\n",
       "      <td>4</td>\n",
       "      <td>168.3</td>\n",
       "      <td>2</td>\n",
       "      <td>False</td>\n",
       "      <td>...</td>\n",
       "      <td>Санкт-Петербург</td>\n",
       "      <td>2.0</td>\n",
       "      <td>95</td>\n",
       "      <td>114099.429503</td>\n",
       "      <td>3</td>\n",
       "      <td>3</td>\n",
       "      <td>2016</td>\n",
       "      <td>другой</td>\n",
       "      <td>0.685819</td>\n",
       "      <td>0.105542</td>\n",
       "    </tr>\n",
       "  </tbody>\n",
       "</table>\n",
       "<p>8 rows × 24 columns</p>\n",
       "</div>"
      ],
      "text/plain": [
       "       total_images  last_price  total_area first_day_exposition  rooms  \\\n",
       "648               3          17       183.7           2018-07-01     11   \n",
       "866               5          25       363.0           2017-12-23     14   \n",
       "5358             20          65       590.0           2019-02-14     15   \n",
       "9688              8          33       194.1           2017-02-07     11   \n",
       "14498             6          32       374.6           2018-06-09     19   \n",
       "18848             6          28       270.0           2015-03-02     16   \n",
       "19540             8         420       900.0           2017-12-06     12   \n",
       "20829             6          28       245.4           2016-03-31     14   \n",
       "\n",
       "       ceiling_height  floors_total  living_area  floor  is_apartment  ...  \\\n",
       "648              3.40             7        138.8      7         False  ...   \n",
       "866              3.16             5        222.0      4         False  ...   \n",
       "5358             3.50             6        409.0      3         False  ...   \n",
       "9688             3.43             5        129.0      2         False  ...   \n",
       "14498            2.50             5        264.5      2         False  ...   \n",
       "18848            3.00             4        180.0      4         False  ...   \n",
       "19540            2.80            25        409.7     25         False  ...   \n",
       "20829            3.20             4        168.3      2         False  ...   \n",
       "\n",
       "         locality_name  cityCenters_nearest  days_exposition  \\\n",
       "648    Санкт-Петербург                  3.0               96   \n",
       "866    Санкт-Петербург                  8.0              418   \n",
       "5358   Санкт-Петербург                  5.0               14   \n",
       "9688   Санкт-Петербург                  1.0              813   \n",
       "14498  Санкт-Петербург                  4.0              114   \n",
       "18848  Санкт-Петербург                  4.0             1365   \n",
       "19540  Санкт-Петербург                  8.0              106   \n",
       "20829  Санкт-Петербург                  2.0               95   \n",
       "\n",
       "       price_per_square_meter week_day  month  year  floor_type  \\\n",
       "648              92542.188351        6      7  2018   последний   \n",
       "866              68870.523416        5     12  2017      другой   \n",
       "5358            110169.491525        3      2  2019      другой   \n",
       "9688            170015.455951        1      2  2017      другой   \n",
       "14498            85424.452750        5      6  2018      другой   \n",
       "18848           103703.703704        0      3  2015   последний   \n",
       "19540           466666.666667        2     12  2017   последний   \n",
       "20829           114099.429503        3      3  2016      другой   \n",
       "\n",
       "       living_to_total  kitchen_to_total  \n",
       "648           0.755580          0.072401  \n",
       "866           0.611570          0.045730  \n",
       "5358          0.693220          0.169492  \n",
       "9688          0.664606          0.061309  \n",
       "14498         0.706086          0.073679  \n",
       "18848         0.666667          0.048148  \n",
       "19540         0.455222          0.124444  \n",
       "20829         0.685819          0.105542  \n",
       "\n",
       "[8 rows x 24 columns]"
      ]
     },
     "execution_count": 41,
     "metadata": {},
     "output_type": "execute_result"
    }
   ],
   "source": [
    "data[data['rooms']>10]"
   ]
  },
  {
   "cell_type": "markdown",
   "metadata": {},
   "source": [
    "Вообще, я могу предположить, что в квартире может быть и 10 комнат, а больше уже трудно представить) Но таких значений всё равно немного, поэтому решила оставить как есть"
   ]
  },
  {
   "cell_type": "code",
   "execution_count": 42,
   "metadata": {},
   "outputs": [
    {
     "data": {
      "text/plain": [
       "Text(0, 0.5, 'Средняя цена')"
      ]
     },
     "execution_count": 42,
     "metadata": {},
     "output_type": "execute_result"
    },
    {
     "data": {
      "image/png": "[encoded data removed]",
      "text/plain": [
       "<Figure size 1080x504 with 1 Axes>"
      ]
     },
     "metadata": {
      "needs_background": "light"
     },
     "output_type": "display_data"
    }
   ],
   "source": [
    "data.pivot_table(index='total_area', values='last_price', aggfunc='mean').plot(style='o--', grid=True, figsize=(15, 7))\n",
    "\n",
    "plt.title('Зависимость цены от площади')\n",
    "plt.xlabel('Площадь, кв.м')\n",
    "plt.ylabel('Средняя цена')"
   ]
  },
  {
   "cell_type": "markdown",
   "metadata": {},
   "source": [
    "### Средняя цена квадратного метра\n",
    "Выберите 10 населённых пунктов с наибольшим числом объявлений. Посчитайте среднюю цену квадратного метра в этих населённых пунктах. Выделите населённые пункты с самой высокой и низкой стоимостью жилья."
   ]
  },
  {
   "cell_type": "code",
   "execution_count": 43,
   "metadata": {},
   "outputs": [
    {
     "data": {
      "text/html": [
       "<div>\n",
       "<style scoped>\n",
       "    .dataframe tbody tr th:only-of-type {\n",
       "        vertical-align: middle;\n",
       "    }\n",
       "\n",
       "    .dataframe tbody tr th {\n",
       "        vertical-align: top;\n",
       "    }\n",
       "\n",
       "    .dataframe thead tr th {\n",
       "        text-align: left;\n",
       "    }\n",
       "</style>\n",
       "<table border=\"1\" class=\"dataframe\">\n",
       "  <thead>\n",
       "    <tr>\n",
       "      <th></th>\n",
       "      <th>index</th>\n",
       "      <th>locality_name</th>\n",
       "      <th>count</th>\n",
       "      <th>mean</th>\n",
       "    </tr>\n",
       "    <tr>\n",
       "      <th></th>\n",
       "      <th></th>\n",
       "      <th></th>\n",
       "      <th>price_per_square_meter</th>\n",
       "      <th>price_per_square_meter</th>\n",
       "    </tr>\n",
       "  </thead>\n",
       "  <tbody>\n",
       "    <tr>\n",
       "      <th>0</th>\n",
       "      <td>33</td>\n",
       "      <td>Санкт-Петербург</td>\n",
       "      <td>15632</td>\n",
       "      <td>105466.200210</td>\n",
       "    </tr>\n",
       "    <tr>\n",
       "      <th>1</th>\n",
       "      <td>296</td>\n",
       "      <td>посёлок Шушары</td>\n",
       "      <td>439</td>\n",
       "      <td>68624.353908</td>\n",
       "    </tr>\n",
       "    <tr>\n",
       "      <th>2</th>\n",
       "      <td>263</td>\n",
       "      <td>посёлок Мурино</td>\n",
       "      <td>392</td>\n",
       "      <td>73039.593289</td>\n",
       "    </tr>\n",
       "    <tr>\n",
       "      <th>3</th>\n",
       "      <td>32</td>\n",
       "      <td>Пушкин</td>\n",
       "      <td>368</td>\n",
       "      <td>93962.815866</td>\n",
       "    </tr>\n",
       "    <tr>\n",
       "      <th>4</th>\n",
       "      <td>13</td>\n",
       "      <td>Колпино</td>\n",
       "      <td>337</td>\n",
       "      <td>65229.783037</td>\n",
       "    </tr>\n",
       "    <tr>\n",
       "      <th>5</th>\n",
       "      <td>267</td>\n",
       "      <td>посёлок Парголово</td>\n",
       "      <td>327</td>\n",
       "      <td>79097.535963</td>\n",
       "    </tr>\n",
       "    <tr>\n",
       "      <th>6</th>\n",
       "      <td>3</td>\n",
       "      <td>Всеволожск</td>\n",
       "      <td>293</td>\n",
       "      <td>57819.038838</td>\n",
       "    </tr>\n",
       "    <tr>\n",
       "      <th>7</th>\n",
       "      <td>6</td>\n",
       "      <td>Гатчина</td>\n",
       "      <td>245</td>\n",
       "      <td>57655.709805</td>\n",
       "    </tr>\n",
       "    <tr>\n",
       "      <th>8</th>\n",
       "      <td>86</td>\n",
       "      <td>деревня Кудрово</td>\n",
       "      <td>217</td>\n",
       "      <td>80036.880158</td>\n",
       "    </tr>\n",
       "    <tr>\n",
       "      <th>9</th>\n",
       "      <td>27</td>\n",
       "      <td>Петергоф</td>\n",
       "      <td>201</td>\n",
       "      <td>74294.531529</td>\n",
       "    </tr>\n",
       "  </tbody>\n",
       "</table>\n",
       "</div>"
      ],
      "text/plain": [
       "  index      locality_name                  count                   mean\n",
       "                           price_per_square_meter price_per_square_meter\n",
       "0    33    Санкт-Петербург                  15632          105466.200210\n",
       "1   296     посёлок Шушары                    439           68624.353908\n",
       "2   263     посёлок Мурино                    392           73039.593289\n",
       "3    32             Пушкин                    368           93962.815866\n",
       "4    13            Колпино                    337           65229.783037\n",
       "5   267  посёлок Парголово                    327           79097.535963\n",
       "6     3         Всеволожск                    293           57819.038838\n",
       "7     6            Гатчина                    245           57655.709805\n",
       "8    86    деревня Кудрово                    217           80036.880158\n",
       "9    27           Петергоф                    201           74294.531529"
      ]
     },
     "metadata": {},
     "output_type": "display_data"
    },
    {
     "data": {
      "text/plain": [
       "<AxesSubplot:xlabel='locality_name', ylabel=\"('mean', 'price_per_square_meter')\">"
      ]
     },
     "execution_count": 43,
     "metadata": {},
     "output_type": "execute_result"
    },
    {
     "data": {
      "image/png": "[encoded data removed]",
      "text/plain": [
       "<Figure size 432x288 with 1 Axes>"
      ]
     },
     "metadata": {
      "needs_background": "light"
     },
     "output_type": "display_data"
    }
   ],
   "source": [
    "df_rating = data.pivot_table(index='locality_name', values='price_per_square_meter', aggfunc=['count', 'mean'])\n",
    "df_rating = df_rating.reset_index()\n",
    "df_rating.columns\n",
    "rating_table = df_rating.sort_values(by=('count', 'price_per_square_meter'), ascending=False).head(10).reset_index()\n",
    "display(rating_table)\n",
    "rating_table.columns\n",
    "pic = sns.barplot(data=rating_table, x='locality_name', y= ('mean', 'price_per_square_meter'))\n",
    "for item in pic.get_xticklabels():\n",
    "    item.set_rotation(90)\n",
    "pic    "
   ]
  },
  {
   "cell_type": "markdown",
   "metadata": {},
   "source": [
    "Самая высокая стоимость жилья в Санкт-Петербурге и Пушкине, самая низкая - в Выборге."
   ]
  },
  {
   "cell_type": "markdown",
   "metadata": {},
   "source": [
    "### Анализ изменения цены по степени удалённости от центра"
   ]
  },
  {
   "cell_type": "markdown",
   "metadata": {},
   "source": [
    "Изучите предложения квартир: для каждой квартиры есть информация о расстоянии до центра. Выделите квартиры в Санкт-Петербурге (locality_name). Ваша задача — выяснить, какая область входит в центр. Создайте столбец с расстоянием до центра в километрах: округлите до целых значений. После этого посчитайте среднюю цену для каждого километра. Постройте график: он должен показывать, как цена зависит от удалённости от центра. Определите границу, где график сильно меняется, — это и будет центральная зона.\n",
    "Выделите сегмент квартир в центре. Проанализируйте эту территорию и изучите следующие параметры: площадь, цена, число комнат, высота потолков. Также выделите факторы, которые влияют на стоимость квартиры (число комнат, этаж, удалённость от центра, дата размещения объявления). Сделайте выводы. Отличаются ли они от общих выводов по всей базе?"
   ]
  },
  {
   "cell_type": "code",
   "execution_count": 44,
   "metadata": {},
   "outputs": [],
   "source": [
    "spb = data[data['locality_name'] =='Санкт-Петербург'].reset_index()\n",
    "spb['cityCenters_nearest'] = round(spb['cityCenters_nearest'])"
   ]
  },
  {
   "cell_type": "code",
   "execution_count": 45,
   "metadata": {},
   "outputs": [
    {
     "data": {
      "image/png": "[encoded data removed]",
      "text/plain": [
       "<Figure size 1080x504 with 1 Axes>"
      ]
     },
     "metadata": {
      "needs_background": "light"
     },
     "output_type": "display_data"
    }
   ],
   "source": [
    "spb.pivot_table(index='cityCenters_nearest', values='last_price', aggfunc='mean').plot(grid=True, figsize=(15, 7))\n",
    "\n",
    "plt.title('Зависимость цены от расстояния до центра')\n",
    "plt.xlabel('Расстояние, (км)')\n",
    "plt.ylabel('Средняя цена')\n",
    "\n",
    "None #убирает лишнюю строку над графиком"
   ]
  },
  {
   "cell_type": "markdown",
   "metadata": {},
   "source": [
    "Центр заканчивается примерно на расстоянии 8-10 км"
   ]
  },
  {
   "cell_type": "code",
   "execution_count": 46,
   "metadata": {},
   "outputs": [
    {
     "data": {
      "text/plain": [
       "(0.0, 500.0)"
      ]
     },
     "execution_count": 46,
     "metadata": {},
     "output_type": "execute_result"
    },
    {
     "data": {
      "image/png": "[encoded data removed]",
      "text/plain": [
       "<Figure size 432x288 with 1 Axes>"
      ]
     },
     "metadata": {
      "needs_background": "light"
     },
     "output_type": "display_data"
    }
   ],
   "source": [
    "spb_centre = spb[spb['cityCenters_nearest']<10].reset_index()\n",
    "spb_centre['total_area'].hist(bins=50).set_xlim([0, 500]) "
   ]
  },
  {
   "cell_type": "code",
   "execution_count": 47,
   "metadata": {},
   "outputs": [
    {
     "data": {
      "text/plain": [
       "(0.0, 200.0)"
      ]
     },
     "execution_count": 47,
     "metadata": {},
     "output_type": "execute_result"
    },
    {
     "data": {
      "image/png": "[encoded data removed]",
      "text/plain": [
       "<Figure size 432x288 with 1 Axes>"
      ]
     },
     "metadata": {
      "needs_background": "light"
     },
     "output_type": "display_data"
    }
   ],
   "source": [
    "spb_centre['last_price'].hist(bins=50).set_xlim([0, 200])"
   ]
  },
  {
   "cell_type": "code",
   "execution_count": 48,
   "metadata": {},
   "outputs": [
    {
     "data": {
      "text/plain": [
       "<AxesSubplot:>"
      ]
     },
     "execution_count": 48,
     "metadata": {},
     "output_type": "execute_result"
    },
    {
     "data": {
      "image/png": "[encoded data removed]",
      "text/plain": [
       "<Figure size 432x288 with 1 Axes>"
      ]
     },
     "metadata": {
      "needs_background": "light"
     },
     "output_type": "display_data"
    }
   ],
   "source": [
    "spb_centre['rooms'].hist(bins=10)"
   ]
  },
  {
   "cell_type": "code",
   "execution_count": 49,
   "metadata": {},
   "outputs": [
    {
     "data": {
      "text/plain": [
       "(0.0, 10.0)"
      ]
     },
     "execution_count": 49,
     "metadata": {},
     "output_type": "execute_result"
    },
    {
     "data": {
      "image/png": "[encoded data removed]",
      "text/plain": [
       "<Figure size 432x288 with 1 Axes>"
      ]
     },
     "metadata": {
      "needs_background": "light"
     },
     "output_type": "display_data"
    }
   ],
   "source": [
    "spb_centre['ceiling_height'].hist(bins=50).set_xlim([0, 10])"
   ]
  },
  {
   "cell_type": "code",
   "execution_count": 50,
   "metadata": {},
   "outputs": [
    {
     "data": {
      "text/plain": [
       "Text(0, 0.5, 'Средняя цена')"
      ]
     },
     "execution_count": 50,
     "metadata": {},
     "output_type": "execute_result"
    },
    {
     "data": {
      "image/png": "[encoded data removed]",
      "text/plain": [
       "<Figure size 1080x504 with 1 Axes>"
      ]
     },
     "metadata": {
      "needs_background": "light"
     },
     "output_type": "display_data"
    }
   ],
   "source": [
    "spb_centre.pivot_table(index='rooms', values='last_price', aggfunc='mean').plot(style='o--', grid=True, figsize=(15, 7))\n",
    "\n",
    "plt.title('Зависимость цены от количества комнат')\n",
    "plt.xlabel('Число комнат')\n",
    "plt.ylabel('Средняя цена')"
   ]
  },
  {
   "cell_type": "code",
   "execution_count": 51,
   "metadata": {},
   "outputs": [
    {
     "data": {
      "text/plain": [
       "Text(0, 0.5, 'Средняя цена')"
      ]
     },
     "execution_count": 51,
     "metadata": {},
     "output_type": "execute_result"
    },
    {
     "data": {
      "image/png": "[encoded data removed]",
      "text/plain": [
       "<Figure size 1080x504 with 1 Axes>"
      ]
     },
     "metadata": {
      "needs_background": "light"
     },
     "output_type": "display_data"
    }
   ],
   "source": [
    "spb_centre.pivot_table(index='floor_type', values='last_price', aggfunc='mean').plot(style='o--', grid=True, figsize=(15, 7))\n",
    "\n",
    "plt.title('Зависимость цены от этажа')\n",
    "plt.xlabel('Этаж')\n",
    "plt.ylabel('Средняя цена')"
   ]
  },
  {
   "cell_type": "code",
   "execution_count": 52,
   "metadata": {},
   "outputs": [
    {
     "data": {
      "text/plain": [
       "Text(0, 0.5, 'Средняя цена')"
      ]
     },
     "execution_count": 52,
     "metadata": {},
     "output_type": "execute_result"
    },
    {
     "data": {
      "image/png": "[encoded data removed]",
      "text/plain": [
       "<Figure size 1080x504 with 1 Axes>"
      ]
     },
     "metadata": {
      "needs_background": "light"
     },
     "output_type": "display_data"
    }
   ],
   "source": [
    "spb_centre.pivot_table(index='cityCenters_nearest', values='last_price', aggfunc='mean').plot(style='o--', grid=True, figsize=(15, 7))\n",
    "\n",
    "plt.title('Зависимость цены от удалённости от центра')\n",
    "plt.xlabel('Расстояние до центра, км')\n",
    "plt.ylabel('Средняя цена')"
   ]
  },
  {
   "cell_type": "code",
   "execution_count": 53,
   "metadata": {},
   "outputs": [
    {
     "data": {
      "text/plain": [
       "Text(0, 0.5, 'Средняя цена')"
      ]
     },
     "execution_count": 53,
     "metadata": {},
     "output_type": "execute_result"
    },
    {
     "data": {
      "image/png": "[encoded data removed]",
      "text/plain": [
       "<Figure size 1080x504 with 1 Axes>"
      ]
     },
     "metadata": {
      "needs_background": "light"
     },
     "output_type": "display_data"
    }
   ],
   "source": [
    "spb_centre.pivot_table(index='year', values='last_price', aggfunc='mean').plot(style='o--', grid=True, figsize=(15, 7))\n",
    "\n",
    "plt.title('Зависимость цены от года')\n",
    "plt.xlabel('Год')\n",
    "plt.ylabel('Средняя цена')"
   ]
  },
  {
   "cell_type": "code",
   "execution_count": 54,
   "metadata": {},
   "outputs": [
    {
     "data": {
      "text/plain": [
       "Text(0, 0.5, 'Средняя цена')"
      ]
     },
     "execution_count": 54,
     "metadata": {},
     "output_type": "execute_result"
    },
    {
     "data": {
      "image/png": "[encoded data removed]",
      "text/plain": [
       "<Figure size 1080x504 with 1 Axes>"
      ]
     },
     "metadata": {
      "needs_background": "light"
     },
     "output_type": "display_data"
    }
   ],
   "source": [
    "spb_centre.pivot_table(index='month', values='last_price', aggfunc='mean').plot(style='o--', grid=True, figsize=(15, 7))\n",
    "\n",
    "plt.title('Зависимость цены от месяца')\n",
    "plt.xlabel('Месяц')\n",
    "plt.ylabel('Средняя цена')"
   ]
  },
  {
   "cell_type": "code",
   "execution_count": 55,
   "metadata": {},
   "outputs": [
    {
     "data": {
      "text/plain": [
       "Text(0, 0.5, 'Средняя цена')"
      ]
     },
     "execution_count": 55,
     "metadata": {},
     "output_type": "execute_result"
    },
    {
     "data": {
      "image/png": "[encoded data removed]",
      "text/plain": [
       "<Figure size 1080x504 with 1 Axes>"
      ]
     },
     "metadata": {
      "needs_background": "light"
     },
     "output_type": "display_data"
    }
   ],
   "source": [
    "spb_centre.pivot_table(index='week_day', values='last_price', aggfunc='mean').plot(style='o--', grid=True, figsize=(15, 7))\n",
    "\n",
    "plt.title('Зависимость цены от дня недели')\n",
    "plt.xlabel('День')\n",
    "plt.ylabel('Средняя цена')"
   ]
  },
  {
   "cell_type": "markdown",
   "metadata": {},
   "source": [
    "### Вывод\n",
    "Выводы незначительно отличаются от выводов по всему датасету, с поправкой на то, что средняя цена выше. Зависимость от расстояния до центра примерно такая же, цена уменьшается с увеличением расстояния и есть небольшой пик в районе 6 км от центра"
   ]
  },
  {
   "cell_type": "markdown",
   "metadata": {},
   "source": [
    "## Общий вывод"
   ]
  },
  {
   "cell_type": "markdown",
   "metadata": {},
   "source": [
    "Самая большая корреляция наблюдается между ценой и площадью квартиры, а также ценой и расстоянием до центра. Завимсимость цены от дня недели и месяца не такая значительная, если смотреть на зависимость от года, можно предположить, что в 2014 случилось падение рынка недвижимости. Есть также зависимость между числом и ценой комнат, если отбросить 11-комнатную кввартиру с аномально высокой ценой (больше 400 млн), то останется просто прямая корреляция. Закономерности по сегменту квартир в центре Петербурга в целом такие же, как и по всему датасету, только, если рассматривать зависимость цены от расстояния до центра, второе пиковое значение находится немного ближе к центру"
   ]
  }
 ],
 "metadata": {
  "ExecuteTimeLog": [
   {
    "duration": 69,
    "start_time": "2022-05-11T15:13:23.171Z"
   },
   {
    "duration": 606,
    "start_time": "2022-05-11T15:13:29.264Z"
   },
   {
    "duration": 14,
    "start_time": "2022-05-11T15:13:31.343Z"
   },
   {
    "duration": 18,
    "start_time": "2022-05-11T15:14:35.466Z"
   },
   {
    "duration": 144,
    "start_time": "2022-05-11T15:26:16.418Z"
   },
   {
    "duration": 9,
    "start_time": "2022-05-11T15:26:18.770Z"
   },
   {
    "duration": 9,
    "start_time": "2022-05-11T15:26:21.259Z"
   },
   {
    "duration": 87,
    "start_time": "2022-05-11T15:27:04.791Z"
   },
   {
    "duration": 7,
    "start_time": "2022-05-11T15:27:06.137Z"
   },
   {
    "duration": 90,
    "start_time": "2022-05-11T15:27:27.498Z"
   },
   {
    "duration": 7,
    "start_time": "2022-05-11T15:27:29.814Z"
   },
   {
    "duration": 18,
    "start_time": "2022-05-11T15:27:35.586Z"
   },
   {
    "duration": 536,
    "start_time": "2022-05-11T15:28:04.733Z"
   },
   {
    "duration": 15,
    "start_time": "2022-05-11T15:28:05.271Z"
   },
   {
    "duration": 21,
    "start_time": "2022-05-11T15:28:05.288Z"
   },
   {
    "duration": 648,
    "start_time": "2022-05-11T15:39:48.923Z"
   },
   {
    "duration": 24,
    "start_time": "2022-05-11T15:39:49.575Z"
   },
   {
    "duration": 35,
    "start_time": "2022-05-11T15:39:49.602Z"
   },
   {
    "duration": 964,
    "start_time": "2022-05-11T15:51:54.656Z"
   },
   {
    "duration": 20,
    "start_time": "2022-05-11T15:51:55.624Z"
   },
   {
    "duration": 45,
    "start_time": "2022-05-11T15:51:55.648Z"
   },
   {
    "duration": 713,
    "start_time": "2022-05-11T15:53:37.787Z"
   },
   {
    "duration": 18,
    "start_time": "2022-05-11T15:53:38.504Z"
   },
   {
    "duration": 51,
    "start_time": "2022-05-11T15:53:38.525Z"
   },
   {
    "duration": 62,
    "start_time": "2022-05-11T16:00:12.464Z"
   },
   {
    "duration": 9,
    "start_time": "2022-05-11T16:06:55.131Z"
   },
   {
    "duration": 17,
    "start_time": "2022-05-11T16:18:34.703Z"
   },
   {
    "duration": 16,
    "start_time": "2022-05-11T16:19:00.532Z"
   },
   {
    "duration": 36,
    "start_time": "2022-05-11T16:19:06.869Z"
   },
   {
    "duration": 22,
    "start_time": "2022-05-11T16:19:44.978Z"
   },
   {
    "duration": 94,
    "start_time": "2022-05-11T16:20:15.858Z"
   },
   {
    "duration": 24,
    "start_time": "2022-05-11T16:21:48.234Z"
   },
   {
    "duration": 14,
    "start_time": "2022-05-11T16:22:35.305Z"
   },
   {
    "duration": 779,
    "start_time": "2022-05-11T16:26:36.897Z"
   },
   {
    "duration": 15,
    "start_time": "2022-05-11T16:26:37.679Z"
   },
   {
    "duration": 26,
    "start_time": "2022-05-11T16:26:37.696Z"
   },
   {
    "duration": 37,
    "start_time": "2022-05-11T16:26:37.724Z"
   },
   {
    "duration": 157,
    "start_time": "2022-05-11T16:26:37.764Z"
   },
   {
    "duration": 0,
    "start_time": "2022-05-11T16:26:37.923Z"
   },
   {
    "duration": 0,
    "start_time": "2022-05-11T16:26:37.925Z"
   },
   {
    "duration": 0,
    "start_time": "2022-05-11T16:26:37.926Z"
   },
   {
    "duration": 12,
    "start_time": "2022-05-11T16:27:19.646Z"
   },
   {
    "duration": 174,
    "start_time": "2022-05-11T16:27:29.758Z"
   },
   {
    "duration": 26,
    "start_time": "2022-05-11T16:27:33.951Z"
   },
   {
    "duration": 35,
    "start_time": "2022-05-11T16:27:37.468Z"
   },
   {
    "duration": 846,
    "start_time": "2022-05-11T16:32:38.724Z"
   },
   {
    "duration": 15,
    "start_time": "2022-05-11T16:32:39.573Z"
   },
   {
    "duration": 21,
    "start_time": "2022-05-11T16:32:39.594Z"
   },
   {
    "duration": 37,
    "start_time": "2022-05-11T16:32:39.618Z"
   },
   {
    "duration": 164,
    "start_time": "2022-05-11T16:32:39.657Z"
   },
   {
    "duration": 0,
    "start_time": "2022-05-11T16:32:39.823Z"
   },
   {
    "duration": 0,
    "start_time": "2022-05-11T16:32:39.825Z"
   },
   {
    "duration": 0,
    "start_time": "2022-05-11T16:32:39.826Z"
   },
   {
    "duration": 15,
    "start_time": "2022-05-11T17:10:35.808Z"
   },
   {
    "duration": 10,
    "start_time": "2022-05-11T17:11:36.458Z"
   },
   {
    "duration": 9,
    "start_time": "2022-05-11T17:11:55.629Z"
   },
   {
    "duration": 130,
    "start_time": "2022-05-11T17:28:32.510Z"
   },
   {
    "duration": 44,
    "start_time": "2022-05-11T17:29:02.050Z"
   },
   {
    "duration": 5,
    "start_time": "2022-05-11T17:33:41.111Z"
   },
   {
    "duration": 39,
    "start_time": "2022-05-11T17:33:52.332Z"
   },
   {
    "duration": 9,
    "start_time": "2022-05-11T17:36:06.256Z"
   },
   {
    "duration": 41,
    "start_time": "2022-05-11T17:42:03.131Z"
   },
   {
    "duration": 67,
    "start_time": "2022-05-11T17:43:31.546Z"
   },
   {
    "duration": 419,
    "start_time": "2022-05-11T17:45:02.728Z"
   },
   {
    "duration": 33,
    "start_time": "2022-05-11T17:59:05.710Z"
   },
   {
    "duration": 38,
    "start_time": "2022-05-11T17:59:32.264Z"
   },
   {
    "duration": 1697,
    "start_time": "2022-05-11T18:00:39.386Z"
   },
   {
    "duration": 893,
    "start_time": "2022-05-12T08:11:46.786Z"
   },
   {
    "duration": 8,
    "start_time": "2022-05-12T08:11:47.681Z"
   },
   {
    "duration": 15,
    "start_time": "2022-05-12T08:11:47.691Z"
   },
   {
    "duration": 24,
    "start_time": "2022-05-12T08:11:47.707Z"
   },
   {
    "duration": 44,
    "start_time": "2022-05-12T08:11:47.733Z"
   },
   {
    "duration": 8,
    "start_time": "2022-05-12T08:11:47.778Z"
   },
   {
    "duration": 12,
    "start_time": "2022-05-12T08:11:47.788Z"
   },
   {
    "duration": 6,
    "start_time": "2022-05-12T08:11:47.801Z"
   },
   {
    "duration": 9,
    "start_time": "2022-05-12T08:11:47.808Z"
   },
   {
    "duration": 116,
    "start_time": "2022-05-12T08:11:47.818Z"
   },
   {
    "duration": 0,
    "start_time": "2022-05-12T08:11:47.935Z"
   },
   {
    "duration": 0,
    "start_time": "2022-05-12T08:11:47.936Z"
   },
   {
    "duration": 65,
    "start_time": "2022-05-12T08:12:27.476Z"
   },
   {
    "duration": 13,
    "start_time": "2022-05-12T08:20:38.601Z"
   },
   {
    "duration": 3,
    "start_time": "2022-05-12T08:21:33.778Z"
   },
   {
    "duration": 39,
    "start_time": "2022-05-12T08:21:54.614Z"
   },
   {
    "duration": 336,
    "start_time": "2022-05-12T08:22:17.758Z"
   },
   {
    "duration": 303,
    "start_time": "2022-05-12T08:22:57.280Z"
   },
   {
    "duration": 522,
    "start_time": "2022-05-12T08:35:12.625Z"
   },
   {
    "duration": 165,
    "start_time": "2022-05-12T08:38:33.936Z"
   },
   {
    "duration": 120,
    "start_time": "2022-05-12T08:39:42.515Z"
   },
   {
    "duration": 119,
    "start_time": "2022-05-12T08:40:29.189Z"
   },
   {
    "duration": 14,
    "start_time": "2022-05-12T08:45:30.221Z"
   },
   {
    "duration": 14,
    "start_time": "2022-05-12T08:45:53.599Z"
   },
   {
    "duration": 19,
    "start_time": "2022-05-12T09:08:21.369Z"
   },
   {
    "duration": 41,
    "start_time": "2022-05-12T09:21:31.354Z"
   },
   {
    "duration": 141,
    "start_time": "2022-05-12T09:34:35.795Z"
   },
   {
    "duration": 159,
    "start_time": "2022-05-12T09:36:07.479Z"
   },
   {
    "duration": 180,
    "start_time": "2022-05-12T09:38:23.629Z"
   },
   {
    "duration": 172,
    "start_time": "2022-05-12T09:38:54.675Z"
   },
   {
    "duration": 186,
    "start_time": "2022-05-12T09:39:51.955Z"
   },
   {
    "duration": 184,
    "start_time": "2022-05-12T09:40:09.354Z"
   },
   {
    "duration": 216,
    "start_time": "2022-05-12T09:49:17.508Z"
   },
   {
    "duration": 8,
    "start_time": "2022-05-12T09:58:28.218Z"
   },
   {
    "duration": 8,
    "start_time": "2022-05-12T09:58:40.815Z"
   },
   {
    "duration": 13,
    "start_time": "2022-05-12T09:58:52.571Z"
   },
   {
    "duration": 6,
    "start_time": "2022-05-12T10:00:04.333Z"
   },
   {
    "duration": 6,
    "start_time": "2022-05-12T10:00:07.252Z"
   },
   {
    "duration": 12,
    "start_time": "2022-05-12T10:00:12.295Z"
   },
   {
    "duration": 18,
    "start_time": "2022-05-12T10:10:37.113Z"
   },
   {
    "duration": 39,
    "start_time": "2022-05-12T10:10:58.065Z"
   },
   {
    "duration": 646,
    "start_time": "2022-05-12T10:11:35.869Z"
   },
   {
    "duration": 10,
    "start_time": "2022-05-12T10:11:36.517Z"
   },
   {
    "duration": 16,
    "start_time": "2022-05-12T10:11:36.529Z"
   },
   {
    "duration": 37,
    "start_time": "2022-05-12T10:11:36.547Z"
   },
   {
    "duration": 16,
    "start_time": "2022-05-12T10:11:36.587Z"
   },
   {
    "duration": 13,
    "start_time": "2022-05-12T10:11:36.604Z"
   },
   {
    "duration": 107,
    "start_time": "2022-05-12T10:11:36.619Z"
   },
   {
    "duration": 0,
    "start_time": "2022-05-12T10:11:36.728Z"
   },
   {
    "duration": 0,
    "start_time": "2022-05-12T10:11:36.729Z"
   },
   {
    "duration": 0,
    "start_time": "2022-05-12T10:11:36.730Z"
   },
   {
    "duration": 0,
    "start_time": "2022-05-12T10:11:36.731Z"
   },
   {
    "duration": 0,
    "start_time": "2022-05-12T10:11:36.732Z"
   },
   {
    "duration": 0,
    "start_time": "2022-05-12T10:11:36.734Z"
   },
   {
    "duration": 0,
    "start_time": "2022-05-12T10:11:36.735Z"
   },
   {
    "duration": 0,
    "start_time": "2022-05-12T10:11:36.736Z"
   },
   {
    "duration": 0,
    "start_time": "2022-05-12T10:11:36.737Z"
   },
   {
    "duration": 0,
    "start_time": "2022-05-12T10:11:36.738Z"
   },
   {
    "duration": 0,
    "start_time": "2022-05-12T10:11:36.739Z"
   },
   {
    "duration": 8,
    "start_time": "2022-05-12T10:11:36.795Z"
   },
   {
    "duration": 29,
    "start_time": "2022-05-12T10:11:36.808Z"
   },
   {
    "duration": 18,
    "start_time": "2022-05-12T10:13:28.531Z"
   },
   {
    "duration": 14,
    "start_time": "2022-05-12T10:14:03.496Z"
   },
   {
    "duration": 30,
    "start_time": "2022-05-12T10:15:05.798Z"
   },
   {
    "duration": 408,
    "start_time": "2022-05-12T10:23:03.345Z"
   },
   {
    "duration": 124,
    "start_time": "2022-05-12T10:23:23.819Z"
   },
   {
    "duration": 129,
    "start_time": "2022-05-12T10:24:50.990Z"
   },
   {
    "duration": 141,
    "start_time": "2022-05-12T10:25:39.209Z"
   },
   {
    "duration": 132,
    "start_time": "2022-05-12T10:25:43.899Z"
   },
   {
    "duration": 208,
    "start_time": "2022-05-12T10:25:49.885Z"
   },
   {
    "duration": 141,
    "start_time": "2022-05-12T10:28:11.100Z"
   },
   {
    "duration": 305,
    "start_time": "2022-05-12T10:31:33.711Z"
   },
   {
    "duration": 131,
    "start_time": "2022-05-12T10:39:23.494Z"
   },
   {
    "duration": 166,
    "start_time": "2022-05-12T10:39:45.665Z"
   },
   {
    "duration": 30,
    "start_time": "2022-05-12T10:43:12.500Z"
   },
   {
    "duration": 3,
    "start_time": "2022-05-12T10:43:30.719Z"
   },
   {
    "duration": 28,
    "start_time": "2022-05-12T10:43:36.950Z"
   },
   {
    "duration": 14,
    "start_time": "2022-05-12T10:43:48.087Z"
   },
   {
    "duration": 31,
    "start_time": "2022-05-12T10:44:03.941Z"
   },
   {
    "duration": 30,
    "start_time": "2022-05-12T10:44:19.997Z"
   },
   {
    "duration": 45,
    "start_time": "2022-05-12T10:45:06.413Z"
   },
   {
    "duration": 13,
    "start_time": "2022-05-12T10:46:25.636Z"
   },
   {
    "duration": 33,
    "start_time": "2022-05-12T10:46:37.255Z"
   },
   {
    "duration": 33,
    "start_time": "2022-05-12T10:47:06.227Z"
   },
   {
    "duration": 27,
    "start_time": "2022-05-12T10:47:46.111Z"
   },
   {
    "duration": 28,
    "start_time": "2022-05-12T10:48:03.934Z"
   },
   {
    "duration": 22,
    "start_time": "2022-05-12T10:50:16.273Z"
   },
   {
    "duration": 129,
    "start_time": "2022-05-12T10:51:26.096Z"
   },
   {
    "duration": 126,
    "start_time": "2022-05-12T10:52:52.023Z"
   },
   {
    "duration": 131,
    "start_time": "2022-05-12T11:46:25.753Z"
   },
   {
    "duration": 151,
    "start_time": "2022-05-12T11:46:56.880Z"
   },
   {
    "duration": 422,
    "start_time": "2022-05-12T12:12:29.329Z"
   },
   {
    "duration": 100,
    "start_time": "2022-05-12T19:19:40.152Z"
   },
   {
    "duration": 1125,
    "start_time": "2022-05-12T19:19:55.853Z"
   },
   {
    "duration": 41,
    "start_time": "2022-05-12T19:19:56.984Z"
   },
   {
    "duration": 84,
    "start_time": "2022-05-12T19:19:57.028Z"
   },
   {
    "duration": 85,
    "start_time": "2022-05-12T19:19:57.115Z"
   },
   {
    "duration": 90,
    "start_time": "2022-05-12T19:19:57.205Z"
   },
   {
    "duration": 27,
    "start_time": "2022-05-12T19:19:57.306Z"
   },
   {
    "duration": 93,
    "start_time": "2022-05-12T19:19:57.343Z"
   },
   {
    "duration": 21,
    "start_time": "2022-05-12T19:19:57.439Z"
   },
   {
    "duration": 26,
    "start_time": "2022-05-12T19:19:57.461Z"
   },
   {
    "duration": 52,
    "start_time": "2022-05-12T19:19:57.496Z"
   },
   {
    "duration": 35,
    "start_time": "2022-05-12T19:19:57.550Z"
   },
   {
    "duration": 93,
    "start_time": "2022-05-12T19:19:57.587Z"
   },
   {
    "duration": 54,
    "start_time": "2022-05-12T19:19:57.682Z"
   },
   {
    "duration": 680,
    "start_time": "2022-05-12T19:19:57.739Z"
   },
   {
    "duration": 1092,
    "start_time": "2022-05-12T19:19:58.421Z"
   },
   {
    "duration": 384,
    "start_time": "2022-05-12T19:19:59.521Z"
   },
   {
    "duration": 278,
    "start_time": "2022-05-12T19:19:59.908Z"
   },
   {
    "duration": 327,
    "start_time": "2022-05-12T19:20:00.189Z"
   },
   {
    "duration": 458,
    "start_time": "2022-05-12T19:20:00.524Z"
   },
   {
    "duration": 264,
    "start_time": "2022-05-12T19:20:00.984Z"
   },
   {
    "duration": 228,
    "start_time": "2022-05-12T19:20:01.254Z"
   },
   {
    "duration": 271,
    "start_time": "2022-05-12T19:20:01.485Z"
   },
   {
    "duration": 370,
    "start_time": "2022-05-12T19:20:01.761Z"
   },
   {
    "duration": 249,
    "start_time": "2022-05-12T19:20:02.133Z"
   },
   {
    "duration": 291,
    "start_time": "2022-05-12T19:20:02.385Z"
   },
   {
    "duration": 234,
    "start_time": "2022-05-12T19:20:02.678Z"
   },
   {
    "duration": 12,
    "start_time": "2022-05-12T19:20:02.915Z"
   },
   {
    "duration": 332,
    "start_time": "2022-05-12T19:20:02.932Z"
   },
   {
    "duration": 114,
    "start_time": "2022-05-12T19:35:51.571Z"
   },
   {
    "duration": 30,
    "start_time": "2022-05-12T19:37:00.788Z"
   },
   {
    "duration": 38,
    "start_time": "2022-05-12T19:37:09.715Z"
   },
   {
    "duration": 2139,
    "start_time": "2022-05-12T19:37:44.040Z"
   },
   {
    "duration": 31,
    "start_time": "2022-05-12T19:38:42.118Z"
   },
   {
    "duration": 38,
    "start_time": "2022-05-12T19:39:10.611Z"
   },
   {
    "duration": 50,
    "start_time": "2022-05-12T19:39:58.458Z"
   },
   {
    "duration": 2651,
    "start_time": "2022-05-12T19:40:09.637Z"
   },
   {
    "duration": 2094,
    "start_time": "2022-05-12T19:40:46.161Z"
   },
   {
    "duration": 41,
    "start_time": "2022-05-12T19:44:25.418Z"
   },
   {
    "duration": 42,
    "start_time": "2022-05-12T19:44:34.563Z"
   },
   {
    "duration": 26,
    "start_time": "2022-05-12T19:45:25.544Z"
   },
   {
    "duration": 45,
    "start_time": "2022-05-12T19:45:41.237Z"
   },
   {
    "duration": 22,
    "start_time": "2022-05-12T19:46:22.451Z"
   },
   {
    "duration": 34,
    "start_time": "2022-05-12T19:46:31.827Z"
   },
   {
    "duration": 54,
    "start_time": "2022-05-12T19:48:14.215Z"
   },
   {
    "duration": 27,
    "start_time": "2022-05-12T19:48:21.551Z"
   },
   {
    "duration": 46,
    "start_time": "2022-05-12T19:48:35.678Z"
   },
   {
    "duration": 47,
    "start_time": "2022-05-12T19:49:35.307Z"
   },
   {
    "duration": 40,
    "start_time": "2022-05-12T19:50:08.315Z"
   },
   {
    "duration": 66,
    "start_time": "2022-05-12T19:50:39.485Z"
   },
   {
    "duration": 46,
    "start_time": "2022-05-12T19:51:09.635Z"
   },
   {
    "duration": 75,
    "start_time": "2022-05-12T19:51:13.171Z"
   },
   {
    "duration": 63,
    "start_time": "2022-05-12T19:51:23.383Z"
   },
   {
    "duration": 91,
    "start_time": "2022-05-12T19:51:26.891Z"
   },
   {
    "duration": 37,
    "start_time": "2022-05-12T19:52:17.578Z"
   },
   {
    "duration": 26,
    "start_time": "2022-05-12T19:54:14.736Z"
   },
   {
    "duration": 40,
    "start_time": "2022-05-12T19:54:38.480Z"
   },
   {
    "duration": 122,
    "start_time": "2022-05-12T19:56:34.941Z"
   },
   {
    "duration": 40,
    "start_time": "2022-05-12T19:59:52.688Z"
   },
   {
    "duration": 17,
    "start_time": "2022-05-12T20:00:34.916Z"
   },
   {
    "duration": 25,
    "start_time": "2022-05-12T20:00:43.212Z"
   },
   {
    "duration": 21,
    "start_time": "2022-05-12T20:01:21.099Z"
   },
   {
    "duration": 40,
    "start_time": "2022-05-12T20:04:00.615Z"
   },
   {
    "duration": 31,
    "start_time": "2022-05-12T20:04:29.631Z"
   },
   {
    "duration": 713,
    "start_time": "2022-05-12T20:05:30.355Z"
   },
   {
    "duration": 42,
    "start_time": "2022-05-12T20:05:40.375Z"
   },
   {
    "duration": 727,
    "start_time": "2022-05-12T20:06:15.312Z"
   },
   {
    "duration": 35,
    "start_time": "2022-05-12T20:06:58.065Z"
   },
   {
    "duration": 31,
    "start_time": "2022-05-12T20:07:05.959Z"
   },
   {
    "duration": 37,
    "start_time": "2022-05-12T20:08:58.945Z"
   },
   {
    "duration": 112,
    "start_time": "2022-05-12T20:09:06.445Z"
   },
   {
    "duration": 118,
    "start_time": "2022-05-12T20:09:09.941Z"
   },
   {
    "duration": 626,
    "start_time": "2022-05-12T20:11:30.194Z"
   },
   {
    "duration": 540,
    "start_time": "2022-05-12T20:12:08.312Z"
   },
   {
    "duration": 34,
    "start_time": "2022-05-12T20:13:05.179Z"
   },
   {
    "duration": 93,
    "start_time": "2022-05-12T20:14:53.486Z"
   },
   {
    "duration": 4690,
    "start_time": "2022-05-12T20:15:06.247Z"
   },
   {
    "duration": 9,
    "start_time": "2022-05-12T20:15:27.483Z"
   },
   {
    "duration": 2735,
    "start_time": "2022-05-12T20:15:32.027Z"
   },
   {
    "duration": 3221,
    "start_time": "2022-05-12T20:15:47.755Z"
   },
   {
    "duration": 2848,
    "start_time": "2022-05-12T20:15:53.107Z"
   },
   {
    "duration": 12568,
    "start_time": "2022-05-12T20:16:43.205Z"
   },
   {
    "duration": 9653,
    "start_time": "2022-05-12T20:17:11.455Z"
   },
   {
    "duration": 5248,
    "start_time": "2022-05-12T20:17:55.024Z"
   },
   {
    "duration": 1048,
    "start_time": "2022-05-12T20:18:29.761Z"
   },
   {
    "duration": 12,
    "start_time": "2022-05-12T20:18:30.812Z"
   },
   {
    "duration": 38,
    "start_time": "2022-05-12T20:18:30.826Z"
   },
   {
    "duration": 52,
    "start_time": "2022-05-12T20:18:30.867Z"
   },
   {
    "duration": 19,
    "start_time": "2022-05-12T20:18:30.921Z"
   },
   {
    "duration": 17,
    "start_time": "2022-05-12T20:18:30.942Z"
   },
   {
    "duration": 2715,
    "start_time": "2022-05-12T20:18:30.961Z"
   },
   {
    "duration": 17,
    "start_time": "2022-05-12T20:18:33.678Z"
   },
   {
    "duration": 24,
    "start_time": "2022-05-12T20:18:33.697Z"
   },
   {
    "duration": 7,
    "start_time": "2022-05-12T20:18:33.725Z"
   },
   {
    "duration": 10,
    "start_time": "2022-05-12T20:18:33.734Z"
   },
   {
    "duration": 13,
    "start_time": "2022-05-12T20:18:33.745Z"
   },
   {
    "duration": 37,
    "start_time": "2022-05-12T20:18:33.760Z"
   },
   {
    "duration": 400,
    "start_time": "2022-05-12T20:18:33.799Z"
   },
   {
    "duration": 468,
    "start_time": "2022-05-12T20:18:34.201Z"
   },
   {
    "duration": 213,
    "start_time": "2022-05-12T20:18:34.671Z"
   },
   {
    "duration": 165,
    "start_time": "2022-05-12T20:18:34.888Z"
   },
   {
    "duration": 292,
    "start_time": "2022-05-12T20:18:35.055Z"
   },
   {
    "duration": 343,
    "start_time": "2022-05-12T20:18:35.350Z"
   },
   {
    "duration": 214,
    "start_time": "2022-05-12T20:18:35.700Z"
   },
   {
    "duration": 175,
    "start_time": "2022-05-12T20:18:35.916Z"
   },
   {
    "duration": 184,
    "start_time": "2022-05-12T20:18:36.093Z"
   },
   {
    "duration": 314,
    "start_time": "2022-05-12T20:18:36.280Z"
   },
   {
    "duration": 235,
    "start_time": "2022-05-12T20:18:36.596Z"
   },
   {
    "duration": 238,
    "start_time": "2022-05-12T20:18:36.833Z"
   },
   {
    "duration": 183,
    "start_time": "2022-05-12T20:18:37.073Z"
   },
   {
    "duration": 10,
    "start_time": "2022-05-12T20:18:37.258Z"
   },
   {
    "duration": 176,
    "start_time": "2022-05-12T20:18:37.272Z"
   },
   {
    "duration": 12150,
    "start_time": "2022-05-12T20:19:42.180Z"
   },
   {
    "duration": 6868,
    "start_time": "2022-05-12T20:20:30.216Z"
   },
   {
    "duration": 2012,
    "start_time": "2022-05-12T20:21:52.513Z"
   },
   {
    "duration": 1477,
    "start_time": "2022-05-12T20:21:55.866Z"
   },
   {
    "duration": 4697,
    "start_time": "2022-05-12T20:23:12.399Z"
   },
   {
    "duration": 52,
    "start_time": "2022-05-12T20:23:24.239Z"
   },
   {
    "duration": 1596,
    "start_time": "2022-05-12T20:26:14.272Z"
   },
   {
    "duration": 1440,
    "start_time": "2022-05-12T20:26:36.135Z"
   },
   {
    "duration": 146,
    "start_time": "2022-05-12T20:28:03.232Z"
   },
   {
    "duration": 2095,
    "start_time": "2022-05-12T20:28:12.551Z"
   },
   {
    "duration": 42,
    "start_time": "2022-05-12T20:28:33.373Z"
   },
   {
    "duration": 37,
    "start_time": "2022-05-12T20:28:49.030Z"
   },
   {
    "duration": 42,
    "start_time": "2022-05-12T20:29:20.083Z"
   },
   {
    "duration": 8987,
    "start_time": "2022-05-12T20:29:48.690Z"
   },
   {
    "duration": 37,
    "start_time": "2022-05-12T20:30:48.544Z"
   },
   {
    "duration": 31,
    "start_time": "2022-05-12T20:31:16.219Z"
   },
   {
    "duration": 31,
    "start_time": "2022-05-12T20:31:32.929Z"
   },
   {
    "duration": 2735,
    "start_time": "2022-05-12T20:32:47.842Z"
   },
   {
    "duration": 24,
    "start_time": "2022-05-12T20:33:11.847Z"
   },
   {
    "duration": 28,
    "start_time": "2022-05-12T20:36:20.307Z"
   },
   {
    "duration": 16,
    "start_time": "2022-05-12T20:36:29.739Z"
   },
   {
    "duration": 1731,
    "start_time": "2022-05-12T20:36:47.629Z"
   },
   {
    "duration": 7635,
    "start_time": "2022-05-12T20:37:07.333Z"
   },
   {
    "duration": 855,
    "start_time": "2022-05-12T20:37:51.470Z"
   },
   {
    "duration": 10,
    "start_time": "2022-05-12T20:37:52.327Z"
   },
   {
    "duration": 19,
    "start_time": "2022-05-12T20:37:52.338Z"
   },
   {
    "duration": 40,
    "start_time": "2022-05-12T20:37:52.359Z"
   },
   {
    "duration": 23,
    "start_time": "2022-05-12T20:37:52.403Z"
   },
   {
    "duration": 18,
    "start_time": "2022-05-12T20:37:52.429Z"
   },
   {
    "duration": 5,
    "start_time": "2022-05-12T20:37:52.449Z"
   },
   {
    "duration": 17,
    "start_time": "2022-05-12T20:37:52.456Z"
   },
   {
    "duration": 6851,
    "start_time": "2022-05-12T20:37:52.474Z"
   },
   {
    "duration": 9,
    "start_time": "2022-05-12T20:37:59.329Z"
   },
   {
    "duration": 15,
    "start_time": "2022-05-12T20:37:59.339Z"
   },
   {
    "duration": 13,
    "start_time": "2022-05-12T20:37:59.355Z"
   },
   {
    "duration": 18,
    "start_time": "2022-05-12T20:37:59.369Z"
   },
   {
    "duration": 48,
    "start_time": "2022-05-12T20:37:59.388Z"
   },
   {
    "duration": 22,
    "start_time": "2022-05-12T20:37:59.438Z"
   },
   {
    "duration": 421,
    "start_time": "2022-05-12T20:37:59.462Z"
   },
   {
    "duration": 489,
    "start_time": "2022-05-12T20:37:59.885Z"
   },
   {
    "duration": 214,
    "start_time": "2022-05-12T20:38:00.376Z"
   },
   {
    "duration": 156,
    "start_time": "2022-05-12T20:38:00.594Z"
   },
   {
    "duration": 199,
    "start_time": "2022-05-12T20:38:00.752Z"
   },
   {
    "duration": 276,
    "start_time": "2022-05-12T20:38:00.952Z"
   },
   {
    "duration": 160,
    "start_time": "2022-05-12T20:38:01.230Z"
   },
   {
    "duration": 157,
    "start_time": "2022-05-12T20:38:01.398Z"
   },
   {
    "duration": 182,
    "start_time": "2022-05-12T20:38:01.557Z"
   },
   {
    "duration": 249,
    "start_time": "2022-05-12T20:38:01.741Z"
   },
   {
    "duration": 185,
    "start_time": "2022-05-12T20:38:01.993Z"
   },
   {
    "duration": 178,
    "start_time": "2022-05-12T20:38:02.180Z"
   },
   {
    "duration": 169,
    "start_time": "2022-05-12T20:38:02.362Z"
   },
   {
    "duration": 9,
    "start_time": "2022-05-12T20:38:02.533Z"
   },
   {
    "duration": 185,
    "start_time": "2022-05-12T20:38:02.544Z"
   },
   {
    "duration": 223,
    "start_time": "2022-05-12T20:39:34.524Z"
   },
   {
    "duration": 362,
    "start_time": "2022-05-12T20:39:45.851Z"
   },
   {
    "duration": 23,
    "start_time": "2022-05-12T20:39:49.581Z"
   },
   {
    "duration": 80,
    "start_time": "2022-05-12T20:42:12.640Z"
   },
   {
    "duration": 9,
    "start_time": "2022-05-12T20:42:53.124Z"
   },
   {
    "duration": 14,
    "start_time": "2022-05-12T20:43:29.820Z"
   },
   {
    "duration": 15,
    "start_time": "2022-05-12T20:43:41.069Z"
   },
   {
    "duration": 12,
    "start_time": "2022-05-12T20:43:59.649Z"
   },
   {
    "duration": 28,
    "start_time": "2022-05-12T21:09:36.864Z"
   },
   {
    "duration": 35,
    "start_time": "2022-05-12T21:09:51.547Z"
   },
   {
    "duration": 72,
    "start_time": "2022-05-12T21:12:11.613Z"
   },
   {
    "duration": 72,
    "start_time": "2022-05-12T21:14:10.338Z"
   },
   {
    "duration": 72,
    "start_time": "2022-05-12T21:15:28.913Z"
   },
   {
    "duration": 96,
    "start_time": "2022-05-12T21:16:11.198Z"
   },
   {
    "duration": 46,
    "start_time": "2022-05-12T21:16:51.014Z"
   },
   {
    "duration": 55,
    "start_time": "2022-05-12T21:17:42.374Z"
   },
   {
    "duration": 46,
    "start_time": "2022-05-12T21:17:55.835Z"
   },
   {
    "duration": 51,
    "start_time": "2022-05-12T21:19:46.141Z"
   },
   {
    "duration": 89,
    "start_time": "2022-05-13T08:23:23.013Z"
   },
   {
    "duration": 907,
    "start_time": "2022-05-13T08:23:34.188Z"
   },
   {
    "duration": 16,
    "start_time": "2022-05-13T08:23:35.098Z"
   },
   {
    "duration": 32,
    "start_time": "2022-05-13T08:23:35.117Z"
   },
   {
    "duration": 55,
    "start_time": "2022-05-13T08:23:35.153Z"
   },
   {
    "duration": 39,
    "start_time": "2022-05-13T08:23:35.211Z"
   },
   {
    "duration": 35,
    "start_time": "2022-05-13T08:23:35.253Z"
   },
   {
    "duration": 7,
    "start_time": "2022-05-13T08:23:35.290Z"
   },
   {
    "duration": 38,
    "start_time": "2022-05-13T08:23:35.299Z"
   },
   {
    "duration": 89,
    "start_time": "2022-05-13T08:23:35.339Z"
   },
   {
    "duration": 19,
    "start_time": "2022-05-13T08:23:35.433Z"
   },
   {
    "duration": 33,
    "start_time": "2022-05-13T08:23:35.455Z"
   },
   {
    "duration": 10,
    "start_time": "2022-05-13T08:23:35.490Z"
   },
   {
    "duration": 29,
    "start_time": "2022-05-13T08:23:35.502Z"
   },
   {
    "duration": 37,
    "start_time": "2022-05-13T08:23:35.534Z"
   },
   {
    "duration": 27,
    "start_time": "2022-05-13T08:23:35.573Z"
   },
   {
    "duration": 693,
    "start_time": "2022-05-13T08:23:35.602Z"
   },
   {
    "duration": 1073,
    "start_time": "2022-05-13T08:23:36.297Z"
   },
   {
    "duration": 329,
    "start_time": "2022-05-13T08:23:37.373Z"
   },
   {
    "duration": 272,
    "start_time": "2022-05-13T08:23:37.704Z"
   },
   {
    "duration": 333,
    "start_time": "2022-05-13T08:23:37.978Z"
   },
   {
    "duration": 451,
    "start_time": "2022-05-13T08:23:38.313Z"
   },
   {
    "duration": 254,
    "start_time": "2022-05-13T08:23:38.767Z"
   },
   {
    "duration": 265,
    "start_time": "2022-05-13T08:23:39.023Z"
   },
   {
    "duration": 295,
    "start_time": "2022-05-13T08:23:39.291Z"
   },
   {
    "duration": 389,
    "start_time": "2022-05-13T08:23:39.588Z"
   },
   {
    "duration": 286,
    "start_time": "2022-05-13T08:23:39.979Z"
   },
   {
    "duration": 287,
    "start_time": "2022-05-13T08:23:40.268Z"
   },
   {
    "duration": 367,
    "start_time": "2022-05-13T08:23:40.562Z"
   },
   {
    "duration": 24,
    "start_time": "2022-05-13T08:23:40.934Z"
   },
   {
    "duration": 302,
    "start_time": "2022-05-13T08:23:40.962Z"
   },
   {
    "duration": 9,
    "start_time": "2022-05-13T08:24:16.780Z"
   },
   {
    "duration": 26,
    "start_time": "2022-05-13T08:24:43.253Z"
   },
   {
    "duration": 26,
    "start_time": "2022-05-13T08:26:28.708Z"
   },
   {
    "duration": 24,
    "start_time": "2022-05-13T08:26:53.845Z"
   },
   {
    "duration": 164,
    "start_time": "2022-05-13T08:41:37.272Z"
   },
   {
    "duration": 192,
    "start_time": "2022-05-13T08:42:02.709Z"
   },
   {
    "duration": 129,
    "start_time": "2022-05-13T08:42:14.468Z"
   },
   {
    "duration": 2338,
    "start_time": "2022-05-13T08:43:01.324Z"
   },
   {
    "duration": 51,
    "start_time": "2022-05-13T10:52:46.960Z"
   },
   {
    "duration": 757,
    "start_time": "2022-05-13T10:53:03.110Z"
   },
   {
    "duration": 11,
    "start_time": "2022-05-13T10:53:03.869Z"
   },
   {
    "duration": 35,
    "start_time": "2022-05-13T10:53:03.882Z"
   },
   {
    "duration": 37,
    "start_time": "2022-05-13T10:53:03.919Z"
   },
   {
    "duration": 14,
    "start_time": "2022-05-13T10:53:03.957Z"
   },
   {
    "duration": 42,
    "start_time": "2022-05-13T10:53:03.973Z"
   },
   {
    "duration": 0,
    "start_time": "2022-05-13T10:53:04.022Z"
   },
   {
    "duration": 0,
    "start_time": "2022-05-13T10:53:04.023Z"
   },
   {
    "duration": 0,
    "start_time": "2022-05-13T10:53:04.025Z"
   },
   {
    "duration": 0,
    "start_time": "2022-05-13T10:53:04.026Z"
   },
   {
    "duration": 0,
    "start_time": "2022-05-13T10:53:04.027Z"
   },
   {
    "duration": 0,
    "start_time": "2022-05-13T10:53:04.028Z"
   },
   {
    "duration": 0,
    "start_time": "2022-05-13T10:53:04.029Z"
   },
   {
    "duration": 0,
    "start_time": "2022-05-13T10:53:04.030Z"
   },
   {
    "duration": 0,
    "start_time": "2022-05-13T10:53:04.031Z"
   },
   {
    "duration": 0,
    "start_time": "2022-05-13T10:53:04.033Z"
   },
   {
    "duration": 0,
    "start_time": "2022-05-13T10:53:04.033Z"
   },
   {
    "duration": 0,
    "start_time": "2022-05-13T10:53:04.034Z"
   },
   {
    "duration": 0,
    "start_time": "2022-05-13T10:53:04.035Z"
   },
   {
    "duration": 0,
    "start_time": "2022-05-13T10:53:04.036Z"
   },
   {
    "duration": 0,
    "start_time": "2022-05-13T10:53:04.038Z"
   },
   {
    "duration": 0,
    "start_time": "2022-05-13T10:53:04.038Z"
   },
   {
    "duration": 0,
    "start_time": "2022-05-13T10:53:04.039Z"
   },
   {
    "duration": 0,
    "start_time": "2022-05-13T10:53:04.040Z"
   },
   {
    "duration": 0,
    "start_time": "2022-05-13T10:53:04.041Z"
   },
   {
    "duration": 0,
    "start_time": "2022-05-13T10:53:04.042Z"
   },
   {
    "duration": 0,
    "start_time": "2022-05-13T10:53:04.043Z"
   },
   {
    "duration": 0,
    "start_time": "2022-05-13T10:53:04.044Z"
   },
   {
    "duration": 0,
    "start_time": "2022-05-13T10:53:04.045Z"
   },
   {
    "duration": 0,
    "start_time": "2022-05-13T10:53:04.046Z"
   },
   {
    "duration": 8,
    "start_time": "2022-05-13T10:54:48.156Z"
   },
   {
    "duration": 17,
    "start_time": "2022-05-13T10:54:53.570Z"
   },
   {
    "duration": 16,
    "start_time": "2022-05-13T10:54:57.439Z"
   },
   {
    "duration": 17,
    "start_time": "2022-05-13T10:56:23.037Z"
   },
   {
    "duration": 15,
    "start_time": "2022-05-13T10:58:22.907Z"
   },
   {
    "duration": 684,
    "start_time": "2022-05-13T10:58:54.977Z"
   },
   {
    "duration": 11,
    "start_time": "2022-05-13T10:58:55.663Z"
   },
   {
    "duration": 24,
    "start_time": "2022-05-13T10:58:55.676Z"
   },
   {
    "duration": 30,
    "start_time": "2022-05-13T10:58:55.702Z"
   },
   {
    "duration": 13,
    "start_time": "2022-05-13T10:58:55.734Z"
   },
   {
    "duration": 7,
    "start_time": "2022-05-13T10:58:55.748Z"
   },
   {
    "duration": 95,
    "start_time": "2022-05-13T10:58:55.757Z"
   },
   {
    "duration": 0,
    "start_time": "2022-05-13T10:58:55.854Z"
   },
   {
    "duration": 0,
    "start_time": "2022-05-13T10:58:55.855Z"
   },
   {
    "duration": 0,
    "start_time": "2022-05-13T10:58:55.856Z"
   },
   {
    "duration": 0,
    "start_time": "2022-05-13T10:58:55.857Z"
   },
   {
    "duration": 0,
    "start_time": "2022-05-13T10:58:55.858Z"
   },
   {
    "duration": 0,
    "start_time": "2022-05-13T10:58:55.859Z"
   },
   {
    "duration": 0,
    "start_time": "2022-05-13T10:58:55.859Z"
   },
   {
    "duration": 0,
    "start_time": "2022-05-13T10:58:55.861Z"
   },
   {
    "duration": 0,
    "start_time": "2022-05-13T10:58:55.862Z"
   },
   {
    "duration": 0,
    "start_time": "2022-05-13T10:58:55.863Z"
   },
   {
    "duration": 0,
    "start_time": "2022-05-13T10:58:55.864Z"
   },
   {
    "duration": 0,
    "start_time": "2022-05-13T10:58:55.865Z"
   },
   {
    "duration": 0,
    "start_time": "2022-05-13T10:58:55.865Z"
   },
   {
    "duration": 0,
    "start_time": "2022-05-13T10:58:55.867Z"
   },
   {
    "duration": 0,
    "start_time": "2022-05-13T10:58:55.868Z"
   },
   {
    "duration": 0,
    "start_time": "2022-05-13T10:58:55.869Z"
   },
   {
    "duration": 0,
    "start_time": "2022-05-13T10:58:55.870Z"
   },
   {
    "duration": 0,
    "start_time": "2022-05-13T10:58:55.871Z"
   },
   {
    "duration": 0,
    "start_time": "2022-05-13T10:58:55.872Z"
   },
   {
    "duration": 0,
    "start_time": "2022-05-13T10:58:55.873Z"
   },
   {
    "duration": 0,
    "start_time": "2022-05-13T10:58:55.874Z"
   },
   {
    "duration": 0,
    "start_time": "2022-05-13T10:58:55.875Z"
   },
   {
    "duration": 0,
    "start_time": "2022-05-13T10:58:55.876Z"
   },
   {
    "duration": 0,
    "start_time": "2022-05-13T10:58:55.878Z"
   },
   {
    "duration": 5,
    "start_time": "2022-05-13T11:00:06.747Z"
   },
   {
    "duration": 28,
    "start_time": "2022-05-13T11:00:12.531Z"
   },
   {
    "duration": 17,
    "start_time": "2022-05-13T11:00:45.067Z"
   },
   {
    "duration": 162,
    "start_time": "2022-05-13T11:05:45.326Z"
   },
   {
    "duration": 5,
    "start_time": "2022-05-13T11:06:04.249Z"
   },
   {
    "duration": 174,
    "start_time": "2022-05-13T11:06:29.261Z"
   },
   {
    "duration": 16,
    "start_time": "2022-05-13T11:06:53.353Z"
   },
   {
    "duration": 5,
    "start_time": "2022-05-13T11:08:39.507Z"
   },
   {
    "duration": 20,
    "start_time": "2022-05-13T11:08:46.964Z"
   },
   {
    "duration": 32,
    "start_time": "2022-05-13T11:09:23.765Z"
   },
   {
    "duration": 47,
    "start_time": "2022-05-13T11:09:42.723Z"
   },
   {
    "duration": 20,
    "start_time": "2022-05-13T11:19:59.657Z"
   },
   {
    "duration": 8,
    "start_time": "2022-05-13T11:21:04.017Z"
   },
   {
    "duration": 6,
    "start_time": "2022-05-13T11:21:12.442Z"
   },
   {
    "duration": 7,
    "start_time": "2022-05-13T11:21:33.114Z"
   },
   {
    "duration": 6,
    "start_time": "2022-05-13T11:21:55.599Z"
   },
   {
    "duration": 241,
    "start_time": "2022-05-13T11:22:25.229Z"
   },
   {
    "duration": 44,
    "start_time": "2022-05-13T11:22:31.275Z"
   },
   {
    "duration": 6,
    "start_time": "2022-05-13T11:22:47.847Z"
   },
   {
    "duration": 4,
    "start_time": "2022-05-13T11:23:59.141Z"
   },
   {
    "duration": 10,
    "start_time": "2022-05-13T11:25:27.230Z"
   },
   {
    "duration": 9,
    "start_time": "2022-05-13T11:26:36.540Z"
   },
   {
    "duration": 722,
    "start_time": "2022-05-13T11:27:52.487Z"
   },
   {
    "duration": 11,
    "start_time": "2022-05-13T11:27:53.211Z"
   },
   {
    "duration": 18,
    "start_time": "2022-05-13T11:27:53.224Z"
   },
   {
    "duration": 26,
    "start_time": "2022-05-13T11:27:53.244Z"
   },
   {
    "duration": 16,
    "start_time": "2022-05-13T11:27:53.272Z"
   },
   {
    "duration": 39,
    "start_time": "2022-05-13T11:27:53.290Z"
   },
   {
    "duration": 127,
    "start_time": "2022-05-13T11:27:53.331Z"
   },
   {
    "duration": 0,
    "start_time": "2022-05-13T11:27:53.461Z"
   },
   {
    "duration": 0,
    "start_time": "2022-05-13T11:27:53.462Z"
   },
   {
    "duration": 0,
    "start_time": "2022-05-13T11:27:53.464Z"
   },
   {
    "duration": 0,
    "start_time": "2022-05-13T11:27:53.465Z"
   },
   {
    "duration": 0,
    "start_time": "2022-05-13T11:27:53.467Z"
   },
   {
    "duration": 0,
    "start_time": "2022-05-13T11:27:53.468Z"
   },
   {
    "duration": 0,
    "start_time": "2022-05-13T11:27:53.470Z"
   },
   {
    "duration": 0,
    "start_time": "2022-05-13T11:27:53.471Z"
   },
   {
    "duration": 0,
    "start_time": "2022-05-13T11:27:53.472Z"
   },
   {
    "duration": 0,
    "start_time": "2022-05-13T11:27:53.474Z"
   },
   {
    "duration": 0,
    "start_time": "2022-05-13T11:27:53.475Z"
   },
   {
    "duration": 0,
    "start_time": "2022-05-13T11:27:53.476Z"
   },
   {
    "duration": 0,
    "start_time": "2022-05-13T11:27:53.477Z"
   },
   {
    "duration": 0,
    "start_time": "2022-05-13T11:27:53.479Z"
   },
   {
    "duration": 0,
    "start_time": "2022-05-13T11:27:53.480Z"
   },
   {
    "duration": 0,
    "start_time": "2022-05-13T11:27:53.481Z"
   },
   {
    "duration": 0,
    "start_time": "2022-05-13T11:27:53.483Z"
   },
   {
    "duration": 0,
    "start_time": "2022-05-13T11:27:53.523Z"
   },
   {
    "duration": 0,
    "start_time": "2022-05-13T11:27:53.524Z"
   },
   {
    "duration": 0,
    "start_time": "2022-05-13T11:27:53.526Z"
   },
   {
    "duration": 0,
    "start_time": "2022-05-13T11:27:53.527Z"
   },
   {
    "duration": 0,
    "start_time": "2022-05-13T11:27:53.529Z"
   },
   {
    "duration": 0,
    "start_time": "2022-05-13T11:27:53.530Z"
   },
   {
    "duration": 0,
    "start_time": "2022-05-13T11:27:53.531Z"
   },
   {
    "duration": 0,
    "start_time": "2022-05-13T11:27:53.532Z"
   },
   {
    "duration": 9,
    "start_time": "2022-05-13T11:29:40.488Z"
   },
   {
    "duration": 147,
    "start_time": "2022-05-13T11:29:46.945Z"
   },
   {
    "duration": 13,
    "start_time": "2022-05-13T11:30:36.288Z"
   },
   {
    "duration": 7,
    "start_time": "2022-05-13T11:32:03.988Z"
   },
   {
    "duration": 7,
    "start_time": "2022-05-13T11:32:11.153Z"
   },
   {
    "duration": 5,
    "start_time": "2022-05-13T11:32:13.296Z"
   },
   {
    "duration": 9,
    "start_time": "2022-05-13T11:32:16.819Z"
   },
   {
    "duration": 201,
    "start_time": "2022-05-13T12:03:34.557Z"
   },
   {
    "duration": 18,
    "start_time": "2022-05-13T12:04:25.536Z"
   },
   {
    "duration": 70,
    "start_time": "2022-05-14T10:04:59.054Z"
   },
   {
    "duration": 629,
    "start_time": "2022-05-14T10:05:10.752Z"
   },
   {
    "duration": 9,
    "start_time": "2022-05-14T10:05:11.383Z"
   },
   {
    "duration": 16,
    "start_time": "2022-05-14T10:05:11.394Z"
   },
   {
    "duration": 22,
    "start_time": "2022-05-14T10:05:11.412Z"
   },
   {
    "duration": 12,
    "start_time": "2022-05-14T10:05:11.435Z"
   },
   {
    "duration": 27,
    "start_time": "2022-05-14T10:05:11.448Z"
   },
   {
    "duration": 71,
    "start_time": "2022-05-14T10:05:11.476Z"
   },
   {
    "duration": 0,
    "start_time": "2022-05-14T10:05:11.549Z"
   },
   {
    "duration": 0,
    "start_time": "2022-05-14T10:05:11.550Z"
   },
   {
    "duration": 0,
    "start_time": "2022-05-14T10:05:11.551Z"
   },
   {
    "duration": 0,
    "start_time": "2022-05-14T10:05:11.552Z"
   },
   {
    "duration": 0,
    "start_time": "2022-05-14T10:05:11.553Z"
   },
   {
    "duration": 0,
    "start_time": "2022-05-14T10:05:11.570Z"
   },
   {
    "duration": 0,
    "start_time": "2022-05-14T10:05:11.571Z"
   },
   {
    "duration": 0,
    "start_time": "2022-05-14T10:05:11.572Z"
   },
   {
    "duration": 0,
    "start_time": "2022-05-14T10:05:11.574Z"
   },
   {
    "duration": 0,
    "start_time": "2022-05-14T10:05:11.575Z"
   },
   {
    "duration": 0,
    "start_time": "2022-05-14T10:05:11.576Z"
   },
   {
    "duration": 0,
    "start_time": "2022-05-14T10:05:11.577Z"
   },
   {
    "duration": 0,
    "start_time": "2022-05-14T10:05:11.579Z"
   },
   {
    "duration": 0,
    "start_time": "2022-05-14T10:05:11.580Z"
   },
   {
    "duration": 0,
    "start_time": "2022-05-14T10:05:11.581Z"
   },
   {
    "duration": 0,
    "start_time": "2022-05-14T10:05:11.582Z"
   },
   {
    "duration": 0,
    "start_time": "2022-05-14T10:05:11.583Z"
   },
   {
    "duration": 0,
    "start_time": "2022-05-14T10:05:11.584Z"
   },
   {
    "duration": 0,
    "start_time": "2022-05-14T10:05:11.585Z"
   },
   {
    "duration": 0,
    "start_time": "2022-05-14T10:05:11.586Z"
   },
   {
    "duration": 0,
    "start_time": "2022-05-14T10:05:11.587Z"
   },
   {
    "duration": 0,
    "start_time": "2022-05-14T10:05:11.588Z"
   },
   {
    "duration": 0,
    "start_time": "2022-05-14T10:05:11.589Z"
   },
   {
    "duration": 0,
    "start_time": "2022-05-14T10:05:11.590Z"
   },
   {
    "duration": 0,
    "start_time": "2022-05-14T10:05:11.591Z"
   },
   {
    "duration": 0,
    "start_time": "2022-05-14T10:05:11.592Z"
   },
   {
    "duration": 589,
    "start_time": "2022-05-14T10:05:23.105Z"
   },
   {
    "duration": 186,
    "start_time": "2022-05-14T10:07:15.856Z"
   },
   {
    "duration": 24,
    "start_time": "2022-05-14T10:12:27.075Z"
   },
   {
    "duration": 343,
    "start_time": "2022-05-14T10:13:00.087Z"
   },
   {
    "duration": 2,
    "start_time": "2022-05-14T10:20:42.999Z"
   },
   {
    "duration": 24,
    "start_time": "2022-05-14T10:32:56.326Z"
   },
   {
    "duration": 4,
    "start_time": "2022-05-14T10:33:19.909Z"
   },
   {
    "duration": 9,
    "start_time": "2022-05-14T10:33:37.845Z"
   },
   {
    "duration": 40,
    "start_time": "2022-05-14T13:24:57.248Z"
   },
   {
    "duration": 9,
    "start_time": "2022-05-14T13:25:15.867Z"
   },
   {
    "duration": 85,
    "start_time": "2022-05-14T13:25:43.711Z"
   },
   {
    "duration": 6,
    "start_time": "2022-05-14T13:26:30.514Z"
   },
   {
    "duration": 199,
    "start_time": "2022-05-14T13:39:18.617Z"
   },
   {
    "duration": 107,
    "start_time": "2022-05-14T13:39:43.780Z"
   },
   {
    "duration": 18,
    "start_time": "2022-05-14T13:48:59.904Z"
   },
   {
    "duration": 18,
    "start_time": "2022-05-14T13:49:02.703Z"
   },
   {
    "duration": 24,
    "start_time": "2022-05-14T13:49:19.481Z"
   },
   {
    "duration": 26,
    "start_time": "2022-05-14T13:49:36.713Z"
   },
   {
    "duration": 39,
    "start_time": "2022-05-14T13:53:32.809Z"
   },
   {
    "duration": 24,
    "start_time": "2022-05-14T13:53:39.665Z"
   },
   {
    "duration": 23,
    "start_time": "2022-05-14T13:54:07.960Z"
   },
   {
    "duration": 26,
    "start_time": "2022-05-14T13:56:44.789Z"
   },
   {
    "duration": 28,
    "start_time": "2022-05-14T13:57:12.472Z"
   },
   {
    "duration": 32,
    "start_time": "2022-05-14T13:58:22.234Z"
   },
   {
    "duration": 29,
    "start_time": "2022-05-14T13:58:35.432Z"
   },
   {
    "duration": 28,
    "start_time": "2022-05-14T13:59:55.843Z"
   },
   {
    "duration": 25,
    "start_time": "2022-05-14T14:00:33.533Z"
   },
   {
    "duration": 25,
    "start_time": "2022-05-14T14:01:16.928Z"
   },
   {
    "duration": 25,
    "start_time": "2022-05-14T14:02:02.236Z"
   },
   {
    "duration": 23,
    "start_time": "2022-05-14T14:02:14.123Z"
   },
   {
    "duration": 25,
    "start_time": "2022-05-14T14:02:43.768Z"
   },
   {
    "duration": 24,
    "start_time": "2022-05-14T14:03:36.322Z"
   },
   {
    "duration": 30,
    "start_time": "2022-05-14T14:09:13.471Z"
   },
   {
    "duration": 32,
    "start_time": "2022-05-14T14:09:50.750Z"
   },
   {
    "duration": 33,
    "start_time": "2022-05-14T14:10:30.801Z"
   },
   {
    "duration": 8,
    "start_time": "2022-05-14T14:10:54.215Z"
   },
   {
    "duration": 85,
    "start_time": "2022-05-14T14:11:14.435Z"
   },
   {
    "duration": 34,
    "start_time": "2022-05-14T14:11:40.065Z"
   },
   {
    "duration": 23,
    "start_time": "2022-05-14T14:13:34.582Z"
   },
   {
    "duration": 30,
    "start_time": "2022-05-14T14:14:53.965Z"
   },
   {
    "duration": 161,
    "start_time": "2022-05-14T14:31:26.728Z"
   },
   {
    "duration": 1763,
    "start_time": "2022-05-14T14:38:05.457Z"
   },
   {
    "duration": 0,
    "start_time": "2022-05-14T14:38:09.606Z"
   },
   {
    "duration": 2120,
    "start_time": "2022-05-14T14:38:19.293Z"
   },
   {
    "duration": 192,
    "start_time": "2022-05-14T14:45:56.771Z"
   },
   {
    "duration": 155,
    "start_time": "2022-05-14T14:46:05.303Z"
   },
   {
    "duration": 141,
    "start_time": "2022-05-14T14:46:27.238Z"
   },
   {
    "duration": 1176,
    "start_time": "2022-05-14T14:47:30.451Z"
   },
   {
    "duration": 214,
    "start_time": "2022-05-14T14:47:41.914Z"
   },
   {
    "duration": 116,
    "start_time": "2022-05-14T14:49:00.466Z"
   },
   {
    "duration": 207,
    "start_time": "2022-05-14T14:49:40.157Z"
   },
   {
    "duration": 97,
    "start_time": "2022-05-14T14:50:36.326Z"
   },
   {
    "duration": 118,
    "start_time": "2022-05-14T14:50:44.177Z"
   },
   {
    "duration": 106,
    "start_time": "2022-05-14T14:51:31.674Z"
   },
   {
    "duration": 235,
    "start_time": "2022-05-14T14:51:43.649Z"
   },
   {
    "duration": 152,
    "start_time": "2022-05-14T14:51:50.280Z"
   },
   {
    "duration": 72,
    "start_time": "2022-05-15T12:14:45.165Z"
   },
   {
    "duration": 2078,
    "start_time": "2022-05-15T12:15:06.335Z"
   },
   {
    "duration": 12,
    "start_time": "2022-05-15T12:15:08.416Z"
   },
   {
    "duration": 25,
    "start_time": "2022-05-15T12:15:08.431Z"
   },
   {
    "duration": 67,
    "start_time": "2022-05-15T12:15:08.460Z"
   },
   {
    "duration": 5,
    "start_time": "2022-05-15T12:15:08.529Z"
   },
   {
    "duration": 46,
    "start_time": "2022-05-15T12:15:08.536Z"
   },
   {
    "duration": 110,
    "start_time": "2022-05-15T12:15:08.584Z"
   },
   {
    "duration": 21,
    "start_time": "2022-05-15T12:15:08.696Z"
   },
   {
    "duration": 10,
    "start_time": "2022-05-15T12:15:08.719Z"
   },
   {
    "duration": 185,
    "start_time": "2022-05-15T12:15:08.733Z"
   },
   {
    "duration": 0,
    "start_time": "2022-05-15T12:15:08.921Z"
   },
   {
    "duration": 0,
    "start_time": "2022-05-15T12:15:08.923Z"
   },
   {
    "duration": 0,
    "start_time": "2022-05-15T12:15:08.925Z"
   },
   {
    "duration": 0,
    "start_time": "2022-05-15T12:15:08.927Z"
   },
   {
    "duration": 0,
    "start_time": "2022-05-15T12:15:08.929Z"
   },
   {
    "duration": 0,
    "start_time": "2022-05-15T12:15:08.930Z"
   },
   {
    "duration": 0,
    "start_time": "2022-05-15T12:15:08.933Z"
   },
   {
    "duration": 0,
    "start_time": "2022-05-15T12:15:08.934Z"
   },
   {
    "duration": 0,
    "start_time": "2022-05-15T12:15:08.936Z"
   },
   {
    "duration": 0,
    "start_time": "2022-05-15T12:15:08.937Z"
   },
   {
    "duration": 0,
    "start_time": "2022-05-15T12:15:08.939Z"
   },
   {
    "duration": 0,
    "start_time": "2022-05-15T12:15:08.940Z"
   },
   {
    "duration": 0,
    "start_time": "2022-05-15T12:15:08.942Z"
   },
   {
    "duration": 0,
    "start_time": "2022-05-15T12:15:08.982Z"
   },
   {
    "duration": 0,
    "start_time": "2022-05-15T12:15:08.983Z"
   },
   {
    "duration": 0,
    "start_time": "2022-05-15T12:15:08.984Z"
   },
   {
    "duration": 0,
    "start_time": "2022-05-15T12:15:08.985Z"
   },
   {
    "duration": 0,
    "start_time": "2022-05-15T12:15:08.987Z"
   },
   {
    "duration": 0,
    "start_time": "2022-05-15T12:15:08.988Z"
   },
   {
    "duration": 0,
    "start_time": "2022-05-15T12:15:08.990Z"
   },
   {
    "duration": 0,
    "start_time": "2022-05-15T12:15:08.991Z"
   },
   {
    "duration": 0,
    "start_time": "2022-05-15T12:15:08.993Z"
   },
   {
    "duration": 0,
    "start_time": "2022-05-15T12:15:08.995Z"
   },
   {
    "duration": 0,
    "start_time": "2022-05-15T12:15:08.997Z"
   },
   {
    "duration": 0,
    "start_time": "2022-05-15T12:15:08.998Z"
   },
   {
    "duration": 0,
    "start_time": "2022-05-15T12:15:08.999Z"
   },
   {
    "duration": 0,
    "start_time": "2022-05-15T12:15:09.000Z"
   },
   {
    "duration": 0,
    "start_time": "2022-05-15T12:15:09.002Z"
   },
   {
    "duration": 286,
    "start_time": "2022-05-15T12:15:15.204Z"
   },
   {
    "duration": 3512,
    "start_time": "2022-05-15T12:16:24.932Z"
   },
   {
    "duration": 259,
    "start_time": "2022-05-15T12:17:20.699Z"
   },
   {
    "duration": 356,
    "start_time": "2022-05-15T12:17:24.274Z"
   },
   {
    "duration": 16,
    "start_time": "2022-05-15T12:19:45.401Z"
   },
   {
    "duration": 2246,
    "start_time": "2022-05-15T12:20:50.428Z"
   },
   {
    "duration": 36,
    "start_time": "2022-05-15T12:21:16.799Z"
   },
   {
    "duration": 616,
    "start_time": "2022-05-15T12:21:32.001Z"
   },
   {
    "duration": 39,
    "start_time": "2022-05-15T12:22:00.062Z"
   },
   {
    "duration": 30,
    "start_time": "2022-05-15T12:22:09.115Z"
   },
   {
    "duration": 32,
    "start_time": "2022-05-15T12:22:13.519Z"
   },
   {
    "duration": 27,
    "start_time": "2022-05-15T12:22:22.309Z"
   },
   {
    "duration": 39,
    "start_time": "2022-05-15T12:22:35.582Z"
   },
   {
    "duration": 40,
    "start_time": "2022-05-15T12:23:00.291Z"
   },
   {
    "duration": 42,
    "start_time": "2022-05-15T12:23:09.679Z"
   },
   {
    "duration": 27,
    "start_time": "2022-05-15T12:23:16.251Z"
   },
   {
    "duration": 38,
    "start_time": "2022-05-15T12:23:19.842Z"
   },
   {
    "duration": 42,
    "start_time": "2022-05-15T12:23:34.591Z"
   },
   {
    "duration": 52,
    "start_time": "2022-05-15T12:24:32.254Z"
   },
   {
    "duration": 41,
    "start_time": "2022-05-15T12:25:11.355Z"
   },
   {
    "duration": 50,
    "start_time": "2022-05-15T12:25:33.098Z"
   },
   {
    "duration": 34,
    "start_time": "2022-05-15T12:26:08.097Z"
   },
   {
    "duration": 34,
    "start_time": "2022-05-15T12:26:16.075Z"
   },
   {
    "duration": 53,
    "start_time": "2022-05-15T12:26:45.312Z"
   },
   {
    "duration": 48,
    "start_time": "2022-05-15T12:27:10.181Z"
   },
   {
    "duration": 31,
    "start_time": "2022-05-15T12:27:48.088Z"
   },
   {
    "duration": 39,
    "start_time": "2022-05-15T12:28:53.858Z"
   },
   {
    "duration": 40,
    "start_time": "2022-05-15T12:28:58.645Z"
   },
   {
    "duration": 44,
    "start_time": "2022-05-15T12:29:56.366Z"
   },
   {
    "duration": 145,
    "start_time": "2022-05-15T12:30:37.228Z"
   },
   {
    "duration": 5,
    "start_time": "2022-05-15T12:30:49.403Z"
   },
   {
    "duration": 5,
    "start_time": "2022-05-15T12:30:54.793Z"
   },
   {
    "duration": 131,
    "start_time": "2022-05-15T12:31:13.819Z"
   },
   {
    "duration": 128,
    "start_time": "2022-05-15T12:31:49.148Z"
   },
   {
    "duration": 6,
    "start_time": "2022-05-15T12:31:55.734Z"
   },
   {
    "duration": 5,
    "start_time": "2022-05-15T12:32:03.210Z"
   },
   {
    "duration": 5,
    "start_time": "2022-05-15T12:32:17.475Z"
   },
   {
    "duration": 5,
    "start_time": "2022-05-15T12:32:21.206Z"
   },
   {
    "duration": 79,
    "start_time": "2022-05-15T12:33:37.220Z"
   },
   {
    "duration": 30,
    "start_time": "2022-05-15T12:35:36.758Z"
   },
   {
    "duration": 56,
    "start_time": "2022-05-15T12:36:05.675Z"
   },
   {
    "duration": 62,
    "start_time": "2022-05-15T12:37:38.547Z"
   },
   {
    "duration": 53,
    "start_time": "2022-05-15T12:38:48.360Z"
   },
   {
    "duration": 51,
    "start_time": "2022-05-15T12:39:26.917Z"
   },
   {
    "duration": 59,
    "start_time": "2022-05-15T12:40:09.288Z"
   },
   {
    "duration": 98,
    "start_time": "2022-05-15T12:43:46.610Z"
   },
   {
    "duration": 46,
    "start_time": "2022-05-15T12:47:30.957Z"
   },
   {
    "duration": 49,
    "start_time": "2022-05-15T12:47:38.945Z"
   },
   {
    "duration": 27,
    "start_time": "2022-05-15T12:48:20.491Z"
   },
   {
    "duration": 33,
    "start_time": "2022-05-15T12:48:43.465Z"
   },
   {
    "duration": 35,
    "start_time": "2022-05-15T12:48:50.803Z"
   },
   {
    "duration": 31,
    "start_time": "2022-05-15T12:52:13.847Z"
   },
   {
    "duration": 44,
    "start_time": "2022-05-15T12:52:21.795Z"
   },
   {
    "duration": 35,
    "start_time": "2022-05-15T12:55:56.119Z"
   },
   {
    "duration": 50,
    "start_time": "2022-05-15T12:57:02.664Z"
   },
   {
    "duration": 48,
    "start_time": "2022-05-15T12:57:06.313Z"
   },
   {
    "duration": 79,
    "start_time": "2022-05-15T12:57:19.270Z"
   },
   {
    "duration": 91,
    "start_time": "2022-05-15T12:57:42.935Z"
   },
   {
    "duration": 106,
    "start_time": "2022-05-15T12:58:01.484Z"
   },
   {
    "duration": 139,
    "start_time": "2022-05-15T13:00:54.266Z"
   },
   {
    "duration": 308,
    "start_time": "2022-05-15T13:01:05.139Z"
   },
   {
    "duration": 416,
    "start_time": "2022-05-15T13:02:38.301Z"
   },
   {
    "duration": 382,
    "start_time": "2022-05-15T13:05:38.881Z"
   },
   {
    "duration": 340,
    "start_time": "2022-05-15T13:06:31.306Z"
   },
   {
    "duration": 292,
    "start_time": "2022-05-15T13:06:53.445Z"
   },
   {
    "duration": 53,
    "start_time": "2022-05-15T13:08:21.797Z"
   },
   {
    "duration": 61,
    "start_time": "2022-05-15T13:08:36.990Z"
   },
   {
    "duration": 287,
    "start_time": "2022-05-15T13:09:44.463Z"
   },
   {
    "duration": 429,
    "start_time": "2022-05-15T13:11:16.734Z"
   },
   {
    "duration": 0,
    "start_time": "2022-05-15T13:17:49.408Z"
   },
   {
    "duration": 2716,
    "start_time": "2022-05-15T13:17:51.746Z"
   },
   {
    "duration": 1502,
    "start_time": "2022-05-15T13:18:41.283Z"
   },
   {
    "duration": 211,
    "start_time": "2022-05-15T13:20:47.515Z"
   },
   {
    "duration": 227,
    "start_time": "2022-05-15T13:21:10.919Z"
   },
   {
    "duration": 132,
    "start_time": "2022-05-15T13:24:31.336Z"
   },
   {
    "duration": 2954,
    "start_time": "2022-05-15T13:24:48.944Z"
   },
   {
    "duration": 353,
    "start_time": "2022-05-15T13:26:29.407Z"
   },
   {
    "duration": 403,
    "start_time": "2022-05-15T13:26:40.760Z"
   },
   {
    "duration": 406,
    "start_time": "2022-05-15T13:26:54.279Z"
   },
   {
    "duration": 435,
    "start_time": "2022-05-15T13:27:22.553Z"
   },
   {
    "duration": 237,
    "start_time": "2022-05-15T13:27:30.382Z"
   },
   {
    "duration": 61,
    "start_time": "2022-05-15T13:28:32.986Z"
   },
   {
    "duration": 39,
    "start_time": "2022-05-15T13:28:59.169Z"
   },
   {
    "duration": 1618,
    "start_time": "2022-05-15T13:33:47.812Z"
   },
   {
    "duration": 3100,
    "start_time": "2022-05-15T13:34:03.637Z"
   },
   {
    "duration": 2588,
    "start_time": "2022-05-15T13:34:34.211Z"
   },
   {
    "duration": 3127,
    "start_time": "2022-05-15T13:34:57.749Z"
   },
   {
    "duration": 1628,
    "start_time": "2022-05-15T13:35:14.653Z"
   },
   {
    "duration": 2193,
    "start_time": "2022-05-15T13:36:54.476Z"
   },
   {
    "duration": 50,
    "start_time": "2022-05-15T18:38:27.704Z"
   },
   {
    "duration": 1690,
    "start_time": "2022-05-15T18:38:37.963Z"
   },
   {
    "duration": 9,
    "start_time": "2022-05-15T18:38:39.655Z"
   },
   {
    "duration": 63,
    "start_time": "2022-05-15T18:38:39.666Z"
   },
   {
    "duration": 99,
    "start_time": "2022-05-15T18:38:39.732Z"
   },
   {
    "duration": 4,
    "start_time": "2022-05-15T18:38:39.834Z"
   },
   {
    "duration": 15,
    "start_time": "2022-05-15T18:38:39.839Z"
   },
   {
    "duration": 193,
    "start_time": "2022-05-15T18:38:39.856Z"
   },
   {
    "duration": 16,
    "start_time": "2022-05-15T18:38:40.051Z"
   },
   {
    "duration": 10,
    "start_time": "2022-05-15T18:38:40.124Z"
   },
   {
    "duration": 230,
    "start_time": "2022-05-15T18:38:40.139Z"
   },
   {
    "duration": 0,
    "start_time": "2022-05-15T18:38:40.371Z"
   },
   {
    "duration": 0,
    "start_time": "2022-05-15T18:38:40.423Z"
   },
   {
    "duration": 0,
    "start_time": "2022-05-15T18:38:40.431Z"
   },
   {
    "duration": 0,
    "start_time": "2022-05-15T18:38:40.433Z"
   },
   {
    "duration": 0,
    "start_time": "2022-05-15T18:38:40.434Z"
   },
   {
    "duration": 0,
    "start_time": "2022-05-15T18:38:40.435Z"
   },
   {
    "duration": 0,
    "start_time": "2022-05-15T18:38:40.439Z"
   },
   {
    "duration": 0,
    "start_time": "2022-05-15T18:38:40.441Z"
   },
   {
    "duration": 0,
    "start_time": "2022-05-15T18:38:40.442Z"
   },
   {
    "duration": 0,
    "start_time": "2022-05-15T18:38:40.444Z"
   },
   {
    "duration": 0,
    "start_time": "2022-05-15T18:38:40.445Z"
   },
   {
    "duration": 0,
    "start_time": "2022-05-15T18:38:40.446Z"
   },
   {
    "duration": 0,
    "start_time": "2022-05-15T18:38:40.448Z"
   },
   {
    "duration": 0,
    "start_time": "2022-05-15T18:38:40.449Z"
   },
   {
    "duration": 0,
    "start_time": "2022-05-15T18:38:40.450Z"
   },
   {
    "duration": 0,
    "start_time": "2022-05-15T18:38:40.452Z"
   },
   {
    "duration": 0,
    "start_time": "2022-05-15T18:38:40.453Z"
   },
   {
    "duration": 0,
    "start_time": "2022-05-15T18:38:40.454Z"
   },
   {
    "duration": 0,
    "start_time": "2022-05-15T18:38:40.456Z"
   },
   {
    "duration": 0,
    "start_time": "2022-05-15T18:38:40.457Z"
   },
   {
    "duration": 0,
    "start_time": "2022-05-15T18:38:40.459Z"
   },
   {
    "duration": 22,
    "start_time": "2022-05-15T18:38:57.587Z"
   },
   {
    "duration": 15,
    "start_time": "2022-05-15T18:39:40.002Z"
   },
   {
    "duration": 5,
    "start_time": "2022-05-15T18:40:10.384Z"
   },
   {
    "duration": 14,
    "start_time": "2022-05-15T18:40:16.044Z"
   },
   {
    "duration": 41,
    "start_time": "2022-05-15T18:40:26.763Z"
   },
   {
    "duration": 6,
    "start_time": "2022-05-15T18:40:28.997Z"
   },
   {
    "duration": 13,
    "start_time": "2022-05-15T18:46:26.810Z"
   },
   {
    "duration": 292,
    "start_time": "2022-05-15T18:49:34.559Z"
   },
   {
    "duration": 287,
    "start_time": "2022-05-15T18:50:16.628Z"
   },
   {
    "duration": 275,
    "start_time": "2022-05-15T18:50:21.275Z"
   },
   {
    "duration": 447,
    "start_time": "2022-05-15T18:50:26.375Z"
   },
   {
    "duration": 377,
    "start_time": "2022-05-15T18:50:41.925Z"
   },
   {
    "duration": 126,
    "start_time": "2022-05-15T18:52:13.551Z"
   },
   {
    "duration": 0,
    "start_time": "2022-05-15T18:53:23.312Z"
   },
   {
    "duration": 0,
    "start_time": "2022-05-15T18:53:35.001Z"
   },
   {
    "duration": 1700,
    "start_time": "2022-05-15T18:53:56.779Z"
   },
   {
    "duration": 8,
    "start_time": "2022-05-15T18:53:58.482Z"
   },
   {
    "duration": 26,
    "start_time": "2022-05-15T18:53:58.492Z"
   },
   {
    "duration": 59,
    "start_time": "2022-05-15T18:53:58.524Z"
   },
   {
    "duration": 5,
    "start_time": "2022-05-15T18:53:58.585Z"
   },
   {
    "duration": 19,
    "start_time": "2022-05-15T18:53:58.592Z"
   },
   {
    "duration": 106,
    "start_time": "2022-05-15T18:53:58.623Z"
   },
   {
    "duration": 17,
    "start_time": "2022-05-15T18:53:58.731Z"
   },
   {
    "duration": 8,
    "start_time": "2022-05-15T18:53:58.750Z"
   },
   {
    "duration": 16,
    "start_time": "2022-05-15T18:53:58.762Z"
   },
   {
    "duration": 6,
    "start_time": "2022-05-15T18:53:58.780Z"
   },
   {
    "duration": 78,
    "start_time": "2022-05-15T18:53:58.787Z"
   },
   {
    "duration": 5,
    "start_time": "2022-05-15T18:53:58.867Z"
   },
   {
    "duration": 7,
    "start_time": "2022-05-15T18:53:58.875Z"
   },
   {
    "duration": 8,
    "start_time": "2022-05-15T18:53:58.883Z"
   },
   {
    "duration": 40,
    "start_time": "2022-05-15T18:53:58.893Z"
   },
   {
    "duration": 8,
    "start_time": "2022-05-15T18:53:58.935Z"
   },
   {
    "duration": 7,
    "start_time": "2022-05-15T18:53:58.945Z"
   },
   {
    "duration": 10,
    "start_time": "2022-05-15T18:53:58.954Z"
   },
   {
    "duration": 120,
    "start_time": "2022-05-15T18:53:58.966Z"
   },
   {
    "duration": 0,
    "start_time": "2022-05-15T18:53:59.087Z"
   },
   {
    "duration": 0,
    "start_time": "2022-05-15T18:53:59.089Z"
   },
   {
    "duration": 0,
    "start_time": "2022-05-15T18:53:59.090Z"
   },
   {
    "duration": 0,
    "start_time": "2022-05-15T18:53:59.091Z"
   },
   {
    "duration": 0,
    "start_time": "2022-05-15T18:53:59.092Z"
   },
   {
    "duration": 0,
    "start_time": "2022-05-15T18:53:59.094Z"
   },
   {
    "duration": 0,
    "start_time": "2022-05-15T18:53:59.096Z"
   },
   {
    "duration": 0,
    "start_time": "2022-05-15T18:53:59.097Z"
   },
   {
    "duration": 0,
    "start_time": "2022-05-15T18:53:59.099Z"
   },
   {
    "duration": 0,
    "start_time": "2022-05-15T18:53:59.123Z"
   },
   {
    "duration": 0,
    "start_time": "2022-05-15T18:53:59.124Z"
   },
   {
    "duration": 6579,
    "start_time": "2022-05-15T18:54:02.867Z"
   },
   {
    "duration": 3872,
    "start_time": "2022-05-15T18:58:43.196Z"
   },
   {
    "duration": 411,
    "start_time": "2022-05-15T19:01:59.162Z"
   },
   {
    "duration": 183,
    "start_time": "2022-05-15T19:02:12.480Z"
   },
   {
    "duration": 988,
    "start_time": "2022-05-15T19:02:39.715Z"
   },
   {
    "duration": 1404,
    "start_time": "2022-05-15T19:03:02.901Z"
   },
   {
    "duration": 1454,
    "start_time": "2022-05-16T01:08:09.100Z"
   },
   {
    "duration": 0,
    "start_time": "2022-05-16T01:08:10.558Z"
   },
   {
    "duration": 0,
    "start_time": "2022-05-16T01:08:10.559Z"
   },
   {
    "duration": 0,
    "start_time": "2022-05-16T01:08:10.561Z"
   },
   {
    "duration": 0,
    "start_time": "2022-05-16T01:08:10.562Z"
   },
   {
    "duration": 0,
    "start_time": "2022-05-16T01:08:10.563Z"
   },
   {
    "duration": 0,
    "start_time": "2022-05-16T01:08:10.565Z"
   },
   {
    "duration": 0,
    "start_time": "2022-05-16T01:08:10.566Z"
   },
   {
    "duration": 0,
    "start_time": "2022-05-16T01:08:10.568Z"
   },
   {
    "duration": 0,
    "start_time": "2022-05-16T01:08:10.569Z"
   },
   {
    "duration": 0,
    "start_time": "2022-05-16T01:08:10.570Z"
   },
   {
    "duration": 0,
    "start_time": "2022-05-16T01:08:10.571Z"
   },
   {
    "duration": 0,
    "start_time": "2022-05-16T01:08:10.572Z"
   },
   {
    "duration": 0,
    "start_time": "2022-05-16T01:08:10.573Z"
   },
   {
    "duration": 0,
    "start_time": "2022-05-16T01:08:10.574Z"
   },
   {
    "duration": 0,
    "start_time": "2022-05-16T01:08:10.575Z"
   },
   {
    "duration": 0,
    "start_time": "2022-05-16T01:08:10.577Z"
   },
   {
    "duration": 0,
    "start_time": "2022-05-16T01:08:10.578Z"
   },
   {
    "duration": 0,
    "start_time": "2022-05-16T01:08:10.579Z"
   },
   {
    "duration": 0,
    "start_time": "2022-05-16T01:08:10.580Z"
   },
   {
    "duration": 0,
    "start_time": "2022-05-16T01:08:10.581Z"
   },
   {
    "duration": 0,
    "start_time": "2022-05-16T01:08:10.582Z"
   },
   {
    "duration": 0,
    "start_time": "2022-05-16T01:08:10.584Z"
   },
   {
    "duration": 0,
    "start_time": "2022-05-16T01:08:10.584Z"
   },
   {
    "duration": 0,
    "start_time": "2022-05-16T01:08:10.586Z"
   },
   {
    "duration": 0,
    "start_time": "2022-05-16T01:08:10.587Z"
   },
   {
    "duration": 0,
    "start_time": "2022-05-16T01:08:10.588Z"
   },
   {
    "duration": 0,
    "start_time": "2022-05-16T01:08:10.589Z"
   },
   {
    "duration": 0,
    "start_time": "2022-05-16T01:08:10.590Z"
   },
   {
    "duration": 0,
    "start_time": "2022-05-16T01:08:10.591Z"
   },
   {
    "duration": 0,
    "start_time": "2022-05-16T01:08:10.591Z"
   },
   {
    "duration": 69,
    "start_time": "2022-05-16T01:09:40.569Z"
   },
   {
    "duration": 1350,
    "start_time": "2022-05-16T01:09:52.003Z"
   },
   {
    "duration": 9,
    "start_time": "2022-05-16T01:09:53.356Z"
   },
   {
    "duration": 17,
    "start_time": "2022-05-16T01:09:53.367Z"
   },
   {
    "duration": 14,
    "start_time": "2022-05-16T01:09:53.386Z"
   },
   {
    "duration": 4,
    "start_time": "2022-05-16T01:09:53.402Z"
   },
   {
    "duration": 15,
    "start_time": "2022-05-16T01:09:53.408Z"
   },
   {
    "duration": 54,
    "start_time": "2022-05-16T01:09:53.425Z"
   },
   {
    "duration": 116,
    "start_time": "2022-05-16T01:09:53.481Z"
   },
   {
    "duration": 0,
    "start_time": "2022-05-16T01:09:53.599Z"
   },
   {
    "duration": 0,
    "start_time": "2022-05-16T01:09:53.600Z"
   },
   {
    "duration": 0,
    "start_time": "2022-05-16T01:09:53.601Z"
   },
   {
    "duration": 0,
    "start_time": "2022-05-16T01:09:53.602Z"
   },
   {
    "duration": 0,
    "start_time": "2022-05-16T01:09:53.603Z"
   },
   {
    "duration": 0,
    "start_time": "2022-05-16T01:09:53.604Z"
   },
   {
    "duration": 0,
    "start_time": "2022-05-16T01:09:53.605Z"
   },
   {
    "duration": 0,
    "start_time": "2022-05-16T01:09:53.606Z"
   },
   {
    "duration": 0,
    "start_time": "2022-05-16T01:09:53.607Z"
   },
   {
    "duration": 0,
    "start_time": "2022-05-16T01:09:53.608Z"
   },
   {
    "duration": 0,
    "start_time": "2022-05-16T01:09:53.609Z"
   },
   {
    "duration": 0,
    "start_time": "2022-05-16T01:09:53.610Z"
   },
   {
    "duration": 0,
    "start_time": "2022-05-16T01:09:53.610Z"
   },
   {
    "duration": 0,
    "start_time": "2022-05-16T01:09:53.611Z"
   },
   {
    "duration": 0,
    "start_time": "2022-05-16T01:09:53.612Z"
   },
   {
    "duration": 0,
    "start_time": "2022-05-16T01:09:53.613Z"
   },
   {
    "duration": 0,
    "start_time": "2022-05-16T01:09:53.614Z"
   },
   {
    "duration": 0,
    "start_time": "2022-05-16T01:09:53.643Z"
   },
   {
    "duration": 0,
    "start_time": "2022-05-16T01:09:53.643Z"
   },
   {
    "duration": 0,
    "start_time": "2022-05-16T01:09:53.644Z"
   },
   {
    "duration": 0,
    "start_time": "2022-05-16T01:09:53.645Z"
   },
   {
    "duration": 0,
    "start_time": "2022-05-16T01:09:53.646Z"
   },
   {
    "duration": 0,
    "start_time": "2022-05-16T01:09:53.647Z"
   },
   {
    "duration": 92,
    "start_time": "2022-05-16T01:10:35.494Z"
   },
   {
    "duration": 98,
    "start_time": "2022-05-16T01:11:05.898Z"
   },
   {
    "duration": 1335,
    "start_time": "2022-05-16T01:11:12.386Z"
   },
   {
    "duration": 7,
    "start_time": "2022-05-16T01:11:13.723Z"
   },
   {
    "duration": 18,
    "start_time": "2022-05-16T01:11:13.732Z"
   },
   {
    "duration": 30,
    "start_time": "2022-05-16T01:11:13.752Z"
   },
   {
    "duration": 4,
    "start_time": "2022-05-16T01:11:13.784Z"
   },
   {
    "duration": 22,
    "start_time": "2022-05-16T01:11:13.789Z"
   },
   {
    "duration": 116,
    "start_time": "2022-05-16T01:11:13.812Z"
   },
   {
    "duration": 20,
    "start_time": "2022-05-16T01:11:13.930Z"
   },
   {
    "duration": 13,
    "start_time": "2022-05-16T01:11:13.951Z"
   },
   {
    "duration": 14,
    "start_time": "2022-05-16T01:11:13.966Z"
   },
   {
    "duration": 5,
    "start_time": "2022-05-16T01:11:13.982Z"
   },
   {
    "duration": 77,
    "start_time": "2022-05-16T01:11:13.990Z"
   },
   {
    "duration": 5,
    "start_time": "2022-05-16T01:11:14.069Z"
   },
   {
    "duration": 7,
    "start_time": "2022-05-16T01:11:14.077Z"
   },
   {
    "duration": 7,
    "start_time": "2022-05-16T01:11:14.086Z"
   },
   {
    "duration": 6,
    "start_time": "2022-05-16T01:11:14.094Z"
   },
   {
    "duration": 8,
    "start_time": "2022-05-16T01:11:14.101Z"
   },
   {
    "duration": 34,
    "start_time": "2022-05-16T01:11:14.110Z"
   },
   {
    "duration": 15,
    "start_time": "2022-05-16T01:11:14.148Z"
   },
   {
    "duration": 145,
    "start_time": "2022-05-16T01:11:14.167Z"
   },
   {
    "duration": 0,
    "start_time": "2022-05-16T01:11:14.314Z"
   },
   {
    "duration": 0,
    "start_time": "2022-05-16T01:11:14.315Z"
   },
   {
    "duration": 0,
    "start_time": "2022-05-16T01:11:14.316Z"
   },
   {
    "duration": 0,
    "start_time": "2022-05-16T01:11:14.317Z"
   },
   {
    "duration": 0,
    "start_time": "2022-05-16T01:11:14.319Z"
   },
   {
    "duration": 0,
    "start_time": "2022-05-16T01:11:14.319Z"
   },
   {
    "duration": 0,
    "start_time": "2022-05-16T01:11:14.321Z"
   },
   {
    "duration": 0,
    "start_time": "2022-05-16T01:11:14.322Z"
   },
   {
    "duration": 0,
    "start_time": "2022-05-16T01:11:14.323Z"
   },
   {
    "duration": 0,
    "start_time": "2022-05-16T01:11:14.324Z"
   },
   {
    "duration": 0,
    "start_time": "2022-05-16T01:11:14.326Z"
   },
   {
    "duration": 2297,
    "start_time": "2022-05-16T01:11:59.946Z"
   },
   {
    "duration": 1340,
    "start_time": "2022-05-16T01:12:39.216Z"
   },
   {
    "duration": 11,
    "start_time": "2022-05-16T01:12:40.558Z"
   },
   {
    "duration": 17,
    "start_time": "2022-05-16T01:12:40.570Z"
   },
   {
    "duration": 37,
    "start_time": "2022-05-16T01:12:40.590Z"
   },
   {
    "duration": 4,
    "start_time": "2022-05-16T01:12:40.646Z"
   },
   {
    "duration": 23,
    "start_time": "2022-05-16T01:12:40.651Z"
   },
   {
    "duration": 79,
    "start_time": "2022-05-16T01:12:40.676Z"
   },
   {
    "duration": 18,
    "start_time": "2022-05-16T01:12:40.756Z"
   },
   {
    "duration": 12,
    "start_time": "2022-05-16T01:12:40.776Z"
   },
   {
    "duration": 15,
    "start_time": "2022-05-16T01:12:40.792Z"
   },
   {
    "duration": 6,
    "start_time": "2022-05-16T01:12:40.809Z"
   },
   {
    "duration": 71,
    "start_time": "2022-05-16T01:12:40.817Z"
   },
   {
    "duration": 5,
    "start_time": "2022-05-16T01:12:40.890Z"
   },
   {
    "duration": 10,
    "start_time": "2022-05-16T01:12:40.897Z"
   },
   {
    "duration": 10,
    "start_time": "2022-05-16T01:12:40.908Z"
   },
   {
    "duration": 30,
    "start_time": "2022-05-16T01:12:40.920Z"
   },
   {
    "duration": 9,
    "start_time": "2022-05-16T01:12:40.953Z"
   },
   {
    "duration": 12,
    "start_time": "2022-05-16T01:12:40.963Z"
   },
   {
    "duration": 7,
    "start_time": "2022-05-16T01:12:40.976Z"
   },
   {
    "duration": 1862,
    "start_time": "2022-05-16T01:12:40.984Z"
   },
   {
    "duration": 0,
    "start_time": "2022-05-16T01:12:42.849Z"
   },
   {
    "duration": 0,
    "start_time": "2022-05-16T01:12:42.850Z"
   },
   {
    "duration": 0,
    "start_time": "2022-05-16T01:12:42.852Z"
   },
   {
    "duration": 0,
    "start_time": "2022-05-16T01:12:42.854Z"
   },
   {
    "duration": 0,
    "start_time": "2022-05-16T01:12:42.855Z"
   },
   {
    "duration": 0,
    "start_time": "2022-05-16T01:12:42.857Z"
   },
   {
    "duration": 0,
    "start_time": "2022-05-16T01:12:42.858Z"
   },
   {
    "duration": 0,
    "start_time": "2022-05-16T01:12:42.860Z"
   },
   {
    "duration": 0,
    "start_time": "2022-05-16T01:12:42.861Z"
   },
   {
    "duration": 0,
    "start_time": "2022-05-16T01:12:42.862Z"
   },
   {
    "duration": 0,
    "start_time": "2022-05-16T01:12:42.863Z"
   },
   {
    "duration": 1929,
    "start_time": "2022-05-16T01:13:07.710Z"
   },
   {
    "duration": 1725,
    "start_time": "2022-05-16T01:13:16.093Z"
   },
   {
    "duration": 13,
    "start_time": "2022-05-16T01:13:59.372Z"
   },
   {
    "duration": 214,
    "start_time": "2022-05-16T14:12:55.200Z"
   },
   {
    "duration": 0,
    "start_time": "2022-05-16T14:12:55.420Z"
   },
   {
    "duration": 0,
    "start_time": "2022-05-16T14:12:55.423Z"
   },
   {
    "duration": 0,
    "start_time": "2022-05-16T14:12:55.425Z"
   },
   {
    "duration": 0,
    "start_time": "2022-05-16T14:12:55.427Z"
   },
   {
    "duration": 0,
    "start_time": "2022-05-16T14:12:55.428Z"
   },
   {
    "duration": 0,
    "start_time": "2022-05-16T14:12:55.431Z"
   },
   {
    "duration": 0,
    "start_time": "2022-05-16T14:12:55.433Z"
   },
   {
    "duration": 0,
    "start_time": "2022-05-16T14:12:55.435Z"
   },
   {
    "duration": 0,
    "start_time": "2022-05-16T14:12:55.437Z"
   },
   {
    "duration": 0,
    "start_time": "2022-05-16T14:12:55.438Z"
   },
   {
    "duration": 0,
    "start_time": "2022-05-16T14:12:55.441Z"
   },
   {
    "duration": 0,
    "start_time": "2022-05-16T14:12:55.443Z"
   },
   {
    "duration": 1,
    "start_time": "2022-05-16T14:12:55.444Z"
   },
   {
    "duration": 0,
    "start_time": "2022-05-16T14:12:55.447Z"
   },
   {
    "duration": 0,
    "start_time": "2022-05-16T14:12:55.455Z"
   },
   {
    "duration": 0,
    "start_time": "2022-05-16T14:12:55.456Z"
   },
   {
    "duration": 0,
    "start_time": "2022-05-16T14:12:55.458Z"
   },
   {
    "duration": 0,
    "start_time": "2022-05-16T14:12:55.459Z"
   },
   {
    "duration": 0,
    "start_time": "2022-05-16T14:12:55.460Z"
   },
   {
    "duration": 0,
    "start_time": "2022-05-16T14:12:55.463Z"
   },
   {
    "duration": 0,
    "start_time": "2022-05-16T14:12:55.464Z"
   },
   {
    "duration": 0,
    "start_time": "2022-05-16T14:12:55.465Z"
   },
   {
    "duration": 0,
    "start_time": "2022-05-16T14:12:55.466Z"
   },
   {
    "duration": 0,
    "start_time": "2022-05-16T14:12:55.467Z"
   },
   {
    "duration": 0,
    "start_time": "2022-05-16T14:12:55.471Z"
   },
   {
    "duration": 0,
    "start_time": "2022-05-16T14:12:55.475Z"
   },
   {
    "duration": 0,
    "start_time": "2022-05-16T14:12:55.477Z"
   },
   {
    "duration": 0,
    "start_time": "2022-05-16T14:12:55.479Z"
   },
   {
    "duration": 0,
    "start_time": "2022-05-16T14:12:55.481Z"
   },
   {
    "duration": 0,
    "start_time": "2022-05-16T14:12:55.483Z"
   },
   {
    "duration": 0,
    "start_time": "2022-05-16T14:12:55.486Z"
   },
   {
    "duration": 0,
    "start_time": "2022-05-16T14:12:55.488Z"
   },
   {
    "duration": 2314,
    "start_time": "2022-05-16T14:13:16.454Z"
   },
   {
    "duration": 0,
    "start_time": "2022-05-16T14:13:18.772Z"
   },
   {
    "duration": 0,
    "start_time": "2022-05-16T14:13:18.773Z"
   },
   {
    "duration": 0,
    "start_time": "2022-05-16T14:13:18.775Z"
   },
   {
    "duration": 0,
    "start_time": "2022-05-16T14:13:18.777Z"
   },
   {
    "duration": 0,
    "start_time": "2022-05-16T14:13:18.778Z"
   },
   {
    "duration": 0,
    "start_time": "2022-05-16T14:13:18.780Z"
   },
   {
    "duration": 0,
    "start_time": "2022-05-16T14:13:18.781Z"
   },
   {
    "duration": 0,
    "start_time": "2022-05-16T14:13:18.783Z"
   },
   {
    "duration": 0,
    "start_time": "2022-05-16T14:13:18.784Z"
   },
   {
    "duration": 0,
    "start_time": "2022-05-16T14:13:18.786Z"
   },
   {
    "duration": 0,
    "start_time": "2022-05-16T14:13:18.788Z"
   },
   {
    "duration": 0,
    "start_time": "2022-05-16T14:13:18.789Z"
   },
   {
    "duration": 0,
    "start_time": "2022-05-16T14:13:18.791Z"
   },
   {
    "duration": 0,
    "start_time": "2022-05-16T14:13:18.793Z"
   },
   {
    "duration": 0,
    "start_time": "2022-05-16T14:13:18.794Z"
   },
   {
    "duration": 0,
    "start_time": "2022-05-16T14:13:18.796Z"
   },
   {
    "duration": 0,
    "start_time": "2022-05-16T14:13:18.797Z"
   },
   {
    "duration": 0,
    "start_time": "2022-05-16T14:13:18.798Z"
   },
   {
    "duration": 0,
    "start_time": "2022-05-16T14:13:18.852Z"
   },
   {
    "duration": 0,
    "start_time": "2022-05-16T14:13:18.856Z"
   },
   {
    "duration": 0,
    "start_time": "2022-05-16T14:13:18.857Z"
   },
   {
    "duration": 0,
    "start_time": "2022-05-16T14:13:18.859Z"
   },
   {
    "duration": 0,
    "start_time": "2022-05-16T14:13:18.860Z"
   },
   {
    "duration": 0,
    "start_time": "2022-05-16T14:13:18.862Z"
   },
   {
    "duration": 0,
    "start_time": "2022-05-16T14:13:18.863Z"
   },
   {
    "duration": 0,
    "start_time": "2022-05-16T14:13:18.868Z"
   },
   {
    "duration": 0,
    "start_time": "2022-05-16T14:13:18.870Z"
   },
   {
    "duration": 0,
    "start_time": "2022-05-16T14:13:18.872Z"
   },
   {
    "duration": 0,
    "start_time": "2022-05-16T14:13:18.873Z"
   },
   {
    "duration": 0,
    "start_time": "2022-05-16T14:13:18.875Z"
   },
   {
    "duration": 0,
    "start_time": "2022-05-16T14:13:18.876Z"
   },
   {
    "duration": 0,
    "start_time": "2022-05-16T14:13:18.878Z"
   },
   {
    "duration": 1800,
    "start_time": "2022-05-16T14:13:47.414Z"
   },
   {
    "duration": 237,
    "start_time": "2022-05-16T14:13:49.217Z"
   },
   {
    "duration": 15,
    "start_time": "2022-05-16T14:13:49.457Z"
   },
   {
    "duration": 23,
    "start_time": "2022-05-16T14:13:49.475Z"
   },
   {
    "duration": 83,
    "start_time": "2022-05-16T14:13:49.500Z"
   },
   {
    "duration": 5,
    "start_time": "2022-05-16T14:13:49.585Z"
   },
   {
    "duration": 17,
    "start_time": "2022-05-16T14:13:49.593Z"
   },
   {
    "duration": 125,
    "start_time": "2022-05-16T14:13:49.612Z"
   },
   {
    "duration": 27,
    "start_time": "2022-05-16T14:13:49.745Z"
   },
   {
    "duration": 11,
    "start_time": "2022-05-16T14:13:49.780Z"
   },
   {
    "duration": 22,
    "start_time": "2022-05-16T14:13:49.793Z"
   },
   {
    "duration": 43,
    "start_time": "2022-05-16T14:13:49.817Z"
   },
   {
    "duration": 63,
    "start_time": "2022-05-16T14:13:49.863Z"
   },
   {
    "duration": 21,
    "start_time": "2022-05-16T14:13:49.929Z"
   },
   {
    "duration": 21,
    "start_time": "2022-05-16T14:13:49.957Z"
   },
   {
    "duration": 16,
    "start_time": "2022-05-16T14:13:49.980Z"
   },
   {
    "duration": 11,
    "start_time": "2022-05-16T14:13:49.999Z"
   },
   {
    "duration": 42,
    "start_time": "2022-05-16T14:13:50.013Z"
   },
   {
    "duration": 8,
    "start_time": "2022-05-16T14:13:50.057Z"
   },
   {
    "duration": 9,
    "start_time": "2022-05-16T14:13:50.068Z"
   },
   {
    "duration": 170,
    "start_time": "2022-05-16T14:13:50.079Z"
   },
   {
    "duration": 0,
    "start_time": "2022-05-16T14:13:50.252Z"
   },
   {
    "duration": 0,
    "start_time": "2022-05-16T14:13:50.253Z"
   },
   {
    "duration": 0,
    "start_time": "2022-05-16T14:13:50.256Z"
   },
   {
    "duration": 0,
    "start_time": "2022-05-16T14:13:50.258Z"
   },
   {
    "duration": 0,
    "start_time": "2022-05-16T14:13:50.262Z"
   },
   {
    "duration": 0,
    "start_time": "2022-05-16T14:13:50.264Z"
   },
   {
    "duration": 0,
    "start_time": "2022-05-16T14:13:50.265Z"
   },
   {
    "duration": 0,
    "start_time": "2022-05-16T14:13:50.267Z"
   },
   {
    "duration": 0,
    "start_time": "2022-05-16T14:13:50.268Z"
   },
   {
    "duration": 0,
    "start_time": "2022-05-16T14:13:50.270Z"
   },
   {
    "duration": 0,
    "start_time": "2022-05-16T14:13:50.272Z"
   },
   {
    "duration": 0,
    "start_time": "2022-05-16T14:13:50.276Z"
   },
   {
    "duration": 3,
    "start_time": "2022-05-16T14:24:32.781Z"
   },
   {
    "duration": 218,
    "start_time": "2022-05-16T14:24:33.446Z"
   },
   {
    "duration": 9,
    "start_time": "2022-05-16T14:24:34.101Z"
   },
   {
    "duration": 21,
    "start_time": "2022-05-16T14:24:34.277Z"
   },
   {
    "duration": 46,
    "start_time": "2022-05-16T14:24:34.455Z"
   },
   {
    "duration": 6,
    "start_time": "2022-05-16T14:24:34.638Z"
   },
   {
    "duration": 13,
    "start_time": "2022-05-16T14:24:36.063Z"
   },
   {
    "duration": 107,
    "start_time": "2022-05-16T14:24:36.225Z"
   },
   {
    "duration": 22,
    "start_time": "2022-05-16T14:24:39.875Z"
   },
   {
    "duration": 17,
    "start_time": "2022-05-16T14:24:40.791Z"
   },
   {
    "duration": 19,
    "start_time": "2022-05-16T14:24:43.660Z"
   },
   {
    "duration": 8,
    "start_time": "2022-05-16T14:24:46.002Z"
   },
   {
    "duration": 81,
    "start_time": "2022-05-16T14:24:48.597Z"
   },
   {
    "duration": 12,
    "start_time": "2022-05-16T14:25:06.242Z"
   },
   {
    "duration": 7,
    "start_time": "2022-05-16T14:26:04.307Z"
   },
   {
    "duration": 9,
    "start_time": "2022-05-16T14:26:04.477Z"
   },
   {
    "duration": 10,
    "start_time": "2022-05-16T14:26:04.631Z"
   },
   {
    "duration": 10,
    "start_time": "2022-05-16T14:26:04.775Z"
   },
   {
    "duration": 9,
    "start_time": "2022-05-16T14:26:07.338Z"
   },
   {
    "duration": 8,
    "start_time": "2022-05-16T14:26:08.260Z"
   },
   {
    "duration": 48,
    "start_time": "2022-05-16T14:26:20.222Z"
   },
   {
    "duration": 5,
    "start_time": "2022-05-16T14:26:27.270Z"
   },
   {
    "duration": 9,
    "start_time": "2022-05-16T14:26:34.940Z"
   },
   {
    "duration": 15,
    "start_time": "2022-05-16T14:30:53.394Z"
   },
   {
    "duration": 5,
    "start_time": "2022-05-16T14:31:56.838Z"
   },
   {
    "duration": 238,
    "start_time": "2022-05-16T14:31:57.177Z"
   },
   {
    "duration": 9,
    "start_time": "2022-05-16T14:31:57.419Z"
   },
   {
    "duration": 25,
    "start_time": "2022-05-16T14:31:57.492Z"
   },
   {
    "duration": 70,
    "start_time": "2022-05-16T14:31:57.641Z"
   },
   {
    "duration": 6,
    "start_time": "2022-05-16T14:31:57.798Z"
   },
   {
    "duration": 19,
    "start_time": "2022-05-16T14:31:57.949Z"
   },
   {
    "duration": 103,
    "start_time": "2022-05-16T14:31:58.083Z"
   },
   {
    "duration": 19,
    "start_time": "2022-05-16T14:32:00.501Z"
   },
   {
    "duration": 17,
    "start_time": "2022-05-16T14:32:00.656Z"
   },
   {
    "duration": 20,
    "start_time": "2022-05-16T14:32:00.838Z"
   },
   {
    "duration": 7,
    "start_time": "2022-05-16T14:32:02.278Z"
   },
   {
    "duration": 84,
    "start_time": "2022-05-16T14:32:03.407Z"
   },
   {
    "duration": 8,
    "start_time": "2022-05-16T14:32:03.670Z"
   },
   {
    "duration": 10,
    "start_time": "2022-05-16T14:32:04.886Z"
   },
   {
    "duration": 10,
    "start_time": "2022-05-16T14:32:05.055Z"
   },
   {
    "duration": 10,
    "start_time": "2022-05-16T14:32:06.339Z"
   },
   {
    "duration": 9,
    "start_time": "2022-05-16T14:32:06.492Z"
   },
   {
    "duration": 7,
    "start_time": "2022-05-16T14:32:08.116Z"
   },
   {
    "duration": 54,
    "start_time": "2022-05-16T14:32:08.465Z"
   },
   {
    "duration": 5,
    "start_time": "2022-05-16T14:32:12.715Z"
   },
   {
    "duration": 13,
    "start_time": "2022-05-16T14:32:14.519Z"
   },
   {
    "duration": 68,
    "start_time": "2022-05-16T14:32:21.301Z"
   },
   {
    "duration": 14,
    "start_time": "2022-05-16T14:32:29.384Z"
   },
   {
    "duration": 4,
    "start_time": "2022-05-16T14:33:28.422Z"
   },
   {
    "duration": 247,
    "start_time": "2022-05-16T14:33:28.869Z"
   },
   {
    "duration": 11,
    "start_time": "2022-05-16T14:33:29.119Z"
   },
   {
    "duration": 28,
    "start_time": "2022-05-16T14:33:29.177Z"
   },
   {
    "duration": 68,
    "start_time": "2022-05-16T14:33:29.334Z"
   },
   {
    "duration": 6,
    "start_time": "2022-05-16T14:33:29.473Z"
   },
   {
    "duration": 21,
    "start_time": "2022-05-16T14:33:29.699Z"
   },
   {
    "duration": 109,
    "start_time": "2022-05-16T14:33:29.838Z"
   },
   {
    "duration": 27,
    "start_time": "2022-05-16T14:33:31.242Z"
   },
   {
    "duration": 10,
    "start_time": "2022-05-16T14:33:33.303Z"
   },
   {
    "duration": 20,
    "start_time": "2022-05-16T14:33:33.467Z"
   },
   {
    "duration": 9,
    "start_time": "2022-05-16T14:33:33.600Z"
   },
   {
    "duration": 78,
    "start_time": "2022-05-16T14:33:33.744Z"
   },
   {
    "duration": 10,
    "start_time": "2022-05-16T14:33:34.964Z"
   },
   {
    "duration": 8,
    "start_time": "2022-05-16T14:33:35.121Z"
   },
   {
    "duration": 11,
    "start_time": "2022-05-16T14:33:35.257Z"
   },
   {
    "duration": 9,
    "start_time": "2022-05-16T14:33:37.069Z"
   },
   {
    "duration": 9,
    "start_time": "2022-05-16T14:33:37.475Z"
   },
   {
    "duration": 7,
    "start_time": "2022-05-16T14:33:38.608Z"
   },
   {
    "duration": 40,
    "start_time": "2022-05-16T14:33:39.470Z"
   },
   {
    "duration": 4,
    "start_time": "2022-05-16T14:33:47.246Z"
   },
   {
    "duration": 12,
    "start_time": "2022-05-16T14:33:51.338Z"
   },
   {
    "duration": 41,
    "start_time": "2022-05-16T14:33:58.692Z"
   },
   {
    "duration": 11,
    "start_time": "2022-05-16T14:34:14.683Z"
   },
   {
    "duration": 22,
    "start_time": "2022-05-16T14:34:53.651Z"
   },
   {
    "duration": 6,
    "start_time": "2022-05-16T14:35:05.317Z"
   },
   {
    "duration": 30,
    "start_time": "2022-05-16T14:35:27.622Z"
   },
   {
    "duration": 39,
    "start_time": "2022-05-16T14:35:55.053Z"
   },
   {
    "duration": 1779,
    "start_time": "2022-05-16T14:36:05.289Z"
   },
   {
    "duration": 278,
    "start_time": "2022-05-16T14:36:07.071Z"
   },
   {
    "duration": 15,
    "start_time": "2022-05-16T14:36:07.352Z"
   },
   {
    "duration": 33,
    "start_time": "2022-05-16T14:36:07.370Z"
   },
   {
    "duration": 92,
    "start_time": "2022-05-16T14:36:07.408Z"
   },
   {
    "duration": 6,
    "start_time": "2022-05-16T14:36:07.503Z"
   },
   {
    "duration": 42,
    "start_time": "2022-05-16T14:36:07.512Z"
   },
   {
    "duration": 136,
    "start_time": "2022-05-16T14:36:07.559Z"
   },
   {
    "duration": 20,
    "start_time": "2022-05-16T14:36:07.698Z"
   },
   {
    "duration": 50,
    "start_time": "2022-05-16T14:36:07.721Z"
   },
   {
    "duration": 30,
    "start_time": "2022-05-16T14:36:07.774Z"
   },
   {
    "duration": 11,
    "start_time": "2022-05-16T14:36:07.806Z"
   },
   {
    "duration": 107,
    "start_time": "2022-05-16T14:36:07.819Z"
   },
   {
    "duration": 21,
    "start_time": "2022-05-16T14:36:07.933Z"
   },
   {
    "duration": 16,
    "start_time": "2022-05-16T14:36:07.958Z"
   },
   {
    "duration": 36,
    "start_time": "2022-05-16T14:36:07.977Z"
   },
   {
    "duration": 17,
    "start_time": "2022-05-16T14:36:08.016Z"
   },
   {
    "duration": 22,
    "start_time": "2022-05-16T14:36:08.036Z"
   },
   {
    "duration": 40,
    "start_time": "2022-05-16T14:36:08.063Z"
   },
   {
    "duration": 8,
    "start_time": "2022-05-16T14:36:08.107Z"
   },
   {
    "duration": 47,
    "start_time": "2022-05-16T14:36:08.118Z"
   },
   {
    "duration": 40,
    "start_time": "2022-05-16T14:36:08.167Z"
   },
   {
    "duration": 196,
    "start_time": "2022-05-16T14:36:08.211Z"
   },
   {
    "duration": 0,
    "start_time": "2022-05-16T14:36:08.410Z"
   },
   {
    "duration": 0,
    "start_time": "2022-05-16T14:36:08.411Z"
   },
   {
    "duration": 0,
    "start_time": "2022-05-16T14:36:08.413Z"
   },
   {
    "duration": 0,
    "start_time": "2022-05-16T14:36:08.415Z"
   },
   {
    "duration": 0,
    "start_time": "2022-05-16T14:36:08.416Z"
   },
   {
    "duration": 0,
    "start_time": "2022-05-16T14:36:08.418Z"
   },
   {
    "duration": 0,
    "start_time": "2022-05-16T14:36:08.420Z"
   },
   {
    "duration": 0,
    "start_time": "2022-05-16T14:36:08.446Z"
   },
   {
    "duration": 0,
    "start_time": "2022-05-16T14:36:08.448Z"
   },
   {
    "duration": 0,
    "start_time": "2022-05-16T14:36:08.452Z"
   },
   {
    "duration": 0,
    "start_time": "2022-05-16T14:36:08.457Z"
   },
   {
    "duration": 68,
    "start_time": "2022-05-16T14:41:04.097Z"
   },
   {
    "duration": 14,
    "start_time": "2022-05-16T14:41:13.756Z"
   },
   {
    "duration": 23,
    "start_time": "2022-05-16T14:41:19.191Z"
   },
   {
    "duration": 288,
    "start_time": "2022-05-16T14:41:43.053Z"
   },
   {
    "duration": 28,
    "start_time": "2022-05-16T14:41:50.221Z"
   },
   {
    "duration": 22,
    "start_time": "2022-05-16T14:41:57.734Z"
   },
   {
    "duration": 40,
    "start_time": "2022-05-16T14:43:27.346Z"
   },
   {
    "duration": 41,
    "start_time": "2022-05-16T14:44:12.193Z"
   },
   {
    "duration": 45,
    "start_time": "2022-05-16T14:44:59.821Z"
   },
   {
    "duration": 1096,
    "start_time": "2022-05-16T14:45:50.330Z"
   },
   {
    "duration": 34,
    "start_time": "2022-05-16T14:47:01.385Z"
   },
   {
    "duration": 29,
    "start_time": "2022-05-16T14:47:23.161Z"
   },
   {
    "duration": 27,
    "start_time": "2022-05-16T14:47:46.977Z"
   },
   {
    "duration": 38,
    "start_time": "2022-05-16T14:49:03.881Z"
   },
   {
    "duration": 24,
    "start_time": "2022-05-16T14:49:24.712Z"
   },
   {
    "duration": 30,
    "start_time": "2022-05-16T14:50:05.482Z"
   },
   {
    "duration": 12,
    "start_time": "2022-05-16T14:50:45.815Z"
   },
   {
    "duration": 32,
    "start_time": "2022-05-16T14:51:40.033Z"
   },
   {
    "duration": 34,
    "start_time": "2022-05-16T14:52:21.027Z"
   },
   {
    "duration": 1801,
    "start_time": "2022-05-16T14:52:44.539Z"
   },
   {
    "duration": 256,
    "start_time": "2022-05-16T14:52:46.345Z"
   },
   {
    "duration": 12,
    "start_time": "2022-05-16T14:52:46.603Z"
   },
   {
    "duration": 42,
    "start_time": "2022-05-16T14:52:46.619Z"
   },
   {
    "duration": 85,
    "start_time": "2022-05-16T14:52:46.665Z"
   },
   {
    "duration": 11,
    "start_time": "2022-05-16T14:52:46.755Z"
   },
   {
    "duration": 55,
    "start_time": "2022-05-16T14:52:46.771Z"
   },
   {
    "duration": 151,
    "start_time": "2022-05-16T14:52:46.828Z"
   },
   {
    "duration": 28,
    "start_time": "2022-05-16T14:52:46.982Z"
   },
   {
    "duration": 15,
    "start_time": "2022-05-16T14:52:47.016Z"
   },
   {
    "duration": 59,
    "start_time": "2022-05-16T14:52:47.036Z"
   },
   {
    "duration": 20,
    "start_time": "2022-05-16T14:52:47.097Z"
   },
   {
    "duration": 85,
    "start_time": "2022-05-16T14:52:47.120Z"
   },
   {
    "duration": 13,
    "start_time": "2022-05-16T14:52:47.211Z"
   },
   {
    "duration": 35,
    "start_time": "2022-05-16T14:52:47.227Z"
   },
   {
    "duration": 53,
    "start_time": "2022-05-16T14:52:47.265Z"
   },
   {
    "duration": 22,
    "start_time": "2022-05-16T14:52:47.321Z"
   },
   {
    "duration": 60,
    "start_time": "2022-05-16T14:52:47.351Z"
   },
   {
    "duration": 17,
    "start_time": "2022-05-16T14:52:47.414Z"
   },
   {
    "duration": 39,
    "start_time": "2022-05-16T14:52:47.434Z"
   },
   {
    "duration": 58,
    "start_time": "2022-05-16T14:52:47.476Z"
   },
   {
    "duration": 17,
    "start_time": "2022-05-16T14:52:47.537Z"
   },
   {
    "duration": 270,
    "start_time": "2022-05-16T14:52:47.565Z"
   },
   {
    "duration": 0,
    "start_time": "2022-05-16T14:52:47.847Z"
   },
   {
    "duration": 0,
    "start_time": "2022-05-16T14:52:47.850Z"
   },
   {
    "duration": 1,
    "start_time": "2022-05-16T14:52:47.851Z"
   },
   {
    "duration": 0,
    "start_time": "2022-05-16T14:52:47.854Z"
   },
   {
    "duration": 0,
    "start_time": "2022-05-16T14:52:47.858Z"
   },
   {
    "duration": 0,
    "start_time": "2022-05-16T14:52:47.860Z"
   },
   {
    "duration": 0,
    "start_time": "2022-05-16T14:52:47.862Z"
   },
   {
    "duration": 0,
    "start_time": "2022-05-16T14:52:47.864Z"
   },
   {
    "duration": 0,
    "start_time": "2022-05-16T14:52:47.868Z"
   },
   {
    "duration": 0,
    "start_time": "2022-05-16T14:52:47.870Z"
   },
   {
    "duration": 0,
    "start_time": "2022-05-16T14:52:47.871Z"
   },
   {
    "duration": 0,
    "start_time": "2022-05-16T14:52:47.873Z"
   },
   {
    "duration": 0,
    "start_time": "2022-05-16T14:52:47.875Z"
   },
   {
    "duration": 0,
    "start_time": "2022-05-16T14:52:47.877Z"
   },
   {
    "duration": 13,
    "start_time": "2022-05-16T14:53:01.877Z"
   },
   {
    "duration": 38,
    "start_time": "2022-05-16T14:53:04.574Z"
   },
   {
    "duration": 11,
    "start_time": "2022-05-16T14:53:17.529Z"
   },
   {
    "duration": 1959,
    "start_time": "2022-05-16T14:57:01.410Z"
   },
   {
    "duration": 269,
    "start_time": "2022-05-16T14:57:03.375Z"
   },
   {
    "duration": 14,
    "start_time": "2022-05-16T14:57:03.649Z"
   },
   {
    "duration": 81,
    "start_time": "2022-05-16T14:57:03.666Z"
   },
   {
    "duration": 66,
    "start_time": "2022-05-16T14:57:03.751Z"
   },
   {
    "duration": 6,
    "start_time": "2022-05-16T14:57:03.821Z"
   },
   {
    "duration": 27,
    "start_time": "2022-05-16T14:57:03.848Z"
   },
   {
    "duration": 177,
    "start_time": "2022-05-16T14:57:03.882Z"
   },
   {
    "duration": 29,
    "start_time": "2022-05-16T14:57:04.062Z"
   },
   {
    "duration": 35,
    "start_time": "2022-05-16T14:57:04.097Z"
   },
   {
    "duration": 32,
    "start_time": "2022-05-16T14:57:04.135Z"
   },
   {
    "duration": 51,
    "start_time": "2022-05-16T14:57:04.170Z"
   },
   {
    "duration": 86,
    "start_time": "2022-05-16T14:57:04.224Z"
   },
   {
    "duration": 9,
    "start_time": "2022-05-16T14:57:04.318Z"
   },
   {
    "duration": 33,
    "start_time": "2022-05-16T14:57:04.329Z"
   },
   {
    "duration": 55,
    "start_time": "2022-05-16T14:57:04.367Z"
   },
   {
    "duration": 10,
    "start_time": "2022-05-16T14:57:04.424Z"
   },
   {
    "duration": 19,
    "start_time": "2022-05-16T14:57:04.437Z"
   },
   {
    "duration": 58,
    "start_time": "2022-05-16T14:57:04.458Z"
   },
   {
    "duration": 12,
    "start_time": "2022-05-16T14:57:04.519Z"
   },
   {
    "duration": 33,
    "start_time": "2022-05-16T14:57:04.533Z"
   },
   {
    "duration": 52,
    "start_time": "2022-05-16T14:57:04.572Z"
   },
   {
    "duration": 244,
    "start_time": "2022-05-16T14:57:04.627Z"
   },
   {
    "duration": 0,
    "start_time": "2022-05-16T14:57:04.874Z"
   },
   {
    "duration": 0,
    "start_time": "2022-05-16T14:57:04.875Z"
   },
   {
    "duration": 0,
    "start_time": "2022-05-16T14:57:04.881Z"
   },
   {
    "duration": 0,
    "start_time": "2022-05-16T14:57:04.884Z"
   },
   {
    "duration": 0,
    "start_time": "2022-05-16T14:57:04.891Z"
   },
   {
    "duration": 0,
    "start_time": "2022-05-16T14:57:04.895Z"
   },
   {
    "duration": 0,
    "start_time": "2022-05-16T14:57:04.902Z"
   },
   {
    "duration": 0,
    "start_time": "2022-05-16T14:57:04.906Z"
   },
   {
    "duration": 0,
    "start_time": "2022-05-16T14:57:04.908Z"
   },
   {
    "duration": 0,
    "start_time": "2022-05-16T14:57:04.910Z"
   },
   {
    "duration": 0,
    "start_time": "2022-05-16T14:57:04.912Z"
   },
   {
    "duration": 0,
    "start_time": "2022-05-16T14:57:04.914Z"
   },
   {
    "duration": 0,
    "start_time": "2022-05-16T14:57:04.916Z"
   },
   {
    "duration": 12,
    "start_time": "2022-05-16T14:57:13.317Z"
   },
   {
    "duration": 48,
    "start_time": "2022-05-16T14:57:15.216Z"
   },
   {
    "duration": 763,
    "start_time": "2022-05-16T14:59:55.477Z"
   },
   {
    "duration": 664,
    "start_time": "2022-05-16T15:02:47.270Z"
   },
   {
    "duration": 18,
    "start_time": "2022-05-16T15:04:12.066Z"
   },
   {
    "duration": 334,
    "start_time": "2022-05-16T15:04:20.383Z"
   },
   {
    "duration": 631,
    "start_time": "2022-05-16T15:04:30.337Z"
   },
   {
    "duration": 221,
    "start_time": "2022-05-16T15:04:42.271Z"
   },
   {
    "duration": 273,
    "start_time": "2022-05-16T15:10:25.281Z"
   },
   {
    "duration": 280,
    "start_time": "2022-05-16T15:10:31.397Z"
   },
   {
    "duration": 223,
    "start_time": "2022-05-16T15:10:42.131Z"
   },
   {
    "duration": 235,
    "start_time": "2022-05-16T15:10:46.086Z"
   },
   {
    "duration": 274,
    "start_time": "2022-05-16T15:10:52.153Z"
   },
   {
    "duration": 239,
    "start_time": "2022-05-16T15:10:59.745Z"
   },
   {
    "duration": 205,
    "start_time": "2022-05-16T15:11:20.659Z"
   },
   {
    "duration": 206,
    "start_time": "2022-05-16T15:11:26.159Z"
   },
   {
    "duration": 210,
    "start_time": "2022-05-16T15:11:42.539Z"
   },
   {
    "duration": 274,
    "start_time": "2022-05-16T15:12:34.123Z"
   },
   {
    "duration": 324,
    "start_time": "2022-05-16T15:12:59.535Z"
   },
   {
    "duration": 201,
    "start_time": "2022-05-16T15:13:05.976Z"
   },
   {
    "duration": 259,
    "start_time": "2022-05-16T15:13:13.139Z"
   },
   {
    "duration": 194,
    "start_time": "2022-05-16T15:13:17.680Z"
   },
   {
    "duration": 265,
    "start_time": "2022-05-16T15:13:20.545Z"
   },
   {
    "duration": 239,
    "start_time": "2022-05-16T15:13:39.883Z"
   },
   {
    "duration": 267,
    "start_time": "2022-05-16T15:13:53.697Z"
   },
   {
    "duration": 1648,
    "start_time": "2022-05-16T15:14:10.121Z"
   },
   {
    "duration": 220,
    "start_time": "2022-05-16T15:14:11.774Z"
   },
   {
    "duration": 11,
    "start_time": "2022-05-16T15:14:11.997Z"
   },
   {
    "duration": 45,
    "start_time": "2022-05-16T15:14:12.011Z"
   },
   {
    "duration": 54,
    "start_time": "2022-05-16T15:14:12.059Z"
   },
   {
    "duration": 5,
    "start_time": "2022-05-16T15:14:12.117Z"
   },
   {
    "duration": 41,
    "start_time": "2022-05-16T15:14:12.124Z"
   },
   {
    "duration": 159,
    "start_time": "2022-05-16T15:14:12.167Z"
   },
   {
    "duration": 33,
    "start_time": "2022-05-16T15:14:12.328Z"
   },
   {
    "duration": 15,
    "start_time": "2022-05-16T15:14:12.367Z"
   },
   {
    "duration": 22,
    "start_time": "2022-05-16T15:14:12.387Z"
   },
   {
    "duration": 44,
    "start_time": "2022-05-16T15:14:12.412Z"
   },
   {
    "duration": 92,
    "start_time": "2022-05-16T15:14:12.461Z"
   },
   {
    "duration": 12,
    "start_time": "2022-05-16T15:14:12.556Z"
   },
   {
    "duration": 28,
    "start_time": "2022-05-16T15:14:12.571Z"
   },
   {
    "duration": 15,
    "start_time": "2022-05-16T15:14:12.601Z"
   },
   {
    "duration": 9,
    "start_time": "2022-05-16T15:14:12.618Z"
   },
   {
    "duration": 35,
    "start_time": "2022-05-16T15:14:12.629Z"
   },
   {
    "duration": 23,
    "start_time": "2022-05-16T15:14:12.669Z"
   },
   {
    "duration": 7,
    "start_time": "2022-05-16T15:14:12.695Z"
   },
   {
    "duration": 24,
    "start_time": "2022-05-16T15:14:12.704Z"
   },
   {
    "duration": 6,
    "start_time": "2022-05-16T15:14:12.730Z"
   },
   {
    "duration": 186,
    "start_time": "2022-05-16T15:14:12.753Z"
   },
   {
    "duration": 0,
    "start_time": "2022-05-16T15:14:12.942Z"
   },
   {
    "duration": 0,
    "start_time": "2022-05-16T15:14:12.952Z"
   },
   {
    "duration": 0,
    "start_time": "2022-05-16T15:14:12.953Z"
   },
   {
    "duration": 0,
    "start_time": "2022-05-16T15:14:12.955Z"
   },
   {
    "duration": 0,
    "start_time": "2022-05-16T15:14:12.956Z"
   },
   {
    "duration": 0,
    "start_time": "2022-05-16T15:14:12.958Z"
   },
   {
    "duration": 0,
    "start_time": "2022-05-16T15:14:12.959Z"
   },
   {
    "duration": 0,
    "start_time": "2022-05-16T15:14:12.962Z"
   },
   {
    "duration": 0,
    "start_time": "2022-05-16T15:14:12.964Z"
   },
   {
    "duration": 0,
    "start_time": "2022-05-16T15:14:12.966Z"
   },
   {
    "duration": 0,
    "start_time": "2022-05-16T15:14:12.968Z"
   },
   {
    "duration": 0,
    "start_time": "2022-05-16T15:14:12.969Z"
   },
   {
    "duration": 0,
    "start_time": "2022-05-16T15:14:12.972Z"
   },
   {
    "duration": 0,
    "start_time": "2022-05-16T15:14:12.974Z"
   },
   {
    "duration": 11,
    "start_time": "2022-05-16T15:14:22.714Z"
   },
   {
    "duration": 30,
    "start_time": "2022-05-16T15:14:22.889Z"
   },
   {
    "duration": 636,
    "start_time": "2022-05-16T15:14:24.768Z"
   },
   {
    "duration": 298,
    "start_time": "2022-05-16T15:14:28.716Z"
   },
   {
    "duration": 658,
    "start_time": "2022-05-16T15:15:13.517Z"
   },
   {
    "duration": 270,
    "start_time": "2022-05-16T15:15:20.984Z"
   },
   {
    "duration": 210,
    "start_time": "2022-05-16T15:15:28.468Z"
   },
   {
    "duration": 335,
    "start_time": "2022-05-16T15:17:51.510Z"
   },
   {
    "duration": 400,
    "start_time": "2022-05-16T15:18:13.582Z"
   },
   {
    "duration": 392,
    "start_time": "2022-05-16T15:18:21.596Z"
   },
   {
    "duration": 239,
    "start_time": "2022-05-16T15:18:50.075Z"
   },
   {
    "duration": 404,
    "start_time": "2022-05-16T15:18:58.923Z"
   },
   {
    "duration": 575,
    "start_time": "2022-05-16T15:19:13.182Z"
   },
   {
    "duration": 440,
    "start_time": "2022-05-16T15:19:25.594Z"
   },
   {
    "duration": 603,
    "start_time": "2022-05-16T15:19:45.371Z"
   },
   {
    "duration": 2088,
    "start_time": "2022-05-16T15:20:45.467Z"
   },
   {
    "duration": 299,
    "start_time": "2022-05-16T15:21:24.200Z"
   },
   {
    "duration": 321,
    "start_time": "2022-05-16T15:26:15.099Z"
   },
   {
    "duration": 321,
    "start_time": "2022-05-16T15:26:26.986Z"
   },
   {
    "duration": 311,
    "start_time": "2022-05-16T15:27:08.134Z"
   },
   {
    "duration": 55,
    "start_time": "2022-05-16T15:27:25.720Z"
   },
   {
    "duration": 319,
    "start_time": "2022-05-16T15:29:47.382Z"
   },
   {
    "duration": 350,
    "start_time": "2022-05-16T15:30:12.719Z"
   },
   {
    "duration": 2382,
    "start_time": "2022-05-16T15:30:29.829Z"
   },
   {
    "duration": 53,
    "start_time": "2022-05-16T15:45:23.438Z"
   },
   {
    "duration": 7,
    "start_time": "2022-05-16T15:46:26.714Z"
   },
   {
    "duration": 9,
    "start_time": "2022-05-16T15:46:46.829Z"
   },
   {
    "duration": 1724,
    "start_time": "2022-05-16T15:47:05.533Z"
   },
   {
    "duration": 420,
    "start_time": "2022-05-16T15:47:07.260Z"
   },
   {
    "duration": 38,
    "start_time": "2022-05-16T15:47:07.690Z"
   },
   {
    "duration": 80,
    "start_time": "2022-05-16T15:47:07.737Z"
   },
   {
    "duration": 56,
    "start_time": "2022-05-16T15:47:07.819Z"
   },
   {
    "duration": 20,
    "start_time": "2022-05-16T15:47:07.878Z"
   },
   {
    "duration": 15,
    "start_time": "2022-05-16T15:47:07.900Z"
   },
   {
    "duration": 122,
    "start_time": "2022-05-16T15:47:07.918Z"
   },
   {
    "duration": 31,
    "start_time": "2022-05-16T15:47:08.046Z"
   },
   {
    "duration": 30,
    "start_time": "2022-05-16T15:47:08.082Z"
   },
   {
    "duration": 19,
    "start_time": "2022-05-16T15:47:08.115Z"
   },
   {
    "duration": 14,
    "start_time": "2022-05-16T15:47:08.136Z"
   },
   {
    "duration": 73,
    "start_time": "2022-05-16T15:47:08.152Z"
   },
   {
    "duration": 13,
    "start_time": "2022-05-16T15:47:08.249Z"
   },
   {
    "duration": 30,
    "start_time": "2022-05-16T15:47:08.269Z"
   },
   {
    "duration": 9,
    "start_time": "2022-05-16T15:47:08.302Z"
   },
   {
    "duration": 12,
    "start_time": "2022-05-16T15:47:08.314Z"
   },
   {
    "duration": 28,
    "start_time": "2022-05-16T15:47:08.328Z"
   },
   {
    "duration": 36,
    "start_time": "2022-05-16T15:47:08.359Z"
   },
   {
    "duration": 7,
    "start_time": "2022-05-16T15:47:08.397Z"
   },
   {
    "duration": 25,
    "start_time": "2022-05-16T15:47:08.406Z"
   },
   {
    "duration": 6,
    "start_time": "2022-05-16T15:47:08.434Z"
   },
   {
    "duration": 217,
    "start_time": "2022-05-16T15:47:08.442Z"
   },
   {
    "duration": 0,
    "start_time": "2022-05-16T15:47:08.664Z"
   },
   {
    "duration": 0,
    "start_time": "2022-05-16T15:47:08.666Z"
   },
   {
    "duration": 0,
    "start_time": "2022-05-16T15:47:08.669Z"
   },
   {
    "duration": 0,
    "start_time": "2022-05-16T15:47:08.670Z"
   },
   {
    "duration": 0,
    "start_time": "2022-05-16T15:47:08.672Z"
   },
   {
    "duration": 0,
    "start_time": "2022-05-16T15:47:08.673Z"
   },
   {
    "duration": 0,
    "start_time": "2022-05-16T15:47:08.675Z"
   },
   {
    "duration": 0,
    "start_time": "2022-05-16T15:47:08.676Z"
   },
   {
    "duration": 0,
    "start_time": "2022-05-16T15:47:08.678Z"
   },
   {
    "duration": 0,
    "start_time": "2022-05-16T15:47:08.679Z"
   },
   {
    "duration": 0,
    "start_time": "2022-05-16T15:47:08.681Z"
   },
   {
    "duration": 0,
    "start_time": "2022-05-16T15:47:08.682Z"
   },
   {
    "duration": 0,
    "start_time": "2022-05-16T15:47:08.684Z"
   },
   {
    "duration": 0,
    "start_time": "2022-05-16T15:47:08.685Z"
   },
   {
    "duration": 0,
    "start_time": "2022-05-16T15:47:08.687Z"
   },
   {
    "duration": 0,
    "start_time": "2022-05-16T15:47:08.689Z"
   },
   {
    "duration": 0,
    "start_time": "2022-05-16T15:47:08.690Z"
   },
   {
    "duration": 12,
    "start_time": "2022-05-16T15:47:14.523Z"
   },
   {
    "duration": 50,
    "start_time": "2022-05-16T15:47:14.538Z"
   },
   {
    "duration": 636,
    "start_time": "2022-05-16T15:47:14.591Z"
   },
   {
    "duration": 332,
    "start_time": "2022-05-16T15:47:15.230Z"
   },
   {
    "duration": 493,
    "start_time": "2022-05-16T15:47:15.565Z"
   },
   {
    "duration": 228,
    "start_time": "2022-05-16T15:47:16.063Z"
   },
   {
    "duration": 219,
    "start_time": "2022-05-16T15:47:16.296Z"
   },
   {
    "duration": 366,
    "start_time": "2022-05-16T15:47:16.518Z"
   },
   {
    "duration": 457,
    "start_time": "2022-05-16T15:47:16.887Z"
   },
   {
    "duration": 525,
    "start_time": "2022-05-16T15:47:17.357Z"
   },
   {
    "duration": 2193,
    "start_time": "2022-05-16T15:47:17.887Z"
   },
   {
    "duration": 431,
    "start_time": "2022-05-16T15:47:20.085Z"
   },
   {
    "duration": 401,
    "start_time": "2022-05-16T15:47:20.519Z"
   },
   {
    "duration": 77,
    "start_time": "2022-05-16T15:47:20.924Z"
   },
   {
    "duration": 2542,
    "start_time": "2022-05-16T15:47:21.006Z"
   },
   {
    "duration": 10,
    "start_time": "2022-05-16T15:47:23.556Z"
   },
   {
    "duration": 8,
    "start_time": "2022-05-16T15:47:25.886Z"
   },
   {
    "duration": 28,
    "start_time": "2022-05-16T15:48:33.470Z"
   },
   {
    "duration": 319,
    "start_time": "2022-05-16T15:48:55.267Z"
   },
   {
    "duration": 336,
    "start_time": "2022-05-16T15:50:16.805Z"
   },
   {
    "duration": 340,
    "start_time": "2022-05-16T15:50:22.481Z"
   },
   {
    "duration": 325,
    "start_time": "2022-05-16T15:50:26.417Z"
   },
   {
    "duration": 330,
    "start_time": "2022-05-16T15:50:42.477Z"
   },
   {
    "duration": 1653,
    "start_time": "2022-05-16T15:56:34.515Z"
   },
   {
    "duration": 258,
    "start_time": "2022-05-16T15:56:36.175Z"
   },
   {
    "duration": 17,
    "start_time": "2022-05-16T15:56:36.436Z"
   },
   {
    "duration": 62,
    "start_time": "2022-05-16T15:56:36.459Z"
   },
   {
    "duration": 57,
    "start_time": "2022-05-16T15:56:36.523Z"
   },
   {
    "duration": 8,
    "start_time": "2022-05-16T15:56:36.585Z"
   },
   {
    "duration": 18,
    "start_time": "2022-05-16T15:56:36.596Z"
   },
   {
    "duration": 128,
    "start_time": "2022-05-16T15:56:36.617Z"
   },
   {
    "duration": 36,
    "start_time": "2022-05-16T15:56:36.748Z"
   },
   {
    "duration": 22,
    "start_time": "2022-05-16T15:56:36.788Z"
   },
   {
    "duration": 29,
    "start_time": "2022-05-16T15:56:36.812Z"
   },
   {
    "duration": 19,
    "start_time": "2022-05-16T15:56:36.843Z"
   },
   {
    "duration": 82,
    "start_time": "2022-05-16T15:56:36.864Z"
   },
   {
    "duration": 13,
    "start_time": "2022-05-16T15:56:36.950Z"
   },
   {
    "duration": 33,
    "start_time": "2022-05-16T15:56:36.965Z"
   },
   {
    "duration": 8,
    "start_time": "2022-05-16T15:56:37.000Z"
   },
   {
    "duration": 11,
    "start_time": "2022-05-16T15:56:37.011Z"
   },
   {
    "duration": 13,
    "start_time": "2022-05-16T15:56:37.024Z"
   },
   {
    "duration": 27,
    "start_time": "2022-05-16T15:56:37.039Z"
   },
   {
    "duration": 17,
    "start_time": "2022-05-16T15:56:37.072Z"
   },
   {
    "duration": 28,
    "start_time": "2022-05-16T15:56:37.091Z"
   },
   {
    "duration": 6,
    "start_time": "2022-05-16T15:56:37.121Z"
   },
   {
    "duration": 192,
    "start_time": "2022-05-16T15:56:37.129Z"
   },
   {
    "duration": 0,
    "start_time": "2022-05-16T15:56:37.325Z"
   },
   {
    "duration": 0,
    "start_time": "2022-05-16T15:56:37.327Z"
   },
   {
    "duration": 0,
    "start_time": "2022-05-16T15:56:37.329Z"
   },
   {
    "duration": 0,
    "start_time": "2022-05-16T15:56:37.350Z"
   },
   {
    "duration": 0,
    "start_time": "2022-05-16T15:56:37.352Z"
   },
   {
    "duration": 0,
    "start_time": "2022-05-16T15:56:37.354Z"
   },
   {
    "duration": 0,
    "start_time": "2022-05-16T15:56:37.356Z"
   },
   {
    "duration": 0,
    "start_time": "2022-05-16T15:56:37.357Z"
   },
   {
    "duration": 0,
    "start_time": "2022-05-16T15:56:37.358Z"
   },
   {
    "duration": 0,
    "start_time": "2022-05-16T15:56:37.360Z"
   },
   {
    "duration": 0,
    "start_time": "2022-05-16T15:56:37.363Z"
   },
   {
    "duration": 0,
    "start_time": "2022-05-16T15:56:37.367Z"
   },
   {
    "duration": 0,
    "start_time": "2022-05-16T15:56:37.369Z"
   },
   {
    "duration": 0,
    "start_time": "2022-05-16T15:56:37.371Z"
   },
   {
    "duration": 0,
    "start_time": "2022-05-16T15:56:37.373Z"
   },
   {
    "duration": 0,
    "start_time": "2022-05-16T15:56:37.375Z"
   },
   {
    "duration": 0,
    "start_time": "2022-05-16T15:56:37.377Z"
   },
   {
    "duration": 36,
    "start_time": "2022-05-16T15:57:08.997Z"
   },
   {
    "duration": 44,
    "start_time": "2022-05-16T15:57:09.227Z"
   },
   {
    "duration": 598,
    "start_time": "2022-05-16T15:57:13.032Z"
   },
   {
    "duration": 301,
    "start_time": "2022-05-16T15:57:13.633Z"
   },
   {
    "duration": 486,
    "start_time": "2022-05-16T15:57:13.937Z"
   },
   {
    "duration": 227,
    "start_time": "2022-05-16T15:57:14.426Z"
   },
   {
    "duration": 216,
    "start_time": "2022-05-16T15:57:14.657Z"
   },
   {
    "duration": 340,
    "start_time": "2022-05-16T15:57:14.875Z"
   },
   {
    "duration": 322,
    "start_time": "2022-05-16T15:57:15.218Z"
   },
   {
    "duration": 541,
    "start_time": "2022-05-16T15:57:15.548Z"
   },
   {
    "duration": 2413,
    "start_time": "2022-05-16T15:57:16.091Z"
   },
   {
    "duration": 372,
    "start_time": "2022-05-16T15:57:18.507Z"
   },
   {
    "duration": 389,
    "start_time": "2022-05-16T15:57:18.887Z"
   },
   {
    "duration": 41,
    "start_time": "2022-05-16T15:57:19.279Z"
   },
   {
    "duration": 2333,
    "start_time": "2022-05-16T15:57:19.322Z"
   },
   {
    "duration": 8,
    "start_time": "2022-05-16T15:57:21.657Z"
   },
   {
    "duration": 330,
    "start_time": "2022-05-16T15:57:42.270Z"
   },
   {
    "duration": 1392,
    "start_time": "2022-05-21T18:42:53.349Z"
   },
   {
    "duration": 334,
    "start_time": "2022-05-21T18:42:55.925Z"
   },
   {
    "duration": 7,
    "start_time": "2022-05-21T18:51:45.157Z"
   },
   {
    "duration": 11,
    "start_time": "2022-05-21T18:52:30.797Z"
   },
   {
    "duration": 5,
    "start_time": "2022-05-21T18:52:52.069Z"
   },
   {
    "duration": 8,
    "start_time": "2022-05-21T18:53:57.686Z"
   },
   {
    "duration": 8,
    "start_time": "2022-05-21T18:54:23.580Z"
   },
   {
    "duration": 7,
    "start_time": "2022-05-21T18:54:27.256Z"
   },
   {
    "duration": 7,
    "start_time": "2022-05-21T18:54:40.232Z"
   },
   {
    "duration": 9,
    "start_time": "2022-05-21T18:56:03.134Z"
   },
   {
    "duration": 210,
    "start_time": "2022-05-21T18:56:44.682Z"
   },
   {
    "duration": 51,
    "start_time": "2022-05-21T19:03:34.946Z"
   },
   {
    "duration": 112,
    "start_time": "2022-05-21T19:03:41.790Z"
   },
   {
    "duration": 289,
    "start_time": "2022-05-21T19:04:24.727Z"
   },
   {
    "duration": 14,
    "start_time": "2022-05-21T19:10:11.540Z"
   },
   {
    "duration": 35,
    "start_time": "2022-05-21T19:10:34.398Z"
   },
   {
    "duration": 37,
    "start_time": "2022-05-21T19:11:43.201Z"
   },
   {
    "duration": 36,
    "start_time": "2022-05-21T19:12:25.337Z"
   },
   {
    "duration": 4,
    "start_time": "2022-05-21T19:20:19.939Z"
   },
   {
    "duration": 5,
    "start_time": "2022-05-21T19:21:44.682Z"
   },
   {
    "duration": 9,
    "start_time": "2022-05-21T19:23:31.735Z"
   },
   {
    "duration": 1214,
    "start_time": "2022-05-21T19:23:43.924Z"
   },
   {
    "duration": 91,
    "start_time": "2022-05-21T19:23:45.143Z"
   },
   {
    "duration": 9,
    "start_time": "2022-05-21T19:23:45.240Z"
   },
   {
    "duration": 18,
    "start_time": "2022-05-21T19:23:45.251Z"
   },
   {
    "duration": 37,
    "start_time": "2022-05-21T19:23:45.270Z"
   },
   {
    "duration": 31,
    "start_time": "2022-05-21T19:23:45.309Z"
   },
   {
    "duration": 11,
    "start_time": "2022-05-21T19:23:45.342Z"
   },
   {
    "duration": 91,
    "start_time": "2022-05-21T19:23:45.355Z"
   },
   {
    "duration": 14,
    "start_time": "2022-05-21T19:23:45.448Z"
   },
   {
    "duration": 25,
    "start_time": "2022-05-21T19:23:45.465Z"
   },
   {
    "duration": 26,
    "start_time": "2022-05-21T19:23:45.492Z"
   },
   {
    "duration": 28,
    "start_time": "2022-05-21T19:23:45.525Z"
   },
   {
    "duration": 53,
    "start_time": "2022-05-21T19:23:45.554Z"
   },
   {
    "duration": 46,
    "start_time": "2022-05-21T19:23:45.609Z"
   },
   {
    "duration": 5,
    "start_time": "2022-05-21T19:23:45.657Z"
   },
   {
    "duration": 17,
    "start_time": "2022-05-21T19:23:45.664Z"
   },
   {
    "duration": 85,
    "start_time": "2022-05-21T19:23:45.683Z"
   },
   {
    "duration": 19,
    "start_time": "2022-05-21T19:23:45.770Z"
   },
   {
    "duration": 6,
    "start_time": "2022-05-21T19:23:45.791Z"
   },
   {
    "duration": 55,
    "start_time": "2022-05-21T19:23:45.798Z"
   },
   {
    "duration": 53,
    "start_time": "2022-05-21T19:23:45.855Z"
   },
   {
    "duration": 30,
    "start_time": "2022-05-21T19:23:45.910Z"
   },
   {
    "duration": 16,
    "start_time": "2022-05-21T19:23:45.942Z"
   },
   {
    "duration": 27,
    "start_time": "2022-05-21T19:23:45.960Z"
   },
   {
    "duration": 63,
    "start_time": "2022-05-21T19:23:45.989Z"
   },
   {
    "duration": 424,
    "start_time": "2022-05-21T19:23:46.054Z"
   },
   {
    "duration": 236,
    "start_time": "2022-05-21T19:23:46.480Z"
   },
   {
    "duration": 348,
    "start_time": "2022-05-21T19:23:46.720Z"
   },
   {
    "duration": 202,
    "start_time": "2022-05-21T19:23:47.070Z"
   },
   {
    "duration": 183,
    "start_time": "2022-05-21T19:23:47.274Z"
   },
   {
    "duration": 170,
    "start_time": "2022-05-21T19:23:47.458Z"
   },
   {
    "duration": 228,
    "start_time": "2022-05-21T19:23:47.630Z"
   },
   {
    "duration": 377,
    "start_time": "2022-05-21T19:23:47.860Z"
   },
   {
    "duration": 1404,
    "start_time": "2022-05-21T19:23:48.239Z"
   },
   {
    "duration": 223,
    "start_time": "2022-05-21T19:23:49.645Z"
   },
   {
    "duration": 211,
    "start_time": "2022-05-21T19:23:49.870Z"
   },
   {
    "duration": 39,
    "start_time": "2022-05-21T19:23:50.082Z"
   },
   {
    "duration": 1634,
    "start_time": "2022-05-21T19:23:50.122Z"
   },
   {
    "duration": 5,
    "start_time": "2022-05-21T19:23:51.758Z"
   },
   {
    "duration": 221,
    "start_time": "2022-05-21T19:23:51.764Z"
   },
   {
    "duration": 3,
    "start_time": "2022-05-21T19:24:18.990Z"
   },
   {
    "duration": 7,
    "start_time": "2022-05-21T19:24:21.926Z"
   },
   {
    "duration": 8,
    "start_time": "2022-05-21T19:24:39.792Z"
   },
   {
    "duration": 7,
    "start_time": "2022-05-21T19:25:00.491Z"
   },
   {
    "duration": 6,
    "start_time": "2022-05-21T19:25:10.845Z"
   },
   {
    "duration": 7,
    "start_time": "2022-05-21T19:25:30.894Z"
   },
   {
    "duration": 38,
    "start_time": "2022-05-21T19:27:02.316Z"
   },
   {
    "duration": 12,
    "start_time": "2022-05-21T19:29:36.210Z"
   },
   {
    "duration": 335,
    "start_time": "2022-05-21T19:31:48.641Z"
   },
   {
    "duration": 109,
    "start_time": "2022-05-21T19:36:35.584Z"
   },
   {
    "duration": 55,
    "start_time": "2022-05-21T19:36:45.771Z"
   },
   {
    "duration": 54,
    "start_time": "2022-05-21T19:36:56.874Z"
   },
   {
    "duration": 50,
    "start_time": "2022-05-21T19:37:05.892Z"
   },
   {
    "duration": 48,
    "start_time": "2022-05-21T19:37:27.682Z"
   },
   {
    "duration": 50,
    "start_time": "2022-05-21T19:37:34.607Z"
   },
   {
    "duration": 44,
    "start_time": "2022-05-21T19:37:38.053Z"
   },
   {
    "duration": 61,
    "start_time": "2022-05-21T19:37:47.350Z"
   },
   {
    "duration": 53,
    "start_time": "2022-05-21T19:37:58.626Z"
   },
   {
    "duration": 1428,
    "start_time": "2022-05-21T19:38:42.489Z"
   },
   {
    "duration": 243,
    "start_time": "2022-05-21T19:38:43.931Z"
   },
   {
    "duration": 14,
    "start_time": "2022-05-21T19:38:44.181Z"
   },
   {
    "duration": 75,
    "start_time": "2022-05-21T19:38:44.198Z"
   },
   {
    "duration": 49,
    "start_time": "2022-05-21T19:38:44.275Z"
   },
   {
    "duration": 39,
    "start_time": "2022-05-21T19:38:44.327Z"
   },
   {
    "duration": 16,
    "start_time": "2022-05-21T19:38:44.368Z"
   },
   {
    "duration": 136,
    "start_time": "2022-05-21T19:38:44.387Z"
   },
   {
    "duration": 25,
    "start_time": "2022-05-21T19:38:44.524Z"
   },
   {
    "duration": 17,
    "start_time": "2022-05-21T19:38:44.554Z"
   },
   {
    "duration": 66,
    "start_time": "2022-05-21T19:38:44.582Z"
   },
   {
    "duration": 28,
    "start_time": "2022-05-21T19:38:44.654Z"
   },
   {
    "duration": 54,
    "start_time": "2022-05-21T19:38:44.685Z"
   },
   {
    "duration": 38,
    "start_time": "2022-05-21T19:38:44.741Z"
   },
   {
    "duration": 5,
    "start_time": "2022-05-21T19:38:44.781Z"
   },
   {
    "duration": 23,
    "start_time": "2022-05-21T19:38:44.788Z"
   },
   {
    "duration": 55,
    "start_time": "2022-05-21T19:38:44.812Z"
   },
   {
    "duration": 7,
    "start_time": "2022-05-21T19:38:44.869Z"
   },
   {
    "duration": 9,
    "start_time": "2022-05-21T19:38:44.878Z"
   },
   {
    "duration": 21,
    "start_time": "2022-05-21T19:38:44.889Z"
   },
   {
    "duration": 66,
    "start_time": "2022-05-21T19:38:44.911Z"
   },
   {
    "duration": 16,
    "start_time": "2022-05-21T19:38:44.979Z"
   },
   {
    "duration": 94,
    "start_time": "2022-05-21T19:38:44.997Z"
   },
   {
    "duration": 74,
    "start_time": "2022-05-21T19:38:45.095Z"
   },
   {
    "duration": 11,
    "start_time": "2022-05-21T19:38:45.175Z"
   },
   {
    "duration": 544,
    "start_time": "2022-05-21T19:38:45.188Z"
   },
   {
    "duration": 258,
    "start_time": "2022-05-21T19:38:45.734Z"
   },
   {
    "duration": 360,
    "start_time": "2022-05-21T19:38:45.996Z"
   },
   {
    "duration": 135,
    "start_time": "2022-05-21T19:38:46.360Z"
   },
   {
    "duration": 194,
    "start_time": "2022-05-21T19:38:46.497Z"
   },
   {
    "duration": 168,
    "start_time": "2022-05-21T19:38:46.694Z"
   },
   {
    "duration": 231,
    "start_time": "2022-05-21T19:38:46.864Z"
   },
   {
    "duration": 519,
    "start_time": "2022-05-21T19:38:47.098Z"
   },
   {
    "duration": 1160,
    "start_time": "2022-05-21T19:38:47.625Z"
   },
   {
    "duration": 0,
    "start_time": "2022-05-21T19:38:48.790Z"
   },
   {
    "duration": 0,
    "start_time": "2022-05-21T19:38:48.795Z"
   },
   {
    "duration": 0,
    "start_time": "2022-05-21T19:38:48.799Z"
   },
   {
    "duration": 0,
    "start_time": "2022-05-21T19:38:48.803Z"
   },
   {
    "duration": 0,
    "start_time": "2022-05-21T19:38:48.807Z"
   },
   {
    "duration": 0,
    "start_time": "2022-05-21T19:38:48.812Z"
   },
   {
    "duration": 56,
    "start_time": "2022-05-21T19:39:17.518Z"
   },
   {
    "duration": 29,
    "start_time": "2022-05-21T19:45:26.096Z"
   },
   {
    "duration": 18,
    "start_time": "2022-05-21T19:47:15.801Z"
   },
   {
    "duration": 239,
    "start_time": "2022-05-21T19:49:48.339Z"
   },
   {
    "duration": 241,
    "start_time": "2022-05-21T19:51:10.697Z"
   },
   {
    "duration": 297,
    "start_time": "2022-05-21T19:51:29.574Z"
   },
   {
    "duration": 139,
    "start_time": "2022-05-21T19:51:42.828Z"
   },
   {
    "duration": 120,
    "start_time": "2022-05-21T19:51:52.752Z"
   },
   {
    "duration": 161,
    "start_time": "2022-05-21T19:51:59.187Z"
   },
   {
    "duration": 302,
    "start_time": "2022-05-21T19:52:06.833Z"
   },
   {
    "duration": 196,
    "start_time": "2022-05-21T19:53:40.341Z"
   },
   {
    "duration": 187,
    "start_time": "2022-05-21T19:55:53.092Z"
   },
   {
    "duration": 207,
    "start_time": "2022-05-21T20:10:57.095Z"
   },
   {
    "duration": 189,
    "start_time": "2022-05-21T20:13:46.483Z"
   },
   {
    "duration": 203,
    "start_time": "2022-05-21T20:31:42.124Z"
   },
   {
    "duration": 194,
    "start_time": "2022-05-21T20:31:52.959Z"
   },
   {
    "duration": 12,
    "start_time": "2022-05-21T20:35:02.692Z"
   },
   {
    "duration": 7,
    "start_time": "2022-05-21T20:35:13.025Z"
   },
   {
    "duration": 256,
    "start_time": "2022-05-21T20:35:14.906Z"
   },
   {
    "duration": 12,
    "start_time": "2022-05-21T20:49:06.462Z"
   },
   {
    "duration": 200,
    "start_time": "2022-05-21T20:49:08.887Z"
   },
   {
    "duration": 64,
    "start_time": "2022-05-23T18:19:21.275Z"
   },
   {
    "duration": 1591,
    "start_time": "2022-05-23T18:19:31.726Z"
   },
   {
    "duration": 243,
    "start_time": "2022-05-23T18:19:33.320Z"
   },
   {
    "duration": 10,
    "start_time": "2022-05-23T18:19:33.566Z"
   },
   {
    "duration": 26,
    "start_time": "2022-05-23T18:19:33.579Z"
   },
   {
    "duration": 47,
    "start_time": "2022-05-23T18:19:33.608Z"
   },
   {
    "duration": 8,
    "start_time": "2022-05-23T18:19:33.657Z"
   },
   {
    "duration": 31,
    "start_time": "2022-05-23T18:19:33.667Z"
   },
   {
    "duration": 101,
    "start_time": "2022-05-23T18:19:33.703Z"
   },
   {
    "duration": 15,
    "start_time": "2022-05-23T18:19:33.806Z"
   },
   {
    "duration": 7,
    "start_time": "2022-05-23T18:19:33.825Z"
   },
   {
    "duration": 18,
    "start_time": "2022-05-23T18:19:33.834Z"
   },
   {
    "duration": 45,
    "start_time": "2022-05-23T18:19:33.854Z"
   },
   {
    "duration": 60,
    "start_time": "2022-05-23T18:19:33.901Z"
   },
   {
    "duration": 50,
    "start_time": "2022-05-23T18:19:33.963Z"
   },
   {
    "duration": 7,
    "start_time": "2022-05-23T18:19:34.015Z"
   },
   {
    "duration": 11,
    "start_time": "2022-05-23T18:19:34.024Z"
   },
   {
    "duration": 7,
    "start_time": "2022-05-23T18:19:34.038Z"
   },
   {
    "duration": 17,
    "start_time": "2022-05-23T18:19:34.047Z"
   },
   {
    "duration": 36,
    "start_time": "2022-05-23T18:19:34.066Z"
   },
   {
    "duration": 10,
    "start_time": "2022-05-23T18:19:34.104Z"
   },
   {
    "duration": 23,
    "start_time": "2022-05-23T18:19:34.116Z"
   },
   {
    "duration": 14,
    "start_time": "2022-05-23T18:19:34.142Z"
   },
   {
    "duration": 19,
    "start_time": "2022-05-23T18:19:34.157Z"
   },
   {
    "duration": 44,
    "start_time": "2022-05-23T18:19:34.178Z"
   },
   {
    "duration": 435,
    "start_time": "2022-05-23T18:19:34.224Z"
   },
   {
    "duration": 5,
    "start_time": "2022-05-23T18:19:34.663Z"
   },
   {
    "duration": 0,
    "start_time": "2022-05-23T18:19:34.670Z"
   },
   {
    "duration": 0,
    "start_time": "2022-05-23T18:19:34.672Z"
   },
   {
    "duration": 0,
    "start_time": "2022-05-23T18:19:34.673Z"
   },
   {
    "duration": 0,
    "start_time": "2022-05-23T18:19:34.675Z"
   },
   {
    "duration": 0,
    "start_time": "2022-05-23T18:19:34.676Z"
   },
   {
    "duration": 0,
    "start_time": "2022-05-23T18:19:34.695Z"
   },
   {
    "duration": 0,
    "start_time": "2022-05-23T18:19:34.697Z"
   },
   {
    "duration": 0,
    "start_time": "2022-05-23T18:19:34.699Z"
   },
   {
    "duration": 0,
    "start_time": "2022-05-23T18:19:34.700Z"
   },
   {
    "duration": 0,
    "start_time": "2022-05-23T18:19:34.701Z"
   },
   {
    "duration": 0,
    "start_time": "2022-05-23T18:19:34.702Z"
   },
   {
    "duration": 0,
    "start_time": "2022-05-23T18:19:34.703Z"
   },
   {
    "duration": 0,
    "start_time": "2022-05-23T18:19:34.705Z"
   },
   {
    "duration": 0,
    "start_time": "2022-05-23T18:19:34.706Z"
   },
   {
    "duration": 0,
    "start_time": "2022-05-23T18:19:34.707Z"
   },
   {
    "duration": 0,
    "start_time": "2022-05-23T18:19:34.708Z"
   },
   {
    "duration": 0,
    "start_time": "2022-05-23T18:19:34.709Z"
   },
   {
    "duration": 0,
    "start_time": "2022-05-23T18:19:34.710Z"
   },
   {
    "duration": 0,
    "start_time": "2022-05-23T18:19:34.711Z"
   },
   {
    "duration": 0,
    "start_time": "2022-05-23T18:19:34.712Z"
   },
   {
    "duration": 164,
    "start_time": "2022-05-23T18:19:40.029Z"
   },
   {
    "duration": 491,
    "start_time": "2022-05-23T18:23:42.376Z"
   },
   {
    "duration": 7,
    "start_time": "2022-05-23T18:23:54.228Z"
   },
   {
    "duration": 379,
    "start_time": "2022-05-23T18:24:44.415Z"
   },
   {
    "duration": 1454,
    "start_time": "2022-05-23T18:24:59.013Z"
   },
   {
    "duration": 96,
    "start_time": "2022-05-23T18:25:00.470Z"
   },
   {
    "duration": 10,
    "start_time": "2022-05-23T18:25:00.568Z"
   },
   {
    "duration": 34,
    "start_time": "2022-05-23T18:25:00.581Z"
   },
   {
    "duration": 46,
    "start_time": "2022-05-23T18:25:00.617Z"
   },
   {
    "duration": 3,
    "start_time": "2022-05-23T18:25:00.666Z"
   },
   {
    "duration": 16,
    "start_time": "2022-05-23T18:25:00.695Z"
   },
   {
    "duration": 122,
    "start_time": "2022-05-23T18:25:00.713Z"
   },
   {
    "duration": 19,
    "start_time": "2022-05-23T18:25:00.837Z"
   },
   {
    "duration": 33,
    "start_time": "2022-05-23T18:25:00.860Z"
   },
   {
    "duration": 40,
    "start_time": "2022-05-23T18:25:00.895Z"
   },
   {
    "duration": 37,
    "start_time": "2022-05-23T18:25:00.937Z"
   },
   {
    "duration": 58,
    "start_time": "2022-05-23T18:25:00.976Z"
   },
   {
    "duration": 39,
    "start_time": "2022-05-23T18:25:01.039Z"
   },
   {
    "duration": 22,
    "start_time": "2022-05-23T18:25:01.080Z"
   },
   {
    "duration": 41,
    "start_time": "2022-05-23T18:25:01.105Z"
   },
   {
    "duration": 27,
    "start_time": "2022-05-23T18:25:01.148Z"
   },
   {
    "duration": 29,
    "start_time": "2022-05-23T18:25:01.177Z"
   },
   {
    "duration": 28,
    "start_time": "2022-05-23T18:25:01.208Z"
   },
   {
    "duration": 20,
    "start_time": "2022-05-23T18:25:01.238Z"
   },
   {
    "duration": 28,
    "start_time": "2022-05-23T18:25:01.259Z"
   },
   {
    "duration": 36,
    "start_time": "2022-05-23T18:25:01.290Z"
   },
   {
    "duration": 61,
    "start_time": "2022-05-23T18:25:01.328Z"
   },
   {
    "duration": 33,
    "start_time": "2022-05-23T18:25:01.392Z"
   },
   {
    "duration": 39,
    "start_time": "2022-05-23T18:25:01.427Z"
   },
   {
    "duration": 476,
    "start_time": "2022-05-23T18:25:01.468Z"
   },
   {
    "duration": 283,
    "start_time": "2022-05-23T18:25:01.946Z"
   },
   {
    "duration": 372,
    "start_time": "2022-05-23T18:25:02.235Z"
   },
   {
    "duration": 181,
    "start_time": "2022-05-23T18:25:02.610Z"
   },
   {
    "duration": 234,
    "start_time": "2022-05-23T18:25:02.795Z"
   },
   {
    "duration": 385,
    "start_time": "2022-05-23T18:25:03.032Z"
   },
   {
    "duration": 492,
    "start_time": "2022-05-23T18:25:03.419Z"
   },
   {
    "duration": 833,
    "start_time": "2022-05-23T18:25:03.913Z"
   },
   {
    "duration": 3,
    "start_time": "2022-05-23T18:25:04.796Z"
   },
   {
    "duration": 520,
    "start_time": "2022-05-23T18:25:04.802Z"
   },
   {
    "duration": 497,
    "start_time": "2022-05-23T18:25:05.324Z"
   },
   {
    "duration": 516,
    "start_time": "2022-05-23T18:25:05.823Z"
   },
   {
    "duration": 502,
    "start_time": "2022-05-23T18:25:06.397Z"
   },
   {
    "duration": 515,
    "start_time": "2022-05-23T18:25:06.901Z"
   },
   {
    "duration": 521,
    "start_time": "2022-05-23T18:25:07.418Z"
   },
   {
    "duration": 455,
    "start_time": "2022-05-23T18:25:07.994Z"
   },
   {
    "duration": 183,
    "start_time": "2022-05-23T18:25:08.452Z"
   },
   {
    "duration": 0,
    "start_time": "2022-05-23T18:25:08.637Z"
   },
   {
    "duration": 0,
    "start_time": "2022-05-23T18:25:08.639Z"
   },
   {
    "duration": 0,
    "start_time": "2022-05-23T18:25:08.640Z"
   },
   {
    "duration": 159,
    "start_time": "2022-05-23T18:25:18.021Z"
   },
   {
    "duration": 168,
    "start_time": "2022-05-23T18:25:34.434Z"
   },
   {
    "duration": 160,
    "start_time": "2022-05-23T18:26:19.243Z"
   },
   {
    "duration": 172,
    "start_time": "2022-05-23T18:26:35.726Z"
   },
   {
    "duration": 1389,
    "start_time": "2022-05-23T18:28:16.776Z"
   },
   {
    "duration": 142,
    "start_time": "2022-05-23T18:28:18.168Z"
   },
   {
    "duration": 13,
    "start_time": "2022-05-23T18:28:18.312Z"
   },
   {
    "duration": 34,
    "start_time": "2022-05-23T18:28:18.327Z"
   },
   {
    "duration": 43,
    "start_time": "2022-05-23T18:28:18.363Z"
   },
   {
    "duration": 4,
    "start_time": "2022-05-23T18:28:18.408Z"
   },
   {
    "duration": 19,
    "start_time": "2022-05-23T18:28:18.414Z"
   },
   {
    "duration": 119,
    "start_time": "2022-05-23T18:28:18.435Z"
   },
   {
    "duration": 15,
    "start_time": "2022-05-23T18:28:18.556Z"
   },
   {
    "duration": 25,
    "start_time": "2022-05-23T18:28:18.574Z"
   },
   {
    "duration": 19,
    "start_time": "2022-05-23T18:28:18.601Z"
   },
   {
    "duration": 16,
    "start_time": "2022-05-23T18:28:18.623Z"
   },
   {
    "duration": 82,
    "start_time": "2022-05-23T18:28:18.640Z"
   },
   {
    "duration": 41,
    "start_time": "2022-05-23T18:28:18.723Z"
   },
   {
    "duration": 5,
    "start_time": "2022-05-23T18:28:18.766Z"
   },
   {
    "duration": 23,
    "start_time": "2022-05-23T18:28:18.773Z"
   },
   {
    "duration": 11,
    "start_time": "2022-05-23T18:28:18.798Z"
   },
   {
    "duration": 33,
    "start_time": "2022-05-23T18:28:18.812Z"
   },
   {
    "duration": 14,
    "start_time": "2022-05-23T18:28:18.847Z"
   },
   {
    "duration": 16,
    "start_time": "2022-05-23T18:28:18.864Z"
   },
   {
    "duration": 19,
    "start_time": "2022-05-23T18:28:18.882Z"
   },
   {
    "duration": 35,
    "start_time": "2022-05-23T18:28:18.904Z"
   },
   {
    "duration": 6,
    "start_time": "2022-05-23T18:28:18.942Z"
   },
   {
    "duration": 27,
    "start_time": "2022-05-23T18:28:18.950Z"
   },
   {
    "duration": 36,
    "start_time": "2022-05-23T18:28:18.980Z"
   },
   {
    "duration": 537,
    "start_time": "2022-05-23T18:28:19.020Z"
   },
   {
    "duration": 232,
    "start_time": "2022-05-23T18:28:19.559Z"
   },
   {
    "duration": 320,
    "start_time": "2022-05-23T18:28:19.795Z"
   },
   {
    "duration": 146,
    "start_time": "2022-05-23T18:28:20.118Z"
   },
   {
    "duration": 144,
    "start_time": "2022-05-23T18:28:20.266Z"
   },
   {
    "duration": 307,
    "start_time": "2022-05-23T18:28:20.412Z"
   },
   {
    "duration": 482,
    "start_time": "2022-05-23T18:28:20.721Z"
   },
   {
    "duration": 930,
    "start_time": "2022-05-23T18:28:21.205Z"
   },
   {
    "duration": 58,
    "start_time": "2022-05-23T18:28:22.137Z"
   },
   {
    "duration": 628,
    "start_time": "2022-05-23T18:28:22.198Z"
   },
   {
    "duration": 369,
    "start_time": "2022-05-23T18:28:22.828Z"
   },
   {
    "duration": 233,
    "start_time": "2022-05-23T18:28:23.200Z"
   },
   {
    "duration": 231,
    "start_time": "2022-05-23T18:28:23.436Z"
   },
   {
    "duration": 291,
    "start_time": "2022-05-23T18:28:23.669Z"
   },
   {
    "duration": 227,
    "start_time": "2022-05-23T18:28:23.961Z"
   },
   {
    "duration": 243,
    "start_time": "2022-05-23T18:28:24.194Z"
   },
   {
    "duration": 135,
    "start_time": "2022-05-23T18:28:24.439Z"
   },
   {
    "duration": 0,
    "start_time": "2022-05-23T18:28:24.576Z"
   },
   {
    "duration": 0,
    "start_time": "2022-05-23T18:28:24.577Z"
   },
   {
    "duration": 0,
    "start_time": "2022-05-23T18:28:24.578Z"
   },
   {
    "duration": 330,
    "start_time": "2022-05-23T18:28:48.721Z"
   },
   {
    "duration": 380,
    "start_time": "2022-05-23T18:29:40.537Z"
   },
   {
    "duration": 268,
    "start_time": "2022-05-23T18:30:10.426Z"
   },
   {
    "duration": 37,
    "start_time": "2022-05-23T18:31:13.266Z"
   },
   {
    "duration": 211,
    "start_time": "2022-05-23T18:31:19.117Z"
   },
   {
    "duration": 371,
    "start_time": "2022-05-23T18:34:34.135Z"
   },
   {
    "duration": 16,
    "start_time": "2022-05-23T18:34:42.161Z"
   },
   {
    "duration": 16,
    "start_time": "2022-05-23T18:34:45.218Z"
   },
   {
    "duration": 32,
    "start_time": "2022-05-23T18:35:23.107Z"
   },
   {
    "duration": 12,
    "start_time": "2022-05-23T18:36:33.305Z"
   },
   {
    "duration": 213,
    "start_time": "2022-05-23T18:36:34.643Z"
   },
   {
    "duration": 10,
    "start_time": "2022-05-23T18:38:29.852Z"
   },
   {
    "duration": 237,
    "start_time": "2022-05-23T18:38:31.319Z"
   },
   {
    "duration": 21,
    "start_time": "2022-05-23T18:45:01.725Z"
   },
   {
    "duration": 29,
    "start_time": "2022-05-23T18:45:11.682Z"
   },
   {
    "duration": 883,
    "start_time": "2022-05-23T18:45:42.664Z"
   },
   {
    "duration": 534,
    "start_time": "2022-05-23T18:45:51.361Z"
   },
   {
    "duration": 293,
    "start_time": "2022-05-23T18:46:27.165Z"
   },
   {
    "duration": 209,
    "start_time": "2022-05-23T18:47:04.525Z"
   },
   {
    "duration": 256,
    "start_time": "2022-05-23T18:47:47.257Z"
   },
   {
    "duration": 153,
    "start_time": "2022-05-23T18:48:10.389Z"
   },
   {
    "duration": 214,
    "start_time": "2022-05-23T18:48:24.390Z"
   },
   {
    "duration": 155,
    "start_time": "2022-05-23T18:48:29.365Z"
   },
   {
    "duration": 368,
    "start_time": "2022-05-23T18:49:07.649Z"
   },
   {
    "duration": 237,
    "start_time": "2022-05-23T18:49:39.350Z"
   },
   {
    "duration": 205,
    "start_time": "2022-05-23T18:49:52.395Z"
   },
   {
    "duration": 149,
    "start_time": "2022-05-23T18:50:04.103Z"
   },
   {
    "duration": 181,
    "start_time": "2022-05-23T18:50:07.985Z"
   },
   {
    "duration": 228,
    "start_time": "2022-05-23T18:50:16.310Z"
   },
   {
    "duration": 293,
    "start_time": "2022-05-23T18:50:22.112Z"
   },
   {
    "duration": 220,
    "start_time": "2022-05-23T18:50:34.140Z"
   },
   {
    "duration": 222,
    "start_time": "2022-05-23T18:50:52.165Z"
   },
   {
    "duration": 244,
    "start_time": "2022-05-23T18:50:58.775Z"
   },
   {
    "duration": 397,
    "start_time": "2022-05-23T18:51:05.170Z"
   },
   {
    "duration": 231,
    "start_time": "2022-05-23T18:52:18.275Z"
   },
   {
    "duration": 214,
    "start_time": "2022-05-23T18:53:13.649Z"
   },
   {
    "duration": 269,
    "start_time": "2022-05-23T18:53:39.962Z"
   },
   {
    "duration": 228,
    "start_time": "2022-05-23T18:54:04.656Z"
   },
   {
    "duration": 210,
    "start_time": "2022-05-23T18:54:15.567Z"
   },
   {
    "duration": 244,
    "start_time": "2022-05-23T18:54:33.199Z"
   },
   {
    "duration": 192,
    "start_time": "2022-05-23T18:55:43.224Z"
   },
   {
    "duration": 208,
    "start_time": "2022-05-23T18:56:03.071Z"
   },
   {
    "duration": 198,
    "start_time": "2022-05-23T18:56:48.219Z"
   },
   {
    "duration": 231,
    "start_time": "2022-05-23T18:57:43.096Z"
   },
   {
    "duration": 207,
    "start_time": "2022-05-23T18:58:26.676Z"
   },
   {
    "duration": 3,
    "start_time": "2022-05-23T19:03:29.713Z"
   },
   {
    "duration": 31,
    "start_time": "2022-05-23T19:06:04.391Z"
   },
   {
    "duration": 230,
    "start_time": "2022-05-23T19:06:34.665Z"
   },
   {
    "duration": 21,
    "start_time": "2022-05-23T19:27:04.220Z"
   },
   {
    "duration": 6,
    "start_time": "2022-05-23T19:27:07.474Z"
   },
   {
    "duration": 14,
    "start_time": "2022-05-23T19:29:01.071Z"
   },
   {
    "duration": 8,
    "start_time": "2022-05-23T19:29:59.363Z"
   },
   {
    "duration": 9,
    "start_time": "2022-05-23T19:30:02.188Z"
   },
   {
    "duration": 13,
    "start_time": "2022-05-23T19:30:07.286Z"
   },
   {
    "duration": 38,
    "start_time": "2022-05-23T19:34:33.878Z"
   },
   {
    "duration": 7,
    "start_time": "2022-05-23T19:34:41.495Z"
   },
   {
    "duration": 44,
    "start_time": "2022-05-23T19:37:01.013Z"
   },
   {
    "duration": 6,
    "start_time": "2022-05-23T19:41:17.890Z"
   },
   {
    "duration": 35,
    "start_time": "2022-05-23T19:42:15.056Z"
   },
   {
    "duration": 31,
    "start_time": "2022-05-23T19:42:22.121Z"
   },
   {
    "duration": 1340,
    "start_time": "2022-05-24T17:58:18.153Z"
   },
   {
    "duration": 127,
    "start_time": "2022-05-24T17:58:19.495Z"
   },
   {
    "duration": 8,
    "start_time": "2022-05-24T17:58:21.185Z"
   },
   {
    "duration": 18,
    "start_time": "2022-05-24T17:58:21.741Z"
   },
   {
    "duration": 32,
    "start_time": "2022-05-24T17:58:23.663Z"
   },
   {
    "duration": 4,
    "start_time": "2022-05-24T17:58:24.073Z"
   },
   {
    "duration": 10,
    "start_time": "2022-05-24T17:58:25.834Z"
   },
   {
    "duration": 15,
    "start_time": "2022-05-24T17:58:38.022Z"
   },
   {
    "duration": 11,
    "start_time": "2022-05-24T17:58:44.334Z"
   },
   {
    "duration": 1468,
    "start_time": "2022-05-25T17:25:56.756Z"
   },
   {
    "duration": 290,
    "start_time": "2022-05-25T17:25:58.227Z"
   },
   {
    "duration": 13,
    "start_time": "2022-05-25T17:25:58.519Z"
   },
   {
    "duration": 24,
    "start_time": "2022-05-25T17:25:58.539Z"
   },
   {
    "duration": 62,
    "start_time": "2022-05-25T17:25:58.565Z"
   },
   {
    "duration": 9,
    "start_time": "2022-05-25T17:25:58.630Z"
   },
   {
    "duration": 16,
    "start_time": "2022-05-25T17:25:58.641Z"
   },
   {
    "duration": 92,
    "start_time": "2022-05-25T17:25:58.660Z"
   },
   {
    "duration": 14,
    "start_time": "2022-05-25T17:25:58.753Z"
   },
   {
    "duration": 6,
    "start_time": "2022-05-25T17:25:58.769Z"
   },
   {
    "duration": 35,
    "start_time": "2022-05-25T17:25:58.776Z"
   },
   {
    "duration": 17,
    "start_time": "2022-05-25T17:25:58.814Z"
   },
   {
    "duration": 41,
    "start_time": "2022-05-25T17:25:58.833Z"
   },
   {
    "duration": 63,
    "start_time": "2022-05-25T17:25:58.875Z"
   },
   {
    "duration": 6,
    "start_time": "2022-05-25T17:25:58.939Z"
   },
   {
    "duration": 6,
    "start_time": "2022-05-25T17:25:58.946Z"
   },
   {
    "duration": 8,
    "start_time": "2022-05-25T17:25:58.954Z"
   },
   {
    "duration": 8,
    "start_time": "2022-05-25T17:25:58.964Z"
   },
   {
    "duration": 29,
    "start_time": "2022-05-25T17:25:58.974Z"
   },
   {
    "duration": 11,
    "start_time": "2022-05-25T17:25:59.005Z"
   },
   {
    "duration": 12,
    "start_time": "2022-05-25T17:25:59.020Z"
   },
   {
    "duration": 17,
    "start_time": "2022-05-25T17:25:59.033Z"
   },
   {
    "duration": 4,
    "start_time": "2022-05-25T17:25:59.051Z"
   },
   {
    "duration": 9,
    "start_time": "2022-05-25T17:25:59.056Z"
   },
   {
    "duration": 58,
    "start_time": "2022-05-25T17:25:59.066Z"
   },
   {
    "duration": 395,
    "start_time": "2022-05-25T17:25:59.125Z"
   },
   {
    "duration": 219,
    "start_time": "2022-05-25T17:25:59.522Z"
   },
   {
    "duration": 274,
    "start_time": "2022-05-25T17:25:59.744Z"
   },
   {
    "duration": 130,
    "start_time": "2022-05-25T17:26:00.020Z"
   },
   {
    "duration": 140,
    "start_time": "2022-05-25T17:26:00.152Z"
   },
   {
    "duration": 157,
    "start_time": "2022-05-25T17:26:00.301Z"
   },
   {
    "duration": 204,
    "start_time": "2022-05-25T17:26:00.460Z"
   },
   {
    "duration": 356,
    "start_time": "2022-05-25T17:26:00.666Z"
   },
   {
    "duration": 3,
    "start_time": "2022-05-25T17:26:01.024Z"
   },
   {
    "duration": 264,
    "start_time": "2022-05-25T17:26:01.028Z"
   },
   {
    "duration": 243,
    "start_time": "2022-05-25T17:26:01.295Z"
   },
   {
    "duration": 218,
    "start_time": "2022-05-25T17:26:01.540Z"
   },
   {
    "duration": 224,
    "start_time": "2022-05-25T17:26:01.761Z"
   },
   {
    "duration": 349,
    "start_time": "2022-05-25T17:26:01.987Z"
   },
   {
    "duration": 477,
    "start_time": "2022-05-25T17:26:02.338Z"
   },
   {
    "duration": 35,
    "start_time": "2022-05-25T17:26:02.817Z"
   },
   {
    "duration": 51,
    "start_time": "2022-05-25T17:26:02.854Z"
   },
   {
    "duration": 33,
    "start_time": "2022-05-25T17:26:02.907Z"
   },
   {
    "duration": 495,
    "start_time": "2022-05-25T17:26:02.942Z"
   },
   {
    "duration": 67,
    "start_time": "2022-05-25T17:26:03.438Z"
   },
   {
    "duration": 12,
    "start_time": "2022-05-25T17:26:03.508Z"
   },
   {
    "duration": 429,
    "start_time": "2022-05-25T17:26:03.522Z"
   },
   {
    "duration": 353,
    "start_time": "2022-05-25T17:26:04.003Z"
   },
   {
    "duration": 307,
    "start_time": "2022-05-25T17:26:04.358Z"
   },
   {
    "duration": 153,
    "start_time": "2022-05-25T17:26:04.667Z"
   },
   {
    "duration": 181,
    "start_time": "2022-05-25T17:26:04.822Z"
   },
   {
    "duration": 208,
    "start_time": "2022-05-25T17:26:05.006Z"
   },
   {
    "duration": 212,
    "start_time": "2022-05-25T17:26:05.217Z"
   },
   {
    "duration": 198,
    "start_time": "2022-05-25T17:26:05.431Z"
   },
   {
    "duration": 213,
    "start_time": "2022-05-25T17:26:05.630Z"
   },
   {
    "duration": 216,
    "start_time": "2022-05-25T17:26:05.845Z"
   },
   {
    "duration": 210,
    "start_time": "2022-05-25T17:26:06.064Z"
   },
   {
    "duration": 199,
    "start_time": "2022-05-25T17:28:24.625Z"
   },
   {
    "duration": 56,
    "start_time": "2022-11-06T11:51:38.859Z"
   },
   {
    "duration": 1490,
    "start_time": "2022-11-06T11:52:21.190Z"
   },
   {
    "duration": 197,
    "start_time": "2022-11-06T11:52:22.683Z"
   },
   {
    "duration": 9,
    "start_time": "2022-11-06T11:52:22.882Z"
   },
   {
    "duration": 35,
    "start_time": "2022-11-06T11:52:22.893Z"
   },
   {
    "duration": 43,
    "start_time": "2022-11-06T11:52:22.933Z"
   },
   {
    "duration": 11,
    "start_time": "2022-11-06T11:52:22.979Z"
   },
   {
    "duration": 14,
    "start_time": "2022-11-06T11:52:22.992Z"
   },
   {
    "duration": 133,
    "start_time": "2022-11-06T11:52:23.008Z"
   },
   {
    "duration": 13,
    "start_time": "2022-11-06T11:52:23.147Z"
   },
   {
    "duration": 17,
    "start_time": "2022-11-06T11:52:23.163Z"
   },
   {
    "duration": 34,
    "start_time": "2022-11-06T11:52:23.181Z"
   },
   {
    "duration": 48,
    "start_time": "2022-11-06T11:52:23.217Z"
   },
   {
    "duration": 41,
    "start_time": "2022-11-06T11:52:23.267Z"
   },
   {
    "duration": 45,
    "start_time": "2022-11-06T11:52:23.310Z"
   },
   {
    "duration": 6,
    "start_time": "2022-11-06T11:52:23.357Z"
   },
   {
    "duration": 17,
    "start_time": "2022-11-06T11:52:23.365Z"
   },
   {
    "duration": 12,
    "start_time": "2022-11-06T11:52:23.384Z"
   },
   {
    "duration": 60,
    "start_time": "2022-11-06T11:52:23.398Z"
   },
   {
    "duration": 10,
    "start_time": "2022-11-06T11:52:23.459Z"
   },
   {
    "duration": 9,
    "start_time": "2022-11-06T11:52:23.471Z"
   },
   {
    "duration": 16,
    "start_time": "2022-11-06T11:52:23.481Z"
   },
   {
    "duration": 67,
    "start_time": "2022-11-06T11:52:23.499Z"
   },
   {
    "duration": 13,
    "start_time": "2022-11-06T11:52:23.568Z"
   },
   {
    "duration": 17,
    "start_time": "2022-11-06T11:52:23.583Z"
   },
   {
    "duration": 30,
    "start_time": "2022-11-06T11:52:23.602Z"
   },
   {
    "duration": 383,
    "start_time": "2022-11-06T11:52:23.634Z"
   },
   {
    "duration": 235,
    "start_time": "2022-11-06T11:52:24.020Z"
   },
   {
    "duration": 312,
    "start_time": "2022-11-06T11:52:24.258Z"
   },
   {
    "duration": 162,
    "start_time": "2022-11-06T11:52:24.572Z"
   },
   {
    "duration": 213,
    "start_time": "2022-11-06T11:52:24.737Z"
   },
   {
    "duration": 180,
    "start_time": "2022-11-06T11:52:24.953Z"
   },
   {
    "duration": 208,
    "start_time": "2022-11-06T11:52:25.139Z"
   },
   {
    "duration": 279,
    "start_time": "2022-11-06T11:52:25.350Z"
   },
   {
    "duration": 2,
    "start_time": "2022-11-06T11:52:25.631Z"
   },
   {
    "duration": 261,
    "start_time": "2022-11-06T11:52:25.634Z"
   },
   {
    "duration": 219,
    "start_time": "2022-11-06T11:52:25.896Z"
   },
   {
    "duration": 244,
    "start_time": "2022-11-06T11:52:26.120Z"
   },
   {
    "duration": 215,
    "start_time": "2022-11-06T11:52:26.366Z"
   },
   {
    "duration": 219,
    "start_time": "2022-11-06T11:52:26.584Z"
   },
   {
    "duration": 309,
    "start_time": "2022-11-06T11:52:26.804Z"
   },
   {
    "duration": 38,
    "start_time": "2022-11-06T11:52:27.126Z"
   },
   {
    "duration": 5,
    "start_time": "2022-11-06T11:52:27.166Z"
   },
   {
    "duration": 52,
    "start_time": "2022-11-06T11:52:27.173Z"
   },
   {
    "duration": 253,
    "start_time": "2022-11-06T11:52:27.230Z"
   },
   {
    "duration": 27,
    "start_time": "2022-11-06T11:52:27.484Z"
   },
   {
    "duration": 10,
    "start_time": "2022-11-06T11:52:27.514Z"
   },
   {
    "duration": 248,
    "start_time": "2022-11-06T11:52:27.529Z"
   },
   {
    "duration": 206,
    "start_time": "2022-11-06T11:52:27.779Z"
   },
   {
    "duration": 226,
    "start_time": "2022-11-06T11:52:27.987Z"
   },
   {
    "duration": 165,
    "start_time": "2022-11-06T11:52:28.214Z"
   },
   {
    "duration": 191,
    "start_time": "2022-11-06T11:52:28.381Z"
   },
   {
    "duration": 205,
    "start_time": "2022-11-06T11:52:28.574Z"
   },
   {
    "duration": 260,
    "start_time": "2022-11-06T11:52:28.781Z"
   },
   {
    "duration": 211,
    "start_time": "2022-11-06T11:52:29.044Z"
   },
   {
    "duration": 317,
    "start_time": "2022-11-06T11:52:29.258Z"
   },
   {
    "duration": 226,
    "start_time": "2022-11-06T11:52:29.578Z"
   },
   {
    "duration": 235,
    "start_time": "2022-11-06T11:52:29.806Z"
   },
   {
    "duration": 21,
    "start_time": "2022-11-06T11:55:25.067Z"
   },
   {
    "duration": 119,
    "start_time": "2022-11-06T11:56:25.262Z"
   },
   {
    "duration": 203,
    "start_time": "2022-11-06T11:57:49.083Z"
   },
   {
    "duration": 34,
    "start_time": "2022-11-06T11:58:21.008Z"
   },
   {
    "duration": 31,
    "start_time": "2022-11-06T11:58:39.834Z"
   },
   {
    "duration": 31,
    "start_time": "2022-11-06T11:58:45.587Z"
   },
   {
    "duration": 51,
    "start_time": "2022-11-06T12:00:18.332Z"
   },
   {
    "duration": 36,
    "start_time": "2022-11-06T12:00:51.599Z"
   },
   {
    "duration": 62,
    "start_time": "2022-11-06T12:01:19.313Z"
   },
   {
    "duration": 201,
    "start_time": "2022-11-06T12:01:58.548Z"
   },
   {
    "duration": 233,
    "start_time": "2022-11-06T12:03:48.842Z"
   },
   {
    "duration": 209,
    "start_time": "2022-11-06T12:03:57.944Z"
   },
   {
    "duration": 11,
    "start_time": "2022-11-06T12:04:33.443Z"
   },
   {
    "duration": 196,
    "start_time": "2022-11-06T12:04:40.114Z"
   },
   {
    "duration": 1174,
    "start_time": "2022-11-06T12:06:53.601Z"
   },
   {
    "duration": 156,
    "start_time": "2022-11-06T12:06:54.777Z"
   },
   {
    "duration": 7,
    "start_time": "2022-11-06T12:06:54.936Z"
   },
   {
    "duration": 16,
    "start_time": "2022-11-06T12:06:54.945Z"
   },
   {
    "duration": 31,
    "start_time": "2022-11-06T12:06:54.962Z"
   },
   {
    "duration": 3,
    "start_time": "2022-11-06T12:06:54.995Z"
   },
   {
    "duration": 43,
    "start_time": "2022-11-06T12:06:54.999Z"
   },
   {
    "duration": 72,
    "start_time": "2022-11-06T12:06:55.044Z"
   },
   {
    "duration": 23,
    "start_time": "2022-11-06T12:06:55.118Z"
   },
   {
    "duration": 6,
    "start_time": "2022-11-06T12:06:55.144Z"
   },
   {
    "duration": 19,
    "start_time": "2022-11-06T12:06:55.152Z"
   },
   {
    "duration": 13,
    "start_time": "2022-11-06T12:06:55.172Z"
   },
   {
    "duration": 61,
    "start_time": "2022-11-06T12:06:55.186Z"
   },
   {
    "duration": 35,
    "start_time": "2022-11-06T12:06:55.249Z"
   },
   {
    "duration": 6,
    "start_time": "2022-11-06T12:06:55.286Z"
   },
   {
    "duration": 8,
    "start_time": "2022-11-06T12:06:55.293Z"
   },
   {
    "duration": 5,
    "start_time": "2022-11-06T12:06:55.331Z"
   },
   {
    "duration": 16,
    "start_time": "2022-11-06T12:06:55.342Z"
   },
   {
    "duration": 15,
    "start_time": "2022-11-06T12:06:55.360Z"
   },
   {
    "duration": 14,
    "start_time": "2022-11-06T12:06:55.376Z"
   },
   {
    "duration": 22,
    "start_time": "2022-11-06T12:06:55.392Z"
   },
   {
    "duration": 36,
    "start_time": "2022-11-06T12:06:55.415Z"
   },
   {
    "duration": 5,
    "start_time": "2022-11-06T12:06:55.452Z"
   },
   {
    "duration": 14,
    "start_time": "2022-11-06T12:06:55.458Z"
   },
   {
    "duration": 32,
    "start_time": "2022-11-06T12:06:55.474Z"
   },
   {
    "duration": 329,
    "start_time": "2022-11-06T12:06:55.507Z"
   },
   {
    "duration": 204,
    "start_time": "2022-11-06T12:06:55.838Z"
   },
   {
    "duration": 287,
    "start_time": "2022-11-06T12:06:56.046Z"
   },
   {
    "duration": 129,
    "start_time": "2022-11-06T12:06:56.336Z"
   },
   {
    "duration": 241,
    "start_time": "2022-11-06T12:06:56.467Z"
   },
   {
    "duration": 226,
    "start_time": "2022-11-06T12:06:56.710Z"
   },
   {
    "duration": 249,
    "start_time": "2022-11-06T12:06:56.938Z"
   },
   {
    "duration": 210,
    "start_time": "2022-11-06T12:06:57.189Z"
   },
   {
    "duration": 193,
    "start_time": "2022-11-06T12:06:57.401Z"
   },
   {
    "duration": 212,
    "start_time": "2022-11-06T12:06:57.596Z"
   },
   {
    "duration": 226,
    "start_time": "2022-11-06T12:06:57.811Z"
   },
   {
    "duration": 214,
    "start_time": "2022-11-06T12:06:58.039Z"
   },
   {
    "duration": 208,
    "start_time": "2022-11-06T12:06:58.254Z"
   },
   {
    "duration": 31,
    "start_time": "2022-11-06T12:06:58.463Z"
   },
   {
    "duration": 5,
    "start_time": "2022-11-06T12:06:58.495Z"
   },
   {
    "duration": 30,
    "start_time": "2022-11-06T12:06:58.520Z"
   },
   {
    "duration": 299,
    "start_time": "2022-11-06T12:06:58.552Z"
   },
   {
    "duration": 262,
    "start_time": "2022-11-06T12:06:58.852Z"
   },
   {
    "duration": 13,
    "start_time": "2022-11-06T12:06:59.116Z"
   },
   {
    "duration": 229,
    "start_time": "2022-11-06T12:06:59.138Z"
   },
   {
    "duration": 185,
    "start_time": "2022-11-06T12:06:59.369Z"
   },
   {
    "duration": 228,
    "start_time": "2022-11-06T12:06:59.556Z"
   },
   {
    "duration": 173,
    "start_time": "2022-11-06T12:06:59.785Z"
   },
   {
    "duration": 202,
    "start_time": "2022-11-06T12:06:59.960Z"
   },
   {
    "duration": 226,
    "start_time": "2022-11-06T12:07:00.164Z"
   },
   {
    "duration": 201,
    "start_time": "2022-11-06T12:07:00.392Z"
   },
   {
    "duration": 202,
    "start_time": "2022-11-06T12:07:00.595Z"
   },
   {
    "duration": 304,
    "start_time": "2022-11-06T12:07:00.799Z"
   },
   {
    "duration": 234,
    "start_time": "2022-11-06T12:07:01.105Z"
   },
   {
    "duration": 206,
    "start_time": "2022-11-06T12:07:01.341Z"
   }
  ],
  "kernelspec": {
   "display_name": "Python 3 (ipykernel)",
   "language": "python",
   "name": "python3"
  },
  "language_info": {
   "codemirror_mode": {
    "name": "ipython",
    "version": 3
   },
   "file_extension": ".py",
   "mimetype": "text/x-python",
   "name": "python",
   "nbconvert_exporter": "python",
   "pygments_lexer": "ipython3",
   "version": "3.9.5"
  },
  "toc": {
   "base_numbering": 1,
   "nav_menu": {},
   "number_sections": true,
   "sideBar": true,
   "skip_h1_title": true,
   "title_cell": "Содержание",
   "title_sidebar": "Contents",
   "toc_cell": true,
   "toc_position": {
    "height": "calc(100% - 180px)",
    "left": "10px",
    "top": "150px",
    "width": "165px"
   },
   "toc_section_display": true,
   "toc_window_display": true
  }
 },
 "nbformat": 4,
 "nbformat_minor": 4
}
