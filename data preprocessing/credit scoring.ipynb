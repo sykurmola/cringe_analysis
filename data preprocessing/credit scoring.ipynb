{
 "cells": [
  {
   "cell_type": "markdown",
   "id": "9b06e7c7",
   "metadata": {},
   "source": [
    "# Исследование надежности заемщиков"
   ]
  },
  {
   "cell_type": "markdown",
   "id": "86ea0621",
   "metadata": {},
   "source": [
    "На основе полученнных данных я попробую выявить взаимосвязь между семейным поолжением, количеством детей и другими характеристиками клиентов и их платёжеспособностью. Результаты исследования можно будет использовать для построения модели кредитного скоринга. "
   ]
  },
  {
   "cell_type": "markdown",
   "id": "ceeb22c3",
   "metadata": {},
   "source": [
    "### Шаг 1. Обзор данных"
   ]
  },
  {
   "cell_type": "code",
   "execution_count": 1,
   "id": "b1050771",
   "metadata": {
    "scrolled": true
   },
   "outputs": [
    {
     "name": "stdout",
     "output_type": "stream",
     "text": [
      "<class 'pandas.core.frame.DataFrame'>\n",
      "RangeIndex: 21525 entries, 0 to 21524\n",
      "Data columns (total 12 columns):\n",
      " #   Column            Non-Null Count  Dtype  \n",
      "---  ------            --------------  -----  \n",
      " 0   children          21525 non-null  int64  \n",
      " 1   days_employed     19351 non-null  float64\n",
      " 2   dob_years         21525 non-null  int64  \n",
      " 3   education         21525 non-null  object \n",
      " 4   education_id      21525 non-null  int64  \n",
      " 5   family_status     21525 non-null  object \n",
      " 6   family_status_id  21525 non-null  int64  \n",
      " 7   gender            21525 non-null  object \n",
      " 8   income_type       21525 non-null  object \n",
      " 9   debt              21525 non-null  int64  \n",
      " 10  total_income      19351 non-null  float64\n",
      " 11  purpose           21525 non-null  object \n",
      "dtypes: float64(2), int64(5), object(5)\n",
      "memory usage: 2.0+ MB\n"
     ]
    }
   ],
   "source": [
    "import pandas as pd\n",
    "data = pd.read_csv('/datasets/data.csv')\n",
    "data.info()"
   ]
  },
  {
   "cell_type": "markdown",
   "id": "29c8df62",
   "metadata": {},
   "source": [
    "### Шаг 2.1 Заполнение пропусков"
   ]
  },
  {
   "cell_type": "markdown",
   "id": "af04de8a",
   "metadata": {},
   "source": [
    "Пропущены значения в столбцах days_employed, total_income, причём количество пропущенных значений в этих столбцах одинаковое и составляет примерно 10% от общего количества значений. Пропуски могли возникнуть из-за того, что клиенты не трудоустроены официально и не указали эту информацию. Пропущенные количественные переменные лучше заменить медианным значением, т.к. среднее значение некорректно характеризует данные, когда некоторые значения сильно выделяются среди большинства. Медианное значение позволяет получить более объективный результат. "
   ]
  },
  {
   "cell_type": "code",
   "execution_count": 2,
   "id": "21b66f69",
   "metadata": {
    "scrolled": false
   },
   "outputs": [
    {
     "name": "stdout",
     "output_type": "stream",
     "text": [
      "2174\n",
      "2174\n",
      "0.10099883855981417\n",
      "<class 'pandas.core.frame.DataFrame'>\n",
      "RangeIndex: 21525 entries, 0 to 21524\n",
      "Data columns (total 12 columns):\n",
      " #   Column            Non-Null Count  Dtype  \n",
      "---  ------            --------------  -----  \n",
      " 0   children          21525 non-null  int64  \n",
      " 1   days_employed     19351 non-null  float64\n",
      " 2   dob_years         21525 non-null  int64  \n",
      " 3   education         21525 non-null  object \n",
      " 4   education_id      21525 non-null  int64  \n",
      " 5   family_status     21525 non-null  object \n",
      " 6   family_status_id  21525 non-null  int64  \n",
      " 7   gender            21525 non-null  object \n",
      " 8   income_type       21525 non-null  object \n",
      " 9   debt              21525 non-null  int64  \n",
      " 10  total_income      21525 non-null  float64\n",
      " 11  purpose           21525 non-null  object \n",
      "dtypes: float64(2), int64(5), object(5)\n",
      "memory usage: 2.0+ MB\n"
     ]
    }
   ],
   "source": [
    "print(len(data[data['days_employed'].isna()])) \n",
    "print(len(data[data['total_income'].isna()])) \n",
    "print(len(data[data['days_employed'].isna()])/len(data))\n",
    "data['total_income'] = data['total_income'].fillna(data['total_income'].median())\n",
    "data.info()"
   ]
  },
  {
   "cell_type": "markdown",
   "id": "44dd760e",
   "metadata": {},
   "source": [
    "### Шаг 2.2 Проверка данных на аномалии и исправления."
   ]
  },
  {
   "cell_type": "markdown",
   "id": "f76485fb",
   "metadata": {},
   "source": [
    "* days_employed - отрицательные значения, слишком точные значения. отрицательные значения я заменяю на равные им по модулю, взятые с положительным знаком, и во всём столбце отбрасываю дробную часть \n",
    "* children - отрицательные значения заменяю на положительные аналогично days_employed, слишком большие значения заменяю медианным\n",
    "* dob_years - нулевые значения. заменяю медианным\n",
    "\n",
    "Мне кажется, что выявленные в этих столбцах ошибки больше всего похожи на ошибки пользователей (опечатки) или ошибки разработки (в ячейках указан неверный тип данных)"
   ]
  },
  {
   "cell_type": "code",
   "execution_count": 3,
   "id": "d51a346c",
   "metadata": {},
   "outputs": [],
   "source": [
    "# обработка значений трудового стажа\n",
    "\n",
    "rows = (data['days_employed'] < 0)\n",
    "data.loc[rows, 'days_employed'] = data['days_employed']*(-1)\n",
    "data['days_employed'] = data['days_employed'].fillna(data['days_employed'].median())\n",
    "data['days_employed'] = data['days_employed'].astype(int)"
   ]
  },
  {
   "cell_type": "code",
   "execution_count": 4,
   "id": "de469775",
   "metadata": {},
   "outputs": [],
   "source": [
    "# обработка количества детей\n",
    "\n",
    "rows = (data['children']>5) \n",
    "data.loc[rows, 'children'] = data['children'].median()\n",
    "rows = (data['children']<0)\n",
    "data.loc[rows, 'children'] = data['children']*(-1)\n",
    "data['children'].value_counts()\n",
    "data['children'] = data['children'].astype(int)"
   ]
  },
  {
   "cell_type": "code",
   "execution_count": 5,
   "id": "f2661eff",
   "metadata": {},
   "outputs": [],
   "source": [
    "# обработка возраста\n",
    "\n",
    "rows = (data['dob_years'] == 0)\n",
    "data.loc[rows, 'dob_years'] = data['dob_years'].median()"
   ]
  },
  {
   "cell_type": "code",
   "execution_count": 6,
   "id": "a1f0a0a4",
   "metadata": {},
   "outputs": [
    {
     "name": "stdout",
     "output_type": "stream",
     "text": [
      "В столбце children 0 отрицательных значения\n",
      "В столбце days_employed 0 отрицательных значения\n",
      "В столбце dob_years 0 отрицательных значения\n",
      "Столбец education не числовой столбец\n",
      "В столбце education_id 0 отрицательных значения\n",
      "Столбец family_status не числовой столбец\n",
      "В столбце family_status_id 0 отрицательных значения\n",
      "Столбец gender не числовой столбец\n",
      "Столбец income_type не числовой столбец\n",
      "В столбце debt 0 отрицательных значения\n",
      "В столбце total_income 0 отрицательных значения\n",
      "Столбец purpose не числовой столбец\n"
     ]
    }
   ],
   "source": [
    "for column in data:\n",
    "    try:\n",
    "        print(\"В столбце\",column,data[data[column]<0][column].count(),\"отрицательных значения\")\n",
    "       \n",
    "    except:\n",
    "        print(\"Столбец\",column,'не числовой столбец')"
   ]
  },
  {
   "cell_type": "markdown",
   "id": "a4a5ca6f",
   "metadata": {},
   "source": [
    "### Шаг 2.3. Изменение типов данных."
   ]
  },
  {
   "cell_type": "code",
   "execution_count": 7,
   "id": "68ec2672",
   "metadata": {},
   "outputs": [],
   "source": [
    "data['total_income'] = data['total_income'].astype(int)"
   ]
  },
  {
   "cell_type": "markdown",
   "id": "6a147824",
   "metadata": {},
   "source": [
    "### Шаг 2.4. Удаление дубликатов."
   ]
  },
  {
   "cell_type": "markdown",
   "id": "18446676",
   "metadata": {},
   "source": [
    "Если в данных присутствуют строки-дубликаты, удалите их. Также обработайте неявные дубликаты. Например, в столбце education есть одни и те же значения, но записанные по-разному: с использованием заглавных и строчных букв. Приведите их к одному регистру. Проверьте остальные столбцы.\n",
    "После удаления дубликатов сделайте следующее:\n",
    "\n",
    "    поясните, как выбирали метод для поиска и удаления дубликатов в данных;\n",
    "    приведите возможные причины появления дубликатов."
   ]
  },
  {
   "cell_type": "markdown",
   "id": "dc849b7a",
   "metadata": {},
   "source": [
    "Для поиска дубликатов я использовала метод value_counts, там, где встречаются значения, которые отличаются только заглавными и строчными буквами, привела их к одному регистру. Дубликаты могли возникнуть из-за опечаток при ручном вводе, особенно если не были заранее оговорены требования к заполнению таблицы"
   ]
  },
  {
   "cell_type": "code",
   "execution_count": 8,
   "id": "e5c95203",
   "metadata": {},
   "outputs": [
    {
     "name": "stdout",
     "output_type": "stream",
     "text": [
      "среднее                15233\n",
      "высшее                  5260\n",
      "неоконченное высшее      744\n",
      "начальное                282\n",
      "ученая степень             6\n",
      "Name: education, dtype: int64\n",
      "женат / замужем          12380\n",
      "гражданский брак          4177\n",
      "Не женат / не замужем     2813\n",
      "в разводе                 1195\n",
      "вдовец / вдова             960\n",
      "Name: family_status, dtype: int64\n",
      "сотрудник          11119\n",
      "компаньон           5085\n",
      "пенсионер           3856\n",
      "госслужащий         1459\n",
      "безработный            2\n",
      "предприниматель        2\n",
      "студент                1\n",
      "в декрете              1\n",
      "Name: income_type, dtype: int64\n",
      "свадьба                                   797\n",
      "на проведение свадьбы                     777\n",
      "сыграть свадьбу                           774\n",
      "операции с недвижимостью                  676\n",
      "покупка коммерческой недвижимости         664\n",
      "операции с жильем                         653\n",
      "покупка жилья для сдачи                   653\n",
      "операции с коммерческой недвижимостью     651\n",
      "покупка жилья                             647\n",
      "жилье                                     647\n",
      "покупка жилья для семьи                   641\n",
      "строительство собственной недвижимости    635\n",
      "недвижимость                              634\n",
      "операции со своей недвижимостью           630\n",
      "строительство жилой недвижимости          626\n",
      "покупка недвижимости                      624\n",
      "покупка своего жилья                      620\n",
      "строительство недвижимости                620\n",
      "ремонт жилью                              612\n",
      "покупка жилой недвижимости                607\n",
      "на покупку своего автомобиля              505\n",
      "заняться высшим образованием              496\n",
      "автомобиль                                495\n",
      "сделка с подержанным автомобилем          489\n",
      "свой автомобиль                           480\n",
      "на покупку подержанного автомобиля        479\n",
      "автомобили                                478\n",
      "на покупку автомобиля                     472\n",
      "приобретение автомобиля                   462\n",
      "дополнительное образование                462\n",
      "сделка с автомобилем                      455\n",
      "высшее образование                        453\n",
      "образование                               447\n",
      "получение дополнительного образования     447\n",
      "получение образования                     443\n",
      "профильное образование                    436\n",
      "получение высшего образования             426\n",
      "заняться образованием                     412\n",
      "Name: purpose, dtype: int64\n"
     ]
    }
   ],
   "source": [
    "data['education'] = data['education'].str.lower()\n",
    "print(data['education'].value_counts())\n",
    "print(data['family_status'].value_counts())\n",
    "print(data['income_type'].value_counts())\n",
    "print(data['purpose'].value_counts())\n",
    "\n",
    "data = data.drop_duplicates()"
   ]
  },
  {
   "cell_type": "markdown",
   "id": "1c0ee6c6",
   "metadata": {},
   "source": [
    "### Шаг 2.5. Формирование дополнительных датафреймов словарей, декомпозиция исходного датафрейма."
   ]
  },
  {
   "cell_type": "code",
   "execution_count": 9,
   "id": "556966e8",
   "metadata": {},
   "outputs": [],
   "source": [
    "new_data_1 = data[['education', 'education_id']].copy()\n",
    "new_data_2 = data[['family_status', 'family_status_id']].copy()\n",
    "new_data_1.drop_duplicates()\n",
    "new_data_2.drop_duplicates()\n",
    "data = data.drop(columns = ['education', 'family_status'], axis = 1)\n"
   ]
  },
  {
   "cell_type": "markdown",
   "id": "e2039630",
   "metadata": {},
   "source": [
    "### Шаг 2.6. Категоризация дохода."
   ]
  },
  {
   "cell_type": "code",
   "execution_count": 10,
   "id": "39f844f1",
   "metadata": {
    "scrolled": false
   },
   "outputs": [
    {
     "data": {
      "text/html": [
       "<div>\n",
       "<style scoped>\n",
       "    .dataframe tbody tr th:only-of-type {\n",
       "        vertical-align: middle;\n",
       "    }\n",
       "\n",
       "    .dataframe tbody tr th {\n",
       "        vertical-align: top;\n",
       "    }\n",
       "\n",
       "    .dataframe thead th {\n",
       "        text-align: right;\n",
       "    }\n",
       "</style>\n",
       "<table border=\"1\" class=\"dataframe\">\n",
       "  <thead>\n",
       "    <tr style=\"text-align: right;\">\n",
       "      <th></th>\n",
       "      <th>children</th>\n",
       "      <th>days_employed</th>\n",
       "      <th>dob_years</th>\n",
       "      <th>education_id</th>\n",
       "      <th>family_status_id</th>\n",
       "      <th>gender</th>\n",
       "      <th>income_type</th>\n",
       "      <th>debt</th>\n",
       "      <th>total_income</th>\n",
       "      <th>purpose</th>\n",
       "      <th>total_income_category</th>\n",
       "    </tr>\n",
       "  </thead>\n",
       "  <tbody>\n",
       "    <tr>\n",
       "      <th>0</th>\n",
       "      <td>1</td>\n",
       "      <td>8437</td>\n",
       "      <td>42.0</td>\n",
       "      <td>0</td>\n",
       "      <td>0</td>\n",
       "      <td>F</td>\n",
       "      <td>сотрудник</td>\n",
       "      <td>0</td>\n",
       "      <td>253875</td>\n",
       "      <td>покупка жилья</td>\n",
       "      <td>B</td>\n",
       "    </tr>\n",
       "    <tr>\n",
       "      <th>1</th>\n",
       "      <td>1</td>\n",
       "      <td>4024</td>\n",
       "      <td>36.0</td>\n",
       "      <td>1</td>\n",
       "      <td>0</td>\n",
       "      <td>F</td>\n",
       "      <td>сотрудник</td>\n",
       "      <td>0</td>\n",
       "      <td>112080</td>\n",
       "      <td>приобретение автомобиля</td>\n",
       "      <td>C</td>\n",
       "    </tr>\n",
       "    <tr>\n",
       "      <th>2</th>\n",
       "      <td>0</td>\n",
       "      <td>5623</td>\n",
       "      <td>33.0</td>\n",
       "      <td>1</td>\n",
       "      <td>0</td>\n",
       "      <td>M</td>\n",
       "      <td>сотрудник</td>\n",
       "      <td>0</td>\n",
       "      <td>145885</td>\n",
       "      <td>покупка жилья</td>\n",
       "      <td>C</td>\n",
       "    </tr>\n",
       "    <tr>\n",
       "      <th>3</th>\n",
       "      <td>3</td>\n",
       "      <td>4124</td>\n",
       "      <td>32.0</td>\n",
       "      <td>1</td>\n",
       "      <td>0</td>\n",
       "      <td>M</td>\n",
       "      <td>сотрудник</td>\n",
       "      <td>0</td>\n",
       "      <td>267628</td>\n",
       "      <td>дополнительное образование</td>\n",
       "      <td>B</td>\n",
       "    </tr>\n",
       "    <tr>\n",
       "      <th>4</th>\n",
       "      <td>0</td>\n",
       "      <td>340266</td>\n",
       "      <td>53.0</td>\n",
       "      <td>1</td>\n",
       "      <td>1</td>\n",
       "      <td>F</td>\n",
       "      <td>пенсионер</td>\n",
       "      <td>0</td>\n",
       "      <td>158616</td>\n",
       "      <td>сыграть свадьбу</td>\n",
       "      <td>C</td>\n",
       "    </tr>\n",
       "    <tr>\n",
       "      <th>...</th>\n",
       "      <td>...</td>\n",
       "      <td>...</td>\n",
       "      <td>...</td>\n",
       "      <td>...</td>\n",
       "      <td>...</td>\n",
       "      <td>...</td>\n",
       "      <td>...</td>\n",
       "      <td>...</td>\n",
       "      <td>...</td>\n",
       "      <td>...</td>\n",
       "      <td>...</td>\n",
       "    </tr>\n",
       "    <tr>\n",
       "      <th>21520</th>\n",
       "      <td>1</td>\n",
       "      <td>4529</td>\n",
       "      <td>43.0</td>\n",
       "      <td>1</td>\n",
       "      <td>1</td>\n",
       "      <td>F</td>\n",
       "      <td>компаньон</td>\n",
       "      <td>0</td>\n",
       "      <td>224791</td>\n",
       "      <td>операции с жильем</td>\n",
       "      <td>B</td>\n",
       "    </tr>\n",
       "    <tr>\n",
       "      <th>21521</th>\n",
       "      <td>0</td>\n",
       "      <td>343937</td>\n",
       "      <td>67.0</td>\n",
       "      <td>1</td>\n",
       "      <td>0</td>\n",
       "      <td>F</td>\n",
       "      <td>пенсионер</td>\n",
       "      <td>0</td>\n",
       "      <td>155999</td>\n",
       "      <td>сделка с автомобилем</td>\n",
       "      <td>C</td>\n",
       "    </tr>\n",
       "    <tr>\n",
       "      <th>21522</th>\n",
       "      <td>1</td>\n",
       "      <td>2113</td>\n",
       "      <td>38.0</td>\n",
       "      <td>1</td>\n",
       "      <td>1</td>\n",
       "      <td>M</td>\n",
       "      <td>сотрудник</td>\n",
       "      <td>1</td>\n",
       "      <td>89672</td>\n",
       "      <td>недвижимость</td>\n",
       "      <td>C</td>\n",
       "    </tr>\n",
       "    <tr>\n",
       "      <th>21523</th>\n",
       "      <td>3</td>\n",
       "      <td>3112</td>\n",
       "      <td>38.0</td>\n",
       "      <td>1</td>\n",
       "      <td>0</td>\n",
       "      <td>M</td>\n",
       "      <td>сотрудник</td>\n",
       "      <td>1</td>\n",
       "      <td>244093</td>\n",
       "      <td>на покупку своего автомобиля</td>\n",
       "      <td>B</td>\n",
       "    </tr>\n",
       "    <tr>\n",
       "      <th>21524</th>\n",
       "      <td>2</td>\n",
       "      <td>1984</td>\n",
       "      <td>40.0</td>\n",
       "      <td>1</td>\n",
       "      <td>0</td>\n",
       "      <td>F</td>\n",
       "      <td>сотрудник</td>\n",
       "      <td>0</td>\n",
       "      <td>82047</td>\n",
       "      <td>на покупку автомобиля</td>\n",
       "      <td>C</td>\n",
       "    </tr>\n",
       "  </tbody>\n",
       "</table>\n",
       "<p>21453 rows × 11 columns</p>\n",
       "</div>"
      ],
      "text/plain": [
       "       children  days_employed  dob_years  education_id  family_status_id  \\\n",
       "0             1           8437       42.0             0                 0   \n",
       "1             1           4024       36.0             1                 0   \n",
       "2             0           5623       33.0             1                 0   \n",
       "3             3           4124       32.0             1                 0   \n",
       "4             0         340266       53.0             1                 1   \n",
       "...         ...            ...        ...           ...               ...   \n",
       "21520         1           4529       43.0             1                 1   \n",
       "21521         0         343937       67.0             1                 0   \n",
       "21522         1           2113       38.0             1                 1   \n",
       "21523         3           3112       38.0             1                 0   \n",
       "21524         2           1984       40.0             1                 0   \n",
       "\n",
       "      gender income_type  debt  total_income                       purpose  \\\n",
       "0          F   сотрудник     0        253875                 покупка жилья   \n",
       "1          F   сотрудник     0        112080       приобретение автомобиля   \n",
       "2          M   сотрудник     0        145885                 покупка жилья   \n",
       "3          M   сотрудник     0        267628    дополнительное образование   \n",
       "4          F   пенсионер     0        158616               сыграть свадьбу   \n",
       "...      ...         ...   ...           ...                           ...   \n",
       "21520      F   компаньон     0        224791             операции с жильем   \n",
       "21521      F   пенсионер     0        155999          сделка с автомобилем   \n",
       "21522      M   сотрудник     1         89672                  недвижимость   \n",
       "21523      M   сотрудник     1        244093  на покупку своего автомобиля   \n",
       "21524      F   сотрудник     0         82047         на покупку автомобиля   \n",
       "\n",
       "      total_income_category  \n",
       "0                         B  \n",
       "1                         C  \n",
       "2                         C  \n",
       "3                         B  \n",
       "4                         C  \n",
       "...                     ...  \n",
       "21520                     B  \n",
       "21521                     C  \n",
       "21522                     C  \n",
       "21523                     B  \n",
       "21524                     C  \n",
       "\n",
       "[21453 rows x 11 columns]"
      ]
     },
     "execution_count": 10,
     "metadata": {},
     "output_type": "execute_result"
    }
   ],
   "source": [
    "def total_income_category(income):\n",
    "    \n",
    "    if income<= 30000:\n",
    "        return 'E'\n",
    "    if 30001 <= income <= 50000:\n",
    "        return 'D'\n",
    "    if 50001 <= income <= 200000:\n",
    "        return 'C'\n",
    "    if 200001 <= income <= 1000000:\n",
    "        return 'B'\n",
    "    return 'A'\n",
    "\n",
    "data['total_income_category'] = data['total_income'].apply(total_income_category)\n",
    "data"
   ]
  },
  {
   "cell_type": "markdown",
   "id": "60d612fa",
   "metadata": {},
   "source": [
    "### Шаг 2.7. Категоризация целей кредита."
   ]
  },
  {
   "cell_type": "code",
   "execution_count": 11,
   "id": "583a75c3",
   "metadata": {},
   "outputs": [
    {
     "data": {
      "text/html": [
       "<div>\n",
       "<style scoped>\n",
       "    .dataframe tbody tr th:only-of-type {\n",
       "        vertical-align: middle;\n",
       "    }\n",
       "\n",
       "    .dataframe tbody tr th {\n",
       "        vertical-align: top;\n",
       "    }\n",
       "\n",
       "    .dataframe thead th {\n",
       "        text-align: right;\n",
       "    }\n",
       "</style>\n",
       "<table border=\"1\" class=\"dataframe\">\n",
       "  <thead>\n",
       "    <tr style=\"text-align: right;\">\n",
       "      <th></th>\n",
       "      <th>children</th>\n",
       "      <th>days_employed</th>\n",
       "      <th>dob_years</th>\n",
       "      <th>education_id</th>\n",
       "      <th>family_status_id</th>\n",
       "      <th>gender</th>\n",
       "      <th>income_type</th>\n",
       "      <th>debt</th>\n",
       "      <th>total_income</th>\n",
       "      <th>purpose</th>\n",
       "      <th>total_income_category</th>\n",
       "      <th>purpose_category</th>\n",
       "    </tr>\n",
       "  </thead>\n",
       "  <tbody>\n",
       "    <tr>\n",
       "      <th>0</th>\n",
       "      <td>1</td>\n",
       "      <td>8437</td>\n",
       "      <td>42.0</td>\n",
       "      <td>0</td>\n",
       "      <td>0</td>\n",
       "      <td>F</td>\n",
       "      <td>сотрудник</td>\n",
       "      <td>0</td>\n",
       "      <td>253875</td>\n",
       "      <td>покупка жилья</td>\n",
       "      <td>B</td>\n",
       "      <td>операции с недвижимостью</td>\n",
       "    </tr>\n",
       "    <tr>\n",
       "      <th>1</th>\n",
       "      <td>1</td>\n",
       "      <td>4024</td>\n",
       "      <td>36.0</td>\n",
       "      <td>1</td>\n",
       "      <td>0</td>\n",
       "      <td>F</td>\n",
       "      <td>сотрудник</td>\n",
       "      <td>0</td>\n",
       "      <td>112080</td>\n",
       "      <td>приобретение автомобиля</td>\n",
       "      <td>C</td>\n",
       "      <td>операции с автомобилем</td>\n",
       "    </tr>\n",
       "    <tr>\n",
       "      <th>2</th>\n",
       "      <td>0</td>\n",
       "      <td>5623</td>\n",
       "      <td>33.0</td>\n",
       "      <td>1</td>\n",
       "      <td>0</td>\n",
       "      <td>M</td>\n",
       "      <td>сотрудник</td>\n",
       "      <td>0</td>\n",
       "      <td>145885</td>\n",
       "      <td>покупка жилья</td>\n",
       "      <td>C</td>\n",
       "      <td>операции с недвижимостью</td>\n",
       "    </tr>\n",
       "    <tr>\n",
       "      <th>3</th>\n",
       "      <td>3</td>\n",
       "      <td>4124</td>\n",
       "      <td>32.0</td>\n",
       "      <td>1</td>\n",
       "      <td>0</td>\n",
       "      <td>M</td>\n",
       "      <td>сотрудник</td>\n",
       "      <td>0</td>\n",
       "      <td>267628</td>\n",
       "      <td>дополнительное образование</td>\n",
       "      <td>B</td>\n",
       "      <td>получение образования</td>\n",
       "    </tr>\n",
       "    <tr>\n",
       "      <th>4</th>\n",
       "      <td>0</td>\n",
       "      <td>340266</td>\n",
       "      <td>53.0</td>\n",
       "      <td>1</td>\n",
       "      <td>1</td>\n",
       "      <td>F</td>\n",
       "      <td>пенсионер</td>\n",
       "      <td>0</td>\n",
       "      <td>158616</td>\n",
       "      <td>сыграть свадьбу</td>\n",
       "      <td>C</td>\n",
       "      <td>проведение свадьбы</td>\n",
       "    </tr>\n",
       "    <tr>\n",
       "      <th>...</th>\n",
       "      <td>...</td>\n",
       "      <td>...</td>\n",
       "      <td>...</td>\n",
       "      <td>...</td>\n",
       "      <td>...</td>\n",
       "      <td>...</td>\n",
       "      <td>...</td>\n",
       "      <td>...</td>\n",
       "      <td>...</td>\n",
       "      <td>...</td>\n",
       "      <td>...</td>\n",
       "      <td>...</td>\n",
       "    </tr>\n",
       "    <tr>\n",
       "      <th>21520</th>\n",
       "      <td>1</td>\n",
       "      <td>4529</td>\n",
       "      <td>43.0</td>\n",
       "      <td>1</td>\n",
       "      <td>1</td>\n",
       "      <td>F</td>\n",
       "      <td>компаньон</td>\n",
       "      <td>0</td>\n",
       "      <td>224791</td>\n",
       "      <td>операции с жильем</td>\n",
       "      <td>B</td>\n",
       "      <td>операции с недвижимостью</td>\n",
       "    </tr>\n",
       "    <tr>\n",
       "      <th>21521</th>\n",
       "      <td>0</td>\n",
       "      <td>343937</td>\n",
       "      <td>67.0</td>\n",
       "      <td>1</td>\n",
       "      <td>0</td>\n",
       "      <td>F</td>\n",
       "      <td>пенсионер</td>\n",
       "      <td>0</td>\n",
       "      <td>155999</td>\n",
       "      <td>сделка с автомобилем</td>\n",
       "      <td>C</td>\n",
       "      <td>операции с автомобилем</td>\n",
       "    </tr>\n",
       "    <tr>\n",
       "      <th>21522</th>\n",
       "      <td>1</td>\n",
       "      <td>2113</td>\n",
       "      <td>38.0</td>\n",
       "      <td>1</td>\n",
       "      <td>1</td>\n",
       "      <td>M</td>\n",
       "      <td>сотрудник</td>\n",
       "      <td>1</td>\n",
       "      <td>89672</td>\n",
       "      <td>недвижимость</td>\n",
       "      <td>C</td>\n",
       "      <td>операции с недвижимостью</td>\n",
       "    </tr>\n",
       "    <tr>\n",
       "      <th>21523</th>\n",
       "      <td>3</td>\n",
       "      <td>3112</td>\n",
       "      <td>38.0</td>\n",
       "      <td>1</td>\n",
       "      <td>0</td>\n",
       "      <td>M</td>\n",
       "      <td>сотрудник</td>\n",
       "      <td>1</td>\n",
       "      <td>244093</td>\n",
       "      <td>на покупку своего автомобиля</td>\n",
       "      <td>B</td>\n",
       "      <td>операции с автомобилем</td>\n",
       "    </tr>\n",
       "    <tr>\n",
       "      <th>21524</th>\n",
       "      <td>2</td>\n",
       "      <td>1984</td>\n",
       "      <td>40.0</td>\n",
       "      <td>1</td>\n",
       "      <td>0</td>\n",
       "      <td>F</td>\n",
       "      <td>сотрудник</td>\n",
       "      <td>0</td>\n",
       "      <td>82047</td>\n",
       "      <td>на покупку автомобиля</td>\n",
       "      <td>C</td>\n",
       "      <td>операции с автомобилем</td>\n",
       "    </tr>\n",
       "  </tbody>\n",
       "</table>\n",
       "<p>21453 rows × 12 columns</p>\n",
       "</div>"
      ],
      "text/plain": [
       "       children  days_employed  dob_years  education_id  family_status_id  \\\n",
       "0             1           8437       42.0             0                 0   \n",
       "1             1           4024       36.0             1                 0   \n",
       "2             0           5623       33.0             1                 0   \n",
       "3             3           4124       32.0             1                 0   \n",
       "4             0         340266       53.0             1                 1   \n",
       "...         ...            ...        ...           ...               ...   \n",
       "21520         1           4529       43.0             1                 1   \n",
       "21521         0         343937       67.0             1                 0   \n",
       "21522         1           2113       38.0             1                 1   \n",
       "21523         3           3112       38.0             1                 0   \n",
       "21524         2           1984       40.0             1                 0   \n",
       "\n",
       "      gender income_type  debt  total_income                       purpose  \\\n",
       "0          F   сотрудник     0        253875                 покупка жилья   \n",
       "1          F   сотрудник     0        112080       приобретение автомобиля   \n",
       "2          M   сотрудник     0        145885                 покупка жилья   \n",
       "3          M   сотрудник     0        267628    дополнительное образование   \n",
       "4          F   пенсионер     0        158616               сыграть свадьбу   \n",
       "...      ...         ...   ...           ...                           ...   \n",
       "21520      F   компаньон     0        224791             операции с жильем   \n",
       "21521      F   пенсионер     0        155999          сделка с автомобилем   \n",
       "21522      M   сотрудник     1         89672                  недвижимость   \n",
       "21523      M   сотрудник     1        244093  на покупку своего автомобиля   \n",
       "21524      F   сотрудник     0         82047         на покупку автомобиля   \n",
       "\n",
       "      total_income_category          purpose_category  \n",
       "0                         B  операции с недвижимостью  \n",
       "1                         C    операции с автомобилем  \n",
       "2                         C  операции с недвижимостью  \n",
       "3                         B     получение образования  \n",
       "4                         C        проведение свадьбы  \n",
       "...                     ...                       ...  \n",
       "21520                     B  операции с недвижимостью  \n",
       "21521                     C    операции с автомобилем  \n",
       "21522                     C  операции с недвижимостью  \n",
       "21523                     B    операции с автомобилем  \n",
       "21524                     C    операции с автомобилем  \n",
       "\n",
       "[21453 rows x 12 columns]"
      ]
     },
     "execution_count": 11,
     "metadata": {},
     "output_type": "execute_result"
    }
   ],
   "source": [
    "def purpose_category (row):\n",
    "    purpose = row['purpose']\n",
    "    if 'авто' in purpose:\n",
    "        return 'операции с автомобилем'\n",
    "    if 'жил' in purpose or 'движ' in purpose:\n",
    "        return 'операции с недвижимостью'\n",
    "    if 'свадьб' in purpose:\n",
    "        return 'проведение свадьбы'\n",
    "    return 'получение образования'\n",
    "data['purpose_category'] = data.apply(purpose_category, axis=1)\n",
    "data\n"
   ]
  },
  {
   "cell_type": "markdown",
   "id": "159bf1dd",
   "metadata": {},
   "source": [
    "### Ответы на вопросы."
   ]
  },
  {
   "cell_type": "markdown",
   "id": "b130c3a7",
   "metadata": {},
   "source": [
    "#### Есть ли зависимость между количеством детей и возвратом кредита в срок?"
   ]
  },
  {
   "cell_type": "code",
   "execution_count": 12,
   "id": "d43e017c",
   "metadata": {
    "scrolled": true
   },
   "outputs": [
    {
     "data": {
      "text/html": [
       "<div>\n",
       "<style scoped>\n",
       "    .dataframe tbody tr th:only-of-type {\n",
       "        vertical-align: middle;\n",
       "    }\n",
       "\n",
       "    .dataframe tbody tr th {\n",
       "        vertical-align: top;\n",
       "    }\n",
       "\n",
       "    .dataframe thead tr th {\n",
       "        text-align: left;\n",
       "    }\n",
       "\n",
       "    .dataframe thead tr:last-of-type th {\n",
       "        text-align: right;\n",
       "    }\n",
       "</style>\n",
       "<table border=\"1\" class=\"dataframe\">\n",
       "  <thead>\n",
       "    <tr>\n",
       "      <th></th>\n",
       "      <th>sum</th>\n",
       "      <th>count</th>\n",
       "      <th>share</th>\n",
       "    </tr>\n",
       "    <tr>\n",
       "      <th></th>\n",
       "      <th>debt</th>\n",
       "      <th>debt</th>\n",
       "      <th></th>\n",
       "    </tr>\n",
       "    <tr>\n",
       "      <th>children</th>\n",
       "      <th></th>\n",
       "      <th></th>\n",
       "      <th></th>\n",
       "    </tr>\n",
       "  </thead>\n",
       "  <tbody>\n",
       "    <tr>\n",
       "      <th>0</th>\n",
       "      <td>1071</td>\n",
       "      <td>14166</td>\n",
       "      <td>0.075604</td>\n",
       "    </tr>\n",
       "    <tr>\n",
       "      <th>1</th>\n",
       "      <td>445</td>\n",
       "      <td>4855</td>\n",
       "      <td>0.091658</td>\n",
       "    </tr>\n",
       "    <tr>\n",
       "      <th>2</th>\n",
       "      <td>194</td>\n",
       "      <td>2052</td>\n",
       "      <td>0.094542</td>\n",
       "    </tr>\n",
       "    <tr>\n",
       "      <th>3</th>\n",
       "      <td>27</td>\n",
       "      <td>330</td>\n",
       "      <td>0.081818</td>\n",
       "    </tr>\n",
       "    <tr>\n",
       "      <th>4</th>\n",
       "      <td>4</td>\n",
       "      <td>41</td>\n",
       "      <td>0.097561</td>\n",
       "    </tr>\n",
       "    <tr>\n",
       "      <th>5</th>\n",
       "      <td>0</td>\n",
       "      <td>9</td>\n",
       "      <td>0.000000</td>\n",
       "    </tr>\n",
       "  </tbody>\n",
       "</table>\n",
       "</div>"
      ],
      "text/plain": [
       "           sum  count     share\n",
       "          debt   debt          \n",
       "children                       \n",
       "0         1071  14166  0.075604\n",
       "1          445   4855  0.091658\n",
       "2          194   2052  0.094542\n",
       "3           27    330  0.081818\n",
       "4            4     41  0.097561\n",
       "5            0      9  0.000000"
      ]
     },
     "execution_count": 12,
     "metadata": {},
     "output_type": "execute_result"
    }
   ],
   "source": [
    "data_children = data.pivot_table(index=['children'], values='debt', aggfunc=['sum', 'count'])\n",
    "data_children['share']=data_children['sum']/data_children['count']\n",
    "data_children"
   ]
  },
  {
   "cell_type": "markdown",
   "id": "ab68d092",
   "metadata": {},
   "source": [
    "**Вывод:** результат показался мне неожиданным - заёмщики, у которых один, двое или четверо детей, не погашают кредит в срок значительно чаще, чем те, у кого трое детей. Но наиболее надёжные клиенты это те, у кого детей нет совсем.\n"
   ]
  },
  {
   "cell_type": "markdown",
   "id": "de60cae0",
   "metadata": {},
   "source": [
    "#### Есть ли зависимость между семейным положением и возвратом кредита в срок?"
   ]
  },
  {
   "cell_type": "code",
   "execution_count": 13,
   "id": "8215e5ff",
   "metadata": {},
   "outputs": [
    {
     "data": {
      "text/html": [
       "<div>\n",
       "<style scoped>\n",
       "    .dataframe tbody tr th:only-of-type {\n",
       "        vertical-align: middle;\n",
       "    }\n",
       "\n",
       "    .dataframe tbody tr th {\n",
       "        vertical-align: top;\n",
       "    }\n",
       "\n",
       "    .dataframe thead tr th {\n",
       "        text-align: left;\n",
       "    }\n",
       "\n",
       "    .dataframe thead tr:last-of-type th {\n",
       "        text-align: right;\n",
       "    }\n",
       "</style>\n",
       "<table border=\"1\" class=\"dataframe\">\n",
       "  <thead>\n",
       "    <tr>\n",
       "      <th></th>\n",
       "      <th>sum</th>\n",
       "      <th>count</th>\n",
       "      <th>share</th>\n",
       "    </tr>\n",
       "    <tr>\n",
       "      <th></th>\n",
       "      <th>debt</th>\n",
       "      <th>debt</th>\n",
       "      <th></th>\n",
       "    </tr>\n",
       "    <tr>\n",
       "      <th>family_status_id</th>\n",
       "      <th></th>\n",
       "      <th></th>\n",
       "      <th></th>\n",
       "    </tr>\n",
       "  </thead>\n",
       "  <tbody>\n",
       "    <tr>\n",
       "      <th>0</th>\n",
       "      <td>931</td>\n",
       "      <td>12339</td>\n",
       "      <td>0.075452</td>\n",
       "    </tr>\n",
       "    <tr>\n",
       "      <th>1</th>\n",
       "      <td>388</td>\n",
       "      <td>4150</td>\n",
       "      <td>0.093494</td>\n",
       "    </tr>\n",
       "    <tr>\n",
       "      <th>2</th>\n",
       "      <td>63</td>\n",
       "      <td>959</td>\n",
       "      <td>0.065693</td>\n",
       "    </tr>\n",
       "    <tr>\n",
       "      <th>3</th>\n",
       "      <td>85</td>\n",
       "      <td>1195</td>\n",
       "      <td>0.071130</td>\n",
       "    </tr>\n",
       "    <tr>\n",
       "      <th>4</th>\n",
       "      <td>274</td>\n",
       "      <td>2810</td>\n",
       "      <td>0.097509</td>\n",
       "    </tr>\n",
       "  </tbody>\n",
       "</table>\n",
       "</div>"
      ],
      "text/plain": [
       "                  sum  count     share\n",
       "                 debt   debt          \n",
       "family_status_id                      \n",
       "0                 931  12339  0.075452\n",
       "1                 388   4150  0.093494\n",
       "2                  63    959  0.065693\n",
       "3                  85   1195  0.071130\n",
       "4                 274   2810  0.097509"
      ]
     },
     "metadata": {},
     "output_type": "display_data"
    },
    {
     "data": {
      "text/plain": [
       "family_status          family_status_id\n",
       "женат / замужем        0                   12339\n",
       "гражданский брак       1                    4150\n",
       "Не женат / не замужем  4                    2810\n",
       "в разводе              3                    1195\n",
       "вдовец / вдова         2                     959\n",
       "dtype: int64"
      ]
     },
     "execution_count": 13,
     "metadata": {},
     "output_type": "execute_result"
    }
   ],
   "source": [
    "data_family = data.pivot_table(index=['family_status_id'], values='debt', aggfunc=['sum', 'count'])\n",
    "data_family['share']=data_family['sum']/data_family['count']\n",
    "display(data_family)\n",
    "new_data_2.value_counts()"
   ]
  },
  {
   "cell_type": "markdown",
   "id": "40ca962f",
   "metadata": {},
   "source": [
    "**Вывод:** чаще всего кредит не возвращают в срок те, кто не женат/не замужем, на втором месте те, кто состоит в гражданском браке, затем идут те, кто состоит в официальном браке, и те, кто в разводе. Вдовцы и вдовы - самые добросовестные заёмщики. "
   ]
  },
  {
   "cell_type": "markdown",
   "id": "978f9f3a",
   "metadata": {},
   "source": [
    "#### Есть ли зависимость между уровнем дохода и возвратом кредита в срок?"
   ]
  },
  {
   "cell_type": "code",
   "execution_count": 14,
   "id": "3c7e9ad5",
   "metadata": {},
   "outputs": [
    {
     "data": {
      "text/html": [
       "<div>\n",
       "<style scoped>\n",
       "    .dataframe tbody tr th:only-of-type {\n",
       "        vertical-align: middle;\n",
       "    }\n",
       "\n",
       "    .dataframe tbody tr th {\n",
       "        vertical-align: top;\n",
       "    }\n",
       "\n",
       "    .dataframe thead tr th {\n",
       "        text-align: left;\n",
       "    }\n",
       "\n",
       "    .dataframe thead tr:last-of-type th {\n",
       "        text-align: right;\n",
       "    }\n",
       "</style>\n",
       "<table border=\"1\" class=\"dataframe\">\n",
       "  <thead>\n",
       "    <tr>\n",
       "      <th></th>\n",
       "      <th>sum</th>\n",
       "      <th>count</th>\n",
       "      <th>share</th>\n",
       "    </tr>\n",
       "    <tr>\n",
       "      <th></th>\n",
       "      <th>debt</th>\n",
       "      <th>debt</th>\n",
       "      <th></th>\n",
       "    </tr>\n",
       "    <tr>\n",
       "      <th>total_income_category</th>\n",
       "      <th></th>\n",
       "      <th></th>\n",
       "      <th></th>\n",
       "    </tr>\n",
       "  </thead>\n",
       "  <tbody>\n",
       "    <tr>\n",
       "      <th>A</th>\n",
       "      <td>2</td>\n",
       "      <td>25</td>\n",
       "      <td>0.080000</td>\n",
       "    </tr>\n",
       "    <tr>\n",
       "      <th>B</th>\n",
       "      <td>356</td>\n",
       "      <td>5041</td>\n",
       "      <td>0.070621</td>\n",
       "    </tr>\n",
       "    <tr>\n",
       "      <th>C</th>\n",
       "      <td>1360</td>\n",
       "      <td>16015</td>\n",
       "      <td>0.084920</td>\n",
       "    </tr>\n",
       "    <tr>\n",
       "      <th>D</th>\n",
       "      <td>21</td>\n",
       "      <td>350</td>\n",
       "      <td>0.060000</td>\n",
       "    </tr>\n",
       "    <tr>\n",
       "      <th>E</th>\n",
       "      <td>2</td>\n",
       "      <td>22</td>\n",
       "      <td>0.090909</td>\n",
       "    </tr>\n",
       "  </tbody>\n",
       "</table>\n",
       "</div>"
      ],
      "text/plain": [
       "                        sum  count     share\n",
       "                       debt   debt          \n",
       "total_income_category                       \n",
       "A                         2     25  0.080000\n",
       "B                       356   5041  0.070621\n",
       "C                      1360  16015  0.084920\n",
       "D                        21    350  0.060000\n",
       "E                         2     22  0.090909"
      ]
     },
     "execution_count": 14,
     "metadata": {},
     "output_type": "execute_result"
    }
   ],
   "source": [
    "data_income = data.pivot_table(index=['total_income_category'], values='debt', aggfunc=['sum', 'count'])\n",
    "data_income['share']=data_income['sum']/data_income['count']\n",
    "data_income"
   ]
  },
  {
   "cell_type": "markdown",
   "id": "a131ee98",
   "metadata": {},
   "source": [
    "**Вывод:** клиенты с самым высоким доходом, как ни странно, только на третьем месте по своевременному погашению кредита. Чаще всего погашают кредит вовремя клиенты с рейтингом D и B (это те, кто зарабатывает 30-50 т.р. и 200-1000 т.р. соответственно), за ними идут клиенты с рейтингом C (50-200 т.р.). Среди клиентов с низким доходом доля задолженностей выше всего (но разница с теми, кто относится к категории C, не так велика, как можно было ожидать)"
   ]
  },
  {
   "cell_type": "markdown",
   "id": "99a19139",
   "metadata": {},
   "source": [
    "#### Как разные цели кредита влияют на его возврат в срок?"
   ]
  },
  {
   "cell_type": "code",
   "execution_count": 15,
   "id": "896891bb",
   "metadata": {},
   "outputs": [
    {
     "data": {
      "text/html": [
       "<div>\n",
       "<style scoped>\n",
       "    .dataframe tbody tr th:only-of-type {\n",
       "        vertical-align: middle;\n",
       "    }\n",
       "\n",
       "    .dataframe tbody tr th {\n",
       "        vertical-align: top;\n",
       "    }\n",
       "\n",
       "    .dataframe thead tr th {\n",
       "        text-align: left;\n",
       "    }\n",
       "\n",
       "    .dataframe thead tr:last-of-type th {\n",
       "        text-align: right;\n",
       "    }\n",
       "</style>\n",
       "<table border=\"1\" class=\"dataframe\">\n",
       "  <thead>\n",
       "    <tr>\n",
       "      <th></th>\n",
       "      <th>sum</th>\n",
       "      <th>count</th>\n",
       "      <th>share</th>\n",
       "    </tr>\n",
       "    <tr>\n",
       "      <th></th>\n",
       "      <th>debt</th>\n",
       "      <th>debt</th>\n",
       "      <th></th>\n",
       "    </tr>\n",
       "    <tr>\n",
       "      <th>purpose_category</th>\n",
       "      <th></th>\n",
       "      <th></th>\n",
       "      <th></th>\n",
       "    </tr>\n",
       "  </thead>\n",
       "  <tbody>\n",
       "    <tr>\n",
       "      <th>операции с автомобилем</th>\n",
       "      <td>403</td>\n",
       "      <td>4306</td>\n",
       "      <td>0.093590</td>\n",
       "    </tr>\n",
       "    <tr>\n",
       "      <th>операции с недвижимостью</th>\n",
       "      <td>782</td>\n",
       "      <td>10811</td>\n",
       "      <td>0.072334</td>\n",
       "    </tr>\n",
       "    <tr>\n",
       "      <th>получение образования</th>\n",
       "      <td>370</td>\n",
       "      <td>4013</td>\n",
       "      <td>0.092200</td>\n",
       "    </tr>\n",
       "    <tr>\n",
       "      <th>проведение свадьбы</th>\n",
       "      <td>186</td>\n",
       "      <td>2323</td>\n",
       "      <td>0.080069</td>\n",
       "    </tr>\n",
       "  </tbody>\n",
       "</table>\n",
       "</div>"
      ],
      "text/plain": [
       "                          sum  count     share\n",
       "                         debt   debt          \n",
       "purpose_category                              \n",
       "операции с автомобилем    403   4306  0.093590\n",
       "операции с недвижимостью  782  10811  0.072334\n",
       "получение образования     370   4013  0.092200\n",
       "проведение свадьбы        186   2323  0.080069"
      ]
     },
     "metadata": {},
     "output_type": "display_data"
    },
    {
     "data": {
      "text/plain": [
       "операции с недвижимостью    10811\n",
       "операции с автомобилем       4306\n",
       "получение образования        4013\n",
       "проведение свадьбы           2323\n",
       "Name: purpose_category, dtype: int64"
      ]
     },
     "execution_count": 15,
     "metadata": {},
     "output_type": "execute_result"
    }
   ],
   "source": [
    "data_purpose = data.pivot_table(index=['purpose_category'], values='debt', aggfunc=['sum', 'count'])\n",
    "data_purpose['share']=data_purpose['sum']/data_purpose['count']\n",
    "display(data_purpose)\n",
    "data['purpose_category'].value_counts()"
   ]
  },
  {
   "cell_type": "markdown",
   "id": "fb65ada6",
   "metadata": {},
   "source": [
    "**Вывод:** больше всего задолженностей по кредитам на операции с автомобилем и получение образования, меньше всего - по кредитам на проведение свадьбы и операции с недвижимостью. "
   ]
  },
  {
   "cell_type": "markdown",
   "id": "206eebff",
   "metadata": {},
   "source": [
    "## Общий вывод:"
   ]
  },
  {
   "cell_type": "markdown",
   "id": "ba123561",
   "metadata": {},
   "source": [
    "Когда банк хочет оценить платёжеспособность клиента, нужно учитывать несколько параметров в совокупности, на основании каждого из них можно, например, присваивать потенциальным заёмщикам некоторое количество баллов. В целом, можно выделить следующие закономерности: \n",
    "* люди, которые состоят/ранее состояли в официальном браке, склонны более дисциплинированно платить по долгам; \n",
    "* более высокий доход не вегда имплицирует высокую вероятность выплаты кредита в срок: возможно, величина дохода, взятая сама по себе, это недостаточно информативный признак, нужно посмотреть, какую часть дохода клиент отдаёт на погашение кредитов; \n",
    "* кредиты на проведение свадьбы и получение образования чаще других не выплачиваются в срок, возможно, это связано с тем, что их берут молодые и менее ответственные заёмщики; \n",
    "* клиенты, у которых детей нет, и те, у кого их трое, чаще погашают кредит в срок (это может быть связано с тем, что за третьего ребёнка можно получить не только федеральный, но и региональный материнский капитал)"
   ]
  }
 ],
 "metadata": {
  "ExecuteTimeLog": [
   {
    "duration": 448,
    "start_time": "2022-04-26T17:32:18.051Z"
   },
   {
    "duration": 13,
    "start_time": "2022-04-26T17:33:11.493Z"
   },
   {
    "duration": 22,
    "start_time": "2022-04-26T17:34:53.582Z"
   },
   {
    "duration": 8,
    "start_time": "2022-04-26T17:35:17.192Z"
   },
   {
    "duration": 4,
    "start_time": "2022-04-26T17:35:51.112Z"
   },
   {
    "duration": 6,
    "start_time": "2022-04-26T17:37:34.548Z"
   },
   {
    "duration": 7,
    "start_time": "2022-04-26T17:37:59.604Z"
   },
   {
    "duration": 7,
    "start_time": "2022-04-26T17:38:30.760Z"
   },
   {
    "duration": 8,
    "start_time": "2022-04-26T17:40:17.292Z"
   },
   {
    "duration": 3313,
    "start_time": "2022-04-26T17:50:00.522Z"
   },
   {
    "duration": 21,
    "start_time": "2022-04-26T17:50:38.018Z"
   },
   {
    "duration": 28,
    "start_time": "2022-04-26T18:08:25.787Z"
   },
   {
    "duration": 8,
    "start_time": "2022-04-26T18:12:56.357Z"
   },
   {
    "duration": 13,
    "start_time": "2022-04-26T18:17:16.382Z"
   },
   {
    "duration": 11,
    "start_time": "2022-04-26T18:18:00.580Z"
   },
   {
    "duration": 174,
    "start_time": "2022-04-26T18:21:14.300Z"
   },
   {
    "duration": 9,
    "start_time": "2022-04-26T18:21:24.639Z"
   },
   {
    "duration": 10,
    "start_time": "2022-04-26T18:23:15.957Z"
   },
   {
    "duration": 12,
    "start_time": "2022-04-26T18:29:18.012Z"
   },
   {
    "duration": 13,
    "start_time": "2022-04-26T18:30:51.380Z"
   },
   {
    "duration": 11,
    "start_time": "2022-04-26T18:31:52.573Z"
   },
   {
    "duration": 9,
    "start_time": "2022-04-26T18:33:04.933Z"
   },
   {
    "duration": 4,
    "start_time": "2022-04-26T18:33:18.241Z"
   },
   {
    "duration": 24,
    "start_time": "2022-04-26T18:39:25.583Z"
   },
   {
    "duration": 30,
    "start_time": "2022-04-26T18:42:07.247Z"
   },
   {
    "duration": 35,
    "start_time": "2022-04-26T18:42:35.578Z"
   },
   {
    "duration": 12,
    "start_time": "2022-04-26T20:16:58.622Z"
   },
   {
    "duration": 18,
    "start_time": "2022-04-26T20:17:26.656Z"
   },
   {
    "duration": 14,
    "start_time": "2022-04-26T20:18:06.406Z"
   },
   {
    "duration": 17,
    "start_time": "2022-04-26T20:25:24.362Z"
   },
   {
    "duration": 27,
    "start_time": "2022-04-26T20:26:00.524Z"
   },
   {
    "duration": 24,
    "start_time": "2022-04-26T20:26:45.828Z"
   },
   {
    "duration": 22,
    "start_time": "2022-04-26T20:27:01.198Z"
   },
   {
    "duration": 71,
    "start_time": "2022-04-27T18:10:52.752Z"
   },
   {
    "duration": 491,
    "start_time": "2022-04-27T18:11:30.389Z"
   },
   {
    "duration": 21,
    "start_time": "2022-04-27T18:11:35.371Z"
   },
   {
    "duration": 29,
    "start_time": "2022-04-27T18:11:39.752Z"
   },
   {
    "duration": 8,
    "start_time": "2022-04-27T18:11:42.743Z"
   },
   {
    "duration": 31,
    "start_time": "2022-04-27T18:11:45.766Z"
   },
   {
    "duration": 0,
    "start_time": "2022-04-27T18:11:51.537Z"
   },
   {
    "duration": 0,
    "start_time": "2022-04-27T18:11:56.836Z"
   },
   {
    "duration": 2952,
    "start_time": "2022-04-27T18:12:05.184Z"
   },
   {
    "duration": 2714,
    "start_time": "2022-04-27T18:13:33.275Z"
   },
   {
    "duration": 10,
    "start_time": "2022-04-27T18:13:49.260Z"
   },
   {
    "duration": 10,
    "start_time": "2022-04-27T18:14:06.293Z"
   },
   {
    "duration": 7,
    "start_time": "2022-04-27T18:18:17.468Z"
   },
   {
    "duration": 9,
    "start_time": "2022-04-27T18:19:05.955Z"
   },
   {
    "duration": 1681,
    "start_time": "2022-04-27T18:19:20.048Z"
   },
   {
    "duration": 22,
    "start_time": "2022-04-27T18:19:34.767Z"
   },
   {
    "duration": 43,
    "start_time": "2022-04-27T18:20:01.608Z"
   },
   {
    "duration": 39,
    "start_time": "2022-04-27T18:20:39.260Z"
   },
   {
    "duration": 52,
    "start_time": "2022-04-27T18:21:09.104Z"
   },
   {
    "duration": 6,
    "start_time": "2022-04-27T18:23:50.440Z"
   },
   {
    "duration": 28,
    "start_time": "2022-04-27T18:24:03.818Z"
   },
   {
    "duration": 9,
    "start_time": "2022-04-27T18:24:40.487Z"
   },
   {
    "duration": 9,
    "start_time": "2022-04-27T18:24:47.380Z"
   },
   {
    "duration": 8,
    "start_time": "2022-04-27T18:24:57.965Z"
   },
   {
    "duration": 8,
    "start_time": "2022-04-27T18:25:01.354Z"
   },
   {
    "duration": 9,
    "start_time": "2022-04-27T18:26:11.079Z"
   },
   {
    "duration": 9,
    "start_time": "2022-04-27T18:26:28.931Z"
   },
   {
    "duration": 7,
    "start_time": "2022-04-27T18:27:46.409Z"
   },
   {
    "duration": 9,
    "start_time": "2022-04-27T18:27:53.994Z"
   },
   {
    "duration": 77,
    "start_time": "2022-04-27T18:28:07.644Z"
   },
   {
    "duration": 16,
    "start_time": "2022-04-27T18:28:17.923Z"
   },
   {
    "duration": 22,
    "start_time": "2022-04-27T18:30:18.843Z"
   },
   {
    "duration": 11,
    "start_time": "2022-04-27T18:30:30.649Z"
   },
   {
    "duration": 11,
    "start_time": "2022-04-27T18:31:06.085Z"
   },
   {
    "duration": 12,
    "start_time": "2022-04-27T18:31:41.913Z"
   },
   {
    "duration": 12,
    "start_time": "2022-04-27T18:34:14.130Z"
   },
   {
    "duration": 10,
    "start_time": "2022-04-27T18:35:59.753Z"
   },
   {
    "duration": 10,
    "start_time": "2022-04-27T18:36:06.905Z"
   },
   {
    "duration": 10,
    "start_time": "2022-04-27T18:36:35.757Z"
   },
   {
    "duration": 104,
    "start_time": "2022-04-27T18:37:35.847Z"
   },
   {
    "duration": 20,
    "start_time": "2022-04-27T18:37:39.396Z"
   },
   {
    "duration": 23,
    "start_time": "2022-04-27T18:37:43.039Z"
   },
   {
    "duration": 58,
    "start_time": "2022-04-27T18:37:49.996Z"
   },
   {
    "duration": 6,
    "start_time": "2022-04-27T18:37:54.059Z"
   },
   {
    "duration": 8,
    "start_time": "2022-04-27T18:37:59.748Z"
   },
   {
    "duration": 11,
    "start_time": "2022-04-27T18:38:05.085Z"
   },
   {
    "duration": 17,
    "start_time": "2022-04-27T18:38:16.129Z"
   },
   {
    "duration": 10,
    "start_time": "2022-04-27T18:41:23.019Z"
   },
   {
    "duration": 10,
    "start_time": "2022-04-27T18:41:32.313Z"
   },
   {
    "duration": 151,
    "start_time": "2022-04-27T18:49:10.582Z"
   },
   {
    "duration": 43,
    "start_time": "2022-04-27T18:49:21.540Z"
   },
   {
    "duration": 664,
    "start_time": "2022-04-27T18:49:58.659Z"
   },
   {
    "duration": 20,
    "start_time": "2022-04-27T18:50:24.325Z"
   },
   {
    "duration": 102,
    "start_time": "2022-04-27T18:53:05.358Z"
   },
   {
    "duration": 20,
    "start_time": "2022-04-27T18:53:10.632Z"
   },
   {
    "duration": 24,
    "start_time": "2022-04-27T18:53:14.827Z"
   },
   {
    "duration": 3,
    "start_time": "2022-04-27T18:53:28.269Z"
   },
   {
    "duration": 39,
    "start_time": "2022-04-27T18:53:34.021Z"
   },
   {
    "duration": 7,
    "start_time": "2022-04-27T18:53:39.547Z"
   },
   {
    "duration": 142,
    "start_time": "2022-04-27T18:53:43.793Z"
   },
   {
    "duration": 18,
    "start_time": "2022-04-27T18:53:55.696Z"
   },
   {
    "duration": 502,
    "start_time": "2022-04-27T19:01:13.850Z"
   },
   {
    "duration": 21,
    "start_time": "2022-04-27T19:01:14.354Z"
   },
   {
    "duration": 164,
    "start_time": "2022-04-27T19:01:14.377Z"
   },
   {
    "duration": 0,
    "start_time": "2022-04-27T19:01:14.545Z"
   },
   {
    "duration": 0,
    "start_time": "2022-04-27T19:01:14.547Z"
   },
   {
    "duration": 0,
    "start_time": "2022-04-27T19:01:14.548Z"
   },
   {
    "duration": 0,
    "start_time": "2022-04-27T19:01:14.549Z"
   },
   {
    "duration": 0,
    "start_time": "2022-04-27T19:01:14.551Z"
   },
   {
    "duration": 446,
    "start_time": "2022-04-27T19:01:57.770Z"
   },
   {
    "duration": 26,
    "start_time": "2022-04-27T19:01:58.218Z"
   },
   {
    "duration": 25,
    "start_time": "2022-04-27T19:01:58.246Z"
   },
   {
    "duration": 3,
    "start_time": "2022-04-27T19:01:58.273Z"
   },
   {
    "duration": 66,
    "start_time": "2022-04-27T19:01:58.278Z"
   },
   {
    "duration": 21,
    "start_time": "2022-04-27T19:01:58.346Z"
   },
   {
    "duration": 160,
    "start_time": "2022-04-27T19:01:58.368Z"
   },
   {
    "duration": 75,
    "start_time": "2022-04-27T19:03:33.790Z"
   },
   {
    "duration": 19,
    "start_time": "2022-04-27T19:04:08.545Z"
   },
   {
    "duration": 505,
    "start_time": "2022-04-27T19:04:16.982Z"
   },
   {
    "duration": 20,
    "start_time": "2022-04-27T19:04:17.490Z"
   },
   {
    "duration": 40,
    "start_time": "2022-04-27T19:04:17.512Z"
   },
   {
    "duration": 4,
    "start_time": "2022-04-27T19:04:17.554Z"
   },
   {
    "duration": 68,
    "start_time": "2022-04-27T19:04:17.560Z"
   },
   {
    "duration": 26,
    "start_time": "2022-04-27T19:04:17.630Z"
   },
   {
    "duration": 181,
    "start_time": "2022-04-27T19:04:17.658Z"
   },
   {
    "duration": 485,
    "start_time": "2022-04-27T19:05:18.081Z"
   },
   {
    "duration": 30,
    "start_time": "2022-04-27T19:05:18.569Z"
   },
   {
    "duration": 52,
    "start_time": "2022-04-27T19:05:18.602Z"
   },
   {
    "duration": 4,
    "start_time": "2022-04-27T19:05:18.657Z"
   },
   {
    "duration": 39,
    "start_time": "2022-04-27T19:05:18.662Z"
   },
   {
    "duration": 43,
    "start_time": "2022-04-27T19:05:18.702Z"
   },
   {
    "duration": 187,
    "start_time": "2022-04-27T19:05:18.747Z"
   },
   {
    "duration": 559,
    "start_time": "2022-04-27T19:34:39.663Z"
   },
   {
    "duration": 24,
    "start_time": "2022-04-27T19:34:40.224Z"
   },
   {
    "duration": 27,
    "start_time": "2022-04-27T19:34:40.250Z"
   },
   {
    "duration": 4,
    "start_time": "2022-04-27T19:34:40.279Z"
   },
   {
    "duration": 81,
    "start_time": "2022-04-27T19:34:40.285Z"
   },
   {
    "duration": 21,
    "start_time": "2022-04-27T19:34:40.368Z"
   },
   {
    "duration": 182,
    "start_time": "2022-04-27T19:34:40.391Z"
   },
   {
    "duration": 92,
    "start_time": "2022-04-27T19:34:40.575Z"
   },
   {
    "duration": 477,
    "start_time": "2022-04-27T19:35:07.053Z"
   },
   {
    "duration": 31,
    "start_time": "2022-04-27T19:35:07.534Z"
   },
   {
    "duration": 27,
    "start_time": "2022-04-27T19:35:07.567Z"
   },
   {
    "duration": 4,
    "start_time": "2022-04-27T19:35:07.596Z"
   },
   {
    "duration": 45,
    "start_time": "2022-04-27T19:35:07.626Z"
   },
   {
    "duration": 22,
    "start_time": "2022-04-27T19:35:07.673Z"
   },
   {
    "duration": 186,
    "start_time": "2022-04-27T19:35:07.697Z"
   },
   {
    "duration": 146,
    "start_time": "2022-04-27T19:35:07.885Z"
   },
   {
    "duration": 490,
    "start_time": "2022-04-27T19:35:20.739Z"
   },
   {
    "duration": 28,
    "start_time": "2022-04-27T19:35:21.232Z"
   },
   {
    "duration": 32,
    "start_time": "2022-04-27T19:35:21.262Z"
   },
   {
    "duration": 28,
    "start_time": "2022-04-27T19:35:21.297Z"
   },
   {
    "duration": 48,
    "start_time": "2022-04-27T19:35:21.329Z"
   },
   {
    "duration": 50,
    "start_time": "2022-04-27T19:35:21.379Z"
   },
   {
    "duration": 167,
    "start_time": "2022-04-27T19:35:21.431Z"
   },
   {
    "duration": 175,
    "start_time": "2022-04-27T19:35:21.600Z"
   },
   {
    "duration": 510,
    "start_time": "2022-04-27T19:35:33.300Z"
   },
   {
    "duration": 26,
    "start_time": "2022-04-27T19:35:33.813Z"
   },
   {
    "duration": 35,
    "start_time": "2022-04-27T19:35:33.843Z"
   },
   {
    "duration": 5,
    "start_time": "2022-04-27T19:35:33.880Z"
   },
   {
    "duration": 91,
    "start_time": "2022-04-27T19:35:33.887Z"
   },
   {
    "duration": 29,
    "start_time": "2022-04-27T19:35:33.980Z"
   },
   {
    "duration": 252,
    "start_time": "2022-04-27T19:35:34.011Z"
   },
   {
    "duration": 235,
    "start_time": "2022-04-27T19:35:34.265Z"
   },
   {
    "duration": 423,
    "start_time": "2022-04-27T19:45:37.069Z"
   },
   {
    "duration": 26,
    "start_time": "2022-04-27T19:45:37.495Z"
   },
   {
    "duration": 35,
    "start_time": "2022-04-27T19:45:37.523Z"
   },
   {
    "duration": 4,
    "start_time": "2022-04-27T19:45:37.561Z"
   },
   {
    "duration": 82,
    "start_time": "2022-04-27T19:45:37.567Z"
   },
   {
    "duration": 23,
    "start_time": "2022-04-27T19:45:37.651Z"
   },
   {
    "duration": 173,
    "start_time": "2022-04-27T19:45:37.676Z"
   },
   {
    "duration": 153,
    "start_time": "2022-04-27T19:45:37.850Z"
   },
   {
    "duration": 36,
    "start_time": "2022-04-27T19:45:38.004Z"
   },
   {
    "duration": 501,
    "start_time": "2022-04-27T19:47:13.317Z"
   },
   {
    "duration": 26,
    "start_time": "2022-04-27T19:47:13.820Z"
   },
   {
    "duration": 19,
    "start_time": "2022-04-27T19:47:13.848Z"
   },
   {
    "duration": 4,
    "start_time": "2022-04-27T19:47:13.870Z"
   },
   {
    "duration": 83,
    "start_time": "2022-04-27T19:47:13.876Z"
   },
   {
    "duration": 24,
    "start_time": "2022-04-27T19:47:13.961Z"
   },
   {
    "duration": 205,
    "start_time": "2022-04-27T19:47:13.987Z"
   },
   {
    "duration": 251,
    "start_time": "2022-04-27T19:47:14.193Z"
   },
   {
    "duration": 33,
    "start_time": "2022-04-27T19:47:14.446Z"
   },
   {
    "duration": 678,
    "start_time": "2022-04-28T17:08:07.754Z"
   },
   {
    "duration": 30,
    "start_time": "2022-04-28T17:08:08.435Z"
   },
   {
    "duration": 60,
    "start_time": "2022-04-28T17:08:08.468Z"
   },
   {
    "duration": 6,
    "start_time": "2022-04-28T17:08:08.531Z"
   },
   {
    "duration": 74,
    "start_time": "2022-04-28T17:08:08.539Z"
   },
   {
    "duration": 37,
    "start_time": "2022-04-28T17:08:08.628Z"
   },
   {
    "duration": 435,
    "start_time": "2022-04-28T17:08:08.668Z"
   },
   {
    "duration": 432,
    "start_time": "2022-04-28T17:08:09.105Z"
   },
   {
    "duration": 51,
    "start_time": "2022-04-28T17:08:09.539Z"
   },
   {
    "duration": 76,
    "start_time": "2022-04-28T17:08:09.594Z"
   },
   {
    "duration": 714,
    "start_time": "2022-04-28T17:09:18.996Z"
   },
   {
    "duration": 45,
    "start_time": "2022-04-28T17:09:19.713Z"
   },
   {
    "duration": 41,
    "start_time": "2022-04-28T17:09:19.761Z"
   },
   {
    "duration": 43,
    "start_time": "2022-04-28T17:09:19.806Z"
   },
   {
    "duration": 107,
    "start_time": "2022-04-28T17:09:19.852Z"
   },
   {
    "duration": 62,
    "start_time": "2022-04-28T17:09:19.962Z"
   },
   {
    "duration": 276,
    "start_time": "2022-04-28T17:09:20.027Z"
   },
   {
    "duration": 285,
    "start_time": "2022-04-28T17:09:20.306Z"
   },
   {
    "duration": 54,
    "start_time": "2022-04-28T17:09:20.593Z"
   },
   {
    "duration": 34,
    "start_time": "2022-04-28T17:09:20.651Z"
   },
   {
    "duration": 654,
    "start_time": "2022-04-28T17:10:14.303Z"
   },
   {
    "duration": 29,
    "start_time": "2022-04-28T17:10:14.960Z"
   },
   {
    "duration": 59,
    "start_time": "2022-04-28T17:10:14.992Z"
   },
   {
    "duration": 5,
    "start_time": "2022-04-28T17:10:15.055Z"
   },
   {
    "duration": 95,
    "start_time": "2022-04-28T17:10:15.062Z"
   },
   {
    "duration": 43,
    "start_time": "2022-04-28T17:10:15.160Z"
   },
   {
    "duration": 267,
    "start_time": "2022-04-28T17:10:15.232Z"
   },
   {
    "duration": 277,
    "start_time": "2022-04-28T17:10:15.501Z"
   },
   {
    "duration": 55,
    "start_time": "2022-04-28T17:10:15.780Z"
   },
   {
    "duration": 153,
    "start_time": "2022-04-28T17:10:15.839Z"
   },
   {
    "duration": 786,
    "start_time": "2022-04-28T17:10:55.261Z"
   },
   {
    "duration": 32,
    "start_time": "2022-04-28T17:10:56.050Z"
   },
   {
    "duration": 58,
    "start_time": "2022-04-28T17:10:56.085Z"
   },
   {
    "duration": 6,
    "start_time": "2022-04-28T17:10:56.147Z"
   },
   {
    "duration": 116,
    "start_time": "2022-04-28T17:10:56.156Z"
   },
   {
    "duration": 56,
    "start_time": "2022-04-28T17:10:56.274Z"
   },
   {
    "duration": 271,
    "start_time": "2022-04-28T17:10:56.333Z"
   },
   {
    "duration": 276,
    "start_time": "2022-04-28T17:10:56.606Z"
   },
   {
    "duration": 54,
    "start_time": "2022-04-28T17:10:56.885Z"
   },
   {
    "duration": 136,
    "start_time": "2022-04-28T17:10:56.943Z"
   },
   {
    "duration": 599,
    "start_time": "2022-04-28T17:11:21.467Z"
   },
   {
    "duration": 31,
    "start_time": "2022-04-28T17:11:22.069Z"
   },
   {
    "duration": 54,
    "start_time": "2022-04-28T17:11:22.103Z"
   },
   {
    "duration": 6,
    "start_time": "2022-04-28T17:11:22.163Z"
   },
   {
    "duration": 99,
    "start_time": "2022-04-28T17:11:22.171Z"
   },
   {
    "duration": 69,
    "start_time": "2022-04-28T17:11:22.274Z"
   },
   {
    "duration": 451,
    "start_time": "2022-04-28T17:11:22.349Z"
   },
   {
    "duration": 497,
    "start_time": "2022-04-28T17:11:22.803Z"
   },
   {
    "duration": 60,
    "start_time": "2022-04-28T17:11:23.304Z"
   },
   {
    "duration": 71,
    "start_time": "2022-04-28T17:11:23.369Z"
   },
   {
    "duration": 831,
    "start_time": "2022-04-28T17:11:44.007Z"
   },
   {
    "duration": 30,
    "start_time": "2022-04-28T17:11:44.841Z"
   },
   {
    "duration": 54,
    "start_time": "2022-04-28T17:11:44.873Z"
   },
   {
    "duration": 11,
    "start_time": "2022-04-28T17:11:44.929Z"
   },
   {
    "duration": 82,
    "start_time": "2022-04-28T17:11:44.942Z"
   },
   {
    "duration": 49,
    "start_time": "2022-04-28T17:11:45.027Z"
   },
   {
    "duration": 291,
    "start_time": "2022-04-28T17:11:45.079Z"
   },
   {
    "duration": 280,
    "start_time": "2022-04-28T17:11:45.373Z"
   },
   {
    "duration": 39,
    "start_time": "2022-04-28T17:11:45.658Z"
   },
   {
    "duration": 83,
    "start_time": "2022-04-28T17:11:45.702Z"
   },
   {
    "duration": 690,
    "start_time": "2022-04-28T17:14:35.837Z"
   },
   {
    "duration": 46,
    "start_time": "2022-04-28T17:14:36.530Z"
   },
   {
    "duration": 72,
    "start_time": "2022-04-28T17:14:36.579Z"
   },
   {
    "duration": 5,
    "start_time": "2022-04-28T17:14:36.654Z"
   },
   {
    "duration": 91,
    "start_time": "2022-04-28T17:14:36.662Z"
   },
   {
    "duration": 49,
    "start_time": "2022-04-28T17:14:36.756Z"
   },
   {
    "duration": 288,
    "start_time": "2022-04-28T17:14:36.808Z"
   },
   {
    "duration": 427,
    "start_time": "2022-04-28T17:14:37.099Z"
   },
   {
    "duration": 40,
    "start_time": "2022-04-28T17:14:37.529Z"
   },
   {
    "duration": 96,
    "start_time": "2022-04-28T17:14:37.573Z"
   },
   {
    "duration": 46,
    "start_time": "2022-04-28T17:14:37.671Z"
   },
   {
    "duration": 634,
    "start_time": "2022-04-28T17:17:43.626Z"
   },
   {
    "duration": 32,
    "start_time": "2022-04-28T17:17:44.264Z"
   },
   {
    "duration": 61,
    "start_time": "2022-04-28T17:17:44.298Z"
   },
   {
    "duration": 6,
    "start_time": "2022-04-28T17:17:44.361Z"
   },
   {
    "duration": 94,
    "start_time": "2022-04-28T17:17:44.370Z"
   },
   {
    "duration": 36,
    "start_time": "2022-04-28T17:17:44.467Z"
   },
   {
    "duration": 297,
    "start_time": "2022-04-28T17:17:44.506Z"
   },
   {
    "duration": 293,
    "start_time": "2022-04-28T17:17:44.805Z"
   },
   {
    "duration": 61,
    "start_time": "2022-04-28T17:17:45.101Z"
   },
   {
    "duration": 76,
    "start_time": "2022-04-28T17:17:45.167Z"
   },
   {
    "duration": 39,
    "start_time": "2022-04-28T17:17:45.246Z"
   },
   {
    "duration": 70,
    "start_time": "2022-04-28T17:17:45.288Z"
   },
   {
    "duration": 34,
    "start_time": "2022-04-28T17:33:01.669Z"
   },
   {
    "duration": 615,
    "start_time": "2022-04-28T17:46:19.233Z"
   },
   {
    "duration": 27,
    "start_time": "2022-04-28T17:46:19.851Z"
   },
   {
    "duration": 61,
    "start_time": "2022-04-28T17:46:19.880Z"
   },
   {
    "duration": 5,
    "start_time": "2022-04-28T17:46:19.944Z"
   },
   {
    "duration": 84,
    "start_time": "2022-04-28T17:46:19.952Z"
   },
   {
    "duration": 36,
    "start_time": "2022-04-28T17:46:20.038Z"
   },
   {
    "duration": 284,
    "start_time": "2022-04-28T17:46:20.077Z"
   },
   {
    "duration": 276,
    "start_time": "2022-04-28T17:46:20.363Z"
   },
   {
    "duration": 35,
    "start_time": "2022-04-28T17:46:20.641Z"
   },
   {
    "duration": 71,
    "start_time": "2022-04-28T17:46:20.680Z"
   },
   {
    "duration": 36,
    "start_time": "2022-04-28T17:46:20.753Z"
   },
   {
    "duration": 58,
    "start_time": "2022-04-28T17:46:20.792Z"
   },
   {
    "duration": 864,
    "start_time": "2022-04-28T18:16:22.511Z"
   },
   {
    "duration": 45,
    "start_time": "2022-04-28T18:16:23.379Z"
   },
   {
    "duration": 43,
    "start_time": "2022-04-28T18:16:23.428Z"
   },
   {
    "duration": 6,
    "start_time": "2022-04-28T18:16:23.476Z"
   },
   {
    "duration": 96,
    "start_time": "2022-04-28T18:16:23.485Z"
   },
   {
    "duration": 54,
    "start_time": "2022-04-28T18:16:23.583Z"
   },
   {
    "duration": 279,
    "start_time": "2022-04-28T18:16:23.639Z"
   },
   {
    "duration": 469,
    "start_time": "2022-04-28T18:16:23.920Z"
   },
   {
    "duration": 65,
    "start_time": "2022-04-28T18:16:24.392Z"
   },
   {
    "duration": 73,
    "start_time": "2022-04-28T18:16:24.461Z"
   },
   {
    "duration": 52,
    "start_time": "2022-04-28T18:16:24.537Z"
   },
   {
    "duration": 77,
    "start_time": "2022-04-28T18:16:24.592Z"
   },
   {
    "duration": 262,
    "start_time": "2022-04-28T18:18:23.808Z"
   },
   {
    "duration": 7,
    "start_time": "2022-04-28T19:11:51.040Z"
   },
   {
    "duration": 5,
    "start_time": "2022-04-28T19:16:48.210Z"
   },
   {
    "duration": 5,
    "start_time": "2022-04-28T19:16:53.590Z"
   },
   {
    "duration": 263,
    "start_time": "2022-04-28T19:18:24.800Z"
   },
   {
    "duration": 600,
    "start_time": "2022-04-28T19:19:24.647Z"
   },
   {
    "duration": 27,
    "start_time": "2022-04-28T19:19:25.249Z"
   },
   {
    "duration": 61,
    "start_time": "2022-04-28T19:19:25.279Z"
   },
   {
    "duration": 6,
    "start_time": "2022-04-28T19:19:25.343Z"
   },
   {
    "duration": 85,
    "start_time": "2022-04-28T19:19:25.351Z"
   },
   {
    "duration": 34,
    "start_time": "2022-04-28T19:19:25.439Z"
   },
   {
    "duration": 295,
    "start_time": "2022-04-28T19:19:25.475Z"
   },
   {
    "duration": 286,
    "start_time": "2022-04-28T19:19:25.772Z"
   },
   {
    "duration": 35,
    "start_time": "2022-04-28T19:19:26.060Z"
   },
   {
    "duration": 75,
    "start_time": "2022-04-28T19:19:26.098Z"
   },
   {
    "duration": 51,
    "start_time": "2022-04-28T19:19:26.175Z"
   },
   {
    "duration": 46,
    "start_time": "2022-04-28T19:19:26.228Z"
   },
   {
    "duration": 42,
    "start_time": "2022-04-28T19:27:30.189Z"
   },
   {
    "duration": 601,
    "start_time": "2022-05-04T06:09:22.038Z"
   },
   {
    "duration": 36,
    "start_time": "2022-05-04T06:14:03.336Z"
   },
   {
    "duration": 22,
    "start_time": "2022-05-04T06:15:29.961Z"
   },
   {
    "duration": 20,
    "start_time": "2022-05-04T06:15:53.554Z"
   },
   {
    "duration": 19,
    "start_time": "2022-05-04T06:16:01.499Z"
   },
   {
    "duration": 68,
    "start_time": "2022-05-04T06:23:17.591Z"
   },
   {
    "duration": 14,
    "start_time": "2022-05-04T06:23:25.628Z"
   },
   {
    "duration": 465,
    "start_time": "2022-05-04T06:24:30.625Z"
   },
   {
    "duration": 8,
    "start_time": "2022-05-04T06:25:26.384Z"
   },
   {
    "duration": 7,
    "start_time": "2022-05-04T06:27:32.856Z"
   },
   {
    "duration": 262,
    "start_time": "2022-05-04T06:27:36.147Z"
   },
   {
    "duration": 46,
    "start_time": "2022-05-04T06:27:48.642Z"
   },
   {
    "duration": 46,
    "start_time": "2022-05-04T06:28:18.090Z"
   },
   {
    "duration": 40,
    "start_time": "2022-05-04T06:28:46.265Z"
   },
   {
    "duration": 712,
    "start_time": "2022-05-04T06:33:05.332Z"
   },
   {
    "duration": 29,
    "start_time": "2022-05-04T06:33:06.047Z"
   },
   {
    "duration": 42,
    "start_time": "2022-05-04T06:33:06.079Z"
   },
   {
    "duration": 25,
    "start_time": "2022-05-04T06:33:06.151Z"
   },
   {
    "duration": 6,
    "start_time": "2022-05-04T06:33:06.179Z"
   },
   {
    "duration": 103,
    "start_time": "2022-05-04T06:33:06.188Z"
   },
   {
    "duration": 38,
    "start_time": "2022-05-04T06:33:06.293Z"
   },
   {
    "duration": 326,
    "start_time": "2022-05-04T06:33:06.333Z"
   },
   {
    "duration": 283,
    "start_time": "2022-05-04T06:33:06.661Z"
   },
   {
    "duration": 35,
    "start_time": "2022-05-04T06:33:06.952Z"
   },
   {
    "duration": 69,
    "start_time": "2022-05-04T06:33:06.989Z"
   },
   {
    "duration": 38,
    "start_time": "2022-05-04T06:33:07.060Z"
   },
   {
    "duration": 76,
    "start_time": "2022-05-04T06:33:07.100Z"
   },
   {
    "duration": 71,
    "start_time": "2022-05-07T12:25:54.247Z"
   },
   {
    "duration": 575,
    "start_time": "2022-05-07T12:26:05.810Z"
   },
   {
    "duration": 27,
    "start_time": "2022-05-07T12:26:06.388Z"
   },
   {
    "duration": 35,
    "start_time": "2022-05-07T12:26:06.418Z"
   },
   {
    "duration": 47,
    "start_time": "2022-05-07T12:26:06.456Z"
   },
   {
    "duration": 5,
    "start_time": "2022-05-07T12:26:06.505Z"
   },
   {
    "duration": 113,
    "start_time": "2022-05-07T12:26:06.513Z"
   },
   {
    "duration": 115,
    "start_time": "2022-05-07T12:26:06.628Z"
   },
   {
    "duration": 0,
    "start_time": "2022-05-07T12:26:06.745Z"
   },
   {
    "duration": 0,
    "start_time": "2022-05-07T12:26:06.747Z"
   },
   {
    "duration": 0,
    "start_time": "2022-05-07T12:26:06.748Z"
   },
   {
    "duration": 0,
    "start_time": "2022-05-07T12:26:06.750Z"
   },
   {
    "duration": 0,
    "start_time": "2022-05-07T12:26:06.751Z"
   },
   {
    "duration": 0,
    "start_time": "2022-05-07T12:26:06.752Z"
   },
   {
    "duration": 682,
    "start_time": "2022-05-07T13:50:36.705Z"
   },
   {
    "duration": 45,
    "start_time": "2022-05-07T13:50:37.390Z"
   },
   {
    "duration": 39,
    "start_time": "2022-05-07T13:50:37.437Z"
   },
   {
    "duration": 47,
    "start_time": "2022-05-07T13:50:37.479Z"
   },
   {
    "duration": 5,
    "start_time": "2022-05-07T13:50:37.528Z"
   },
   {
    "duration": 68,
    "start_time": "2022-05-07T13:50:37.535Z"
   },
   {
    "duration": 137,
    "start_time": "2022-05-07T13:50:37.605Z"
   },
   {
    "duration": 0,
    "start_time": "2022-05-07T13:50:37.744Z"
   },
   {
    "duration": 0,
    "start_time": "2022-05-07T13:50:37.746Z"
   },
   {
    "duration": 0,
    "start_time": "2022-05-07T13:50:37.747Z"
   },
   {
    "duration": 0,
    "start_time": "2022-05-07T13:50:37.749Z"
   },
   {
    "duration": 0,
    "start_time": "2022-05-07T13:50:37.750Z"
   },
   {
    "duration": 0,
    "start_time": "2022-05-07T13:50:37.751Z"
   },
   {
    "duration": 17,
    "start_time": "2022-05-07T13:52:19.806Z"
   },
   {
    "duration": 615,
    "start_time": "2022-05-07T13:53:13.008Z"
   },
   {
    "duration": 26,
    "start_time": "2022-05-07T13:53:13.626Z"
   },
   {
    "duration": 32,
    "start_time": "2022-05-07T13:53:13.654Z"
   },
   {
    "duration": 51,
    "start_time": "2022-05-07T13:53:13.690Z"
   },
   {
    "duration": 6,
    "start_time": "2022-05-07T13:53:13.743Z"
   },
   {
    "duration": 84,
    "start_time": "2022-05-07T13:53:13.751Z"
   },
   {
    "duration": 117,
    "start_time": "2022-05-07T13:53:13.837Z"
   },
   {
    "duration": 0,
    "start_time": "2022-05-07T13:53:13.957Z"
   },
   {
    "duration": 0,
    "start_time": "2022-05-07T13:53:13.959Z"
   },
   {
    "duration": 0,
    "start_time": "2022-05-07T13:53:13.961Z"
   },
   {
    "duration": 0,
    "start_time": "2022-05-07T13:53:13.963Z"
   },
   {
    "duration": 0,
    "start_time": "2022-05-07T13:53:13.966Z"
   },
   {
    "duration": 0,
    "start_time": "2022-05-07T13:53:13.968Z"
   },
   {
    "duration": 19,
    "start_time": "2022-05-07T13:56:48.278Z"
   },
   {
    "duration": 15,
    "start_time": "2022-05-07T13:57:10.131Z"
   },
   {
    "duration": 624,
    "start_time": "2022-05-07T13:57:26.509Z"
   },
   {
    "duration": 27,
    "start_time": "2022-05-07T13:57:27.136Z"
   },
   {
    "duration": 65,
    "start_time": "2022-05-07T13:57:27.166Z"
   },
   {
    "duration": 24,
    "start_time": "2022-05-07T13:57:27.234Z"
   },
   {
    "duration": 5,
    "start_time": "2022-05-07T13:57:27.260Z"
   },
   {
    "duration": 92,
    "start_time": "2022-05-07T13:57:27.267Z"
   },
   {
    "duration": 24,
    "start_time": "2022-05-07T13:57:27.361Z"
   },
   {
    "duration": 214,
    "start_time": "2022-05-07T13:57:27.388Z"
   },
   {
    "duration": 0,
    "start_time": "2022-05-07T13:57:27.606Z"
   },
   {
    "duration": 0,
    "start_time": "2022-05-07T13:57:27.607Z"
   },
   {
    "duration": 0,
    "start_time": "2022-05-07T13:57:27.609Z"
   },
   {
    "duration": 0,
    "start_time": "2022-05-07T13:57:27.611Z"
   },
   {
    "duration": 0,
    "start_time": "2022-05-07T13:57:27.624Z"
   },
   {
    "duration": 253,
    "start_time": "2022-05-07T13:57:51.968Z"
   },
   {
    "duration": 17,
    "start_time": "2022-05-07T13:58:19.196Z"
   },
   {
    "duration": 638,
    "start_time": "2022-05-07T13:58:33.784Z"
   },
   {
    "duration": 30,
    "start_time": "2022-05-07T13:58:34.425Z"
   },
   {
    "duration": 34,
    "start_time": "2022-05-07T13:58:34.457Z"
   },
   {
    "duration": 53,
    "start_time": "2022-05-07T13:58:34.494Z"
   },
   {
    "duration": 6,
    "start_time": "2022-05-07T13:58:34.550Z"
   },
   {
    "duration": 126,
    "start_time": "2022-05-07T13:58:34.558Z"
   },
   {
    "duration": 44,
    "start_time": "2022-05-07T13:58:34.686Z"
   },
   {
    "duration": 272,
    "start_time": "2022-05-07T13:58:34.732Z"
   },
   {
    "duration": 298,
    "start_time": "2022-05-07T13:58:35.006Z"
   },
   {
    "duration": 48,
    "start_time": "2022-05-07T13:58:35.308Z"
   },
   {
    "duration": 73,
    "start_time": "2022-05-07T13:58:35.358Z"
   },
   {
    "duration": 40,
    "start_time": "2022-05-07T13:58:35.434Z"
   },
   {
    "duration": 76,
    "start_time": "2022-05-07T13:58:35.477Z"
   },
   {
    "duration": 35,
    "start_time": "2022-05-07T14:00:24.496Z"
   },
   {
    "duration": 24,
    "start_time": "2022-05-07T14:11:17.232Z"
   },
   {
    "duration": 687,
    "start_time": "2022-05-07T14:11:31.216Z"
   },
   {
    "duration": 36,
    "start_time": "2022-05-07T14:11:31.907Z"
   },
   {
    "duration": 51,
    "start_time": "2022-05-07T14:11:31.945Z"
   },
   {
    "duration": 44,
    "start_time": "2022-05-07T14:11:32.000Z"
   },
   {
    "duration": 5,
    "start_time": "2022-05-07T14:11:32.047Z"
   },
   {
    "duration": 90,
    "start_time": "2022-05-07T14:11:32.054Z"
   },
   {
    "duration": 21,
    "start_time": "2022-05-07T14:11:32.146Z"
   },
   {
    "duration": 286,
    "start_time": "2022-05-07T14:11:32.169Z"
   },
   {
    "duration": 286,
    "start_time": "2022-05-07T14:11:32.457Z"
   },
   {
    "duration": 48,
    "start_time": "2022-05-07T14:11:32.747Z"
   },
   {
    "duration": 85,
    "start_time": "2022-05-07T14:11:32.798Z"
   },
   {
    "duration": 83,
    "start_time": "2022-05-07T14:11:32.886Z"
   },
   {
    "duration": 57,
    "start_time": "2022-05-07T14:11:32.971Z"
   },
   {
    "duration": 50,
    "start_time": "2022-11-06T11:20:31.242Z"
   },
   {
    "duration": 772,
    "start_time": "2022-11-06T11:20:40.259Z"
   },
   {
    "duration": 28,
    "start_time": "2022-11-06T11:20:41.033Z"
   },
   {
    "duration": 55,
    "start_time": "2022-11-06T11:20:41.063Z"
   },
   {
    "duration": 15,
    "start_time": "2022-11-06T11:20:41.120Z"
   },
   {
    "duration": 34,
    "start_time": "2022-11-06T11:20:41.137Z"
   },
   {
    "duration": 48,
    "start_time": "2022-11-06T11:20:41.173Z"
   },
   {
    "duration": 24,
    "start_time": "2022-11-06T11:20:41.229Z"
   },
   {
    "duration": 212,
    "start_time": "2022-11-06T11:20:41.255Z"
   },
   {
    "duration": 194,
    "start_time": "2022-11-06T11:20:41.468Z"
   },
   {
    "duration": 33,
    "start_time": "2022-11-06T11:20:41.666Z"
   },
   {
    "duration": 62,
    "start_time": "2022-11-06T11:20:41.701Z"
   },
   {
    "duration": 40,
    "start_time": "2022-11-06T11:20:41.765Z"
   },
   {
    "duration": 68,
    "start_time": "2022-11-06T11:20:41.807Z"
   },
   {
    "duration": 8,
    "start_time": "2022-11-06T11:27:22.651Z"
   },
   {
    "duration": 6,
    "start_time": "2022-11-06T11:27:49.180Z"
   },
   {
    "duration": 1169,
    "start_time": "2022-11-06T11:31:10.711Z"
   },
   {
    "duration": 524,
    "start_time": "2022-11-06T11:31:58.554Z"
   },
   {
    "duration": 28,
    "start_time": "2022-11-06T11:31:59.081Z"
   },
   {
    "duration": 48,
    "start_time": "2022-11-06T11:31:59.110Z"
   },
   {
    "duration": 17,
    "start_time": "2022-11-06T11:31:59.160Z"
   },
   {
    "duration": 10,
    "start_time": "2022-11-06T11:31:59.180Z"
   },
   {
    "duration": 20,
    "start_time": "2022-11-06T11:31:59.193Z"
   },
   {
    "duration": 42,
    "start_time": "2022-11-06T11:31:59.215Z"
   },
   {
    "duration": 55,
    "start_time": "2022-11-06T11:31:59.259Z"
   },
   {
    "duration": 26,
    "start_time": "2022-11-06T11:31:59.316Z"
   },
   {
    "duration": 208,
    "start_time": "2022-11-06T11:31:59.344Z"
   },
   {
    "duration": 185,
    "start_time": "2022-11-06T11:31:59.554Z"
   },
   {
    "duration": 29,
    "start_time": "2022-11-06T11:31:59.744Z"
   },
   {
    "duration": 29,
    "start_time": "2022-11-06T11:31:59.775Z"
   },
   {
    "duration": 37,
    "start_time": "2022-11-06T11:31:59.824Z"
   },
   {
    "duration": 56,
    "start_time": "2022-11-06T11:31:59.863Z"
   },
   {
    "duration": 81,
    "start_time": "2022-11-06T11:34:13.433Z"
   },
   {
    "duration": 9,
    "start_time": "2022-11-06T11:34:48.553Z"
   },
   {
    "duration": 10,
    "start_time": "2022-11-06T11:35:39.058Z"
   },
   {
    "duration": 12,
    "start_time": "2022-11-06T11:36:53.965Z"
   },
   {
    "duration": 36,
    "start_time": "2022-11-06T11:39:32.815Z"
   },
   {
    "duration": 14,
    "start_time": "2022-11-06T11:46:43.949Z"
   },
   {
    "duration": 15,
    "start_time": "2022-11-06T11:47:13.950Z"
   },
   {
    "duration": 26,
    "start_time": "2022-11-06T11:47:56.876Z"
   },
   {
    "duration": 503,
    "start_time": "2022-11-06T11:48:30.446Z"
   },
   {
    "duration": 21,
    "start_time": "2022-11-06T11:48:30.952Z"
   },
   {
    "duration": 33,
    "start_time": "2022-11-06T11:48:30.975Z"
   },
   {
    "duration": 17,
    "start_time": "2022-11-06T11:48:31.011Z"
   },
   {
    "duration": 27,
    "start_time": "2022-11-06T11:48:31.037Z"
   },
   {
    "duration": 19,
    "start_time": "2022-11-06T11:48:31.066Z"
   },
   {
    "duration": 11,
    "start_time": "2022-11-06T11:48:31.087Z"
   },
   {
    "duration": 58,
    "start_time": "2022-11-06T11:48:31.100Z"
   },
   {
    "duration": 14,
    "start_time": "2022-11-06T11:48:31.160Z"
   },
   {
    "duration": 33,
    "start_time": "2022-11-06T11:48:31.176Z"
   },
   {
    "duration": 181,
    "start_time": "2022-11-06T11:48:31.229Z"
   },
   {
    "duration": 33,
    "start_time": "2022-11-06T11:48:31.411Z"
   },
   {
    "duration": 33,
    "start_time": "2022-11-06T11:48:31.450Z"
   },
   {
    "duration": 24,
    "start_time": "2022-11-06T11:48:31.484Z"
   },
   {
    "duration": 45,
    "start_time": "2022-11-06T11:48:31.510Z"
   }
  ],
  "kernelspec": {
   "display_name": "Python 3 (ipykernel)",
   "language": "python",
   "name": "python3"
  },
  "language_info": {
   "codemirror_mode": {
    "name": "ipython",
    "version": 3
   },
   "file_extension": ".py",
   "mimetype": "text/x-python",
   "name": "python",
   "nbconvert_exporter": "python",
   "pygments_lexer": "ipython3",
   "version": "3.9.5"
  },
  "toc": {
   "base_numbering": 1,
   "nav_menu": {},
   "number_sections": true,
   "sideBar": true,
   "skip_h1_title": true,
   "title_cell": "Table of Contents",
   "title_sidebar": "Contents",
   "toc_cell": false,
   "toc_position": {},
   "toc_section_display": true,
   "toc_window_display": false
  }
 },
 "nbformat": 4,
 "nbformat_minor": 5
}
